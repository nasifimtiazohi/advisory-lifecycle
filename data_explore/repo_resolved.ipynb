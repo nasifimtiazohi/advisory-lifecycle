{
 "metadata": {
  "language_info": {
   "codemirror_mode": {
    "name": "ipython",
    "version": 3
   },
   "file_extension": ".py",
   "mimetype": "text/x-python",
   "name": "python",
   "nbconvert_exporter": "python",
   "pygments_lexer": "ipython3",
   "version": "3.9.2-final"
  },
  "orig_nbformat": 2,
  "kernelspec": {
   "name": "python392jvsc74a57bd045e6bb90db539892217150e51eb80500a9bf028439c0d739bd24c7b8d42327c6",
   "display_name": "Python 3.9.2 64-bit ('advisory-lifecycle': pipenv)",
   "language": "python"
  },
  "metadata": {
   "interpreter": {
    "hash": "aee8b7b246df8f9039afb4144a1f6fd8d2ca17a180786b69acc140d282b71a49"
   }
  }
 },
 "nbformat": 4,
 "nbformat_minor": 2,
 "cells": [
  {
   "cell_type": "code",
   "execution_count": 2,
   "metadata": {},
   "outputs": [],
   "source": [
    "import sys\n",
    "import sql\n",
    "import pandas as pd\n",
    "from functools import reduce\n",
    "from tabulate import tabulate\n",
    "import datetime\n",
    "import matplotlib.pyplot as plt\n",
    "import seaborn as sns"
   ]
  },
  {
   "cell_type": "code",
   "execution_count": 3,
   "metadata": {},
   "outputs": [],
   "source": [
    "q='''select t1.ecosystem as ecosystem, advisories, advisory_with_CVEs, packages, fixing_releases\n",
    "from\n",
    "(select ecosystem, count(distinct a.id) as advisories, count(distinct p.id) as packages, count(distinct advisory_id, version) as fixing_releases\n",
    "from advisory a\n",
    "join package p on a.package_id = p.id\n",
    "join fixing_releases fr on a.id = fr.advisory_id\n",
    "where type != 'Malicious Package'\n",
    "and version != 'manual checkup needed'\n",
    "and ecosystem != 'cocoapods'\n",
    "and repository_url != 'no repository listed'\n",
    "group by ecosystem) as t1\n",
    "join\n",
    "(select ecosystem, count(distinct a.id) as advisory_with_CVEs\n",
    "from advisoryCVE aC\n",
    "join advisory a on aC.advisory_id = a.id\n",
    "join fixing_releases fr on a.id = fr.advisory_id\n",
    "join package p on a.package_id = p.id\n",
    "where type != 'Malicious Package'\n",
    "and version != 'manual checkup needed'\n",
    "and ecosystem != 'cocoapods'\n",
    "and repository_url != 'no repository listed'\n",
    "group by ecosystem) as t2\n",
    "on t1.ecosystem = t2.ecosystem\n",
    "order by advisories desc;'''\n",
    "df = pd.DataFrame(sql.execute(q))"
   ]
  },
  {
   "cell_type": "code",
   "execution_count": 4,
   "metadata": {},
   "outputs": [
    {
     "output_type": "execute_result",
     "data": {
      "text/plain": [
       "  ecosystem  advisories  advisory_with_CVEs  packages  fixing_releases\n",
       "0     Maven        1370                1128       692             1946\n",
       "1  Composer         855                 599       228             1733\n",
       "2       npm         792                 474       540              949\n",
       "3       pip         565                 404       268              832\n",
       "4     NuGet         333                 277        92              410\n",
       "5        Go         235                 190       183              325\n",
       "6  RubyGems         221                 168       121              364"
      ],
      "text/html": "<div>\n<style scoped>\n    .dataframe tbody tr th:only-of-type {\n        vertical-align: middle;\n    }\n\n    .dataframe tbody tr th {\n        vertical-align: top;\n    }\n\n    .dataframe thead th {\n        text-align: right;\n    }\n</style>\n<table border=\"1\" class=\"dataframe\">\n  <thead>\n    <tr style=\"text-align: right;\">\n      <th></th>\n      <th>ecosystem</th>\n      <th>advisories</th>\n      <th>advisory_with_CVEs</th>\n      <th>packages</th>\n      <th>fixing_releases</th>\n    </tr>\n  </thead>\n  <tbody>\n    <tr>\n      <th>0</th>\n      <td>Maven</td>\n      <td>1370</td>\n      <td>1128</td>\n      <td>692</td>\n      <td>1946</td>\n    </tr>\n    <tr>\n      <th>1</th>\n      <td>Composer</td>\n      <td>855</td>\n      <td>599</td>\n      <td>228</td>\n      <td>1733</td>\n    </tr>\n    <tr>\n      <th>2</th>\n      <td>npm</td>\n      <td>792</td>\n      <td>474</td>\n      <td>540</td>\n      <td>949</td>\n    </tr>\n    <tr>\n      <th>3</th>\n      <td>pip</td>\n      <td>565</td>\n      <td>404</td>\n      <td>268</td>\n      <td>832</td>\n    </tr>\n    <tr>\n      <th>4</th>\n      <td>NuGet</td>\n      <td>333</td>\n      <td>277</td>\n      <td>92</td>\n      <td>410</td>\n    </tr>\n    <tr>\n      <th>5</th>\n      <td>Go</td>\n      <td>235</td>\n      <td>190</td>\n      <td>183</td>\n      <td>325</td>\n    </tr>\n    <tr>\n      <th>6</th>\n      <td>RubyGems</td>\n      <td>221</td>\n      <td>168</td>\n      <td>121</td>\n      <td>364</td>\n    </tr>\n  </tbody>\n</table>\n</div>"
     },
     "metadata": {},
     "execution_count": 4
    }
   ],
   "source": [
    "df"
   ]
  },
  {
   "cell_type": "code",
   "execution_count": 5,
   "metadata": {},
   "outputs": [
    {
     "output_type": "execute_result",
     "data": {
      "text/plain": [
       "           cwe\n",
       "ecosystem     \n",
       "Composer    68\n",
       "Go          50\n",
       "Maven      112\n",
       "NuGet       34\n",
       "RubyGems    47\n",
       "npm         82\n",
       "pip         84"
      ],
      "text/html": "<div>\n<style scoped>\n    .dataframe tbody tr th:only-of-type {\n        vertical-align: middle;\n    }\n\n    .dataframe tbody tr th {\n        vertical-align: top;\n    }\n\n    .dataframe thead th {\n        text-align: right;\n    }\n</style>\n<table border=\"1\" class=\"dataframe\">\n  <thead>\n    <tr style=\"text-align: right;\">\n      <th></th>\n      <th>cwe</th>\n    </tr>\n    <tr>\n      <th>ecosystem</th>\n      <th></th>\n    </tr>\n  </thead>\n  <tbody>\n    <tr>\n      <th>Composer</th>\n      <td>68</td>\n    </tr>\n    <tr>\n      <th>Go</th>\n      <td>50</td>\n    </tr>\n    <tr>\n      <th>Maven</th>\n      <td>112</td>\n    </tr>\n    <tr>\n      <th>NuGet</th>\n      <td>34</td>\n    </tr>\n    <tr>\n      <th>RubyGems</th>\n      <td>47</td>\n    </tr>\n    <tr>\n      <th>npm</th>\n      <td>82</td>\n    </tr>\n    <tr>\n      <th>pip</th>\n      <td>84</td>\n    </tr>\n  </tbody>\n</table>\n</div>"
     },
     "metadata": {},
     "execution_count": 5
    }
   ],
   "source": [
    "q = '''select ecosystem, ac.cwe as cwe\n",
    "from advisory a\n",
    "join package p on a.package_id = p.id\n",
    "join fixing_releases fr on a.id = fr.advisory_id\n",
    "join advisoryCWE aC on a.id = aC.advisory_id\n",
    "where type != 'Malicious Package'\n",
    "and version != 'manual checkup needed'\n",
    "and ecosystem != 'cocoapods'\n",
    "and repository_url != 'no repository listed';'''\n",
    "cwe = pd.DataFrame(sql.execute(q))\n",
    "total_cwes = cwe['cwe'].nunique()\n",
    "cwe = cwe.groupby('ecosystem')[['cwe']].nunique()\n",
    "cwe\n"
   ]
  },
  {
   "cell_type": "code",
   "execution_count": 6,
   "metadata": {},
   "outputs": [
    {
     "output_type": "execute_result",
     "data": {
      "text/plain": [
       "  ecosystem  advisories  advisory_with_CVEs  packages  fixing_releases  cwe\n",
       "0     Maven        1370                1128       692             1946  112\n",
       "1  Composer         855                 599       228             1733   68\n",
       "2       npm         792                 474       540              949   82\n",
       "3       pip         565                 404       268              832   84\n",
       "4     NuGet         333                 277        92              410   34\n",
       "5        Go         235                 190       183              325   50\n",
       "6  RubyGems         221                 168       121              364   47"
      ],
      "text/html": "<div>\n<style scoped>\n    .dataframe tbody tr th:only-of-type {\n        vertical-align: middle;\n    }\n\n    .dataframe tbody tr th {\n        vertical-align: top;\n    }\n\n    .dataframe thead th {\n        text-align: right;\n    }\n</style>\n<table border=\"1\" class=\"dataframe\">\n  <thead>\n    <tr style=\"text-align: right;\">\n      <th></th>\n      <th>ecosystem</th>\n      <th>advisories</th>\n      <th>advisory_with_CVEs</th>\n      <th>packages</th>\n      <th>fixing_releases</th>\n      <th>cwe</th>\n    </tr>\n  </thead>\n  <tbody>\n    <tr>\n      <th>0</th>\n      <td>Maven</td>\n      <td>1370</td>\n      <td>1128</td>\n      <td>692</td>\n      <td>1946</td>\n      <td>112</td>\n    </tr>\n    <tr>\n      <th>1</th>\n      <td>Composer</td>\n      <td>855</td>\n      <td>599</td>\n      <td>228</td>\n      <td>1733</td>\n      <td>68</td>\n    </tr>\n    <tr>\n      <th>2</th>\n      <td>npm</td>\n      <td>792</td>\n      <td>474</td>\n      <td>540</td>\n      <td>949</td>\n      <td>82</td>\n    </tr>\n    <tr>\n      <th>3</th>\n      <td>pip</td>\n      <td>565</td>\n      <td>404</td>\n      <td>268</td>\n      <td>832</td>\n      <td>84</td>\n    </tr>\n    <tr>\n      <th>4</th>\n      <td>NuGet</td>\n      <td>333</td>\n      <td>277</td>\n      <td>92</td>\n      <td>410</td>\n      <td>34</td>\n    </tr>\n    <tr>\n      <th>5</th>\n      <td>Go</td>\n      <td>235</td>\n      <td>190</td>\n      <td>183</td>\n      <td>325</td>\n      <td>50</td>\n    </tr>\n    <tr>\n      <th>6</th>\n      <td>RubyGems</td>\n      <td>221</td>\n      <td>168</td>\n      <td>121</td>\n      <td>364</td>\n      <td>47</td>\n    </tr>\n  </tbody>\n</table>\n</div>"
     },
     "metadata": {},
     "execution_count": 6
    }
   ],
   "source": [
    "df=reduce(lambda x,y : pd.merge(x,y,on='ecosystem'),[df, cwe])\n",
    "df.reset_index()\n",
    "df"
   ]
  },
  {
   "cell_type": "code",
   "execution_count": 7,
   "metadata": {},
   "outputs": [],
   "source": [
    "df.loc[len(df)]=['Total',df['advisories'].sum(),df['advisory_with_CVEs'].sum(),df['packages'].sum(), df['fixing_releases'].sum(), total_cwes] \n",
    "table = df"
   ]
  },
  {
   "cell_type": "code",
   "execution_count": 8,
   "metadata": {},
   "outputs": [
    {
     "output_type": "execute_result",
     "data": {
      "text/plain": [
       "  ecosystem            severity\n",
       "0  Composer  (0.04, 0.53, 0.43)\n",
       "1        Go   (0.06, 0.54, 0.4)\n",
       "2     Maven  (0.05, 0.54, 0.41)\n",
       "3     NuGet  (0.02, 0.33, 0.66)\n",
       "4  RubyGems  (0.03, 0.59, 0.38)\n",
       "5       npm  (0.05, 0.47, 0.48)\n",
       "6       pip  (0.06, 0.62, 0.32)\n",
       "8     Total  (0.05, 0.52, 0.43)"
      ],
      "text/html": "<div>\n<style scoped>\n    .dataframe tbody tr th:only-of-type {\n        vertical-align: middle;\n    }\n\n    .dataframe tbody tr th {\n        vertical-align: top;\n    }\n\n    .dataframe thead th {\n        text-align: right;\n    }\n</style>\n<table border=\"1\" class=\"dataframe\">\n  <thead>\n    <tr style=\"text-align: right;\">\n      <th></th>\n      <th>ecosystem</th>\n      <th>severity</th>\n    </tr>\n  </thead>\n  <tbody>\n    <tr>\n      <th>0</th>\n      <td>Composer</td>\n      <td>(0.04, 0.53, 0.43)</td>\n    </tr>\n    <tr>\n      <th>1</th>\n      <td>Go</td>\n      <td>(0.06, 0.54, 0.4)</td>\n    </tr>\n    <tr>\n      <th>2</th>\n      <td>Maven</td>\n      <td>(0.05, 0.54, 0.41)</td>\n    </tr>\n    <tr>\n      <th>3</th>\n      <td>NuGet</td>\n      <td>(0.02, 0.33, 0.66)</td>\n    </tr>\n    <tr>\n      <th>4</th>\n      <td>RubyGems</td>\n      <td>(0.03, 0.59, 0.38)</td>\n    </tr>\n    <tr>\n      <th>5</th>\n      <td>npm</td>\n      <td>(0.05, 0.47, 0.48)</td>\n    </tr>\n    <tr>\n      <th>6</th>\n      <td>pip</td>\n      <td>(0.06, 0.62, 0.32)</td>\n    </tr>\n    <tr>\n      <th>8</th>\n      <td>Total</td>\n      <td>(0.05, 0.52, 0.43)</td>\n    </tr>\n  </tbody>\n</table>\n</div>"
     },
     "metadata": {},
     "execution_count": 8
    }
   ],
   "source": [
    "q = '''select distinct a.id, p.ecosystem, a.severity\n",
    "from advisory a\n",
    "join package p on a.package_id = p.id\n",
    "join fixing_releases fr on a.id = fr.advisory_id\n",
    "join advisoryCWE aC on a.id = aC.advisory_id\n",
    "where type != 'Malicious Package'\n",
    "and version != 'manual checkup needed'\n",
    "and ecosystem != 'cocoapods'\n",
    "and repository_url != 'no repository listed';'''\n",
    "sev = pd.DataFrame(sql.execute(q))\n",
    "l, m, h = sev[sev['severity']=='L'],sev[sev['severity']=='M'],sev[sev['severity']=='H']\n",
    "eco_l = l.groupby('ecosystem')[['severity']].count()\n",
    "eco_l = eco_l.rename(columns={'severity':'L'})\n",
    "eco_m = m.groupby('ecosystem')[['severity']].count()\n",
    "eco_m = eco_m.rename(columns={'severity':'M'})\n",
    "eco_h = h.groupby('ecosystem')[['severity']].count()\n",
    "eco_h = eco_h.rename(columns={'severity':'H'})\n",
    "sf=reduce(lambda x,y : pd.merge(x,y,on='ecosystem'),[eco_l, eco_m, eco_h])\n",
    "sf = sf.reset_index()\n",
    "l,m,h = len(l), len(m), len(h)\n",
    "sf.loc[len(df)] = ['Total',l,m,h]\n",
    "sf['T'] = sf.L + sf.M + sf.H\n",
    "sf['L'] = round(sf['L'] / sf['T'],2)\n",
    "sf['M'] = round(sf['M'] / sf['T'],2)\n",
    "sf['H'] = round(sf['H'] / sf['T'],2)\n",
    "sf['severity'] = sf[['L','M','H']].apply(tuple, axis=1)\n",
    "sf = sf.drop(['L','M','H','T'], axis=1)\n",
    "sf"
   ]
  },
  {
   "cell_type": "code",
   "execution_count": 9,
   "metadata": {},
   "outputs": [
    {
     "output_type": "execute_result",
     "data": {
      "text/plain": [
       "  ecosystem  advisories  advisory_with_CVEs  packages  fixing_releases  cwe  \\\n",
       "0     Maven        1370                1128       692             1946  112   \n",
       "1  Composer         855                 599       228             1733   68   \n",
       "2       npm         792                 474       540              949   82   \n",
       "3       pip         565                 404       268              832   84   \n",
       "4     NuGet         333                 277        92              410   34   \n",
       "5        Go         235                 190       183              325   50   \n",
       "6  RubyGems         221                 168       121              364   47   \n",
       "7     Total        4371                3240      2124             6559  172   \n",
       "\n",
       "             severity  \n",
       "0  (0.05, 0.54, 0.41)  \n",
       "1  (0.04, 0.53, 0.43)  \n",
       "2  (0.05, 0.47, 0.48)  \n",
       "3  (0.06, 0.62, 0.32)  \n",
       "4  (0.02, 0.33, 0.66)  \n",
       "5   (0.06, 0.54, 0.4)  \n",
       "6  (0.03, 0.59, 0.38)  \n",
       "7  (0.05, 0.52, 0.43)  "
      ],
      "text/html": "<div>\n<style scoped>\n    .dataframe tbody tr th:only-of-type {\n        vertical-align: middle;\n    }\n\n    .dataframe tbody tr th {\n        vertical-align: top;\n    }\n\n    .dataframe thead th {\n        text-align: right;\n    }\n</style>\n<table border=\"1\" class=\"dataframe\">\n  <thead>\n    <tr style=\"text-align: right;\">\n      <th></th>\n      <th>ecosystem</th>\n      <th>advisories</th>\n      <th>advisory_with_CVEs</th>\n      <th>packages</th>\n      <th>fixing_releases</th>\n      <th>cwe</th>\n      <th>severity</th>\n    </tr>\n  </thead>\n  <tbody>\n    <tr>\n      <th>0</th>\n      <td>Maven</td>\n      <td>1370</td>\n      <td>1128</td>\n      <td>692</td>\n      <td>1946</td>\n      <td>112</td>\n      <td>(0.05, 0.54, 0.41)</td>\n    </tr>\n    <tr>\n      <th>1</th>\n      <td>Composer</td>\n      <td>855</td>\n      <td>599</td>\n      <td>228</td>\n      <td>1733</td>\n      <td>68</td>\n      <td>(0.04, 0.53, 0.43)</td>\n    </tr>\n    <tr>\n      <th>2</th>\n      <td>npm</td>\n      <td>792</td>\n      <td>474</td>\n      <td>540</td>\n      <td>949</td>\n      <td>82</td>\n      <td>(0.05, 0.47, 0.48)</td>\n    </tr>\n    <tr>\n      <th>3</th>\n      <td>pip</td>\n      <td>565</td>\n      <td>404</td>\n      <td>268</td>\n      <td>832</td>\n      <td>84</td>\n      <td>(0.06, 0.62, 0.32)</td>\n    </tr>\n    <tr>\n      <th>4</th>\n      <td>NuGet</td>\n      <td>333</td>\n      <td>277</td>\n      <td>92</td>\n      <td>410</td>\n      <td>34</td>\n      <td>(0.02, 0.33, 0.66)</td>\n    </tr>\n    <tr>\n      <th>5</th>\n      <td>Go</td>\n      <td>235</td>\n      <td>190</td>\n      <td>183</td>\n      <td>325</td>\n      <td>50</td>\n      <td>(0.06, 0.54, 0.4)</td>\n    </tr>\n    <tr>\n      <th>6</th>\n      <td>RubyGems</td>\n      <td>221</td>\n      <td>168</td>\n      <td>121</td>\n      <td>364</td>\n      <td>47</td>\n      <td>(0.03, 0.59, 0.38)</td>\n    </tr>\n    <tr>\n      <th>7</th>\n      <td>Total</td>\n      <td>4371</td>\n      <td>3240</td>\n      <td>2124</td>\n      <td>6559</td>\n      <td>172</td>\n      <td>(0.05, 0.52, 0.43)</td>\n    </tr>\n  </tbody>\n</table>\n</div>"
     },
     "metadata": {},
     "execution_count": 9
    }
   ],
   "source": [
    "df = reduce(lambda x,y : pd.merge(x,y,on='ecosystem'),[table, sf])\n",
    "df"
   ]
  },
  {
   "cell_type": "code",
   "execution_count": 10,
   "metadata": {},
   "outputs": [
    {
     "output_type": "execute_result",
     "data": {
      "text/plain": [
       "  ecosystem  advisories  advisory_with_CVEs  packages  fixing_releases  cwe  \\\n",
       "0     Maven        1370                1128       692             1946  112   \n",
       "1  Composer         855                 599       228             1733   68   \n",
       "2       npm         792                 474       540              949   82   \n",
       "3       pip         565                 404       268              832   84   \n",
       "4     NuGet         333                 277        92              410   34   \n",
       "5        Go         235                 190       183              325   50   \n",
       "6  RubyGems         221                 168       121              364   47   \n",
       "7     Total        4371                3240      2124             6559  172   \n",
       "\n",
       "             severity  non-CVEs (%)  \n",
       "0  (0.05, 0.54, 0.41)         17.66  \n",
       "1  (0.04, 0.53, 0.43)         29.94  \n",
       "2  (0.05, 0.47, 0.48)         40.15  \n",
       "3  (0.06, 0.62, 0.32)         28.50  \n",
       "4  (0.02, 0.33, 0.66)         16.82  \n",
       "5   (0.06, 0.54, 0.4)         19.15  \n",
       "6  (0.03, 0.59, 0.38)         23.98  \n",
       "7  (0.05, 0.52, 0.43)         25.88  "
      ],
      "text/html": "<div>\n<style scoped>\n    .dataframe tbody tr th:only-of-type {\n        vertical-align: middle;\n    }\n\n    .dataframe tbody tr th {\n        vertical-align: top;\n    }\n\n    .dataframe thead th {\n        text-align: right;\n    }\n</style>\n<table border=\"1\" class=\"dataframe\">\n  <thead>\n    <tr style=\"text-align: right;\">\n      <th></th>\n      <th>ecosystem</th>\n      <th>advisories</th>\n      <th>advisory_with_CVEs</th>\n      <th>packages</th>\n      <th>fixing_releases</th>\n      <th>cwe</th>\n      <th>severity</th>\n      <th>non-CVEs (%)</th>\n    </tr>\n  </thead>\n  <tbody>\n    <tr>\n      <th>0</th>\n      <td>Maven</td>\n      <td>1370</td>\n      <td>1128</td>\n      <td>692</td>\n      <td>1946</td>\n      <td>112</td>\n      <td>(0.05, 0.54, 0.41)</td>\n      <td>17.66</td>\n    </tr>\n    <tr>\n      <th>1</th>\n      <td>Composer</td>\n      <td>855</td>\n      <td>599</td>\n      <td>228</td>\n      <td>1733</td>\n      <td>68</td>\n      <td>(0.04, 0.53, 0.43)</td>\n      <td>29.94</td>\n    </tr>\n    <tr>\n      <th>2</th>\n      <td>npm</td>\n      <td>792</td>\n      <td>474</td>\n      <td>540</td>\n      <td>949</td>\n      <td>82</td>\n      <td>(0.05, 0.47, 0.48)</td>\n      <td>40.15</td>\n    </tr>\n    <tr>\n      <th>3</th>\n      <td>pip</td>\n      <td>565</td>\n      <td>404</td>\n      <td>268</td>\n      <td>832</td>\n      <td>84</td>\n      <td>(0.06, 0.62, 0.32)</td>\n      <td>28.50</td>\n    </tr>\n    <tr>\n      <th>4</th>\n      <td>NuGet</td>\n      <td>333</td>\n      <td>277</td>\n      <td>92</td>\n      <td>410</td>\n      <td>34</td>\n      <td>(0.02, 0.33, 0.66)</td>\n      <td>16.82</td>\n    </tr>\n    <tr>\n      <th>5</th>\n      <td>Go</td>\n      <td>235</td>\n      <td>190</td>\n      <td>183</td>\n      <td>325</td>\n      <td>50</td>\n      <td>(0.06, 0.54, 0.4)</td>\n      <td>19.15</td>\n    </tr>\n    <tr>\n      <th>6</th>\n      <td>RubyGems</td>\n      <td>221</td>\n      <td>168</td>\n      <td>121</td>\n      <td>364</td>\n      <td>47</td>\n      <td>(0.03, 0.59, 0.38)</td>\n      <td>23.98</td>\n    </tr>\n    <tr>\n      <th>7</th>\n      <td>Total</td>\n      <td>4371</td>\n      <td>3240</td>\n      <td>2124</td>\n      <td>6559</td>\n      <td>172</td>\n      <td>(0.05, 0.52, 0.43)</td>\n      <td>25.88</td>\n    </tr>\n  </tbody>\n</table>\n</div>"
     },
     "metadata": {},
     "execution_count": 10
    }
   ],
   "source": [
    "df['non-CVEs (%)'] = df['advisories'] - df['advisory_with_CVEs']\n",
    "df['non-CVEs (%)'] = round (df['non-CVEs (%)'] / df['advisories'] * 100 , 2)\n",
    "df"
   ]
  },
  {
   "cell_type": "code",
   "execution_count": 11,
   "metadata": {},
   "outputs": [
    {
     "output_type": "stream",
     "name": "stdout",
     "text": [
      "\\begin{tabular}{lrrrrrlr}\n\\hline\n ecosystem   &   advisories &   advisory\\_with\\_CVEs &   packages &   fixing\\_releases &   cwe & severity           &   non-CVEs (\\%) \\\\\n\\hline\n Maven       &         1370 &                 1128 &        692 &              1946 &   112 & (0.05, 0.54, 0.41) &          17.66 \\\\\n Composer    &          855 &                  599 &        228 &              1733 &    68 & (0.04, 0.53, 0.43) &          29.94 \\\\\n npm         &          792 &                  474 &        540 &               949 &    82 & (0.05, 0.47, 0.48) &          40.15 \\\\\n pip         &          565 &                  404 &        268 &               832 &    84 & (0.06, 0.62, 0.32) &          28.5  \\\\\n NuGet       &          333 &                  277 &         92 &               410 &    34 & (0.02, 0.33, 0.66) &          16.82 \\\\\n Go          &          235 &                  190 &        183 &               325 &    50 & (0.06, 0.54, 0.4)  &          19.15 \\\\\n RubyGems    &          221 &                  168 &        121 &               364 &    47 & (0.03, 0.59, 0.38) &          23.98 \\\\\n Total       &         4371 &                 3240 &       2124 &              6559 &   172 & (0.05, 0.52, 0.43) &          25.88 \\\\\n\\hline\n\\end{tabular}\n"
     ]
    }
   ],
   "source": [
    "print(tabulate(df, tablefmt='latex', headers='keys',showindex=False))"
   ]
  },
  {
   "cell_type": "code",
   "execution_count": 12,
   "metadata": {},
   "outputs": [
    {
     "output_type": "display_data",
     "data": {
      "text/plain": "<Figure size 432x288 with 1 Axes>",
      "image/svg+xml": "<?xml version=\"1.0\" encoding=\"utf-8\" standalone=\"no\"?>\n<!DOCTYPE svg PUBLIC \"-//W3C//DTD SVG 1.1//EN\"\n  \"http://www.w3.org/Graphics/SVG/1.1/DTD/svg11.dtd\">\n<!-- Created with matplotlib (https://matplotlib.org/) -->\n<svg height=\"277.5925pt\" version=\"1.1\" viewBox=\"0 0 381.65 277.5925\" width=\"381.65pt\" xmlns=\"http://www.w3.org/2000/svg\" xmlns:xlink=\"http://www.w3.org/1999/xlink\">\n <metadata>\n  <rdf:RDF xmlns:cc=\"http://creativecommons.org/ns#\" xmlns:dc=\"http://purl.org/dc/elements/1.1/\" xmlns:rdf=\"http://www.w3.org/1999/02/22-rdf-syntax-ns#\">\n   <cc:Work>\n    <dc:type rdf:resource=\"http://purl.org/dc/dcmitype/StillImage\"/>\n    <dc:date>2021-04-16T18:01:45.139498</dc:date>\n    <dc:format>image/svg+xml</dc:format>\n    <dc:creator>\n     <cc:Agent>\n      <dc:title>Matplotlib v3.3.4, https://matplotlib.org/</dc:title>\n     </cc:Agent>\n    </dc:creator>\n   </cc:Work>\n  </rdf:RDF>\n </metadata>\n <defs>\n  <style type=\"text/css\">*{stroke-linecap:butt;stroke-linejoin:round;}</style>\n </defs>\n <g id=\"figure_1\">\n  <g id=\"patch_1\">\n   <path d=\"M -0 277.5925 \nL 381.65 277.5925 \nL 381.65 0 \nL -0 0 \nz\n\" style=\"fill:none;\"/>\n  </g>\n  <g id=\"axes_1\">\n   <g id=\"patch_2\">\n    <path d=\"M 39.65 239.758125 \nL 374.45 239.758125 \nL 374.45 22.318125 \nL 39.65 22.318125 \nz\n\" style=\"fill:#ffffff;\"/>\n   </g>\n   <g id=\"matplotlib.axis_1\">\n    <g id=\"xtick_1\">\n     <g id=\"line2d_1\">\n      <defs>\n       <path d=\"M 0 0 \nL 0 3.5 \n\" id=\"m28fa398d62\" style=\"stroke:#000000;stroke-width:0.8;\"/>\n      </defs>\n      <g>\n       <use style=\"stroke:#000000;stroke-width:0.8;\" x=\"73.890909\" xlink:href=\"#m28fa398d62\" y=\"239.758125\"/>\n      </g>\n     </g>\n     <g id=\"text_1\">\n      <!-- 2006 -->\n      <g transform=\"translate(61.165909 254.356563)scale(0.1 -0.1)\">\n       <defs>\n        <path d=\"M 19.1875 8.296875 \nL 53.609375 8.296875 \nL 53.609375 0 \nL 7.328125 0 \nL 7.328125 8.296875 \nQ 12.9375 14.109375 22.625 23.890625 \nQ 32.328125 33.6875 34.8125 36.53125 \nQ 39.546875 41.84375 41.421875 45.53125 \nQ 43.3125 49.21875 43.3125 52.78125 \nQ 43.3125 58.59375 39.234375 62.25 \nQ 35.15625 65.921875 28.609375 65.921875 \nQ 23.96875 65.921875 18.8125 64.3125 \nQ 13.671875 62.703125 7.8125 59.421875 \nL 7.8125 69.390625 \nQ 13.765625 71.78125 18.9375 73 \nQ 24.125 74.21875 28.421875 74.21875 \nQ 39.75 74.21875 46.484375 68.546875 \nQ 53.21875 62.890625 53.21875 53.421875 \nQ 53.21875 48.921875 51.53125 44.890625 \nQ 49.859375 40.875 45.40625 35.40625 \nQ 44.1875 33.984375 37.640625 27.21875 \nQ 31.109375 20.453125 19.1875 8.296875 \nz\n\" id=\"DejaVuSans-50\"/>\n        <path d=\"M 31.78125 66.40625 \nQ 24.171875 66.40625 20.328125 58.90625 \nQ 16.5 51.421875 16.5 36.375 \nQ 16.5 21.390625 20.328125 13.890625 \nQ 24.171875 6.390625 31.78125 6.390625 \nQ 39.453125 6.390625 43.28125 13.890625 \nQ 47.125 21.390625 47.125 36.375 \nQ 47.125 51.421875 43.28125 58.90625 \nQ 39.453125 66.40625 31.78125 66.40625 \nz\nM 31.78125 74.21875 \nQ 44.046875 74.21875 50.515625 64.515625 \nQ 56.984375 54.828125 56.984375 36.375 \nQ 56.984375 17.96875 50.515625 8.265625 \nQ 44.046875 -1.421875 31.78125 -1.421875 \nQ 19.53125 -1.421875 13.0625 8.265625 \nQ 6.59375 17.96875 6.59375 36.375 \nQ 6.59375 54.828125 13.0625 64.515625 \nQ 19.53125 74.21875 31.78125 74.21875 \nz\n\" id=\"DejaVuSans-48\"/>\n        <path d=\"M 33.015625 40.375 \nQ 26.375 40.375 22.484375 35.828125 \nQ 18.609375 31.296875 18.609375 23.390625 \nQ 18.609375 15.53125 22.484375 10.953125 \nQ 26.375 6.390625 33.015625 6.390625 \nQ 39.65625 6.390625 43.53125 10.953125 \nQ 47.40625 15.53125 47.40625 23.390625 \nQ 47.40625 31.296875 43.53125 35.828125 \nQ 39.65625 40.375 33.015625 40.375 \nz\nM 52.59375 71.296875 \nL 52.59375 62.3125 \nQ 48.875 64.0625 45.09375 64.984375 \nQ 41.3125 65.921875 37.59375 65.921875 \nQ 27.828125 65.921875 22.671875 59.328125 \nQ 17.53125 52.734375 16.796875 39.40625 \nQ 19.671875 43.65625 24.015625 45.921875 \nQ 28.375 48.1875 33.59375 48.1875 \nQ 44.578125 48.1875 50.953125 41.515625 \nQ 57.328125 34.859375 57.328125 23.390625 \nQ 57.328125 12.15625 50.6875 5.359375 \nQ 44.046875 -1.421875 33.015625 -1.421875 \nQ 20.359375 -1.421875 13.671875 8.265625 \nQ 6.984375 17.96875 6.984375 36.375 \nQ 6.984375 53.65625 15.1875 63.9375 \nQ 23.390625 74.21875 37.203125 74.21875 \nQ 40.921875 74.21875 44.703125 73.484375 \nQ 48.484375 72.75 52.59375 71.296875 \nz\n\" id=\"DejaVuSans-54\"/>\n       </defs>\n       <use xlink:href=\"#DejaVuSans-50\"/>\n       <use x=\"63.623047\" xlink:href=\"#DejaVuSans-48\"/>\n       <use x=\"127.246094\" xlink:href=\"#DejaVuSans-48\"/>\n       <use x=\"190.869141\" xlink:href=\"#DejaVuSans-54\"/>\n      </g>\n     </g>\n    </g>\n    <g id=\"xtick_2\">\n     <g id=\"line2d_2\">\n      <g>\n       <use style=\"stroke:#000000;stroke-width:0.8;\" x=\"111.936364\" xlink:href=\"#m28fa398d62\" y=\"239.758125\"/>\n      </g>\n     </g>\n     <g id=\"text_2\">\n      <!-- 2008 -->\n      <g transform=\"translate(99.211364 254.356563)scale(0.1 -0.1)\">\n       <defs>\n        <path d=\"M 31.78125 34.625 \nQ 24.75 34.625 20.71875 30.859375 \nQ 16.703125 27.09375 16.703125 20.515625 \nQ 16.703125 13.921875 20.71875 10.15625 \nQ 24.75 6.390625 31.78125 6.390625 \nQ 38.8125 6.390625 42.859375 10.171875 \nQ 46.921875 13.96875 46.921875 20.515625 \nQ 46.921875 27.09375 42.890625 30.859375 \nQ 38.875 34.625 31.78125 34.625 \nz\nM 21.921875 38.8125 \nQ 15.578125 40.375 12.03125 44.71875 \nQ 8.5 49.078125 8.5 55.328125 \nQ 8.5 64.0625 14.71875 69.140625 \nQ 20.953125 74.21875 31.78125 74.21875 \nQ 42.671875 74.21875 48.875 69.140625 \nQ 55.078125 64.0625 55.078125 55.328125 \nQ 55.078125 49.078125 51.53125 44.71875 \nQ 48 40.375 41.703125 38.8125 \nQ 48.828125 37.15625 52.796875 32.3125 \nQ 56.78125 27.484375 56.78125 20.515625 \nQ 56.78125 9.90625 50.3125 4.234375 \nQ 43.84375 -1.421875 31.78125 -1.421875 \nQ 19.734375 -1.421875 13.25 4.234375 \nQ 6.78125 9.90625 6.78125 20.515625 \nQ 6.78125 27.484375 10.78125 32.3125 \nQ 14.796875 37.15625 21.921875 38.8125 \nz\nM 18.3125 54.390625 \nQ 18.3125 48.734375 21.84375 45.5625 \nQ 25.390625 42.390625 31.78125 42.390625 \nQ 38.140625 42.390625 41.71875 45.5625 \nQ 45.3125 48.734375 45.3125 54.390625 \nQ 45.3125 60.0625 41.71875 63.234375 \nQ 38.140625 66.40625 31.78125 66.40625 \nQ 25.390625 66.40625 21.84375 63.234375 \nQ 18.3125 60.0625 18.3125 54.390625 \nz\n\" id=\"DejaVuSans-56\"/>\n       </defs>\n       <use xlink:href=\"#DejaVuSans-50\"/>\n       <use x=\"63.623047\" xlink:href=\"#DejaVuSans-48\"/>\n       <use x=\"127.246094\" xlink:href=\"#DejaVuSans-48\"/>\n       <use x=\"190.869141\" xlink:href=\"#DejaVuSans-56\"/>\n      </g>\n     </g>\n    </g>\n    <g id=\"xtick_3\">\n     <g id=\"line2d_3\">\n      <g>\n       <use style=\"stroke:#000000;stroke-width:0.8;\" x=\"149.981818\" xlink:href=\"#m28fa398d62\" y=\"239.758125\"/>\n      </g>\n     </g>\n     <g id=\"text_3\">\n      <!-- 2010 -->\n      <g transform=\"translate(137.256818 254.356563)scale(0.1 -0.1)\">\n       <defs>\n        <path d=\"M 12.40625 8.296875 \nL 28.515625 8.296875 \nL 28.515625 63.921875 \nL 10.984375 60.40625 \nL 10.984375 69.390625 \nL 28.421875 72.90625 \nL 38.28125 72.90625 \nL 38.28125 8.296875 \nL 54.390625 8.296875 \nL 54.390625 0 \nL 12.40625 0 \nz\n\" id=\"DejaVuSans-49\"/>\n       </defs>\n       <use xlink:href=\"#DejaVuSans-50\"/>\n       <use x=\"63.623047\" xlink:href=\"#DejaVuSans-48\"/>\n       <use x=\"127.246094\" xlink:href=\"#DejaVuSans-49\"/>\n       <use x=\"190.869141\" xlink:href=\"#DejaVuSans-48\"/>\n      </g>\n     </g>\n    </g>\n    <g id=\"xtick_4\">\n     <g id=\"line2d_4\">\n      <g>\n       <use style=\"stroke:#000000;stroke-width:0.8;\" x=\"188.027273\" xlink:href=\"#m28fa398d62\" y=\"239.758125\"/>\n      </g>\n     </g>\n     <g id=\"text_4\">\n      <!-- 2012 -->\n      <g transform=\"translate(175.302273 254.356563)scale(0.1 -0.1)\">\n       <use xlink:href=\"#DejaVuSans-50\"/>\n       <use x=\"63.623047\" xlink:href=\"#DejaVuSans-48\"/>\n       <use x=\"127.246094\" xlink:href=\"#DejaVuSans-49\"/>\n       <use x=\"190.869141\" xlink:href=\"#DejaVuSans-50\"/>\n      </g>\n     </g>\n    </g>\n    <g id=\"xtick_5\">\n     <g id=\"line2d_5\">\n      <g>\n       <use style=\"stroke:#000000;stroke-width:0.8;\" x=\"226.072727\" xlink:href=\"#m28fa398d62\" y=\"239.758125\"/>\n      </g>\n     </g>\n     <g id=\"text_5\">\n      <!-- 2014 -->\n      <g transform=\"translate(213.347727 254.356563)scale(0.1 -0.1)\">\n       <defs>\n        <path d=\"M 37.796875 64.3125 \nL 12.890625 25.390625 \nL 37.796875 25.390625 \nz\nM 35.203125 72.90625 \nL 47.609375 72.90625 \nL 47.609375 25.390625 \nL 58.015625 25.390625 \nL 58.015625 17.1875 \nL 47.609375 17.1875 \nL 47.609375 0 \nL 37.796875 0 \nL 37.796875 17.1875 \nL 4.890625 17.1875 \nL 4.890625 26.703125 \nz\n\" id=\"DejaVuSans-52\"/>\n       </defs>\n       <use xlink:href=\"#DejaVuSans-50\"/>\n       <use x=\"63.623047\" xlink:href=\"#DejaVuSans-48\"/>\n       <use x=\"127.246094\" xlink:href=\"#DejaVuSans-49\"/>\n       <use x=\"190.869141\" xlink:href=\"#DejaVuSans-52\"/>\n      </g>\n     </g>\n    </g>\n    <g id=\"xtick_6\">\n     <g id=\"line2d_6\">\n      <g>\n       <use style=\"stroke:#000000;stroke-width:0.8;\" x=\"264.118182\" xlink:href=\"#m28fa398d62\" y=\"239.758125\"/>\n      </g>\n     </g>\n     <g id=\"text_6\">\n      <!-- 2016 -->\n      <g transform=\"translate(251.393182 254.356563)scale(0.1 -0.1)\">\n       <use xlink:href=\"#DejaVuSans-50\"/>\n       <use x=\"63.623047\" xlink:href=\"#DejaVuSans-48\"/>\n       <use x=\"127.246094\" xlink:href=\"#DejaVuSans-49\"/>\n       <use x=\"190.869141\" xlink:href=\"#DejaVuSans-54\"/>\n      </g>\n     </g>\n    </g>\n    <g id=\"xtick_7\">\n     <g id=\"line2d_7\">\n      <g>\n       <use style=\"stroke:#000000;stroke-width:0.8;\" x=\"302.163636\" xlink:href=\"#m28fa398d62\" y=\"239.758125\"/>\n      </g>\n     </g>\n     <g id=\"text_7\">\n      <!-- 2018 -->\n      <g transform=\"translate(289.438636 254.356563)scale(0.1 -0.1)\">\n       <use xlink:href=\"#DejaVuSans-50\"/>\n       <use x=\"63.623047\" xlink:href=\"#DejaVuSans-48\"/>\n       <use x=\"127.246094\" xlink:href=\"#DejaVuSans-49\"/>\n       <use x=\"190.869141\" xlink:href=\"#DejaVuSans-56\"/>\n      </g>\n     </g>\n    </g>\n    <g id=\"xtick_8\">\n     <g id=\"line2d_8\">\n      <g>\n       <use style=\"stroke:#000000;stroke-width:0.8;\" x=\"340.209091\" xlink:href=\"#m28fa398d62\" y=\"239.758125\"/>\n      </g>\n     </g>\n     <g id=\"text_8\">\n      <!-- 2020 -->\n      <g transform=\"translate(327.484091 254.356563)scale(0.1 -0.1)\">\n       <use xlink:href=\"#DejaVuSans-50\"/>\n       <use x=\"63.623047\" xlink:href=\"#DejaVuSans-48\"/>\n       <use x=\"127.246094\" xlink:href=\"#DejaVuSans-50\"/>\n       <use x=\"190.869141\" xlink:href=\"#DejaVuSans-48\"/>\n      </g>\n     </g>\n    </g>\n    <g id=\"text_9\">\n     <!-- disclose_year -->\n     <g transform=\"translate(173.347656 268.034688)scale(0.1 -0.1)\">\n      <defs>\n       <path d=\"M 45.40625 46.390625 \nL 45.40625 75.984375 \nL 54.390625 75.984375 \nL 54.390625 0 \nL 45.40625 0 \nL 45.40625 8.203125 \nQ 42.578125 3.328125 38.25 0.953125 \nQ 33.9375 -1.421875 27.875 -1.421875 \nQ 17.96875 -1.421875 11.734375 6.484375 \nQ 5.515625 14.40625 5.515625 27.296875 \nQ 5.515625 40.1875 11.734375 48.09375 \nQ 17.96875 56 27.875 56 \nQ 33.9375 56 38.25 53.625 \nQ 42.578125 51.265625 45.40625 46.390625 \nz\nM 14.796875 27.296875 \nQ 14.796875 17.390625 18.875 11.75 \nQ 22.953125 6.109375 30.078125 6.109375 \nQ 37.203125 6.109375 41.296875 11.75 \nQ 45.40625 17.390625 45.40625 27.296875 \nQ 45.40625 37.203125 41.296875 42.84375 \nQ 37.203125 48.484375 30.078125 48.484375 \nQ 22.953125 48.484375 18.875 42.84375 \nQ 14.796875 37.203125 14.796875 27.296875 \nz\n\" id=\"DejaVuSans-100\"/>\n       <path d=\"M 9.421875 54.6875 \nL 18.40625 54.6875 \nL 18.40625 0 \nL 9.421875 0 \nz\nM 9.421875 75.984375 \nL 18.40625 75.984375 \nL 18.40625 64.59375 \nL 9.421875 64.59375 \nz\n\" id=\"DejaVuSans-105\"/>\n       <path d=\"M 44.28125 53.078125 \nL 44.28125 44.578125 \nQ 40.484375 46.53125 36.375 47.5 \nQ 32.28125 48.484375 27.875 48.484375 \nQ 21.1875 48.484375 17.84375 46.4375 \nQ 14.5 44.390625 14.5 40.28125 \nQ 14.5 37.15625 16.890625 35.375 \nQ 19.28125 33.59375 26.515625 31.984375 \nL 29.59375 31.296875 \nQ 39.15625 29.25 43.1875 25.515625 \nQ 47.21875 21.78125 47.21875 15.09375 \nQ 47.21875 7.46875 41.1875 3.015625 \nQ 35.15625 -1.421875 24.609375 -1.421875 \nQ 20.21875 -1.421875 15.453125 -0.5625 \nQ 10.6875 0.296875 5.421875 2 \nL 5.421875 11.28125 \nQ 10.40625 8.6875 15.234375 7.390625 \nQ 20.0625 6.109375 24.8125 6.109375 \nQ 31.15625 6.109375 34.5625 8.28125 \nQ 37.984375 10.453125 37.984375 14.40625 \nQ 37.984375 18.0625 35.515625 20.015625 \nQ 33.0625 21.96875 24.703125 23.78125 \nL 21.578125 24.515625 \nQ 13.234375 26.265625 9.515625 29.90625 \nQ 5.8125 33.546875 5.8125 39.890625 \nQ 5.8125 47.609375 11.28125 51.796875 \nQ 16.75 56 26.8125 56 \nQ 31.78125 56 36.171875 55.265625 \nQ 40.578125 54.546875 44.28125 53.078125 \nz\n\" id=\"DejaVuSans-115\"/>\n       <path d=\"M 48.78125 52.59375 \nL 48.78125 44.1875 \nQ 44.96875 46.296875 41.140625 47.34375 \nQ 37.3125 48.390625 33.40625 48.390625 \nQ 24.65625 48.390625 19.8125 42.84375 \nQ 14.984375 37.3125 14.984375 27.296875 \nQ 14.984375 17.28125 19.8125 11.734375 \nQ 24.65625 6.203125 33.40625 6.203125 \nQ 37.3125 6.203125 41.140625 7.25 \nQ 44.96875 8.296875 48.78125 10.40625 \nL 48.78125 2.09375 \nQ 45.015625 0.34375 40.984375 -0.53125 \nQ 36.96875 -1.421875 32.421875 -1.421875 \nQ 20.0625 -1.421875 12.78125 6.34375 \nQ 5.515625 14.109375 5.515625 27.296875 \nQ 5.515625 40.671875 12.859375 48.328125 \nQ 20.21875 56 33.015625 56 \nQ 37.15625 56 41.109375 55.140625 \nQ 45.0625 54.296875 48.78125 52.59375 \nz\n\" id=\"DejaVuSans-99\"/>\n       <path d=\"M 9.421875 75.984375 \nL 18.40625 75.984375 \nL 18.40625 0 \nL 9.421875 0 \nz\n\" id=\"DejaVuSans-108\"/>\n       <path d=\"M 30.609375 48.390625 \nQ 23.390625 48.390625 19.1875 42.75 \nQ 14.984375 37.109375 14.984375 27.296875 \nQ 14.984375 17.484375 19.15625 11.84375 \nQ 23.34375 6.203125 30.609375 6.203125 \nQ 37.796875 6.203125 41.984375 11.859375 \nQ 46.1875 17.53125 46.1875 27.296875 \nQ 46.1875 37.015625 41.984375 42.703125 \nQ 37.796875 48.390625 30.609375 48.390625 \nz\nM 30.609375 56 \nQ 42.328125 56 49.015625 48.375 \nQ 55.71875 40.765625 55.71875 27.296875 \nQ 55.71875 13.875 49.015625 6.21875 \nQ 42.328125 -1.421875 30.609375 -1.421875 \nQ 18.84375 -1.421875 12.171875 6.21875 \nQ 5.515625 13.875 5.515625 27.296875 \nQ 5.515625 40.765625 12.171875 48.375 \nQ 18.84375 56 30.609375 56 \nz\n\" id=\"DejaVuSans-111\"/>\n       <path d=\"M 56.203125 29.59375 \nL 56.203125 25.203125 \nL 14.890625 25.203125 \nQ 15.484375 15.921875 20.484375 11.0625 \nQ 25.484375 6.203125 34.421875 6.203125 \nQ 39.59375 6.203125 44.453125 7.46875 \nQ 49.3125 8.734375 54.109375 11.28125 \nL 54.109375 2.78125 \nQ 49.265625 0.734375 44.1875 -0.34375 \nQ 39.109375 -1.421875 33.890625 -1.421875 \nQ 20.796875 -1.421875 13.15625 6.1875 \nQ 5.515625 13.8125 5.515625 26.8125 \nQ 5.515625 40.234375 12.765625 48.109375 \nQ 20.015625 56 32.328125 56 \nQ 43.359375 56 49.78125 48.890625 \nQ 56.203125 41.796875 56.203125 29.59375 \nz\nM 47.21875 32.234375 \nQ 47.125 39.59375 43.09375 43.984375 \nQ 39.0625 48.390625 32.421875 48.390625 \nQ 24.90625 48.390625 20.390625 44.140625 \nQ 15.875 39.890625 15.1875 32.171875 \nz\n\" id=\"DejaVuSans-101\"/>\n       <path d=\"M 50.984375 -16.609375 \nL 50.984375 -23.578125 \nL -0.984375 -23.578125 \nL -0.984375 -16.609375 \nz\n\" id=\"DejaVuSans-95\"/>\n       <path d=\"M 32.171875 -5.078125 \nQ 28.375 -14.84375 24.75 -17.8125 \nQ 21.140625 -20.796875 15.09375 -20.796875 \nL 7.90625 -20.796875 \nL 7.90625 -13.28125 \nL 13.1875 -13.28125 \nQ 16.890625 -13.28125 18.9375 -11.515625 \nQ 21 -9.765625 23.484375 -3.21875 \nL 25.09375 0.875 \nL 2.984375 54.6875 \nL 12.5 54.6875 \nL 29.59375 11.921875 \nL 46.6875 54.6875 \nL 56.203125 54.6875 \nz\n\" id=\"DejaVuSans-121\"/>\n       <path d=\"M 34.28125 27.484375 \nQ 23.390625 27.484375 19.1875 25 \nQ 14.984375 22.515625 14.984375 16.5 \nQ 14.984375 11.71875 18.140625 8.90625 \nQ 21.296875 6.109375 26.703125 6.109375 \nQ 34.1875 6.109375 38.703125 11.40625 \nQ 43.21875 16.703125 43.21875 25.484375 \nL 43.21875 27.484375 \nz\nM 52.203125 31.203125 \nL 52.203125 0 \nL 43.21875 0 \nL 43.21875 8.296875 \nQ 40.140625 3.328125 35.546875 0.953125 \nQ 30.953125 -1.421875 24.3125 -1.421875 \nQ 15.921875 -1.421875 10.953125 3.296875 \nQ 6 8.015625 6 15.921875 \nQ 6 25.140625 12.171875 29.828125 \nQ 18.359375 34.515625 30.609375 34.515625 \nL 43.21875 34.515625 \nL 43.21875 35.40625 \nQ 43.21875 41.609375 39.140625 45 \nQ 35.0625 48.390625 27.6875 48.390625 \nQ 23 48.390625 18.546875 47.265625 \nQ 14.109375 46.140625 10.015625 43.890625 \nL 10.015625 52.203125 \nQ 14.9375 54.109375 19.578125 55.046875 \nQ 24.21875 56 28.609375 56 \nQ 40.484375 56 46.34375 49.84375 \nQ 52.203125 43.703125 52.203125 31.203125 \nz\n\" id=\"DejaVuSans-97\"/>\n       <path d=\"M 41.109375 46.296875 \nQ 39.59375 47.171875 37.8125 47.578125 \nQ 36.03125 48 33.890625 48 \nQ 26.265625 48 22.1875 43.046875 \nQ 18.109375 38.09375 18.109375 28.8125 \nL 18.109375 0 \nL 9.078125 0 \nL 9.078125 54.6875 \nL 18.109375 54.6875 \nL 18.109375 46.1875 \nQ 20.953125 51.171875 25.484375 53.578125 \nQ 30.03125 56 36.53125 56 \nQ 37.453125 56 38.578125 55.875 \nQ 39.703125 55.765625 41.0625 55.515625 \nz\n\" id=\"DejaVuSans-114\"/>\n      </defs>\n      <use xlink:href=\"#DejaVuSans-100\"/>\n      <use x=\"63.476562\" xlink:href=\"#DejaVuSans-105\"/>\n      <use x=\"91.259766\" xlink:href=\"#DejaVuSans-115\"/>\n      <use x=\"143.359375\" xlink:href=\"#DejaVuSans-99\"/>\n      <use x=\"198.339844\" xlink:href=\"#DejaVuSans-108\"/>\n      <use x=\"226.123047\" xlink:href=\"#DejaVuSans-111\"/>\n      <use x=\"287.304688\" xlink:href=\"#DejaVuSans-115\"/>\n      <use x=\"339.404297\" xlink:href=\"#DejaVuSans-101\"/>\n      <use x=\"400.927734\" xlink:href=\"#DejaVuSans-95\"/>\n      <use x=\"450.927734\" xlink:href=\"#DejaVuSans-121\"/>\n      <use x=\"510.107422\" xlink:href=\"#DejaVuSans-101\"/>\n      <use x=\"571.630859\" xlink:href=\"#DejaVuSans-97\"/>\n      <use x=\"632.910156\" xlink:href=\"#DejaVuSans-114\"/>\n     </g>\n    </g>\n   </g>\n   <g id=\"matplotlib.axis_2\">\n    <g id=\"ytick_1\">\n     <g id=\"line2d_9\">\n      <defs>\n       <path d=\"M 0 0 \nL -3.5 0 \n\" id=\"m75fc9ceff8\" style=\"stroke:#000000;stroke-width:0.8;\"/>\n      </defs>\n      <g>\n       <use style=\"stroke:#000000;stroke-width:0.8;\" x=\"39.65\" xlink:href=\"#m75fc9ceff8\" y=\"229.919723\"/>\n      </g>\n     </g>\n     <g id=\"text_10\">\n      <!-- 0 -->\n      <g transform=\"translate(26.2875 233.718941)scale(0.1 -0.1)\">\n       <use xlink:href=\"#DejaVuSans-48\"/>\n      </g>\n     </g>\n    </g>\n    <g id=\"ytick_2\">\n     <g id=\"line2d_10\">\n      <g>\n       <use style=\"stroke:#000000;stroke-width:0.8;\" x=\"39.65\" xlink:href=\"#m75fc9ceff8\" y=\"184.685689\"/>\n      </g>\n     </g>\n     <g id=\"text_11\">\n      <!-- 1000 -->\n      <g transform=\"translate(7.2 188.484908)scale(0.1 -0.1)\">\n       <use xlink:href=\"#DejaVuSans-49\"/>\n       <use x=\"63.623047\" xlink:href=\"#DejaVuSans-48\"/>\n       <use x=\"127.246094\" xlink:href=\"#DejaVuSans-48\"/>\n       <use x=\"190.869141\" xlink:href=\"#DejaVuSans-48\"/>\n      </g>\n     </g>\n    </g>\n    <g id=\"ytick_3\">\n     <g id=\"line2d_11\">\n      <g>\n       <use style=\"stroke:#000000;stroke-width:0.8;\" x=\"39.65\" xlink:href=\"#m75fc9ceff8\" y=\"139.451655\"/>\n      </g>\n     </g>\n     <g id=\"text_12\">\n      <!-- 2000 -->\n      <g transform=\"translate(7.2 143.250874)scale(0.1 -0.1)\">\n       <use xlink:href=\"#DejaVuSans-50\"/>\n       <use x=\"63.623047\" xlink:href=\"#DejaVuSans-48\"/>\n       <use x=\"127.246094\" xlink:href=\"#DejaVuSans-48\"/>\n       <use x=\"190.869141\" xlink:href=\"#DejaVuSans-48\"/>\n      </g>\n     </g>\n    </g>\n    <g id=\"ytick_4\">\n     <g id=\"line2d_12\">\n      <g>\n       <use style=\"stroke:#000000;stroke-width:0.8;\" x=\"39.65\" xlink:href=\"#m75fc9ceff8\" y=\"94.217622\"/>\n      </g>\n     </g>\n     <g id=\"text_13\">\n      <!-- 3000 -->\n      <g transform=\"translate(7.2 98.01684)scale(0.1 -0.1)\">\n       <defs>\n        <path d=\"M 40.578125 39.3125 \nQ 47.65625 37.796875 51.625 33 \nQ 55.609375 28.21875 55.609375 21.1875 \nQ 55.609375 10.40625 48.1875 4.484375 \nQ 40.765625 -1.421875 27.09375 -1.421875 \nQ 22.515625 -1.421875 17.65625 -0.515625 \nQ 12.796875 0.390625 7.625 2.203125 \nL 7.625 11.71875 \nQ 11.71875 9.328125 16.59375 8.109375 \nQ 21.484375 6.890625 26.8125 6.890625 \nQ 36.078125 6.890625 40.9375 10.546875 \nQ 45.796875 14.203125 45.796875 21.1875 \nQ 45.796875 27.640625 41.28125 31.265625 \nQ 36.765625 34.90625 28.71875 34.90625 \nL 20.21875 34.90625 \nL 20.21875 43.015625 \nL 29.109375 43.015625 \nQ 36.375 43.015625 40.234375 45.921875 \nQ 44.09375 48.828125 44.09375 54.296875 \nQ 44.09375 59.90625 40.109375 62.90625 \nQ 36.140625 65.921875 28.71875 65.921875 \nQ 24.65625 65.921875 20.015625 65.03125 \nQ 15.375 64.15625 9.8125 62.3125 \nL 9.8125 71.09375 \nQ 15.4375 72.65625 20.34375 73.4375 \nQ 25.25 74.21875 29.59375 74.21875 \nQ 40.828125 74.21875 47.359375 69.109375 \nQ 53.90625 64.015625 53.90625 55.328125 \nQ 53.90625 49.265625 50.4375 45.09375 \nQ 46.96875 40.921875 40.578125 39.3125 \nz\n\" id=\"DejaVuSans-51\"/>\n       </defs>\n       <use xlink:href=\"#DejaVuSans-51\"/>\n       <use x=\"63.623047\" xlink:href=\"#DejaVuSans-48\"/>\n       <use x=\"127.246094\" xlink:href=\"#DejaVuSans-48\"/>\n       <use x=\"190.869141\" xlink:href=\"#DejaVuSans-48\"/>\n      </g>\n     </g>\n    </g>\n    <g id=\"ytick_5\">\n     <g id=\"line2d_13\">\n      <g>\n       <use style=\"stroke:#000000;stroke-width:0.8;\" x=\"39.65\" xlink:href=\"#m75fc9ceff8\" y=\"48.983588\"/>\n      </g>\n     </g>\n     <g id=\"text_14\">\n      <!-- 4000 -->\n      <g transform=\"translate(7.2 52.782807)scale(0.1 -0.1)\">\n       <use xlink:href=\"#DejaVuSans-52\"/>\n       <use x=\"63.623047\" xlink:href=\"#DejaVuSans-48\"/>\n       <use x=\"127.246094\" xlink:href=\"#DejaVuSans-48\"/>\n       <use x=\"190.869141\" xlink:href=\"#DejaVuSans-48\"/>\n      </g>\n     </g>\n    </g>\n   </g>\n   <g id=\"line2d_14\">\n    <path clip-path=\"url(#p6bcf2f745a)\" d=\"M 54.868182 229.874489 \nL 73.890909 229.693553 \nL 92.913636 229.55785 \nL 111.936364 229.10551 \nL 130.959091 228.834106 \nL 149.981818 226.798574 \nL 169.004545 224.627341 \nL 188.027273 219.877767 \nL 207.05 212.27845 \nL 226.072727 203.095941 \nL 245.095455 190.656581 \nL 264.118182 172.879606 \nL 283.140909 152.569525 \nL 302.163636 119.09634 \nL 321.186364 87.839623 \nL 340.209091 41.429504 \nL 359.231818 32.201761 \n\" style=\"fill:none;stroke:#1f77b4;stroke-linecap:square;stroke-width:1.5;\"/>\n   </g>\n   <g id=\"patch_3\">\n    <path d=\"M 39.65 239.758125 \nL 39.65 22.318125 \n\" style=\"fill:none;stroke:#000000;stroke-linecap:square;stroke-linejoin:miter;stroke-width:0.8;\"/>\n   </g>\n   <g id=\"patch_4\">\n    <path d=\"M 374.45 239.758125 \nL 374.45 22.318125 \n\" style=\"fill:none;stroke:#000000;stroke-linecap:square;stroke-linejoin:miter;stroke-width:0.8;\"/>\n   </g>\n   <g id=\"patch_5\">\n    <path d=\"M 39.65 239.758125 \nL 374.45 239.758125 \n\" style=\"fill:none;stroke:#000000;stroke-linecap:square;stroke-linejoin:miter;stroke-width:0.8;\"/>\n   </g>\n   <g id=\"patch_6\">\n    <path d=\"M 39.65 22.318125 \nL 374.45 22.318125 \n\" style=\"fill:none;stroke:#000000;stroke-linecap:square;stroke-linejoin:miter;stroke-width:0.8;\"/>\n   </g>\n   <g id=\"text_15\">\n    <!-- advisory count over the year -->\n    <g transform=\"translate(120.362188 16.318125)scale(0.12 -0.12)\">\n     <defs>\n      <path d=\"M 2.984375 54.6875 \nL 12.5 54.6875 \nL 29.59375 8.796875 \nL 46.6875 54.6875 \nL 56.203125 54.6875 \nL 35.6875 0 \nL 23.484375 0 \nz\n\" id=\"DejaVuSans-118\"/>\n      <path id=\"DejaVuSans-32\"/>\n      <path d=\"M 8.5 21.578125 \nL 8.5 54.6875 \nL 17.484375 54.6875 \nL 17.484375 21.921875 \nQ 17.484375 14.15625 20.5 10.265625 \nQ 23.53125 6.390625 29.59375 6.390625 \nQ 36.859375 6.390625 41.078125 11.03125 \nQ 45.3125 15.671875 45.3125 23.6875 \nL 45.3125 54.6875 \nL 54.296875 54.6875 \nL 54.296875 0 \nL 45.3125 0 \nL 45.3125 8.40625 \nQ 42.046875 3.421875 37.71875 1 \nQ 33.40625 -1.421875 27.6875 -1.421875 \nQ 18.265625 -1.421875 13.375 4.4375 \nQ 8.5 10.296875 8.5 21.578125 \nz\nM 31.109375 56 \nz\n\" id=\"DejaVuSans-117\"/>\n      <path d=\"M 54.890625 33.015625 \nL 54.890625 0 \nL 45.90625 0 \nL 45.90625 32.71875 \nQ 45.90625 40.484375 42.875 44.328125 \nQ 39.84375 48.1875 33.796875 48.1875 \nQ 26.515625 48.1875 22.3125 43.546875 \nQ 18.109375 38.921875 18.109375 30.90625 \nL 18.109375 0 \nL 9.078125 0 \nL 9.078125 54.6875 \nL 18.109375 54.6875 \nL 18.109375 46.1875 \nQ 21.34375 51.125 25.703125 53.5625 \nQ 30.078125 56 35.796875 56 \nQ 45.21875 56 50.046875 50.171875 \nQ 54.890625 44.34375 54.890625 33.015625 \nz\n\" id=\"DejaVuSans-110\"/>\n      <path d=\"M 18.3125 70.21875 \nL 18.3125 54.6875 \nL 36.8125 54.6875 \nL 36.8125 47.703125 \nL 18.3125 47.703125 \nL 18.3125 18.015625 \nQ 18.3125 11.328125 20.140625 9.421875 \nQ 21.96875 7.515625 27.59375 7.515625 \nL 36.8125 7.515625 \nL 36.8125 0 \nL 27.59375 0 \nQ 17.1875 0 13.234375 3.875 \nQ 9.28125 7.765625 9.28125 18.015625 \nL 9.28125 47.703125 \nL 2.6875 47.703125 \nL 2.6875 54.6875 \nL 9.28125 54.6875 \nL 9.28125 70.21875 \nz\n\" id=\"DejaVuSans-116\"/>\n      <path d=\"M 54.890625 33.015625 \nL 54.890625 0 \nL 45.90625 0 \nL 45.90625 32.71875 \nQ 45.90625 40.484375 42.875 44.328125 \nQ 39.84375 48.1875 33.796875 48.1875 \nQ 26.515625 48.1875 22.3125 43.546875 \nQ 18.109375 38.921875 18.109375 30.90625 \nL 18.109375 0 \nL 9.078125 0 \nL 9.078125 75.984375 \nL 18.109375 75.984375 \nL 18.109375 46.1875 \nQ 21.34375 51.125 25.703125 53.5625 \nQ 30.078125 56 35.796875 56 \nQ 45.21875 56 50.046875 50.171875 \nQ 54.890625 44.34375 54.890625 33.015625 \nz\n\" id=\"DejaVuSans-104\"/>\n     </defs>\n     <use xlink:href=\"#DejaVuSans-97\"/>\n     <use x=\"61.279297\" xlink:href=\"#DejaVuSans-100\"/>\n     <use x=\"124.755859\" xlink:href=\"#DejaVuSans-118\"/>\n     <use x=\"183.935547\" xlink:href=\"#DejaVuSans-105\"/>\n     <use x=\"211.71875\" xlink:href=\"#DejaVuSans-115\"/>\n     <use x=\"263.818359\" xlink:href=\"#DejaVuSans-111\"/>\n     <use x=\"325\" xlink:href=\"#DejaVuSans-114\"/>\n     <use x=\"366.113281\" xlink:href=\"#DejaVuSans-121\"/>\n     <use x=\"425.292969\" xlink:href=\"#DejaVuSans-32\"/>\n     <use x=\"457.080078\" xlink:href=\"#DejaVuSans-99\"/>\n     <use x=\"512.060547\" xlink:href=\"#DejaVuSans-111\"/>\n     <use x=\"573.242188\" xlink:href=\"#DejaVuSans-117\"/>\n     <use x=\"636.621094\" xlink:href=\"#DejaVuSans-110\"/>\n     <use x=\"700\" xlink:href=\"#DejaVuSans-116\"/>\n     <use x=\"739.208984\" xlink:href=\"#DejaVuSans-32\"/>\n     <use x=\"770.996094\" xlink:href=\"#DejaVuSans-111\"/>\n     <use x=\"832.177734\" xlink:href=\"#DejaVuSans-118\"/>\n     <use x=\"891.357422\" xlink:href=\"#DejaVuSans-101\"/>\n     <use x=\"952.880859\" xlink:href=\"#DejaVuSans-114\"/>\n     <use x=\"993.994141\" xlink:href=\"#DejaVuSans-32\"/>\n     <use x=\"1025.78125\" xlink:href=\"#DejaVuSans-116\"/>\n     <use x=\"1064.990234\" xlink:href=\"#DejaVuSans-104\"/>\n     <use x=\"1128.369141\" xlink:href=\"#DejaVuSans-101\"/>\n     <use x=\"1189.892578\" xlink:href=\"#DejaVuSans-32\"/>\n     <use x=\"1221.679688\" xlink:href=\"#DejaVuSans-121\"/>\n     <use x=\"1280.859375\" xlink:href=\"#DejaVuSans-101\"/>\n     <use x=\"1342.382812\" xlink:href=\"#DejaVuSans-97\"/>\n     <use x=\"1403.662109\" xlink:href=\"#DejaVuSans-114\"/>\n    </g>\n   </g>\n   <g id=\"legend_1\">\n    <g id=\"patch_7\">\n     <path d=\"M 46.65 44.99625 \nL 94.017188 44.99625 \nQ 96.017188 44.99625 96.017188 42.99625 \nL 96.017188 29.318125 \nQ 96.017188 27.318125 94.017188 27.318125 \nL 46.65 27.318125 \nQ 44.65 27.318125 44.65 29.318125 \nL 44.65 42.99625 \nQ 44.65 44.99625 46.65 44.99625 \nz\n\" style=\"fill:#ffffff;opacity:0.8;stroke:#cccccc;stroke-linejoin:miter;\"/>\n    </g>\n    <g id=\"line2d_15\">\n     <path d=\"M 48.65 35.416563 \nL 68.65 35.416563 \n\" style=\"fill:none;stroke:#1f77b4;stroke-linecap:square;stroke-width:1.5;\"/>\n    </g>\n    <g id=\"line2d_16\"/>\n    <g id=\"text_16\">\n     <!-- cdf -->\n     <g transform=\"translate(76.65 38.916563)scale(0.1 -0.1)\">\n      <defs>\n       <path d=\"M 37.109375 75.984375 \nL 37.109375 68.5 \nL 28.515625 68.5 \nQ 23.6875 68.5 21.796875 66.546875 \nQ 19.921875 64.59375 19.921875 59.515625 \nL 19.921875 54.6875 \nL 34.71875 54.6875 \nL 34.71875 47.703125 \nL 19.921875 47.703125 \nL 19.921875 0 \nL 10.890625 0 \nL 10.890625 47.703125 \nL 2.296875 47.703125 \nL 2.296875 54.6875 \nL 10.890625 54.6875 \nL 10.890625 58.5 \nQ 10.890625 67.625 15.140625 71.796875 \nQ 19.390625 75.984375 28.609375 75.984375 \nz\n\" id=\"DejaVuSans-102\"/>\n      </defs>\n      <use xlink:href=\"#DejaVuSans-99\"/>\n      <use x=\"54.980469\" xlink:href=\"#DejaVuSans-100\"/>\n      <use x=\"118.457031\" xlink:href=\"#DejaVuSans-102\"/>\n     </g>\n    </g>\n   </g>\n  </g>\n </g>\n <defs>\n  <clipPath id=\"p6bcf2f745a\">\n   <rect height=\"217.44\" width=\"334.8\" x=\"39.65\" y=\"22.318125\"/>\n  </clipPath>\n </defs>\n</svg>\n",
      "image/png": "[encoded data removed]"
     },
     "metadata": {
      "needs_background": "light"
     }
    }
   ],
   "source": [
    "q= '''select year(a.disclose_date) as disclose_year, count(distinct a.id) as count\n",
    "from advisory a\n",
    "join package p on a.package_id = p.id\n",
    "join fixing_releases fr on a.id = fr.advisory_id\n",
    "where type != 'Malicious Package'\n",
    "and version != 'manual checkup needed'\n",
    "and ecosystem != 'cocoapods'\n",
    "and repository_url != 'no repository listed'\n",
    "group by year(a.disclose_date);'''\n",
    "df = pd.DataFrame(sql.execute(q))\n",
    "df['cdf']=df['count'].cumsum()\n",
    "fig = df.plot(x='disclose_year',y='cdf',kind='line', title = 'advisory count over the year').get_figure()"
   ]
  },
  {
   "cell_type": "code",
   "execution_count": 13,
   "metadata": {},
   "outputs": [],
   "source": [
    "fig.savefig('cdf_disclose.png')\n"
   ]
  },
  {
   "cell_type": "code",
   "execution_count": 14,
   "metadata": {},
   "outputs": [
    {
     "output_type": "execute_result",
     "data": {
      "text/plain": [
       "    disclose_year  count   cdf\n",
       "0            2005      1     1\n",
       "1            2006      4     5\n",
       "2            2007      3     8\n",
       "3            2008     10    18\n",
       "4            2009      6    24\n",
       "5            2010     45    69\n",
       "6            2011     48   117\n",
       "7            2012    105   222\n",
       "8            2013    168   390\n",
       "9            2014    203   593\n",
       "10           2015    275   868\n",
       "11           2016    393  1261\n",
       "12           2017    449  1710\n",
       "13           2018    740  2450\n",
       "14           2019    691  3141\n",
       "15           2020   1026  4167\n",
       "16           2021    204  4371"
      ],
      "text/html": "<div>\n<style scoped>\n    .dataframe tbody tr th:only-of-type {\n        vertical-align: middle;\n    }\n\n    .dataframe tbody tr th {\n        vertical-align: top;\n    }\n\n    .dataframe thead th {\n        text-align: right;\n    }\n</style>\n<table border=\"1\" class=\"dataframe\">\n  <thead>\n    <tr style=\"text-align: right;\">\n      <th></th>\n      <th>disclose_year</th>\n      <th>count</th>\n      <th>cdf</th>\n    </tr>\n  </thead>\n  <tbody>\n    <tr>\n      <th>0</th>\n      <td>2005</td>\n      <td>1</td>\n      <td>1</td>\n    </tr>\n    <tr>\n      <th>1</th>\n      <td>2006</td>\n      <td>4</td>\n      <td>5</td>\n    </tr>\n    <tr>\n      <th>2</th>\n      <td>2007</td>\n      <td>3</td>\n      <td>8</td>\n    </tr>\n    <tr>\n      <th>3</th>\n      <td>2008</td>\n      <td>10</td>\n      <td>18</td>\n    </tr>\n    <tr>\n      <th>4</th>\n      <td>2009</td>\n      <td>6</td>\n      <td>24</td>\n    </tr>\n    <tr>\n      <th>5</th>\n      <td>2010</td>\n      <td>45</td>\n      <td>69</td>\n    </tr>\n    <tr>\n      <th>6</th>\n      <td>2011</td>\n      <td>48</td>\n      <td>117</td>\n    </tr>\n    <tr>\n      <th>7</th>\n      <td>2012</td>\n      <td>105</td>\n      <td>222</td>\n    </tr>\n    <tr>\n      <th>8</th>\n      <td>2013</td>\n      <td>168</td>\n      <td>390</td>\n    </tr>\n    <tr>\n      <th>9</th>\n      <td>2014</td>\n      <td>203</td>\n      <td>593</td>\n    </tr>\n    <tr>\n      <th>10</th>\n      <td>2015</td>\n      <td>275</td>\n      <td>868</td>\n    </tr>\n    <tr>\n      <th>11</th>\n      <td>2016</td>\n      <td>393</td>\n      <td>1261</td>\n    </tr>\n    <tr>\n      <th>12</th>\n      <td>2017</td>\n      <td>449</td>\n      <td>1710</td>\n    </tr>\n    <tr>\n      <th>13</th>\n      <td>2018</td>\n      <td>740</td>\n      <td>2450</td>\n    </tr>\n    <tr>\n      <th>14</th>\n      <td>2019</td>\n      <td>691</td>\n      <td>3141</td>\n    </tr>\n    <tr>\n      <th>15</th>\n      <td>2020</td>\n      <td>1026</td>\n      <td>4167</td>\n    </tr>\n    <tr>\n      <th>16</th>\n      <td>2021</td>\n      <td>204</td>\n      <td>4371</td>\n    </tr>\n  </tbody>\n</table>\n</div>"
     },
     "metadata": {},
     "execution_count": 14
    }
   ],
   "source": [
    "df"
   ]
  },
  {
   "cell_type": "code",
   "execution_count": 15,
   "metadata": {},
   "outputs": [
    {
     "output_type": "execute_result",
     "data": {
      "text/plain": [
       "0.7990697674418604"
      ]
     },
     "metadata": {},
     "execution_count": 15
    }
   ],
   "source": [
    "(4300 - 864) / 4300"
   ]
  },
  {
   "cell_type": "code",
   "execution_count": 16,
   "metadata": {},
   "outputs": [
    {
     "output_type": "execute_result",
     "data": {
      "text/plain": [
       "3436"
      ]
     },
     "metadata": {},
     "execution_count": 16
    }
   ],
   "source": [
    "4300 - 864"
   ]
  },
  {
   "cell_type": "code",
   "execution_count": null,
   "metadata": {},
   "outputs": [],
   "source": []
  }
 ]
}