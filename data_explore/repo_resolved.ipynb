{
 "metadata": {
  "language_info": {
   "codemirror_mode": {
    "name": "ipython",
    "version": 3
   },
   "file_extension": ".py",
   "mimetype": "text/x-python",
   "name": "python",
   "nbconvert_exporter": "python",
   "pygments_lexer": "ipython3",
   "version": "3.9.4"
  },
  "orig_nbformat": 2,
  "kernelspec": {
   "name": "python394jvsc74a57bd045e6bb90db539892217150e51eb80500a9bf028439c0d739bd24c7b8d42327c6",
   "display_name": "Python 3.9.4 64-bit ('advisory-lifecycle': pipenv)"
  },
  "metadata": {
   "interpreter": {
    "hash": "aee8b7b246df8f9039afb4144a1f6fd8d2ca17a180786b69acc140d282b71a49"
   }
  }
 },
 "nbformat": 4,
 "nbformat_minor": 2,
 "cells": [
  {
   "cell_type": "code",
   "execution_count": 773,
   "metadata": {},
   "outputs": [],
   "source": [
    "import sys\n",
    "import sql\n",
    "import pandas as pd\n",
    "from functools import reduce\n",
    "from tabulate import tabulate\n",
    "import datetime\n",
    "import matplotlib.pyplot as plt\n",
    "import seaborn as sns\n",
    "import common "
   ]
  },
  {
   "cell_type": "code",
   "execution_count": 774,
   "metadata": {},
   "outputs": [
    {
     "output_type": "execute_result",
     "data": {
      "text/plain": [
       "6956"
      ]
     },
     "metadata": {},
     "execution_count": 774
    }
   ],
   "source": [
    "q= 'select * from advisory'\n",
    "df = pd.DataFrame(sql.execute(q))\n",
    "len(df)"
   ]
  },
  {
   "cell_type": "code",
   "execution_count": 775,
   "metadata": {},
   "outputs": [
    {
     "output_type": "execute_result",
     "data": {
      "text/plain": [
       "589"
      ]
     },
     "metadata": {},
     "execution_count": 775
    }
   ],
   "source": [
    "q= ''' select * from advisory where type = 'Malicious Package' '''\n",
    "df = pd.DataFrame(sql.execute(q))\n",
    "len(df)"
   ]
  },
  {
   "cell_type": "code",
   "execution_count": 776,
   "metadata": {},
   "outputs": [
    {
     "output_type": "execute_result",
     "data": {
      "text/plain": [
       "(358, 358, 37)"
      ]
     },
     "metadata": {},
     "execution_count": 776
    }
   ],
   "source": [
    "q = '''select *\n",
    "from advisory a\n",
    "join package p on a.package_id = p.id\n",
    "where type != 'Malicious Package'\n",
    "and ecosystem = 'cocoapods' '''\n",
    "df = pd.DataFrame(sql.execute(q))\n",
    "len(df), df['id'].nunique(), df['p.id'].nunique()"
   ]
  },
  {
   "cell_type": "code",
   "execution_count": 777,
   "metadata": {},
   "outputs": [
    {
     "output_type": "execute_result",
     "data": {
      "text/plain": [
       "(7083, 4776)"
      ]
     },
     "metadata": {},
     "execution_count": 777
    }
   ],
   "source": [
    "q= '''select distinct advisory_id, p.id as package_id, version\n",
    "from fixing_releases fr\n",
    "join advisory a on fr.advisory_id = a.id\n",
    "join package p on a.package_id = p.id\n",
    "where ecosystem != 'cocoapods'\n",
    "and type != 'Malicious Package'\n",
    "and version != %s;'''\n",
    "df = pd.DataFrame(sql.execute(q, (common.manualcheckup,)))\n",
    "len(df), df['advisory_id'].nunique()"
   ]
  },
  {
   "cell_type": "code",
   "execution_count": 778,
   "metadata": {},
   "outputs": [
    {
     "output_type": "execute_result",
     "data": {
      "text/plain": [
       "102"
      ]
     },
     "metadata": {},
     "execution_count": 778
    }
   ],
   "source": [
    "q= '''select distinct advisory_id\n",
    "from advisory a\n",
    "join fixing_releases fr on a.id = fr.advisory_id\n",
    "join package p on a.package_id = p.id\n",
    "and ecosystem != 'cocoapods'\n",
    "and version = 'manual checkup needed'\n",
    "and advisory_id not in\n",
    "(select distinct advisory_id\n",
    "from advisory a\n",
    "join fixing_releases fr on a.id = fr.advisory_id\n",
    "join package p on a.package_id = p.id\n",
    "and ecosystem != 'cocoapods'\n",
    "and version != 'manual checkup needed')'''\n",
    "df = pd.DataFrame(sql.execute(q))\n",
    "df['advisory_id'].nunique()"
   ]
  },
  {
   "cell_type": "code",
   "execution_count": 779,
   "metadata": {},
   "outputs": [
    {
     "output_type": "execute_result",
     "data": {
      "text/plain": [
       "(1131, 1131)"
      ]
     },
     "metadata": {},
     "execution_count": 779
    }
   ],
   "source": [
    "q = '''select *\n",
    "from advisory a\n",
    "join package p on a.package_id = p.id\n",
    "where type != 'Malicious Package'\n",
    "and ecosystem != 'cocoapods'\n",
    "and a.id not in\n",
    "(select advisory_id from fixing_releases)'''\n",
    "df = pd.DataFrame(sql.execute(q))\n",
    "len(df), df['id'].nunique()"
   ]
  },
  {
   "cell_type": "code",
   "execution_count": 780,
   "metadata": {},
   "outputs": [
    {
     "output_type": "execute_result",
     "data": {
      "text/plain": [
       "(518, 300, 399)"
      ]
     },
     "metadata": {},
     "execution_count": 780
    }
   ],
   "source": [
    "q= '''select distinct advisory_id, p.id as package_id, version\n",
    "from fixing_releases fr\n",
    "join advisory a on fr.advisory_id = a.id\n",
    "join package p on a.package_id = p.id\n",
    "where ecosystem != 'cocoapods'\n",
    "and type != 'Malicious Package'\n",
    "and version != %s\n",
    "and repository_url = %s'''\n",
    "df = pd.DataFrame(sql.execute(q, (common.manualcheckup,common.norepo)))\n",
    "len(df), df['package_id'].nunique(), df['advisory_id'].nunique()"
   ]
  },
  {
   "cell_type": "code",
   "execution_count": 781,
   "metadata": {},
   "outputs": [],
   "source": [
    "q='''select t1.ecosystem as ecosystem, advisories, advisory_with_CVEs, packages, fixing_releases\n",
    "from\n",
    "(select ecosystem, count(distinct a.id) as advisories, count(distinct p.id) as packages, count(distinct advisory_id, version) as fixing_releases\n",
    "from advisory a\n",
    "join package p on a.package_id = p.id\n",
    "join fixing_releases fr on a.id = fr.advisory_id\n",
    "where type != 'Malicious Package'\n",
    "and version != 'manual checkup needed'\n",
    "and ecosystem != 'cocoapods'\n",
    "and repository_url != 'no repository listed'\n",
    "group by ecosystem) as t1\n",
    "join\n",
    "(select ecosystem, count(distinct a.id) as advisory_with_CVEs\n",
    "from advisoryCVE aC\n",
    "join advisory a on aC.advisory_id = a.id\n",
    "join fixing_releases fr on a.id = fr.advisory_id\n",
    "join package p on a.package_id = p.id\n",
    "where type != 'Malicious Package'\n",
    "and version != 'manual checkup needed'\n",
    "and ecosystem != 'cocoapods'\n",
    "and repository_url != 'no repository listed'\n",
    "group by ecosystem) as t2\n",
    "on t1.ecosystem = t2.ecosystem\n",
    "order by ecosystem asc;'''\n",
    "df = pd.DataFrame(sql.execute(q))"
   ]
  },
  {
   "cell_type": "code",
   "execution_count": 782,
   "metadata": {},
   "outputs": [
    {
     "output_type": "execute_result",
     "data": {
      "text/plain": [
       "  ecosystem  advisories  advisory_with_CVEs  packages  fixing_releases\n",
       "0  Composer         855                 599       228             1733\n",
       "1        Go         235                 190       183              325\n",
       "2     Maven        1374                1132       694             1950\n",
       "3       npm         792                 474       540              949\n",
       "4     NuGet         333                 277        92              410\n",
       "5       pip         567                 404       269              834\n",
       "6  RubyGems         221                 168       121              364"
      ],
      "text/html": "<div>\n<style scoped>\n    .dataframe tbody tr th:only-of-type {\n        vertical-align: middle;\n    }\n\n    .dataframe tbody tr th {\n        vertical-align: top;\n    }\n\n    .dataframe thead th {\n        text-align: right;\n    }\n</style>\n<table border=\"1\" class=\"dataframe\">\n  <thead>\n    <tr style=\"text-align: right;\">\n      <th></th>\n      <th>ecosystem</th>\n      <th>advisories</th>\n      <th>advisory_with_CVEs</th>\n      <th>packages</th>\n      <th>fixing_releases</th>\n    </tr>\n  </thead>\n  <tbody>\n    <tr>\n      <th>0</th>\n      <td>Composer</td>\n      <td>855</td>\n      <td>599</td>\n      <td>228</td>\n      <td>1733</td>\n    </tr>\n    <tr>\n      <th>1</th>\n      <td>Go</td>\n      <td>235</td>\n      <td>190</td>\n      <td>183</td>\n      <td>325</td>\n    </tr>\n    <tr>\n      <th>2</th>\n      <td>Maven</td>\n      <td>1374</td>\n      <td>1132</td>\n      <td>694</td>\n      <td>1950</td>\n    </tr>\n    <tr>\n      <th>3</th>\n      <td>npm</td>\n      <td>792</td>\n      <td>474</td>\n      <td>540</td>\n      <td>949</td>\n    </tr>\n    <tr>\n      <th>4</th>\n      <td>NuGet</td>\n      <td>333</td>\n      <td>277</td>\n      <td>92</td>\n      <td>410</td>\n    </tr>\n    <tr>\n      <th>5</th>\n      <td>pip</td>\n      <td>567</td>\n      <td>404</td>\n      <td>269</td>\n      <td>834</td>\n    </tr>\n    <tr>\n      <th>6</th>\n      <td>RubyGems</td>\n      <td>221</td>\n      <td>168</td>\n      <td>121</td>\n      <td>364</td>\n    </tr>\n  </tbody>\n</table>\n</div>"
     },
     "metadata": {},
     "execution_count": 782
    }
   ],
   "source": [
    "df"
   ]
  },
  {
   "cell_type": "code",
   "execution_count": 783,
   "metadata": {},
   "outputs": [
    {
     "output_type": "execute_result",
     "data": {
      "text/plain": [
       "           cwe\n",
       "ecosystem     \n",
       "Composer    68\n",
       "Go          50\n",
       "Maven      112\n",
       "NuGet       34\n",
       "RubyGems    47\n",
       "npm         82\n",
       "pip         84"
      ],
      "text/html": "<div>\n<style scoped>\n    .dataframe tbody tr th:only-of-type {\n        vertical-align: middle;\n    }\n\n    .dataframe tbody tr th {\n        vertical-align: top;\n    }\n\n    .dataframe thead th {\n        text-align: right;\n    }\n</style>\n<table border=\"1\" class=\"dataframe\">\n  <thead>\n    <tr style=\"text-align: right;\">\n      <th></th>\n      <th>cwe</th>\n    </tr>\n    <tr>\n      <th>ecosystem</th>\n      <th></th>\n    </tr>\n  </thead>\n  <tbody>\n    <tr>\n      <th>Composer</th>\n      <td>68</td>\n    </tr>\n    <tr>\n      <th>Go</th>\n      <td>50</td>\n    </tr>\n    <tr>\n      <th>Maven</th>\n      <td>112</td>\n    </tr>\n    <tr>\n      <th>NuGet</th>\n      <td>34</td>\n    </tr>\n    <tr>\n      <th>RubyGems</th>\n      <td>47</td>\n    </tr>\n    <tr>\n      <th>npm</th>\n      <td>82</td>\n    </tr>\n    <tr>\n      <th>pip</th>\n      <td>84</td>\n    </tr>\n  </tbody>\n</table>\n</div>"
     },
     "metadata": {},
     "execution_count": 783
    }
   ],
   "source": [
    "q = '''select ecosystem, ac.cwe as cwe\n",
    "from advisory a\n",
    "join package p on a.package_id = p.id\n",
    "join fixing_releases fr on a.id = fr.advisory_id\n",
    "join advisoryCWE aC on a.id = aC.advisory_id\n",
    "where type != 'Malicious Package'\n",
    "and version != 'manual checkup needed'\n",
    "and ecosystem != 'cocoapods'\n",
    "and repository_url != 'no repository listed';'''\n",
    "cwe = pd.DataFrame(sql.execute(q))\n",
    "total_cwes = cwe['cwe'].nunique()\n",
    "cwe = cwe.groupby('ecosystem')[['cwe']].nunique()\n",
    "cwe\n"
   ]
  },
  {
   "cell_type": "code",
   "execution_count": 784,
   "metadata": {},
   "outputs": [
    {
     "output_type": "execute_result",
     "data": {
      "text/plain": [
       "  ecosystem  advisories  advisory_with_CVEs  packages  fixing_releases  cwe\n",
       "0  Composer         855                 599       228             1733   68\n",
       "1        Go         235                 190       183              325   50\n",
       "2     Maven        1374                1132       694             1950  112\n",
       "3       npm         792                 474       540              949   82\n",
       "4     NuGet         333                 277        92              410   34\n",
       "5       pip         567                 404       269              834   84\n",
       "6  RubyGems         221                 168       121              364   47"
      ],
      "text/html": "<div>\n<style scoped>\n    .dataframe tbody tr th:only-of-type {\n        vertical-align: middle;\n    }\n\n    .dataframe tbody tr th {\n        vertical-align: top;\n    }\n\n    .dataframe thead th {\n        text-align: right;\n    }\n</style>\n<table border=\"1\" class=\"dataframe\">\n  <thead>\n    <tr style=\"text-align: right;\">\n      <th></th>\n      <th>ecosystem</th>\n      <th>advisories</th>\n      <th>advisory_with_CVEs</th>\n      <th>packages</th>\n      <th>fixing_releases</th>\n      <th>cwe</th>\n    </tr>\n  </thead>\n  <tbody>\n    <tr>\n      <th>0</th>\n      <td>Composer</td>\n      <td>855</td>\n      <td>599</td>\n      <td>228</td>\n      <td>1733</td>\n      <td>68</td>\n    </tr>\n    <tr>\n      <th>1</th>\n      <td>Go</td>\n      <td>235</td>\n      <td>190</td>\n      <td>183</td>\n      <td>325</td>\n      <td>50</td>\n    </tr>\n    <tr>\n      <th>2</th>\n      <td>Maven</td>\n      <td>1374</td>\n      <td>1132</td>\n      <td>694</td>\n      <td>1950</td>\n      <td>112</td>\n    </tr>\n    <tr>\n      <th>3</th>\n      <td>npm</td>\n      <td>792</td>\n      <td>474</td>\n      <td>540</td>\n      <td>949</td>\n      <td>82</td>\n    </tr>\n    <tr>\n      <th>4</th>\n      <td>NuGet</td>\n      <td>333</td>\n      <td>277</td>\n      <td>92</td>\n      <td>410</td>\n      <td>34</td>\n    </tr>\n    <tr>\n      <th>5</th>\n      <td>pip</td>\n      <td>567</td>\n      <td>404</td>\n      <td>269</td>\n      <td>834</td>\n      <td>84</td>\n    </tr>\n    <tr>\n      <th>6</th>\n      <td>RubyGems</td>\n      <td>221</td>\n      <td>168</td>\n      <td>121</td>\n      <td>364</td>\n      <td>47</td>\n    </tr>\n  </tbody>\n</table>\n</div>"
     },
     "metadata": {},
     "execution_count": 784
    }
   ],
   "source": [
    "df=reduce(lambda x,y : pd.merge(x,y,on='ecosystem'),[df, cwe])\n",
    "df.reset_index()\n",
    "df"
   ]
  },
  {
   "cell_type": "code",
   "execution_count": 785,
   "metadata": {},
   "outputs": [],
   "source": [
    "df.loc[len(df)]=['Total',df['advisories'].sum(),df['advisory_with_CVEs'].sum(),df['packages'].sum(), df['fixing_releases'].sum(), total_cwes] \n",
    "table = df"
   ]
  },
  {
   "cell_type": "code",
   "execution_count": 786,
   "metadata": {},
   "outputs": [
    {
     "output_type": "execute_result",
     "data": {
      "text/plain": [
       "  ecosystem            severity\n",
       "0  Composer  (0.04, 0.53, 0.43)\n",
       "1        Go   (0.06, 0.54, 0.4)\n",
       "2     Maven  (0.05, 0.54, 0.41)\n",
       "3     NuGet  (0.02, 0.33, 0.66)\n",
       "4  RubyGems  (0.03, 0.59, 0.38)\n",
       "5       npm  (0.05, 0.47, 0.48)\n",
       "6       pip  (0.06, 0.62, 0.32)\n",
       "8     Total  (0.05, 0.52, 0.43)"
      ],
      "text/html": "<div>\n<style scoped>\n    .dataframe tbody tr th:only-of-type {\n        vertical-align: middle;\n    }\n\n    .dataframe tbody tr th {\n        vertical-align: top;\n    }\n\n    .dataframe thead th {\n        text-align: right;\n    }\n</style>\n<table border=\"1\" class=\"dataframe\">\n  <thead>\n    <tr style=\"text-align: right;\">\n      <th></th>\n      <th>ecosystem</th>\n      <th>severity</th>\n    </tr>\n  </thead>\n  <tbody>\n    <tr>\n      <th>0</th>\n      <td>Composer</td>\n      <td>(0.04, 0.53, 0.43)</td>\n    </tr>\n    <tr>\n      <th>1</th>\n      <td>Go</td>\n      <td>(0.06, 0.54, 0.4)</td>\n    </tr>\n    <tr>\n      <th>2</th>\n      <td>Maven</td>\n      <td>(0.05, 0.54, 0.41)</td>\n    </tr>\n    <tr>\n      <th>3</th>\n      <td>NuGet</td>\n      <td>(0.02, 0.33, 0.66)</td>\n    </tr>\n    <tr>\n      <th>4</th>\n      <td>RubyGems</td>\n      <td>(0.03, 0.59, 0.38)</td>\n    </tr>\n    <tr>\n      <th>5</th>\n      <td>npm</td>\n      <td>(0.05, 0.47, 0.48)</td>\n    </tr>\n    <tr>\n      <th>6</th>\n      <td>pip</td>\n      <td>(0.06, 0.62, 0.32)</td>\n    </tr>\n    <tr>\n      <th>8</th>\n      <td>Total</td>\n      <td>(0.05, 0.52, 0.43)</td>\n    </tr>\n  </tbody>\n</table>\n</div>"
     },
     "metadata": {},
     "execution_count": 786
    }
   ],
   "source": [
    "q = '''select distinct a.id, p.ecosystem, a.severity\n",
    "from advisory a\n",
    "join package p on a.package_id = p.id\n",
    "join fixing_releases fr on a.id = fr.advisory_id\n",
    "join advisoryCWE aC on a.id = aC.advisory_id\n",
    "where type != 'Malicious Package'\n",
    "and version != 'manual checkup needed'\n",
    "and ecosystem != 'cocoapods'\n",
    "and repository_url != 'no repository listed';'''\n",
    "sev = pd.DataFrame(sql.execute(q))\n",
    "l, m, h = sev[sev['severity']=='L'],sev[sev['severity']=='M'],sev[sev['severity']=='H']\n",
    "eco_l = l.groupby('ecosystem')[['severity']].count()\n",
    "eco_l = eco_l.rename(columns={'severity':'L'})\n",
    "eco_m = m.groupby('ecosystem')[['severity']].count()\n",
    "eco_m = eco_m.rename(columns={'severity':'M'})\n",
    "eco_h = h.groupby('ecosystem')[['severity']].count()\n",
    "eco_h = eco_h.rename(columns={'severity':'H'})\n",
    "sf=reduce(lambda x,y : pd.merge(x,y,on='ecosystem'),[eco_l, eco_m, eco_h])\n",
    "sf = sf.reset_index()\n",
    "l,m,h = len(l), len(m), len(h)\n",
    "sf.loc[len(df)] = ['Total',l,m,h]\n",
    "sf['T'] = sf.L + sf.M + sf.H\n",
    "sf['L'] = round(sf['L'] / sf['T'],2)\n",
    "sf['M'] = round(sf['M'] / sf['T'],2)\n",
    "sf['H'] = round(sf['H'] / sf['T'],2)\n",
    "sf['severity'] = sf[['L','M','H']].apply(tuple, axis=1)\n",
    "sf = sf.drop(['L','M','H','T'], axis=1)\n",
    "sf"
   ]
  },
  {
   "cell_type": "code",
   "execution_count": 787,
   "metadata": {},
   "outputs": [
    {
     "output_type": "execute_result",
     "data": {
      "text/plain": [
       "  ecosystem  advisories  advisory_with_CVEs  packages  fixing_releases  cwe  \\\n",
       "0  Composer         855                 599       228             1733   68   \n",
       "1        Go         235                 190       183              325   50   \n",
       "2     Maven        1374                1132       694             1950  112   \n",
       "3       npm         792                 474       540              949   82   \n",
       "4     NuGet         333                 277        92              410   34   \n",
       "5       pip         567                 404       269              834   84   \n",
       "6  RubyGems         221                 168       121              364   47   \n",
       "7     Total        4377                3244      2127             6565  172   \n",
       "\n",
       "             severity  \n",
       "0  (0.04, 0.53, 0.43)  \n",
       "1   (0.06, 0.54, 0.4)  \n",
       "2  (0.05, 0.54, 0.41)  \n",
       "3  (0.05, 0.47, 0.48)  \n",
       "4  (0.02, 0.33, 0.66)  \n",
       "5  (0.06, 0.62, 0.32)  \n",
       "6  (0.03, 0.59, 0.38)  \n",
       "7  (0.05, 0.52, 0.43)  "
      ],
      "text/html": "<div>\n<style scoped>\n    .dataframe tbody tr th:only-of-type {\n        vertical-align: middle;\n    }\n\n    .dataframe tbody tr th {\n        vertical-align: top;\n    }\n\n    .dataframe thead th {\n        text-align: right;\n    }\n</style>\n<table border=\"1\" class=\"dataframe\">\n  <thead>\n    <tr style=\"text-align: right;\">\n      <th></th>\n      <th>ecosystem</th>\n      <th>advisories</th>\n      <th>advisory_with_CVEs</th>\n      <th>packages</th>\n      <th>fixing_releases</th>\n      <th>cwe</th>\n      <th>severity</th>\n    </tr>\n  </thead>\n  <tbody>\n    <tr>\n      <th>0</th>\n      <td>Composer</td>\n      <td>855</td>\n      <td>599</td>\n      <td>228</td>\n      <td>1733</td>\n      <td>68</td>\n      <td>(0.04, 0.53, 0.43)</td>\n    </tr>\n    <tr>\n      <th>1</th>\n      <td>Go</td>\n      <td>235</td>\n      <td>190</td>\n      <td>183</td>\n      <td>325</td>\n      <td>50</td>\n      <td>(0.06, 0.54, 0.4)</td>\n    </tr>\n    <tr>\n      <th>2</th>\n      <td>Maven</td>\n      <td>1374</td>\n      <td>1132</td>\n      <td>694</td>\n      <td>1950</td>\n      <td>112</td>\n      <td>(0.05, 0.54, 0.41)</td>\n    </tr>\n    <tr>\n      <th>3</th>\n      <td>npm</td>\n      <td>792</td>\n      <td>474</td>\n      <td>540</td>\n      <td>949</td>\n      <td>82</td>\n      <td>(0.05, 0.47, 0.48)</td>\n    </tr>\n    <tr>\n      <th>4</th>\n      <td>NuGet</td>\n      <td>333</td>\n      <td>277</td>\n      <td>92</td>\n      <td>410</td>\n      <td>34</td>\n      <td>(0.02, 0.33, 0.66)</td>\n    </tr>\n    <tr>\n      <th>5</th>\n      <td>pip</td>\n      <td>567</td>\n      <td>404</td>\n      <td>269</td>\n      <td>834</td>\n      <td>84</td>\n      <td>(0.06, 0.62, 0.32)</td>\n    </tr>\n    <tr>\n      <th>6</th>\n      <td>RubyGems</td>\n      <td>221</td>\n      <td>168</td>\n      <td>121</td>\n      <td>364</td>\n      <td>47</td>\n      <td>(0.03, 0.59, 0.38)</td>\n    </tr>\n    <tr>\n      <th>7</th>\n      <td>Total</td>\n      <td>4377</td>\n      <td>3244</td>\n      <td>2127</td>\n      <td>6565</td>\n      <td>172</td>\n      <td>(0.05, 0.52, 0.43)</td>\n    </tr>\n  </tbody>\n</table>\n</div>"
     },
     "metadata": {},
     "execution_count": 787
    }
   ],
   "source": [
    "df = reduce(lambda x,y : pd.merge(x,y,on='ecosystem'),[table, sf])\n",
    "df"
   ]
  },
  {
   "cell_type": "code",
   "execution_count": 788,
   "metadata": {},
   "outputs": [
    {
     "output_type": "execute_result",
     "data": {
      "text/plain": [
       "  ecosystem  advisories advisory_with_CVEs  packages  fixing_releases  cwe  \\\n",
       "0  Composer         855        599 (70.1%)       228             1733   68   \n",
       "1        Go         235        190 (80.9%)       183              325   50   \n",
       "2     Maven        1374       1132 (82.4%)       694             1950  112   \n",
       "3       npm         792        474 (59.8%)       540              949   82   \n",
       "4     NuGet         333        277 (83.2%)        92              410   34   \n",
       "5       pip         567        404 (71.3%)       269              834   84   \n",
       "6  RubyGems         221        168 (76.0%)       121              364   47   \n",
       "7     Total        4377       3244 (74.1%)      2127             6565  172   \n",
       "\n",
       "             severity      non-CVEs  \n",
       "0  (0.04, 0.53, 0.43)   256 (29.9%)  \n",
       "1   (0.06, 0.54, 0.4)    45 (19.1%)  \n",
       "2  (0.05, 0.54, 0.41)   242 (17.6%)  \n",
       "3  (0.05, 0.47, 0.48)   318 (40.2%)  \n",
       "4  (0.02, 0.33, 0.66)    56 (16.8%)  \n",
       "5  (0.06, 0.62, 0.32)   163 (28.7%)  \n",
       "6  (0.03, 0.59, 0.38)    53 (24.0%)  \n",
       "7  (0.05, 0.52, 0.43)  1133 (25.9%)  "
      ],
      "text/html": "<div>\n<style scoped>\n    .dataframe tbody tr th:only-of-type {\n        vertical-align: middle;\n    }\n\n    .dataframe tbody tr th {\n        vertical-align: top;\n    }\n\n    .dataframe thead th {\n        text-align: right;\n    }\n</style>\n<table border=\"1\" class=\"dataframe\">\n  <thead>\n    <tr style=\"text-align: right;\">\n      <th></th>\n      <th>ecosystem</th>\n      <th>advisories</th>\n      <th>advisory_with_CVEs</th>\n      <th>packages</th>\n      <th>fixing_releases</th>\n      <th>cwe</th>\n      <th>severity</th>\n      <th>non-CVEs</th>\n    </tr>\n  </thead>\n  <tbody>\n    <tr>\n      <th>0</th>\n      <td>Composer</td>\n      <td>855</td>\n      <td>599 (70.1%)</td>\n      <td>228</td>\n      <td>1733</td>\n      <td>68</td>\n      <td>(0.04, 0.53, 0.43)</td>\n      <td>256 (29.9%)</td>\n    </tr>\n    <tr>\n      <th>1</th>\n      <td>Go</td>\n      <td>235</td>\n      <td>190 (80.9%)</td>\n      <td>183</td>\n      <td>325</td>\n      <td>50</td>\n      <td>(0.06, 0.54, 0.4)</td>\n      <td>45 (19.1%)</td>\n    </tr>\n    <tr>\n      <th>2</th>\n      <td>Maven</td>\n      <td>1374</td>\n      <td>1132 (82.4%)</td>\n      <td>694</td>\n      <td>1950</td>\n      <td>112</td>\n      <td>(0.05, 0.54, 0.41)</td>\n      <td>242 (17.6%)</td>\n    </tr>\n    <tr>\n      <th>3</th>\n      <td>npm</td>\n      <td>792</td>\n      <td>474 (59.8%)</td>\n      <td>540</td>\n      <td>949</td>\n      <td>82</td>\n      <td>(0.05, 0.47, 0.48)</td>\n      <td>318 (40.2%)</td>\n    </tr>\n    <tr>\n      <th>4</th>\n      <td>NuGet</td>\n      <td>333</td>\n      <td>277 (83.2%)</td>\n      <td>92</td>\n      <td>410</td>\n      <td>34</td>\n      <td>(0.02, 0.33, 0.66)</td>\n      <td>56 (16.8%)</td>\n    </tr>\n    <tr>\n      <th>5</th>\n      <td>pip</td>\n      <td>567</td>\n      <td>404 (71.3%)</td>\n      <td>269</td>\n      <td>834</td>\n      <td>84</td>\n      <td>(0.06, 0.62, 0.32)</td>\n      <td>163 (28.7%)</td>\n    </tr>\n    <tr>\n      <th>6</th>\n      <td>RubyGems</td>\n      <td>221</td>\n      <td>168 (76.0%)</td>\n      <td>121</td>\n      <td>364</td>\n      <td>47</td>\n      <td>(0.03, 0.59, 0.38)</td>\n      <td>53 (24.0%)</td>\n    </tr>\n    <tr>\n      <th>7</th>\n      <td>Total</td>\n      <td>4377</td>\n      <td>3244 (74.1%)</td>\n      <td>2127</td>\n      <td>6565</td>\n      <td>172</td>\n      <td>(0.05, 0.52, 0.43)</td>\n      <td>1133 (25.9%)</td>\n    </tr>\n  </tbody>\n</table>\n</div>"
     },
     "metadata": {},
     "execution_count": 788
    }
   ],
   "source": [
    "df['non-CVEs'] = df['advisories'] - df['advisory_with_CVEs']\n",
    "df['percent'] = round (df['non-CVEs'] / df['advisories'] * 100 , 1)\n",
    "df['non-CVEs'] = df['non-CVEs'].map(str) + ' (' + df['percent'].map(str) +'%)'\n",
    "df.drop('percent', axis = 1)\n",
    "df['percent'] = round (df['advisory_with_CVEs'] / df['advisories'] * 100 , 1)\n",
    "df['advisory_with_CVEs'] = df['advisory_with_CVEs'].map(str) + ' (' + df['percent'].map(str) +'%)'\n",
    "df.drop('percent', axis = 1)"
   ]
  },
  {
   "cell_type": "code",
   "execution_count": 789,
   "metadata": {},
   "outputs": [
    {
     "output_type": "execute_result",
     "data": {
      "text/plain": [
       "  ecosystem  advisories  packages  fixing_releases  cwe            severity  \\\n",
       "0  Composer         855       228             1733   68  (0.04, 0.53, 0.43)   \n",
       "1        Go         235       183              325   50   (0.06, 0.54, 0.4)   \n",
       "2     Maven        1374       694             1950  112  (0.05, 0.54, 0.41)   \n",
       "3       npm         792       540              949   82  (0.05, 0.47, 0.48)   \n",
       "4     NuGet         333        92              410   34  (0.02, 0.33, 0.66)   \n",
       "5       pip         567       269              834   84  (0.06, 0.62, 0.32)   \n",
       "6  RubyGems         221       121              364   47  (0.03, 0.59, 0.38)   \n",
       "7     Total        4377      2127             6565  172  (0.05, 0.52, 0.43)   \n",
       "\n",
       "  advisory_with_CVEs      non-CVEs  \n",
       "0        599 (70.1%)   256 (29.9%)  \n",
       "1        190 (80.9%)    45 (19.1%)  \n",
       "2       1132 (82.4%)   242 (17.6%)  \n",
       "3        474 (59.8%)   318 (40.2%)  \n",
       "4        277 (83.2%)    56 (16.8%)  \n",
       "5        404 (71.3%)   163 (28.7%)  \n",
       "6        168 (76.0%)    53 (24.0%)  \n",
       "7       3244 (74.1%)  1133 (25.9%)  "
      ],
      "text/html": "<div>\n<style scoped>\n    .dataframe tbody tr th:only-of-type {\n        vertical-align: middle;\n    }\n\n    .dataframe tbody tr th {\n        vertical-align: top;\n    }\n\n    .dataframe thead th {\n        text-align: right;\n    }\n</style>\n<table border=\"1\" class=\"dataframe\">\n  <thead>\n    <tr style=\"text-align: right;\">\n      <th></th>\n      <th>ecosystem</th>\n      <th>advisories</th>\n      <th>packages</th>\n      <th>fixing_releases</th>\n      <th>cwe</th>\n      <th>severity</th>\n      <th>advisory_with_CVEs</th>\n      <th>non-CVEs</th>\n    </tr>\n  </thead>\n  <tbody>\n    <tr>\n      <th>0</th>\n      <td>Composer</td>\n      <td>855</td>\n      <td>228</td>\n      <td>1733</td>\n      <td>68</td>\n      <td>(0.04, 0.53, 0.43)</td>\n      <td>599 (70.1%)</td>\n      <td>256 (29.9%)</td>\n    </tr>\n    <tr>\n      <th>1</th>\n      <td>Go</td>\n      <td>235</td>\n      <td>183</td>\n      <td>325</td>\n      <td>50</td>\n      <td>(0.06, 0.54, 0.4)</td>\n      <td>190 (80.9%)</td>\n      <td>45 (19.1%)</td>\n    </tr>\n    <tr>\n      <th>2</th>\n      <td>Maven</td>\n      <td>1374</td>\n      <td>694</td>\n      <td>1950</td>\n      <td>112</td>\n      <td>(0.05, 0.54, 0.41)</td>\n      <td>1132 (82.4%)</td>\n      <td>242 (17.6%)</td>\n    </tr>\n    <tr>\n      <th>3</th>\n      <td>npm</td>\n      <td>792</td>\n      <td>540</td>\n      <td>949</td>\n      <td>82</td>\n      <td>(0.05, 0.47, 0.48)</td>\n      <td>474 (59.8%)</td>\n      <td>318 (40.2%)</td>\n    </tr>\n    <tr>\n      <th>4</th>\n      <td>NuGet</td>\n      <td>333</td>\n      <td>92</td>\n      <td>410</td>\n      <td>34</td>\n      <td>(0.02, 0.33, 0.66)</td>\n      <td>277 (83.2%)</td>\n      <td>56 (16.8%)</td>\n    </tr>\n    <tr>\n      <th>5</th>\n      <td>pip</td>\n      <td>567</td>\n      <td>269</td>\n      <td>834</td>\n      <td>84</td>\n      <td>(0.06, 0.62, 0.32)</td>\n      <td>404 (71.3%)</td>\n      <td>163 (28.7%)</td>\n    </tr>\n    <tr>\n      <th>6</th>\n      <td>RubyGems</td>\n      <td>221</td>\n      <td>121</td>\n      <td>364</td>\n      <td>47</td>\n      <td>(0.03, 0.59, 0.38)</td>\n      <td>168 (76.0%)</td>\n      <td>53 (24.0%)</td>\n    </tr>\n    <tr>\n      <th>7</th>\n      <td>Total</td>\n      <td>4377</td>\n      <td>2127</td>\n      <td>6565</td>\n      <td>172</td>\n      <td>(0.05, 0.52, 0.43)</td>\n      <td>3244 (74.1%)</td>\n      <td>1133 (25.9%)</td>\n    </tr>\n  </tbody>\n</table>\n</div>"
     },
     "metadata": {},
     "execution_count": 789
    }
   ],
   "source": [
    "df.columns\n",
    "cols = ['ecosystem',  'advisories', 'packages', 'fixing_releases',  'cwe', 'severity', 'advisory_with_CVEs', 'non-CVEs']\n",
    "df =df[cols]\n",
    "df"
   ]
  },
  {
   "cell_type": "code",
   "execution_count": 790,
   "metadata": {},
   "outputs": [
    {
     "output_type": "stream",
     "name": "stdout",
     "text": [
      "\\begin{tabular}{lrrrrlll}\n\\hline\n ecosystem   &   advisories &   packages &   fixing\\_releases &   cwe & severity           & advisory\\_with\\_CVEs   & non-CVEs     \\\\\n\\hline\n Composer    &          855 &        228 &              1733 &    68 & (0.04, 0.53, 0.43) & 599 (70.1\\%)          & 256 (29.9\\%)  \\\\\n Go          &          235 &        183 &               325 &    50 & (0.06, 0.54, 0.4)  & 190 (80.9\\%)          & 45 (19.1\\%)   \\\\\n Maven       &         1374 &        694 &              1950 &   112 & (0.05, 0.54, 0.41) & 1132 (82.4\\%)         & 242 (17.6\\%)  \\\\\n npm         &          792 &        540 &               949 &    82 & (0.05, 0.47, 0.48) & 474 (59.8\\%)          & 318 (40.2\\%)  \\\\\n NuGet       &          333 &         92 &               410 &    34 & (0.02, 0.33, 0.66) & 277 (83.2\\%)          & 56 (16.8\\%)   \\\\\n pip         &          567 &        269 &               834 &    84 & (0.06, 0.62, 0.32) & 404 (71.3\\%)          & 163 (28.7\\%)  \\\\\n RubyGems    &          221 &        121 &               364 &    47 & (0.03, 0.59, 0.38) & 168 (76.0\\%)          & 53 (24.0\\%)   \\\\\n Total       &         4377 &       2127 &              6565 &   172 & (0.05, 0.52, 0.43) & 3244 (74.1\\%)         & 1133 (25.9\\%) \\\\\n\\hline\n\\end{tabular}\n"
     ]
    }
   ],
   "source": [
    "print(tabulate(df, tablefmt='latex', headers='keys',showindex=False))"
   ]
  },
  {
   "cell_type": "code",
   "execution_count": 791,
   "metadata": {},
   "outputs": [
    {
     "output_type": "display_data",
     "data": {
      "text/plain": "<Figure size 432x288 with 1 Axes>",
      "image/svg+xml": "<?xml version=\"1.0\" encoding=\"utf-8\" standalone=\"no\"?>\n<!DOCTYPE svg PUBLIC \"-//W3C//DTD SVG 1.1//EN\"\n  \"http://www.w3.org/Graphics/SVG/1.1/DTD/svg11.dtd\">\n<!-- Created with matplotlib (https://matplotlib.org/) -->\n<svg height=\"293.08625pt\" version=\"1.1\" viewBox=\"0 0 381.65 293.08625\" width=\"381.65pt\" xmlns=\"http://www.w3.org/2000/svg\" xmlns:xlink=\"http://www.w3.org/1999/xlink\">\n <metadata>\n  <rdf:RDF xmlns:cc=\"http://creativecommons.org/ns#\" xmlns:dc=\"http://purl.org/dc/elements/1.1/\" xmlns:rdf=\"http://www.w3.org/1999/02/22-rdf-syntax-ns#\">\n   <cc:Work>\n    <dc:type rdf:resource=\"http://purl.org/dc/dcmitype/StillImage\"/>\n    <dc:date>2021-05-01T23:28:49.046794</dc:date>\n    <dc:format>image/svg+xml</dc:format>\n    <dc:creator>\n     <cc:Agent>\n      <dc:title>Matplotlib v3.3.4, https://matplotlib.org/</dc:title>\n     </cc:Agent>\n    </dc:creator>\n   </cc:Work>\n  </rdf:RDF>\n </metadata>\n <defs>\n  <style type=\"text/css\">*{stroke-linecap:butt;stroke-linejoin:round;}</style>\n </defs>\n <g id=\"figure_1\">\n  <g id=\"patch_1\">\n   <path d=\"M -0 293.08625 \nL 381.65 293.08625 \nL 381.65 0 \nL -0 0 \nz\n\" style=\"fill:none;\"/>\n  </g>\n  <g id=\"axes_1\">\n   <g id=\"patch_2\">\n    <path d=\"M 39.65 239.758125 \nL 374.45 239.758125 \nL 374.45 22.318125 \nL 39.65 22.318125 \nz\n\" style=\"fill:#ffffff;\"/>\n   </g>\n   <g id=\"patch_3\">\n    <path clip-path=\"url(#p2404a79a1d)\" d=\"M 44.573529 239.758125 \nL 54.420588 239.758125 \nL 54.420588 239.663501 \nL 44.573529 239.663501 \nz\n\" style=\"fill:#1f77b4;\"/>\n   </g>\n   <g id=\"patch_4\">\n    <path clip-path=\"url(#p2404a79a1d)\" d=\"M 64.267647 239.758125 \nL 74.114706 239.758125 \nL 74.114706 239.474252 \nL 64.267647 239.474252 \nz\n\" style=\"fill:#1f77b4;\"/>\n   </g>\n   <g id=\"patch_5\">\n    <path clip-path=\"url(#p2404a79a1d)\" d=\"M 83.961765 239.758125 \nL 93.808824 239.758125 \nL 93.808824 239.285003 \nL 83.961765 239.285003 \nz\n\" style=\"fill:#1f77b4;\"/>\n   </g>\n   <g id=\"patch_6\">\n    <path clip-path=\"url(#p2404a79a1d)\" d=\"M 103.655882 239.758125 \nL 113.502941 239.758125 \nL 113.502941 238.81188 \nL 103.655882 238.81188 \nz\n\" style=\"fill:#1f77b4;\"/>\n   </g>\n   <g id=\"patch_7\">\n    <path clip-path=\"url(#p2404a79a1d)\" d=\"M 123.35 239.758125 \nL 133.197059 239.758125 \nL 133.197059 238.528007 \nL 123.35 238.528007 \nz\n\" style=\"fill:#1f77b4;\"/>\n   </g>\n   <g id=\"patch_8\">\n    <path clip-path=\"url(#p2404a79a1d)\" d=\"M 143.044118 239.758125 \nL 152.891176 239.758125 \nL 152.891176 236.398955 \nL 143.044118 236.398955 \nz\n\" style=\"fill:#1f77b4;\"/>\n   </g>\n   <g id=\"patch_9\">\n    <path clip-path=\"url(#p2404a79a1d)\" d=\"M 162.738235 239.758125 \nL 172.585294 239.758125 \nL 172.585294 234.127967 \nL 162.738235 234.127967 \nz\n\" style=\"fill:#1f77b4;\"/>\n   </g>\n   <g id=\"patch_10\">\n    <path clip-path=\"url(#p2404a79a1d)\" d=\"M 182.432353 239.758125 \nL 192.279412 239.758125 \nL 192.279412 229.160181 \nL 182.432353 229.160181 \nz\n\" style=\"fill:#1f77b4;\"/>\n   </g>\n   <g id=\"patch_11\">\n    <path clip-path=\"url(#p2404a79a1d)\" d=\"M 202.126471 239.758125 \nL 211.973529 239.758125 \nL 211.973529 221.164411 \nL 202.126471 221.164411 \nz\n\" style=\"fill:#1f77b4;\"/>\n   </g>\n   <g id=\"patch_12\">\n    <path clip-path=\"url(#p2404a79a1d)\" d=\"M 221.820588 239.758125 \nL 231.667647 239.758125 \nL 231.667647 211.560025 \nL 221.820588 211.560025 \nz\n\" style=\"fill:#1f77b4;\"/>\n   </g>\n   <g id=\"patch_13\">\n    <path clip-path=\"url(#p2404a79a1d)\" d=\"M 241.514706 239.758125 \nL 251.361765 239.758125 \nL 251.361765 198.501844 \nL 241.514706 198.501844 \nz\n\" style=\"fill:#1f77b4;\"/>\n   </g>\n   <g id=\"patch_14\">\n    <path clip-path=\"url(#p2404a79a1d)\" d=\"M 261.208824 239.758125 \nL 271.055882 239.758125 \nL 271.055882 179.90813 \nL 261.208824 179.90813 \nz\n\" style=\"fill:#1f77b4;\"/>\n   </g>\n   <g id=\"patch_15\">\n    <path clip-path=\"url(#p2404a79a1d)\" d=\"M 280.902941 239.758125 \nL 290.75 239.758125 \nL 290.75 158.66493 \nL 280.902941 158.66493 \nz\n\" style=\"fill:#1f77b4;\"/>\n   </g>\n   <g id=\"patch_16\">\n    <path clip-path=\"url(#p2404a79a1d)\" d=\"M 300.597059 239.758125 \nL 310.444118 239.758125 \nL 310.444118 123.559241 \nL 300.597059 123.559241 \nz\n\" style=\"fill:#1f77b4;\"/>\n   </g>\n   <g id=\"patch_17\">\n    <path clip-path=\"url(#p2404a79a1d)\" d=\"M 320.291176 239.758125 \nL 330.138235 239.758125 \nL 330.138235 90.866477 \nL 320.291176 90.866477 \nz\n\" style=\"fill:#1f77b4;\"/>\n   </g>\n   <g id=\"patch_18\">\n    <path clip-path=\"url(#p2404a79a1d)\" d=\"M 339.985294 239.758125 \nL 349.832353 239.758125 \nL 349.832353 42.32411 \nL 339.985294 42.32411 \nz\n\" style=\"fill:#1f77b4;\"/>\n   </g>\n   <g id=\"patch_19\">\n    <path clip-path=\"url(#p2404a79a1d)\" d=\"M 359.679412 239.758125 \nL 369.526471 239.758125 \nL 369.526471 32.672411 \nL 359.679412 32.672411 \nz\n\" style=\"fill:#1f77b4;\"/>\n   </g>\n   <g id=\"matplotlib.axis_1\">\n    <g id=\"xtick_1\">\n     <g id=\"line2d_1\">\n      <defs>\n       <path d=\"M 0 0 \nL 0 3.5 \n\" id=\"mc78b4902b9\" style=\"stroke:#000000;stroke-width:0.8;\"/>\n      </defs>\n      <g>\n       <use style=\"stroke:#000000;stroke-width:0.8;\" x=\"49.497059\" xlink:href=\"#mc78b4902b9\" y=\"239.758125\"/>\n      </g>\n     </g>\n     <g id=\"text_1\">\n      <!-- 2005 -->\n      <g transform=\"translate(52.256434 272.208125)rotate(-90)scale(0.1 -0.1)\">\n       <defs>\n        <path d=\"M 19.1875 8.296875 \nL 53.609375 8.296875 \nL 53.609375 0 \nL 7.328125 0 \nL 7.328125 8.296875 \nQ 12.9375 14.109375 22.625 23.890625 \nQ 32.328125 33.6875 34.8125 36.53125 \nQ 39.546875 41.84375 41.421875 45.53125 \nQ 43.3125 49.21875 43.3125 52.78125 \nQ 43.3125 58.59375 39.234375 62.25 \nQ 35.15625 65.921875 28.609375 65.921875 \nQ 23.96875 65.921875 18.8125 64.3125 \nQ 13.671875 62.703125 7.8125 59.421875 \nL 7.8125 69.390625 \nQ 13.765625 71.78125 18.9375 73 \nQ 24.125 74.21875 28.421875 74.21875 \nQ 39.75 74.21875 46.484375 68.546875 \nQ 53.21875 62.890625 53.21875 53.421875 \nQ 53.21875 48.921875 51.53125 44.890625 \nQ 49.859375 40.875 45.40625 35.40625 \nQ 44.1875 33.984375 37.640625 27.21875 \nQ 31.109375 20.453125 19.1875 8.296875 \nz\n\" id=\"DejaVuSans-50\"/>\n        <path d=\"M 31.78125 66.40625 \nQ 24.171875 66.40625 20.328125 58.90625 \nQ 16.5 51.421875 16.5 36.375 \nQ 16.5 21.390625 20.328125 13.890625 \nQ 24.171875 6.390625 31.78125 6.390625 \nQ 39.453125 6.390625 43.28125 13.890625 \nQ 47.125 21.390625 47.125 36.375 \nQ 47.125 51.421875 43.28125 58.90625 \nQ 39.453125 66.40625 31.78125 66.40625 \nz\nM 31.78125 74.21875 \nQ 44.046875 74.21875 50.515625 64.515625 \nQ 56.984375 54.828125 56.984375 36.375 \nQ 56.984375 17.96875 50.515625 8.265625 \nQ 44.046875 -1.421875 31.78125 -1.421875 \nQ 19.53125 -1.421875 13.0625 8.265625 \nQ 6.59375 17.96875 6.59375 36.375 \nQ 6.59375 54.828125 13.0625 64.515625 \nQ 19.53125 74.21875 31.78125 74.21875 \nz\n\" id=\"DejaVuSans-48\"/>\n        <path d=\"M 10.796875 72.90625 \nL 49.515625 72.90625 \nL 49.515625 64.59375 \nL 19.828125 64.59375 \nL 19.828125 46.734375 \nQ 21.96875 47.46875 24.109375 47.828125 \nQ 26.265625 48.1875 28.421875 48.1875 \nQ 40.625 48.1875 47.75 41.5 \nQ 54.890625 34.8125 54.890625 23.390625 \nQ 54.890625 11.625 47.5625 5.09375 \nQ 40.234375 -1.421875 26.90625 -1.421875 \nQ 22.3125 -1.421875 17.546875 -0.640625 \nQ 12.796875 0.140625 7.71875 1.703125 \nL 7.71875 11.625 \nQ 12.109375 9.234375 16.796875 8.0625 \nQ 21.484375 6.890625 26.703125 6.890625 \nQ 35.15625 6.890625 40.078125 11.328125 \nQ 45.015625 15.765625 45.015625 23.390625 \nQ 45.015625 31 40.078125 35.4375 \nQ 35.15625 39.890625 26.703125 39.890625 \nQ 22.75 39.890625 18.8125 39.015625 \nQ 14.890625 38.140625 10.796875 36.28125 \nz\n\" id=\"DejaVuSans-53\"/>\n       </defs>\n       <use xlink:href=\"#DejaVuSans-50\"/>\n       <use x=\"63.623047\" xlink:href=\"#DejaVuSans-48\"/>\n       <use x=\"127.246094\" xlink:href=\"#DejaVuSans-48\"/>\n       <use x=\"190.869141\" xlink:href=\"#DejaVuSans-53\"/>\n      </g>\n     </g>\n    </g>\n    <g id=\"xtick_2\">\n     <g id=\"line2d_2\">\n      <g>\n       <use style=\"stroke:#000000;stroke-width:0.8;\" x=\"69.191176\" xlink:href=\"#mc78b4902b9\" y=\"239.758125\"/>\n      </g>\n     </g>\n     <g id=\"text_2\">\n      <!-- 2006 -->\n      <g transform=\"translate(71.950551 272.208125)rotate(-90)scale(0.1 -0.1)\">\n       <defs>\n        <path d=\"M 33.015625 40.375 \nQ 26.375 40.375 22.484375 35.828125 \nQ 18.609375 31.296875 18.609375 23.390625 \nQ 18.609375 15.53125 22.484375 10.953125 \nQ 26.375 6.390625 33.015625 6.390625 \nQ 39.65625 6.390625 43.53125 10.953125 \nQ 47.40625 15.53125 47.40625 23.390625 \nQ 47.40625 31.296875 43.53125 35.828125 \nQ 39.65625 40.375 33.015625 40.375 \nz\nM 52.59375 71.296875 \nL 52.59375 62.3125 \nQ 48.875 64.0625 45.09375 64.984375 \nQ 41.3125 65.921875 37.59375 65.921875 \nQ 27.828125 65.921875 22.671875 59.328125 \nQ 17.53125 52.734375 16.796875 39.40625 \nQ 19.671875 43.65625 24.015625 45.921875 \nQ 28.375 48.1875 33.59375 48.1875 \nQ 44.578125 48.1875 50.953125 41.515625 \nQ 57.328125 34.859375 57.328125 23.390625 \nQ 57.328125 12.15625 50.6875 5.359375 \nQ 44.046875 -1.421875 33.015625 -1.421875 \nQ 20.359375 -1.421875 13.671875 8.265625 \nQ 6.984375 17.96875 6.984375 36.375 \nQ 6.984375 53.65625 15.1875 63.9375 \nQ 23.390625 74.21875 37.203125 74.21875 \nQ 40.921875 74.21875 44.703125 73.484375 \nQ 48.484375 72.75 52.59375 71.296875 \nz\n\" id=\"DejaVuSans-54\"/>\n       </defs>\n       <use xlink:href=\"#DejaVuSans-50\"/>\n       <use x=\"63.623047\" xlink:href=\"#DejaVuSans-48\"/>\n       <use x=\"127.246094\" xlink:href=\"#DejaVuSans-48\"/>\n       <use x=\"190.869141\" xlink:href=\"#DejaVuSans-54\"/>\n      </g>\n     </g>\n    </g>\n    <g id=\"xtick_3\">\n     <g id=\"line2d_3\">\n      <g>\n       <use style=\"stroke:#000000;stroke-width:0.8;\" x=\"88.885294\" xlink:href=\"#mc78b4902b9\" y=\"239.758125\"/>\n      </g>\n     </g>\n     <g id=\"text_3\">\n      <!-- 2007 -->\n      <g transform=\"translate(91.644669 272.208125)rotate(-90)scale(0.1 -0.1)\">\n       <defs>\n        <path d=\"M 8.203125 72.90625 \nL 55.078125 72.90625 \nL 55.078125 68.703125 \nL 28.609375 0 \nL 18.3125 0 \nL 43.21875 64.59375 \nL 8.203125 64.59375 \nz\n\" id=\"DejaVuSans-55\"/>\n       </defs>\n       <use xlink:href=\"#DejaVuSans-50\"/>\n       <use x=\"63.623047\" xlink:href=\"#DejaVuSans-48\"/>\n       <use x=\"127.246094\" xlink:href=\"#DejaVuSans-48\"/>\n       <use x=\"190.869141\" xlink:href=\"#DejaVuSans-55\"/>\n      </g>\n     </g>\n    </g>\n    <g id=\"xtick_4\">\n     <g id=\"line2d_4\">\n      <g>\n       <use style=\"stroke:#000000;stroke-width:0.8;\" x=\"108.579412\" xlink:href=\"#mc78b4902b9\" y=\"239.758125\"/>\n      </g>\n     </g>\n     <g id=\"text_4\">\n      <!-- 2008 -->\n      <g transform=\"translate(111.338787 272.208125)rotate(-90)scale(0.1 -0.1)\">\n       <defs>\n        <path d=\"M 31.78125 34.625 \nQ 24.75 34.625 20.71875 30.859375 \nQ 16.703125 27.09375 16.703125 20.515625 \nQ 16.703125 13.921875 20.71875 10.15625 \nQ 24.75 6.390625 31.78125 6.390625 \nQ 38.8125 6.390625 42.859375 10.171875 \nQ 46.921875 13.96875 46.921875 20.515625 \nQ 46.921875 27.09375 42.890625 30.859375 \nQ 38.875 34.625 31.78125 34.625 \nz\nM 21.921875 38.8125 \nQ 15.578125 40.375 12.03125 44.71875 \nQ 8.5 49.078125 8.5 55.328125 \nQ 8.5 64.0625 14.71875 69.140625 \nQ 20.953125 74.21875 31.78125 74.21875 \nQ 42.671875 74.21875 48.875 69.140625 \nQ 55.078125 64.0625 55.078125 55.328125 \nQ 55.078125 49.078125 51.53125 44.71875 \nQ 48 40.375 41.703125 38.8125 \nQ 48.828125 37.15625 52.796875 32.3125 \nQ 56.78125 27.484375 56.78125 20.515625 \nQ 56.78125 9.90625 50.3125 4.234375 \nQ 43.84375 -1.421875 31.78125 -1.421875 \nQ 19.734375 -1.421875 13.25 4.234375 \nQ 6.78125 9.90625 6.78125 20.515625 \nQ 6.78125 27.484375 10.78125 32.3125 \nQ 14.796875 37.15625 21.921875 38.8125 \nz\nM 18.3125 54.390625 \nQ 18.3125 48.734375 21.84375 45.5625 \nQ 25.390625 42.390625 31.78125 42.390625 \nQ 38.140625 42.390625 41.71875 45.5625 \nQ 45.3125 48.734375 45.3125 54.390625 \nQ 45.3125 60.0625 41.71875 63.234375 \nQ 38.140625 66.40625 31.78125 66.40625 \nQ 25.390625 66.40625 21.84375 63.234375 \nQ 18.3125 60.0625 18.3125 54.390625 \nz\n\" id=\"DejaVuSans-56\"/>\n       </defs>\n       <use xlink:href=\"#DejaVuSans-50\"/>\n       <use x=\"63.623047\" xlink:href=\"#DejaVuSans-48\"/>\n       <use x=\"127.246094\" xlink:href=\"#DejaVuSans-48\"/>\n       <use x=\"190.869141\" xlink:href=\"#DejaVuSans-56\"/>\n      </g>\n     </g>\n    </g>\n    <g id=\"xtick_5\">\n     <g id=\"line2d_5\">\n      <g>\n       <use style=\"stroke:#000000;stroke-width:0.8;\" x=\"128.273529\" xlink:href=\"#mc78b4902b9\" y=\"239.758125\"/>\n      </g>\n     </g>\n     <g id=\"text_5\">\n      <!-- 2009 -->\n      <g transform=\"translate(131.032904 272.208125)rotate(-90)scale(0.1 -0.1)\">\n       <defs>\n        <path d=\"M 10.984375 1.515625 \nL 10.984375 10.5 \nQ 14.703125 8.734375 18.5 7.8125 \nQ 22.3125 6.890625 25.984375 6.890625 \nQ 35.75 6.890625 40.890625 13.453125 \nQ 46.046875 20.015625 46.78125 33.40625 \nQ 43.953125 29.203125 39.59375 26.953125 \nQ 35.25 24.703125 29.984375 24.703125 \nQ 19.046875 24.703125 12.671875 31.3125 \nQ 6.296875 37.9375 6.296875 49.421875 \nQ 6.296875 60.640625 12.9375 67.421875 \nQ 19.578125 74.21875 30.609375 74.21875 \nQ 43.265625 74.21875 49.921875 64.515625 \nQ 56.59375 54.828125 56.59375 36.375 \nQ 56.59375 19.140625 48.40625 8.859375 \nQ 40.234375 -1.421875 26.421875 -1.421875 \nQ 22.703125 -1.421875 18.890625 -0.6875 \nQ 15.09375 0.046875 10.984375 1.515625 \nz\nM 30.609375 32.421875 \nQ 37.25 32.421875 41.125 36.953125 \nQ 45.015625 41.5 45.015625 49.421875 \nQ 45.015625 57.28125 41.125 61.84375 \nQ 37.25 66.40625 30.609375 66.40625 \nQ 23.96875 66.40625 20.09375 61.84375 \nQ 16.21875 57.28125 16.21875 49.421875 \nQ 16.21875 41.5 20.09375 36.953125 \nQ 23.96875 32.421875 30.609375 32.421875 \nz\n\" id=\"DejaVuSans-57\"/>\n       </defs>\n       <use xlink:href=\"#DejaVuSans-50\"/>\n       <use x=\"63.623047\" xlink:href=\"#DejaVuSans-48\"/>\n       <use x=\"127.246094\" xlink:href=\"#DejaVuSans-48\"/>\n       <use x=\"190.869141\" xlink:href=\"#DejaVuSans-57\"/>\n      </g>\n     </g>\n    </g>\n    <g id=\"xtick_6\">\n     <g id=\"line2d_6\">\n      <g>\n       <use style=\"stroke:#000000;stroke-width:0.8;\" x=\"147.967647\" xlink:href=\"#mc78b4902b9\" y=\"239.758125\"/>\n      </g>\n     </g>\n     <g id=\"text_6\">\n      <!-- 2010 -->\n      <g transform=\"translate(150.727022 272.208125)rotate(-90)scale(0.1 -0.1)\">\n       <defs>\n        <path d=\"M 12.40625 8.296875 \nL 28.515625 8.296875 \nL 28.515625 63.921875 \nL 10.984375 60.40625 \nL 10.984375 69.390625 \nL 28.421875 72.90625 \nL 38.28125 72.90625 \nL 38.28125 8.296875 \nL 54.390625 8.296875 \nL 54.390625 0 \nL 12.40625 0 \nz\n\" id=\"DejaVuSans-49\"/>\n       </defs>\n       <use xlink:href=\"#DejaVuSans-50\"/>\n       <use x=\"63.623047\" xlink:href=\"#DejaVuSans-48\"/>\n       <use x=\"127.246094\" xlink:href=\"#DejaVuSans-49\"/>\n       <use x=\"190.869141\" xlink:href=\"#DejaVuSans-48\"/>\n      </g>\n     </g>\n    </g>\n    <g id=\"xtick_7\">\n     <g id=\"line2d_7\">\n      <g>\n       <use style=\"stroke:#000000;stroke-width:0.8;\" x=\"167.661765\" xlink:href=\"#mc78b4902b9\" y=\"239.758125\"/>\n      </g>\n     </g>\n     <g id=\"text_7\">\n      <!-- 2011 -->\n      <g transform=\"translate(170.42114 272.208125)rotate(-90)scale(0.1 -0.1)\">\n       <use xlink:href=\"#DejaVuSans-50\"/>\n       <use x=\"63.623047\" xlink:href=\"#DejaVuSans-48\"/>\n       <use x=\"127.246094\" xlink:href=\"#DejaVuSans-49\"/>\n       <use x=\"190.869141\" xlink:href=\"#DejaVuSans-49\"/>\n      </g>\n     </g>\n    </g>\n    <g id=\"xtick_8\">\n     <g id=\"line2d_8\">\n      <g>\n       <use style=\"stroke:#000000;stroke-width:0.8;\" x=\"187.355882\" xlink:href=\"#mc78b4902b9\" y=\"239.758125\"/>\n      </g>\n     </g>\n     <g id=\"text_8\">\n      <!-- 2012 -->\n      <g transform=\"translate(190.115257 272.208125)rotate(-90)scale(0.1 -0.1)\">\n       <use xlink:href=\"#DejaVuSans-50\"/>\n       <use x=\"63.623047\" xlink:href=\"#DejaVuSans-48\"/>\n       <use x=\"127.246094\" xlink:href=\"#DejaVuSans-49\"/>\n       <use x=\"190.869141\" xlink:href=\"#DejaVuSans-50\"/>\n      </g>\n     </g>\n    </g>\n    <g id=\"xtick_9\">\n     <g id=\"line2d_9\">\n      <g>\n       <use style=\"stroke:#000000;stroke-width:0.8;\" x=\"207.05\" xlink:href=\"#mc78b4902b9\" y=\"239.758125\"/>\n      </g>\n     </g>\n     <g id=\"text_9\">\n      <!-- 2013 -->\n      <g transform=\"translate(209.809375 272.208125)rotate(-90)scale(0.1 -0.1)\">\n       <defs>\n        <path d=\"M 40.578125 39.3125 \nQ 47.65625 37.796875 51.625 33 \nQ 55.609375 28.21875 55.609375 21.1875 \nQ 55.609375 10.40625 48.1875 4.484375 \nQ 40.765625 -1.421875 27.09375 -1.421875 \nQ 22.515625 -1.421875 17.65625 -0.515625 \nQ 12.796875 0.390625 7.625 2.203125 \nL 7.625 11.71875 \nQ 11.71875 9.328125 16.59375 8.109375 \nQ 21.484375 6.890625 26.8125 6.890625 \nQ 36.078125 6.890625 40.9375 10.546875 \nQ 45.796875 14.203125 45.796875 21.1875 \nQ 45.796875 27.640625 41.28125 31.265625 \nQ 36.765625 34.90625 28.71875 34.90625 \nL 20.21875 34.90625 \nL 20.21875 43.015625 \nL 29.109375 43.015625 \nQ 36.375 43.015625 40.234375 45.921875 \nQ 44.09375 48.828125 44.09375 54.296875 \nQ 44.09375 59.90625 40.109375 62.90625 \nQ 36.140625 65.921875 28.71875 65.921875 \nQ 24.65625 65.921875 20.015625 65.03125 \nQ 15.375 64.15625 9.8125 62.3125 \nL 9.8125 71.09375 \nQ 15.4375 72.65625 20.34375 73.4375 \nQ 25.25 74.21875 29.59375 74.21875 \nQ 40.828125 74.21875 47.359375 69.109375 \nQ 53.90625 64.015625 53.90625 55.328125 \nQ 53.90625 49.265625 50.4375 45.09375 \nQ 46.96875 40.921875 40.578125 39.3125 \nz\n\" id=\"DejaVuSans-51\"/>\n       </defs>\n       <use xlink:href=\"#DejaVuSans-50\"/>\n       <use x=\"63.623047\" xlink:href=\"#DejaVuSans-48\"/>\n       <use x=\"127.246094\" xlink:href=\"#DejaVuSans-49\"/>\n       <use x=\"190.869141\" xlink:href=\"#DejaVuSans-51\"/>\n      </g>\n     </g>\n    </g>\n    <g id=\"xtick_10\">\n     <g id=\"line2d_10\">\n      <g>\n       <use style=\"stroke:#000000;stroke-width:0.8;\" x=\"226.744118\" xlink:href=\"#mc78b4902b9\" y=\"239.758125\"/>\n      </g>\n     </g>\n     <g id=\"text_10\">\n      <!-- 2014 -->\n      <g transform=\"translate(229.503493 272.208125)rotate(-90)scale(0.1 -0.1)\">\n       <defs>\n        <path d=\"M 37.796875 64.3125 \nL 12.890625 25.390625 \nL 37.796875 25.390625 \nz\nM 35.203125 72.90625 \nL 47.609375 72.90625 \nL 47.609375 25.390625 \nL 58.015625 25.390625 \nL 58.015625 17.1875 \nL 47.609375 17.1875 \nL 47.609375 0 \nL 37.796875 0 \nL 37.796875 17.1875 \nL 4.890625 17.1875 \nL 4.890625 26.703125 \nz\n\" id=\"DejaVuSans-52\"/>\n       </defs>\n       <use xlink:href=\"#DejaVuSans-50\"/>\n       <use x=\"63.623047\" xlink:href=\"#DejaVuSans-48\"/>\n       <use x=\"127.246094\" xlink:href=\"#DejaVuSans-49\"/>\n       <use x=\"190.869141\" xlink:href=\"#DejaVuSans-52\"/>\n      </g>\n     </g>\n    </g>\n    <g id=\"xtick_11\">\n     <g id=\"line2d_11\">\n      <g>\n       <use style=\"stroke:#000000;stroke-width:0.8;\" x=\"246.438235\" xlink:href=\"#mc78b4902b9\" y=\"239.758125\"/>\n      </g>\n     </g>\n     <g id=\"text_11\">\n      <!-- 2015 -->\n      <g transform=\"translate(249.19761 272.208125)rotate(-90)scale(0.1 -0.1)\">\n       <use xlink:href=\"#DejaVuSans-50\"/>\n       <use x=\"63.623047\" xlink:href=\"#DejaVuSans-48\"/>\n       <use x=\"127.246094\" xlink:href=\"#DejaVuSans-49\"/>\n       <use x=\"190.869141\" xlink:href=\"#DejaVuSans-53\"/>\n      </g>\n     </g>\n    </g>\n    <g id=\"xtick_12\">\n     <g id=\"line2d_12\">\n      <g>\n       <use style=\"stroke:#000000;stroke-width:0.8;\" x=\"266.132353\" xlink:href=\"#mc78b4902b9\" y=\"239.758125\"/>\n      </g>\n     </g>\n     <g id=\"text_12\">\n      <!-- 2016 -->\n      <g transform=\"translate(268.891728 272.208125)rotate(-90)scale(0.1 -0.1)\">\n       <use xlink:href=\"#DejaVuSans-50\"/>\n       <use x=\"63.623047\" xlink:href=\"#DejaVuSans-48\"/>\n       <use x=\"127.246094\" xlink:href=\"#DejaVuSans-49\"/>\n       <use x=\"190.869141\" xlink:href=\"#DejaVuSans-54\"/>\n      </g>\n     </g>\n    </g>\n    <g id=\"xtick_13\">\n     <g id=\"line2d_13\">\n      <g>\n       <use style=\"stroke:#000000;stroke-width:0.8;\" x=\"285.826471\" xlink:href=\"#mc78b4902b9\" y=\"239.758125\"/>\n      </g>\n     </g>\n     <g id=\"text_13\">\n      <!-- 2017 -->\n      <g transform=\"translate(288.585846 272.208125)rotate(-90)scale(0.1 -0.1)\">\n       <use xlink:href=\"#DejaVuSans-50\"/>\n       <use x=\"63.623047\" xlink:href=\"#DejaVuSans-48\"/>\n       <use x=\"127.246094\" xlink:href=\"#DejaVuSans-49\"/>\n       <use x=\"190.869141\" xlink:href=\"#DejaVuSans-55\"/>\n      </g>\n     </g>\n    </g>\n    <g id=\"xtick_14\">\n     <g id=\"line2d_14\">\n      <g>\n       <use style=\"stroke:#000000;stroke-width:0.8;\" x=\"305.520588\" xlink:href=\"#mc78b4902b9\" y=\"239.758125\"/>\n      </g>\n     </g>\n     <g id=\"text_14\">\n      <!-- 2018 -->\n      <g transform=\"translate(308.279963 272.208125)rotate(-90)scale(0.1 -0.1)\">\n       <use xlink:href=\"#DejaVuSans-50\"/>\n       <use x=\"63.623047\" xlink:href=\"#DejaVuSans-48\"/>\n       <use x=\"127.246094\" xlink:href=\"#DejaVuSans-49\"/>\n       <use x=\"190.869141\" xlink:href=\"#DejaVuSans-56\"/>\n      </g>\n     </g>\n    </g>\n    <g id=\"xtick_15\">\n     <g id=\"line2d_15\">\n      <g>\n       <use style=\"stroke:#000000;stroke-width:0.8;\" x=\"325.214706\" xlink:href=\"#mc78b4902b9\" y=\"239.758125\"/>\n      </g>\n     </g>\n     <g id=\"text_15\">\n      <!-- 2019 -->\n      <g transform=\"translate(327.974081 272.208125)rotate(-90)scale(0.1 -0.1)\">\n       <use xlink:href=\"#DejaVuSans-50\"/>\n       <use x=\"63.623047\" xlink:href=\"#DejaVuSans-48\"/>\n       <use x=\"127.246094\" xlink:href=\"#DejaVuSans-49\"/>\n       <use x=\"190.869141\" xlink:href=\"#DejaVuSans-57\"/>\n      </g>\n     </g>\n    </g>\n    <g id=\"xtick_16\">\n     <g id=\"line2d_16\">\n      <g>\n       <use style=\"stroke:#000000;stroke-width:0.8;\" x=\"344.908824\" xlink:href=\"#mc78b4902b9\" y=\"239.758125\"/>\n      </g>\n     </g>\n     <g id=\"text_16\">\n      <!-- 2020 -->\n      <g transform=\"translate(347.668199 272.208125)rotate(-90)scale(0.1 -0.1)\">\n       <use xlink:href=\"#DejaVuSans-50\"/>\n       <use x=\"63.623047\" xlink:href=\"#DejaVuSans-48\"/>\n       <use x=\"127.246094\" xlink:href=\"#DejaVuSans-50\"/>\n       <use x=\"190.869141\" xlink:href=\"#DejaVuSans-48\"/>\n      </g>\n     </g>\n    </g>\n    <g id=\"xtick_17\">\n     <g id=\"line2d_17\">\n      <g>\n       <use style=\"stroke:#000000;stroke-width:0.8;\" x=\"364.602941\" xlink:href=\"#mc78b4902b9\" y=\"239.758125\"/>\n      </g>\n     </g>\n     <g id=\"text_17\">\n      <!-- 2021 -->\n      <g transform=\"translate(367.362316 272.208125)rotate(-90)scale(0.1 -0.1)\">\n       <use xlink:href=\"#DejaVuSans-50\"/>\n       <use x=\"63.623047\" xlink:href=\"#DejaVuSans-48\"/>\n       <use x=\"127.246094\" xlink:href=\"#DejaVuSans-50\"/>\n       <use x=\"190.869141\" xlink:href=\"#DejaVuSans-49\"/>\n      </g>\n     </g>\n    </g>\n    <g id=\"text_18\">\n     <!-- Disclosure year -->\n     <g transform=\"translate(168.471094 283.806562)scale(0.1 -0.1)\">\n      <defs>\n       <path d=\"M 19.671875 64.796875 \nL 19.671875 8.109375 \nL 31.59375 8.109375 \nQ 46.6875 8.109375 53.6875 14.9375 \nQ 60.6875 21.78125 60.6875 36.53125 \nQ 60.6875 51.171875 53.6875 57.984375 \nQ 46.6875 64.796875 31.59375 64.796875 \nz\nM 9.8125 72.90625 \nL 30.078125 72.90625 \nQ 51.265625 72.90625 61.171875 64.09375 \nQ 71.09375 55.28125 71.09375 36.53125 \nQ 71.09375 17.671875 61.125 8.828125 \nQ 51.171875 0 30.078125 0 \nL 9.8125 0 \nz\n\" id=\"DejaVuSans-68\"/>\n       <path d=\"M 9.421875 54.6875 \nL 18.40625 54.6875 \nL 18.40625 0 \nL 9.421875 0 \nz\nM 9.421875 75.984375 \nL 18.40625 75.984375 \nL 18.40625 64.59375 \nL 9.421875 64.59375 \nz\n\" id=\"DejaVuSans-105\"/>\n       <path d=\"M 44.28125 53.078125 \nL 44.28125 44.578125 \nQ 40.484375 46.53125 36.375 47.5 \nQ 32.28125 48.484375 27.875 48.484375 \nQ 21.1875 48.484375 17.84375 46.4375 \nQ 14.5 44.390625 14.5 40.28125 \nQ 14.5 37.15625 16.890625 35.375 \nQ 19.28125 33.59375 26.515625 31.984375 \nL 29.59375 31.296875 \nQ 39.15625 29.25 43.1875 25.515625 \nQ 47.21875 21.78125 47.21875 15.09375 \nQ 47.21875 7.46875 41.1875 3.015625 \nQ 35.15625 -1.421875 24.609375 -1.421875 \nQ 20.21875 -1.421875 15.453125 -0.5625 \nQ 10.6875 0.296875 5.421875 2 \nL 5.421875 11.28125 \nQ 10.40625 8.6875 15.234375 7.390625 \nQ 20.0625 6.109375 24.8125 6.109375 \nQ 31.15625 6.109375 34.5625 8.28125 \nQ 37.984375 10.453125 37.984375 14.40625 \nQ 37.984375 18.0625 35.515625 20.015625 \nQ 33.0625 21.96875 24.703125 23.78125 \nL 21.578125 24.515625 \nQ 13.234375 26.265625 9.515625 29.90625 \nQ 5.8125 33.546875 5.8125 39.890625 \nQ 5.8125 47.609375 11.28125 51.796875 \nQ 16.75 56 26.8125 56 \nQ 31.78125 56 36.171875 55.265625 \nQ 40.578125 54.546875 44.28125 53.078125 \nz\n\" id=\"DejaVuSans-115\"/>\n       <path d=\"M 48.78125 52.59375 \nL 48.78125 44.1875 \nQ 44.96875 46.296875 41.140625 47.34375 \nQ 37.3125 48.390625 33.40625 48.390625 \nQ 24.65625 48.390625 19.8125 42.84375 \nQ 14.984375 37.3125 14.984375 27.296875 \nQ 14.984375 17.28125 19.8125 11.734375 \nQ 24.65625 6.203125 33.40625 6.203125 \nQ 37.3125 6.203125 41.140625 7.25 \nQ 44.96875 8.296875 48.78125 10.40625 \nL 48.78125 2.09375 \nQ 45.015625 0.34375 40.984375 -0.53125 \nQ 36.96875 -1.421875 32.421875 -1.421875 \nQ 20.0625 -1.421875 12.78125 6.34375 \nQ 5.515625 14.109375 5.515625 27.296875 \nQ 5.515625 40.671875 12.859375 48.328125 \nQ 20.21875 56 33.015625 56 \nQ 37.15625 56 41.109375 55.140625 \nQ 45.0625 54.296875 48.78125 52.59375 \nz\n\" id=\"DejaVuSans-99\"/>\n       <path d=\"M 9.421875 75.984375 \nL 18.40625 75.984375 \nL 18.40625 0 \nL 9.421875 0 \nz\n\" id=\"DejaVuSans-108\"/>\n       <path d=\"M 30.609375 48.390625 \nQ 23.390625 48.390625 19.1875 42.75 \nQ 14.984375 37.109375 14.984375 27.296875 \nQ 14.984375 17.484375 19.15625 11.84375 \nQ 23.34375 6.203125 30.609375 6.203125 \nQ 37.796875 6.203125 41.984375 11.859375 \nQ 46.1875 17.53125 46.1875 27.296875 \nQ 46.1875 37.015625 41.984375 42.703125 \nQ 37.796875 48.390625 30.609375 48.390625 \nz\nM 30.609375 56 \nQ 42.328125 56 49.015625 48.375 \nQ 55.71875 40.765625 55.71875 27.296875 \nQ 55.71875 13.875 49.015625 6.21875 \nQ 42.328125 -1.421875 30.609375 -1.421875 \nQ 18.84375 -1.421875 12.171875 6.21875 \nQ 5.515625 13.875 5.515625 27.296875 \nQ 5.515625 40.765625 12.171875 48.375 \nQ 18.84375 56 30.609375 56 \nz\n\" id=\"DejaVuSans-111\"/>\n       <path d=\"M 8.5 21.578125 \nL 8.5 54.6875 \nL 17.484375 54.6875 \nL 17.484375 21.921875 \nQ 17.484375 14.15625 20.5 10.265625 \nQ 23.53125 6.390625 29.59375 6.390625 \nQ 36.859375 6.390625 41.078125 11.03125 \nQ 45.3125 15.671875 45.3125 23.6875 \nL 45.3125 54.6875 \nL 54.296875 54.6875 \nL 54.296875 0 \nL 45.3125 0 \nL 45.3125 8.40625 \nQ 42.046875 3.421875 37.71875 1 \nQ 33.40625 -1.421875 27.6875 -1.421875 \nQ 18.265625 -1.421875 13.375 4.4375 \nQ 8.5 10.296875 8.5 21.578125 \nz\nM 31.109375 56 \nz\n\" id=\"DejaVuSans-117\"/>\n       <path d=\"M 41.109375 46.296875 \nQ 39.59375 47.171875 37.8125 47.578125 \nQ 36.03125 48 33.890625 48 \nQ 26.265625 48 22.1875 43.046875 \nQ 18.109375 38.09375 18.109375 28.8125 \nL 18.109375 0 \nL 9.078125 0 \nL 9.078125 54.6875 \nL 18.109375 54.6875 \nL 18.109375 46.1875 \nQ 20.953125 51.171875 25.484375 53.578125 \nQ 30.03125 56 36.53125 56 \nQ 37.453125 56 38.578125 55.875 \nQ 39.703125 55.765625 41.0625 55.515625 \nz\n\" id=\"DejaVuSans-114\"/>\n       <path d=\"M 56.203125 29.59375 \nL 56.203125 25.203125 \nL 14.890625 25.203125 \nQ 15.484375 15.921875 20.484375 11.0625 \nQ 25.484375 6.203125 34.421875 6.203125 \nQ 39.59375 6.203125 44.453125 7.46875 \nQ 49.3125 8.734375 54.109375 11.28125 \nL 54.109375 2.78125 \nQ 49.265625 0.734375 44.1875 -0.34375 \nQ 39.109375 -1.421875 33.890625 -1.421875 \nQ 20.796875 -1.421875 13.15625 6.1875 \nQ 5.515625 13.8125 5.515625 26.8125 \nQ 5.515625 40.234375 12.765625 48.109375 \nQ 20.015625 56 32.328125 56 \nQ 43.359375 56 49.78125 48.890625 \nQ 56.203125 41.796875 56.203125 29.59375 \nz\nM 47.21875 32.234375 \nQ 47.125 39.59375 43.09375 43.984375 \nQ 39.0625 48.390625 32.421875 48.390625 \nQ 24.90625 48.390625 20.390625 44.140625 \nQ 15.875 39.890625 15.1875 32.171875 \nz\n\" id=\"DejaVuSans-101\"/>\n       <path id=\"DejaVuSans-32\"/>\n       <path d=\"M 32.171875 -5.078125 \nQ 28.375 -14.84375 24.75 -17.8125 \nQ 21.140625 -20.796875 15.09375 -20.796875 \nL 7.90625 -20.796875 \nL 7.90625 -13.28125 \nL 13.1875 -13.28125 \nQ 16.890625 -13.28125 18.9375 -11.515625 \nQ 21 -9.765625 23.484375 -3.21875 \nL 25.09375 0.875 \nL 2.984375 54.6875 \nL 12.5 54.6875 \nL 29.59375 11.921875 \nL 46.6875 54.6875 \nL 56.203125 54.6875 \nz\n\" id=\"DejaVuSans-121\"/>\n       <path d=\"M 34.28125 27.484375 \nQ 23.390625 27.484375 19.1875 25 \nQ 14.984375 22.515625 14.984375 16.5 \nQ 14.984375 11.71875 18.140625 8.90625 \nQ 21.296875 6.109375 26.703125 6.109375 \nQ 34.1875 6.109375 38.703125 11.40625 \nQ 43.21875 16.703125 43.21875 25.484375 \nL 43.21875 27.484375 \nz\nM 52.203125 31.203125 \nL 52.203125 0 \nL 43.21875 0 \nL 43.21875 8.296875 \nQ 40.140625 3.328125 35.546875 0.953125 \nQ 30.953125 -1.421875 24.3125 -1.421875 \nQ 15.921875 -1.421875 10.953125 3.296875 \nQ 6 8.015625 6 15.921875 \nQ 6 25.140625 12.171875 29.828125 \nQ 18.359375 34.515625 30.609375 34.515625 \nL 43.21875 34.515625 \nL 43.21875 35.40625 \nQ 43.21875 41.609375 39.140625 45 \nQ 35.0625 48.390625 27.6875 48.390625 \nQ 23 48.390625 18.546875 47.265625 \nQ 14.109375 46.140625 10.015625 43.890625 \nL 10.015625 52.203125 \nQ 14.9375 54.109375 19.578125 55.046875 \nQ 24.21875 56 28.609375 56 \nQ 40.484375 56 46.34375 49.84375 \nQ 52.203125 43.703125 52.203125 31.203125 \nz\n\" id=\"DejaVuSans-97\"/>\n      </defs>\n      <use xlink:href=\"#DejaVuSans-68\"/>\n      <use x=\"77.001953\" xlink:href=\"#DejaVuSans-105\"/>\n      <use x=\"104.785156\" xlink:href=\"#DejaVuSans-115\"/>\n      <use x=\"156.884766\" xlink:href=\"#DejaVuSans-99\"/>\n      <use x=\"211.865234\" xlink:href=\"#DejaVuSans-108\"/>\n      <use x=\"239.648438\" xlink:href=\"#DejaVuSans-111\"/>\n      <use x=\"300.830078\" xlink:href=\"#DejaVuSans-115\"/>\n      <use x=\"352.929688\" xlink:href=\"#DejaVuSans-117\"/>\n      <use x=\"416.308594\" xlink:href=\"#DejaVuSans-114\"/>\n      <use x=\"455.171875\" xlink:href=\"#DejaVuSans-101\"/>\n      <use x=\"516.695312\" xlink:href=\"#DejaVuSans-32\"/>\n      <use x=\"548.482422\" xlink:href=\"#DejaVuSans-121\"/>\n      <use x=\"607.662109\" xlink:href=\"#DejaVuSans-101\"/>\n      <use x=\"669.185547\" xlink:href=\"#DejaVuSans-97\"/>\n      <use x=\"730.464844\" xlink:href=\"#DejaVuSans-114\"/>\n     </g>\n    </g>\n   </g>\n   <g id=\"matplotlib.axis_2\">\n    <g id=\"ytick_1\">\n     <g id=\"line2d_18\">\n      <defs>\n       <path d=\"M 0 0 \nL -3.5 0 \n\" id=\"m4049265069\" style=\"stroke:#000000;stroke-width:0.8;\"/>\n      </defs>\n      <g>\n       <use style=\"stroke:#000000;stroke-width:0.8;\" x=\"39.65\" xlink:href=\"#m4049265069\" y=\"239.758125\"/>\n      </g>\n     </g>\n     <g id=\"text_19\">\n      <!-- 0 -->\n      <g transform=\"translate(26.2875 243.557344)scale(0.1 -0.1)\">\n       <use xlink:href=\"#DejaVuSans-48\"/>\n      </g>\n     </g>\n    </g>\n    <g id=\"ytick_2\">\n     <g id=\"line2d_19\">\n      <g>\n       <use style=\"stroke:#000000;stroke-width:0.8;\" x=\"39.65\" xlink:href=\"#m4049265069\" y=\"192.445876\"/>\n      </g>\n     </g>\n     <g id=\"text_20\">\n      <!-- 1000 -->\n      <g transform=\"translate(7.2 196.245095)scale(0.1 -0.1)\">\n       <use xlink:href=\"#DejaVuSans-49\"/>\n       <use x=\"63.623047\" xlink:href=\"#DejaVuSans-48\"/>\n       <use x=\"127.246094\" xlink:href=\"#DejaVuSans-48\"/>\n       <use x=\"190.869141\" xlink:href=\"#DejaVuSans-48\"/>\n      </g>\n     </g>\n    </g>\n    <g id=\"ytick_3\">\n     <g id=\"line2d_20\">\n      <g>\n       <use style=\"stroke:#000000;stroke-width:0.8;\" x=\"39.65\" xlink:href=\"#m4049265069\" y=\"145.133627\"/>\n      </g>\n     </g>\n     <g id=\"text_21\">\n      <!-- 2000 -->\n      <g transform=\"translate(7.2 148.932846)scale(0.1 -0.1)\">\n       <use xlink:href=\"#DejaVuSans-50\"/>\n       <use x=\"63.623047\" xlink:href=\"#DejaVuSans-48\"/>\n       <use x=\"127.246094\" xlink:href=\"#DejaVuSans-48\"/>\n       <use x=\"190.869141\" xlink:href=\"#DejaVuSans-48\"/>\n      </g>\n     </g>\n    </g>\n    <g id=\"ytick_4\">\n     <g id=\"line2d_21\">\n      <g>\n       <use style=\"stroke:#000000;stroke-width:0.8;\" x=\"39.65\" xlink:href=\"#m4049265069\" y=\"97.821378\"/>\n      </g>\n     </g>\n     <g id=\"text_22\">\n      <!-- 3000 -->\n      <g transform=\"translate(7.2 101.620596)scale(0.1 -0.1)\">\n       <use xlink:href=\"#DejaVuSans-51\"/>\n       <use x=\"63.623047\" xlink:href=\"#DejaVuSans-48\"/>\n       <use x=\"127.246094\" xlink:href=\"#DejaVuSans-48\"/>\n       <use x=\"190.869141\" xlink:href=\"#DejaVuSans-48\"/>\n      </g>\n     </g>\n    </g>\n    <g id=\"ytick_5\">\n     <g id=\"line2d_22\">\n      <g>\n       <use style=\"stroke:#000000;stroke-width:0.8;\" x=\"39.65\" xlink:href=\"#m4049265069\" y=\"50.509129\"/>\n      </g>\n     </g>\n     <g id=\"text_23\">\n      <!-- 4000 -->\n      <g transform=\"translate(7.2 54.308347)scale(0.1 -0.1)\">\n       <use xlink:href=\"#DejaVuSans-52\"/>\n       <use x=\"63.623047\" xlink:href=\"#DejaVuSans-48\"/>\n       <use x=\"127.246094\" xlink:href=\"#DejaVuSans-48\"/>\n       <use x=\"190.869141\" xlink:href=\"#DejaVuSans-48\"/>\n      </g>\n     </g>\n    </g>\n   </g>\n   <g id=\"patch_20\">\n    <path d=\"M 39.65 239.758125 \nL 39.65 22.318125 \n\" style=\"fill:none;stroke:#000000;stroke-linecap:square;stroke-linejoin:miter;stroke-width:0.8;\"/>\n   </g>\n   <g id=\"patch_21\">\n    <path d=\"M 374.45 239.758125 \nL 374.45 22.318125 \n\" style=\"fill:none;stroke:#000000;stroke-linecap:square;stroke-linejoin:miter;stroke-width:0.8;\"/>\n   </g>\n   <g id=\"patch_22\">\n    <path d=\"M 39.65 239.758125 \nL 374.45 239.758125 \n\" style=\"fill:none;stroke:#000000;stroke-linecap:square;stroke-linejoin:miter;stroke-width:0.8;\"/>\n   </g>\n   <g id=\"patch_23\">\n    <path d=\"M 39.65 22.318125 \nL 374.45 22.318125 \n\" style=\"fill:none;stroke:#000000;stroke-linecap:square;stroke-linejoin:miter;stroke-width:0.8;\"/>\n   </g>\n   <g id=\"text_24\">\n    <!-- Advisory count over the year -->\n    <g transform=\"translate(120.039688 16.318125)scale(0.12 -0.12)\">\n     <defs>\n      <path d=\"M 34.1875 63.1875 \nL 20.796875 26.90625 \nL 47.609375 26.90625 \nz\nM 28.609375 72.90625 \nL 39.796875 72.90625 \nL 67.578125 0 \nL 57.328125 0 \nL 50.6875 18.703125 \nL 17.828125 18.703125 \nL 11.1875 0 \nL 0.78125 0 \nz\n\" id=\"DejaVuSans-65\"/>\n      <path d=\"M 45.40625 46.390625 \nL 45.40625 75.984375 \nL 54.390625 75.984375 \nL 54.390625 0 \nL 45.40625 0 \nL 45.40625 8.203125 \nQ 42.578125 3.328125 38.25 0.953125 \nQ 33.9375 -1.421875 27.875 -1.421875 \nQ 17.96875 -1.421875 11.734375 6.484375 \nQ 5.515625 14.40625 5.515625 27.296875 \nQ 5.515625 40.1875 11.734375 48.09375 \nQ 17.96875 56 27.875 56 \nQ 33.9375 56 38.25 53.625 \nQ 42.578125 51.265625 45.40625 46.390625 \nz\nM 14.796875 27.296875 \nQ 14.796875 17.390625 18.875 11.75 \nQ 22.953125 6.109375 30.078125 6.109375 \nQ 37.203125 6.109375 41.296875 11.75 \nQ 45.40625 17.390625 45.40625 27.296875 \nQ 45.40625 37.203125 41.296875 42.84375 \nQ 37.203125 48.484375 30.078125 48.484375 \nQ 22.953125 48.484375 18.875 42.84375 \nQ 14.796875 37.203125 14.796875 27.296875 \nz\n\" id=\"DejaVuSans-100\"/>\n      <path d=\"M 2.984375 54.6875 \nL 12.5 54.6875 \nL 29.59375 8.796875 \nL 46.6875 54.6875 \nL 56.203125 54.6875 \nL 35.6875 0 \nL 23.484375 0 \nz\n\" id=\"DejaVuSans-118\"/>\n      <path d=\"M 54.890625 33.015625 \nL 54.890625 0 \nL 45.90625 0 \nL 45.90625 32.71875 \nQ 45.90625 40.484375 42.875 44.328125 \nQ 39.84375 48.1875 33.796875 48.1875 \nQ 26.515625 48.1875 22.3125 43.546875 \nQ 18.109375 38.921875 18.109375 30.90625 \nL 18.109375 0 \nL 9.078125 0 \nL 9.078125 54.6875 \nL 18.109375 54.6875 \nL 18.109375 46.1875 \nQ 21.34375 51.125 25.703125 53.5625 \nQ 30.078125 56 35.796875 56 \nQ 45.21875 56 50.046875 50.171875 \nQ 54.890625 44.34375 54.890625 33.015625 \nz\n\" id=\"DejaVuSans-110\"/>\n      <path d=\"M 18.3125 70.21875 \nL 18.3125 54.6875 \nL 36.8125 54.6875 \nL 36.8125 47.703125 \nL 18.3125 47.703125 \nL 18.3125 18.015625 \nQ 18.3125 11.328125 20.140625 9.421875 \nQ 21.96875 7.515625 27.59375 7.515625 \nL 36.8125 7.515625 \nL 36.8125 0 \nL 27.59375 0 \nQ 17.1875 0 13.234375 3.875 \nQ 9.28125 7.765625 9.28125 18.015625 \nL 9.28125 47.703125 \nL 2.6875 47.703125 \nL 2.6875 54.6875 \nL 9.28125 54.6875 \nL 9.28125 70.21875 \nz\n\" id=\"DejaVuSans-116\"/>\n      <path d=\"M 54.890625 33.015625 \nL 54.890625 0 \nL 45.90625 0 \nL 45.90625 32.71875 \nQ 45.90625 40.484375 42.875 44.328125 \nQ 39.84375 48.1875 33.796875 48.1875 \nQ 26.515625 48.1875 22.3125 43.546875 \nQ 18.109375 38.921875 18.109375 30.90625 \nL 18.109375 0 \nL 9.078125 0 \nL 9.078125 75.984375 \nL 18.109375 75.984375 \nL 18.109375 46.1875 \nQ 21.34375 51.125 25.703125 53.5625 \nQ 30.078125 56 35.796875 56 \nQ 45.21875 56 50.046875 50.171875 \nQ 54.890625 44.34375 54.890625 33.015625 \nz\n\" id=\"DejaVuSans-104\"/>\n     </defs>\n     <use xlink:href=\"#DejaVuSans-65\"/>\n     <use x=\"66.658203\" xlink:href=\"#DejaVuSans-100\"/>\n     <use x=\"130.134766\" xlink:href=\"#DejaVuSans-118\"/>\n     <use x=\"189.314453\" xlink:href=\"#DejaVuSans-105\"/>\n     <use x=\"217.097656\" xlink:href=\"#DejaVuSans-115\"/>\n     <use x=\"269.197266\" xlink:href=\"#DejaVuSans-111\"/>\n     <use x=\"330.378906\" xlink:href=\"#DejaVuSans-114\"/>\n     <use x=\"371.492188\" xlink:href=\"#DejaVuSans-121\"/>\n     <use x=\"430.671875\" xlink:href=\"#DejaVuSans-32\"/>\n     <use x=\"462.458984\" xlink:href=\"#DejaVuSans-99\"/>\n     <use x=\"517.439453\" xlink:href=\"#DejaVuSans-111\"/>\n     <use x=\"578.621094\" xlink:href=\"#DejaVuSans-117\"/>\n     <use x=\"642\" xlink:href=\"#DejaVuSans-110\"/>\n     <use x=\"705.378906\" xlink:href=\"#DejaVuSans-116\"/>\n     <use x=\"744.587891\" xlink:href=\"#DejaVuSans-32\"/>\n     <use x=\"776.375\" xlink:href=\"#DejaVuSans-111\"/>\n     <use x=\"837.556641\" xlink:href=\"#DejaVuSans-118\"/>\n     <use x=\"896.736328\" xlink:href=\"#DejaVuSans-101\"/>\n     <use x=\"958.259766\" xlink:href=\"#DejaVuSans-114\"/>\n     <use x=\"999.373047\" xlink:href=\"#DejaVuSans-32\"/>\n     <use x=\"1031.160156\" xlink:href=\"#DejaVuSans-116\"/>\n     <use x=\"1070.369141\" xlink:href=\"#DejaVuSans-104\"/>\n     <use x=\"1133.748047\" xlink:href=\"#DejaVuSans-101\"/>\n     <use x=\"1195.271484\" xlink:href=\"#DejaVuSans-32\"/>\n     <use x=\"1227.058594\" xlink:href=\"#DejaVuSans-121\"/>\n     <use x=\"1286.238281\" xlink:href=\"#DejaVuSans-101\"/>\n     <use x=\"1347.761719\" xlink:href=\"#DejaVuSans-97\"/>\n     <use x=\"1409.041016\" xlink:href=\"#DejaVuSans-114\"/>\n    </g>\n   </g>\n   <g id=\"legend_1\">\n    <g id=\"patch_24\">\n     <path d=\"M 46.65 44.99625 \nL 99.084375 44.99625 \nQ 101.084375 44.99625 101.084375 42.99625 \nL 101.084375 29.318125 \nQ 101.084375 27.318125 99.084375 27.318125 \nL 46.65 27.318125 \nQ 44.65 27.318125 44.65 29.318125 \nL 44.65 42.99625 \nQ 44.65 44.99625 46.65 44.99625 \nz\n\" style=\"fill:#ffffff;opacity:0.8;stroke:#cccccc;stroke-linejoin:miter;\"/>\n    </g>\n    <g id=\"patch_25\">\n     <path d=\"M 48.65 38.916562 \nL 68.65 38.916562 \nL 68.65 31.916562 \nL 48.65 31.916562 \nz\n\" style=\"fill:#1f77b4;\"/>\n    </g>\n    <g id=\"text_25\">\n     <!-- CDF -->\n     <g transform=\"translate(76.65 38.916562)scale(0.1 -0.1)\">\n      <defs>\n       <path d=\"M 64.40625 67.28125 \nL 64.40625 56.890625 \nQ 59.421875 61.53125 53.78125 63.8125 \nQ 48.140625 66.109375 41.796875 66.109375 \nQ 29.296875 66.109375 22.65625 58.46875 \nQ 16.015625 50.828125 16.015625 36.375 \nQ 16.015625 21.96875 22.65625 14.328125 \nQ 29.296875 6.6875 41.796875 6.6875 \nQ 48.140625 6.6875 53.78125 8.984375 \nQ 59.421875 11.28125 64.40625 15.921875 \nL 64.40625 5.609375 \nQ 59.234375 2.09375 53.4375 0.328125 \nQ 47.65625 -1.421875 41.21875 -1.421875 \nQ 24.65625 -1.421875 15.125 8.703125 \nQ 5.609375 18.84375 5.609375 36.375 \nQ 5.609375 53.953125 15.125 64.078125 \nQ 24.65625 74.21875 41.21875 74.21875 \nQ 47.75 74.21875 53.53125 72.484375 \nQ 59.328125 70.75 64.40625 67.28125 \nz\n\" id=\"DejaVuSans-67\"/>\n       <path d=\"M 9.8125 72.90625 \nL 51.703125 72.90625 \nL 51.703125 64.59375 \nL 19.671875 64.59375 \nL 19.671875 43.109375 \nL 48.578125 43.109375 \nL 48.578125 34.8125 \nL 19.671875 34.8125 \nL 19.671875 0 \nL 9.8125 0 \nz\n\" id=\"DejaVuSans-70\"/>\n      </defs>\n      <use xlink:href=\"#DejaVuSans-67\"/>\n      <use x=\"69.824219\" xlink:href=\"#DejaVuSans-68\"/>\n      <use x=\"146.826172\" xlink:href=\"#DejaVuSans-70\"/>\n     </g>\n    </g>\n   </g>\n  </g>\n </g>\n <defs>\n  <clipPath id=\"p2404a79a1d\">\n   <rect height=\"217.44\" width=\"334.8\" x=\"39.65\" y=\"22.318125\"/>\n  </clipPath>\n </defs>\n</svg>\n",
      "image/png": "[encoded data removed]"
     },
     "metadata": {
      "needs_background": "light"
     }
    }
   ],
   "source": [
    "q= '''select year(a.disclose_date) as disclose_year, count(distinct a.id) as count\n",
    "from advisory a\n",
    "join package p on a.package_id = p.id\n",
    "join fixing_releases fr on a.id = fr.advisory_id\n",
    "where type != 'Malicious Package'\n",
    "and version != 'manual checkup needed'\n",
    "and ecosystem != 'cocoapods'\n",
    "and repository_url != 'no repository listed'\n",
    "group by year(a.disclose_date);'''\n",
    "df = pd.DataFrame(sql.execute(q))\n",
    "df['cdf']=df['count'].cumsum()\n",
    "df = df.rename(columns = {'disclose_year':'Disclosure year', 'cdf':'CDF'})\n",
    "fig = df.plot(x='Disclosure year',y='CDF',kind='bar', title = 'Advisory count over the year').get_figure()"
   ]
  },
  {
   "cell_type": "code",
   "execution_count": 792,
   "metadata": {},
   "outputs": [],
   "source": [
    "fig.savefig('cdf_disclose.png')\n"
   ]
  },
  {
   "cell_type": "code",
   "execution_count": 793,
   "metadata": {},
   "outputs": [
    {
     "output_type": "execute_result",
     "data": {
      "text/plain": [
       "    Disclosure year  count   CDF\n",
       "0              2005      2     2\n",
       "1              2006      4     6\n",
       "2              2007      4    10\n",
       "3              2008     10    20\n",
       "4              2009      6    26\n",
       "5              2010     45    71\n",
       "6              2011     48   119\n",
       "7              2012    105   224\n",
       "8              2013    169   393\n",
       "9              2014    203   596\n",
       "10             2015    276   872\n",
       "11             2016    393  1265\n",
       "12             2017    449  1714\n",
       "13             2018    742  2456\n",
       "14             2019    691  3147\n",
       "15             2020   1026  4173\n",
       "16             2021    204  4377"
      ],
      "text/html": "<div>\n<style scoped>\n    .dataframe tbody tr th:only-of-type {\n        vertical-align: middle;\n    }\n\n    .dataframe tbody tr th {\n        vertical-align: top;\n    }\n\n    .dataframe thead th {\n        text-align: right;\n    }\n</style>\n<table border=\"1\" class=\"dataframe\">\n  <thead>\n    <tr style=\"text-align: right;\">\n      <th></th>\n      <th>Disclosure year</th>\n      <th>count</th>\n      <th>CDF</th>\n    </tr>\n  </thead>\n  <tbody>\n    <tr>\n      <th>0</th>\n      <td>2005</td>\n      <td>2</td>\n      <td>2</td>\n    </tr>\n    <tr>\n      <th>1</th>\n      <td>2006</td>\n      <td>4</td>\n      <td>6</td>\n    </tr>\n    <tr>\n      <th>2</th>\n      <td>2007</td>\n      <td>4</td>\n      <td>10</td>\n    </tr>\n    <tr>\n      <th>3</th>\n      <td>2008</td>\n      <td>10</td>\n      <td>20</td>\n    </tr>\n    <tr>\n      <th>4</th>\n      <td>2009</td>\n      <td>6</td>\n      <td>26</td>\n    </tr>\n    <tr>\n      <th>5</th>\n      <td>2010</td>\n      <td>45</td>\n      <td>71</td>\n    </tr>\n    <tr>\n      <th>6</th>\n      <td>2011</td>\n      <td>48</td>\n      <td>119</td>\n    </tr>\n    <tr>\n      <th>7</th>\n      <td>2012</td>\n      <td>105</td>\n      <td>224</td>\n    </tr>\n    <tr>\n      <th>8</th>\n      <td>2013</td>\n      <td>169</td>\n      <td>393</td>\n    </tr>\n    <tr>\n      <th>9</th>\n      <td>2014</td>\n      <td>203</td>\n      <td>596</td>\n    </tr>\n    <tr>\n      <th>10</th>\n      <td>2015</td>\n      <td>276</td>\n      <td>872</td>\n    </tr>\n    <tr>\n      <th>11</th>\n      <td>2016</td>\n      <td>393</td>\n      <td>1265</td>\n    </tr>\n    <tr>\n      <th>12</th>\n      <td>2017</td>\n      <td>449</td>\n      <td>1714</td>\n    </tr>\n    <tr>\n      <th>13</th>\n      <td>2018</td>\n      <td>742</td>\n      <td>2456</td>\n    </tr>\n    <tr>\n      <th>14</th>\n      <td>2019</td>\n      <td>691</td>\n      <td>3147</td>\n    </tr>\n    <tr>\n      <th>15</th>\n      <td>2020</td>\n      <td>1026</td>\n      <td>4173</td>\n    </tr>\n    <tr>\n      <th>16</th>\n      <td>2021</td>\n      <td>204</td>\n      <td>4377</td>\n    </tr>\n  </tbody>\n</table>\n</div>"
     },
     "metadata": {},
     "execution_count": 793
    }
   ],
   "source": [
    "df"
   ]
  },
  {
   "cell_type": "code",
   "execution_count": 794,
   "metadata": {},
   "outputs": [
    {
     "output_type": "execute_result",
     "data": {
      "text/plain": [
       "0.8007767877541695"
      ]
     },
     "metadata": {},
     "execution_count": 794
    }
   ],
   "source": [
    "(4377 - 872) / 4377"
   ]
  },
  {
   "cell_type": "code",
   "execution_count": 795,
   "metadata": {},
   "outputs": [
    {
     "output_type": "execute_result",
     "data": {
      "text/plain": [
       "3505"
      ]
     },
     "metadata": {},
     "execution_count": 795
    }
   ],
   "source": [
    "(4377 - 872)"
   ]
  },
  {
   "cell_type": "code",
   "execution_count": null,
   "metadata": {},
   "outputs": [],
   "source": []
  }
 ]
}