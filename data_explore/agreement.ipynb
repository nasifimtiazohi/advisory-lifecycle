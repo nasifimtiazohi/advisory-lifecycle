{
 "metadata": {
  "language_info": {
   "codemirror_mode": {
    "name": "ipython",
    "version": 3
   },
   "file_extension": ".py",
   "mimetype": "text/x-python",
   "name": "python",
   "nbconvert_exporter": "python",
   "pygments_lexer": "ipython3",
   "version": "3.9.4"
  },
  "orig_nbformat": 2,
  "kernelspec": {
   "name": "python394jvsc74a57bd045e6bb90db539892217150e51eb80500a9bf028439c0d739bd24c7b8d42327c6",
   "display_name": "Python 3.9.4 64-bit ('advisory-lifecycle-RDwwAgfI': pipenv)"
  },
  "metadata": {
   "interpreter": {
    "hash": "ac2eaa0ea0ebeafcc7822e65e46aa9d4f966f30b695406963e145ea4a91cd4fc"
   }
  }
 },
 "nbformat": 4,
 "nbformat_minor": 2,
 "cells": [
  {
   "cell_type": "code",
   "execution_count": 231,
   "metadata": {},
   "outputs": [],
   "source": [
    "import sys\n",
    "sys.path.append('..')\n",
    "import sql\n",
    "import pandas as pd\n",
    "from functools import reduce\n",
    "from tabulate import tabulate\n",
    "import datetime\n",
    "import matplotlib.pyplot as plt\n",
    "import numpy as np"
   ]
  },
  {
   "cell_type": "code",
   "execution_count": 232,
   "metadata": {},
   "outputs": [],
   "source": [
    "csv = pd.read_csv('final-frozen.csv')"
   ]
  },
  {
   "cell_type": "code",
   "execution_count": 233,
   "metadata": {},
   "outputs": [],
   "source": [
    "d= {'Is there a documentation source?': 'is_doc','is the fix mentioned?':'is_fix', 'is there unrelated change mentioned?': 'is_uc', 'is breaking change mentioned?':'is_br' , 'main source' :'doc_source', 'How is the fix mentioned? (final codes); separated by semicolon':'fix_pattern',\n",
    "'how the breaking change is mentioned? (final codes); separated by semicolon':'breaking_pattern', 'main source':'source'}\n",
    "aniqa = pd.read_csv('process-frozen-aniqa.csv')\n",
    "aniqa = aniqa.rename(columns = d)\n",
    "aniqa['is_uc']= aniqa['is_uc'].str.lower()\n",
    "nasif = pd.read_csv('process-frozen-nasif.csv')\n",
    "nasif = nasif.rename(columns = d)\n",
    "nasif['is_uc']=nasif['is_uc'].str.lower()"
   ]
  },
  {
   "cell_type": "code",
   "execution_count": 234,
   "metadata": {},
   "outputs": [],
   "source": [
    "resolved = csv[csv['agreed']=='resolved']\n",
    "resolved = resolved.to_dict('records')"
   ]
  },
  {
   "cell_type": "code",
   "execution_count": 235,
   "metadata": {
    "tags": []
   },
   "outputs": [
    {
     "output_type": "execute_result",
     "data": {
      "text/plain": [
       "(28, 26)"
      ]
     },
     "metadata": {},
     "execution_count": 235
    }
   ],
   "source": [
    "c =a = 0\n",
    "for row in resolved:\n",
    "    r = row['row']\n",
    "    if nasif.iloc[r]['is_doc'] != aniqa.iloc[r]['is_doc']:\n",
    "        if row['is_doc']=='y':\n",
    "            a+= 1\n",
    "        c+=1\n",
    "c,a"
   ]
  },
  {
   "cell_type": "code",
   "execution_count": 236,
   "metadata": {},
   "outputs": [
    {
     "output_type": "execute_result",
     "data": {
      "text/plain": [
       "363"
      ]
     },
     "metadata": {},
     "execution_count": 236
    }
   ],
   "source": [
    "csv = csv[csv['is_doc']=='y'].to_dict('records')\n",
    "len(csv)"
   ]
  },
  {
   "cell_type": "code",
   "execution_count": 237,
   "metadata": {},
   "outputs": [],
   "source": [
    "def cohenkappayesno(yy,yn,ny,nn):\n",
    "    agreed = yy + nn\n",
    "    total = agreed + yn + ny\n",
    "    ef1 = ((yy+yn)*(yy+ny))/total\n",
    "    ef2 = ((ny+nn)*(yn+nn))/total\n",
    "    ef = ef1 + ef2\n",
    "    return (agreed - ef)/(total - ef)\n",
    "\n"
   ]
  },
  {
   "cell_type": "code",
   "execution_count": 238,
   "metadata": {
    "tags": []
   },
   "outputs": [
    {
     "output_type": "execute_result",
     "data": {
      "text/plain": [
       "0.819233550253073"
      ]
     },
     "metadata": {},
     "execution_count": 238
    }
   ],
   "source": [
    "yy = yn = ny = nn = 0\n",
    "for row in csv:\n",
    "    r = row['row'] - 2\n",
    "    if nasif.iloc[r]['is_uc'] == 'y' and aniqa.iloc[r]['is_uc'] == 'y':\n",
    "        yy += 1\n",
    "    elif nasif.iloc[r]['is_uc'] == 'y' and aniqa.iloc[r]['is_uc'] == 'n': \n",
    "        yn+=1\n",
    "    elif nasif.iloc[r]['is_uc'] == 'n' and aniqa.iloc[r]['is_uc'] == 'y':\n",
    "        ny+=1\n",
    "    elif nasif.iloc[r]['is_uc']== 'n' and aniqa.iloc[r]['is_uc'] == 'n':\n",
    "        nn+=1\n",
    "    else:\n",
    "        nn+1\n",
    "cohenkappayesno(yy,yn,ny,nn)"
   ]
  },
  {
   "cell_type": "code",
   "execution_count": 239,
   "metadata": {
    "tags": []
   },
   "outputs": [
    {
     "output_type": "stream",
     "name": "stdout",
     "text": [
      "vulnerability description 0.6691343484478843\n",
      "fix reference 0.5284013605442177\n",
      "security notice 0.5996669651413042\n",
      "affected version listed 0.41259156602652974\n",
      "advisory reference 0.8077440679966946\n",
      "exploit 0.319464516619761\n",
      "affected component listed 0.3887680174054935\n",
      "affected configuration 0.4979423868312715\n"
     ]
    }
   ],
   "source": [
    "codes = ['vulnerability description', 'fix reference', 'security notice',\n",
    "       'affected version listed', 'advisory reference', 'exploit',\n",
    "       'affected component listed', 'affected configuration']\n",
    "d= []\n",
    "for c in codes:\n",
    "    yy = yn = ny = nn = 0\n",
    "    for row in csv:\n",
    "        r = row['row'] - 2\n",
    "        n = nasif.iloc[r]['fix_pattern']\n",
    "        n = str(n).split(';')\n",
    "        for i,e in enumerate(n):\n",
    "            n[i] = e.lower().strip()\n",
    "        a = aniqa.iloc[r]['fix_pattern']\n",
    "        a = str(a).split(';')\n",
    "        for i,e in enumerate(a):\n",
    "            a[i] = e.lower().strip()\n",
    "        if c in n and c in a:\n",
    "            yy+=1\n",
    "        if c in n and c not in a:\n",
    "            yn+=1\n",
    "        if c not in n and c in a:\n",
    "            ny+=1\n",
    "        else:\n",
    "            nn+=1\n",
    "    print(c, cohenkappayesno(yy,yn,ny,nn))\n",
    "    d.append({'code':c, 'kappa':round(cohenkappayesno(yy,yn,ny,nn),2) })\n",
    "    "
   ]
  },
  {
   "cell_type": "code",
   "execution_count": 240,
   "metadata": {},
   "outputs": [
    {
     "output_type": "stream",
     "name": "stdout",
     "text": [
      "\\begin{tabular}{lr}\n\\hline\n code                      &   kappa \\\\\n\\hline\n vulnerability description &    0.67 \\\\\n fix reference             &    0.53 \\\\\n security notice           &    0.6  \\\\\n affected version listed   &    0.41 \\\\\n advisory reference        &    0.81 \\\\\n exploit                   &    0.32 \\\\\n affected component listed &    0.39 \\\\\n affected configuration    &    0.5  \\\\\n\\hline\n\\end{tabular}\n"
     ]
    }
   ],
   "source": [
    "df = pd.DataFrame(d)\n",
    "print(tabulate(df, tablefmt='latex', headers='keys',showindex=False))"
   ]
  },
  {
   "cell_type": "code",
   "execution_count": 241,
   "metadata": {},
   "outputs": [
    {
     "output_type": "stream",
     "name": "stdout",
     "text": [
      "breaking change notice 0.833981841763943 16 5 1 362\n",
      "code change reference 1.0 9 0 0 363\n",
      "affected api listed 0.918953234111589 18 2 1 362\n",
      "action required 0.8722966014418123 7 2 0 363\n",
      "affected configuration 0.7231807951988005 4 2 1 362\n"
     ]
    }
   ],
   "source": [
    "codes = ['breaking change notice', 'code change reference',\n",
    "       'affected api listed', 'action required', 'affected configuration']\n",
    "for c in codes:\n",
    "    yy = yn = ny = nn = 0\n",
    "    for row in csv:\n",
    "        r = row['row'] - 2\n",
    "        n = nasif.iloc[r]['breaking_pattern']\n",
    "        n = str(n).split(';')\n",
    "        for i,e in enumerate(n):\n",
    "            n[i] = e.lower().strip()\n",
    "        a = aniqa.iloc[r]['breaking_pattern']\n",
    "        a = str(a).split(';')\n",
    "        for i,e in enumerate(a):\n",
    "            a[i] = e.lower().strip()\n",
    "        if c in n and c in a:\n",
    "            yy+=1\n",
    "        if c in n and c not in a:\n",
    "            yn+=1\n",
    "        if c not in n and c in a:\n",
    "            ny+=1\n",
    "        else:\n",
    "            nn+=1\n",
    "    print(c, cohenkappayesno(yy,yn,ny,nn), yy,yn,ny,nn)\n",
    "    d.append({'code':c, 'kappa':round(cohenkappayesno(yy,yn,ny,nn),2) })"
   ]
  },
  {
   "cell_type": "code",
   "execution_count": 242,
   "metadata": {},
   "outputs": [
    {
     "output_type": "stream",
     "name": "stdout",
     "text": [
      "\\begin{tabular}{lr}\n\\hline\n code                      &   kappa \\\\\n\\hline\n vulnerability description &    0.67 \\\\\n fix reference             &    0.53 \\\\\n security notice           &    0.6  \\\\\n affected version listed   &    0.41 \\\\\n advisory reference        &    0.81 \\\\\n exploit                   &    0.32 \\\\\n affected component listed &    0.39 \\\\\n affected configuration    &    0.5  \\\\\n breaking change notice    &    0.83 \\\\\n code change reference     &    1    \\\\\n affected api listed       &    0.92 \\\\\n action required           &    0.87 \\\\\n affected configuration    &    0.72 \\\\\n\\hline\n\\end{tabular}\n"
     ]
    }
   ],
   "source": [
    "df = pd.DataFrame(d)\n",
    "print(tabulate(df, tablefmt='latex', headers='keys',showindex=False))\n"
   ]
  }
 ]
}