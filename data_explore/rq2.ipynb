{
 "metadata": {
  "language_info": {
   "codemirror_mode": {
    "name": "ipython",
    "version": 3
   },
   "file_extension": ".py",
   "mimetype": "text/x-python",
   "name": "python",
   "nbconvert_exporter": "python",
   "pygments_lexer": "ipython3",
   "version": "3.9.4"
  },
  "orig_nbformat": 2,
  "kernelspec": {
   "name": "python394jvsc74a57bd045e6bb90db539892217150e51eb80500a9bf028439c0d739bd24c7b8d42327c6",
   "display_name": "Python 3.9.4 64-bit ('advisory-lifecycle-RDwwAgfI': pipenv)"
  }
 },
 "nbformat": 4,
 "nbformat_minor": 2,
 "cells": [
  {
   "cell_type": "code",
   "execution_count": 1,
   "metadata": {},
   "outputs": [],
   "source": [
    "import sys\n",
    "import sql\n",
    "import pandas as pd\n",
    "from functools import reduce\n",
    "from tabulate import tabulate\n",
    "import datetime\n",
    "import matplotlib.pyplot as plt\n",
    "import seaborn as sns"
   ]
  },
  {
   "cell_type": "code",
   "execution_count": 2,
   "metadata": {},
   "outputs": [],
   "source": [
    "q='''select advisory_id, p.ecosystem, a.package_id, ri.id as release_id, ifnull(count(distinct sha),0) as commit_count\n",
    "    from advisory a\n",
    "    join package p on a.package_id = p.id\n",
    "    join fixing_releases fr on a.id = fr.advisory_id\n",
    "    join release_info ri on\n",
    "        fr.version = ri.version and ri.package_id = a.package_id\n",
    "    join release_commit rc on p.id = rc.package_id and rc.version = fr.version\n",
    "    join release_type rt on rt.release_info_id = ri.id\n",
    "    left join change_commit cc on ri.id = cc.release_info_id\n",
    "    where rc.commit is not null\n",
    "    and ri.prior_release != 'branch does not match'\n",
    "            and ri.prior_release != 'not valid semver formatting'\n",
    "    -- and rt.type = 'patch'\n",
    "    group by advisory_id, p.ecosystem, a.package_id, ri.id;'''\n",
    "cc = pd.DataFrame(sql.execute(q)) "
   ]
  },
  {
   "cell_type": "code",
   "execution_count": 3,
   "metadata": {},
   "outputs": [],
   "source": [
    "q= '''select advisory_id, p.ecosystem, a.package_id, ri.id as release_id,\n",
    "       ifnull(count(distinct filename),0) as file_count\n",
    "    from advisory a\n",
    "    join package p on a.package_id = p.id\n",
    "    join fixing_releases fr on a.id = fr.advisory_id\n",
    "    join release_info ri on\n",
    "        fr.version = ri.version and ri.package_id = a.package_id\n",
    "    join release_commit rc on p.id = rc.package_id and rc.version = fr.version\n",
    "    join release_type rt on rt.release_info_id = ri.id\n",
    "    left join (select scf.* from change_file scf\n",
    "    join file_extensions fe on scf.format = fe.id\n",
    "    where fe.source = 1) as cf on ri.id = cf.release_info_id\n",
    "    where rc.commit is not null\n",
    "    and ri.prior_release != 'branch does not match'\n",
    "            and ri.prior_release != 'not valid semver formatting'\n",
    "    -- and rt.type = 'patch'\n",
    "    group by advisory_id, p.ecosystem, a.package_id, ri.id;'''\n",
    "cf = pd.DataFrame(sql.execute(q))"
   ]
  },
  {
   "cell_type": "code",
   "execution_count": 4,
   "metadata": {},
   "outputs": [],
   "source": [
    "q = '''select advisory_id, p.ecosystem, a.package_id, ri.id as release_id, \n",
    "       ifnull(sum(lines_added + lines_removed),0) as loc_change\n",
    "    from advisory a\n",
    "    join package p on a.package_id = p.id\n",
    "    join fixing_releases fr on a.id = fr.advisory_id\n",
    "    join release_info ri on\n",
    "        fr.version = ri.version and ri.package_id = a.package_id\n",
    "    join release_commit rc on p.id = rc.package_id and rc.version = fr.version\n",
    "    join release_type rt on rt.release_info_id = ri.id\n",
    "    left join (select scf.* from change_file scf\n",
    "    join file_extensions fe on scf.format = fe.id\n",
    "    where fe.source = 1) as cf on ri.id = cf.release_info_id\n",
    "    where rc.commit is not null\n",
    "    and ri.prior_release != 'branch does not match'\n",
    "            and ri.prior_release != 'not valid semver formatting'\n",
    "    -- and rt.type = 'patch'\n",
    "    group by advisory_id, p.ecosystem, a.package_id, ri.id;'''\n",
    "loc = pd.DataFrame(sql.execute(q))"
   ]
  },
  {
   "cell_type": "code",
   "execution_count": 5,
   "metadata": {},
   "outputs": [],
   "source": [
    "q = '''select advisory_id, p.ecosystem, a.package_id, ri.id as release_id,\n",
    "       ifnull(count(distinct author_mail),0) as contributor_count\n",
    "    from advisory a\n",
    "    join package p on a.package_id = p.id\n",
    "    join fixing_releases fr on a.id = fr.advisory_id\n",
    "    join release_info ri on\n",
    "        fr.version = ri.version and ri.package_id = a.package_id\n",
    "    join release_commit rc on p.id = rc.package_id and rc.version = fr.version\n",
    "    join release_type rt on rt.release_info_id = ri.id\n",
    "    left join change_commit cc on ri.id = cc.release_info_id\n",
    "    where rc.commit is not null\n",
    "    and ri.prior_release != 'branch does not match'\n",
    "            and ri.prior_release != 'not valid semver formatting'\n",
    "    -- and rt.type = 'patch'\n",
    "    group by advisory_id, p.ecosystem, a.package_id, ri.id'''\n",
    "contrib = pd.DataFrame(sql.execute(q))"
   ]
  },
  {
   "cell_type": "code",
   "execution_count": 6,
   "metadata": {},
   "outputs": [
    {
     "output_type": "execute_result",
     "data": {
      "text/plain": [
       "(3381, 3381, 3381, 3381)"
      ]
     },
     "metadata": {},
     "execution_count": 6
    }
   ],
   "source": [
    "cc['release_id'].nunique() , cf['release_id'].nunique(), loc['release_id'].nunique(), contrib['release_id'].nunique()"
   ]
  },
  {
   "cell_type": "code",
   "execution_count": 32,
   "metadata": {},
   "outputs": [
    {
     "output_type": "execute_result",
     "data": {
      "text/plain": [
       "count      3381.000000\n",
       "mean        175.213251\n",
       "std        2647.988209\n",
       "min           0.000000\n",
       "25%           4.000000\n",
       "50%          12.000000\n",
       "75%          45.000000\n",
       "max      100993.000000\n",
       "Name: commit_count, dtype: float64"
      ]
     },
     "metadata": {},
     "execution_count": 32
    }
   ],
   "source": [
    "temp = cc.drop_duplicates(subset='release_id',keep='last')\n",
    "temp['commit_count'].describe()"
   ]
  },
  {
   "cell_type": "code",
   "execution_count": 7,
   "metadata": {},
   "outputs": [],
   "source": [
    "df = reduce(lambda x, y: pd.merge(x,y, on =['advisory_id','ecosystem', 'package_id', 'release_id']), [cc,cf,loc,contrib])\n",
    "df['loc_change'] = df['loc_change'].apply(lambda x: 0 if x is None else x)\n",
    "df['loc_change'] = df['loc_change'].astype(int)"
   ]
  },
  {
   "cell_type": "code",
   "execution_count": 8,
   "metadata": {},
   "outputs": [
    {
     "output_type": "execute_result",
     "data": {
      "text/plain": [
       "['Total', 3114, 1471, 3381, 12.0, 13.0, 402.0, 4.0]"
      ]
     },
     "metadata": {},
     "execution_count": 8
    }
   ],
   "source": [
    "total = ['Total', df['advisory_id'].nunique(), df['package_id'].nunique(), df['release_id'].nunique()]\n",
    "temp = df.drop_duplicates(subset ='release_id', keep = 'last')\n",
    "total += [temp['commit_count'].median(), temp['file_count'].median(), temp['loc_change'].median(), temp['contributor_count'].median()]\n",
    "total"
   ]
  },
  {
   "cell_type": "code",
   "execution_count": 9,
   "metadata": {},
   "outputs": [
    {
     "output_type": "execute_result",
     "data": {
      "text/plain": [
       "['Total', 3114, 1471, 3381, 12.0, 13.0, 402.0, 4.0, 2421]"
      ]
     },
     "metadata": {},
     "execution_count": 9
    }
   ],
   "source": [
    "q = ''' select ecosystem, count(distinct ri.id) as patch\n",
    "from advisory a\n",
    "join package p on a.package_id = p.id\n",
    "join fixing_releases fr on a.id = fr.advisory_id\n",
    "join release_info ri on\n",
    "    fr.version = ri.version and ri.package_id = a.package_id\n",
    "join release_commit rc on p.id = rc.package_id and rc.version = fr.version\n",
    "join release_type rt on ri.id = rt.release_info_id\n",
    "where rc.commit is not null and rt.type ='patch'\n",
    "and ri.prior_release != 'branch does not match'\n",
    "            and ri.prior_release != 'not valid semver formatting'\n",
    "-- and rt.type = 'patch'\n",
    "group by ecosystem;'''\n"
   ]
  },
  {
   "cell_type": "code",
   "execution_count": null,
   "metadata": {},
   "outputs": [],
   "source": [
    "patch = pd.DataFrame(sql.execute(q))\n",
    "total.append(patch['patch'].sum())\n",
    "total"
   ]
  },
  {
   "cell_type": "code",
   "execution_count": 10,
   "metadata": {},
   "outputs": [
    {
     "output_type": "execute_result",
     "data": {
      "text/plain": [
       "  ecosystem  advisory_id  package_id  release_id  commit_count  file_count  \\\n",
       "0  Composer          747         202         823           7.0        11.0   \n",
       "1        Go          191         150         251          23.0        42.0   \n",
       "2     Maven          743         381         897          37.0        49.0   \n",
       "5       npm          573         379         605           6.0         5.0   \n",
       "3     NuGet          229          56         141          11.0        14.0   \n",
       "6       pip          442         202         402          16.0        11.0   \n",
       "4  RubyGems          189         101         262           5.0        10.0   \n",
       "7     Total         3114        1471        3381          12.0        13.0   \n",
       "\n",
       "   loc_change  contributor_count         patch  \n",
       "0       231.0                3.0   706 (85.8%)  \n",
       "1      1640.0                8.0   191 (76.1%)  \n",
       "2      2064.0                6.0   514 (57.3%)  \n",
       "5       155.0                2.0   410 (67.8%)  \n",
       "3       498.0                7.0   128 (90.8%)  \n",
       "6       244.5                4.0   276 (68.7%)  \n",
       "4        88.5                2.0   196 (74.8%)  \n",
       "7       402.0                4.0  2421 (71.6%)  "
      ],
      "text/html": "<div>\n<style scoped>\n    .dataframe tbody tr th:only-of-type {\n        vertical-align: middle;\n    }\n\n    .dataframe tbody tr th {\n        vertical-align: top;\n    }\n\n    .dataframe thead th {\n        text-align: right;\n    }\n</style>\n<table border=\"1\" class=\"dataframe\">\n  <thead>\n    <tr style=\"text-align: right;\">\n      <th></th>\n      <th>ecosystem</th>\n      <th>advisory_id</th>\n      <th>package_id</th>\n      <th>release_id</th>\n      <th>commit_count</th>\n      <th>file_count</th>\n      <th>loc_change</th>\n      <th>contributor_count</th>\n      <th>patch</th>\n    </tr>\n  </thead>\n  <tbody>\n    <tr>\n      <th>0</th>\n      <td>Composer</td>\n      <td>747</td>\n      <td>202</td>\n      <td>823</td>\n      <td>7.0</td>\n      <td>11.0</td>\n      <td>231.0</td>\n      <td>3.0</td>\n      <td>706 (85.8%)</td>\n    </tr>\n    <tr>\n      <th>1</th>\n      <td>Go</td>\n      <td>191</td>\n      <td>150</td>\n      <td>251</td>\n      <td>23.0</td>\n      <td>42.0</td>\n      <td>1640.0</td>\n      <td>8.0</td>\n      <td>191 (76.1%)</td>\n    </tr>\n    <tr>\n      <th>2</th>\n      <td>Maven</td>\n      <td>743</td>\n      <td>381</td>\n      <td>897</td>\n      <td>37.0</td>\n      <td>49.0</td>\n      <td>2064.0</td>\n      <td>6.0</td>\n      <td>514 (57.3%)</td>\n    </tr>\n    <tr>\n      <th>5</th>\n      <td>npm</td>\n      <td>573</td>\n      <td>379</td>\n      <td>605</td>\n      <td>6.0</td>\n      <td>5.0</td>\n      <td>155.0</td>\n      <td>2.0</td>\n      <td>410 (67.8%)</td>\n    </tr>\n    <tr>\n      <th>3</th>\n      <td>NuGet</td>\n      <td>229</td>\n      <td>56</td>\n      <td>141</td>\n      <td>11.0</td>\n      <td>14.0</td>\n      <td>498.0</td>\n      <td>7.0</td>\n      <td>128 (90.8%)</td>\n    </tr>\n    <tr>\n      <th>6</th>\n      <td>pip</td>\n      <td>442</td>\n      <td>202</td>\n      <td>402</td>\n      <td>16.0</td>\n      <td>11.0</td>\n      <td>244.5</td>\n      <td>4.0</td>\n      <td>276 (68.7%)</td>\n    </tr>\n    <tr>\n      <th>4</th>\n      <td>RubyGems</td>\n      <td>189</td>\n      <td>101</td>\n      <td>262</td>\n      <td>5.0</td>\n      <td>10.0</td>\n      <td>88.5</td>\n      <td>2.0</td>\n      <td>196 (74.8%)</td>\n    </tr>\n    <tr>\n      <th>7</th>\n      <td>Total</td>\n      <td>3114</td>\n      <td>1471</td>\n      <td>3381</td>\n      <td>12.0</td>\n      <td>13.0</td>\n      <td>402.0</td>\n      <td>4.0</td>\n      <td>2421 (71.6%)</td>\n    </tr>\n  </tbody>\n</table>\n</div>"
     },
     "metadata": {},
     "execution_count": 10
    }
   ],
   "source": [
    "adv = df.groupby('ecosystem')[['advisory_id']].nunique()\n",
    "pkg = df.groupby('ecosystem')[['package_id']].nunique()\n",
    "rel = df.groupby('ecosystem')[['release_id']].nunique()\n",
    "temp = df.drop_duplicates(subset ='release_id', keep = 'last')\n",
    "commits =temp.groupby('ecosystem')[['commit_count']].median()\n",
    "files = temp.groupby('ecosystem')[['file_count']].median()\n",
    "loc_change = temp.groupby('ecosystem')[['loc_change']].median()\n",
    "contributors = temp.groupby('ecosystem')[['contributor_count']].median()\n",
    "final =reduce(lambda x,y : pd.merge(x,y,on='ecosystem'),[adv, pkg, rel, commits, files, loc_change, contributors, patch])\n",
    "final['temp'] = round(final['patch'] / final['release_id'] * 100 , 1)\n",
    "final['patch'] = final['patch'].map(str) +' (' + final['temp'].map(str) +'%)'\n",
    "total[-1] = str(total[-1]) + ' (' + str(round(total[-1] / total[3] * 100, 1)) +'%)'\n",
    "final['temp'] = final['ecosystem'].str.lower()\n",
    "final = final.sort_values(by = 'temp', ascending=True)\n",
    "final = final.drop('temp', axis=1)\n",
    "final.loc[len(final)] = total\n",
    "final"
   ]
  },
  {
   "cell_type": "code",
   "execution_count": 11,
   "metadata": {},
   "outputs": [
    {
     "output_type": "execute_result",
     "data": {
      "text/plain": [
       "count    3.381000e+03\n",
       "mean     6.647873e+04\n",
       "std      1.225089e+06\n",
       "min      0.000000e+00\n",
       "25%      7.500000e+01\n",
       "50%      4.020000e+02\n",
       "75%      2.916000e+03\n",
       "max      5.395807e+07\n",
       "Name: loc_change, dtype: float64"
      ]
     },
     "metadata": {},
     "execution_count": 11
    }
   ],
   "source": [
    "temp = df.drop_duplicates(subset ='release_id', keep = 'last')\n",
    "len(temp)\n",
    "temp['loc_change'].describe()"
   ]
  },
  {
   "cell_type": "code",
   "execution_count": 12,
   "metadata": {},
   "outputs": [
    {
     "output_type": "stream",
     "name": "stdout",
     "text": [
      "\\begin{tabular}{lrrrrrrrl}\n\\hline\n ecosystem   &   advisory\\_id &   package\\_id &   release\\_id &   commit\\_count &   file\\_count &   loc\\_change &   contributor\\_count & patch        \\\\\n\\hline\n Composer    &           747 &          202 &          823 &              7 &           11 &        231   &                   3 & 706 (85.8\\%)  \\\\\n Go          &           191 &          150 &          251 &             23 &           42 &       1640   &                   8 & 191 (76.1\\%)  \\\\\n Maven       &           743 &          381 &          897 &             37 &           49 &       2064   &                   6 & 514 (57.3\\%)  \\\\\n npm         &           573 &          379 &          605 &              6 &            5 &        155   &                   2 & 410 (67.8\\%)  \\\\\n NuGet       &           229 &           56 &          141 &             11 &           14 &        498   &                   7 & 128 (90.8\\%)  \\\\\n pip         &           442 &          202 &          402 &             16 &           11 &        244.5 &                   4 & 276 (68.7\\%)  \\\\\n RubyGems    &           189 &          101 &          262 &              5 &           10 &         88.5 &                   2 & 196 (74.8\\%)  \\\\\n Total       &          3114 &         1471 &         3381 &             12 &           13 &        402   &                   4 & 2421 (71.6\\%) \\\\\n\\hline\n\\end{tabular}\n"
     ]
    }
   ],
   "source": [
    "print(tabulate(final, tablefmt='latex', headers='keys',showindex=False))"
   ]
  },
  {
   "cell_type": "code",
   "execution_count": 13,
   "metadata": {},
   "outputs": [
    {
     "output_type": "display_data",
     "data": {
      "text/plain": "<Figure size 432x288 with 1 Axes>",
      "image/svg+xml": "<?xml version=\"1.0\" encoding=\"utf-8\" standalone=\"no\"?>\n<!DOCTYPE svg PUBLIC \"-//W3C//DTD SVG 1.1//EN\"\n  \"http://www.w3.org/Graphics/SVG/1.1/DTD/svg11.dtd\">\n<!-- Created with matplotlib (https://matplotlib.org/) -->\n<svg height=\"265.995469pt\" version=\"1.1\" viewBox=\"0 0 392.028683 265.995469\" width=\"392.028683pt\" xmlns=\"http://www.w3.org/2000/svg\" xmlns:xlink=\"http://www.w3.org/1999/xlink\">\n <metadata>\n  <rdf:RDF xmlns:cc=\"http://creativecommons.org/ns#\" xmlns:dc=\"http://purl.org/dc/elements/1.1/\" xmlns:rdf=\"http://www.w3.org/1999/02/22-rdf-syntax-ns#\">\n   <cc:Work>\n    <dc:type rdf:resource=\"http://purl.org/dc/dcmitype/StillImage\"/>\n    <dc:date>2021-05-22T11:07:17.214687</dc:date>\n    <dc:format>image/svg+xml</dc:format>\n    <dc:creator>\n     <cc:Agent>\n      <dc:title>Matplotlib v3.3.4, https://matplotlib.org/</dc:title>\n     </cc:Agent>\n    </dc:creator>\n   </cc:Work>\n  </rdf:RDF>\n </metadata>\n <defs>\n  <style type=\"text/css\">*{stroke-linecap:butt;stroke-linejoin:round;}</style>\n </defs>\n <g id=\"figure_1\">\n  <g id=\"patch_1\">\n   <path d=\"M 0 265.995469 \nL 392.028683 265.995469 \nL 392.028683 0 \nL 0 0 \nz\n\" style=\"fill:none;\"/>\n  </g>\n  <g id=\"axes_1\">\n   <g id=\"patch_2\">\n    <path d=\"M 46.965625 228.439219 \nL 381.765625 228.439219 \nL 381.765625 10.999219 \nL 46.965625 10.999219 \nz\n\" style=\"fill:#ffffff;\"/>\n   </g>\n   <g id=\"patch_3\">\n    <path clip-path=\"url(#pc9a3db64f1)\" d=\"M 51.748482 226.699699 \nL 90.011339 226.699699 \nL 90.011339 204.085939 \nL 51.748482 204.085939 \nL 51.748482 226.699699 \nz\n\" style=\"fill:#3274a1;stroke:#3d3d3d;stroke-linejoin:miter;stroke-width:1.5;\"/>\n   </g>\n   <g id=\"patch_4\">\n    <path clip-path=\"url(#pc9a3db64f1)\" d=\"M 99.577054 221.046259 \nL 137.839911 221.046259 \nL 137.839911 167.556019 \nL 99.577054 167.556019 \nL 99.577054 221.046259 \nz\n\" style=\"fill:#e1812c;stroke:#3d3d3d;stroke-linejoin:miter;stroke-width:1.5;\"/>\n   </g>\n   <g id=\"patch_5\">\n    <path clip-path=\"url(#pc9a3db64f1)\" d=\"M 147.405625 218.871859 \nL 185.668482 218.871859 \nL 185.668482 143.202739 \nL 147.405625 143.202739 \nL 147.405625 218.871859 \nz\n\" style=\"fill:#3a923a;stroke:#3d3d3d;stroke-linejoin:miter;stroke-width:1.5;\"/>\n   </g>\n   <g id=\"patch_6\">\n    <path clip-path=\"url(#pc9a3db64f1)\" d=\"M 195.234196 225.829939 \nL 233.497054 225.829939 \nL 233.497054 215.392819 \nL 195.234196 215.392819 \nL 195.234196 225.829939 \nz\n\" style=\"fill:#c03d3e;stroke:#3d3d3d;stroke-linejoin:miter;stroke-width:1.5;\"/>\n   </g>\n   <g id=\"patch_7\">\n    <path clip-path=\"url(#pc9a3db64f1)\" d=\"M 243.062768 223.220659 \nL 281.325625 223.220659 \nL 281.325625 183.211699 \nL 243.062768 183.211699 \nL 243.062768 223.220659 \nz\n\" style=\"fill:#9372b2;stroke:#3d3d3d;stroke-linejoin:miter;stroke-width:1.5;\"/>\n   </g>\n   <g id=\"patch_8\">\n    <path clip-path=\"url(#pc9a3db64f1)\" d=\"M 290.891339 223.872979 \nL 329.154196 223.872979 \nL 329.154196 192.996499 \nL 290.891339 192.996499 \nL 290.891339 223.872979 \nz\n\" style=\"fill:#845b53;stroke:#3d3d3d;stroke-linejoin:miter;stroke-width:1.5;\"/>\n   </g>\n   <g id=\"patch_9\">\n    <path clip-path=\"url(#pc9a3db64f1)\" d=\"M 338.719911 225.829939 \nL 376.982768 225.829939 \nL 376.982768 218.002099 \nL 338.719911 218.002099 \nL 338.719911 225.829939 \nz\n\" style=\"fill:#d684bd;stroke:#3d3d3d;stroke-linejoin:miter;stroke-width:1.5;\"/>\n   </g>\n   <g id=\"matplotlib.axis_1\">\n    <g id=\"xtick_1\">\n     <g id=\"line2d_1\">\n      <defs>\n       <path d=\"M 0 0 \nL 0 3.5 \n\" id=\"mf64950f8d4\" style=\"stroke:#000000;stroke-width:0.8;\"/>\n      </defs>\n      <g>\n       <use style=\"stroke:#000000;stroke-width:0.8;\" x=\"70.879911\" xlink:href=\"#mf64950f8d4\" y=\"228.439219\"/>\n      </g>\n     </g>\n     <g id=\"text_1\">\n      <!-- Composer -->\n      <g transform=\"translate(45.488504 243.037656)scale(0.1 -0.1)\">\n       <defs>\n        <path d=\"M 64.40625 67.28125 \nL 64.40625 56.890625 \nQ 59.421875 61.53125 53.78125 63.8125 \nQ 48.140625 66.109375 41.796875 66.109375 \nQ 29.296875 66.109375 22.65625 58.46875 \nQ 16.015625 50.828125 16.015625 36.375 \nQ 16.015625 21.96875 22.65625 14.328125 \nQ 29.296875 6.6875 41.796875 6.6875 \nQ 48.140625 6.6875 53.78125 8.984375 \nQ 59.421875 11.28125 64.40625 15.921875 \nL 64.40625 5.609375 \nQ 59.234375 2.09375 53.4375 0.328125 \nQ 47.65625 -1.421875 41.21875 -1.421875 \nQ 24.65625 -1.421875 15.125 8.703125 \nQ 5.609375 18.84375 5.609375 36.375 \nQ 5.609375 53.953125 15.125 64.078125 \nQ 24.65625 74.21875 41.21875 74.21875 \nQ 47.75 74.21875 53.53125 72.484375 \nQ 59.328125 70.75 64.40625 67.28125 \nz\n\" id=\"DejaVuSans-67\"/>\n        <path d=\"M 30.609375 48.390625 \nQ 23.390625 48.390625 19.1875 42.75 \nQ 14.984375 37.109375 14.984375 27.296875 \nQ 14.984375 17.484375 19.15625 11.84375 \nQ 23.34375 6.203125 30.609375 6.203125 \nQ 37.796875 6.203125 41.984375 11.859375 \nQ 46.1875 17.53125 46.1875 27.296875 \nQ 46.1875 37.015625 41.984375 42.703125 \nQ 37.796875 48.390625 30.609375 48.390625 \nz\nM 30.609375 56 \nQ 42.328125 56 49.015625 48.375 \nQ 55.71875 40.765625 55.71875 27.296875 \nQ 55.71875 13.875 49.015625 6.21875 \nQ 42.328125 -1.421875 30.609375 -1.421875 \nQ 18.84375 -1.421875 12.171875 6.21875 \nQ 5.515625 13.875 5.515625 27.296875 \nQ 5.515625 40.765625 12.171875 48.375 \nQ 18.84375 56 30.609375 56 \nz\n\" id=\"DejaVuSans-111\"/>\n        <path d=\"M 52 44.1875 \nQ 55.375 50.25 60.0625 53.125 \nQ 64.75 56 71.09375 56 \nQ 79.640625 56 84.28125 50.015625 \nQ 88.921875 44.046875 88.921875 33.015625 \nL 88.921875 0 \nL 79.890625 0 \nL 79.890625 32.71875 \nQ 79.890625 40.578125 77.09375 44.375 \nQ 74.3125 48.1875 68.609375 48.1875 \nQ 61.625 48.1875 57.5625 43.546875 \nQ 53.515625 38.921875 53.515625 30.90625 \nL 53.515625 0 \nL 44.484375 0 \nL 44.484375 32.71875 \nQ 44.484375 40.625 41.703125 44.40625 \nQ 38.921875 48.1875 33.109375 48.1875 \nQ 26.21875 48.1875 22.15625 43.53125 \nQ 18.109375 38.875 18.109375 30.90625 \nL 18.109375 0 \nL 9.078125 0 \nL 9.078125 54.6875 \nL 18.109375 54.6875 \nL 18.109375 46.1875 \nQ 21.1875 51.21875 25.484375 53.609375 \nQ 29.78125 56 35.6875 56 \nQ 41.65625 56 45.828125 52.96875 \nQ 50 49.953125 52 44.1875 \nz\n\" id=\"DejaVuSans-109\"/>\n        <path d=\"M 18.109375 8.203125 \nL 18.109375 -20.796875 \nL 9.078125 -20.796875 \nL 9.078125 54.6875 \nL 18.109375 54.6875 \nL 18.109375 46.390625 \nQ 20.953125 51.265625 25.265625 53.625 \nQ 29.59375 56 35.59375 56 \nQ 45.5625 56 51.78125 48.09375 \nQ 58.015625 40.1875 58.015625 27.296875 \nQ 58.015625 14.40625 51.78125 6.484375 \nQ 45.5625 -1.421875 35.59375 -1.421875 \nQ 29.59375 -1.421875 25.265625 0.953125 \nQ 20.953125 3.328125 18.109375 8.203125 \nz\nM 48.6875 27.296875 \nQ 48.6875 37.203125 44.609375 42.84375 \nQ 40.53125 48.484375 33.40625 48.484375 \nQ 26.265625 48.484375 22.1875 42.84375 \nQ 18.109375 37.203125 18.109375 27.296875 \nQ 18.109375 17.390625 22.1875 11.75 \nQ 26.265625 6.109375 33.40625 6.109375 \nQ 40.53125 6.109375 44.609375 11.75 \nQ 48.6875 17.390625 48.6875 27.296875 \nz\n\" id=\"DejaVuSans-112\"/>\n        <path d=\"M 44.28125 53.078125 \nL 44.28125 44.578125 \nQ 40.484375 46.53125 36.375 47.5 \nQ 32.28125 48.484375 27.875 48.484375 \nQ 21.1875 48.484375 17.84375 46.4375 \nQ 14.5 44.390625 14.5 40.28125 \nQ 14.5 37.15625 16.890625 35.375 \nQ 19.28125 33.59375 26.515625 31.984375 \nL 29.59375 31.296875 \nQ 39.15625 29.25 43.1875 25.515625 \nQ 47.21875 21.78125 47.21875 15.09375 \nQ 47.21875 7.46875 41.1875 3.015625 \nQ 35.15625 -1.421875 24.609375 -1.421875 \nQ 20.21875 -1.421875 15.453125 -0.5625 \nQ 10.6875 0.296875 5.421875 2 \nL 5.421875 11.28125 \nQ 10.40625 8.6875 15.234375 7.390625 \nQ 20.0625 6.109375 24.8125 6.109375 \nQ 31.15625 6.109375 34.5625 8.28125 \nQ 37.984375 10.453125 37.984375 14.40625 \nQ 37.984375 18.0625 35.515625 20.015625 \nQ 33.0625 21.96875 24.703125 23.78125 \nL 21.578125 24.515625 \nQ 13.234375 26.265625 9.515625 29.90625 \nQ 5.8125 33.546875 5.8125 39.890625 \nQ 5.8125 47.609375 11.28125 51.796875 \nQ 16.75 56 26.8125 56 \nQ 31.78125 56 36.171875 55.265625 \nQ 40.578125 54.546875 44.28125 53.078125 \nz\n\" id=\"DejaVuSans-115\"/>\n        <path d=\"M 56.203125 29.59375 \nL 56.203125 25.203125 \nL 14.890625 25.203125 \nQ 15.484375 15.921875 20.484375 11.0625 \nQ 25.484375 6.203125 34.421875 6.203125 \nQ 39.59375 6.203125 44.453125 7.46875 \nQ 49.3125 8.734375 54.109375 11.28125 \nL 54.109375 2.78125 \nQ 49.265625 0.734375 44.1875 -0.34375 \nQ 39.109375 -1.421875 33.890625 -1.421875 \nQ 20.796875 -1.421875 13.15625 6.1875 \nQ 5.515625 13.8125 5.515625 26.8125 \nQ 5.515625 40.234375 12.765625 48.109375 \nQ 20.015625 56 32.328125 56 \nQ 43.359375 56 49.78125 48.890625 \nQ 56.203125 41.796875 56.203125 29.59375 \nz\nM 47.21875 32.234375 \nQ 47.125 39.59375 43.09375 43.984375 \nQ 39.0625 48.390625 32.421875 48.390625 \nQ 24.90625 48.390625 20.390625 44.140625 \nQ 15.875 39.890625 15.1875 32.171875 \nz\n\" id=\"DejaVuSans-101\"/>\n        <path d=\"M 41.109375 46.296875 \nQ 39.59375 47.171875 37.8125 47.578125 \nQ 36.03125 48 33.890625 48 \nQ 26.265625 48 22.1875 43.046875 \nQ 18.109375 38.09375 18.109375 28.8125 \nL 18.109375 0 \nL 9.078125 0 \nL 9.078125 54.6875 \nL 18.109375 54.6875 \nL 18.109375 46.1875 \nQ 20.953125 51.171875 25.484375 53.578125 \nQ 30.03125 56 36.53125 56 \nQ 37.453125 56 38.578125 55.875 \nQ 39.703125 55.765625 41.0625 55.515625 \nz\n\" id=\"DejaVuSans-114\"/>\n       </defs>\n       <use xlink:href=\"#DejaVuSans-67\"/>\n       <use x=\"69.824219\" xlink:href=\"#DejaVuSans-111\"/>\n       <use x=\"131.005859\" xlink:href=\"#DejaVuSans-109\"/>\n       <use x=\"228.417969\" xlink:href=\"#DejaVuSans-112\"/>\n       <use x=\"291.894531\" xlink:href=\"#DejaVuSans-111\"/>\n       <use x=\"353.076172\" xlink:href=\"#DejaVuSans-115\"/>\n       <use x=\"405.175781\" xlink:href=\"#DejaVuSans-101\"/>\n       <use x=\"466.699219\" xlink:href=\"#DejaVuSans-114\"/>\n      </g>\n     </g>\n    </g>\n    <g id=\"xtick_2\">\n     <g id=\"line2d_2\">\n      <g>\n       <use style=\"stroke:#000000;stroke-width:0.8;\" x=\"118.708482\" xlink:href=\"#mf64950f8d4\" y=\"228.439219\"/>\n      </g>\n     </g>\n     <g id=\"text_2\">\n      <!-- Go -->\n      <g transform=\"translate(111.774888 243.037656)scale(0.1 -0.1)\">\n       <defs>\n        <path d=\"M 59.515625 10.40625 \nL 59.515625 29.984375 \nL 43.40625 29.984375 \nL 43.40625 38.09375 \nL 69.28125 38.09375 \nL 69.28125 6.78125 \nQ 63.578125 2.734375 56.6875 0.65625 \nQ 49.8125 -1.421875 42 -1.421875 \nQ 24.90625 -1.421875 15.25 8.5625 \nQ 5.609375 18.5625 5.609375 36.375 \nQ 5.609375 54.25 15.25 64.234375 \nQ 24.90625 74.21875 42 74.21875 \nQ 49.125 74.21875 55.546875 72.453125 \nQ 61.96875 70.703125 67.390625 67.28125 \nL 67.390625 56.78125 \nQ 61.921875 61.421875 55.765625 63.765625 \nQ 49.609375 66.109375 42.828125 66.109375 \nQ 29.4375 66.109375 22.71875 58.640625 \nQ 16.015625 51.171875 16.015625 36.375 \nQ 16.015625 21.625 22.71875 14.15625 \nQ 29.4375 6.6875 42.828125 6.6875 \nQ 48.046875 6.6875 52.140625 7.59375 \nQ 56.25 8.5 59.515625 10.40625 \nz\n\" id=\"DejaVuSans-71\"/>\n       </defs>\n       <use xlink:href=\"#DejaVuSans-71\"/>\n       <use x=\"77.490234\" xlink:href=\"#DejaVuSans-111\"/>\n      </g>\n     </g>\n    </g>\n    <g id=\"xtick_3\">\n     <g id=\"line2d_3\">\n      <g>\n       <use style=\"stroke:#000000;stroke-width:0.8;\" x=\"166.537054\" xlink:href=\"#mf64950f8d4\" y=\"228.439219\"/>\n      </g>\n     </g>\n     <g id=\"text_3\">\n      <!-- Maven -->\n      <g transform=\"translate(149.954241 243.037656)scale(0.1 -0.1)\">\n       <defs>\n        <path d=\"M 9.8125 72.90625 \nL 24.515625 72.90625 \nL 43.109375 23.296875 \nL 61.8125 72.90625 \nL 76.515625 72.90625 \nL 76.515625 0 \nL 66.890625 0 \nL 66.890625 64.015625 \nL 48.09375 14.015625 \nL 38.1875 14.015625 \nL 19.390625 64.015625 \nL 19.390625 0 \nL 9.8125 0 \nz\n\" id=\"DejaVuSans-77\"/>\n        <path d=\"M 34.28125 27.484375 \nQ 23.390625 27.484375 19.1875 25 \nQ 14.984375 22.515625 14.984375 16.5 \nQ 14.984375 11.71875 18.140625 8.90625 \nQ 21.296875 6.109375 26.703125 6.109375 \nQ 34.1875 6.109375 38.703125 11.40625 \nQ 43.21875 16.703125 43.21875 25.484375 \nL 43.21875 27.484375 \nz\nM 52.203125 31.203125 \nL 52.203125 0 \nL 43.21875 0 \nL 43.21875 8.296875 \nQ 40.140625 3.328125 35.546875 0.953125 \nQ 30.953125 -1.421875 24.3125 -1.421875 \nQ 15.921875 -1.421875 10.953125 3.296875 \nQ 6 8.015625 6 15.921875 \nQ 6 25.140625 12.171875 29.828125 \nQ 18.359375 34.515625 30.609375 34.515625 \nL 43.21875 34.515625 \nL 43.21875 35.40625 \nQ 43.21875 41.609375 39.140625 45 \nQ 35.0625 48.390625 27.6875 48.390625 \nQ 23 48.390625 18.546875 47.265625 \nQ 14.109375 46.140625 10.015625 43.890625 \nL 10.015625 52.203125 \nQ 14.9375 54.109375 19.578125 55.046875 \nQ 24.21875 56 28.609375 56 \nQ 40.484375 56 46.34375 49.84375 \nQ 52.203125 43.703125 52.203125 31.203125 \nz\n\" id=\"DejaVuSans-97\"/>\n        <path d=\"M 2.984375 54.6875 \nL 12.5 54.6875 \nL 29.59375 8.796875 \nL 46.6875 54.6875 \nL 56.203125 54.6875 \nL 35.6875 0 \nL 23.484375 0 \nz\n\" id=\"DejaVuSans-118\"/>\n        <path d=\"M 54.890625 33.015625 \nL 54.890625 0 \nL 45.90625 0 \nL 45.90625 32.71875 \nQ 45.90625 40.484375 42.875 44.328125 \nQ 39.84375 48.1875 33.796875 48.1875 \nQ 26.515625 48.1875 22.3125 43.546875 \nQ 18.109375 38.921875 18.109375 30.90625 \nL 18.109375 0 \nL 9.078125 0 \nL 9.078125 54.6875 \nL 18.109375 54.6875 \nL 18.109375 46.1875 \nQ 21.34375 51.125 25.703125 53.5625 \nQ 30.078125 56 35.796875 56 \nQ 45.21875 56 50.046875 50.171875 \nQ 54.890625 44.34375 54.890625 33.015625 \nz\n\" id=\"DejaVuSans-110\"/>\n       </defs>\n       <use xlink:href=\"#DejaVuSans-77\"/>\n       <use x=\"86.279297\" xlink:href=\"#DejaVuSans-97\"/>\n       <use x=\"147.558594\" xlink:href=\"#DejaVuSans-118\"/>\n       <use x=\"206.738281\" xlink:href=\"#DejaVuSans-101\"/>\n       <use x=\"268.261719\" xlink:href=\"#DejaVuSans-110\"/>\n      </g>\n     </g>\n    </g>\n    <g id=\"xtick_4\">\n     <g id=\"line2d_4\">\n      <g>\n       <use style=\"stroke:#000000;stroke-width:0.8;\" x=\"214.365625\" xlink:href=\"#mf64950f8d4\" y=\"228.439219\"/>\n      </g>\n     </g>\n     <g id=\"text_4\">\n      <!-- npm -->\n      <g transform=\"translate(203.152344 243.037656)scale(0.1 -0.1)\">\n       <use xlink:href=\"#DejaVuSans-110\"/>\n       <use x=\"63.378906\" xlink:href=\"#DejaVuSans-112\"/>\n       <use x=\"126.855469\" xlink:href=\"#DejaVuSans-109\"/>\n      </g>\n     </g>\n    </g>\n    <g id=\"xtick_5\">\n     <g id=\"line2d_5\">\n      <g>\n       <use style=\"stroke:#000000;stroke-width:0.8;\" x=\"262.194196\" xlink:href=\"#mf64950f8d4\" y=\"228.439219\"/>\n      </g>\n     </g>\n     <g id=\"text_5\">\n      <!-- NuGet -->\n      <g transform=\"translate(246.373884 243.037656)scale(0.1 -0.1)\">\n       <defs>\n        <path d=\"M 9.8125 72.90625 \nL 23.09375 72.90625 \nL 55.421875 11.921875 \nL 55.421875 72.90625 \nL 64.984375 72.90625 \nL 64.984375 0 \nL 51.703125 0 \nL 19.390625 60.984375 \nL 19.390625 0 \nL 9.8125 0 \nz\n\" id=\"DejaVuSans-78\"/>\n        <path d=\"M 8.5 21.578125 \nL 8.5 54.6875 \nL 17.484375 54.6875 \nL 17.484375 21.921875 \nQ 17.484375 14.15625 20.5 10.265625 \nQ 23.53125 6.390625 29.59375 6.390625 \nQ 36.859375 6.390625 41.078125 11.03125 \nQ 45.3125 15.671875 45.3125 23.6875 \nL 45.3125 54.6875 \nL 54.296875 54.6875 \nL 54.296875 0 \nL 45.3125 0 \nL 45.3125 8.40625 \nQ 42.046875 3.421875 37.71875 1 \nQ 33.40625 -1.421875 27.6875 -1.421875 \nQ 18.265625 -1.421875 13.375 4.4375 \nQ 8.5 10.296875 8.5 21.578125 \nz\nM 31.109375 56 \nz\n\" id=\"DejaVuSans-117\"/>\n        <path d=\"M 18.3125 70.21875 \nL 18.3125 54.6875 \nL 36.8125 54.6875 \nL 36.8125 47.703125 \nL 18.3125 47.703125 \nL 18.3125 18.015625 \nQ 18.3125 11.328125 20.140625 9.421875 \nQ 21.96875 7.515625 27.59375 7.515625 \nL 36.8125 7.515625 \nL 36.8125 0 \nL 27.59375 0 \nQ 17.1875 0 13.234375 3.875 \nQ 9.28125 7.765625 9.28125 18.015625 \nL 9.28125 47.703125 \nL 2.6875 47.703125 \nL 2.6875 54.6875 \nL 9.28125 54.6875 \nL 9.28125 70.21875 \nz\n\" id=\"DejaVuSans-116\"/>\n       </defs>\n       <use xlink:href=\"#DejaVuSans-78\"/>\n       <use x=\"74.804688\" xlink:href=\"#DejaVuSans-117\"/>\n       <use x=\"138.183594\" xlink:href=\"#DejaVuSans-71\"/>\n       <use x=\"215.673828\" xlink:href=\"#DejaVuSans-101\"/>\n       <use x=\"277.197266\" xlink:href=\"#DejaVuSans-116\"/>\n      </g>\n     </g>\n    </g>\n    <g id=\"xtick_6\">\n     <g id=\"line2d_6\">\n      <g>\n       <use style=\"stroke:#000000;stroke-width:0.8;\" x=\"310.022768\" xlink:href=\"#mf64950f8d4\" y=\"228.439219\"/>\n      </g>\n     </g>\n     <g id=\"text_6\">\n      <!-- pip -->\n      <g transform=\"translate(302.285268 243.037656)scale(0.1 -0.1)\">\n       <defs>\n        <path d=\"M 9.421875 54.6875 \nL 18.40625 54.6875 \nL 18.40625 0 \nL 9.421875 0 \nz\nM 9.421875 75.984375 \nL 18.40625 75.984375 \nL 18.40625 64.59375 \nL 9.421875 64.59375 \nz\n\" id=\"DejaVuSans-105\"/>\n       </defs>\n       <use xlink:href=\"#DejaVuSans-112\"/>\n       <use x=\"63.476562\" xlink:href=\"#DejaVuSans-105\"/>\n       <use x=\"91.259766\" xlink:href=\"#DejaVuSans-112\"/>\n      </g>\n     </g>\n    </g>\n    <g id=\"xtick_7\">\n     <g id=\"line2d_7\">\n      <g>\n       <use style=\"stroke:#000000;stroke-width:0.8;\" x=\"357.851339\" xlink:href=\"#mf64950f8d4\" y=\"228.439219\"/>\n      </g>\n     </g>\n     <g id=\"text_7\">\n      <!-- RubyGems -->\n      <g transform=\"translate(330.873996 243.037656)scale(0.1 -0.1)\">\n       <defs>\n        <path d=\"M 44.390625 34.1875 \nQ 47.5625 33.109375 50.5625 29.59375 \nQ 53.5625 26.078125 56.59375 19.921875 \nL 66.609375 0 \nL 56 0 \nL 46.6875 18.703125 \nQ 43.0625 26.03125 39.671875 28.421875 \nQ 36.28125 30.8125 30.421875 30.8125 \nL 19.671875 30.8125 \nL 19.671875 0 \nL 9.8125 0 \nL 9.8125 72.90625 \nL 32.078125 72.90625 \nQ 44.578125 72.90625 50.734375 67.671875 \nQ 56.890625 62.453125 56.890625 51.90625 \nQ 56.890625 45.015625 53.6875 40.46875 \nQ 50.484375 35.9375 44.390625 34.1875 \nz\nM 19.671875 64.796875 \nL 19.671875 38.921875 \nL 32.078125 38.921875 \nQ 39.203125 38.921875 42.84375 42.21875 \nQ 46.484375 45.515625 46.484375 51.90625 \nQ 46.484375 58.296875 42.84375 61.546875 \nQ 39.203125 64.796875 32.078125 64.796875 \nz\n\" id=\"DejaVuSans-82\"/>\n        <path d=\"M 48.6875 27.296875 \nQ 48.6875 37.203125 44.609375 42.84375 \nQ 40.53125 48.484375 33.40625 48.484375 \nQ 26.265625 48.484375 22.1875 42.84375 \nQ 18.109375 37.203125 18.109375 27.296875 \nQ 18.109375 17.390625 22.1875 11.75 \nQ 26.265625 6.109375 33.40625 6.109375 \nQ 40.53125 6.109375 44.609375 11.75 \nQ 48.6875 17.390625 48.6875 27.296875 \nz\nM 18.109375 46.390625 \nQ 20.953125 51.265625 25.265625 53.625 \nQ 29.59375 56 35.59375 56 \nQ 45.5625 56 51.78125 48.09375 \nQ 58.015625 40.1875 58.015625 27.296875 \nQ 58.015625 14.40625 51.78125 6.484375 \nQ 45.5625 -1.421875 35.59375 -1.421875 \nQ 29.59375 -1.421875 25.265625 0.953125 \nQ 20.953125 3.328125 18.109375 8.203125 \nL 18.109375 0 \nL 9.078125 0 \nL 9.078125 75.984375 \nL 18.109375 75.984375 \nz\n\" id=\"DejaVuSans-98\"/>\n        <path d=\"M 32.171875 -5.078125 \nQ 28.375 -14.84375 24.75 -17.8125 \nQ 21.140625 -20.796875 15.09375 -20.796875 \nL 7.90625 -20.796875 \nL 7.90625 -13.28125 \nL 13.1875 -13.28125 \nQ 16.890625 -13.28125 18.9375 -11.515625 \nQ 21 -9.765625 23.484375 -3.21875 \nL 25.09375 0.875 \nL 2.984375 54.6875 \nL 12.5 54.6875 \nL 29.59375 11.921875 \nL 46.6875 54.6875 \nL 56.203125 54.6875 \nz\n\" id=\"DejaVuSans-121\"/>\n       </defs>\n       <use xlink:href=\"#DejaVuSans-82\"/>\n       <use x=\"64.982422\" xlink:href=\"#DejaVuSans-117\"/>\n       <use x=\"128.361328\" xlink:href=\"#DejaVuSans-98\"/>\n       <use x=\"191.837891\" xlink:href=\"#DejaVuSans-121\"/>\n       <use x=\"251.017578\" xlink:href=\"#DejaVuSans-71\"/>\n       <use x=\"328.507812\" xlink:href=\"#DejaVuSans-101\"/>\n       <use x=\"390.03125\" xlink:href=\"#DejaVuSans-109\"/>\n       <use x=\"487.443359\" xlink:href=\"#DejaVuSans-115\"/>\n      </g>\n     </g>\n    </g>\n    <g id=\"text_8\">\n     <!-- Ecosystem -->\n     <g transform=\"translate(187.321875 256.715781)scale(0.1 -0.1)\">\n      <defs>\n       <path d=\"M 9.8125 72.90625 \nL 55.90625 72.90625 \nL 55.90625 64.59375 \nL 19.671875 64.59375 \nL 19.671875 43.015625 \nL 54.390625 43.015625 \nL 54.390625 34.71875 \nL 19.671875 34.71875 \nL 19.671875 8.296875 \nL 56.78125 8.296875 \nL 56.78125 0 \nL 9.8125 0 \nz\n\" id=\"DejaVuSans-69\"/>\n       <path d=\"M 48.78125 52.59375 \nL 48.78125 44.1875 \nQ 44.96875 46.296875 41.140625 47.34375 \nQ 37.3125 48.390625 33.40625 48.390625 \nQ 24.65625 48.390625 19.8125 42.84375 \nQ 14.984375 37.3125 14.984375 27.296875 \nQ 14.984375 17.28125 19.8125 11.734375 \nQ 24.65625 6.203125 33.40625 6.203125 \nQ 37.3125 6.203125 41.140625 7.25 \nQ 44.96875 8.296875 48.78125 10.40625 \nL 48.78125 2.09375 \nQ 45.015625 0.34375 40.984375 -0.53125 \nQ 36.96875 -1.421875 32.421875 -1.421875 \nQ 20.0625 -1.421875 12.78125 6.34375 \nQ 5.515625 14.109375 5.515625 27.296875 \nQ 5.515625 40.671875 12.859375 48.328125 \nQ 20.21875 56 33.015625 56 \nQ 37.15625 56 41.109375 55.140625 \nQ 45.0625 54.296875 48.78125 52.59375 \nz\n\" id=\"DejaVuSans-99\"/>\n      </defs>\n      <use xlink:href=\"#DejaVuSans-69\"/>\n      <use x=\"63.183594\" xlink:href=\"#DejaVuSans-99\"/>\n      <use x=\"118.164062\" xlink:href=\"#DejaVuSans-111\"/>\n      <use x=\"179.345703\" xlink:href=\"#DejaVuSans-115\"/>\n      <use x=\"231.445312\" xlink:href=\"#DejaVuSans-121\"/>\n      <use x=\"290.625\" xlink:href=\"#DejaVuSans-115\"/>\n      <use x=\"342.724609\" xlink:href=\"#DejaVuSans-116\"/>\n      <use x=\"381.933594\" xlink:href=\"#DejaVuSans-101\"/>\n      <use x=\"443.457031\" xlink:href=\"#DejaVuSans-109\"/>\n     </g>\n    </g>\n   </g>\n   <g id=\"matplotlib.axis_2\">\n    <g id=\"ytick_1\">\n     <g id=\"line2d_8\">\n      <defs>\n       <path d=\"M 0 0 \nL -3.5 0 \n\" id=\"m6e6f9e64b6\" style=\"stroke:#000000;stroke-width:0.8;\"/>\n      </defs>\n      <g>\n       <use style=\"stroke:#000000;stroke-width:0.8;\" x=\"46.965625\" xlink:href=\"#m6e6f9e64b6\" y=\"228.439219\"/>\n      </g>\n     </g>\n     <g id=\"text_9\">\n      <!-- 0 -->\n      <g transform=\"translate(33.603125 232.238437)scale(0.1 -0.1)\">\n       <defs>\n        <path d=\"M 31.78125 66.40625 \nQ 24.171875 66.40625 20.328125 58.90625 \nQ 16.5 51.421875 16.5 36.375 \nQ 16.5 21.390625 20.328125 13.890625 \nQ 24.171875 6.390625 31.78125 6.390625 \nQ 39.453125 6.390625 43.28125 13.890625 \nQ 47.125 21.390625 47.125 36.375 \nQ 47.125 51.421875 43.28125 58.90625 \nQ 39.453125 66.40625 31.78125 66.40625 \nz\nM 31.78125 74.21875 \nQ 44.046875 74.21875 50.515625 64.515625 \nQ 56.984375 54.828125 56.984375 36.375 \nQ 56.984375 17.96875 50.515625 8.265625 \nQ 44.046875 -1.421875 31.78125 -1.421875 \nQ 19.53125 -1.421875 13.0625 8.265625 \nQ 6.59375 17.96875 6.59375 36.375 \nQ 6.59375 54.828125 13.0625 64.515625 \nQ 19.53125 74.21875 31.78125 74.21875 \nz\n\" id=\"DejaVuSans-48\"/>\n       </defs>\n       <use xlink:href=\"#DejaVuSans-48\"/>\n      </g>\n     </g>\n    </g>\n    <g id=\"ytick_2\">\n     <g id=\"line2d_9\">\n      <g>\n       <use style=\"stroke:#000000;stroke-width:0.8;\" x=\"46.965625\" xlink:href=\"#m6e6f9e64b6\" y=\"184.951219\"/>\n      </g>\n     </g>\n     <g id=\"text_10\">\n      <!-- 50 -->\n      <g transform=\"translate(27.240625 188.750437)scale(0.1 -0.1)\">\n       <defs>\n        <path d=\"M 10.796875 72.90625 \nL 49.515625 72.90625 \nL 49.515625 64.59375 \nL 19.828125 64.59375 \nL 19.828125 46.734375 \nQ 21.96875 47.46875 24.109375 47.828125 \nQ 26.265625 48.1875 28.421875 48.1875 \nQ 40.625 48.1875 47.75 41.5 \nQ 54.890625 34.8125 54.890625 23.390625 \nQ 54.890625 11.625 47.5625 5.09375 \nQ 40.234375 -1.421875 26.90625 -1.421875 \nQ 22.3125 -1.421875 17.546875 -0.640625 \nQ 12.796875 0.140625 7.71875 1.703125 \nL 7.71875 11.625 \nQ 12.109375 9.234375 16.796875 8.0625 \nQ 21.484375 6.890625 26.703125 6.890625 \nQ 35.15625 6.890625 40.078125 11.328125 \nQ 45.015625 15.765625 45.015625 23.390625 \nQ 45.015625 31 40.078125 35.4375 \nQ 35.15625 39.890625 26.703125 39.890625 \nQ 22.75 39.890625 18.8125 39.015625 \nQ 14.890625 38.140625 10.796875 36.28125 \nz\n\" id=\"DejaVuSans-53\"/>\n       </defs>\n       <use xlink:href=\"#DejaVuSans-53\"/>\n       <use x=\"63.623047\" xlink:href=\"#DejaVuSans-48\"/>\n      </g>\n     </g>\n    </g>\n    <g id=\"ytick_3\">\n     <g id=\"line2d_10\">\n      <g>\n       <use style=\"stroke:#000000;stroke-width:0.8;\" x=\"46.965625\" xlink:href=\"#m6e6f9e64b6\" y=\"141.463219\"/>\n      </g>\n     </g>\n     <g id=\"text_11\">\n      <!-- 100 -->\n      <g transform=\"translate(20.878125 145.262437)scale(0.1 -0.1)\">\n       <defs>\n        <path d=\"M 12.40625 8.296875 \nL 28.515625 8.296875 \nL 28.515625 63.921875 \nL 10.984375 60.40625 \nL 10.984375 69.390625 \nL 28.421875 72.90625 \nL 38.28125 72.90625 \nL 38.28125 8.296875 \nL 54.390625 8.296875 \nL 54.390625 0 \nL 12.40625 0 \nz\n\" id=\"DejaVuSans-49\"/>\n       </defs>\n       <use xlink:href=\"#DejaVuSans-49\"/>\n       <use x=\"63.623047\" xlink:href=\"#DejaVuSans-48\"/>\n       <use x=\"127.246094\" xlink:href=\"#DejaVuSans-48\"/>\n      </g>\n     </g>\n    </g>\n    <g id=\"ytick_4\">\n     <g id=\"line2d_11\">\n      <g>\n       <use style=\"stroke:#000000;stroke-width:0.8;\" x=\"46.965625\" xlink:href=\"#m6e6f9e64b6\" y=\"97.975219\"/>\n      </g>\n     </g>\n     <g id=\"text_12\">\n      <!-- 150 -->\n      <g transform=\"translate(20.878125 101.774437)scale(0.1 -0.1)\">\n       <use xlink:href=\"#DejaVuSans-49\"/>\n       <use x=\"63.623047\" xlink:href=\"#DejaVuSans-53\"/>\n       <use x=\"127.246094\" xlink:href=\"#DejaVuSans-48\"/>\n      </g>\n     </g>\n    </g>\n    <g id=\"ytick_5\">\n     <g id=\"line2d_12\">\n      <g>\n       <use style=\"stroke:#000000;stroke-width:0.8;\" x=\"46.965625\" xlink:href=\"#m6e6f9e64b6\" y=\"54.487219\"/>\n      </g>\n     </g>\n     <g id=\"text_13\">\n      <!-- 200 -->\n      <g transform=\"translate(20.878125 58.286437)scale(0.1 -0.1)\">\n       <defs>\n        <path d=\"M 19.1875 8.296875 \nL 53.609375 8.296875 \nL 53.609375 0 \nL 7.328125 0 \nL 7.328125 8.296875 \nQ 12.9375 14.109375 22.625 23.890625 \nQ 32.328125 33.6875 34.8125 36.53125 \nQ 39.546875 41.84375 41.421875 45.53125 \nQ 43.3125 49.21875 43.3125 52.78125 \nQ 43.3125 58.59375 39.234375 62.25 \nQ 35.15625 65.921875 28.609375 65.921875 \nQ 23.96875 65.921875 18.8125 64.3125 \nQ 13.671875 62.703125 7.8125 59.421875 \nL 7.8125 69.390625 \nQ 13.765625 71.78125 18.9375 73 \nQ 24.125 74.21875 28.421875 74.21875 \nQ 39.75 74.21875 46.484375 68.546875 \nQ 53.21875 62.890625 53.21875 53.421875 \nQ 53.21875 48.921875 51.53125 44.890625 \nQ 49.859375 40.875 45.40625 35.40625 \nQ 44.1875 33.984375 37.640625 27.21875 \nQ 31.109375 20.453125 19.1875 8.296875 \nz\n\" id=\"DejaVuSans-50\"/>\n       </defs>\n       <use xlink:href=\"#DejaVuSans-50\"/>\n       <use x=\"63.623047\" xlink:href=\"#DejaVuSans-48\"/>\n       <use x=\"127.246094\" xlink:href=\"#DejaVuSans-48\"/>\n      </g>\n     </g>\n    </g>\n    <g id=\"ytick_6\">\n     <g id=\"line2d_13\">\n      <g>\n       <use style=\"stroke:#000000;stroke-width:0.8;\" x=\"46.965625\" xlink:href=\"#m6e6f9e64b6\" y=\"10.999219\"/>\n      </g>\n     </g>\n     <g id=\"text_14\">\n      <!-- 250 -->\n      <g transform=\"translate(20.878125 14.798437)scale(0.1 -0.1)\">\n       <use xlink:href=\"#DejaVuSans-50\"/>\n       <use x=\"63.623047\" xlink:href=\"#DejaVuSans-53\"/>\n       <use x=\"127.246094\" xlink:href=\"#DejaVuSans-48\"/>\n      </g>\n     </g>\n    </g>\n    <g id=\"text_15\">\n     <!-- # of commits -->\n     <g transform=\"translate(14.798438 153.409844)rotate(-90)scale(0.1 -0.1)\">\n      <defs>\n       <path d=\"M 51.125 44 \nL 36.921875 44 \nL 32.8125 27.6875 \nL 47.125 27.6875 \nz\nM 43.796875 71.78125 \nL 38.71875 51.515625 \nL 52.984375 51.515625 \nL 58.109375 71.78125 \nL 65.921875 71.78125 \nL 60.890625 51.515625 \nL 76.125 51.515625 \nL 76.125 44 \nL 58.984375 44 \nL 54.984375 27.6875 \nL 70.515625 27.6875 \nL 70.515625 20.21875 \nL 53.078125 20.21875 \nL 48 0 \nL 40.1875 0 \nL 45.21875 20.21875 \nL 30.90625 20.21875 \nL 25.875 0 \nL 18.015625 0 \nL 23.09375 20.21875 \nL 7.71875 20.21875 \nL 7.71875 27.6875 \nL 24.90625 27.6875 \nL 29 44 \nL 13.28125 44 \nL 13.28125 51.515625 \nL 30.90625 51.515625 \nL 35.890625 71.78125 \nz\n\" id=\"DejaVuSans-35\"/>\n       <path id=\"DejaVuSans-32\"/>\n       <path d=\"M 37.109375 75.984375 \nL 37.109375 68.5 \nL 28.515625 68.5 \nQ 23.6875 68.5 21.796875 66.546875 \nQ 19.921875 64.59375 19.921875 59.515625 \nL 19.921875 54.6875 \nL 34.71875 54.6875 \nL 34.71875 47.703125 \nL 19.921875 47.703125 \nL 19.921875 0 \nL 10.890625 0 \nL 10.890625 47.703125 \nL 2.296875 47.703125 \nL 2.296875 54.6875 \nL 10.890625 54.6875 \nL 10.890625 58.5 \nQ 10.890625 67.625 15.140625 71.796875 \nQ 19.390625 75.984375 28.609375 75.984375 \nz\n\" id=\"DejaVuSans-102\"/>\n      </defs>\n      <use xlink:href=\"#DejaVuSans-35\"/>\n      <use x=\"83.789062\" xlink:href=\"#DejaVuSans-32\"/>\n      <use x=\"115.576172\" xlink:href=\"#DejaVuSans-111\"/>\n      <use x=\"176.757812\" xlink:href=\"#DejaVuSans-102\"/>\n      <use x=\"211.962891\" xlink:href=\"#DejaVuSans-32\"/>\n      <use x=\"243.75\" xlink:href=\"#DejaVuSans-99\"/>\n      <use x=\"298.730469\" xlink:href=\"#DejaVuSans-111\"/>\n      <use x=\"359.912109\" xlink:href=\"#DejaVuSans-109\"/>\n      <use x=\"457.324219\" xlink:href=\"#DejaVuSans-109\"/>\n      <use x=\"554.736328\" xlink:href=\"#DejaVuSans-105\"/>\n      <use x=\"582.519531\" xlink:href=\"#DejaVuSans-116\"/>\n      <use x=\"621.728516\" xlink:href=\"#DejaVuSans-115\"/>\n     </g>\n    </g>\n   </g>\n   <g id=\"line2d_14\">\n    <path clip-path=\"url(#pc9a3db64f1)\" d=\"M 70.879911 226.699699 \nL 70.879911 228.439219 \n\" style=\"fill:none;stroke:#3d3d3d;stroke-linecap:square;stroke-width:1.5;\"/>\n   </g>\n   <g id=\"line2d_15\">\n    <path clip-path=\"url(#pc9a3db64f1)\" d=\"M 70.879911 204.085939 \nL 70.879911 171.035059 \n\" style=\"fill:none;stroke:#3d3d3d;stroke-linecap:square;stroke-width:1.5;\"/>\n   </g>\n   <g id=\"line2d_16\">\n    <path clip-path=\"url(#pc9a3db64f1)\" d=\"M 61.314196 228.439219 \nL 80.445625 228.439219 \n\" style=\"fill:none;stroke:#3d3d3d;stroke-linecap:square;stroke-width:1.5;\"/>\n   </g>\n   <g id=\"line2d_17\">\n    <path clip-path=\"url(#pc9a3db64f1)\" d=\"M 61.314196 171.035059 \nL 80.445625 171.035059 \n\" style=\"fill:none;stroke:#3d3d3d;stroke-linecap:square;stroke-width:1.5;\"/>\n   </g>\n   <g id=\"line2d_18\">\n    <defs>\n     <path d=\"M -0 3.535534 \nL 2.12132 0 \nL -0 -3.535534 \nL -2.12132 -0 \nz\n\" id=\"m2697c739c4\" style=\"stroke:#3d3d3d;stroke-linejoin:miter;\"/>\n    </defs>\n    <g clip-path=\"url(#pc9a3db64f1)\">\n     <use style=\"fill:#3d3d3d;stroke:#3d3d3d;stroke-linejoin:miter;\" x=\"70.879911\" xlink:href=\"#m2697c739c4\" y=\"-1\"/>\n     <use style=\"fill:#3d3d3d;stroke:#3d3d3d;stroke-linejoin:miter;\" x=\"70.879911\" xlink:href=\"#m2697c739c4\" y=\"169.295539\"/>\n     <use style=\"fill:#3d3d3d;stroke:#3d3d3d;stroke-linejoin:miter;\" x=\"70.879911\" xlink:href=\"#m2697c739c4\" y=\"24.915379\"/>\n     <use style=\"fill:#3d3d3d;stroke:#3d3d3d;stroke-linejoin:miter;\" x=\"70.879911\" xlink:href=\"#m2697c739c4\" y=\"166.686259\"/>\n     <use style=\"fill:#3d3d3d;stroke:#3d3d3d;stroke-linejoin:miter;\" x=\"70.879911\" xlink:href=\"#m2697c739c4\" y=\"17.087539\"/>\n     <use style=\"fill:#3d3d3d;stroke:#3d3d3d;stroke-linejoin:miter;\" x=\"70.879911\" xlink:href=\"#m2697c739c4\" y=\"86.668339\"/>\n     <use style=\"fill:#3d3d3d;stroke:#3d3d3d;stroke-linejoin:miter;\" x=\"70.879911\" xlink:href=\"#m2697c739c4\" y=\"163.207219\"/>\n     <use style=\"fill:#3d3d3d;stroke:#3d3d3d;stroke-linejoin:miter;\" x=\"70.879911\" xlink:href=\"#m2697c739c4\" y=\"64.054579\"/>\n     <use style=\"fill:#3d3d3d;stroke:#3d3d3d;stroke-linejoin:miter;\" x=\"70.879911\" xlink:href=\"#m2697c739c4\" y=\"164.076979\"/>\n     <use style=\"fill:#3d3d3d;stroke:#3d3d3d;stroke-linejoin:miter;\" x=\"70.879911\" xlink:href=\"#m2697c739c4\" y=\"167.556019\"/>\n     <use style=\"fill:#3d3d3d;stroke:#3d3d3d;stroke-linejoin:miter;\" x=\"70.879911\" xlink:href=\"#m2697c739c4\" y=\"37.961779\"/>\n     <use style=\"fill:#3d3d3d;stroke:#3d3d3d;stroke-linejoin:miter;\" x=\"70.879911\" xlink:href=\"#m2697c739c4\" y=\"-1\"/>\n     <use style=\"fill:#3d3d3d;stroke:#3d3d3d;stroke-linejoin:miter;\" x=\"70.879911\" xlink:href=\"#m2697c739c4\" y=\"-1\"/>\n     <use style=\"fill:#3d3d3d;stroke:#3d3d3d;stroke-linejoin:miter;\" x=\"70.879911\" xlink:href=\"#m2697c739c4\" y=\"94.496179\"/>\n     <use style=\"fill:#3d3d3d;stroke:#3d3d3d;stroke-linejoin:miter;\" x=\"70.879911\" xlink:href=\"#m2697c739c4\" y=\"152.770099\"/>\n     <use style=\"fill:#3d3d3d;stroke:#3d3d3d;stroke-linejoin:miter;\" x=\"70.879911\" xlink:href=\"#m2697c739c4\" y=\"128.416819\"/>\n     <use style=\"fill:#3d3d3d;stroke:#3d3d3d;stroke-linejoin:miter;\" x=\"70.879911\" xlink:href=\"#m2697c739c4\" y=\"160.597939\"/>\n     <use style=\"fill:#3d3d3d;stroke:#3d3d3d;stroke-linejoin:miter;\" x=\"70.879911\" xlink:href=\"#m2697c739c4\" y=\"140.593459\"/>\n     <use style=\"fill:#3d3d3d;stroke:#3d3d3d;stroke-linejoin:miter;\" x=\"70.879911\" xlink:href=\"#m2697c739c4\" y=\"153.639859\"/>\n     <use style=\"fill:#3d3d3d;stroke:#3d3d3d;stroke-linejoin:miter;\" x=\"70.879911\" xlink:href=\"#m2697c739c4\" y=\"101.454259\"/>\n     <use style=\"fill:#3d3d3d;stroke:#3d3d3d;stroke-linejoin:miter;\" x=\"70.879911\" xlink:href=\"#m2697c739c4\" y=\"24.045619\"/>\n     <use style=\"fill:#3d3d3d;stroke:#3d3d3d;stroke-linejoin:miter;\" x=\"70.879911\" xlink:href=\"#m2697c739c4\" y=\"96.235699\"/>\n     <use style=\"fill:#3d3d3d;stroke:#3d3d3d;stroke-linejoin:miter;\" x=\"70.879911\" xlink:href=\"#m2697c739c4\" y=\"-1\"/>\n     <use style=\"fill:#3d3d3d;stroke:#3d3d3d;stroke-linejoin:miter;\" x=\"70.879911\" xlink:href=\"#m2697c739c4\" y=\"-1\"/>\n     <use style=\"fill:#3d3d3d;stroke:#3d3d3d;stroke-linejoin:miter;\" x=\"70.879911\" xlink:href=\"#m2697c739c4\" y=\"158.858419\"/>\n     <use style=\"fill:#3d3d3d;stroke:#3d3d3d;stroke-linejoin:miter;\" x=\"70.879911\" xlink:href=\"#m2697c739c4\" y=\"-1\"/>\n     <use style=\"fill:#3d3d3d;stroke:#3d3d3d;stroke-linejoin:miter;\" x=\"70.879911\" xlink:href=\"#m2697c739c4\" y=\"-1\"/>\n     <use style=\"fill:#3d3d3d;stroke:#3d3d3d;stroke-linejoin:miter;\" x=\"70.879911\" xlink:href=\"#m2697c739c4\" y=\"143.202739\"/>\n     <use style=\"fill:#3d3d3d;stroke:#3d3d3d;stroke-linejoin:miter;\" x=\"70.879911\" xlink:href=\"#m2697c739c4\" y=\"75.361459\"/>\n     <use style=\"fill:#3d3d3d;stroke:#3d3d3d;stroke-linejoin:miter;\" x=\"70.879911\" xlink:href=\"#m2697c739c4\" y=\"169.295539\"/>\n     <use style=\"fill:#3d3d3d;stroke:#3d3d3d;stroke-linejoin:miter;\" x=\"70.879911\" xlink:href=\"#m2697c739c4\" y=\"44.919859\"/>\n     <use style=\"fill:#3d3d3d;stroke:#3d3d3d;stroke-linejoin:miter;\" x=\"70.879911\" xlink:href=\"#m2697c739c4\" y=\"44.050099\"/>\n     <use style=\"fill:#3d3d3d;stroke:#3d3d3d;stroke-linejoin:miter;\" x=\"70.879911\" xlink:href=\"#m2697c739c4\" y=\"97.975219\"/>\n     <use style=\"fill:#3d3d3d;stroke:#3d3d3d;stroke-linejoin:miter;\" x=\"70.879911\" xlink:href=\"#m2697c739c4\" y=\"83.189299\"/>\n     <use style=\"fill:#3d3d3d;stroke:#3d3d3d;stroke-linejoin:miter;\" x=\"70.879911\" xlink:href=\"#m2697c739c4\" y=\"64.054579\"/>\n     <use style=\"fill:#3d3d3d;stroke:#3d3d3d;stroke-linejoin:miter;\" x=\"70.879911\" xlink:href=\"#m2697c739c4\" y=\"40.571059\"/>\n     <use style=\"fill:#3d3d3d;stroke:#3d3d3d;stroke-linejoin:miter;\" x=\"70.879911\" xlink:href=\"#m2697c739c4\" y=\"91.017139\"/>\n     <use style=\"fill:#3d3d3d;stroke:#3d3d3d;stroke-linejoin:miter;\" x=\"70.879911\" xlink:href=\"#m2697c739c4\" y=\"28.394419\"/>\n     <use style=\"fill:#3d3d3d;stroke:#3d3d3d;stroke-linejoin:miter;\" x=\"70.879911\" xlink:href=\"#m2697c739c4\" y=\"90.147379\"/>\n     <use style=\"fill:#3d3d3d;stroke:#3d3d3d;stroke-linejoin:miter;\" x=\"70.879911\" xlink:href=\"#m2697c739c4\" y=\"59.705779\"/>\n     <use style=\"fill:#3d3d3d;stroke:#3d3d3d;stroke-linejoin:miter;\" x=\"70.879911\" xlink:href=\"#m2697c739c4\" y=\"56.226739\"/>\n     <use style=\"fill:#3d3d3d;stroke:#3d3d3d;stroke-linejoin:miter;\" x=\"70.879911\" xlink:href=\"#m2697c739c4\" y=\"84.059059\"/>\n     <use style=\"fill:#3d3d3d;stroke:#3d3d3d;stroke-linejoin:miter;\" x=\"70.879911\" xlink:href=\"#m2697c739c4\" y=\"85.798579\"/>\n     <use style=\"fill:#3d3d3d;stroke:#3d3d3d;stroke-linejoin:miter;\" x=\"70.879911\" xlink:href=\"#m2697c739c4\" y=\"34.482739\"/>\n     <use style=\"fill:#3d3d3d;stroke:#3d3d3d;stroke-linejoin:miter;\" x=\"70.879911\" xlink:href=\"#m2697c739c4\" y=\"86.668339\"/>\n     <use style=\"fill:#3d3d3d;stroke:#3d3d3d;stroke-linejoin:miter;\" x=\"70.879911\" xlink:href=\"#m2697c739c4\" y=\"73.621939\"/>\n     <use style=\"fill:#3d3d3d;stroke:#3d3d3d;stroke-linejoin:miter;\" x=\"70.879911\" xlink:href=\"#m2697c739c4\" y=\"167.556019\"/>\n     <use style=\"fill:#3d3d3d;stroke:#3d3d3d;stroke-linejoin:miter;\" x=\"70.879911\" xlink:href=\"#m2697c739c4\" y=\"111.891379\"/>\n     <use style=\"fill:#3d3d3d;stroke:#3d3d3d;stroke-linejoin:miter;\" x=\"70.879911\" xlink:href=\"#m2697c739c4\" y=\"-1\"/>\n     <use style=\"fill:#3d3d3d;stroke:#3d3d3d;stroke-linejoin:miter;\" x=\"70.879911\" xlink:href=\"#m2697c739c4\" y=\"-1\"/>\n     <use style=\"fill:#3d3d3d;stroke:#3d3d3d;stroke-linejoin:miter;\" x=\"70.879911\" xlink:href=\"#m2697c739c4\" y=\"106.672819\"/>\n     <use style=\"fill:#3d3d3d;stroke:#3d3d3d;stroke-linejoin:miter;\" x=\"70.879911\" xlink:href=\"#m2697c739c4\" y=\"-1\"/>\n     <use style=\"fill:#3d3d3d;stroke:#3d3d3d;stroke-linejoin:miter;\" x=\"70.879911\" xlink:href=\"#m2697c739c4\" y=\"-1\"/>\n     <use style=\"fill:#3d3d3d;stroke:#3d3d3d;stroke-linejoin:miter;\" x=\"70.879911\" xlink:href=\"#m2697c739c4\" y=\"141.463219\"/>\n     <use style=\"fill:#3d3d3d;stroke:#3d3d3d;stroke-linejoin:miter;\" x=\"70.879911\" xlink:href=\"#m2697c739c4\" y=\"71.882419\"/>\n     <use style=\"fill:#3d3d3d;stroke:#3d3d3d;stroke-linejoin:miter;\" x=\"70.879911\" xlink:href=\"#m2697c739c4\" y=\"117.979699\"/>\n     <use style=\"fill:#3d3d3d;stroke:#3d3d3d;stroke-linejoin:miter;\" x=\"70.879911\" xlink:href=\"#m2697c739c4\" y=\"100.584499\"/>\n     <use style=\"fill:#3d3d3d;stroke:#3d3d3d;stroke-linejoin:miter;\" x=\"70.879911\" xlink:href=\"#m2697c739c4\" y=\"-1\"/>\n     <use style=\"fill:#3d3d3d;stroke:#3d3d3d;stroke-linejoin:miter;\" x=\"70.879911\" xlink:href=\"#m2697c739c4\" y=\"-1\"/>\n     <use style=\"fill:#3d3d3d;stroke:#3d3d3d;stroke-linejoin:miter;\" x=\"70.879911\" xlink:href=\"#m2697c739c4\" y=\"115.370419\"/>\n     <use style=\"fill:#3d3d3d;stroke:#3d3d3d;stroke-linejoin:miter;\" x=\"70.879911\" xlink:href=\"#m2697c739c4\" y=\"147.551539\"/>\n     <use style=\"fill:#3d3d3d;stroke:#3d3d3d;stroke-linejoin:miter;\" x=\"70.879911\" xlink:href=\"#m2697c739c4\" y=\"141.463219\"/>\n     <use style=\"fill:#3d3d3d;stroke:#3d3d3d;stroke-linejoin:miter;\" x=\"70.879911\" xlink:href=\"#m2697c739c4\" y=\"163.207219\"/>\n     <use style=\"fill:#3d3d3d;stroke:#3d3d3d;stroke-linejoin:miter;\" x=\"70.879911\" xlink:href=\"#m2697c739c4\" y=\"132.765619\"/>\n     <use style=\"fill:#3d3d3d;stroke:#3d3d3d;stroke-linejoin:miter;\" x=\"70.879911\" xlink:href=\"#m2697c739c4\" y=\"163.207219\"/>\n     <use style=\"fill:#3d3d3d;stroke:#3d3d3d;stroke-linejoin:miter;\" x=\"70.879911\" xlink:href=\"#m2697c739c4\" y=\"158.858419\"/>\n     <use style=\"fill:#3d3d3d;stroke:#3d3d3d;stroke-linejoin:miter;\" x=\"70.879911\" xlink:href=\"#m2697c739c4\" y=\"157.118899\"/>\n     <use style=\"fill:#3d3d3d;stroke:#3d3d3d;stroke-linejoin:miter;\" x=\"70.879911\" xlink:href=\"#m2697c739c4\" y=\"127.547059\"/>\n     <use style=\"fill:#3d3d3d;stroke:#3d3d3d;stroke-linejoin:miter;\" x=\"70.879911\" xlink:href=\"#m2697c739c4\" y=\"114.500659\"/>\n     <use style=\"fill:#3d3d3d;stroke:#3d3d3d;stroke-linejoin:miter;\" x=\"70.879911\" xlink:href=\"#m2697c739c4\" y=\"151.030579\"/>\n     <use style=\"fill:#3d3d3d;stroke:#3d3d3d;stroke-linejoin:miter;\" x=\"70.879911\" xlink:href=\"#m2697c739c4\" y=\"144.942259\"/>\n     <use style=\"fill:#3d3d3d;stroke:#3d3d3d;stroke-linejoin:miter;\" x=\"70.879911\" xlink:href=\"#m2697c739c4\" y=\"137.984179\"/>\n     <use style=\"fill:#3d3d3d;stroke:#3d3d3d;stroke-linejoin:miter;\" x=\"70.879911\" xlink:href=\"#m2697c739c4\" y=\"137.114419\"/>\n     <use style=\"fill:#3d3d3d;stroke:#3d3d3d;stroke-linejoin:miter;\" x=\"70.879911\" xlink:href=\"#m2697c739c4\" y=\"104.933299\"/>\n     <use style=\"fill:#3d3d3d;stroke:#3d3d3d;stroke-linejoin:miter;\" x=\"70.879911\" xlink:href=\"#m2697c739c4\" y=\"108.412339\"/>\n     <use style=\"fill:#3d3d3d;stroke:#3d3d3d;stroke-linejoin:miter;\" x=\"70.879911\" xlink:href=\"#m2697c739c4\" y=\"98.844979\"/>\n     <use style=\"fill:#3d3d3d;stroke:#3d3d3d;stroke-linejoin:miter;\" x=\"70.879911\" xlink:href=\"#m2697c739c4\" y=\"141.463219\"/>\n     <use style=\"fill:#3d3d3d;stroke:#3d3d3d;stroke-linejoin:miter;\" x=\"70.879911\" xlink:href=\"#m2697c739c4\" y=\"164.076979\"/>\n     <use style=\"fill:#3d3d3d;stroke:#3d3d3d;stroke-linejoin:miter;\" x=\"70.879911\" xlink:href=\"#m2697c739c4\" y=\"110.151859\"/>\n     <use style=\"fill:#3d3d3d;stroke:#3d3d3d;stroke-linejoin:miter;\" x=\"70.879911\" xlink:href=\"#m2697c739c4\" y=\"158.858419\"/>\n     <use style=\"fill:#3d3d3d;stroke:#3d3d3d;stroke-linejoin:miter;\" x=\"70.879911\" xlink:href=\"#m2697c739c4\" y=\"108.412339\"/>\n     <use style=\"fill:#3d3d3d;stroke:#3d3d3d;stroke-linejoin:miter;\" x=\"70.879911\" xlink:href=\"#m2697c739c4\" y=\"110.151859\"/>\n     <use style=\"fill:#3d3d3d;stroke:#3d3d3d;stroke-linejoin:miter;\" x=\"70.879911\" xlink:href=\"#m2697c739c4\" y=\"73.621939\"/>\n     <use style=\"fill:#3d3d3d;stroke:#3d3d3d;stroke-linejoin:miter;\" x=\"70.879911\" xlink:href=\"#m2697c739c4\" y=\"140.593459\"/>\n     <use style=\"fill:#3d3d3d;stroke:#3d3d3d;stroke-linejoin:miter;\" x=\"70.879911\" xlink:href=\"#m2697c739c4\" y=\"-1\"/>\n     <use style=\"fill:#3d3d3d;stroke:#3d3d3d;stroke-linejoin:miter;\" x=\"70.879911\" xlink:href=\"#m2697c739c4\" y=\"-1\"/>\n     <use style=\"fill:#3d3d3d;stroke:#3d3d3d;stroke-linejoin:miter;\" x=\"70.879911\" xlink:href=\"#m2697c739c4\" y=\"165.816499\"/>\n     <use style=\"fill:#3d3d3d;stroke:#3d3d3d;stroke-linejoin:miter;\" x=\"70.879911\" xlink:href=\"#m2697c739c4\" y=\"160.597939\"/>\n     <use style=\"fill:#3d3d3d;stroke:#3d3d3d;stroke-linejoin:miter;\" x=\"70.879911\" xlink:href=\"#m2697c739c4\" y=\"-1\"/>\n     <use style=\"fill:#3d3d3d;stroke:#3d3d3d;stroke-linejoin:miter;\" x=\"70.879911\" xlink:href=\"#m2697c739c4\" y=\"-1\"/>\n     <use style=\"fill:#3d3d3d;stroke:#3d3d3d;stroke-linejoin:miter;\" x=\"70.879911\" xlink:href=\"#m2697c739c4\" y=\"167.556019\"/>\n     <use style=\"fill:#3d3d3d;stroke:#3d3d3d;stroke-linejoin:miter;\" x=\"70.879911\" xlink:href=\"#m2697c739c4\" y=\"76.231219\"/>\n     <use style=\"fill:#3d3d3d;stroke:#3d3d3d;stroke-linejoin:miter;\" x=\"70.879911\" xlink:href=\"#m2697c739c4\" y=\"90.147379\"/>\n     <use style=\"fill:#3d3d3d;stroke:#3d3d3d;stroke-linejoin:miter;\" x=\"70.879911\" xlink:href=\"#m2697c739c4\" y=\"-1\"/>\n     <use style=\"fill:#3d3d3d;stroke:#3d3d3d;stroke-linejoin:miter;\" x=\"70.879911\" xlink:href=\"#m2697c739c4\" y=\"-1\"/>\n     <use style=\"fill:#3d3d3d;stroke:#3d3d3d;stroke-linejoin:miter;\" x=\"70.879911\" xlink:href=\"#m2697c739c4\" y=\"118.849459\"/>\n     <use style=\"fill:#3d3d3d;stroke:#3d3d3d;stroke-linejoin:miter;\" x=\"70.879911\" xlink:href=\"#m2697c739c4\" y=\"-1\"/>\n    </g>\n   </g>\n   <g id=\"line2d_19\">\n    <path clip-path=\"url(#pc9a3db64f1)\" d=\"M 118.708482 221.046259 \nL 118.708482 228.439219 \n\" style=\"fill:none;stroke:#3d3d3d;stroke-linecap:square;stroke-width:1.5;\"/>\n   </g>\n   <g id=\"line2d_20\">\n    <path clip-path=\"url(#pc9a3db64f1)\" d=\"M 118.708482 167.556019 \nL 118.708482 88.407859 \n\" style=\"fill:none;stroke:#3d3d3d;stroke-linecap:square;stroke-width:1.5;\"/>\n   </g>\n   <g id=\"line2d_21\">\n    <path clip-path=\"url(#pc9a3db64f1)\" d=\"M 109.142768 228.439219 \nL 128.274196 228.439219 \n\" style=\"fill:none;stroke:#3d3d3d;stroke-linecap:square;stroke-width:1.5;\"/>\n   </g>\n   <g id=\"line2d_22\">\n    <path clip-path=\"url(#pc9a3db64f1)\" d=\"M 109.142768 88.407859 \nL 128.274196 88.407859 \n\" style=\"fill:none;stroke:#3d3d3d;stroke-linecap:square;stroke-width:1.5;\"/>\n   </g>\n   <g id=\"line2d_23\">\n    <g clip-path=\"url(#pc9a3db64f1)\">\n     <use style=\"fill:#3d3d3d;stroke:#3d3d3d;stroke-linejoin:miter;\" x=\"118.708482\" xlink:href=\"#m2697c739c4\" y=\"79.710259\"/>\n     <use style=\"fill:#3d3d3d;stroke:#3d3d3d;stroke-linejoin:miter;\" x=\"118.708482\" xlink:href=\"#m2697c739c4\" y=\"-1\"/>\n     <use style=\"fill:#3d3d3d;stroke:#3d3d3d;stroke-linejoin:miter;\" x=\"118.708482\" xlink:href=\"#m2697c739c4\" y=\"-1\"/>\n     <use style=\"fill:#3d3d3d;stroke:#3d3d3d;stroke-linejoin:miter;\" x=\"118.708482\" xlink:href=\"#m2697c739c4\" y=\"81.449779\"/>\n     <use style=\"fill:#3d3d3d;stroke:#3d3d3d;stroke-linejoin:miter;\" x=\"118.708482\" xlink:href=\"#m2697c739c4\" y=\"-1\"/>\n     <use style=\"fill:#3d3d3d;stroke:#3d3d3d;stroke-linejoin:miter;\" x=\"118.708482\" xlink:href=\"#m2697c739c4\" y=\"-1\"/>\n     <use style=\"fill:#3d3d3d;stroke:#3d3d3d;stroke-linejoin:miter;\" x=\"118.708482\" xlink:href=\"#m2697c739c4\" y=\"13.608499\"/>\n     <use style=\"fill:#3d3d3d;stroke:#3d3d3d;stroke-linejoin:miter;\" x=\"118.708482\" xlink:href=\"#m2697c739c4\" y=\"51.008179\"/>\n     <use style=\"fill:#3d3d3d;stroke:#3d3d3d;stroke-linejoin:miter;\" x=\"118.708482\" xlink:href=\"#m2697c739c4\" y=\"-1\"/>\n     <use style=\"fill:#3d3d3d;stroke:#3d3d3d;stroke-linejoin:miter;\" x=\"118.708482\" xlink:href=\"#m2697c739c4\" y=\"-1\"/>\n     <use style=\"fill:#3d3d3d;stroke:#3d3d3d;stroke-linejoin:miter;\" x=\"118.708482\" xlink:href=\"#m2697c739c4\" y=\"42.310579\"/>\n     <use style=\"fill:#3d3d3d;stroke:#3d3d3d;stroke-linejoin:miter;\" x=\"118.708482\" xlink:href=\"#m2697c739c4\" y=\"-1\"/>\n     <use style=\"fill:#3d3d3d;stroke:#3d3d3d;stroke-linejoin:miter;\" x=\"118.708482\" xlink:href=\"#m2697c739c4\" y=\"-1\"/>\n     <use style=\"fill:#3d3d3d;stroke:#3d3d3d;stroke-linejoin:miter;\" x=\"118.708482\" xlink:href=\"#m2697c739c4\" y=\"66.663859\"/>\n     <use style=\"fill:#3d3d3d;stroke:#3d3d3d;stroke-linejoin:miter;\" x=\"118.708482\" xlink:href=\"#m2697c739c4\" y=\"-1\"/>\n     <use style=\"fill:#3d3d3d;stroke:#3d3d3d;stroke-linejoin:miter;\" x=\"118.708482\" xlink:href=\"#m2697c739c4\" y=\"-1\"/>\n     <use style=\"fill:#3d3d3d;stroke:#3d3d3d;stroke-linejoin:miter;\" x=\"118.708482\" xlink:href=\"#m2697c739c4\" y=\"26.654899\"/>\n     <use style=\"fill:#3d3d3d;stroke:#3d3d3d;stroke-linejoin:miter;\" x=\"118.708482\" xlink:href=\"#m2697c739c4\" y=\"-1\"/>\n     <use style=\"fill:#3d3d3d;stroke:#3d3d3d;stroke-linejoin:miter;\" x=\"118.708482\" xlink:href=\"#m2697c739c4\" y=\"-1\"/>\n     <use style=\"fill:#3d3d3d;stroke:#3d3d3d;stroke-linejoin:miter;\" x=\"118.708482\" xlink:href=\"#m2697c739c4\" y=\"13.608499\"/>\n     <use style=\"fill:#3d3d3d;stroke:#3d3d3d;stroke-linejoin:miter;\" x=\"118.708482\" xlink:href=\"#m2697c739c4\" y=\"51.008179\"/>\n     <use style=\"fill:#3d3d3d;stroke:#3d3d3d;stroke-linejoin:miter;\" x=\"118.708482\" xlink:href=\"#m2697c739c4\" y=\"-1\"/>\n     <use style=\"fill:#3d3d3d;stroke:#3d3d3d;stroke-linejoin:miter;\" x=\"118.708482\" xlink:href=\"#m2697c739c4\" y=\"-1\"/>\n     <use style=\"fill:#3d3d3d;stroke:#3d3d3d;stroke-linejoin:miter;\" x=\"118.708482\" xlink:href=\"#m2697c739c4\" y=\"42.310579\"/>\n     <use style=\"fill:#3d3d3d;stroke:#3d3d3d;stroke-linejoin:miter;\" x=\"118.708482\" xlink:href=\"#m2697c739c4\" y=\"-1\"/>\n    </g>\n   </g>\n   <g id=\"line2d_24\">\n    <path clip-path=\"url(#pc9a3db64f1)\" d=\"M 166.537054 218.871859 \nL 166.537054 228.439219 \n\" style=\"fill:none;stroke:#3d3d3d;stroke-linecap:square;stroke-width:1.5;\"/>\n   </g>\n   <g id=\"line2d_25\">\n    <path clip-path=\"url(#pc9a3db64f1)\" d=\"M 166.537054 143.202739 \nL 166.537054 32.743219 \n\" style=\"fill:none;stroke:#3d3d3d;stroke-linecap:square;stroke-width:1.5;\"/>\n   </g>\n   <g id=\"line2d_26\">\n    <path clip-path=\"url(#pc9a3db64f1)\" d=\"M 156.971339 228.439219 \nL 176.102768 228.439219 \n\" style=\"fill:none;stroke:#3d3d3d;stroke-linecap:square;stroke-width:1.5;\"/>\n   </g>\n   <g id=\"line2d_27\">\n    <path clip-path=\"url(#pc9a3db64f1)\" d=\"M 156.971339 32.743219 \nL 176.102768 32.743219 \n\" style=\"fill:none;stroke:#3d3d3d;stroke-linecap:square;stroke-width:1.5;\"/>\n   </g>\n   <g id=\"line2d_28\">\n    <g clip-path=\"url(#pc9a3db64f1)\">\n     <use style=\"fill:#3d3d3d;stroke:#3d3d3d;stroke-linejoin:miter;\" x=\"166.537054\" xlink:href=\"#m2697c739c4\" y=\"-1\"/>\n     <use style=\"fill:#3d3d3d;stroke:#3d3d3d;stroke-linejoin:miter;\" x=\"166.537054\" xlink:href=\"#m2697c739c4\" y=\"10.129459\"/>\n     <use style=\"fill:#3d3d3d;stroke:#3d3d3d;stroke-linejoin:miter;\" x=\"166.537054\" xlink:href=\"#m2697c739c4\" y=\"-1\"/>\n     <use style=\"fill:#3d3d3d;stroke:#3d3d3d;stroke-linejoin:miter;\" x=\"166.537054\" xlink:href=\"#m2697c739c4\" y=\"-1\"/>\n     <use style=\"fill:#3d3d3d;stroke:#3d3d3d;stroke-linejoin:miter;\" x=\"166.537054\" xlink:href=\"#m2697c739c4\" y=\"27.524659\"/>\n     <use style=\"fill:#3d3d3d;stroke:#3d3d3d;stroke-linejoin:miter;\" x=\"166.537054\" xlink:href=\"#m2697c739c4\" y=\"-1\"/>\n     <use style=\"fill:#3d3d3d;stroke:#3d3d3d;stroke-linejoin:miter;\" x=\"166.537054\" xlink:href=\"#m2697c739c4\" y=\"-1\"/>\n     <use style=\"fill:#3d3d3d;stroke:#3d3d3d;stroke-linejoin:miter;\" x=\"166.537054\" xlink:href=\"#m2697c739c4\" y=\"27.524659\"/>\n     <use style=\"fill:#3d3d3d;stroke:#3d3d3d;stroke-linejoin:miter;\" x=\"166.537054\" xlink:href=\"#m2697c739c4\" y=\"-1\"/>\n     <use style=\"fill:#3d3d3d;stroke:#3d3d3d;stroke-linejoin:miter;\" x=\"166.537054\" xlink:href=\"#m2697c739c4\" y=\"-1\"/>\n     <use style=\"fill:#3d3d3d;stroke:#3d3d3d;stroke-linejoin:miter;\" x=\"166.537054\" xlink:href=\"#m2697c739c4\" y=\"27.524659\"/>\n     <use style=\"fill:#3d3d3d;stroke:#3d3d3d;stroke-linejoin:miter;\" x=\"166.537054\" xlink:href=\"#m2697c739c4\" y=\"-1\"/>\n     <use style=\"fill:#3d3d3d;stroke:#3d3d3d;stroke-linejoin:miter;\" x=\"166.537054\" xlink:href=\"#m2697c739c4\" y=\"-1\"/>\n     <use style=\"fill:#3d3d3d;stroke:#3d3d3d;stroke-linejoin:miter;\" x=\"166.537054\" xlink:href=\"#m2697c739c4\" y=\"10.129459\"/>\n     <use style=\"fill:#3d3d3d;stroke:#3d3d3d;stroke-linejoin:miter;\" x=\"166.537054\" xlink:href=\"#m2697c739c4\" y=\"-1\"/>\n     <use style=\"fill:#3d3d3d;stroke:#3d3d3d;stroke-linejoin:miter;\" x=\"166.537054\" xlink:href=\"#m2697c739c4\" y=\"-1\"/>\n     <use style=\"fill:#3d3d3d;stroke:#3d3d3d;stroke-linejoin:miter;\" x=\"166.537054\" xlink:href=\"#m2697c739c4\" y=\"10.129459\"/>\n     <use style=\"fill:#3d3d3d;stroke:#3d3d3d;stroke-linejoin:miter;\" x=\"166.537054\" xlink:href=\"#m2697c739c4\" y=\"10.129459\"/>\n     <use style=\"fill:#3d3d3d;stroke:#3d3d3d;stroke-linejoin:miter;\" x=\"166.537054\" xlink:href=\"#m2697c739c4\" y=\"-1\"/>\n     <use style=\"fill:#3d3d3d;stroke:#3d3d3d;stroke-linejoin:miter;\" x=\"166.537054\" xlink:href=\"#m2697c739c4\" y=\"-1\"/>\n     <use style=\"fill:#3d3d3d;stroke:#3d3d3d;stroke-linejoin:miter;\" x=\"166.537054\" xlink:href=\"#m2697c739c4\" y=\"4.910899\"/>\n     <use style=\"fill:#3d3d3d;stroke:#3d3d3d;stroke-linejoin:miter;\" x=\"166.537054\" xlink:href=\"#m2697c739c4\" y=\"4.910899\"/>\n     <use style=\"fill:#3d3d3d;stroke:#3d3d3d;stroke-linejoin:miter;\" x=\"166.537054\" xlink:href=\"#m2697c739c4\" y=\"-1\"/>\n     <use style=\"fill:#3d3d3d;stroke:#3d3d3d;stroke-linejoin:miter;\" x=\"166.537054\" xlink:href=\"#m2697c739c4\" y=\"-1\"/>\n     <use style=\"fill:#3d3d3d;stroke:#3d3d3d;stroke-linejoin:miter;\" x=\"166.537054\" xlink:href=\"#m2697c739c4\" y=\"28.394419\"/>\n     <use style=\"fill:#3d3d3d;stroke:#3d3d3d;stroke-linejoin:miter;\" x=\"166.537054\" xlink:href=\"#m2697c739c4\" y=\"-1\"/>\n     <use style=\"fill:#3d3d3d;stroke:#3d3d3d;stroke-linejoin:miter;\" x=\"166.537054\" xlink:href=\"#m2697c739c4\" y=\"-1\"/>\n     <use style=\"fill:#3d3d3d;stroke:#3d3d3d;stroke-linejoin:miter;\" x=\"166.537054\" xlink:href=\"#m2697c739c4\" y=\"17.087539\"/>\n     <use style=\"fill:#3d3d3d;stroke:#3d3d3d;stroke-linejoin:miter;\" x=\"166.537054\" xlink:href=\"#m2697c739c4\" y=\"23.175859\"/>\n     <use style=\"fill:#3d3d3d;stroke:#3d3d3d;stroke-linejoin:miter;\" x=\"166.537054\" xlink:href=\"#m2697c739c4\" y=\"-1\"/>\n     <use style=\"fill:#3d3d3d;stroke:#3d3d3d;stroke-linejoin:miter;\" x=\"166.537054\" xlink:href=\"#m2697c739c4\" y=\"-1\"/>\n     <use style=\"fill:#3d3d3d;stroke:#3d3d3d;stroke-linejoin:miter;\" x=\"166.537054\" xlink:href=\"#m2697c739c4\" y=\"24.915379\"/>\n     <use style=\"fill:#3d3d3d;stroke:#3d3d3d;stroke-linejoin:miter;\" x=\"166.537054\" xlink:href=\"#m2697c739c4\" y=\"-1\"/>\n     <use style=\"fill:#3d3d3d;stroke:#3d3d3d;stroke-linejoin:miter;\" x=\"166.537054\" xlink:href=\"#m2697c739c4\" y=\"-1\"/>\n     <use style=\"fill:#3d3d3d;stroke:#3d3d3d;stroke-linejoin:miter;\" x=\"166.537054\" xlink:href=\"#m2697c739c4\" y=\"24.915379\"/>\n     <use style=\"fill:#3d3d3d;stroke:#3d3d3d;stroke-linejoin:miter;\" x=\"166.537054\" xlink:href=\"#m2697c739c4\" y=\"24.915379\"/>\n     <use style=\"fill:#3d3d3d;stroke:#3d3d3d;stroke-linejoin:miter;\" x=\"166.537054\" xlink:href=\"#m2697c739c4\" y=\"-1\"/>\n     <use style=\"fill:#3d3d3d;stroke:#3d3d3d;stroke-linejoin:miter;\" x=\"166.537054\" xlink:href=\"#m2697c739c4\" y=\"-1\"/>\n     <use style=\"fill:#3d3d3d;stroke:#3d3d3d;stroke-linejoin:miter;\" x=\"166.537054\" xlink:href=\"#m2697c739c4\" y=\"15.348019\"/>\n     <use style=\"fill:#3d3d3d;stroke:#3d3d3d;stroke-linejoin:miter;\" x=\"166.537054\" xlink:href=\"#m2697c739c4\" y=\"24.045619\"/>\n     <use style=\"fill:#3d3d3d;stroke:#3d3d3d;stroke-linejoin:miter;\" x=\"166.537054\" xlink:href=\"#m2697c739c4\" y=\"-1\"/>\n     <use style=\"fill:#3d3d3d;stroke:#3d3d3d;stroke-linejoin:miter;\" x=\"166.537054\" xlink:href=\"#m2697c739c4\" y=\"-1\"/>\n     <use style=\"fill:#3d3d3d;stroke:#3d3d3d;stroke-linejoin:miter;\" x=\"166.537054\" xlink:href=\"#m2697c739c4\" y=\"17.087539\"/>\n     <use style=\"fill:#3d3d3d;stroke:#3d3d3d;stroke-linejoin:miter;\" x=\"166.537054\" xlink:href=\"#m2697c739c4\" y=\"-1\"/>\n     <use style=\"fill:#3d3d3d;stroke:#3d3d3d;stroke-linejoin:miter;\" x=\"166.537054\" xlink:href=\"#m2697c739c4\" y=\"-1\"/>\n     <use style=\"fill:#3d3d3d;stroke:#3d3d3d;stroke-linejoin:miter;\" x=\"166.537054\" xlink:href=\"#m2697c739c4\" y=\"24.045619\"/>\n     <use style=\"fill:#3d3d3d;stroke:#3d3d3d;stroke-linejoin:miter;\" x=\"166.537054\" xlink:href=\"#m2697c739c4\" y=\"-1\"/>\n    </g>\n   </g>\n   <g id=\"line2d_29\">\n    <path clip-path=\"url(#pc9a3db64f1)\" d=\"M 214.365625 225.829939 \nL 214.365625 227.569459 \n\" style=\"fill:none;stroke:#3d3d3d;stroke-linecap:square;stroke-width:1.5;\"/>\n   </g>\n   <g id=\"line2d_30\">\n    <path clip-path=\"url(#pc9a3db64f1)\" d=\"M 214.365625 215.392819 \nL 214.365625 199.737139 \n\" style=\"fill:none;stroke:#3d3d3d;stroke-linecap:square;stroke-width:1.5;\"/>\n   </g>\n   <g id=\"line2d_31\">\n    <path clip-path=\"url(#pc9a3db64f1)\" d=\"M 204.799911 227.569459 \nL 223.931339 227.569459 \n\" style=\"fill:none;stroke:#3d3d3d;stroke-linecap:square;stroke-width:1.5;\"/>\n   </g>\n   <g id=\"line2d_32\">\n    <path clip-path=\"url(#pc9a3db64f1)\" d=\"M 204.799911 199.737139 \nL 223.931339 199.737139 \n\" style=\"fill:none;stroke:#3d3d3d;stroke-linecap:square;stroke-width:1.5;\"/>\n   </g>\n   <g id=\"line2d_33\">\n    <g clip-path=\"url(#pc9a3db64f1)\">\n     <use style=\"fill:#3d3d3d;stroke:#3d3d3d;stroke-linejoin:miter;\" x=\"214.365625\" xlink:href=\"#m2697c739c4\" y=\"188.430259\"/>\n     <use style=\"fill:#3d3d3d;stroke:#3d3d3d;stroke-linejoin:miter;\" x=\"214.365625\" xlink:href=\"#m2697c739c4\" y=\"-1\"/>\n     <use style=\"fill:#3d3d3d;stroke:#3d3d3d;stroke-linejoin:miter;\" x=\"214.365625\" xlink:href=\"#m2697c739c4\" y=\"-1\"/>\n     <use style=\"fill:#3d3d3d;stroke:#3d3d3d;stroke-linejoin:miter;\" x=\"214.365625\" xlink:href=\"#m2697c739c4\" y=\"77.100979\"/>\n     <use style=\"fill:#3d3d3d;stroke:#3d3d3d;stroke-linejoin:miter;\" x=\"214.365625\" xlink:href=\"#m2697c739c4\" y=\"137.984179\"/>\n     <use style=\"fill:#3d3d3d;stroke:#3d3d3d;stroke-linejoin:miter;\" x=\"214.365625\" xlink:href=\"#m2697c739c4\" y=\"172.774579\"/>\n     <use style=\"fill:#3d3d3d;stroke:#3d3d3d;stroke-linejoin:miter;\" x=\"214.365625\" xlink:href=\"#m2697c739c4\" y=\"175.383859\"/>\n     <use style=\"fill:#3d3d3d;stroke:#3d3d3d;stroke-linejoin:miter;\" x=\"214.365625\" xlink:href=\"#m2697c739c4\" y=\"167.556019\"/>\n     <use style=\"fill:#3d3d3d;stroke:#3d3d3d;stroke-linejoin:miter;\" x=\"214.365625\" xlink:href=\"#m2697c739c4\" y=\"181.472179\"/>\n     <use style=\"fill:#3d3d3d;stroke:#3d3d3d;stroke-linejoin:miter;\" x=\"214.365625\" xlink:href=\"#m2697c739c4\" y=\"197.127859\"/>\n     <use style=\"fill:#3d3d3d;stroke:#3d3d3d;stroke-linejoin:miter;\" x=\"214.365625\" xlink:href=\"#m2697c739c4\" y=\"83.189299\"/>\n     <use style=\"fill:#3d3d3d;stroke:#3d3d3d;stroke-linejoin:miter;\" x=\"214.365625\" xlink:href=\"#m2697c739c4\" y=\"128.416819\"/>\n     <use style=\"fill:#3d3d3d;stroke:#3d3d3d;stroke-linejoin:miter;\" x=\"214.365625\" xlink:href=\"#m2697c739c4\" y=\"184.951219\"/>\n     <use style=\"fill:#3d3d3d;stroke:#3d3d3d;stroke-linejoin:miter;\" x=\"214.365625\" xlink:href=\"#m2697c739c4\" y=\"187.560499\"/>\n     <use style=\"fill:#3d3d3d;stroke:#3d3d3d;stroke-linejoin:miter;\" x=\"214.365625\" xlink:href=\"#m2697c739c4\" y=\"131.895859\"/>\n     <use style=\"fill:#3d3d3d;stroke:#3d3d3d;stroke-linejoin:miter;\" x=\"214.365625\" xlink:href=\"#m2697c739c4\" y=\"144.942259\"/>\n     <use style=\"fill:#3d3d3d;stroke:#3d3d3d;stroke-linejoin:miter;\" x=\"214.365625\" xlink:href=\"#m2697c739c4\" y=\"54.487219\"/>\n     <use style=\"fill:#3d3d3d;stroke:#3d3d3d;stroke-linejoin:miter;\" x=\"214.365625\" xlink:href=\"#m2697c739c4\" y=\"149.291059\"/>\n     <use style=\"fill:#3d3d3d;stroke:#3d3d3d;stroke-linejoin:miter;\" x=\"214.365625\" xlink:href=\"#m2697c739c4\" y=\"64.054579\"/>\n     <use style=\"fill:#3d3d3d;stroke:#3d3d3d;stroke-linejoin:miter;\" x=\"214.365625\" xlink:href=\"#m2697c739c4\" y=\"163.207219\"/>\n     <use style=\"fill:#3d3d3d;stroke:#3d3d3d;stroke-linejoin:miter;\" x=\"214.365625\" xlink:href=\"#m2697c739c4\" y=\"161.467699\"/>\n     <use style=\"fill:#3d3d3d;stroke:#3d3d3d;stroke-linejoin:miter;\" x=\"214.365625\" xlink:href=\"#m2697c739c4\" y=\"156.249139\"/>\n     <use style=\"fill:#3d3d3d;stroke:#3d3d3d;stroke-linejoin:miter;\" x=\"214.365625\" xlink:href=\"#m2697c739c4\" y=\"174.514099\"/>\n     <use style=\"fill:#3d3d3d;stroke:#3d3d3d;stroke-linejoin:miter;\" x=\"214.365625\" xlink:href=\"#m2697c739c4\" y=\"-1\"/>\n     <use style=\"fill:#3d3d3d;stroke:#3d3d3d;stroke-linejoin:miter;\" x=\"214.365625\" xlink:href=\"#m2697c739c4\" y=\"-1\"/>\n     <use style=\"fill:#3d3d3d;stroke:#3d3d3d;stroke-linejoin:miter;\" x=\"214.365625\" xlink:href=\"#m2697c739c4\" y=\"150.160819\"/>\n     <use style=\"fill:#3d3d3d;stroke:#3d3d3d;stroke-linejoin:miter;\" x=\"214.365625\" xlink:href=\"#m2697c739c4\" y=\"191.039539\"/>\n     <use style=\"fill:#3d3d3d;stroke:#3d3d3d;stroke-linejoin:miter;\" x=\"214.365625\" xlink:href=\"#m2697c739c4\" y=\"173.644339\"/>\n     <use style=\"fill:#3d3d3d;stroke:#3d3d3d;stroke-linejoin:miter;\" x=\"214.365625\" xlink:href=\"#m2697c739c4\" y=\"182.341939\"/>\n     <use style=\"fill:#3d3d3d;stroke:#3d3d3d;stroke-linejoin:miter;\" x=\"214.365625\" xlink:href=\"#m2697c739c4\" y=\"196.258099\"/>\n     <use style=\"fill:#3d3d3d;stroke:#3d3d3d;stroke-linejoin:miter;\" x=\"214.365625\" xlink:href=\"#m2697c739c4\" y=\"164.076979\"/>\n     <use style=\"fill:#3d3d3d;stroke:#3d3d3d;stroke-linejoin:miter;\" x=\"214.365625\" xlink:href=\"#m2697c739c4\" y=\"-1\"/>\n     <use style=\"fill:#3d3d3d;stroke:#3d3d3d;stroke-linejoin:miter;\" x=\"214.365625\" xlink:href=\"#m2697c739c4\" y=\"-1\"/>\n     <use style=\"fill:#3d3d3d;stroke:#3d3d3d;stroke-linejoin:miter;\" x=\"214.365625\" xlink:href=\"#m2697c739c4\" y=\"101.454259\"/>\n     <use style=\"fill:#3d3d3d;stroke:#3d3d3d;stroke-linejoin:miter;\" x=\"214.365625\" xlink:href=\"#m2697c739c4\" y=\"188.430259\"/>\n     <use style=\"fill:#3d3d3d;stroke:#3d3d3d;stroke-linejoin:miter;\" x=\"214.365625\" xlink:href=\"#m2697c739c4\" y=\"-1\"/>\n     <use style=\"fill:#3d3d3d;stroke:#3d3d3d;stroke-linejoin:miter;\" x=\"214.365625\" xlink:href=\"#m2697c739c4\" y=\"-1\"/>\n     <use style=\"fill:#3d3d3d;stroke:#3d3d3d;stroke-linejoin:miter;\" x=\"214.365625\" xlink:href=\"#m2697c739c4\" y=\"5.780659\"/>\n     <use style=\"fill:#3d3d3d;stroke:#3d3d3d;stroke-linejoin:miter;\" x=\"214.365625\" xlink:href=\"#m2697c739c4\" y=\"192.779059\"/>\n     <use style=\"fill:#3d3d3d;stroke:#3d3d3d;stroke-linejoin:miter;\" x=\"214.365625\" xlink:href=\"#m2697c739c4\" y=\"129.286579\"/>\n     <use style=\"fill:#3d3d3d;stroke:#3d3d3d;stroke-linejoin:miter;\" x=\"214.365625\" xlink:href=\"#m2697c739c4\" y=\"141.463219\"/>\n     <use style=\"fill:#3d3d3d;stroke:#3d3d3d;stroke-linejoin:miter;\" x=\"214.365625\" xlink:href=\"#m2697c739c4\" y=\"-1\"/>\n     <use style=\"fill:#3d3d3d;stroke:#3d3d3d;stroke-linejoin:miter;\" x=\"214.365625\" xlink:href=\"#m2697c739c4\" y=\"-1\"/>\n     <use style=\"fill:#3d3d3d;stroke:#3d3d3d;stroke-linejoin:miter;\" x=\"214.365625\" xlink:href=\"#m2697c739c4\" y=\"177.993139\"/>\n     <use style=\"fill:#3d3d3d;stroke:#3d3d3d;stroke-linejoin:miter;\" x=\"214.365625\" xlink:href=\"#m2697c739c4\" y=\"-1\"/>\n     <use style=\"fill:#3d3d3d;stroke:#3d3d3d;stroke-linejoin:miter;\" x=\"214.365625\" xlink:href=\"#m2697c739c4\" y=\"-1\"/>\n     <use style=\"fill:#3d3d3d;stroke:#3d3d3d;stroke-linejoin:miter;\" x=\"214.365625\" xlink:href=\"#m2697c739c4\" y=\"163.207219\"/>\n     <use style=\"fill:#3d3d3d;stroke:#3d3d3d;stroke-linejoin:miter;\" x=\"214.365625\" xlink:href=\"#m2697c739c4\" y=\"177.123379\"/>\n     <use style=\"fill:#3d3d3d;stroke:#3d3d3d;stroke-linejoin:miter;\" x=\"214.365625\" xlink:href=\"#m2697c739c4\" y=\"122.328499\"/>\n     <use style=\"fill:#3d3d3d;stroke:#3d3d3d;stroke-linejoin:miter;\" x=\"214.365625\" xlink:href=\"#m2697c739c4\" y=\"159.728179\"/>\n     <use style=\"fill:#3d3d3d;stroke:#3d3d3d;stroke-linejoin:miter;\" x=\"214.365625\" xlink:href=\"#m2697c739c4\" y=\"156.249139\"/>\n     <use style=\"fill:#3d3d3d;stroke:#3d3d3d;stroke-linejoin:miter;\" x=\"214.365625\" xlink:href=\"#m2697c739c4\" y=\"-1\"/>\n     <use style=\"fill:#3d3d3d;stroke:#3d3d3d;stroke-linejoin:miter;\" x=\"214.365625\" xlink:href=\"#m2697c739c4\" y=\"-1\"/>\n     <use style=\"fill:#3d3d3d;stroke:#3d3d3d;stroke-linejoin:miter;\" x=\"214.365625\" xlink:href=\"#m2697c739c4\" y=\"39.701299\"/>\n     <use style=\"fill:#3d3d3d;stroke:#3d3d3d;stroke-linejoin:miter;\" x=\"214.365625\" xlink:href=\"#m2697c739c4\" y=\"168.425779\"/>\n     <use style=\"fill:#3d3d3d;stroke:#3d3d3d;stroke-linejoin:miter;\" x=\"214.365625\" xlink:href=\"#m2697c739c4\" y=\"-1\"/>\n     <use style=\"fill:#3d3d3d;stroke:#3d3d3d;stroke-linejoin:miter;\" x=\"214.365625\" xlink:href=\"#m2697c739c4\" y=\"-1\"/>\n     <use style=\"fill:#3d3d3d;stroke:#3d3d3d;stroke-linejoin:miter;\" x=\"214.365625\" xlink:href=\"#m2697c739c4\" y=\"191.039539\"/>\n     <use style=\"fill:#3d3d3d;stroke:#3d3d3d;stroke-linejoin:miter;\" x=\"214.365625\" xlink:href=\"#m2697c739c4\" y=\"195.388339\"/>\n     <use style=\"fill:#3d3d3d;stroke:#3d3d3d;stroke-linejoin:miter;\" x=\"214.365625\" xlink:href=\"#m2697c739c4\" y=\"-1\"/>\n     <use style=\"fill:#3d3d3d;stroke:#3d3d3d;stroke-linejoin:miter;\" x=\"214.365625\" xlink:href=\"#m2697c739c4\" y=\"-1\"/>\n     <use style=\"fill:#3d3d3d;stroke:#3d3d3d;stroke-linejoin:miter;\" x=\"214.365625\" xlink:href=\"#m2697c739c4\" y=\"173.644339\"/>\n     <use style=\"fill:#3d3d3d;stroke:#3d3d3d;stroke-linejoin:miter;\" x=\"214.365625\" xlink:href=\"#m2697c739c4\" y=\"134.505139\"/>\n     <use style=\"fill:#3d3d3d;stroke:#3d3d3d;stroke-linejoin:miter;\" x=\"214.365625\" xlink:href=\"#m2697c739c4\" y=\"177.123379\"/>\n     <use style=\"fill:#3d3d3d;stroke:#3d3d3d;stroke-linejoin:miter;\" x=\"214.365625\" xlink:href=\"#m2697c739c4\" y=\"191.039539\"/>\n     <use style=\"fill:#3d3d3d;stroke:#3d3d3d;stroke-linejoin:miter;\" x=\"214.365625\" xlink:href=\"#m2697c739c4\" y=\"192.779059\"/>\n     <use style=\"fill:#3d3d3d;stroke:#3d3d3d;stroke-linejoin:miter;\" x=\"214.365625\" xlink:href=\"#m2697c739c4\" y=\"185.820979\"/>\n     <use style=\"fill:#3d3d3d;stroke:#3d3d3d;stroke-linejoin:miter;\" x=\"214.365625\" xlink:href=\"#m2697c739c4\" y=\"184.081459\"/>\n     <use style=\"fill:#3d3d3d;stroke:#3d3d3d;stroke-linejoin:miter;\" x=\"214.365625\" xlink:href=\"#m2697c739c4\" y=\"102.324019\"/>\n     <use style=\"fill:#3d3d3d;stroke:#3d3d3d;stroke-linejoin:miter;\" x=\"214.365625\" xlink:href=\"#m2697c739c4\" y=\"182.341939\"/>\n     <use style=\"fill:#3d3d3d;stroke:#3d3d3d;stroke-linejoin:miter;\" x=\"214.365625\" xlink:href=\"#m2697c739c4\" y=\"185.820979\"/>\n     <use style=\"fill:#3d3d3d;stroke:#3d3d3d;stroke-linejoin:miter;\" x=\"214.365625\" xlink:href=\"#m2697c739c4\" y=\"181.472179\"/>\n     <use style=\"fill:#3d3d3d;stroke:#3d3d3d;stroke-linejoin:miter;\" x=\"214.365625\" xlink:href=\"#m2697c739c4\" y=\"-1\"/>\n     <use style=\"fill:#3d3d3d;stroke:#3d3d3d;stroke-linejoin:miter;\" x=\"214.365625\" xlink:href=\"#m2697c739c4\" y=\"-1\"/>\n     <use style=\"fill:#3d3d3d;stroke:#3d3d3d;stroke-linejoin:miter;\" x=\"214.365625\" xlink:href=\"#m2697c739c4\" y=\"180.602419\"/>\n     <use style=\"fill:#3d3d3d;stroke:#3d3d3d;stroke-linejoin:miter;\" x=\"214.365625\" xlink:href=\"#m2697c739c4\" y=\"181.472179\"/>\n     <use style=\"fill:#3d3d3d;stroke:#3d3d3d;stroke-linejoin:miter;\" x=\"214.365625\" xlink:href=\"#m2697c739c4\" y=\"197.997619\"/>\n     <use style=\"fill:#3d3d3d;stroke:#3d3d3d;stroke-linejoin:miter;\" x=\"214.365625\" xlink:href=\"#m2697c739c4\" y=\"152.770099\"/>\n     <use style=\"fill:#3d3d3d;stroke:#3d3d3d;stroke-linejoin:miter;\" x=\"214.365625\" xlink:href=\"#m2697c739c4\" y=\"-1\"/>\n     <use style=\"fill:#3d3d3d;stroke:#3d3d3d;stroke-linejoin:miter;\" x=\"214.365625\" xlink:href=\"#m2697c739c4\" y=\"-1\"/>\n     <use style=\"fill:#3d3d3d;stroke:#3d3d3d;stroke-linejoin:miter;\" x=\"214.365625\" xlink:href=\"#m2697c739c4\" y=\"197.127859\"/>\n     <use style=\"fill:#3d3d3d;stroke:#3d3d3d;stroke-linejoin:miter;\" x=\"214.365625\" xlink:href=\"#m2697c739c4\" y=\"196.258099\"/>\n     <use style=\"fill:#3d3d3d;stroke:#3d3d3d;stroke-linejoin:miter;\" x=\"214.365625\" xlink:href=\"#m2697c739c4\" y=\"164.076979\"/>\n     <use style=\"fill:#3d3d3d;stroke:#3d3d3d;stroke-linejoin:miter;\" x=\"214.365625\" xlink:href=\"#m2697c739c4\" y=\"174.514099\"/>\n     <use style=\"fill:#3d3d3d;stroke:#3d3d3d;stroke-linejoin:miter;\" x=\"214.365625\" xlink:href=\"#m2697c739c4\" y=\"176.253619\"/>\n     <use style=\"fill:#3d3d3d;stroke:#3d3d3d;stroke-linejoin:miter;\" x=\"214.365625\" xlink:href=\"#m2697c739c4\" y=\"188.430259\"/>\n     <use style=\"fill:#3d3d3d;stroke:#3d3d3d;stroke-linejoin:miter;\" x=\"214.365625\" xlink:href=\"#m2697c739c4\" y=\"188.430259\"/>\n     <use style=\"fill:#3d3d3d;stroke:#3d3d3d;stroke-linejoin:miter;\" x=\"214.365625\" xlink:href=\"#m2697c739c4\" y=\"198.867379\"/>\n     <use style=\"fill:#3d3d3d;stroke:#3d3d3d;stroke-linejoin:miter;\" x=\"214.365625\" xlink:href=\"#m2697c739c4\" y=\"191.909299\"/>\n     <use style=\"fill:#3d3d3d;stroke:#3d3d3d;stroke-linejoin:miter;\" x=\"214.365625\" xlink:href=\"#m2697c739c4\" y=\"-1\"/>\n     <use style=\"fill:#3d3d3d;stroke:#3d3d3d;stroke-linejoin:miter;\" x=\"214.365625\" xlink:href=\"#m2697c739c4\" y=\"-1\"/>\n     <use style=\"fill:#3d3d3d;stroke:#3d3d3d;stroke-linejoin:miter;\" x=\"214.365625\" xlink:href=\"#m2697c739c4\" y=\"196.258099\"/>\n    </g>\n   </g>\n   <g id=\"line2d_34\">\n    <path clip-path=\"url(#pc9a3db64f1)\" d=\"M 262.194196 223.220659 \nL 262.194196 228.439219 \n\" style=\"fill:none;stroke:#3d3d3d;stroke-linecap:square;stroke-width:1.5;\"/>\n   </g>\n   <g id=\"line2d_35\">\n    <path clip-path=\"url(#pc9a3db64f1)\" d=\"M 262.194196 183.211699 \nL 262.194196 128.416819 \n\" style=\"fill:none;stroke:#3d3d3d;stroke-linecap:square;stroke-width:1.5;\"/>\n   </g>\n   <g id=\"line2d_36\">\n    <path clip-path=\"url(#pc9a3db64f1)\" d=\"M 252.628482 228.439219 \nL 271.759911 228.439219 \n\" style=\"fill:none;stroke:#3d3d3d;stroke-linecap:square;stroke-width:1.5;\"/>\n   </g>\n   <g id=\"line2d_37\">\n    <path clip-path=\"url(#pc9a3db64f1)\" d=\"M 252.628482 128.416819 \nL 271.759911 128.416819 \n\" style=\"fill:none;stroke:#3d3d3d;stroke-linecap:square;stroke-width:1.5;\"/>\n   </g>\n   <g id=\"line2d_38\">\n    <g clip-path=\"url(#pc9a3db64f1)\">\n     <use style=\"fill:#3d3d3d;stroke:#3d3d3d;stroke-linejoin:miter;\" x=\"262.194196\" xlink:href=\"#m2697c739c4\" y=\"71.012659\"/>\n     <use style=\"fill:#3d3d3d;stroke:#3d3d3d;stroke-linejoin:miter;\" x=\"262.194196\" xlink:href=\"#m2697c739c4\" y=\"87.538099\"/>\n     <use style=\"fill:#3d3d3d;stroke:#3d3d3d;stroke-linejoin:miter;\" x=\"262.194196\" xlink:href=\"#m2697c739c4\" y=\"-1\"/>\n     <use style=\"fill:#3d3d3d;stroke:#3d3d3d;stroke-linejoin:miter;\" x=\"262.194196\" xlink:href=\"#m2697c739c4\" y=\"-1\"/>\n     <use style=\"fill:#3d3d3d;stroke:#3d3d3d;stroke-linejoin:miter;\" x=\"262.194196\" xlink:href=\"#m2697c739c4\" y=\"117.979699\"/>\n     <use style=\"fill:#3d3d3d;stroke:#3d3d3d;stroke-linejoin:miter;\" x=\"262.194196\" xlink:href=\"#m2697c739c4\" y=\"115.370419\"/>\n     <use style=\"fill:#3d3d3d;stroke:#3d3d3d;stroke-linejoin:miter;\" x=\"262.194196\" xlink:href=\"#m2697c739c4\" y=\"-1\"/>\n     <use style=\"fill:#3d3d3d;stroke:#3d3d3d;stroke-linejoin:miter;\" x=\"262.194196\" xlink:href=\"#m2697c739c4\" y=\"-1\"/>\n     <use style=\"fill:#3d3d3d;stroke:#3d3d3d;stroke-linejoin:miter;\" x=\"262.194196\" xlink:href=\"#m2697c739c4\" y=\"7.520179\"/>\n    </g>\n   </g>\n   <g id=\"line2d_39\">\n    <path clip-path=\"url(#pc9a3db64f1)\" d=\"M 310.022768 223.872979 \nL 310.022768 228.439219 \n\" style=\"fill:none;stroke:#3d3d3d;stroke-linecap:square;stroke-width:1.5;\"/>\n   </g>\n   <g id=\"line2d_40\">\n    <path clip-path=\"url(#pc9a3db64f1)\" d=\"M 310.022768 192.996499 \nL 310.022768 148.421299 \n\" style=\"fill:none;stroke:#3d3d3d;stroke-linecap:square;stroke-width:1.5;\"/>\n   </g>\n   <g id=\"line2d_41\">\n    <path clip-path=\"url(#pc9a3db64f1)\" d=\"M 300.457054 228.439219 \nL 319.588482 228.439219 \n\" style=\"fill:none;stroke:#3d3d3d;stroke-linecap:square;stroke-width:1.5;\"/>\n   </g>\n   <g id=\"line2d_42\">\n    <path clip-path=\"url(#pc9a3db64f1)\" d=\"M 300.457054 148.421299 \nL 319.588482 148.421299 \n\" style=\"fill:none;stroke:#3d3d3d;stroke-linecap:square;stroke-width:1.5;\"/>\n   </g>\n   <g id=\"line2d_43\">\n    <g clip-path=\"url(#pc9a3db64f1)\">\n     <use style=\"fill:#3d3d3d;stroke:#3d3d3d;stroke-linejoin:miter;\" x=\"310.022768\" xlink:href=\"#m2697c739c4\" y=\"118.849459\"/>\n     <use style=\"fill:#3d3d3d;stroke:#3d3d3d;stroke-linejoin:miter;\" x=\"310.022768\" xlink:href=\"#m2697c739c4\" y=\"64.924339\"/>\n     <use style=\"fill:#3d3d3d;stroke:#3d3d3d;stroke-linejoin:miter;\" x=\"310.022768\" xlink:href=\"#m2697c739c4\" y=\"1.431859\"/>\n     <use style=\"fill:#3d3d3d;stroke:#3d3d3d;stroke-linejoin:miter;\" x=\"310.022768\" xlink:href=\"#m2697c739c4\" y=\"133.635379\"/>\n     <use style=\"fill:#3d3d3d;stroke:#3d3d3d;stroke-linejoin:miter;\" x=\"310.022768\" xlink:href=\"#m2697c739c4\" y=\"63.184819\"/>\n     <use style=\"fill:#3d3d3d;stroke:#3d3d3d;stroke-linejoin:miter;\" x=\"310.022768\" xlink:href=\"#m2697c739c4\" y=\"16.217779\"/>\n     <use style=\"fill:#3d3d3d;stroke:#3d3d3d;stroke-linejoin:miter;\" x=\"310.022768\" xlink:href=\"#m2697c739c4\" y=\"114.500659\"/>\n     <use style=\"fill:#3d3d3d;stroke:#3d3d3d;stroke-linejoin:miter;\" x=\"310.022768\" xlink:href=\"#m2697c739c4\" y=\"144.942259\"/>\n     <use style=\"fill:#3d3d3d;stroke:#3d3d3d;stroke-linejoin:miter;\" x=\"310.022768\" xlink:href=\"#m2697c739c4\" y=\"91.017139\"/>\n     <use style=\"fill:#3d3d3d;stroke:#3d3d3d;stroke-linejoin:miter;\" x=\"310.022768\" xlink:href=\"#m2697c739c4\" y=\"90.147379\"/>\n     <use style=\"fill:#3d3d3d;stroke:#3d3d3d;stroke-linejoin:miter;\" x=\"310.022768\" xlink:href=\"#m2697c739c4\" y=\"137.114419\"/>\n     <use style=\"fill:#3d3d3d;stroke:#3d3d3d;stroke-linejoin:miter;\" x=\"310.022768\" xlink:href=\"#m2697c739c4\" y=\"-1\"/>\n     <use style=\"fill:#3d3d3d;stroke:#3d3d3d;stroke-linejoin:miter;\" x=\"310.022768\" xlink:href=\"#m2697c739c4\" y=\"-1\"/>\n     <use style=\"fill:#3d3d3d;stroke:#3d3d3d;stroke-linejoin:miter;\" x=\"310.022768\" xlink:href=\"#m2697c739c4\" y=\"104.063539\"/>\n     <use style=\"fill:#3d3d3d;stroke:#3d3d3d;stroke-linejoin:miter;\" x=\"310.022768\" xlink:href=\"#m2697c739c4\" y=\"133.635379\"/>\n     <use style=\"fill:#3d3d3d;stroke:#3d3d3d;stroke-linejoin:miter;\" x=\"310.022768\" xlink:href=\"#m2697c739c4\" y=\"84.059059\"/>\n     <use style=\"fill:#3d3d3d;stroke:#3d3d3d;stroke-linejoin:miter;\" x=\"310.022768\" xlink:href=\"#m2697c739c4\" y=\"61.445299\"/>\n     <use style=\"fill:#3d3d3d;stroke:#3d3d3d;stroke-linejoin:miter;\" x=\"310.022768\" xlink:href=\"#m2697c739c4\" y=\"-1\"/>\n     <use style=\"fill:#3d3d3d;stroke:#3d3d3d;stroke-linejoin:miter;\" x=\"310.022768\" xlink:href=\"#m2697c739c4\" y=\"-1\"/>\n     <use style=\"fill:#3d3d3d;stroke:#3d3d3d;stroke-linejoin:miter;\" x=\"310.022768\" xlink:href=\"#m2697c739c4\" y=\"104.063539\"/>\n     <use style=\"fill:#3d3d3d;stroke:#3d3d3d;stroke-linejoin:miter;\" x=\"310.022768\" xlink:href=\"#m2697c739c4\" y=\"-1\"/>\n     <use style=\"fill:#3d3d3d;stroke:#3d3d3d;stroke-linejoin:miter;\" x=\"310.022768\" xlink:href=\"#m2697c739c4\" y=\"-1\"/>\n     <use style=\"fill:#3d3d3d;stroke:#3d3d3d;stroke-linejoin:miter;\" x=\"310.022768\" xlink:href=\"#m2697c739c4\" y=\"5.780659\"/>\n     <use style=\"fill:#3d3d3d;stroke:#3d3d3d;stroke-linejoin:miter;\" x=\"310.022768\" xlink:href=\"#m2697c739c4\" y=\"36.222259\"/>\n     <use style=\"fill:#3d3d3d;stroke:#3d3d3d;stroke-linejoin:miter;\" x=\"310.022768\" xlink:href=\"#m2697c739c4\" y=\"24.915379\"/>\n     <use style=\"fill:#3d3d3d;stroke:#3d3d3d;stroke-linejoin:miter;\" x=\"310.022768\" xlink:href=\"#m2697c739c4\" y=\"74.491699\"/>\n     <use style=\"fill:#3d3d3d;stroke:#3d3d3d;stroke-linejoin:miter;\" x=\"310.022768\" xlink:href=\"#m2697c739c4\" y=\"-1\"/>\n     <use style=\"fill:#3d3d3d;stroke:#3d3d3d;stroke-linejoin:miter;\" x=\"310.022768\" xlink:href=\"#m2697c739c4\" y=\"-1\"/>\n     <use style=\"fill:#3d3d3d;stroke:#3d3d3d;stroke-linejoin:miter;\" x=\"310.022768\" xlink:href=\"#m2697c739c4\" y=\"1.431859\"/>\n     <use style=\"fill:#3d3d3d;stroke:#3d3d3d;stroke-linejoin:miter;\" x=\"310.022768\" xlink:href=\"#m2697c739c4\" y=\"126.677299\"/>\n     <use style=\"fill:#3d3d3d;stroke:#3d3d3d;stroke-linejoin:miter;\" x=\"310.022768\" xlink:href=\"#m2697c739c4\" y=\"4.910899\"/>\n     <use style=\"fill:#3d3d3d;stroke:#3d3d3d;stroke-linejoin:miter;\" x=\"310.022768\" xlink:href=\"#m2697c739c4\" y=\"-1\"/>\n     <use style=\"fill:#3d3d3d;stroke:#3d3d3d;stroke-linejoin:miter;\" x=\"310.022768\" xlink:href=\"#m2697c739c4\" y=\"-1\"/>\n     <use style=\"fill:#3d3d3d;stroke:#3d3d3d;stroke-linejoin:miter;\" x=\"310.022768\" xlink:href=\"#m2697c739c4\" y=\"67.533619\"/>\n     <use style=\"fill:#3d3d3d;stroke:#3d3d3d;stroke-linejoin:miter;\" x=\"310.022768\" xlink:href=\"#m2697c739c4\" y=\"-1\"/>\n     <use style=\"fill:#3d3d3d;stroke:#3d3d3d;stroke-linejoin:miter;\" x=\"310.022768\" xlink:href=\"#m2697c739c4\" y=\"-1\"/>\n     <use style=\"fill:#3d3d3d;stroke:#3d3d3d;stroke-linejoin:miter;\" x=\"310.022768\" xlink:href=\"#m2697c739c4\" y=\"31.003699\"/>\n     <use style=\"fill:#3d3d3d;stroke:#3d3d3d;stroke-linejoin:miter;\" x=\"310.022768\" xlink:href=\"#m2697c739c4\" y=\"-1\"/>\n     <use style=\"fill:#3d3d3d;stroke:#3d3d3d;stroke-linejoin:miter;\" x=\"310.022768\" xlink:href=\"#m2697c739c4\" y=\"-1\"/>\n     <use style=\"fill:#3d3d3d;stroke:#3d3d3d;stroke-linejoin:miter;\" x=\"310.022768\" xlink:href=\"#m2697c739c4\" y=\"33.612979\"/>\n     <use style=\"fill:#3d3d3d;stroke:#3d3d3d;stroke-linejoin:miter;\" x=\"310.022768\" xlink:href=\"#m2697c739c4\" y=\"44.050099\"/>\n     <use style=\"fill:#3d3d3d;stroke:#3d3d3d;stroke-linejoin:miter;\" x=\"310.022768\" xlink:href=\"#m2697c739c4\" y=\"38.831539\"/>\n     <use style=\"fill:#3d3d3d;stroke:#3d3d3d;stroke-linejoin:miter;\" x=\"310.022768\" xlink:href=\"#m2697c739c4\" y=\"-1\"/>\n     <use style=\"fill:#3d3d3d;stroke:#3d3d3d;stroke-linejoin:miter;\" x=\"310.022768\" xlink:href=\"#m2697c739c4\" y=\"-1\"/>\n     <use style=\"fill:#3d3d3d;stroke:#3d3d3d;stroke-linejoin:miter;\" x=\"310.022768\" xlink:href=\"#m2697c739c4\" y=\"8.389939\"/>\n     <use style=\"fill:#3d3d3d;stroke:#3d3d3d;stroke-linejoin:miter;\" x=\"310.022768\" xlink:href=\"#m2697c739c4\" y=\"-1\"/>\n     <use style=\"fill:#3d3d3d;stroke:#3d3d3d;stroke-linejoin:miter;\" x=\"310.022768\" xlink:href=\"#m2697c739c4\" y=\"-1\"/>\n     <use style=\"fill:#3d3d3d;stroke:#3d3d3d;stroke-linejoin:miter;\" x=\"310.022768\" xlink:href=\"#m2697c739c4\" y=\"22.306099\"/>\n     <use style=\"fill:#3d3d3d;stroke:#3d3d3d;stroke-linejoin:miter;\" x=\"310.022768\" xlink:href=\"#m2697c739c4\" y=\"108.412339\"/>\n     <use style=\"fill:#3d3d3d;stroke:#3d3d3d;stroke-linejoin:miter;\" x=\"310.022768\" xlink:href=\"#m2697c739c4\" y=\"95.365939\"/>\n     <use style=\"fill:#3d3d3d;stroke:#3d3d3d;stroke-linejoin:miter;\" x=\"310.022768\" xlink:href=\"#m2697c739c4\" y=\"106.672819\"/>\n    </g>\n   </g>\n   <g id=\"line2d_44\">\n    <path clip-path=\"url(#pc9a3db64f1)\" d=\"M 357.851339 225.829939 \nL 357.851339 227.569459 \n\" style=\"fill:none;stroke:#3d3d3d;stroke-linecap:square;stroke-width:1.5;\"/>\n   </g>\n   <g id=\"line2d_45\">\n    <path clip-path=\"url(#pc9a3db64f1)\" d=\"M 357.851339 218.002099 \nL 357.851339 206.695219 \n\" style=\"fill:none;stroke:#3d3d3d;stroke-linecap:square;stroke-width:1.5;\"/>\n   </g>\n   <g id=\"line2d_46\">\n    <path clip-path=\"url(#pc9a3db64f1)\" d=\"M 348.285625 227.569459 \nL 367.417054 227.569459 \n\" style=\"fill:none;stroke:#3d3d3d;stroke-linecap:square;stroke-width:1.5;\"/>\n   </g>\n   <g id=\"line2d_47\">\n    <path clip-path=\"url(#pc9a3db64f1)\" d=\"M 348.285625 206.695219 \nL 367.417054 206.695219 \n\" style=\"fill:none;stroke:#3d3d3d;stroke-linecap:square;stroke-width:1.5;\"/>\n   </g>\n   <g id=\"line2d_48\">\n    <g clip-path=\"url(#pc9a3db64f1)\">\n     <use style=\"fill:#3d3d3d;stroke:#3d3d3d;stroke-linejoin:miter;\" x=\"357.851339\" xlink:href=\"#m2697c739c4\" y=\"127.547059\"/>\n     <use style=\"fill:#3d3d3d;stroke:#3d3d3d;stroke-linejoin:miter;\" x=\"357.851339\" xlink:href=\"#m2697c739c4\" y=\"189.300019\"/>\n     <use style=\"fill:#3d3d3d;stroke:#3d3d3d;stroke-linejoin:miter;\" x=\"357.851339\" xlink:href=\"#m2697c739c4\" y=\"-1\"/>\n     <use style=\"fill:#3d3d3d;stroke:#3d3d3d;stroke-linejoin:miter;\" x=\"357.851339\" xlink:href=\"#m2697c739c4\" y=\"-1\"/>\n     <use style=\"fill:#3d3d3d;stroke:#3d3d3d;stroke-linejoin:miter;\" x=\"357.851339\" xlink:href=\"#m2697c739c4\" y=\"86.668339\"/>\n     <use style=\"fill:#3d3d3d;stroke:#3d3d3d;stroke-linejoin:miter;\" x=\"357.851339\" xlink:href=\"#m2697c739c4\" y=\"58.836019\"/>\n     <use style=\"fill:#3d3d3d;stroke:#3d3d3d;stroke-linejoin:miter;\" x=\"357.851339\" xlink:href=\"#m2697c739c4\" y=\"-1\"/>\n     <use style=\"fill:#3d3d3d;stroke:#3d3d3d;stroke-linejoin:miter;\" x=\"357.851339\" xlink:href=\"#m2697c739c4\" y=\"-1\"/>\n     <use style=\"fill:#3d3d3d;stroke:#3d3d3d;stroke-linejoin:miter;\" x=\"357.851339\" xlink:href=\"#m2697c739c4\" y=\"152.770099\"/>\n     <use style=\"fill:#3d3d3d;stroke:#3d3d3d;stroke-linejoin:miter;\" x=\"357.851339\" xlink:href=\"#m2697c739c4\" y=\"204.955699\"/>\n     <use style=\"fill:#3d3d3d;stroke:#3d3d3d;stroke-linejoin:miter;\" x=\"357.851339\" xlink:href=\"#m2697c739c4\" y=\"-1\"/>\n     <use style=\"fill:#3d3d3d;stroke:#3d3d3d;stroke-linejoin:miter;\" x=\"357.851339\" xlink:href=\"#m2697c739c4\" y=\"-1\"/>\n     <use style=\"fill:#3d3d3d;stroke:#3d3d3d;stroke-linejoin:miter;\" x=\"357.851339\" xlink:href=\"#m2697c739c4\" y=\"189.300019\"/>\n     <use style=\"fill:#3d3d3d;stroke:#3d3d3d;stroke-linejoin:miter;\" x=\"357.851339\" xlink:href=\"#m2697c739c4\" y=\"204.955699\"/>\n     <use style=\"fill:#3d3d3d;stroke:#3d3d3d;stroke-linejoin:miter;\" x=\"357.851339\" xlink:href=\"#m2697c739c4\" y=\"164.946739\"/>\n     <use style=\"fill:#3d3d3d;stroke:#3d3d3d;stroke-linejoin:miter;\" x=\"357.851339\" xlink:href=\"#m2697c739c4\" y=\"166.686259\"/>\n     <use style=\"fill:#3d3d3d;stroke:#3d3d3d;stroke-linejoin:miter;\" x=\"357.851339\" xlink:href=\"#m2697c739c4\" y=\"175.383859\"/>\n     <use style=\"fill:#3d3d3d;stroke:#3d3d3d;stroke-linejoin:miter;\" x=\"357.851339\" xlink:href=\"#m2697c739c4\" y=\"198.867379\"/>\n     <use style=\"fill:#3d3d3d;stroke:#3d3d3d;stroke-linejoin:miter;\" x=\"357.851339\" xlink:href=\"#m2697c739c4\" y=\"168.425779\"/>\n     <use style=\"fill:#3d3d3d;stroke:#3d3d3d;stroke-linejoin:miter;\" x=\"357.851339\" xlink:href=\"#m2697c739c4\" y=\"194.518579\"/>\n     <use style=\"fill:#3d3d3d;stroke:#3d3d3d;stroke-linejoin:miter;\" x=\"357.851339\" xlink:href=\"#m2697c739c4\" y=\"197.997619\"/>\n     <use style=\"fill:#3d3d3d;stroke:#3d3d3d;stroke-linejoin:miter;\" x=\"357.851339\" xlink:href=\"#m2697c739c4\" y=\"205.825459\"/>\n     <use style=\"fill:#3d3d3d;stroke:#3d3d3d;stroke-linejoin:miter;\" x=\"357.851339\" xlink:href=\"#m2697c739c4\" y=\"195.388339\"/>\n     <use style=\"fill:#3d3d3d;stroke:#3d3d3d;stroke-linejoin:miter;\" x=\"357.851339\" xlink:href=\"#m2697c739c4\" y=\"80.580019\"/>\n     <use style=\"fill:#3d3d3d;stroke:#3d3d3d;stroke-linejoin:miter;\" x=\"357.851339\" xlink:href=\"#m2697c739c4\" y=\"199.737139\"/>\n     <use style=\"fill:#3d3d3d;stroke:#3d3d3d;stroke-linejoin:miter;\" x=\"357.851339\" xlink:href=\"#m2697c739c4\" y=\"192.779059\"/>\n     <use style=\"fill:#3d3d3d;stroke:#3d3d3d;stroke-linejoin:miter;\" x=\"357.851339\" xlink:href=\"#m2697c739c4\" y=\"197.127859\"/>\n     <use style=\"fill:#3d3d3d;stroke:#3d3d3d;stroke-linejoin:miter;\" x=\"357.851339\" xlink:href=\"#m2697c739c4\" y=\"177.993139\"/>\n     <use style=\"fill:#3d3d3d;stroke:#3d3d3d;stroke-linejoin:miter;\" x=\"357.851339\" xlink:href=\"#m2697c739c4\" y=\"153.639859\"/>\n    </g>\n   </g>\n   <g id=\"line2d_49\">\n    <path clip-path=\"url(#pc9a3db64f1)\" d=\"M 51.748482 222.350899 \nL 90.011339 222.350899 \n\" style=\"fill:none;stroke:#3d3d3d;stroke-linecap:square;stroke-width:1.5;\"/>\n   </g>\n   <g id=\"line2d_50\">\n    <path clip-path=\"url(#pc9a3db64f1)\" d=\"M 99.577054 208.434739 \nL 137.839911 208.434739 \n\" style=\"fill:none;stroke:#3d3d3d;stroke-linecap:square;stroke-width:1.5;\"/>\n   </g>\n   <g id=\"line2d_51\">\n    <path clip-path=\"url(#pc9a3db64f1)\" d=\"M 147.405625 196.258099 \nL 185.668482 196.258099 \n\" style=\"fill:none;stroke:#3d3d3d;stroke-linecap:square;stroke-width:1.5;\"/>\n   </g>\n   <g id=\"line2d_52\">\n    <path clip-path=\"url(#pc9a3db64f1)\" d=\"M 195.234196 223.220659 \nL 233.497054 223.220659 \n\" style=\"fill:none;stroke:#3d3d3d;stroke-linecap:square;stroke-width:1.5;\"/>\n   </g>\n   <g id=\"line2d_53\">\n    <path clip-path=\"url(#pc9a3db64f1)\" d=\"M 243.062768 218.871859 \nL 281.325625 218.871859 \n\" style=\"fill:none;stroke:#3d3d3d;stroke-linecap:square;stroke-width:1.5;\"/>\n   </g>\n   <g id=\"line2d_54\">\n    <path clip-path=\"url(#pc9a3db64f1)\" d=\"M 290.891339 214.523059 \nL 329.154196 214.523059 \n\" style=\"fill:none;stroke:#3d3d3d;stroke-linecap:square;stroke-width:1.5;\"/>\n   </g>\n   <g id=\"line2d_55\">\n    <path clip-path=\"url(#pc9a3db64f1)\" d=\"M 338.719911 224.090419 \nL 376.982768 224.090419 \n\" style=\"fill:none;stroke:#3d3d3d;stroke-linecap:square;stroke-width:1.5;\"/>\n   </g>\n   <g id=\"patch_10\">\n    <path d=\"M 46.965625 228.439219 \nL 46.965625 10.999219 \n\" style=\"fill:none;stroke:#000000;stroke-linecap:square;stroke-linejoin:miter;stroke-width:0.8;\"/>\n   </g>\n   <g id=\"patch_11\">\n    <path d=\"M 381.765625 228.439219 \nL 381.765625 10.999219 \n\" style=\"fill:none;stroke:#000000;stroke-linecap:square;stroke-linejoin:miter;stroke-width:0.8;\"/>\n   </g>\n   <g id=\"patch_12\">\n    <path d=\"M 46.965625 228.439219 \nL 381.765625 228.439219 \n\" style=\"fill:none;stroke:#000000;stroke-linecap:square;stroke-linejoin:miter;stroke-width:0.8;\"/>\n   </g>\n   <g id=\"patch_13\">\n    <path d=\"M 46.965625 10.999219 \nL 381.765625 10.999219 \n\" style=\"fill:none;stroke:#000000;stroke-linecap:square;stroke-linejoin:miter;stroke-width:0.8;\"/>\n   </g>\n  </g>\n </g>\n <defs>\n  <clipPath id=\"pc9a3db64f1\">\n   <rect height=\"217.44\" width=\"334.8\" x=\"46.965625\" y=\"10.999219\"/>\n  </clipPath>\n </defs>\n</svg>\n",
      "image/png": "[encoded data removed]"
     },
     "metadata": {
      "needs_background": "light"
     }
    }
   ],
   "source": [
    "ax = sns.boxplot(y='commit_count', x='ecosystem', data = temp, order =['Composer','Go','Maven','npm','NuGet','pip','RubyGems'])\n",
    "ax.set(ylim=(0,250), xlabel='Ecosystem', ylabel='# of commits')\n",
    "plt.savefig('commit_complexity.png',bbox_inches='tight')"
   ]
  },
  {
   "cell_type": "code",
   "execution_count": 14,
   "metadata": {},
   "outputs": [
    {
     "output_type": "execute_result",
     "data": {
      "text/plain": [
       "                       advisory_id severity\n",
       "0              npm:abaaso:20180220        L\n",
       "1          npm:actionhero:20121127        M\n",
       "2          npm:actionhero:20161027        M\n",
       "3     npm:address-rfc2822:20180225        H\n",
       "4             npm:adm-zip:20180415        H\n",
       "...                            ...      ...\n",
       "6951      SNYK-RUBY-WRITTEN-548685        M\n",
       "6952          SNYK-RUBY-YARD-20430        L\n",
       "6953         SNYK-RUBY-YARD-455636        H\n",
       "6954       SNYK-RUBY-ZIPRUBY-20431        H\n",
       "6955       SNYK-RUBY-ZIPRUBY-20433        M\n",
       "\n",
       "[6956 rows x 2 columns]"
      ],
      "text/html": "<div>\n<style scoped>\n    .dataframe tbody tr th:only-of-type {\n        vertical-align: middle;\n    }\n\n    .dataframe tbody tr th {\n        vertical-align: top;\n    }\n\n    .dataframe thead th {\n        text-align: right;\n    }\n</style>\n<table border=\"1\" class=\"dataframe\">\n  <thead>\n    <tr style=\"text-align: right;\">\n      <th></th>\n      <th>advisory_id</th>\n      <th>severity</th>\n    </tr>\n  </thead>\n  <tbody>\n    <tr>\n      <th>0</th>\n      <td>npm:abaaso:20180220</td>\n      <td>L</td>\n    </tr>\n    <tr>\n      <th>1</th>\n      <td>npm:actionhero:20121127</td>\n      <td>M</td>\n    </tr>\n    <tr>\n      <th>2</th>\n      <td>npm:actionhero:20161027</td>\n      <td>M</td>\n    </tr>\n    <tr>\n      <th>3</th>\n      <td>npm:address-rfc2822:20180225</td>\n      <td>H</td>\n    </tr>\n    <tr>\n      <th>4</th>\n      <td>npm:adm-zip:20180415</td>\n      <td>H</td>\n    </tr>\n    <tr>\n      <th>...</th>\n      <td>...</td>\n      <td>...</td>\n    </tr>\n    <tr>\n      <th>6951</th>\n      <td>SNYK-RUBY-WRITTEN-548685</td>\n      <td>M</td>\n    </tr>\n    <tr>\n      <th>6952</th>\n      <td>SNYK-RUBY-YARD-20430</td>\n      <td>L</td>\n    </tr>\n    <tr>\n      <th>6953</th>\n      <td>SNYK-RUBY-YARD-455636</td>\n      <td>H</td>\n    </tr>\n    <tr>\n      <th>6954</th>\n      <td>SNYK-RUBY-ZIPRUBY-20431</td>\n      <td>H</td>\n    </tr>\n    <tr>\n      <th>6955</th>\n      <td>SNYK-RUBY-ZIPRUBY-20433</td>\n      <td>M</td>\n    </tr>\n  </tbody>\n</table>\n<p>6956 rows × 2 columns</p>\n</div>"
     },
     "metadata": {},
     "execution_count": 14
    }
   ],
   "source": [
    "q = '''select id as advisory_id, severity\n",
    "    from advisory'''\n",
    "sev = pd.DataFrame(sql.execute(q))\n",
    "sev"
   ]
  },
  {
   "cell_type": "code",
   "execution_count": 15,
   "metadata": {},
   "outputs": [
    {
     "output_type": "stream",
     "name": "stdout",
     "text": [
      "npm 4.0\n",
      "Maven 4.0\n",
      "RubyGems 0.0\n",
      "Composer 0.0\n",
      "Go 0.0\n",
      "pip 0.0\n",
      "NuGet 0.0\n"
     ]
    }
   ],
   "source": [
    "q = '''select advisory_id, p.ecosystem, a.package_id, ri.id as release_id, \n",
    "       ifnull(sum(lines_added + lines_removed),0) as loc_change\n",
    "    from advisory a\n",
    "    join package p on a.package_id = p.id\n",
    "    join fixing_releases fr on a.id = fr.advisory_id\n",
    "    join release_info ri on\n",
    "        fr.version = ri.version and ri.package_id = a.package_id\n",
    "    join release_commit rc on p.id = rc.package_id and rc.version = fr.version\n",
    "    left join (select scf.* from change_file scf\n",
    "    join file_extensions fe on scf.format = fe.id\n",
    "    where filename in ({})) as cf on ri.id = cf.release_info_id\n",
    "    where rc.commit is not null\n",
    "    and ri.prior_release != 'branch does not match'\n",
    "            and ri.prior_release != 'not valid semver formatting'\n",
    "    and p.ecosystem = %s\n",
    "    group by advisory_id, p.ecosystem, a.package_id, ri.id;'''\n",
    "hm = {\n",
    "    'npm': ['package.json','package-lock.json','yarn.lock'],\n",
    "    'Maven':['pom.xml'],\n",
    "    'RubyGems': ['Gemfile','Gemfile.lock'],\n",
    "    'Composer':['composer.json','composer.lock'],\n",
    "    'Go':['go.mod','Gopkg.toml','Gopkg.lock','vendor/vendor.json'],\n",
    "    'pip':['requirements.txt','pipfile','pipfile.lock','setup.py'],\n",
    "    'NuGet':['packages.config','.nuspec']\n",
    "}\n",
    "for k in hm.keys():\n",
    "    query = q.format(','.join(['%s']*len(hm[k])))\n",
    "    dep_cf = pd.DataFrame(sql.execute(query, tuple(hm[k]+[k])))\n",
    "    dep_cf = dep_cf.drop_duplicates(subset='release_id', keep='last')\n",
    "    print(k, dep_cf['loc_change'].median())\n"
   ]
  },
  {
   "cell_type": "code",
   "execution_count": 16,
   "metadata": {},
   "outputs": [],
   "source": [
    "q='''select id as advisory_id,\n",
    "       case\n",
    "        when id in (select advisory_id from advisoryCVE) then 'cve'\n",
    "        else 'noncve'\n",
    "end as ifcve\n",
    "from advisory;'''\n",
    "ifcve = pd.DataFrame(sql.execute(q))\n",
    "df = pd.merge(df, ifcve, on='advisory_id')"
   ]
  },
  {
   "cell_type": "code",
   "execution_count": 17,
   "metadata": {},
   "outputs": [],
   "source": [
    "from scipy.stats import mannwhitneyu"
   ]
  },
  {
   "cell_type": "code",
   "execution_count": 18,
   "metadata": {},
   "outputs": [
    {
     "output_type": "execute_result",
     "data": {
      "text/plain": [
       "(14.0, 9.0, 436.0, 313.0)"
      ]
     },
     "metadata": {},
     "execution_count": 18
    }
   ],
   "source": [
    "cve = df[df['ifcve'] == 'cve']\n",
    "cve = cve.drop_duplicates(subset='release_id', keep='last')\n",
    "noncve = df[df['ifcve'] == 'noncve']\n",
    "noncve = noncve.drop_duplicates(subset='release_id', keep='last')\n",
    "cve['commit_count'].median(), noncve['commit_count'].median(), cve['loc_change'].median(), noncve['loc_change'].median()"
   ]
  },
  {
   "cell_type": "code",
   "execution_count": 19,
   "metadata": {},
   "outputs": [
    {
     "output_type": "execute_result",
     "data": {
      "text/plain": [
       "(MannwhitneyuResult(statistic=981361.0, pvalue=0.0010540344494287014),\n",
       " MannwhitneyuResult(statistic=986343.5, pvalue=0.0020593479045196436))"
      ]
     },
     "metadata": {},
     "execution_count": 19
    }
   ],
   "source": [
    "\n",
    "mannwhitneyu(cve['commit_count'], noncve['commit_count']), mannwhitneyu(cve['loc_change'], noncve['loc_change'])"
   ]
  },
  {
   "cell_type": "code",
   "execution_count": 20,
   "metadata": {},
   "outputs": [
    {
     "output_type": "execute_result",
     "data": {
      "text/plain": [
       "                               advisory_id ecosystem  package_id  release_id  \\\n",
       "0                  npm:actionhero:20161027       npm        3419          42   \n",
       "1                     npm:adm-zip:20180415       npm        2289          45   \n",
       "2                   npm:aerospike:20161101       npm        2956          48   \n",
       "3                     npm:ag-grid:20160519       npm        3410          49   \n",
       "4             npm:angular-gettext:20140624       npm        3384          64   \n",
       "...                                    ...       ...         ...         ...   \n",
       "4734             SNYK-RUBY-WEBRICK-1013845  RubyGems         438        5474   \n",
       "4735             SNYK-RUBY-WEBRICK-1013845  RubyGems         438        5475   \n",
       "4736  SNYK-RUBY-WEBSOCKETEXTENSIONS-570830  RubyGems         843        5492   \n",
       "4737                  SNYK-RUBY-YARD-20430  RubyGems        1699        5548   \n",
       "4738                 SNYK-RUBY-YARD-455636  RubyGems        1699        5549   \n",
       "\n",
       "      commit_count  file_count  loc_change  contributor_count   ifcve severity  \n",
       "0                9           7          59                  2  noncve        M  \n",
       "1                3           5          83                  1     cve        H  \n",
       "2                8           9         235                  1     cve        H  \n",
       "3               46         270       10450                  2  noncve        M  \n",
       "4                1           0           0                  1  noncve        M  \n",
       "...            ...         ...         ...                ...     ...      ...  \n",
       "4734             2           2           8                  2     cve        H  \n",
       "4735             2           2           8                  2     cve        H  \n",
       "4736             6           4          64                  1     cve        H  \n",
       "4737             5           5         126                  3  noncve        L  \n",
       "4738             7           7          40                  1     cve        H  \n",
       "\n",
       "[4739 rows x 10 columns]"
      ],
      "text/html": "<div>\n<style scoped>\n    .dataframe tbody tr th:only-of-type {\n        vertical-align: middle;\n    }\n\n    .dataframe tbody tr th {\n        vertical-align: top;\n    }\n\n    .dataframe thead th {\n        text-align: right;\n    }\n</style>\n<table border=\"1\" class=\"dataframe\">\n  <thead>\n    <tr style=\"text-align: right;\">\n      <th></th>\n      <th>advisory_id</th>\n      <th>ecosystem</th>\n      <th>package_id</th>\n      <th>release_id</th>\n      <th>commit_count</th>\n      <th>file_count</th>\n      <th>loc_change</th>\n      <th>contributor_count</th>\n      <th>ifcve</th>\n      <th>severity</th>\n    </tr>\n  </thead>\n  <tbody>\n    <tr>\n      <th>0</th>\n      <td>npm:actionhero:20161027</td>\n      <td>npm</td>\n      <td>3419</td>\n      <td>42</td>\n      <td>9</td>\n      <td>7</td>\n      <td>59</td>\n      <td>2</td>\n      <td>noncve</td>\n      <td>M</td>\n    </tr>\n    <tr>\n      <th>1</th>\n      <td>npm:adm-zip:20180415</td>\n      <td>npm</td>\n      <td>2289</td>\n      <td>45</td>\n      <td>3</td>\n      <td>5</td>\n      <td>83</td>\n      <td>1</td>\n      <td>cve</td>\n      <td>H</td>\n    </tr>\n    <tr>\n      <th>2</th>\n      <td>npm:aerospike:20161101</td>\n      <td>npm</td>\n      <td>2956</td>\n      <td>48</td>\n      <td>8</td>\n      <td>9</td>\n      <td>235</td>\n      <td>1</td>\n      <td>cve</td>\n      <td>H</td>\n    </tr>\n    <tr>\n      <th>3</th>\n      <td>npm:ag-grid:20160519</td>\n      <td>npm</td>\n      <td>3410</td>\n      <td>49</td>\n      <td>46</td>\n      <td>270</td>\n      <td>10450</td>\n      <td>2</td>\n      <td>noncve</td>\n      <td>M</td>\n    </tr>\n    <tr>\n      <th>4</th>\n      <td>npm:angular-gettext:20140624</td>\n      <td>npm</td>\n      <td>3384</td>\n      <td>64</td>\n      <td>1</td>\n      <td>0</td>\n      <td>0</td>\n      <td>1</td>\n      <td>noncve</td>\n      <td>M</td>\n    </tr>\n    <tr>\n      <th>...</th>\n      <td>...</td>\n      <td>...</td>\n      <td>...</td>\n      <td>...</td>\n      <td>...</td>\n      <td>...</td>\n      <td>...</td>\n      <td>...</td>\n      <td>...</td>\n      <td>...</td>\n    </tr>\n    <tr>\n      <th>4734</th>\n      <td>SNYK-RUBY-WEBRICK-1013845</td>\n      <td>RubyGems</td>\n      <td>438</td>\n      <td>5474</td>\n      <td>2</td>\n      <td>2</td>\n      <td>8</td>\n      <td>2</td>\n      <td>cve</td>\n      <td>H</td>\n    </tr>\n    <tr>\n      <th>4735</th>\n      <td>SNYK-RUBY-WEBRICK-1013845</td>\n      <td>RubyGems</td>\n      <td>438</td>\n      <td>5475</td>\n      <td>2</td>\n      <td>2</td>\n      <td>8</td>\n      <td>2</td>\n      <td>cve</td>\n      <td>H</td>\n    </tr>\n    <tr>\n      <th>4736</th>\n      <td>SNYK-RUBY-WEBSOCKETEXTENSIONS-570830</td>\n      <td>RubyGems</td>\n      <td>843</td>\n      <td>5492</td>\n      <td>6</td>\n      <td>4</td>\n      <td>64</td>\n      <td>1</td>\n      <td>cve</td>\n      <td>H</td>\n    </tr>\n    <tr>\n      <th>4737</th>\n      <td>SNYK-RUBY-YARD-20430</td>\n      <td>RubyGems</td>\n      <td>1699</td>\n      <td>5548</td>\n      <td>5</td>\n      <td>5</td>\n      <td>126</td>\n      <td>3</td>\n      <td>noncve</td>\n      <td>L</td>\n    </tr>\n    <tr>\n      <th>4738</th>\n      <td>SNYK-RUBY-YARD-455636</td>\n      <td>RubyGems</td>\n      <td>1699</td>\n      <td>5549</td>\n      <td>7</td>\n      <td>7</td>\n      <td>40</td>\n      <td>1</td>\n      <td>cve</td>\n      <td>H</td>\n    </tr>\n  </tbody>\n</table>\n<p>4739 rows × 10 columns</p>\n</div>"
     },
     "metadata": {},
     "execution_count": 20
    }
   ],
   "source": [
    "q='''select id as advisory_id, severity\n",
    "from advisory;'''\n",
    "ifcve = pd.DataFrame(sql.execute(q))\n",
    "df = pd.merge(df, ifcve, on='advisory_id')\n",
    "df"
   ]
  },
  {
   "cell_type": "code",
   "execution_count": 21,
   "metadata": {},
   "outputs": [
    {
     "output_type": "execute_result",
     "data": {
      "text/plain": [
       "(23.0, 15.0, 11.0)"
      ]
     },
     "metadata": {},
     "execution_count": 21
    }
   ],
   "source": [
    "l, m, h = df[df['severity']=='L'],df[df['severity']=='M'],df[df['severity']=='H']\n",
    "l,m,h = l.drop_duplicates(subset='release_id', keep='last'), m.drop_duplicates(subset='release_id', keep='last'), h.drop_duplicates(subset='release_id', keep='last')\n",
    "l['commit_count'].median(), m['commit_count'].median(), h['commit_count'].median()"
   ]
  },
  {
   "cell_type": "code",
   "execution_count": 22,
   "metadata": {},
   "outputs": [
    {
     "output_type": "execute_result",
     "data": {
      "text/plain": [
       "(MannwhitneyuResult(statistic=166430.5, pvalue=0.0006684683400602531),\n",
       " MannwhitneyuResult(statistic=1377511.5, pvalue=6.660103874449753e-05),\n",
       " MannwhitneyuResult(statistic=128182.5, pvalue=1.5205796637870068e-07))"
      ]
     },
     "metadata": {},
     "execution_count": 22
    }
   ],
   "source": [
    "mannwhitneyu(l['commit_count'], m['commit_count']), mannwhitneyu(m['commit_count'],h['commit_count']), mannwhitneyu(l['commit_count'], h['commit_count'])"
   ]
  },
  {
   "cell_type": "code",
   "execution_count": 23,
   "metadata": {},
   "outputs": [
    {
     "output_type": "execute_result",
     "data": {
      "text/plain": [
       "(851.0, 453.5, 418.0)"
      ]
     },
     "metadata": {},
     "execution_count": 23
    }
   ],
   "source": [
    "l['loc_change'].median(), m['loc_change'].median(), h['loc_change'].median()"
   ]
  },
  {
   "cell_type": "code",
   "execution_count": 24,
   "metadata": {},
   "outputs": [
    {
     "output_type": "execute_result",
     "data": {
      "text/plain": [
       "(MannwhitneyuResult(statistic=0.0, pvalue=0.0417940107714064),\n",
       " MannwhitneyuResult(statistic=1437503.5, pvalue=0.038227491151269534),\n",
       " MannwhitneyuResult(statistic=139363.5, pvalue=0.00021356824876309516))"
      ]
     },
     "metadata": {},
     "execution_count": 24
    }
   ],
   "source": [
    "mannwhitneyu(['loc_change'],m['loc_change']), mannwhitneyu(m['loc_change'], h['loc_change']), mannwhitneyu(l['loc_change'], h['loc_change'])"
   ]
  },
  {
   "cell_type": "code",
   "execution_count": 25,
   "metadata": {},
   "outputs": [
    {
     "output_type": "execute_result",
     "data": {
      "text/plain": [
       "811"
      ]
     },
     "metadata": {},
     "execution_count": 25
    }
   ],
   "source": [
    "len(noncve)"
   ]
  },
  {
   "cell_type": "code",
   "execution_count": 26,
   "metadata": {},
   "outputs": [],
   "source": [
    "q = '''select advisory_id, package_id, ecosystem, type, severity, disclose_date, publish_date,release_id,\n",
    "        earliest_fix_commit_date, latest_fix_commit_date, release_date, version, concat('package', package_id, 'version', version) as fixing_release,\n",
    "       concat(advisory_id, package_id, version) as total_release\n",
    "        from\n",
    "        (select advisory_id, min(commit_date) as earliest_fix_commit_date, max(commit_date) as latest_fix_commit_date\n",
    "        from fix_commits fc\n",
    "        join package p on fc.package_id = p.id\n",
    "        where commit_date is not null\n",
    "        group by advisory_id) as fcd\n",
    "        join\n",
    "        (select a.*, p.ecosystem, ri.version, ri.publish_date as release_date, ri.id as release_id\n",
    "        from advisory a\n",
    "        join package p on a.package_id = p.id\n",
    "        join fixing_releases fr on a.id = fr.advisory_id\n",
    "        join release_info ri on p.id = ri.package_id and ri.version=fr.version\n",
    "        where type != 'Malicious Package'\n",
    "        and fr.version!= 'manual checkup needed'\n",
    "            and ri.publish_date is not null) as frd\n",
    "        on fcd.advisory_id=frd.id;'''\n",
    "frd = pd.DataFrame(sql.execute(q))\n",
    "def get_fix_commit_date(row):\n",
    "    if row['earliest_fix_commit_date'] == row['latest_fix_commit_date']:\n",
    "        return row['earliest_fix_commit_date']\n",
    "    else:\n",
    "        if row['latest_fix_commit_date'] <= row['release_date']:\n",
    "            return row['latest_fix_commit_date']\n",
    "        else:\n",
    "            return row['earliest_fix_commit_date']\n",
    "\n",
    "frd['fix_commit_date'] = frd.apply(get_fix_commit_date, axis=1)\n",
    "frd['fix_to_release_delay'] = (frd['release_date'] - frd['fix_commit_date']).dt.total_seconds()\n",
    "frd['fix_to_release_delay'] = round ( frd['fix_to_release_delay'] / (3600 * 24))\n",
    "frd['disclose_to_fix_delay'] = (frd['fix_commit_date'].dt.date - frd['disclose_date']).dt.days\n",
    "frd['release_to_publish_delay'] = (frd['publish_date'] - frd['release_date'].dt.date).dt.days\n",
    "frd['fix_to_publish_delay'] = (frd['publish_date'] - frd['fix_commit_date'].dt.date).dt.days"
   ]
  },
  {
   "cell_type": "code",
   "execution_count": 27,
   "metadata": {},
   "outputs": [],
   "source": [
    "frd = frd[['advisory_id','release_id','fix_to_release_delay']]\n",
    "temp = pd.merge(df, frd, on=['advisory_id', 'release_id'])"
   ]
  },
  {
   "cell_type": "code",
   "execution_count": 28,
   "metadata": {},
   "outputs": [
    {
     "output_type": "execute_result",
     "data": {
      "text/plain": [
       "(4739, 2789, 2375)"
      ]
     },
     "metadata": {},
     "execution_count": 28
    }
   ],
   "source": [
    "len(df), len(frd), len(temp)"
   ]
  },
  {
   "cell_type": "code",
   "execution_count": 29,
   "metadata": {},
   "outputs": [],
   "source": [
    "temp = temp[temp['fix_to_release_delay']==0]\n",
    "temp = temp.drop_duplicates(subset='release_id', keep='last')"
   ]
  },
  {
   "cell_type": "code",
   "execution_count": 30,
   "metadata": {},
   "outputs": [
    {
     "output_type": "execute_result",
     "data": {
      "text/plain": [
       "(6.0, 149.0, 7.0, 2.0)"
      ]
     },
     "metadata": {},
     "execution_count": 30
    }
   ],
   "source": [
    "temp['commit_count'].median(), temp['loc_change'].median(), temp['file_count'].median(), temp['contributor_count'].median()"
   ]
  },
  {
   "cell_type": "code",
   "execution_count": 31,
   "metadata": {},
   "outputs": [],
   "source": [
    "temp = temp.sample(frac=1).reset_index(drop=True)\n",
    "temp.to_csv('secrel_with_zero_delay.csv', index=False, header=True)"
   ]
  },
  {
   "cell_type": "code",
   "execution_count": null,
   "metadata": {},
   "outputs": [],
   "source": []
  }
 ]
}