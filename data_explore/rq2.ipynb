{
 "cells": [
  {
   "cell_type": "code",
   "execution_count": 455,
   "metadata": {},
   "outputs": [],
   "source": [
    "import sys\n",
    "sys.path.append('..')\n",
    "import sql\n",
    "import pandas as pd\n",
    "from functools import reduce\n",
    "from tabulate import tabulate\n",
    "import datetime\n",
    "import matplotlib.pyplot as plt\n",
    "import numpy as np\n"
   ]
  },
  {
   "cell_type": "code",
   "execution_count": 456,
   "metadata": {},
   "outputs": [],
   "source": [
    "q = '''select p.ecosystem, p.name as package, pu.* from package_usage pu\n",
    "join package p on pu.package_id = p.id'''\n",
    "usage = pd.DataFrame(sql.execute(q))"
   ]
  },
  {
   "cell_type": "code",
   "execution_count": 457,
   "metadata": {},
   "outputs": [],
   "source": [
    "# query used to extract random samples\n",
    "q = ''' -- insert into manual_sample\n",
    "    with rand_cves as (\n",
    "    select ecosystem, a.id as advisory_id, p.id as package_id, a.type,\n",
    "           row_number() over (partition by ecosystem order by rand()) as rand_sample\n",
    "    from snykvuln.advisory a\n",
    "    join package p on a.package_id = p.id\n",
    "    where a.id in (select advisory_id from fixing_releases)\n",
    "    and year(publish_date) >= 2018\n",
    "            and ecosystem != 'cocoapods'\n",
    "        and a.id in (select distinct advisory_id from advisoryCVE)\n",
    "    ),\n",
    "    rand_noncves as (\n",
    "    select ecosystem, a.id as advisory_id, p.id as package_id, a.type,\n",
    "           row_number() over (partition by ecosystem order by rand()) as rand_sample\n",
    "    from snykvuln.advisory a\n",
    "    join package p on a.package_id = p.id\n",
    "    where a.id in (select advisory_id from fixing_releases)\n",
    "    and year(publish_date) >= 2018\n",
    "            and ecosystem != 'cocoapods'\n",
    "        and a.id not in (select distinct advisory_id from advisoryCVE)\n",
    "    )\n",
    "        select * from\n",
    "    (select ecosystem, advisory_id, package_id, type\n",
    "    from rand_cves\n",
    "    where rand_sample <=25\n",
    "    union\n",
    "    select ecosystem, advisory_id, package_id, type\n",
    "    from rand_noncves\n",
    "    where rand_sample <=25) as sub; '''\n"
   ]
  },
  {
   "cell_type": "code",
   "execution_count": 458,
   "metadata": {},
   "outputs": [
    {
     "data": {
      "text/plain": [
       "['Total', 350, 285, '465 (499)', 499, 68]"
      ]
     },
     "execution_count": 458,
     "metadata": {},
     "output_type": "execute_result"
    }
   ],
   "source": [
    "q='''select *,\n",
    "       case\n",
    "            when exists(select * from advisoryCVE aC where aC.advisory_id = ms.advisory_id)\n",
    "            then 'CVE'\n",
    "            else 'non-CVE'\n",
    "        end as if_cve\n",
    "from manual_sample ms\n",
    "join fixing_releases fr on ms.advisory_id = fr.advisory_id\n",
    "join advisoryCWE ac on fr.advisory_id = ac.advisory_id\n",
    "where version != 'manual checkup needed';'''\n",
    "df = pd.DataFrame(sql.execute(q))\n",
    "manualsample_sql = df\n",
    "total_types= df['type'].nunique()\n",
    "total = ['Total', \n",
    "            df['advisory_id'].nunique(),\n",
    "            #str(df['advisory_id'].nunique()) +' (' +str(df[df['if_cve']=='non-CVE']['advisory_id'].nunique()) + ')', \n",
    "            df['package_id'].nunique(), \n",
    "            str(len(df.groupby(['package_id','version']))) +' (' + str(len(df.groupby(['advisory_id','package_id','version']))) +')', \n",
    "            len(df.groupby(['advisory_id','package_id','version'])), df['cwe'].nunique()]\n",
    "total"
   ]
  },
  {
   "cell_type": "code",
   "execution_count": 459,
   "metadata": {},
   "outputs": [
    {
     "data": {
      "text/html": [
       "<div>\n",
       "<style scoped>\n",
       "    .dataframe tbody tr th:only-of-type {\n",
       "        vertical-align: middle;\n",
       "    }\n",
       "\n",
       "    .dataframe tbody tr th {\n",
       "        vertical-align: top;\n",
       "    }\n",
       "\n",
       "    .dataframe thead th {\n",
       "        text-align: right;\n",
       "    }\n",
       "</style>\n",
       "<table border=\"1\" class=\"dataframe\">\n",
       "  <thead>\n",
       "    <tr style=\"text-align: right;\">\n",
       "      <th></th>\n",
       "      <th>ecosystem</th>\n",
       "      <th>advisory</th>\n",
       "      <th>package</th>\n",
       "      <th>distinct releases</th>\n",
       "      <th>releases</th>\n",
       "    </tr>\n",
       "  </thead>\n",
       "  <tbody>\n",
       "    <tr>\n",
       "      <th>0</th>\n",
       "      <td>Composer</td>\n",
       "      <td>50</td>\n",
       "      <td>30</td>\n",
       "      <td>72 (98)</td>\n",
       "      <td>98</td>\n",
       "    </tr>\n",
       "    <tr>\n",
       "      <th>1</th>\n",
       "      <td>Go</td>\n",
       "      <td>50</td>\n",
       "      <td>49</td>\n",
       "      <td>65 (66)</td>\n",
       "      <td>66</td>\n",
       "    </tr>\n",
       "    <tr>\n",
       "      <th>2</th>\n",
       "      <td>Maven</td>\n",
       "      <td>50</td>\n",
       "      <td>49</td>\n",
       "      <td>76 (76)</td>\n",
       "      <td>76</td>\n",
       "    </tr>\n",
       "    <tr>\n",
       "      <th>3</th>\n",
       "      <td>NuGet</td>\n",
       "      <td>50</td>\n",
       "      <td>28</td>\n",
       "      <td>56 (60)</td>\n",
       "      <td>60</td>\n",
       "    </tr>\n",
       "    <tr>\n",
       "      <th>4</th>\n",
       "      <td>RubyGems</td>\n",
       "      <td>50</td>\n",
       "      <td>40</td>\n",
       "      <td>65 (65)</td>\n",
       "      <td>65</td>\n",
       "    </tr>\n",
       "    <tr>\n",
       "      <th>5</th>\n",
       "      <td>npm</td>\n",
       "      <td>50</td>\n",
       "      <td>44</td>\n",
       "      <td>70 (70)</td>\n",
       "      <td>70</td>\n",
       "    </tr>\n",
       "    <tr>\n",
       "      <th>6</th>\n",
       "      <td>pip</td>\n",
       "      <td>50</td>\n",
       "      <td>45</td>\n",
       "      <td>61 (64)</td>\n",
       "      <td>64</td>\n",
       "    </tr>\n",
       "  </tbody>\n",
       "</table>\n",
       "</div>"
      ],
      "text/plain": [
       "  ecosystem  advisory  package distinct releases  releases\n",
       "0  Composer        50       30           72 (98)        98\n",
       "1        Go        50       49           65 (66)        66\n",
       "2     Maven        50       49           76 (76)        76\n",
       "3     NuGet        50       28           56 (60)        60\n",
       "4  RubyGems        50       40           65 (65)        65\n",
       "5       npm        50       44           70 (70)        70\n",
       "6       pip        50       45           61 (64)        64"
      ]
     },
     "execution_count": 459,
     "metadata": {},
     "output_type": "execute_result"
    }
   ],
   "source": [
    "advisory = df.groupby('ecosystem')[['advisory_id']].nunique()\n",
    "package = df.groupby('ecosystem')[['package_id']].nunique()\n",
    "noncve = (df.loc[df['if_cve']=='non-CVE']).groupby('ecosystem')[['advisory_id']].nunique()\n",
    "releases = df.groupby(['ecosystem','package_id','version']).size().groupby(level=0).size()\n",
    "releases = releases.reset_index()\n",
    "total_rel = df.groupby(['ecosystem','advisory_id','package_id','version']).size().groupby(level=0).size()\n",
    "total_rel = total_rel.reset_index()\n",
    "df=reduce(lambda x,y : pd.merge(x,y,on='ecosystem'),[advisory,package,noncve,releases, total_rel])\n",
    "df.columns = ['ecosystem','advisory', 'package', 'non-cve','distinct releases', 'releases']\n",
    "# df['advisory'] = df['advisory'].map(str) + ' (' + df['non-cve'].map(str) + ')'\n",
    "df['distinct releases'] = df['distinct releases'].map(str) + ' (' + df['releases'].map(str) + ')'\n",
    "df = df.drop(['non-cve'], axis =1)\n",
    "df"
   ]
  },
  {
   "cell_type": "code",
   "execution_count": 460,
   "metadata": {},
   "outputs": [],
   "source": [
    "q = '''select p.ecosystem, ac.cwe as cwe\n",
    "from manual_sample ms\n",
    "join advisoryCWE aC on ms.advisory_id = aC.advisory_id\n",
    "join advisory a on aC.advisory_id = a.id\n",
    "join package p on a.package_id = p.id;'''\n",
    "cwe = pd.DataFrame(sql.execute(q))\n",
    "total_cwes = cwe['cwe'].nunique()\n",
    "cwe = cwe.groupby('ecosystem')[['cwe']].nunique()"
   ]
  },
  {
   "cell_type": "code",
   "execution_count": 461,
   "metadata": {},
   "outputs": [
    {
     "data": {
      "text/html": [
       "<div>\n",
       "<style scoped>\n",
       "    .dataframe tbody tr th:only-of-type {\n",
       "        vertical-align: middle;\n",
       "    }\n",
       "\n",
       "    .dataframe tbody tr th {\n",
       "        vertical-align: top;\n",
       "    }\n",
       "\n",
       "    .dataframe thead th {\n",
       "        text-align: right;\n",
       "    }\n",
       "</style>\n",
       "<table border=\"1\" class=\"dataframe\">\n",
       "  <thead>\n",
       "    <tr style=\"text-align: right;\">\n",
       "      <th></th>\n",
       "      <th>ecosystem</th>\n",
       "      <th>advisory</th>\n",
       "      <th>package</th>\n",
       "      <th>distinct releases</th>\n",
       "      <th>releases</th>\n",
       "      <th>cwe</th>\n",
       "    </tr>\n",
       "  </thead>\n",
       "  <tbody>\n",
       "    <tr>\n",
       "      <th>0</th>\n",
       "      <td>Composer</td>\n",
       "      <td>50</td>\n",
       "      <td>30</td>\n",
       "      <td>72 (98)</td>\n",
       "      <td>98</td>\n",
       "      <td>18</td>\n",
       "    </tr>\n",
       "    <tr>\n",
       "      <th>1</th>\n",
       "      <td>Go</td>\n",
       "      <td>50</td>\n",
       "      <td>49</td>\n",
       "      <td>65 (66)</td>\n",
       "      <td>66</td>\n",
       "      <td>25</td>\n",
       "    </tr>\n",
       "    <tr>\n",
       "      <th>2</th>\n",
       "      <td>Maven</td>\n",
       "      <td>50</td>\n",
       "      <td>49</td>\n",
       "      <td>76 (76)</td>\n",
       "      <td>76</td>\n",
       "      <td>25</td>\n",
       "    </tr>\n",
       "    <tr>\n",
       "      <th>3</th>\n",
       "      <td>NuGet</td>\n",
       "      <td>50</td>\n",
       "      <td>28</td>\n",
       "      <td>56 (60)</td>\n",
       "      <td>60</td>\n",
       "      <td>14</td>\n",
       "    </tr>\n",
       "    <tr>\n",
       "      <th>4</th>\n",
       "      <td>RubyGems</td>\n",
       "      <td>50</td>\n",
       "      <td>40</td>\n",
       "      <td>65 (65)</td>\n",
       "      <td>65</td>\n",
       "      <td>20</td>\n",
       "    </tr>\n",
       "    <tr>\n",
       "      <th>5</th>\n",
       "      <td>npm</td>\n",
       "      <td>50</td>\n",
       "      <td>44</td>\n",
       "      <td>70 (70)</td>\n",
       "      <td>70</td>\n",
       "      <td>18</td>\n",
       "    </tr>\n",
       "    <tr>\n",
       "      <th>6</th>\n",
       "      <td>pip</td>\n",
       "      <td>50</td>\n",
       "      <td>45</td>\n",
       "      <td>61 (64)</td>\n",
       "      <td>64</td>\n",
       "      <td>31</td>\n",
       "    </tr>\n",
       "  </tbody>\n",
       "</table>\n",
       "</div>"
      ],
      "text/plain": [
       "  ecosystem  advisory  package distinct releases  releases  cwe\n",
       "0  Composer        50       30           72 (98)        98   18\n",
       "1        Go        50       49           65 (66)        66   25\n",
       "2     Maven        50       49           76 (76)        76   25\n",
       "3     NuGet        50       28           56 (60)        60   14\n",
       "4  RubyGems        50       40           65 (65)        65   20\n",
       "5       npm        50       44           70 (70)        70   18\n",
       "6       pip        50       45           61 (64)        64   31"
      ]
     },
     "execution_count": 461,
     "metadata": {},
     "output_type": "execute_result"
    }
   ],
   "source": [
    "df=reduce(lambda x,y : pd.merge(x,y,on='ecosystem'),[df, cwe])\n",
    "df"
   ]
  },
  {
   "cell_type": "code",
   "execution_count": 462,
   "metadata": {},
   "outputs": [
    {
     "data": {
      "text/html": [
       "<div>\n",
       "<style scoped>\n",
       "    .dataframe tbody tr th:only-of-type {\n",
       "        vertical-align: middle;\n",
       "    }\n",
       "\n",
       "    .dataframe tbody tr th {\n",
       "        vertical-align: top;\n",
       "    }\n",
       "\n",
       "    .dataframe thead th {\n",
       "        text-align: right;\n",
       "    }\n",
       "</style>\n",
       "<table border=\"1\" class=\"dataframe\">\n",
       "  <thead>\n",
       "    <tr style=\"text-align: right;\">\n",
       "      <th></th>\n",
       "      <th>ecosystem</th>\n",
       "      <th>advisory</th>\n",
       "      <th>package</th>\n",
       "      <th>distinct releases</th>\n",
       "      <th>releases</th>\n",
       "      <th>cwe</th>\n",
       "    </tr>\n",
       "  </thead>\n",
       "  <tbody>\n",
       "    <tr>\n",
       "      <th>0</th>\n",
       "      <td>Composer</td>\n",
       "      <td>50</td>\n",
       "      <td>30</td>\n",
       "      <td>72 (98)</td>\n",
       "      <td>98</td>\n",
       "      <td>18</td>\n",
       "    </tr>\n",
       "    <tr>\n",
       "      <th>1</th>\n",
       "      <td>Go</td>\n",
       "      <td>50</td>\n",
       "      <td>49</td>\n",
       "      <td>65 (66)</td>\n",
       "      <td>66</td>\n",
       "      <td>25</td>\n",
       "    </tr>\n",
       "    <tr>\n",
       "      <th>2</th>\n",
       "      <td>Maven</td>\n",
       "      <td>50</td>\n",
       "      <td>49</td>\n",
       "      <td>76 (76)</td>\n",
       "      <td>76</td>\n",
       "      <td>25</td>\n",
       "    </tr>\n",
       "    <tr>\n",
       "      <th>3</th>\n",
       "      <td>NuGet</td>\n",
       "      <td>50</td>\n",
       "      <td>28</td>\n",
       "      <td>56 (60)</td>\n",
       "      <td>60</td>\n",
       "      <td>14</td>\n",
       "    </tr>\n",
       "    <tr>\n",
       "      <th>4</th>\n",
       "      <td>RubyGems</td>\n",
       "      <td>50</td>\n",
       "      <td>40</td>\n",
       "      <td>65 (65)</td>\n",
       "      <td>65</td>\n",
       "      <td>20</td>\n",
       "    </tr>\n",
       "    <tr>\n",
       "      <th>5</th>\n",
       "      <td>npm</td>\n",
       "      <td>50</td>\n",
       "      <td>44</td>\n",
       "      <td>70 (70)</td>\n",
       "      <td>70</td>\n",
       "      <td>18</td>\n",
       "    </tr>\n",
       "    <tr>\n",
       "      <th>6</th>\n",
       "      <td>pip</td>\n",
       "      <td>50</td>\n",
       "      <td>45</td>\n",
       "      <td>61 (64)</td>\n",
       "      <td>64</td>\n",
       "      <td>31</td>\n",
       "    </tr>\n",
       "    <tr>\n",
       "      <th>7</th>\n",
       "      <td>Total</td>\n",
       "      <td>350</td>\n",
       "      <td>285</td>\n",
       "      <td>465 (499)</td>\n",
       "      <td>499</td>\n",
       "      <td>68</td>\n",
       "    </tr>\n",
       "  </tbody>\n",
       "</table>\n",
       "</div>"
      ],
      "text/plain": [
       "  ecosystem  advisory  package distinct releases  releases  cwe\n",
       "0  Composer        50       30           72 (98)        98   18\n",
       "1        Go        50       49           65 (66)        66   25\n",
       "2     Maven        50       49           76 (76)        76   25\n",
       "3     NuGet        50       28           56 (60)        60   14\n",
       "4  RubyGems        50       40           65 (65)        65   20\n",
       "5       npm        50       44           70 (70)        70   18\n",
       "6       pip        50       45           61 (64)        64   31\n",
       "7     Total       350      285         465 (499)       499   68"
      ]
     },
     "execution_count": 462,
     "metadata": {},
     "output_type": "execute_result"
    }
   ],
   "source": [
    "df.loc[len(df)] = total\n",
    "df"
   ]
  },
  {
   "cell_type": "code",
   "execution_count": 463,
   "metadata": {},
   "outputs": [
    {
     "name": "stdout",
     "output_type": "stream",
     "text": [
      "\\begin{tabular}{lrrlrr}\n",
      "\\hline\n",
      " ecosystem   &   advisory &   package & distinct releases   &   releases &   cwe \\\\\n",
      "\\hline\n",
      " Composer    &         50 &        30 & 72 (98)             &         98 &    18 \\\\\n",
      " Go          &         50 &        49 & 65 (66)             &         66 &    25 \\\\\n",
      " Maven       &         50 &        49 & 76 (76)             &         76 &    25 \\\\\n",
      " NuGet       &         50 &        28 & 56 (60)             &         60 &    14 \\\\\n",
      " RubyGems    &         50 &        40 & 65 (65)             &         65 &    20 \\\\\n",
      " npm         &         50 &        44 & 70 (70)             &         70 &    18 \\\\\n",
      " pip         &         50 &        45 & 61 (64)             &         64 &    31 \\\\\n",
      " Total       &        350 &       285 & 465 (499)           &        499 &    68 \\\\\n",
      "\\hline\n",
      "\\end{tabular}\n"
     ]
    }
   ],
   "source": [
    "print(tabulate(df, tablefmt='latex', headers='keys',showindex=False))"
   ]
  },
  {
   "cell_type": "code",
   "execution_count": 464,
   "metadata": {},
   "outputs": [
    {
     "data": {
      "text/plain": [
       "499"
      ]
     },
     "execution_count": 464,
     "metadata": {},
     "output_type": "execute_result"
    }
   ],
   "source": [
    "csv = pd.read_csv('final-frozen.csv')\n",
    "# csv = csv.rename(columns = {'Is there a documentation source?': 'is_doc','is the fix mentioned?':'is_fix', 'is there unrelated change mentioned?': 'is_uc', 'is breaking change mentioned?':'is_br' , 'main source' :'source', 'How is the fix mentioned? (final codes); separated by semicolon':'fix_pattern',\n",
    "# 'how the breaking change is mentioned? (final codes); separated by semicolon':'breaking_pattern'})\n",
    "\n",
    "len(csv)"
   ]
  },
  {
   "cell_type": "code",
   "execution_count": 465,
   "metadata": {},
   "outputs": [
    {
     "data": {
      "text/html": [
       "<div>\n",
       "<style scoped>\n",
       "    .dataframe tbody tr th:only-of-type {\n",
       "        vertical-align: middle;\n",
       "    }\n",
       "\n",
       "    .dataframe tbody tr th {\n",
       "        vertical-align: top;\n",
       "    }\n",
       "\n",
       "    .dataframe thead th {\n",
       "        text-align: right;\n",
       "    }\n",
       "</style>\n",
       "<table border=\"1\" class=\"dataframe\">\n",
       "  <thead>\n",
       "    <tr style=\"text-align: right;\">\n",
       "      <th></th>\n",
       "      <th>snyk_id</th>\n",
       "      <th>vulnerability type</th>\n",
       "      <th>ecosystem</th>\n",
       "      <th>package</th>\n",
       "      <th>security release</th>\n",
       "      <th>repository_url</th>\n",
       "      <th>possible release note</th>\n",
       "      <th>possible changelogs</th>\n",
       "      <th>link</th>\n",
       "      <th>is_doc</th>\n",
       "      <th>...</th>\n",
       "      <th>is_uc</th>\n",
       "      <th>is_br</th>\n",
       "      <th>how the breaking change is mentioned? (initial codes); separated by semicolon</th>\n",
       "      <th>breaking_pattern</th>\n",
       "      <th>Additional Comments</th>\n",
       "      <th>row</th>\n",
       "      <th>agreed</th>\n",
       "      <th>external_codes</th>\n",
       "      <th>Unnamed: 23</th>\n",
       "      <th>Unnamed: 24</th>\n",
       "    </tr>\n",
       "  </thead>\n",
       "  <tbody>\n",
       "    <tr>\n",
       "      <th>6</th>\n",
       "      <td>npm:jsviews:20160320</td>\n",
       "      <td>Template Injection</td>\n",
       "      <td>npm</td>\n",
       "      <td>jsviews</td>\n",
       "      <td>0.9.74</td>\n",
       "      <td>https://github.com/borismoore/jsviews</td>\n",
       "      <td>https://github.com/BorisMoore/jsviews/releases...</td>\n",
       "      <td>no changlog found in script</td>\n",
       "      <td>https://snyk.io/vuln/npm:jsviews:20160320</td>\n",
       "      <td>y</td>\n",
       "      <td>...</td>\n",
       "      <td>n</td>\n",
       "      <td>n</td>\n",
       "      <td>NaN</td>\n",
       "      <td>NaN</td>\n",
       "      <td>release commit include the fix</td>\n",
       "      <td>8</td>\n",
       "      <td>yes</td>\n",
       "      <td>NaN</td>\n",
       "      <td>NaN</td>\n",
       "      <td>NaN</td>\n",
       "    </tr>\n",
       "    <tr>\n",
       "      <th>123</th>\n",
       "      <td>SNYK-GOLANG-K8SIOKUBERNETESPKGKUBELETSERVER-56...</td>\n",
       "      <td>Denial of Service (DoS)</td>\n",
       "      <td>Go</td>\n",
       "      <td>k8s.io/kubernetes/pkg/kubelet/server</td>\n",
       "      <td>1.17.2</td>\n",
       "      <td>https://github.com/kubernetes/kubernetes</td>\n",
       "      <td>https://github.com/kubernetes/kubernetes/relea...</td>\n",
       "      <td>https://github.com/kubernetes/kubernetes/blob/...</td>\n",
       "      <td>https://snyk.io/vuln/SNYK-GOLANG-K8SIOKUBERNET...</td>\n",
       "      <td>y</td>\n",
       "      <td>...</td>\n",
       "      <td>n</td>\n",
       "      <td>n</td>\n",
       "      <td>NaN</td>\n",
       "      <td>NaN</td>\n",
       "      <td>wtf? no notable changes</td>\n",
       "      <td>126</td>\n",
       "      <td>resolved</td>\n",
       "      <td>f</td>\n",
       "      <td>NaN</td>\n",
       "      <td>NaN</td>\n",
       "    </tr>\n",
       "    <tr>\n",
       "      <th>144</th>\n",
       "      <td>SNYK-JAVA-ORGAPACHEJACKRABBIT-460325</td>\n",
       "      <td>Cross-site Scripting (XSS)</td>\n",
       "      <td>Maven</td>\n",
       "      <td>org.apache.jackrabbit:jackrabbit-jcr-commons</td>\n",
       "      <td>2.10.2</td>\n",
       "      <td>https://github.com/apache/jackrabbit</td>\n",
       "      <td>not found through script</td>\n",
       "      <td>https://github.com/apache/jackrabbit/blob/mast...</td>\n",
       "      <td>https://snyk.io/vuln/SNYK-JAVA-ORGAPACHEJACKRA...</td>\n",
       "      <td>y</td>\n",
       "      <td>...</td>\n",
       "      <td>n</td>\n",
       "      <td>n</td>\n",
       "      <td>NaN</td>\n",
       "      <td>NaN</td>\n",
       "      <td>NaN</td>\n",
       "      <td>147</td>\n",
       "      <td>resolved</td>\n",
       "      <td>f</td>\n",
       "      <td>NaN</td>\n",
       "      <td>NaN</td>\n",
       "    </tr>\n",
       "    <tr>\n",
       "      <th>145</th>\n",
       "      <td>SNYK-JAVA-ORGAPACHEJACKRABBIT-460325</td>\n",
       "      <td>Cross-site Scripting (XSS)</td>\n",
       "      <td>Maven</td>\n",
       "      <td>org.apache.jackrabbit:jackrabbit-jcr-commons</td>\n",
       "      <td>2.12.1</td>\n",
       "      <td>https://github.com/apache/jackrabbit</td>\n",
       "      <td>not found through script</td>\n",
       "      <td>https://github.com/apache/jackrabbit/blob/mast...</td>\n",
       "      <td>https://snyk.io/vuln/SNYK-JAVA-ORGAPACHEJACKRA...</td>\n",
       "      <td>y</td>\n",
       "      <td>...</td>\n",
       "      <td>n</td>\n",
       "      <td>n</td>\n",
       "      <td>NaN</td>\n",
       "      <td>NaN</td>\n",
       "      <td>NaN</td>\n",
       "      <td>148</td>\n",
       "      <td>resolved</td>\n",
       "      <td>f</td>\n",
       "      <td>NaN</td>\n",
       "      <td>NaN</td>\n",
       "    </tr>\n",
       "    <tr>\n",
       "      <th>148</th>\n",
       "      <td>SNYK-JAVA-ORGAPACHEJACKRABBIT-460325</td>\n",
       "      <td>Cross-site Scripting (XSS)</td>\n",
       "      <td>Maven</td>\n",
       "      <td>org.apache.jackrabbit:jackrabbit-jcr-commons</td>\n",
       "      <td>2.8.2</td>\n",
       "      <td>https://github.com/apache/jackrabbit</td>\n",
       "      <td>not found through script</td>\n",
       "      <td>https://github.com/apache/jackrabbit/blob/mast...</td>\n",
       "      <td>https://snyk.io/vuln/SNYK-JAVA-ORGAPACHEJACKRA...</td>\n",
       "      <td>y</td>\n",
       "      <td>...</td>\n",
       "      <td>n</td>\n",
       "      <td>n</td>\n",
       "      <td>NaN</td>\n",
       "      <td>NaN</td>\n",
       "      <td>NaN</td>\n",
       "      <td>151</td>\n",
       "      <td>resolved</td>\n",
       "      <td>f</td>\n",
       "      <td>NaN</td>\n",
       "      <td>NaN</td>\n",
       "    </tr>\n",
       "    <tr>\n",
       "      <th>196</th>\n",
       "      <td>SNYK-JS-ACTIONSCORE-1015402</td>\n",
       "      <td>Improper Input Validation</td>\n",
       "      <td>npm</td>\n",
       "      <td>@actions/core</td>\n",
       "      <td>1.2.6</td>\n",
       "      <td>https://github.com/actions/toolkit/tree/master...</td>\n",
       "      <td>not found through script</td>\n",
       "      <td>https://github.com/actions/toolkit/blob/master...</td>\n",
       "      <td>https://snyk.io/vuln/SNYK-JS-ACTIONSCORE-1015402</td>\n",
       "      <td>y</td>\n",
       "      <td>...</td>\n",
       "      <td>n</td>\n",
       "      <td>n</td>\n",
       "      <td>NaN</td>\n",
       "      <td>NaN</td>\n",
       "      <td>discussed offline? sneaky?</td>\n",
       "      <td>204</td>\n",
       "      <td>yes</td>\n",
       "      <td>NaN</td>\n",
       "      <td>NaN</td>\n",
       "      <td>NaN</td>\n",
       "    </tr>\n",
       "    <tr>\n",
       "      <th>329</th>\n",
       "      <td>SNYK-PYTHON-APACHESUPERSET-1014658</td>\n",
       "      <td>Information Exposure</td>\n",
       "      <td>pip</td>\n",
       "      <td>apache-superset</td>\n",
       "      <td>0.37.2</td>\n",
       "      <td>https://github.com/apache/superset</td>\n",
       "      <td>https://github.com/apache/superset/releases/ta...</td>\n",
       "      <td>https://github.com/apache/superset/blob/master...</td>\n",
       "      <td>https://snyk.io/vuln/SNYK-PYTHON-APACHESUPERSE...</td>\n",
       "      <td>y</td>\n",
       "      <td>...</td>\n",
       "      <td>n</td>\n",
       "      <td>n</td>\n",
       "      <td>NaN</td>\n",
       "      <td>NaN</td>\n",
       "      <td>NaN</td>\n",
       "      <td>365</td>\n",
       "      <td>yes</td>\n",
       "      <td>y</td>\n",
       "      <td>NaN</td>\n",
       "      <td>NaN</td>\n",
       "    </tr>\n",
       "    <tr>\n",
       "      <th>428</th>\n",
       "      <td>SNYK-RUBY-SPREEBACKEND-20476</td>\n",
       "      <td>Cross-site Scripting (XSS)</td>\n",
       "      <td>RubyGems</td>\n",
       "      <td>spree_backend</td>\n",
       "      <td>1.1.3</td>\n",
       "      <td>https://github.com/spree/spree</td>\n",
       "      <td>not found through script</td>\n",
       "      <td>https://github.com/spree/spree/blob/master/CHA...</td>\n",
       "      <td>https://snyk.io/vuln/SNYK-RUBY-SPREEBACKEND-20476</td>\n",
       "      <td>y</td>\n",
       "      <td>...</td>\n",
       "      <td>n</td>\n",
       "      <td>n</td>\n",
       "      <td>NaN</td>\n",
       "      <td>NaN</td>\n",
       "      <td>why no cve</td>\n",
       "      <td>474</td>\n",
       "      <td>yes</td>\n",
       "      <td>y</td>\n",
       "      <td>NaN</td>\n",
       "      <td>NaN</td>\n",
       "    </tr>\n",
       "  </tbody>\n",
       "</table>\n",
       "<p>8 rows × 26 columns</p>\n",
       "</div>"
      ],
      "text/plain": [
       "                                               snyk_id  \\\n",
       "6                                 npm:jsviews:20160320   \n",
       "123  SNYK-GOLANG-K8SIOKUBERNETESPKGKUBELETSERVER-56...   \n",
       "144               SNYK-JAVA-ORGAPACHEJACKRABBIT-460325   \n",
       "145               SNYK-JAVA-ORGAPACHEJACKRABBIT-460325   \n",
       "148               SNYK-JAVA-ORGAPACHEJACKRABBIT-460325   \n",
       "196                        SNYK-JS-ACTIONSCORE-1015402   \n",
       "329                 SNYK-PYTHON-APACHESUPERSET-1014658   \n",
       "428                       SNYK-RUBY-SPREEBACKEND-20476   \n",
       "\n",
       "             vulnerability type ecosystem  \\\n",
       "6            Template Injection       npm   \n",
       "123     Denial of Service (DoS)        Go   \n",
       "144  Cross-site Scripting (XSS)     Maven   \n",
       "145  Cross-site Scripting (XSS)     Maven   \n",
       "148  Cross-site Scripting (XSS)     Maven   \n",
       "196   Improper Input Validation       npm   \n",
       "329        Information Exposure       pip   \n",
       "428  Cross-site Scripting (XSS)  RubyGems   \n",
       "\n",
       "                                          package security release  \\\n",
       "6                                         jsviews           0.9.74   \n",
       "123          k8s.io/kubernetes/pkg/kubelet/server           1.17.2   \n",
       "144  org.apache.jackrabbit:jackrabbit-jcr-commons           2.10.2   \n",
       "145  org.apache.jackrabbit:jackrabbit-jcr-commons           2.12.1   \n",
       "148  org.apache.jackrabbit:jackrabbit-jcr-commons            2.8.2   \n",
       "196                                 @actions/core            1.2.6   \n",
       "329                               apache-superset           0.37.2   \n",
       "428                                 spree_backend            1.1.3   \n",
       "\n",
       "                                        repository_url  \\\n",
       "6                https://github.com/borismoore/jsviews   \n",
       "123           https://github.com/kubernetes/kubernetes   \n",
       "144               https://github.com/apache/jackrabbit   \n",
       "145               https://github.com/apache/jackrabbit   \n",
       "148               https://github.com/apache/jackrabbit   \n",
       "196  https://github.com/actions/toolkit/tree/master...   \n",
       "329                 https://github.com/apache/superset   \n",
       "428                     https://github.com/spree/spree   \n",
       "\n",
       "                                 possible release note  \\\n",
       "6    https://github.com/BorisMoore/jsviews/releases...   \n",
       "123  https://github.com/kubernetes/kubernetes/relea...   \n",
       "144                           not found through script   \n",
       "145                           not found through script   \n",
       "148                           not found through script   \n",
       "196                           not found through script   \n",
       "329  https://github.com/apache/superset/releases/ta...   \n",
       "428                           not found through script   \n",
       "\n",
       "                                   possible changelogs  \\\n",
       "6                          no changlog found in script   \n",
       "123  https://github.com/kubernetes/kubernetes/blob/...   \n",
       "144  https://github.com/apache/jackrabbit/blob/mast...   \n",
       "145  https://github.com/apache/jackrabbit/blob/mast...   \n",
       "148  https://github.com/apache/jackrabbit/blob/mast...   \n",
       "196  https://github.com/actions/toolkit/blob/master...   \n",
       "329  https://github.com/apache/superset/blob/master...   \n",
       "428  https://github.com/spree/spree/blob/master/CHA...   \n",
       "\n",
       "                                                  link is_doc  ... is_uc  \\\n",
       "6            https://snyk.io/vuln/npm:jsviews:20160320      y  ...     n   \n",
       "123  https://snyk.io/vuln/SNYK-GOLANG-K8SIOKUBERNET...      y  ...     n   \n",
       "144  https://snyk.io/vuln/SNYK-JAVA-ORGAPACHEJACKRA...      y  ...     n   \n",
       "145  https://snyk.io/vuln/SNYK-JAVA-ORGAPACHEJACKRA...      y  ...     n   \n",
       "148  https://snyk.io/vuln/SNYK-JAVA-ORGAPACHEJACKRA...      y  ...     n   \n",
       "196   https://snyk.io/vuln/SNYK-JS-ACTIONSCORE-1015402      y  ...     n   \n",
       "329  https://snyk.io/vuln/SNYK-PYTHON-APACHESUPERSE...      y  ...     n   \n",
       "428  https://snyk.io/vuln/SNYK-RUBY-SPREEBACKEND-20476      y  ...     n   \n",
       "\n",
       "    is_br  \\\n",
       "6       n   \n",
       "123     n   \n",
       "144     n   \n",
       "145     n   \n",
       "148     n   \n",
       "196     n   \n",
       "329     n   \n",
       "428     n   \n",
       "\n",
       "    how the breaking change is mentioned? (initial codes); separated by semicolon  \\\n",
       "6                                                  NaN                              \n",
       "123                                                NaN                              \n",
       "144                                                NaN                              \n",
       "145                                                NaN                              \n",
       "148                                                NaN                              \n",
       "196                                                NaN                              \n",
       "329                                                NaN                              \n",
       "428                                                NaN                              \n",
       "\n",
       "    breaking_pattern             Additional Comments  row    agreed  \\\n",
       "6                NaN  release commit include the fix    8       yes   \n",
       "123              NaN         wtf? no notable changes  126  resolved   \n",
       "144              NaN                             NaN  147  resolved   \n",
       "145              NaN                             NaN  148  resolved   \n",
       "148              NaN                             NaN  151  resolved   \n",
       "196              NaN      discussed offline? sneaky?  204       yes   \n",
       "329              NaN                             NaN  365       yes   \n",
       "428              NaN                      why no cve  474       yes   \n",
       "\n",
       "    external_codes Unnamed: 23 Unnamed: 24  \n",
       "6              NaN         NaN         NaN  \n",
       "123              f         NaN         NaN  \n",
       "144              f         NaN         NaN  \n",
       "145              f         NaN         NaN  \n",
       "148              f         NaN         NaN  \n",
       "196            NaN         NaN         NaN  \n",
       "329              y         NaN         NaN  \n",
       "428              y         NaN         NaN  \n",
       "\n",
       "[8 rows x 26 columns]"
      ]
     },
     "execution_count": 465,
     "metadata": {},
     "output_type": "execute_result"
    }
   ],
   "source": [
    "temp = csv[csv['is_doc']=='y']\n",
    "temp = temp[temp['is_fix']=='n']\n",
    "temp = temp[temp['is_uc'] == 'n']\n",
    "temp"
   ]
  },
  {
   "cell_type": "code",
   "execution_count": 466,
   "metadata": {},
   "outputs": [],
   "source": [
    "assert df.iloc[7,4] == len(csv)"
   ]
  },
  {
   "cell_type": "code",
   "execution_count": 467,
   "metadata": {},
   "outputs": [
    {
     "data": {
      "text/html": [
       "<div>\n",
       "<style scoped>\n",
       "    .dataframe tbody tr th:only-of-type {\n",
       "        vertical-align: middle;\n",
       "    }\n",
       "\n",
       "    .dataframe tbody tr th {\n",
       "        vertical-align: top;\n",
       "    }\n",
       "\n",
       "    .dataframe thead th {\n",
       "        text-align: right;\n",
       "    }\n",
       "</style>\n",
       "<table border=\"1\" class=\"dataframe\">\n",
       "  <thead>\n",
       "    <tr style=\"text-align: right;\">\n",
       "      <th></th>\n",
       "      <th>snyk_id</th>\n",
       "      <th>ifcve</th>\n",
       "    </tr>\n",
       "  </thead>\n",
       "  <tbody>\n",
       "    <tr>\n",
       "      <th>0</th>\n",
       "      <td>SNYK-PYTHON-SALT-1080588</td>\n",
       "      <td>cve</td>\n",
       "    </tr>\n",
       "    <tr>\n",
       "      <th>1</th>\n",
       "      <td>SNYK-PYTHON-SALT-1080589</td>\n",
       "      <td>cve</td>\n",
       "    </tr>\n",
       "    <tr>\n",
       "      <th>2</th>\n",
       "      <td>SNYK-PYTHON-SALT-1080590</td>\n",
       "      <td>cve</td>\n",
       "    </tr>\n",
       "    <tr>\n",
       "      <th>3</th>\n",
       "      <td>SNYK-PYTHON-SALT-1080591</td>\n",
       "      <td>cve</td>\n",
       "    </tr>\n",
       "    <tr>\n",
       "      <th>4</th>\n",
       "      <td>SNYK-PYTHON-SALT-1080592</td>\n",
       "      <td>cve</td>\n",
       "    </tr>\n",
       "    <tr>\n",
       "      <th>...</th>\n",
       "      <td>...</td>\n",
       "      <td>...</td>\n",
       "    </tr>\n",
       "    <tr>\n",
       "      <th>6951</th>\n",
       "      <td>SNYK-JS-GETIPRANGE-1073612</td>\n",
       "      <td>cve</td>\n",
       "    </tr>\n",
       "    <tr>\n",
       "      <th>6952</th>\n",
       "      <td>SNYK-JAVA-COMVAADIN-1074927</td>\n",
       "      <td>noncve</td>\n",
       "    </tr>\n",
       "    <tr>\n",
       "      <th>6953</th>\n",
       "      <td>SNYK-JAVA-ORGAPACHEXMLGRAPHICS-1074910</td>\n",
       "      <td>cve</td>\n",
       "    </tr>\n",
       "    <tr>\n",
       "      <th>6954</th>\n",
       "      <td>SNYK-JS-PROGFAYSCRAPBOXPARSER-1076803</td>\n",
       "      <td>cve</td>\n",
       "    </tr>\n",
       "    <tr>\n",
       "      <th>6955</th>\n",
       "      <td>SNYK-JS-TREEKIT-1077068</td>\n",
       "      <td>noncve</td>\n",
       "    </tr>\n",
       "  </tbody>\n",
       "</table>\n",
       "<p>6956 rows × 2 columns</p>\n",
       "</div>"
      ],
      "text/plain": [
       "                                     snyk_id   ifcve\n",
       "0                   SNYK-PYTHON-SALT-1080588     cve\n",
       "1                   SNYK-PYTHON-SALT-1080589     cve\n",
       "2                   SNYK-PYTHON-SALT-1080590     cve\n",
       "3                   SNYK-PYTHON-SALT-1080591     cve\n",
       "4                   SNYK-PYTHON-SALT-1080592     cve\n",
       "...                                      ...     ...\n",
       "6951              SNYK-JS-GETIPRANGE-1073612     cve\n",
       "6952             SNYK-JAVA-COMVAADIN-1074927  noncve\n",
       "6953  SNYK-JAVA-ORGAPACHEXMLGRAPHICS-1074910     cve\n",
       "6954   SNYK-JS-PROGFAYSCRAPBOXPARSER-1076803     cve\n",
       "6955                 SNYK-JS-TREEKIT-1077068  noncve\n",
       "\n",
       "[6956 rows x 2 columns]"
      ]
     },
     "execution_count": 467,
     "metadata": {},
     "output_type": "execute_result"
    }
   ],
   "source": [
    "q='''select id as snyk_id,\n",
    "       case\n",
    "        when id in (select advisory_id from advisoryCVE) then 'cve'\n",
    "        else 'noncve'\n",
    "end as ifcve\n",
    "from advisory;'''\n",
    "ifcve = pd.DataFrame(sql.execute(q))\n",
    "ifcve"
   ]
  },
  {
   "cell_type": "code",
   "execution_count": 468,
   "metadata": {},
   "outputs": [
    {
     "data": {
      "text/html": [
       "<div>\n",
       "<style scoped>\n",
       "    .dataframe tbody tr th:only-of-type {\n",
       "        vertical-align: middle;\n",
       "    }\n",
       "\n",
       "    .dataframe tbody tr th {\n",
       "        vertical-align: top;\n",
       "    }\n",
       "\n",
       "    .dataframe thead th {\n",
       "        text-align: right;\n",
       "    }\n",
       "</style>\n",
       "<table border=\"1\" class=\"dataframe\">\n",
       "  <thead>\n",
       "    <tr style=\"text-align: right;\">\n",
       "      <th></th>\n",
       "      <th>snyk_id</th>\n",
       "      <th>vulnerability type</th>\n",
       "      <th>ecosystem</th>\n",
       "      <th>package</th>\n",
       "      <th>security release</th>\n",
       "      <th>repository_url</th>\n",
       "      <th>possible release note</th>\n",
       "      <th>possible changelogs</th>\n",
       "      <th>link</th>\n",
       "      <th>is_doc</th>\n",
       "      <th>...</th>\n",
       "      <th>is_br</th>\n",
       "      <th>how the breaking change is mentioned? (initial codes); separated by semicolon</th>\n",
       "      <th>breaking_pattern</th>\n",
       "      <th>Additional Comments</th>\n",
       "      <th>row</th>\n",
       "      <th>agreed</th>\n",
       "      <th>external_codes</th>\n",
       "      <th>Unnamed: 23</th>\n",
       "      <th>Unnamed: 24</th>\n",
       "      <th>ifcve</th>\n",
       "    </tr>\n",
       "  </thead>\n",
       "  <tbody>\n",
       "    <tr>\n",
       "      <th>0</th>\n",
       "      <td>npm:address-rfc2822:20180225</td>\n",
       "      <td>Regular Expression Denial of Service (ReDoS)</td>\n",
       "      <td>npm</td>\n",
       "      <td>address-rfc2822</td>\n",
       "      <td>2.0.2</td>\n",
       "      <td>https://github.com/haraka/node-address-rfc2822</td>\n",
       "      <td>not found through script</td>\n",
       "      <td>https://github.com/haraka/node-address-rfc2822...</td>\n",
       "      <td>https://snyk.io/vuln/npm:address-rfc2822:20180225</td>\n",
       "      <td>y</td>\n",
       "      <td>...</td>\n",
       "      <td>n</td>\n",
       "      <td>NaN</td>\n",
       "      <td>NaN</td>\n",
       "      <td>NaN</td>\n",
       "      <td>2</td>\n",
       "      <td>yes</td>\n",
       "      <td>NaN</td>\n",
       "      <td>NaN</td>\n",
       "      <td>NaN</td>\n",
       "      <td>noncve</td>\n",
       "    </tr>\n",
       "    <tr>\n",
       "      <th>1</th>\n",
       "      <td>npm:angular-jwt:20180605</td>\n",
       "      <td>Access Restriction Bypass</td>\n",
       "      <td>npm</td>\n",
       "      <td>angular-jwt</td>\n",
       "      <td>0.1.10</td>\n",
       "      <td>https://github.com/auth0/angular-jwt</td>\n",
       "      <td>https://github.com/auth0/angular-jwt/releases/...</td>\n",
       "      <td>https://github.com/auth0/angular-jwt/blob/mast...</td>\n",
       "      <td>https://snyk.io/vuln/npm:angular-jwt:20180605</td>\n",
       "      <td>y</td>\n",
       "      <td>...</td>\n",
       "      <td>n</td>\n",
       "      <td>NaN</td>\n",
       "      <td>NaN</td>\n",
       "      <td>NaN</td>\n",
       "      <td>3</td>\n",
       "      <td>resolved</td>\n",
       "      <td>f</td>\n",
       "      <td>NaN</td>\n",
       "      <td>NaN</td>\n",
       "      <td>cve</td>\n",
       "    </tr>\n",
       "    <tr>\n",
       "      <th>2</th>\n",
       "      <td>npm:braces:20180219</td>\n",
       "      <td>Regular Expression Denial of Service (ReDoS)</td>\n",
       "      <td>npm</td>\n",
       "      <td>braces</td>\n",
       "      <td>2.3.1</td>\n",
       "      <td>https://github.com/micromatch/braces</td>\n",
       "      <td>not found through script</td>\n",
       "      <td>https://github.com/micromatch/braces/blob/mast...</td>\n",
       "      <td>https://snyk.io/vuln/npm:braces:20180219</td>\n",
       "      <td>y</td>\n",
       "      <td>...</td>\n",
       "      <td>n</td>\n",
       "      <td>NaN</td>\n",
       "      <td>NaN</td>\n",
       "      <td>NaN</td>\n",
       "      <td>4</td>\n",
       "      <td>yes</td>\n",
       "      <td>NaN</td>\n",
       "      <td>NaN</td>\n",
       "      <td>NaN</td>\n",
       "      <td>noncve</td>\n",
       "    </tr>\n",
       "    <tr>\n",
       "      <th>3</th>\n",
       "      <td>npm:fastify:20180107</td>\n",
       "      <td>Denial of Service (DoS)</td>\n",
       "      <td>npm</td>\n",
       "      <td>fastify</td>\n",
       "      <td>0.38.0</td>\n",
       "      <td>https://github.com/fastify/fastify</td>\n",
       "      <td>https://github.com/fastify/fastify/releases/ta...</td>\n",
       "      <td>no changlog found in script</td>\n",
       "      <td>https://snyk.io/vuln/npm:fastify:20180107</td>\n",
       "      <td>y</td>\n",
       "      <td>...</td>\n",
       "      <td>y</td>\n",
       "      <td>breaking change notice; pr reference</td>\n",
       "      <td>breaking change notice; code change reference</td>\n",
       "      <td>NaN</td>\n",
       "      <td>5</td>\n",
       "      <td>yes</td>\n",
       "      <td>NaN</td>\n",
       "      <td>NaN</td>\n",
       "      <td>NaN</td>\n",
       "      <td>cve</td>\n",
       "    </tr>\n",
       "    <tr>\n",
       "      <th>4</th>\n",
       "      <td>npm:is-my-json-valid:20180214</td>\n",
       "      <td>Regular Expression Denial of Service (ReDoS)</td>\n",
       "      <td>npm</td>\n",
       "      <td>is-my-json-valid</td>\n",
       "      <td>1.4.1</td>\n",
       "      <td>https://github.com/mafintosh/is-my-json-valid</td>\n",
       "      <td>not found through script</td>\n",
       "      <td>no changlog found in script</td>\n",
       "      <td>https://snyk.io/vuln/npm:is-my-json-valid:2018...</td>\n",
       "      <td>n</td>\n",
       "      <td>...</td>\n",
       "      <td>n</td>\n",
       "      <td>NaN</td>\n",
       "      <td>NaN</td>\n",
       "      <td>the package that does not have a release note,...</td>\n",
       "      <td>6</td>\n",
       "      <td>yes</td>\n",
       "      <td>NaN</td>\n",
       "      <td>NaN</td>\n",
       "      <td>NaN</td>\n",
       "      <td>noncve</td>\n",
       "    </tr>\n",
       "    <tr>\n",
       "      <th>...</th>\n",
       "      <td>...</td>\n",
       "      <td>...</td>\n",
       "      <td>...</td>\n",
       "      <td>...</td>\n",
       "      <td>...</td>\n",
       "      <td>...</td>\n",
       "      <td>...</td>\n",
       "      <td>...</td>\n",
       "      <td>...</td>\n",
       "      <td>...</td>\n",
       "      <td>...</td>\n",
       "      <td>...</td>\n",
       "      <td>...</td>\n",
       "      <td>...</td>\n",
       "      <td>...</td>\n",
       "      <td>...</td>\n",
       "      <td>...</td>\n",
       "      <td>...</td>\n",
       "      <td>...</td>\n",
       "      <td>...</td>\n",
       "      <td>...</td>\n",
       "    </tr>\n",
       "    <tr>\n",
       "      <th>494</th>\n",
       "      <td>SNYK-RUBY-LODASHRAILS-559448</td>\n",
       "      <td>Prototype Pollution</td>\n",
       "      <td>RubyGems</td>\n",
       "      <td>lodash-rails</td>\n",
       "      <td>4.17.11</td>\n",
       "      <td>https://github.com/lodash/lodash</td>\n",
       "      <td>not found through script</td>\n",
       "      <td>https://github.com/lodash/lodash/blob/master/C...</td>\n",
       "      <td>https://snyk.io/vuln/SNYK-RUBY-LODASHRAILS-559448</td>\n",
       "      <td>y</td>\n",
       "      <td>...</td>\n",
       "      <td>n</td>\n",
       "      <td>NaN</td>\n",
       "      <td>NaN</td>\n",
       "      <td>changelog in wiki</td>\n",
       "      <td>438</td>\n",
       "      <td>resolved</td>\n",
       "      <td>d</td>\n",
       "      <td>Nasif could not find the changelog?</td>\n",
       "      <td>NaN</td>\n",
       "      <td>cve</td>\n",
       "    </tr>\n",
       "    <tr>\n",
       "      <th>495</th>\n",
       "      <td>SNYK-RUBY-REDPARQUET-483028</td>\n",
       "      <td>Use of Uninitialized Variable</td>\n",
       "      <td>RubyGems</td>\n",
       "      <td>red-parquet</td>\n",
       "      <td>0.15.1</td>\n",
       "      <td>https://github.com/apache/arrow</td>\n",
       "      <td>not found through script</td>\n",
       "      <td>https://github.com/apache/arrow/blob/master/CH...</td>\n",
       "      <td>https://snyk.io/vuln/SNYK-RUBY-REDPARQUET-483028</td>\n",
       "      <td>y</td>\n",
       "      <td>...</td>\n",
       "      <td>n</td>\n",
       "      <td>NaN</td>\n",
       "      <td>NaN</td>\n",
       "      <td>automatically genrated?</td>\n",
       "      <td>455</td>\n",
       "      <td>resolved</td>\n",
       "      <td>d</td>\n",
       "      <td>The issue number is listed</td>\n",
       "      <td>NaN</td>\n",
       "      <td>cve</td>\n",
       "    </tr>\n",
       "    <tr>\n",
       "      <th>496</th>\n",
       "      <td>SNYK-DOTNET-FAVICOJS-60151</td>\n",
       "      <td>Cross-site Scripting (XSS)</td>\n",
       "      <td>NuGet</td>\n",
       "      <td>favico.js</td>\n",
       "      <td>0.3.10</td>\n",
       "      <td>https://github.com/ejci/favico.js</td>\n",
       "      <td>not found through script</td>\n",
       "      <td>no changlog found in script</td>\n",
       "      <td>https://snyk.io/vuln/SNYK-DOTNET-FAVICOJS-60151</td>\n",
       "      <td>y</td>\n",
       "      <td>...</td>\n",
       "      <td>n</td>\n",
       "      <td>NaN</td>\n",
       "      <td>NaN</td>\n",
       "      <td>NaN</td>\n",
       "      <td>482</td>\n",
       "      <td>yes</td>\n",
       "      <td>y</td>\n",
       "      <td>is_doc is empty in process-frozen-nasif</td>\n",
       "      <td>NaN</td>\n",
       "      <td>noncve</td>\n",
       "    </tr>\n",
       "    <tr>\n",
       "      <th>497</th>\n",
       "      <td>SNYK-DOTNET-KNOCKOUT-60180</td>\n",
       "      <td>Cross-site Scripting (XSS)</td>\n",
       "      <td>NuGet</td>\n",
       "      <td>knockout</td>\n",
       "      <td>3.0.0</td>\n",
       "      <td>https://github.com/knockout/knockout</td>\n",
       "      <td>https://github.com/knockout/knockout/releases/...</td>\n",
       "      <td>no changlog found in script</td>\n",
       "      <td>https://snyk.io/vuln/SNYK-DOTNET-KNOCKOUT-60180</td>\n",
       "      <td>y</td>\n",
       "      <td>...</td>\n",
       "      <td>y</td>\n",
       "      <td>warning; action required</td>\n",
       "      <td>breaking change notice;action required</td>\n",
       "      <td>NaN</td>\n",
       "      <td>483</td>\n",
       "      <td>yes</td>\n",
       "      <td>y</td>\n",
       "      <td>is_doc is empty in process-frozen-nasif</td>\n",
       "      <td>NaN</td>\n",
       "      <td>noncve</td>\n",
       "    </tr>\n",
       "    <tr>\n",
       "      <th>498</th>\n",
       "      <td>SNYK-DOTNET-RESTIFY-60207</td>\n",
       "      <td>Cross-site Scripting (XSS)</td>\n",
       "      <td>NuGet</td>\n",
       "      <td>restify</td>\n",
       "      <td>4.1.0</td>\n",
       "      <td>https://github.com/restify/node-restify</td>\n",
       "      <td>not found through script</td>\n",
       "      <td>https://github.com/restify/node-restify/blob/m...</td>\n",
       "      <td>https://snyk.io/vuln/SNYK-DOTNET-RESTIFY-60207</td>\n",
       "      <td>n</td>\n",
       "      <td>...</td>\n",
       "      <td>NaN</td>\n",
       "      <td>NaN</td>\n",
       "      <td>NaN</td>\n",
       "      <td>NaN</td>\n",
       "      <td>487</td>\n",
       "      <td>resolved</td>\n",
       "      <td>d</td>\n",
       "      <td>has a changelog, but fix not mentioned</td>\n",
       "      <td>NaN</td>\n",
       "      <td>noncve</td>\n",
       "    </tr>\n",
       "  </tbody>\n",
       "</table>\n",
       "<p>499 rows × 27 columns</p>\n",
       "</div>"
      ],
      "text/plain": [
       "                           snyk_id  \\\n",
       "0     npm:address-rfc2822:20180225   \n",
       "1         npm:angular-jwt:20180605   \n",
       "2              npm:braces:20180219   \n",
       "3             npm:fastify:20180107   \n",
       "4    npm:is-my-json-valid:20180214   \n",
       "..                             ...   \n",
       "494   SNYK-RUBY-LODASHRAILS-559448   \n",
       "495    SNYK-RUBY-REDPARQUET-483028   \n",
       "496     SNYK-DOTNET-FAVICOJS-60151   \n",
       "497     SNYK-DOTNET-KNOCKOUT-60180   \n",
       "498      SNYK-DOTNET-RESTIFY-60207   \n",
       "\n",
       "                               vulnerability type ecosystem           package  \\\n",
       "0    Regular Expression Denial of Service (ReDoS)       npm   address-rfc2822   \n",
       "1                       Access Restriction Bypass       npm       angular-jwt   \n",
       "2    Regular Expression Denial of Service (ReDoS)       npm            braces   \n",
       "3                         Denial of Service (DoS)       npm           fastify   \n",
       "4    Regular Expression Denial of Service (ReDoS)       npm  is-my-json-valid   \n",
       "..                                            ...       ...               ...   \n",
       "494                           Prototype Pollution  RubyGems      lodash-rails   \n",
       "495                 Use of Uninitialized Variable  RubyGems       red-parquet   \n",
       "496                    Cross-site Scripting (XSS)     NuGet         favico.js   \n",
       "497                    Cross-site Scripting (XSS)     NuGet          knockout   \n",
       "498                    Cross-site Scripting (XSS)     NuGet           restify   \n",
       "\n",
       "    security release                                  repository_url  \\\n",
       "0              2.0.2  https://github.com/haraka/node-address-rfc2822   \n",
       "1             0.1.10            https://github.com/auth0/angular-jwt   \n",
       "2              2.3.1            https://github.com/micromatch/braces   \n",
       "3             0.38.0              https://github.com/fastify/fastify   \n",
       "4              1.4.1   https://github.com/mafintosh/is-my-json-valid   \n",
       "..               ...                                             ...   \n",
       "494          4.17.11                https://github.com/lodash/lodash   \n",
       "495           0.15.1                 https://github.com/apache/arrow   \n",
       "496           0.3.10               https://github.com/ejci/favico.js   \n",
       "497            3.0.0            https://github.com/knockout/knockout   \n",
       "498            4.1.0         https://github.com/restify/node-restify   \n",
       "\n",
       "                                 possible release note  \\\n",
       "0                             not found through script   \n",
       "1    https://github.com/auth0/angular-jwt/releases/...   \n",
       "2                             not found through script   \n",
       "3    https://github.com/fastify/fastify/releases/ta...   \n",
       "4                             not found through script   \n",
       "..                                                 ...   \n",
       "494                           not found through script   \n",
       "495                           not found through script   \n",
       "496                           not found through script   \n",
       "497  https://github.com/knockout/knockout/releases/...   \n",
       "498                           not found through script   \n",
       "\n",
       "                                   possible changelogs  \\\n",
       "0    https://github.com/haraka/node-address-rfc2822...   \n",
       "1    https://github.com/auth0/angular-jwt/blob/mast...   \n",
       "2    https://github.com/micromatch/braces/blob/mast...   \n",
       "3                          no changlog found in script   \n",
       "4                          no changlog found in script   \n",
       "..                                                 ...   \n",
       "494  https://github.com/lodash/lodash/blob/master/C...   \n",
       "495  https://github.com/apache/arrow/blob/master/CH...   \n",
       "496                        no changlog found in script   \n",
       "497                        no changlog found in script   \n",
       "498  https://github.com/restify/node-restify/blob/m...   \n",
       "\n",
       "                                                  link is_doc  ... is_br  \\\n",
       "0    https://snyk.io/vuln/npm:address-rfc2822:20180225      y  ...     n   \n",
       "1        https://snyk.io/vuln/npm:angular-jwt:20180605      y  ...     n   \n",
       "2             https://snyk.io/vuln/npm:braces:20180219      y  ...     n   \n",
       "3            https://snyk.io/vuln/npm:fastify:20180107      y  ...     y   \n",
       "4    https://snyk.io/vuln/npm:is-my-json-valid:2018...      n  ...     n   \n",
       "..                                                 ...    ...  ...   ...   \n",
       "494  https://snyk.io/vuln/SNYK-RUBY-LODASHRAILS-559448      y  ...     n   \n",
       "495   https://snyk.io/vuln/SNYK-RUBY-REDPARQUET-483028      y  ...     n   \n",
       "496    https://snyk.io/vuln/SNYK-DOTNET-FAVICOJS-60151      y  ...     n   \n",
       "497    https://snyk.io/vuln/SNYK-DOTNET-KNOCKOUT-60180      y  ...     y   \n",
       "498     https://snyk.io/vuln/SNYK-DOTNET-RESTIFY-60207      n  ...   NaN   \n",
       "\n",
       "    how the breaking change is mentioned? (initial codes); separated by semicolon  \\\n",
       "0                                                  NaN                              \n",
       "1                                                  NaN                              \n",
       "2                                                  NaN                              \n",
       "3                 breaking change notice; pr reference                              \n",
       "4                                                  NaN                              \n",
       "..                                                 ...                              \n",
       "494                                                NaN                              \n",
       "495                                                NaN                              \n",
       "496                                                NaN                              \n",
       "497                           warning; action required                              \n",
       "498                                                NaN                              \n",
       "\n",
       "                                  breaking_pattern  \\\n",
       "0                                              NaN   \n",
       "1                                              NaN   \n",
       "2                                              NaN   \n",
       "3    breaking change notice; code change reference   \n",
       "4                                              NaN   \n",
       "..                                             ...   \n",
       "494                                            NaN   \n",
       "495                                            NaN   \n",
       "496                                            NaN   \n",
       "497         breaking change notice;action required   \n",
       "498                                            NaN   \n",
       "\n",
       "                                   Additional Comments  row    agreed  \\\n",
       "0                                                  NaN    2       yes   \n",
       "1                                                  NaN    3  resolved   \n",
       "2                                                  NaN    4       yes   \n",
       "3                                                  NaN    5       yes   \n",
       "4    the package that does not have a release note,...    6       yes   \n",
       "..                                                 ...  ...       ...   \n",
       "494                                  changelog in wiki  438  resolved   \n",
       "495                            automatically genrated?  455  resolved   \n",
       "496                                                NaN  482       yes   \n",
       "497                                                NaN  483       yes   \n",
       "498                                                NaN  487  resolved   \n",
       "\n",
       "    external_codes                              Unnamed: 23 Unnamed: 24  \\\n",
       "0              NaN                                      NaN         NaN   \n",
       "1                f                                      NaN         NaN   \n",
       "2              NaN                                      NaN         NaN   \n",
       "3              NaN                                      NaN         NaN   \n",
       "4              NaN                                      NaN         NaN   \n",
       "..             ...                                      ...         ...   \n",
       "494              d      Nasif could not find the changelog?         NaN   \n",
       "495              d               The issue number is listed         NaN   \n",
       "496              y  is_doc is empty in process-frozen-nasif         NaN   \n",
       "497              y  is_doc is empty in process-frozen-nasif         NaN   \n",
       "498              d   has a changelog, but fix not mentioned         NaN   \n",
       "\n",
       "      ifcve  \n",
       "0    noncve  \n",
       "1       cve  \n",
       "2    noncve  \n",
       "3       cve  \n",
       "4    noncve  \n",
       "..      ...  \n",
       "494     cve  \n",
       "495     cve  \n",
       "496  noncve  \n",
       "497  noncve  \n",
       "498  noncve  \n",
       "\n",
       "[499 rows x 27 columns]"
      ]
     },
     "execution_count": 468,
     "metadata": {},
     "output_type": "execute_result"
    }
   ],
   "source": [
    "cvecsv = pd.merge(csv, ifcve, on ='snyk_id')\n",
    "cvecsv"
   ]
  },
  {
   "cell_type": "code",
   "execution_count": 469,
   "metadata": {},
   "outputs": [
    {
     "data": {
      "text/plain": [
       "(           is_doc\n",
       " ecosystem        \n",
       " Composer       63\n",
       " Go             54\n",
       " Maven          48\n",
       " NuGet          49\n",
       " RubyGems       49\n",
       " npm            43\n",
       " pip            57,)"
      ]
     },
     "execution_count": 469,
     "metadata": {},
     "output_type": "execute_result"
    }
   ],
   "source": [
    "doc = csv\n",
    "doc['is_doc'] = doc['is_doc'].mask(doc['is_doc'].ne('y'))\n",
    "temp_count = doc['is_doc'].count()\n",
    "temp_rate = round(temp_count/total[4]*100,1)\n",
    "temp = str(temp_count) + ' (' + str(temp_rate) + '%)'\n",
    "total.append(temp)\n",
    "doc = doc.groupby('ecosystem')[['is_doc']].count()\n",
    "doc, "
   ]
  },
  {
   "cell_type": "code",
   "execution_count": 470,
   "metadata": {},
   "outputs": [
    {
     "data": {
      "text/html": [
       "<div>\n",
       "<style scoped>\n",
       "    .dataframe tbody tr th:only-of-type {\n",
       "        vertical-align: middle;\n",
       "    }\n",
       "\n",
       "    .dataframe tbody tr th {\n",
       "        vertical-align: top;\n",
       "    }\n",
       "\n",
       "    .dataframe thead th {\n",
       "        text-align: right;\n",
       "    }\n",
       "</style>\n",
       "<table border=\"1\" class=\"dataframe\">\n",
       "  <thead>\n",
       "    <tr style=\"text-align: right;\">\n",
       "      <th></th>\n",
       "      <th>is_fix</th>\n",
       "    </tr>\n",
       "    <tr>\n",
       "      <th>ecosystem</th>\n",
       "      <th></th>\n",
       "    </tr>\n",
       "  </thead>\n",
       "  <tbody>\n",
       "    <tr>\n",
       "      <th>Composer</th>\n",
       "      <td>58</td>\n",
       "    </tr>\n",
       "    <tr>\n",
       "      <th>Go</th>\n",
       "      <td>43</td>\n",
       "    </tr>\n",
       "    <tr>\n",
       "      <th>Maven</th>\n",
       "      <td>31</td>\n",
       "    </tr>\n",
       "    <tr>\n",
       "      <th>NuGet</th>\n",
       "      <td>40</td>\n",
       "    </tr>\n",
       "    <tr>\n",
       "      <th>RubyGems</th>\n",
       "      <td>43</td>\n",
       "    </tr>\n",
       "    <tr>\n",
       "      <th>npm</th>\n",
       "      <td>39</td>\n",
       "    </tr>\n",
       "    <tr>\n",
       "      <th>pip</th>\n",
       "      <td>53</td>\n",
       "    </tr>\n",
       "  </tbody>\n",
       "</table>\n",
       "</div>"
      ],
      "text/plain": [
       "           is_fix\n",
       "ecosystem        \n",
       "Composer       58\n",
       "Go             43\n",
       "Maven          31\n",
       "NuGet          40\n",
       "RubyGems       43\n",
       "npm            39\n",
       "pip            53"
      ]
     },
     "execution_count": 470,
     "metadata": {},
     "output_type": "execute_result"
    }
   ],
   "source": [
    "fix = csv\n",
    "fix['is_fix'] = fix['is_fix'].mask(fix['is_fix'].ne('y'))\n",
    "temp_count = fix['is_fix'].count()\n",
    "temp_rate = round(temp_count/total[4]*100,1)\n",
    "temp = str(temp_count) + ' (' + str(temp_rate) + '%)'\n",
    "total.append(temp)\n",
    "fix = fix.groupby('ecosystem')[['is_fix']].count()\n",
    "fix"
   ]
  },
  {
   "cell_type": "code",
   "execution_count": 471,
   "metadata": {},
   "outputs": [
    {
     "data": {
      "text/html": [
       "<div>\n",
       "<style scoped>\n",
       "    .dataframe tbody tr th:only-of-type {\n",
       "        vertical-align: middle;\n",
       "    }\n",
       "\n",
       "    .dataframe tbody tr th {\n",
       "        vertical-align: top;\n",
       "    }\n",
       "\n",
       "    .dataframe thead th {\n",
       "        text-align: right;\n",
       "    }\n",
       "</style>\n",
       "<table border=\"1\" class=\"dataframe\">\n",
       "  <thead>\n",
       "    <tr style=\"text-align: right;\">\n",
       "      <th></th>\n",
       "      <th>is_uc</th>\n",
       "    </tr>\n",
       "    <tr>\n",
       "      <th>ecosystem</th>\n",
       "      <th></th>\n",
       "    </tr>\n",
       "  </thead>\n",
       "  <tbody>\n",
       "    <tr>\n",
       "      <th>Composer</th>\n",
       "      <td>51</td>\n",
       "    </tr>\n",
       "    <tr>\n",
       "      <th>Go</th>\n",
       "      <td>43</td>\n",
       "    </tr>\n",
       "    <tr>\n",
       "      <th>Maven</th>\n",
       "      <td>32</td>\n",
       "    </tr>\n",
       "    <tr>\n",
       "      <th>NuGet</th>\n",
       "      <td>46</td>\n",
       "    </tr>\n",
       "    <tr>\n",
       "      <th>RubyGems</th>\n",
       "      <td>24</td>\n",
       "    </tr>\n",
       "    <tr>\n",
       "      <th>npm</th>\n",
       "      <td>24</td>\n",
       "    </tr>\n",
       "    <tr>\n",
       "      <th>pip</th>\n",
       "      <td>41</td>\n",
       "    </tr>\n",
       "  </tbody>\n",
       "</table>\n",
       "</div>"
      ],
      "text/plain": [
       "           is_uc\n",
       "ecosystem       \n",
       "Composer      51\n",
       "Go            43\n",
       "Maven         32\n",
       "NuGet         46\n",
       "RubyGems      24\n",
       "npm           24\n",
       "pip           41"
      ]
     },
     "execution_count": 471,
     "metadata": {},
     "output_type": "execute_result"
    }
   ],
   "source": [
    "uc = csv\n",
    "uc['is_uc'] = uc['is_uc'].mask(uc['is_uc'].ne('y'))\n",
    "temp_count = uc['is_uc'].count()\n",
    "temp_rate = round(temp_count/total[4]*100,1)\n",
    "temp = str(temp_count) + ' (' + str(temp_rate) + '%)'\n",
    "total.append(temp)\n",
    "uc = uc.groupby('ecosystem')[['is_uc']].count()\n",
    "uc\n"
   ]
  },
  {
   "cell_type": "code",
   "execution_count": 472,
   "metadata": {},
   "outputs": [
    {
     "data": {
      "text/html": [
       "<div>\n",
       "<style scoped>\n",
       "    .dataframe tbody tr th:only-of-type {\n",
       "        vertical-align: middle;\n",
       "    }\n",
       "\n",
       "    .dataframe tbody tr th {\n",
       "        vertical-align: top;\n",
       "    }\n",
       "\n",
       "    .dataframe thead th {\n",
       "        text-align: right;\n",
       "    }\n",
       "</style>\n",
       "<table border=\"1\" class=\"dataframe\">\n",
       "  <thead>\n",
       "    <tr style=\"text-align: right;\">\n",
       "      <th></th>\n",
       "      <th>is_br</th>\n",
       "    </tr>\n",
       "    <tr>\n",
       "      <th>ecosystem</th>\n",
       "      <th></th>\n",
       "    </tr>\n",
       "  </thead>\n",
       "  <tbody>\n",
       "    <tr>\n",
       "      <th>Composer</th>\n",
       "      <td>2</td>\n",
       "    </tr>\n",
       "    <tr>\n",
       "      <th>Go</th>\n",
       "      <td>10</td>\n",
       "    </tr>\n",
       "    <tr>\n",
       "      <th>Maven</th>\n",
       "      <td>2</td>\n",
       "    </tr>\n",
       "    <tr>\n",
       "      <th>NuGet</th>\n",
       "      <td>1</td>\n",
       "    </tr>\n",
       "    <tr>\n",
       "      <th>RubyGems</th>\n",
       "      <td>1</td>\n",
       "    </tr>\n",
       "    <tr>\n",
       "      <th>npm</th>\n",
       "      <td>8</td>\n",
       "    </tr>\n",
       "    <tr>\n",
       "      <th>pip</th>\n",
       "      <td>8</td>\n",
       "    </tr>\n",
       "  </tbody>\n",
       "</table>\n",
       "</div>"
      ],
      "text/plain": [
       "           is_br\n",
       "ecosystem       \n",
       "Composer       2\n",
       "Go            10\n",
       "Maven          2\n",
       "NuGet          1\n",
       "RubyGems       1\n",
       "npm            8\n",
       "pip            8"
      ]
     },
     "execution_count": 472,
     "metadata": {},
     "output_type": "execute_result"
    }
   ],
   "source": [
    "br = csv\n",
    "br['is_br'] = br['is_br'].mask(br['is_br'].ne('y'))\n",
    "temp_count =br['is_br'].count()\n",
    "temp_rate = round(temp_count/total[4]*100,1)\n",
    "temp = str(temp_count) + ' (' + str(temp_rate) + '%)'\n",
    "total.append(temp)\n",
    "br = br.groupby('ecosystem')[['is_br']].count()\n",
    "br"
   ]
  },
  {
   "cell_type": "code",
   "execution_count": 473,
   "metadata": {},
   "outputs": [
    {
     "data": {
      "text/html": [
       "<div>\n",
       "<style scoped>\n",
       "    .dataframe tbody tr th:only-of-type {\n",
       "        vertical-align: middle;\n",
       "    }\n",
       "\n",
       "    .dataframe tbody tr th {\n",
       "        vertical-align: top;\n",
       "    }\n",
       "\n",
       "    .dataframe thead th {\n",
       "        text-align: right;\n",
       "    }\n",
       "</style>\n",
       "<table border=\"1\" class=\"dataframe\">\n",
       "  <thead>\n",
       "    <tr style=\"text-align: right;\">\n",
       "      <th></th>\n",
       "      <th>ecosystem</th>\n",
       "      <th>advisory</th>\n",
       "      <th>package</th>\n",
       "      <th>distinct releases</th>\n",
       "      <th>releases</th>\n",
       "      <th>cwe</th>\n",
       "      <th>is_doc</th>\n",
       "      <th>is_fix</th>\n",
       "      <th>is_uc</th>\n",
       "      <th>is_br</th>\n",
       "    </tr>\n",
       "  </thead>\n",
       "  <tbody>\n",
       "    <tr>\n",
       "      <th>0</th>\n",
       "      <td>Composer</td>\n",
       "      <td>50</td>\n",
       "      <td>30</td>\n",
       "      <td>72 (98)</td>\n",
       "      <td>98</td>\n",
       "      <td>18</td>\n",
       "      <td>63</td>\n",
       "      <td>58</td>\n",
       "      <td>51</td>\n",
       "      <td>2</td>\n",
       "    </tr>\n",
       "    <tr>\n",
       "      <th>1</th>\n",
       "      <td>Go</td>\n",
       "      <td>50</td>\n",
       "      <td>49</td>\n",
       "      <td>65 (66)</td>\n",
       "      <td>66</td>\n",
       "      <td>25</td>\n",
       "      <td>54</td>\n",
       "      <td>43</td>\n",
       "      <td>43</td>\n",
       "      <td>10</td>\n",
       "    </tr>\n",
       "    <tr>\n",
       "      <th>2</th>\n",
       "      <td>Maven</td>\n",
       "      <td>50</td>\n",
       "      <td>49</td>\n",
       "      <td>76 (76)</td>\n",
       "      <td>76</td>\n",
       "      <td>25</td>\n",
       "      <td>48</td>\n",
       "      <td>31</td>\n",
       "      <td>32</td>\n",
       "      <td>2</td>\n",
       "    </tr>\n",
       "    <tr>\n",
       "      <th>3</th>\n",
       "      <td>NuGet</td>\n",
       "      <td>50</td>\n",
       "      <td>28</td>\n",
       "      <td>56 (60)</td>\n",
       "      <td>60</td>\n",
       "      <td>14</td>\n",
       "      <td>49</td>\n",
       "      <td>40</td>\n",
       "      <td>46</td>\n",
       "      <td>1</td>\n",
       "    </tr>\n",
       "    <tr>\n",
       "      <th>4</th>\n",
       "      <td>RubyGems</td>\n",
       "      <td>50</td>\n",
       "      <td>40</td>\n",
       "      <td>65 (65)</td>\n",
       "      <td>65</td>\n",
       "      <td>20</td>\n",
       "      <td>49</td>\n",
       "      <td>43</td>\n",
       "      <td>24</td>\n",
       "      <td>1</td>\n",
       "    </tr>\n",
       "    <tr>\n",
       "      <th>5</th>\n",
       "      <td>npm</td>\n",
       "      <td>50</td>\n",
       "      <td>44</td>\n",
       "      <td>70 (70)</td>\n",
       "      <td>70</td>\n",
       "      <td>18</td>\n",
       "      <td>43</td>\n",
       "      <td>39</td>\n",
       "      <td>24</td>\n",
       "      <td>8</td>\n",
       "    </tr>\n",
       "    <tr>\n",
       "      <th>6</th>\n",
       "      <td>pip</td>\n",
       "      <td>50</td>\n",
       "      <td>45</td>\n",
       "      <td>61 (64)</td>\n",
       "      <td>64</td>\n",
       "      <td>31</td>\n",
       "      <td>57</td>\n",
       "      <td>53</td>\n",
       "      <td>41</td>\n",
       "      <td>8</td>\n",
       "    </tr>\n",
       "  </tbody>\n",
       "</table>\n",
       "</div>"
      ],
      "text/plain": [
       "  ecosystem  advisory  package distinct releases  releases  cwe  is_doc  \\\n",
       "0  Composer        50       30           72 (98)        98   18      63   \n",
       "1        Go        50       49           65 (66)        66   25      54   \n",
       "2     Maven        50       49           76 (76)        76   25      48   \n",
       "3     NuGet        50       28           56 (60)        60   14      49   \n",
       "4  RubyGems        50       40           65 (65)        65   20      49   \n",
       "5       npm        50       44           70 (70)        70   18      43   \n",
       "6       pip        50       45           61 (64)        64   31      57   \n",
       "\n",
       "   is_fix  is_uc  is_br  \n",
       "0      58     51      2  \n",
       "1      43     43     10  \n",
       "2      31     32      2  \n",
       "3      40     46      1  \n",
       "4      43     24      1  \n",
       "5      39     24      8  \n",
       "6      53     41      8  "
      ]
     },
     "execution_count": 473,
     "metadata": {},
     "output_type": "execute_result"
    }
   ],
   "source": [
    "df=reduce(lambda x,y : pd.merge(x,y,on='ecosystem'),[df, doc, fix, uc, br])\n",
    "df"
   ]
  },
  {
   "cell_type": "code",
   "execution_count": 474,
   "metadata": {},
   "outputs": [
    {
     "data": {
      "text/html": [
       "<div>\n",
       "<style scoped>\n",
       "    .dataframe tbody tr th:only-of-type {\n",
       "        vertical-align: middle;\n",
       "    }\n",
       "\n",
       "    .dataframe tbody tr th {\n",
       "        vertical-align: top;\n",
       "    }\n",
       "\n",
       "    .dataframe thead th {\n",
       "        text-align: right;\n",
       "    }\n",
       "</style>\n",
       "<table border=\"1\" class=\"dataframe\">\n",
       "  <thead>\n",
       "    <tr style=\"text-align: right;\">\n",
       "      <th></th>\n",
       "      <th>ecosystem</th>\n",
       "      <th>advisory</th>\n",
       "      <th>package</th>\n",
       "      <th>distinct releases</th>\n",
       "      <th>releases</th>\n",
       "      <th>cwe</th>\n",
       "      <th>is_doc</th>\n",
       "      <th>is_fix</th>\n",
       "      <th>is_uc</th>\n",
       "      <th>is_br</th>\n",
       "    </tr>\n",
       "  </thead>\n",
       "  <tbody>\n",
       "    <tr>\n",
       "      <th>0</th>\n",
       "      <td>Composer</td>\n",
       "      <td>50</td>\n",
       "      <td>30</td>\n",
       "      <td>72 (98)</td>\n",
       "      <td>98</td>\n",
       "      <td>18</td>\n",
       "      <td>63 (64.3%)</td>\n",
       "      <td>58 (59.2%)</td>\n",
       "      <td>51 (52.0%)</td>\n",
       "      <td>2 (2.0%)</td>\n",
       "    </tr>\n",
       "    <tr>\n",
       "      <th>1</th>\n",
       "      <td>Go</td>\n",
       "      <td>50</td>\n",
       "      <td>49</td>\n",
       "      <td>65 (66)</td>\n",
       "      <td>66</td>\n",
       "      <td>25</td>\n",
       "      <td>54 (81.8%)</td>\n",
       "      <td>43 (65.2%)</td>\n",
       "      <td>43 (65.2%)</td>\n",
       "      <td>10 (15.2%)</td>\n",
       "    </tr>\n",
       "    <tr>\n",
       "      <th>2</th>\n",
       "      <td>Maven</td>\n",
       "      <td>50</td>\n",
       "      <td>49</td>\n",
       "      <td>76 (76)</td>\n",
       "      <td>76</td>\n",
       "      <td>25</td>\n",
       "      <td>48 (63.2%)</td>\n",
       "      <td>31 (40.8%)</td>\n",
       "      <td>32 (42.1%)</td>\n",
       "      <td>2 (2.6%)</td>\n",
       "    </tr>\n",
       "    <tr>\n",
       "      <th>3</th>\n",
       "      <td>NuGet</td>\n",
       "      <td>50</td>\n",
       "      <td>28</td>\n",
       "      <td>56 (60)</td>\n",
       "      <td>60</td>\n",
       "      <td>14</td>\n",
       "      <td>49 (81.7%)</td>\n",
       "      <td>40 (66.7%)</td>\n",
       "      <td>46 (76.7%)</td>\n",
       "      <td>1 (1.7%)</td>\n",
       "    </tr>\n",
       "    <tr>\n",
       "      <th>4</th>\n",
       "      <td>RubyGems</td>\n",
       "      <td>50</td>\n",
       "      <td>40</td>\n",
       "      <td>65 (65)</td>\n",
       "      <td>65</td>\n",
       "      <td>20</td>\n",
       "      <td>49 (75.4%)</td>\n",
       "      <td>43 (66.2%)</td>\n",
       "      <td>24 (36.9%)</td>\n",
       "      <td>1 (1.5%)</td>\n",
       "    </tr>\n",
       "    <tr>\n",
       "      <th>5</th>\n",
       "      <td>npm</td>\n",
       "      <td>50</td>\n",
       "      <td>44</td>\n",
       "      <td>70 (70)</td>\n",
       "      <td>70</td>\n",
       "      <td>18</td>\n",
       "      <td>43 (61.4%)</td>\n",
       "      <td>39 (55.7%)</td>\n",
       "      <td>24 (34.3%)</td>\n",
       "      <td>8 (11.4%)</td>\n",
       "    </tr>\n",
       "    <tr>\n",
       "      <th>6</th>\n",
       "      <td>pip</td>\n",
       "      <td>50</td>\n",
       "      <td>45</td>\n",
       "      <td>61 (64)</td>\n",
       "      <td>64</td>\n",
       "      <td>31</td>\n",
       "      <td>57 (89.1%)</td>\n",
       "      <td>53 (82.8%)</td>\n",
       "      <td>41 (64.1%)</td>\n",
       "      <td>8 (12.5%)</td>\n",
       "    </tr>\n",
       "  </tbody>\n",
       "</table>\n",
       "</div>"
      ],
      "text/plain": [
       "  ecosystem  advisory  package distinct releases  releases  cwe      is_doc  \\\n",
       "0  Composer        50       30           72 (98)        98   18  63 (64.3%)   \n",
       "1        Go        50       49           65 (66)        66   25  54 (81.8%)   \n",
       "2     Maven        50       49           76 (76)        76   25  48 (63.2%)   \n",
       "3     NuGet        50       28           56 (60)        60   14  49 (81.7%)   \n",
       "4  RubyGems        50       40           65 (65)        65   20  49 (75.4%)   \n",
       "5       npm        50       44           70 (70)        70   18  43 (61.4%)   \n",
       "6       pip        50       45           61 (64)        64   31  57 (89.1%)   \n",
       "\n",
       "       is_fix       is_uc       is_br  \n",
       "0  58 (59.2%)  51 (52.0%)    2 (2.0%)  \n",
       "1  43 (65.2%)  43 (65.2%)  10 (15.2%)  \n",
       "2  31 (40.8%)  32 (42.1%)    2 (2.6%)  \n",
       "3  40 (66.7%)  46 (76.7%)    1 (1.7%)  \n",
       "4  43 (66.2%)  24 (36.9%)    1 (1.5%)  \n",
       "5  39 (55.7%)  24 (34.3%)   8 (11.4%)  \n",
       "6  53 (82.8%)  41 (64.1%)   8 (12.5%)  "
      ]
     },
     "execution_count": 474,
     "metadata": {},
     "output_type": "execute_result"
    }
   ],
   "source": [
    "df['is_doc_rate'] = round(df['is_doc']/df['releases']* 100,1) \n",
    "df['is_doc'] = df['is_doc'].astype(str)\n",
    "df['is_doc_rate'] = df['is_doc_rate'].astype(str)\n",
    "df['is_doc'] = df['is_doc'] + ' (' + df['is_doc_rate'] +'%)'\n",
    "df = df.drop('is_doc_rate', axis=1)\n",
    "df['is_fix_rate'] = round(df['is_fix']/df['releases'] * 100 ,1)\n",
    "df['is_fix'] = df['is_fix'].astype(str)\n",
    "df['is_fix_rate'] = df['is_fix_rate'].astype(str)\n",
    "df['is_fix'] = df['is_fix'] + ' (' + df['is_fix_rate'] +'%)'\n",
    "df = df.drop('is_fix_rate', axis=1)\n",
    "df['is_uc_rate'] = round(df['is_uc']/df['releases'] * 100,1)\n",
    "df['is_uc'] = df['is_uc'].astype(str)\n",
    "df['is_uc_rate'] = df['is_uc_rate'].astype(str)\n",
    "df['is_uc'] = df['is_uc'] + ' (' + df['is_uc_rate'] +'%)'\n",
    "df = df.drop('is_uc_rate', axis=1)\n",
    "df['is_br_rate'] = round(df['is_br']/df['releases']* 100,1)\n",
    "df['is_br'] = df['is_br'].astype(str)\n",
    "df['is_br_rate'] = df['is_br_rate'].astype(str)\n",
    "df['is_br'] = df['is_br'] + ' (' + df['is_br_rate'] +'%)'\n",
    "df = df.drop('is_br_rate', axis=1)\n",
    "df"
   ]
  },
  {
   "cell_type": "code",
   "execution_count": 475,
   "metadata": {},
   "outputs": [
    {
     "data": {
      "text/plain": [
       "['Total',\n",
       " 350,\n",
       " 285,\n",
       " '465 (499)',\n",
       " 499,\n",
       " 68,\n",
       " '363 (72.7%)',\n",
       " '307 (61.5%)',\n",
       " '261 (52.3%)',\n",
       " '32 (6.4%)']"
      ]
     },
     "execution_count": 475,
     "metadata": {},
     "output_type": "execute_result"
    }
   ],
   "source": [
    "total"
   ]
  },
  {
   "cell_type": "code",
   "execution_count": 476,
   "metadata": {},
   "outputs": [
    {
     "name": "stdout",
     "output_type": "stream",
     "text": [
      "\\begin{tabular}{lrrlrllll}\n",
      "\\hline\n",
      " ecosystem   &   advisory &   package & distinct releases   &   cwe & is\\_doc      & is\\_fix      & is\\_uc       & is\\_br      \\\\\n",
      "\\hline\n",
      " Composer    &         50 &        30 & 72 (98)             &    18 & 63 (64.3\\%)  & 58 (59.2\\%)  & 51 (52.0\\%)  & 2 (2.0\\%)   \\\\\n",
      " Go          &         50 &        49 & 65 (66)             &    25 & 54 (81.8\\%)  & 43 (65.2\\%)  & 43 (65.2\\%)  & 10 (15.2\\%) \\\\\n",
      " Maven       &         50 &        49 & 76 (76)             &    25 & 48 (63.2\\%)  & 31 (40.8\\%)  & 32 (42.1\\%)  & 2 (2.6\\%)   \\\\\n",
      " npm         &         50 &        44 & 70 (70)             &    18 & 43 (61.4\\%)  & 39 (55.7\\%)  & 24 (34.3\\%)  & 8 (11.4\\%)  \\\\\n",
      " NuGet       &         50 &        28 & 56 (60)             &    14 & 49 (81.7\\%)  & 40 (66.7\\%)  & 46 (76.7\\%)  & 1 (1.7\\%)   \\\\\n",
      " pip         &         50 &        45 & 61 (64)             &    31 & 57 (89.1\\%)  & 53 (82.8\\%)  & 41 (64.1\\%)  & 8 (12.5\\%)  \\\\\n",
      " RubyGems    &         50 &        40 & 65 (65)             &    20 & 49 (75.4\\%)  & 43 (66.2\\%)  & 24 (36.9\\%)  & 1 (1.5\\%)   \\\\\n",
      " Total       &        350 &       285 & 465 (499)           &    68 & 363 (72.7\\%) & 307 (61.5\\%) & 261 (52.3\\%) & 32 (6.4\\%)  \\\\\n",
      "\\hline\n",
      "\\end{tabular}\n"
     ]
    }
   ],
   "source": [
    "df.loc[len(df)]=total\n",
    "df['temp'] = df['ecosystem'].str.lower()\n",
    "df = df.sort_values(by = 'temp', ascending=True)\n",
    "df = df.drop(['releases','temp'], axis= 1)\n",
    "print(tabulate(df, tablefmt='latex', headers='keys',showindex=False))"
   ]
  },
  {
   "cell_type": "code",
   "execution_count": 477,
   "metadata": {},
   "outputs": [
    {
     "data": {
      "text/plain": [
       "changelog                201\n",
       "github release note      116\n",
       "homepage announcement     45\n",
       "security notice            1\n",
       "Name: source, dtype: int64"
      ]
     },
     "execution_count": 477,
     "metadata": {},
     "output_type": "execute_result"
    }
   ],
   "source": [
    "csv['source'] = csv['source'].str.strip()\n",
    "csv['source'] = csv['source'].str.lower()\n",
    "t =  csv[csv['is_doc']=='y']\n",
    "t['source'].value_counts()"
   ]
  },
  {
   "cell_type": "code",
   "execution_count": 478,
   "metadata": {},
   "outputs": [
    {
     "data": {
      "text/plain": [
       "23"
      ]
     },
     "execution_count": 478,
     "metadata": {},
     "output_type": "execute_result"
    }
   ],
   "source": [
    "t = t[t['source']=='github release note']\n",
    "len(t[t['possible release note']== 'not found through script'])\n",
    "# t = csv[csv['source']=='n']\n",
    "# t"
   ]
  },
  {
   "cell_type": "code",
   "execution_count": 479,
   "metadata": {},
   "outputs": [
    {
     "data": {
      "text/plain": [
       "fix reference                                                                             33\n",
       "security notice;advisory reference;fix reference                                          17\n",
       "security notice;vulnerability description                                                 13\n",
       "security notice;vulnerability description;advisory reference;affected component listed    13\n",
       "Fix reference                                                                             12\n",
       "                                                                                          ..\n",
       "affected component listed                                                                  1\n",
       "vulnerability description;fix reference; security notice                                   1\n",
       "security notice;vulnerability description;exploit                                          1\n",
       "security notice;vulnerability description;advisory reference;exploit                       1\n",
       "vulnerability description; advisory reference                                              1\n",
       "Name: fix_pattern, Length: 85, dtype: int64"
      ]
     },
     "execution_count": 479,
     "metadata": {},
     "output_type": "execute_result"
    }
   ],
   "source": [
    "csv['fix_pattern'].value_counts()"
   ]
  },
  {
   "cell_type": "code",
   "execution_count": 480,
   "metadata": {},
   "outputs": [
    {
     "data": {
      "text/plain": [
       "security notice              198\n",
       "fix reference                181\n",
       "vulnerability description    150\n",
       "advisory reference           121\n",
       "affected component listed     79\n",
       "affected version listed       33\n",
       "exploit                       26\n",
       "affected configuration         3\n",
       "Name: fix_pattern, dtype: int64"
      ]
     },
     "execution_count": 480,
     "metadata": {},
     "output_type": "execute_result"
    }
   ],
   "source": [
    "fp  = csv[['ecosystem', 'snyk_id','fix_pattern']]\n",
    "fp = fp.values.tolist()\n",
    "final = []\n",
    "for row in fp:\n",
    "    eco = row[0]\n",
    "    aid = row[1]\n",
    "    if row[-1] != 'nan' and isinstance(row[-1],str):\n",
    "        l = row[-1].split(';')\n",
    "        for elem in l:\n",
    "            if elem.lower().strip() == 'n':\n",
    "                print(row)\n",
    "            final.append([eco,aid,elem.lower().strip()])\n",
    "fp = pd.DataFrame(final, columns=['ecosystem','advisory_id','fix_pattern'])\n",
    "fp['fix_pattern'].value_counts()"
   ]
  },
  {
   "cell_type": "code",
   "execution_count": 481,
   "metadata": {},
   "outputs": [
    {
     "data": {
      "text/plain": [
       "fix_pattern                temp    \n",
       "advisory reference         composer    14\n",
       "                           go          12\n",
       "                           maven       12\n",
       "                           npm         13\n",
       "                           nuget       27\n",
       "                           pip         25\n",
       "                           rubygems    18\n",
       "affected component listed  composer    10\n",
       "                           go           9\n",
       "                           maven        2\n",
       "                           npm          9\n",
       "                           nuget        8\n",
       "                           pip         24\n",
       "                           rubygems    17\n",
       "affected configuration     go           1\n",
       "                           pip          2\n",
       "affected version listed    composer    17\n",
       "                           go           3\n",
       "                           maven        5\n",
       "                           npm          3\n",
       "                           nuget        4\n",
       "                           pip          1\n",
       "exploit                    composer    17\n",
       "                           go           5\n",
       "                           npm          2\n",
       "                           nuget        1\n",
       "                           pip          1\n",
       "fix reference              composer    28\n",
       "                           go          31\n",
       "                           maven       23\n",
       "                           npm         33\n",
       "                           nuget       24\n",
       "                           pip         24\n",
       "                           rubygems    18\n",
       "security notice            composer    51\n",
       "                           go          22\n",
       "                           maven       15\n",
       "                           npm         21\n",
       "                           nuget       33\n",
       "                           pip         34\n",
       "                           rubygems    22\n",
       "vulnerability description  composer    30\n",
       "                           go          23\n",
       "                           maven       11\n",
       "                           npm         20\n",
       "                           nuget       18\n",
       "                           pip         27\n",
       "                           rubygems    21\n",
       "dtype: int64"
      ]
     },
     "execution_count": 481,
     "metadata": {},
     "output_type": "execute_result"
    }
   ],
   "source": [
    "fp['temp'] = fp['ecosystem'].str.lower()\n",
    "fp = fp.sort_values(by = 'temp', ascending=True)\n",
    "fp.groupby(['fix_pattern', 'temp']).size()"
   ]
  },
  {
   "cell_type": "code",
   "execution_count": 482,
   "metadata": {},
   "outputs": [
    {
     "data": {
      "text/plain": [
       "array(['breaking change notice', 'code change reference',\n",
       "       'affected api listed', 'action required', 'affected configuration'],\n",
       "      dtype=object)"
      ]
     },
     "execution_count": 482,
     "metadata": {},
     "output_type": "execute_result"
    }
   ],
   "source": [
    "bp  = csv[['ecosystem', 'snyk_id','breaking_pattern']]\n",
    "bp = bp.values.tolist()\n",
    "final = []\n",
    "for row in bp:\n",
    "    eco = row[0]\n",
    "    aid = row[1]\n",
    "    if row[-1] != 'nan' and isinstance(row[-1],str):\n",
    "        l = row[-1].split(';')\n",
    "        for elem in l:\n",
    "            if elem.strip():\n",
    "                final.append([eco,aid,elem.lower().strip()])\n",
    "bp = pd.DataFrame(final, columns=['ecosystem','advisory_id','breaking_pattern'])\n",
    "bp['breaking_pattern'].unique()"
   ]
  },
  {
   "cell_type": "code",
   "execution_count": 483,
   "metadata": {},
   "outputs": [
    {
     "data": {
      "text/plain": [
       "(44, 263, 307)"
      ]
     },
     "execution_count": 483,
     "metadata": {},
     "output_type": "execute_result"
    }
   ],
   "source": [
    "temp = csv[csv['is_fix']=='y']\n",
    "temp = temp.to_dict('records')\n",
    "y = n = 0\n",
    "for row in temp:\n",
    "    s = row['fix_pattern']\n",
    "    s = str(s).split(';')\n",
    "    for i,e in enumerate(s):\n",
    "        s[i] =  e.lower().strip()\n",
    "    if len(s) == 1 and s[0] =='fix reference':\n",
    "        y+=1\n",
    "    else:\n",
    "        n+=1\n",
    "         \n",
    "y, n, len(temp)"
   ]
  },
  {
   "cell_type": "code",
   "execution_count": 484,
   "metadata": {},
   "outputs": [
    {
     "data": {
      "text/plain": [
       "breaking_pattern        temp    \n",
       "action required         go          2\n",
       "                        maven       1\n",
       "                        npm         1\n",
       "                        nuget       1\n",
       "                        pip         4\n",
       "affected api listed     composer    2\n",
       "                        go          6\n",
       "                        maven       1\n",
       "                        npm         6\n",
       "                        pip         5\n",
       "affected configuration  go          3\n",
       "                        npm         1\n",
       "                        pip         2\n",
       "                        rubygems    1\n",
       "breaking change notice  composer    2\n",
       "                        go          9\n",
       "                        maven       2\n",
       "                        npm         5\n",
       "                        nuget       1\n",
       "                        pip         3\n",
       "code change reference   composer    1\n",
       "                        go          5\n",
       "                        maven       1\n",
       "                        npm         2\n",
       "dtype: int64"
      ]
     },
     "execution_count": 484,
     "metadata": {},
     "output_type": "execute_result"
    }
   ],
   "source": [
    "bp['temp'] = bp['ecosystem'].str.lower()\n",
    "bp = bp.sort_values(by = 'temp', ascending=True)\n",
    "bp.groupby(['breaking_pattern', 'temp']).size()"
   ]
  },
  {
   "cell_type": "code",
   "execution_count": 485,
   "metadata": {},
   "outputs": [
    {
     "data": {
      "text/html": [
       "<div>\n",
       "<style scoped>\n",
       "    .dataframe tbody tr th:only-of-type {\n",
       "        vertical-align: middle;\n",
       "    }\n",
       "\n",
       "    .dataframe tbody tr th {\n",
       "        vertical-align: top;\n",
       "    }\n",
       "\n",
       "    .dataframe thead th {\n",
       "        text-align: right;\n",
       "    }\n",
       "</style>\n",
       "<table border=\"1\" class=\"dataframe\">\n",
       "  <thead>\n",
       "    <tr style=\"text-align: right;\">\n",
       "      <th></th>\n",
       "      <th>snyk_id</th>\n",
       "      <th>vulnerability type</th>\n",
       "      <th>ecosystem</th>\n",
       "      <th>package</th>\n",
       "      <th>security release</th>\n",
       "      <th>repository_url</th>\n",
       "      <th>possible release note</th>\n",
       "      <th>possible changelogs</th>\n",
       "      <th>link</th>\n",
       "      <th>is_doc</th>\n",
       "      <th>...</th>\n",
       "      <th>is_br</th>\n",
       "      <th>how the breaking change is mentioned? (initial codes); separated by semicolon</th>\n",
       "      <th>breaking_pattern</th>\n",
       "      <th>Additional Comments</th>\n",
       "      <th>row</th>\n",
       "      <th>agreed</th>\n",
       "      <th>external_codes</th>\n",
       "      <th>Unnamed: 23</th>\n",
       "      <th>Unnamed: 24</th>\n",
       "      <th>ifcve</th>\n",
       "    </tr>\n",
       "  </thead>\n",
       "  <tbody>\n",
       "  </tbody>\n",
       "</table>\n",
       "<p>0 rows × 27 columns</p>\n",
       "</div>"
      ],
      "text/plain": [
       "Empty DataFrame\n",
       "Columns: [snyk_id, vulnerability type, ecosystem, package, security release, repository_url, possible release note, possible changelogs, link, is_doc, list of sources (separated by semicolon), source, snyk version wrong listed, is_fix, How is the fix mentioned? (initial codes); separated by semicolon, fix_pattern, is_uc, is_br, how the breaking change is mentioned? (initial codes); separated by semicolon, breaking_pattern, Additional Comments, row, agreed, external_codes, Unnamed: 23, Unnamed: 24, ifcve]\n",
       "Index: []\n",
       "\n",
       "[0 rows x 27 columns]"
      ]
     },
     "execution_count": 485,
     "metadata": {},
     "output_type": "execute_result"
    }
   ],
   "source": [
    "cvecsv['is_fix'] = cvecsv['is_fix'].fillna(0)\n",
    "cvecsv[cvecsv['is_fix'].isnull()]"
   ]
  },
  {
   "cell_type": "code",
   "execution_count": 486,
   "metadata": {},
   "outputs": [
    {
     "name": "stderr",
     "output_type": "stream",
     "text": [
      "/var/folders/0s/v79fh7mj6_b95q0y7g5_m75c0000gq/T/ipykernel_8241/3628979731.py:2: SettingWithCopyWarning: \n",
      "A value is trying to be set on a copy of a slice from a DataFrame.\n",
      "Try using .loc[row_indexer,col_indexer] = value instead\n",
      "\n",
      "See the caveats in the documentation: https://pandas.pydata.org/pandas-docs/stable/user_guide/indexing.html#returning-a-view-versus-a-copy\n",
      "  cvecsv['is_fix'] = cvecsv['is_fix'].fillna(0)\n",
      "/var/folders/0s/v79fh7mj6_b95q0y7g5_m75c0000gq/T/ipykernel_8241/3628979731.py:3: SettingWithCopyWarning: \n",
      "A value is trying to be set on a copy of a slice from a DataFrame.\n",
      "Try using .loc[row_indexer,col_indexer] = value instead\n",
      "\n",
      "See the caveats in the documentation: https://pandas.pydata.org/pandas-docs/stable/user_guide/indexing.html#returning-a-view-versus-a-copy\n",
      "  cvecsv['is_fix'] = cvecsv['is_fix'].map({'y':1,'n':0})\n"
     ]
    }
   ],
   "source": [
    "cvecsv = cvecsv[cvecsv['is_doc']=='y']\n",
    "cvecsv['is_fix'] = cvecsv['is_fix'].fillna(0)\n",
    "cvecsv['is_fix'] = cvecsv['is_fix'].map({'y':1,'n':0})"
   ]
  },
  {
   "cell_type": "code",
   "execution_count": 487,
   "metadata": {},
   "outputs": [
    {
     "data": {
      "text/plain": [
       "(MannwhitneyuResult(statistic=25253.0, pvalue=0.973865463469377), 31.0, 21.0)"
      ]
     },
     "execution_count": 487,
     "metadata": {},
     "output_type": "execute_result"
    }
   ],
   "source": [
    "usage = pd.merge(csv, usage, on = ['ecosystem', 'package'])\n",
    "fy = usage[usage['is_fix'] == 'y']\n",
    "fn = usage[usage['is_fix'] != 'y']\n",
    "from scipy.stats import mannwhitneyu\n",
    "mannwhitneyu(fy['dependent'], fn['dependent']), fy['dependent'].median(), fn['dependent'].median()"
   ]
  },
  {
   "cell_type": "code",
   "execution_count": 488,
   "metadata": {},
   "outputs": [
    {
     "data": {
      "text/plain": [
       "(MannwhitneyuResult(statistic=25124.5, pvalue=0.9529115486264055), 97.0, 141.0)"
      ]
     },
     "execution_count": 488,
     "metadata": {},
     "output_type": "execute_result"
    }
   ],
   "source": [
    "mannwhitneyu(fy['dependent_repos'], fn['dependent_repos']), fy['dependent_repos'].median(), fn['dependent_repos'].median()"
   ]
  },
  {
   "cell_type": "code",
   "execution_count": 489,
   "metadata": {},
   "outputs": [
    {
     "data": {
      "text/html": [
       "<div>\n",
       "<style scoped>\n",
       "    .dataframe tbody tr th:only-of-type {\n",
       "        vertical-align: middle;\n",
       "    }\n",
       "\n",
       "    .dataframe tbody tr th {\n",
       "        vertical-align: top;\n",
       "    }\n",
       "\n",
       "    .dataframe thead th {\n",
       "        text-align: right;\n",
       "    }\n",
       "</style>\n",
       "<table border=\"1\" class=\"dataframe\">\n",
       "  <thead>\n",
       "    <tr style=\"text-align: right;\">\n",
       "      <th></th>\n",
       "      <th>snyk_id</th>\n",
       "      <th>vulnerability type</th>\n",
       "      <th>ecosystem</th>\n",
       "      <th>package</th>\n",
       "      <th>security release</th>\n",
       "      <th>repository_url</th>\n",
       "      <th>possible release note</th>\n",
       "      <th>possible changelogs</th>\n",
       "      <th>link</th>\n",
       "      <th>is_doc</th>\n",
       "      <th>...</th>\n",
       "      <th>is_br</th>\n",
       "      <th>how the breaking change is mentioned? (initial codes); separated by semicolon</th>\n",
       "      <th>breaking_pattern</th>\n",
       "      <th>Additional Comments</th>\n",
       "      <th>row</th>\n",
       "      <th>agreed</th>\n",
       "      <th>external_codes</th>\n",
       "      <th>Unnamed: 23</th>\n",
       "      <th>Unnamed: 24</th>\n",
       "      <th>ifcve</th>\n",
       "    </tr>\n",
       "  </thead>\n",
       "  <tbody>\n",
       "  </tbody>\n",
       "</table>\n",
       "<p>0 rows × 27 columns</p>\n",
       "</div>"
      ],
      "text/plain": [
       "Empty DataFrame\n",
       "Columns: [snyk_id, vulnerability type, ecosystem, package, security release, repository_url, possible release note, possible changelogs, link, is_doc, list of sources (separated by semicolon), source, snyk version wrong listed, is_fix, How is the fix mentioned? (initial codes); separated by semicolon, fix_pattern, is_uc, is_br, how the breaking change is mentioned? (initial codes); separated by semicolon, breaking_pattern, Additional Comments, row, agreed, external_codes, Unnamed: 23, Unnamed: 24, ifcve]\n",
       "Index: []\n",
       "\n",
       "[0 rows x 27 columns]"
      ]
     },
     "execution_count": 489,
     "metadata": {},
     "output_type": "execute_result"
    }
   ],
   "source": [
    "cvecsv[cvecsv['is_fix'].isnull()]"
   ]
  },
  {
   "cell_type": "code",
   "execution_count": 490,
   "metadata": {},
   "outputs": [
    {
     "data": {
      "text/plain": [
       "(210, 153)"
      ]
     },
     "execution_count": 490,
     "metadata": {},
     "output_type": "execute_result"
    }
   ],
   "source": [
    "cve = cvecsv[cvecsv['ifcve']=='cve']\n",
    "noncve = cvecsv[cvecsv['ifcve']=='noncve']\n",
    "len(cve), len(noncve)"
   ]
  },
  {
   "cell_type": "code",
   "execution_count": 491,
   "metadata": {},
   "outputs": [
    {
     "data": {
      "text/plain": [
       "([184, 26], [123, 30])"
      ]
     },
     "execution_count": 491,
     "metadata": {},
     "output_type": "execute_result"
    }
   ],
   "source": [
    "list(cve['is_fix'].value_counts()), list(noncve['is_fix'].value_counts())"
   ]
  },
  {
   "cell_type": "code",
   "execution_count": 492,
   "metadata": {},
   "outputs": [
    {
     "data": {
      "text/plain": [
       "(3.0109251640395556,\n",
       " 0.08270507405423237,\n",
       " 1,\n",
       " array([[177.60330579,  32.39669421],\n",
       "        [129.39669421,  23.60330579]]))"
      ]
     },
     "execution_count": 492,
     "metadata": {},
     "output_type": "execute_result"
    }
   ],
   "source": [
    "from scipy.stats import chi2_contingency\n",
    "chi2_contingency([list(cve['is_fix'].value_counts()),list(noncve['is_fix'].value_counts())])"
   ]
  },
  {
   "cell_type": "code",
   "execution_count": 493,
   "metadata": {},
   "outputs": [],
   "source": [
    "cve = cve.to_dict('records')\n",
    "noncve= noncve.to_dict('records')"
   ]
  },
  {
   "cell_type": "code",
   "execution_count": 494,
   "metadata": {},
   "outputs": [
    {
     "name": "stdout",
     "output_type": "stream",
     "text": [
      "210\n"
     ]
    },
    {
     "data": {
      "text/plain": [
       "(128, 82)"
      ]
     },
     "execution_count": 494,
     "metadata": {},
     "output_type": "execute_result"
    }
   ],
   "source": [
    "print(len(cve))\n",
    "y = n = 0\n",
    "for row in cve:\n",
    "    s = row['fix_pattern']\n",
    "    s = str(s).split(';')\n",
    "    for i,e in enumerate(s):\n",
    "        s[i] =  e.lower().strip()\n",
    "    if 'security notice' in s:\n",
    "        y+=1\n",
    "    else:\n",
    "        n+=1\n",
    "         \n",
    "y, n"
   ]
  },
  {
   "cell_type": "code",
   "execution_count": 495,
   "metadata": {},
   "outputs": [
    {
     "name": "stdout",
     "output_type": "stream",
     "text": [
      "153\n"
     ]
    },
    {
     "data": {
      "text/plain": [
       "(70, 83)"
      ]
     },
     "execution_count": 495,
     "metadata": {},
     "output_type": "execute_result"
    }
   ],
   "source": [
    "print(len(noncve))\n",
    "y = n = 0\n",
    "for row in noncve:\n",
    "    s = row['fix_pattern']\n",
    "    s = str(s).split(';')\n",
    "    for i,e in enumerate(s):\n",
    "        s[i] =  e.lower().strip()\n",
    "    if 'security notice' in s:\n",
    "        y+=1\n",
    "    else:\n",
    "        n+=1\n",
    "         \n",
    "y, n"
   ]
  },
  {
   "cell_type": "code",
   "execution_count": 496,
   "metadata": {},
   "outputs": [
    {
     "data": {
      "text/plain": [
       "(7.647233893557422,\n",
       " 0.005685944009974247,\n",
       " 1,\n",
       " array([[114.54545455,  95.45454545],\n",
       "        [ 83.45454545,  69.54545455]]))"
      ]
     },
     "execution_count": 496,
     "metadata": {},
     "output_type": "execute_result"
    }
   ],
   "source": [
    "chi2_contingency([[128,82],[70,83]])"
   ]
  },
  {
   "cell_type": "code",
   "execution_count": 497,
   "metadata": {},
   "outputs": [
    {
     "data": {
      "text/plain": [
       "363"
      ]
     },
     "execution_count": 497,
     "metadata": {},
     "output_type": "execute_result"
    }
   ],
   "source": [
    "128+82+70+83"
   ]
  },
  {
   "cell_type": "code",
   "execution_count": 498,
   "metadata": {},
   "outputs": [
    {
     "name": "stdout",
     "output_type": "stream",
     "text": [
      "210\n"
     ]
    },
    {
     "data": {
      "text/plain": [
       "(108, 102)"
      ]
     },
     "execution_count": 498,
     "metadata": {},
     "output_type": "execute_result"
    }
   ],
   "source": [
    "print(len(cve))\n",
    "y = n = 0\n",
    "for row in cve:\n",
    "    s = row['fix_pattern']\n",
    "    s = str(s).split(';')\n",
    "    for i,e in enumerate(s):\n",
    "        s[i] =  e.lower().strip()\n",
    "    if 'advisory reference' in s:\n",
    "        y+=1\n",
    "    else:\n",
    "        n+=1\n",
    "         \n",
    "y, n"
   ]
  },
  {
   "cell_type": "code",
   "execution_count": 499,
   "metadata": {},
   "outputs": [
    {
     "name": "stdout",
     "output_type": "stream",
     "text": [
      "153\n"
     ]
    },
    {
     "data": {
      "text/plain": [
       "(13, 140)"
      ]
     },
     "execution_count": 499,
     "metadata": {},
     "output_type": "execute_result"
    }
   ],
   "source": [
    "print(len(noncve))\n",
    "y = n = 0\n",
    "for row in noncve:\n",
    "    s = row['fix_pattern']\n",
    "    s = str(s).split(';')\n",
    "    for i,e in enumerate(s):\n",
    "        s[i] =  e.lower().strip()\n",
    "    if 'advisory reference' in s:\n",
    "        y+=1\n",
    "    else:\n",
    "        n+=1\n",
    "         \n",
    "y, n"
   ]
  },
  {
   "cell_type": "code",
   "execution_count": 500,
   "metadata": {},
   "outputs": [],
   "source": [
    "q = 'select id as snyk_id, severity from advisory'\n",
    "sev = pd.DataFrame(sql.execute(q))\n",
    "sev = pd.merge(sev,csv, on = 'snyk_id')\n"
   ]
  },
  {
   "cell_type": "code",
   "execution_count": 501,
   "metadata": {},
   "outputs": [],
   "source": [
    "sev = sev[sev['is_doc']=='y']\n",
    "sev['is_fix'] = sev['is_fix'].map({'y':1,'n':0})\n",
    "sev['is_fix'] = sev['is_fix'].fillna(0)\n"
   ]
  },
  {
   "cell_type": "code",
   "execution_count": 502,
   "metadata": {},
   "outputs": [
    {
     "data": {
      "text/plain": [
       "(1.0    307\n",
       " 0.0     56\n",
       " Name: is_fix, dtype: int64,\n",
       " Empty DataFrame\n",
       " Columns: [snyk_id, severity, vulnerability type, ecosystem, package, security release, repository_url, possible release note, possible changelogs, link, is_doc, list of sources (separated by semicolon), source, snyk version wrong listed, is_fix, How is the fix mentioned? (initial codes); separated by semicolon, fix_pattern, is_uc, is_br, how the breaking change is mentioned? (initial codes); separated by semicolon, breaking_pattern, Additional Comments, row, agreed, external_codes, Unnamed: 23, Unnamed: 24]\n",
       " Index: []\n",
       " \n",
       " [0 rows x 27 columns])"
      ]
     },
     "execution_count": 502,
     "metadata": {},
     "output_type": "execute_result"
    }
   ],
   "source": [
    "sev['is_fix'].value_counts(), sev[sev['is_fix'].isnull()]"
   ]
  },
  {
   "cell_type": "code",
   "execution_count": 503,
   "metadata": {},
   "outputs": [
    {
     "data": {
      "text/plain": [
       "([125, 23], [164, 31], 148, 195, 20, 363)"
      ]
     },
     "execution_count": 503,
     "metadata": {},
     "output_type": "execute_result"
    }
   ],
   "source": [
    "h = sev[sev['severity'] == 'H']\n",
    "m = sev[sev['severity'] == 'M']\n",
    "l = sev[sev['severity'] == 'L']\n",
    "list(h['is_fix'].value_counts()), list(m['is_fix'].value_counts()), len(h), len(m), len(l), len(sev)"
   ]
  },
  {
   "cell_type": "code",
   "execution_count": 504,
   "metadata": {},
   "outputs": [
    {
     "data": {
      "text/plain": [
       "([125, 23], [164, 31])"
      ]
     },
     "execution_count": 504,
     "metadata": {},
     "output_type": "execute_result"
    }
   ],
   "source": [
    "list(h['is_fix'].value_counts()), list(m['is_fix'].value_counts())"
   ]
  },
  {
   "cell_type": "code",
   "execution_count": 505,
   "metadata": {},
   "outputs": [
    {
     "data": {
      "text/plain": [
       "(0.0,\n",
       " 1.0,\n",
       " 1,\n",
       " array([[124.69970845,  23.30029155],\n",
       "        [164.30029155,  30.69970845]]))"
      ]
     },
     "execution_count": 505,
     "metadata": {},
     "output_type": "execute_result"
    }
   ],
   "source": [
    "chi2_contingency([[125, 23],[164,31]])"
   ]
  },
  {
   "cell_type": "code",
   "execution_count": 506,
   "metadata": {},
   "outputs": [
    {
     "data": {
      "text/plain": [
       "343"
      ]
     },
     "execution_count": 506,
     "metadata": {},
     "output_type": "execute_result"
    }
   ],
   "source": [
    "125+23+164+31"
   ]
  },
  {
   "cell_type": "code",
   "execution_count": 507,
   "metadata": {},
   "outputs": [],
   "source": [
    "h = h.to_dict('records')\n",
    "m = m.to_dict('records')"
   ]
  },
  {
   "cell_type": "code",
   "execution_count": 508,
   "metadata": {},
   "outputs": [
    {
     "name": "stdout",
     "output_type": "stream",
     "text": [
      "148\n"
     ]
    },
    {
     "data": {
      "text/plain": [
       "(90, 58)"
      ]
     },
     "execution_count": 508,
     "metadata": {},
     "output_type": "execute_result"
    }
   ],
   "source": [
    "print(len(h))\n",
    "y = n = 0\n",
    "for row in h:\n",
    "    s = row['fix_pattern']\n",
    "    s = str(s).split(';')\n",
    "    for i,e in enumerate(s):\n",
    "        s[i] =  e.lower().strip()\n",
    "    if 'security notice' in s:\n",
    "        y+=1\n",
    "    else:\n",
    "        n+=1\n",
    "         \n",
    "y, n"
   ]
  },
  {
   "cell_type": "code",
   "execution_count": 509,
   "metadata": {},
   "outputs": [
    {
     "name": "stdout",
     "output_type": "stream",
     "text": [
      "195\n"
     ]
    },
    {
     "data": {
      "text/plain": [
       "(100, 95)"
      ]
     },
     "execution_count": 509,
     "metadata": {},
     "output_type": "execute_result"
    }
   ],
   "source": [
    "print(len(m))\n",
    "y = n = 0\n",
    "for row in m:\n",
    "    s = row['fix_pattern']\n",
    "    s = str(s).split(';')\n",
    "    for i,e in enumerate(s):\n",
    "        s[i] =  e.lower().strip()\n",
    "    if 'security notice' in s:\n",
    "        y+=1\n",
    "    else:\n",
    "        n+=1\n",
    "         \n",
    "y, n"
   ]
  },
  {
   "cell_type": "code",
   "execution_count": 510,
   "metadata": {},
   "outputs": [
    {
     "data": {
      "text/plain": [
       "(2.7182352056152395,\n",
       " 0.09920764842932461,\n",
       " 1,\n",
       " array([[ 81.98250729,  66.01749271],\n",
       "        [108.01749271,  86.98250729]]))"
      ]
     },
     "execution_count": 510,
     "metadata": {},
     "output_type": "execute_result"
    }
   ],
   "source": [
    "chi2_contingency([[90, 58],[100, 95]])"
   ]
  },
  {
   "cell_type": "code",
   "execution_count": 511,
   "metadata": {},
   "outputs": [
    {
     "data": {
      "text/plain": [
       "343"
      ]
     },
     "execution_count": 511,
     "metadata": {},
     "output_type": "execute_result"
    }
   ],
   "source": [
    "90+58+100+95"
   ]
  },
  {
   "cell_type": "code",
   "execution_count": 512,
   "metadata": {},
   "outputs": [],
   "source": [
    "q = '''select a.id as snyk_id, a.severity, p.ecosystem, a.disclose_date, a.publish_date,\n",
    "fr.version, ri.publish_date as release_date\n",
    "from advisory a\n",
    "join package p on a.package_id = p.id\n",
    "join fixing_releases fr on a.id = fr.advisory_id\n",
    "join release_info ri on p.id = ri.package_id and ri.version = fr.version'''\n",
    "frd = pd.DataFrame(sql.execute(q))\n",
    "frd = frd.rename(columns = {'version':'security release'})\n",
    "\n"
   ]
  },
  {
   "cell_type": "code",
   "execution_count": 513,
   "metadata": {},
   "outputs": [],
   "source": [
    "nf = csv[(csv['is_doc'] == 'y') & (csv['is_fix'] != 'y')]\n",
    "nf = pd.merge(nf, frd, on = ['snyk_id', 'security release'])\n",
    "nf['rtp'] = (nf['disclose_date'] -  nf['release_date'].dt.date).dt.days"
   ]
  },
  {
   "cell_type": "code",
   "execution_count": 514,
   "metadata": {},
   "outputs": [],
   "source": [
    "temp = nf[nf['rtp'] > 90]\n",
    "temp = temp.sample(frac=1).reset_index(drop=True)\n",
    "temp.to_csv('notmentionpublishafterninety.csv')"
   ]
  },
  {
   "cell_type": "code",
   "execution_count": 515,
   "metadata": {},
   "outputs": [
    {
     "data": {
      "text/plain": [
       "307"
      ]
     },
     "execution_count": 515,
     "metadata": {},
     "output_type": "execute_result"
    }
   ],
   "source": [
    "temp = csv[csv['is_doc'] == 'y']\n",
    "temp = temp[temp['is_fix']=='y']\n",
    "len(temp)"
   ]
  },
  {
   "cell_type": "code",
   "execution_count": 516,
   "metadata": {},
   "outputs": [
    {
     "data": {
      "text/plain": [
       "297"
      ]
     },
     "execution_count": 516,
     "metadata": {},
     "output_type": "execute_result"
    }
   ],
   "source": [
    "\n",
    "temp = pd.merge(temp, frd, on =['snyk_id', 'security release'])\n",
    "len(temp)"
   ]
  },
  {
   "cell_type": "code",
   "execution_count": 517,
   "metadata": {},
   "outputs": [],
   "source": [
    "temp['delay'] = (temp['disclose_date'] - temp['publish_date']).dt.days\n",
    "temp = temp[temp['delay'] < -30]"
   ]
  },
  {
   "cell_type": "code",
   "execution_count": 518,
   "metadata": {},
   "outputs": [],
   "source": [
    "temp = pd.merge(temp, ifcve, on ='snyk_id')"
   ]
  },
  {
   "cell_type": "code",
   "execution_count": 519,
   "metadata": {},
   "outputs": [
    {
     "data": {
      "text/plain": [
       "(33, 54)"
      ]
     },
     "execution_count": 519,
     "metadata": {},
     "output_type": "execute_result"
    }
   ],
   "source": [
    "y = n = 0\n",
    "temp = temp.to_dict('records')\n",
    "for row in temp:\n",
    "    s = row['fix_pattern']\n",
    "    s = str(s).split(';')\n",
    "    for i,e in enumerate(s):\n",
    "        s[i] =  e.lower().strip()\n",
    "    if 'security notice' in s and row['ifcve'] == 'noncve':\n",
    "        y+=1\n",
    "    else:\n",
    "        n+=1\n",
    "         \n",
    "y, n"
   ]
  },
  {
   "cell_type": "code",
   "execution_count": 520,
   "metadata": {},
   "outputs": [
    {
     "data": {
      "text/plain": [
       "26"
      ]
     },
     "execution_count": 520,
     "metadata": {},
     "output_type": "execute_result"
    }
   ],
   "source": [
    "y = 0\n",
    "patterns = csv.to_dict('records')\n",
    "for row in patterns:\n",
    "    s = row['fix_pattern']\n",
    "    s = str(s).split(';')\n",
    "    for i,e in enumerate(s):\n",
    "        s[i] =  e.lower().strip()\n",
    "    if 'advisory reference' in s and 'security notice' not in s:\n",
    "        y+=1\n",
    "y"
   ]
  },
  {
   "cell_type": "code",
   "execution_count": 521,
   "metadata": {},
   "outputs": [
    {
     "data": {
      "text/plain": [
       "['0.38.0',\n",
       " '3.0.0',\n",
       " '5.4.0',\n",
       " '1.11.2',\n",
       " '1.22.0',\n",
       " '1.18.0',\n",
       " '1.20.0-alpha.2',\n",
       " '4.2.0',\n",
       " '0.10.0-beta',\n",
       " '1.18.0',\n",
       " '1.14.0-alpha.2',\n",
       " '1.20.0-alpha.2',\n",
       " '6.0.0',\n",
       " '6.1.0-RC5',\n",
       " '7.0.0',\n",
       " '25.0.0',\n",
       " '4.1.2',\n",
       " '4.0.0-beta.1',\n",
       " '11.0.0',\n",
       " '3.9.2',\n",
       " '1.0.469',\n",
       " '4.0.1',\n",
       " '0.7',\n",
       " '2.0.0',\n",
       " '1.3.0',\n",
       " '0.9.0',\n",
       " '0.56.1',\n",
       " '1.1a1',\n",
       " '1.0a3',\n",
       " '1.8',\n",
       " '1.2.2',\n",
       " '3.0.0']"
      ]
     },
     "execution_count": 521,
     "metadata": {},
     "output_type": "execute_result"
    }
   ],
   "source": [
    "br = csv[csv['is_br']=='y']\n",
    "br = list(br['security release'])\n",
    "list(br)"
   ]
  },
  {
   "cell_type": "code",
   "execution_count": 522,
   "metadata": {},
   "outputs": [
    {
     "data": {
      "text/html": [
       "<div>\n",
       "<style scoped>\n",
       "    .dataframe tbody tr th:only-of-type {\n",
       "        vertical-align: middle;\n",
       "    }\n",
       "\n",
       "    .dataframe tbody tr th {\n",
       "        vertical-align: top;\n",
       "    }\n",
       "\n",
       "    .dataframe thead th {\n",
       "        text-align: right;\n",
       "    }\n",
       "</style>\n",
       "<table border=\"1\" class=\"dataframe\">\n",
       "  <thead>\n",
       "    <tr style=\"text-align: right;\">\n",
       "      <th></th>\n",
       "      <th>snyk_id</th>\n",
       "      <th>vulnerability type</th>\n",
       "      <th>ecosystem</th>\n",
       "      <th>package</th>\n",
       "      <th>security release</th>\n",
       "      <th>repository_url</th>\n",
       "      <th>possible release note</th>\n",
       "      <th>possible changelogs</th>\n",
       "      <th>link</th>\n",
       "      <th>is_doc</th>\n",
       "      <th>...</th>\n",
       "      <th>is_uc</th>\n",
       "      <th>is_br</th>\n",
       "      <th>how the breaking change is mentioned? (initial codes); separated by semicolon</th>\n",
       "      <th>breaking_pattern</th>\n",
       "      <th>Additional Comments</th>\n",
       "      <th>row</th>\n",
       "      <th>agreed</th>\n",
       "      <th>external_codes</th>\n",
       "      <th>Unnamed: 23</th>\n",
       "      <th>Unnamed: 24</th>\n",
       "    </tr>\n",
       "  </thead>\n",
       "  <tbody>\n",
       "    <tr>\n",
       "      <th>0</th>\n",
       "      <td>npm:address-rfc2822:20180225</td>\n",
       "      <td>Regular Expression Denial of Service (ReDoS)</td>\n",
       "      <td>npm</td>\n",
       "      <td>address-rfc2822</td>\n",
       "      <td>2.0.2</td>\n",
       "      <td>https://github.com/haraka/node-address-rfc2822</td>\n",
       "      <td>not found through script</td>\n",
       "      <td>https://github.com/haraka/node-address-rfc2822...</td>\n",
       "      <td>https://snyk.io/vuln/npm:address-rfc2822:20180225</td>\n",
       "      <td>y</td>\n",
       "      <td>...</td>\n",
       "      <td>NaN</td>\n",
       "      <td>NaN</td>\n",
       "      <td>NaN</td>\n",
       "      <td>NaN</td>\n",
       "      <td>NaN</td>\n",
       "      <td>2</td>\n",
       "      <td>yes</td>\n",
       "      <td>NaN</td>\n",
       "      <td>NaN</td>\n",
       "      <td>NaN</td>\n",
       "    </tr>\n",
       "    <tr>\n",
       "      <th>1</th>\n",
       "      <td>npm:angular-jwt:20180605</td>\n",
       "      <td>Access Restriction Bypass</td>\n",
       "      <td>npm</td>\n",
       "      <td>angular-jwt</td>\n",
       "      <td>0.1.10</td>\n",
       "      <td>https://github.com/auth0/angular-jwt</td>\n",
       "      <td>https://github.com/auth0/angular-jwt/releases/...</td>\n",
       "      <td>https://github.com/auth0/angular-jwt/blob/mast...</td>\n",
       "      <td>https://snyk.io/vuln/npm:angular-jwt:20180605</td>\n",
       "      <td>y</td>\n",
       "      <td>...</td>\n",
       "      <td>NaN</td>\n",
       "      <td>NaN</td>\n",
       "      <td>NaN</td>\n",
       "      <td>NaN</td>\n",
       "      <td>NaN</td>\n",
       "      <td>3</td>\n",
       "      <td>resolved</td>\n",
       "      <td>f</td>\n",
       "      <td>NaN</td>\n",
       "      <td>NaN</td>\n",
       "    </tr>\n",
       "    <tr>\n",
       "      <th>2</th>\n",
       "      <td>npm:braces:20180219</td>\n",
       "      <td>Regular Expression Denial of Service (ReDoS)</td>\n",
       "      <td>npm</td>\n",
       "      <td>braces</td>\n",
       "      <td>2.3.1</td>\n",
       "      <td>https://github.com/micromatch/braces</td>\n",
       "      <td>not found through script</td>\n",
       "      <td>https://github.com/micromatch/braces/blob/mast...</td>\n",
       "      <td>https://snyk.io/vuln/npm:braces:20180219</td>\n",
       "      <td>y</td>\n",
       "      <td>...</td>\n",
       "      <td>NaN</td>\n",
       "      <td>NaN</td>\n",
       "      <td>NaN</td>\n",
       "      <td>NaN</td>\n",
       "      <td>NaN</td>\n",
       "      <td>4</td>\n",
       "      <td>yes</td>\n",
       "      <td>NaN</td>\n",
       "      <td>NaN</td>\n",
       "      <td>NaN</td>\n",
       "    </tr>\n",
       "    <tr>\n",
       "      <th>3</th>\n",
       "      <td>npm:fastify:20180107</td>\n",
       "      <td>Denial of Service (DoS)</td>\n",
       "      <td>npm</td>\n",
       "      <td>fastify</td>\n",
       "      <td>0.38.0</td>\n",
       "      <td>https://github.com/fastify/fastify</td>\n",
       "      <td>https://github.com/fastify/fastify/releases/ta...</td>\n",
       "      <td>no changlog found in script</td>\n",
       "      <td>https://snyk.io/vuln/npm:fastify:20180107</td>\n",
       "      <td>y</td>\n",
       "      <td>...</td>\n",
       "      <td>y</td>\n",
       "      <td>y</td>\n",
       "      <td>breaking change notice; pr reference</td>\n",
       "      <td>breaking change notice; code change reference</td>\n",
       "      <td>NaN</td>\n",
       "      <td>5</td>\n",
       "      <td>yes</td>\n",
       "      <td>NaN</td>\n",
       "      <td>NaN</td>\n",
       "      <td>NaN</td>\n",
       "    </tr>\n",
       "    <tr>\n",
       "      <th>4</th>\n",
       "      <td>npm:is-my-json-valid:20180214</td>\n",
       "      <td>Regular Expression Denial of Service (ReDoS)</td>\n",
       "      <td>npm</td>\n",
       "      <td>is-my-json-valid</td>\n",
       "      <td>1.4.1</td>\n",
       "      <td>https://github.com/mafintosh/is-my-json-valid</td>\n",
       "      <td>not found through script</td>\n",
       "      <td>no changlog found in script</td>\n",
       "      <td>https://snyk.io/vuln/npm:is-my-json-valid:2018...</td>\n",
       "      <td>NaN</td>\n",
       "      <td>...</td>\n",
       "      <td>NaN</td>\n",
       "      <td>NaN</td>\n",
       "      <td>NaN</td>\n",
       "      <td>NaN</td>\n",
       "      <td>the package that does not have a release note,...</td>\n",
       "      <td>6</td>\n",
       "      <td>yes</td>\n",
       "      <td>NaN</td>\n",
       "      <td>NaN</td>\n",
       "      <td>NaN</td>\n",
       "    </tr>\n",
       "    <tr>\n",
       "      <th>...</th>\n",
       "      <td>...</td>\n",
       "      <td>...</td>\n",
       "      <td>...</td>\n",
       "      <td>...</td>\n",
       "      <td>...</td>\n",
       "      <td>...</td>\n",
       "      <td>...</td>\n",
       "      <td>...</td>\n",
       "      <td>...</td>\n",
       "      <td>...</td>\n",
       "      <td>...</td>\n",
       "      <td>...</td>\n",
       "      <td>...</td>\n",
       "      <td>...</td>\n",
       "      <td>...</td>\n",
       "      <td>...</td>\n",
       "      <td>...</td>\n",
       "      <td>...</td>\n",
       "      <td>...</td>\n",
       "      <td>...</td>\n",
       "      <td>...</td>\n",
       "    </tr>\n",
       "    <tr>\n",
       "      <th>494</th>\n",
       "      <td>SNYK-RUBY-SECUREHEADERS-543239</td>\n",
       "      <td>Command Injection</td>\n",
       "      <td>RubyGems</td>\n",
       "      <td>secure_headers</td>\n",
       "      <td>3.8.0</td>\n",
       "      <td>https://github.com/twitter/secureheaders</td>\n",
       "      <td>not found through script</td>\n",
       "      <td>https://github.com/twitter/secureheaders/blob/...</td>\n",
       "      <td>https://snyk.io/vuln/SNYK-RUBY-SECUREHEADERS-5...</td>\n",
       "      <td>y</td>\n",
       "      <td>...</td>\n",
       "      <td>NaN</td>\n",
       "      <td>NaN</td>\n",
       "      <td>NaN</td>\n",
       "      <td>NaN</td>\n",
       "      <td>NaN</td>\n",
       "      <td>460</td>\n",
       "      <td>resolved</td>\n",
       "      <td>d</td>\n",
       "      <td>changelog in the different branch</td>\n",
       "      <td>NaN</td>\n",
       "    </tr>\n",
       "    <tr>\n",
       "      <th>495</th>\n",
       "      <td>SNYK-RUBY-SECUREHEADERS-543239</td>\n",
       "      <td>Command Injection</td>\n",
       "      <td>RubyGems</td>\n",
       "      <td>secure_headers</td>\n",
       "      <td>6.2.0</td>\n",
       "      <td>https://github.com/twitter/secureheaders</td>\n",
       "      <td>not found through script</td>\n",
       "      <td>https://github.com/twitter/secureheaders/blob/...</td>\n",
       "      <td>https://snyk.io/vuln/SNYK-RUBY-SECUREHEADERS-5...</td>\n",
       "      <td>y</td>\n",
       "      <td>...</td>\n",
       "      <td>NaN</td>\n",
       "      <td>NaN</td>\n",
       "      <td>NaN</td>\n",
       "      <td>NaN</td>\n",
       "      <td>releases in the old branch did not have a rele...</td>\n",
       "      <td>462</td>\n",
       "      <td>resolved</td>\n",
       "      <td>d</td>\n",
       "      <td>NaN</td>\n",
       "      <td>NaN</td>\n",
       "    </tr>\n",
       "    <tr>\n",
       "      <th>496</th>\n",
       "      <td>SNYK-DOTNET-FAVICOJS-60151</td>\n",
       "      <td>Cross-site Scripting (XSS)</td>\n",
       "      <td>NuGet</td>\n",
       "      <td>favico.js</td>\n",
       "      <td>0.3.10</td>\n",
       "      <td>https://github.com/ejci/favico.js</td>\n",
       "      <td>not found through script</td>\n",
       "      <td>no changlog found in script</td>\n",
       "      <td>https://snyk.io/vuln/SNYK-DOTNET-FAVICOJS-60151</td>\n",
       "      <td>y</td>\n",
       "      <td>...</td>\n",
       "      <td>y</td>\n",
       "      <td>NaN</td>\n",
       "      <td>NaN</td>\n",
       "      <td>NaN</td>\n",
       "      <td>NaN</td>\n",
       "      <td>482</td>\n",
       "      <td>yes</td>\n",
       "      <td>y</td>\n",
       "      <td>is_doc is empty in process-frozen-nasif</td>\n",
       "      <td>NaN</td>\n",
       "    </tr>\n",
       "    <tr>\n",
       "      <th>497</th>\n",
       "      <td>SNYK-DOTNET-KNOCKOUT-60180</td>\n",
       "      <td>Cross-site Scripting (XSS)</td>\n",
       "      <td>NuGet</td>\n",
       "      <td>knockout</td>\n",
       "      <td>3.0.0</td>\n",
       "      <td>https://github.com/knockout/knockout</td>\n",
       "      <td>https://github.com/knockout/knockout/releases/...</td>\n",
       "      <td>no changlog found in script</td>\n",
       "      <td>https://snyk.io/vuln/SNYK-DOTNET-KNOCKOUT-60180</td>\n",
       "      <td>y</td>\n",
       "      <td>...</td>\n",
       "      <td>y</td>\n",
       "      <td>y</td>\n",
       "      <td>warning; action required</td>\n",
       "      <td>breaking change notice;action required</td>\n",
       "      <td>NaN</td>\n",
       "      <td>483</td>\n",
       "      <td>yes</td>\n",
       "      <td>y</td>\n",
       "      <td>is_doc is empty in process-frozen-nasif</td>\n",
       "      <td>NaN</td>\n",
       "    </tr>\n",
       "    <tr>\n",
       "      <th>498</th>\n",
       "      <td>SNYK-DOTNET-RESTIFY-60207</td>\n",
       "      <td>Cross-site Scripting (XSS)</td>\n",
       "      <td>NuGet</td>\n",
       "      <td>restify</td>\n",
       "      <td>4.1.0</td>\n",
       "      <td>https://github.com/restify/node-restify</td>\n",
       "      <td>not found through script</td>\n",
       "      <td>https://github.com/restify/node-restify/blob/m...</td>\n",
       "      <td>https://snyk.io/vuln/SNYK-DOTNET-RESTIFY-60207</td>\n",
       "      <td>NaN</td>\n",
       "      <td>...</td>\n",
       "      <td>NaN</td>\n",
       "      <td>NaN</td>\n",
       "      <td>NaN</td>\n",
       "      <td>NaN</td>\n",
       "      <td>NaN</td>\n",
       "      <td>487</td>\n",
       "      <td>resolved</td>\n",
       "      <td>d</td>\n",
       "      <td>has a changelog, but fix not mentioned</td>\n",
       "      <td>NaN</td>\n",
       "    </tr>\n",
       "  </tbody>\n",
       "</table>\n",
       "<p>499 rows × 26 columns</p>\n",
       "</div>"
      ],
      "text/plain": [
       "                            snyk_id  \\\n",
       "0      npm:address-rfc2822:20180225   \n",
       "1          npm:angular-jwt:20180605   \n",
       "2               npm:braces:20180219   \n",
       "3              npm:fastify:20180107   \n",
       "4     npm:is-my-json-valid:20180214   \n",
       "..                              ...   \n",
       "494  SNYK-RUBY-SECUREHEADERS-543239   \n",
       "495  SNYK-RUBY-SECUREHEADERS-543239   \n",
       "496      SNYK-DOTNET-FAVICOJS-60151   \n",
       "497      SNYK-DOTNET-KNOCKOUT-60180   \n",
       "498       SNYK-DOTNET-RESTIFY-60207   \n",
       "\n",
       "                               vulnerability type ecosystem           package  \\\n",
       "0    Regular Expression Denial of Service (ReDoS)       npm   address-rfc2822   \n",
       "1                       Access Restriction Bypass       npm       angular-jwt   \n",
       "2    Regular Expression Denial of Service (ReDoS)       npm            braces   \n",
       "3                         Denial of Service (DoS)       npm           fastify   \n",
       "4    Regular Expression Denial of Service (ReDoS)       npm  is-my-json-valid   \n",
       "..                                            ...       ...               ...   \n",
       "494                             Command Injection  RubyGems    secure_headers   \n",
       "495                             Command Injection  RubyGems    secure_headers   \n",
       "496                    Cross-site Scripting (XSS)     NuGet         favico.js   \n",
       "497                    Cross-site Scripting (XSS)     NuGet          knockout   \n",
       "498                    Cross-site Scripting (XSS)     NuGet           restify   \n",
       "\n",
       "    security release                                  repository_url  \\\n",
       "0              2.0.2  https://github.com/haraka/node-address-rfc2822   \n",
       "1             0.1.10            https://github.com/auth0/angular-jwt   \n",
       "2              2.3.1            https://github.com/micromatch/braces   \n",
       "3             0.38.0              https://github.com/fastify/fastify   \n",
       "4              1.4.1   https://github.com/mafintosh/is-my-json-valid   \n",
       "..               ...                                             ...   \n",
       "494            3.8.0        https://github.com/twitter/secureheaders   \n",
       "495            6.2.0        https://github.com/twitter/secureheaders   \n",
       "496           0.3.10               https://github.com/ejci/favico.js   \n",
       "497            3.0.0            https://github.com/knockout/knockout   \n",
       "498            4.1.0         https://github.com/restify/node-restify   \n",
       "\n",
       "                                 possible release note  \\\n",
       "0                             not found through script   \n",
       "1    https://github.com/auth0/angular-jwt/releases/...   \n",
       "2                             not found through script   \n",
       "3    https://github.com/fastify/fastify/releases/ta...   \n",
       "4                             not found through script   \n",
       "..                                                 ...   \n",
       "494                           not found through script   \n",
       "495                           not found through script   \n",
       "496                           not found through script   \n",
       "497  https://github.com/knockout/knockout/releases/...   \n",
       "498                           not found through script   \n",
       "\n",
       "                                   possible changelogs  \\\n",
       "0    https://github.com/haraka/node-address-rfc2822...   \n",
       "1    https://github.com/auth0/angular-jwt/blob/mast...   \n",
       "2    https://github.com/micromatch/braces/blob/mast...   \n",
       "3                          no changlog found in script   \n",
       "4                          no changlog found in script   \n",
       "..                                                 ...   \n",
       "494  https://github.com/twitter/secureheaders/blob/...   \n",
       "495  https://github.com/twitter/secureheaders/blob/...   \n",
       "496                        no changlog found in script   \n",
       "497                        no changlog found in script   \n",
       "498  https://github.com/restify/node-restify/blob/m...   \n",
       "\n",
       "                                                  link is_doc  ... is_uc  \\\n",
       "0    https://snyk.io/vuln/npm:address-rfc2822:20180225      y  ...   NaN   \n",
       "1        https://snyk.io/vuln/npm:angular-jwt:20180605      y  ...   NaN   \n",
       "2             https://snyk.io/vuln/npm:braces:20180219      y  ...   NaN   \n",
       "3            https://snyk.io/vuln/npm:fastify:20180107      y  ...     y   \n",
       "4    https://snyk.io/vuln/npm:is-my-json-valid:2018...    NaN  ...   NaN   \n",
       "..                                                 ...    ...  ...   ...   \n",
       "494  https://snyk.io/vuln/SNYK-RUBY-SECUREHEADERS-5...      y  ...   NaN   \n",
       "495  https://snyk.io/vuln/SNYK-RUBY-SECUREHEADERS-5...      y  ...   NaN   \n",
       "496    https://snyk.io/vuln/SNYK-DOTNET-FAVICOJS-60151      y  ...     y   \n",
       "497    https://snyk.io/vuln/SNYK-DOTNET-KNOCKOUT-60180      y  ...     y   \n",
       "498     https://snyk.io/vuln/SNYK-DOTNET-RESTIFY-60207    NaN  ...   NaN   \n",
       "\n",
       "    is_br  \\\n",
       "0     NaN   \n",
       "1     NaN   \n",
       "2     NaN   \n",
       "3       y   \n",
       "4     NaN   \n",
       "..    ...   \n",
       "494   NaN   \n",
       "495   NaN   \n",
       "496   NaN   \n",
       "497     y   \n",
       "498   NaN   \n",
       "\n",
       "    how the breaking change is mentioned? (initial codes); separated by semicolon  \\\n",
       "0                                                  NaN                              \n",
       "1                                                  NaN                              \n",
       "2                                                  NaN                              \n",
       "3                 breaking change notice; pr reference                              \n",
       "4                                                  NaN                              \n",
       "..                                                 ...                              \n",
       "494                                                NaN                              \n",
       "495                                                NaN                              \n",
       "496                                                NaN                              \n",
       "497                           warning; action required                              \n",
       "498                                                NaN                              \n",
       "\n",
       "                                  breaking_pattern  \\\n",
       "0                                              NaN   \n",
       "1                                              NaN   \n",
       "2                                              NaN   \n",
       "3    breaking change notice; code change reference   \n",
       "4                                              NaN   \n",
       "..                                             ...   \n",
       "494                                            NaN   \n",
       "495                                            NaN   \n",
       "496                                            NaN   \n",
       "497         breaking change notice;action required   \n",
       "498                                            NaN   \n",
       "\n",
       "                                   Additional Comments  row    agreed  \\\n",
       "0                                                  NaN    2       yes   \n",
       "1                                                  NaN    3  resolved   \n",
       "2                                                  NaN    4       yes   \n",
       "3                                                  NaN    5       yes   \n",
       "4    the package that does not have a release note,...    6       yes   \n",
       "..                                                 ...  ...       ...   \n",
       "494                                                NaN  460  resolved   \n",
       "495  releases in the old branch did not have a rele...  462  resolved   \n",
       "496                                                NaN  482       yes   \n",
       "497                                                NaN  483       yes   \n",
       "498                                                NaN  487  resolved   \n",
       "\n",
       "    external_codes                              Unnamed: 23 Unnamed: 24  \n",
       "0              NaN                                      NaN         NaN  \n",
       "1                f                                      NaN         NaN  \n",
       "2              NaN                                      NaN         NaN  \n",
       "3              NaN                                      NaN         NaN  \n",
       "4              NaN                                      NaN         NaN  \n",
       "..             ...                                      ...         ...  \n",
       "494              d        changelog in the different branch         NaN  \n",
       "495              d                                      NaN         NaN  \n",
       "496              y  is_doc is empty in process-frozen-nasif         NaN  \n",
       "497              y  is_doc is empty in process-frozen-nasif         NaN  \n",
       "498              d   has a changelog, but fix not mentioned         NaN  \n",
       "\n",
       "[499 rows x 26 columns]"
      ]
     },
     "execution_count": 522,
     "metadata": {},
     "output_type": "execute_result"
    }
   ],
   "source": [
    "csv"
   ]
  },
  {
   "cell_type": "code",
   "execution_count": 523,
   "metadata": {},
   "outputs": [
    {
     "data": {
      "text/plain": [
       "4396"
      ]
     },
     "execution_count": 523,
     "metadata": {},
     "output_type": "execute_result"
    }
   ],
   "source": [
    "q = '''select a.id as snyk_id, p.ecosystem, a.publish_date as snyk_date, ac.cve_date,\n",
    "       ri.version, ri.publish_date as release_date\n",
    "from advisory a\n",
    "    left join (select advisory_id, min(C.publish_Date) as cve_date\n",
    "from advisoryCVE aC\n",
    "join CVE C on aC.cve = C.cve\n",
    "group by advisory_id) as ac\n",
    "    on ac.advisory_id=a.id\n",
    "join package p on a.package_id = p.id\n",
    "join fixing_releases fr on a.id = fr.advisory_id\n",
    "join release_info ri on p.id = ri.package_id and fr.version=ri.version\n",
    "where ri.publish_date is not null '''\n",
    "df = pd.DataFrame(sql.execute(q))\n",
    "df['cve_date'] = df['cve_date'].dt.date\n",
    "t1 = df[~df['cve_date'].isna()].copy()\n",
    "t1['advisory_date'] = t1[['cve_date', 'snyk_date']].min(axis=1)\n",
    "t2 = df[df['cve_date'].isna()].copy()\n",
    "t2['advisory_date'] = t2['snyk_date']\n",
    "df = pd.concat([t1, t2], ignore_index=True, sort=False)\n",
    "df = df.rename(columns = {'version':'security release'})\n",
    "df['rtp_delay'] = (df['advisory_date'] - df['release_date'].dt.date).dt.days\n",
    "df = df[df['rtp_delay'] >= 0]\n",
    "len(df)"
   ]
  },
  {
   "cell_type": "code",
   "execution_count": 524,
   "metadata": {},
   "outputs": [
    {
     "data": {
      "text/plain": [
       "362"
      ]
     },
     "execution_count": 524,
     "metadata": {},
     "output_type": "execute_result"
    }
   ],
   "source": [
    "rtp = pd.merge(csv, df, on =['snyk_id', 'security release'])\n",
    "len(rtp)"
   ]
  },
  {
   "cell_type": "code",
   "execution_count": 525,
   "metadata": {},
   "outputs": [
    {
     "data": {
      "text/plain": [
       "(89, 21.0)"
      ]
     },
     "execution_count": 525,
     "metadata": {},
     "output_type": "execute_result"
    }
   ],
   "source": [
    "nodoc = rtp[rtp['is_doc'] != 'y']\n",
    "len(nodoc), nodoc['rtp_delay'].median()"
   ]
  },
  {
   "cell_type": "code",
   "execution_count": 526,
   "metadata": {},
   "outputs": [
    {
     "data": {
      "text/plain": [
       "count      44.000000\n",
       "mean      536.659091\n",
       "std       810.669231\n",
       "min         2.000000\n",
       "25%        21.000000\n",
       "50%       161.000000\n",
       "75%       843.000000\n",
       "max      3424.000000\n",
       "Name: rtp_delay, dtype: float64"
      ]
     },
     "execution_count": 526,
     "metadata": {},
     "output_type": "execute_result"
    }
   ],
   "source": [
    "rtp = rtp[rtp['is_doc'] == 'y']\n",
    "nofix = rtp[rtp['is_fix']!='y']\n",
    "nofix['rtp_delay'].describe()"
   ]
  },
  {
   "cell_type": "code",
   "execution_count": 527,
   "metadata": {},
   "outputs": [
    {
     "data": {
      "text/plain": [
       "count     229.000000\n",
       "mean      167.310044\n",
       "std       450.383165\n",
       "min         0.000000\n",
       "25%         1.000000\n",
       "50%         9.000000\n",
       "75%        54.000000\n",
       "max      2726.000000\n",
       "Name: rtp_delay, dtype: float64"
      ]
     },
     "execution_count": 527,
     "metadata": {},
     "output_type": "execute_result"
    }
   ],
   "source": [
    "rtp = rtp[rtp['is_fix'] == 'y']\n",
    "rtp['rtp_delay'].describe()"
   ]
  },
  {
   "cell_type": "code",
   "execution_count": 528,
   "metadata": {},
   "outputs": [
    {
     "data": {
      "text/plain": [
       "(156, 156)"
      ]
     },
     "execution_count": 528,
     "metadata": {},
     "output_type": "execute_result"
    }
   ],
   "source": [
    "rtp= rtp.to_dict('records')\n",
    "delays = []\n",
    "y=0\n",
    "for row in rtp:\n",
    "    s = row['fix_pattern']\n",
    "    s = str(s).split(';')\n",
    "    for i,e in enumerate(s):\n",
    "        s[i] =  e.lower().strip()\n",
    "    if 'security notice' in s:\n",
    "        y+=1\n",
    "        delays.append(row['rtp_delay'])\n",
    "    else:\n",
    "        n+=1\n",
    "y, len(delays)"
   ]
  },
  {
   "cell_type": "code",
   "execution_count": 529,
   "metadata": {},
   "outputs": [
    {
     "data": {
      "text/plain": [
       "count     156.000000\n",
       "mean      132.775641\n",
       "std       363.849164\n",
       "min         0.000000\n",
       "25%         1.000000\n",
       "50%         8.000000\n",
       "75%        30.500000\n",
       "max      2544.000000\n",
       "dtype: float64"
      ]
     },
     "execution_count": 529,
     "metadata": {},
     "output_type": "execute_result"
    }
   ],
   "source": [
    "delays = pd.Series(delays)\n",
    "delays.describe()"
   ]
  },
  {
   "cell_type": "code",
   "execution_count": 530,
   "metadata": {},
   "outputs": [
    {
     "data": {
      "text/plain": [
       "39"
      ]
     },
     "execution_count": 530,
     "metadata": {},
     "output_type": "execute_result"
    }
   ],
   "source": [
    "len(delays[delays> 30])"
   ]
  }
 ],
 "metadata": {
  "interpreter": {
   "hash": "45e6bb90db539892217150e51eb80500a9bf028439c0d739bd24c7b8d42327c6"
  },
  "kernelspec": {
   "display_name": "Python 3.9.7 64-bit ('advisory-lifecycle-RDwwAgfI': venv)",
   "name": "python3"
  },
  "language_info": {
   "codemirror_mode": {
    "name": "ipython",
    "version": 3
   },
   "file_extension": ".py",
   "mimetype": "text/x-python",
   "name": "python",
   "nbconvert_exporter": "python",
   "pygments_lexer": "ipython3",
   "version": "3.9.10"
  },
  "orig_nbformat": 2
 },
 "nbformat": 4,
 "nbformat_minor": 2
}
