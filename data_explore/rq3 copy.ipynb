{
 "metadata": {
  "language_info": {
   "codemirror_mode": {
    "name": "ipython",
    "version": 3
   },
   "file_extension": ".py",
   "mimetype": "text/x-python",
   "name": "python",
   "nbconvert_exporter": "python",
   "pygments_lexer": "ipython3",
   "version": "3.9.4"
  },
  "orig_nbformat": 2,
  "kernelspec": {
   "name": "python394jvsc74a57bd045e6bb90db539892217150e51eb80500a9bf028439c0d739bd24c7b8d42327c6",
   "display_name": "Python 3.9.4 64-bit ('advisory-lifecycle': pipenv)"
  }
 },
 "nbformat": 4,
 "nbformat_minor": 2,
 "cells": [
  {
   "cell_type": "code",
   "execution_count": 45,
   "metadata": {},
   "outputs": [],
   "source": [
    "import sys\n",
    "sys.path.append('..')\n",
    "import sql\n",
    "import pandas as pd\n",
    "from functools import reduce\n",
    "from tabulate import tabulate\n",
    "import datetime\n",
    "import matplotlib.pyplot as plt"
   ]
  },
  {
   "cell_type": "code",
   "execution_count": 46,
   "metadata": {},
   "outputs": [],
   "source": [
    "# query used to extract random samples\n",
    "q = ''' -- insert into manual_sample\n",
    "    with rand_cves as (\n",
    "    select ecosystem, a.id as advisory_id, p.id as package_id, a.type,\n",
    "           row_number() over (partition by ecosystem order by rand()) as rand_sample\n",
    "    from snykvuln.advisory a\n",
    "    join package p on a.package_id = p.id\n",
    "    where a.id in (select advisory_id from fixing_releases)\n",
    "    and year(publish_date) >= 2018\n",
    "            and ecosystem != 'cocoapods'\n",
    "        and a.id in (select distinct advisory_id from advisoryCVE)\n",
    "    ),\n",
    "    rand_noncves as (\n",
    "    select ecosystem, a.id as advisory_id, p.id as package_id, a.type,\n",
    "           row_number() over (partition by ecosystem order by rand()) as rand_sample\n",
    "    from snykvuln.advisory a\n",
    "    join package p on a.package_id = p.id\n",
    "    where a.id in (select advisory_id from fixing_releases)\n",
    "    and year(publish_date) >= 2018\n",
    "            and ecosystem != 'cocoapods'\n",
    "        and a.id not in (select distinct advisory_id from advisoryCVE)\n",
    "    )\n",
    "        select * from\n",
    "    (select ecosystem, advisory_id, package_id, type\n",
    "    from rand_cves\n",
    "    where rand_sample <=25\n",
    "    union\n",
    "    select ecosystem, advisory_id, package_id, type\n",
    "    from rand_noncves\n",
    "    where rand_sample <=25) as sub; '''\n"
   ]
  },
  {
   "cell_type": "code",
   "execution_count": 47,
   "metadata": {},
   "outputs": [
    {
     "output_type": "execute_result",
     "data": {
      "text/plain": [
       "['Total', '350 (175)', 285, '465 (499)', 499, 68]"
      ]
     },
     "metadata": {},
     "execution_count": 47
    }
   ],
   "source": [
    "q='''select *,\n",
    "       case\n",
    "            when exists(select * from advisoryCVE aC where aC.advisory_id = ms.advisory_id)\n",
    "            then 'CVE'\n",
    "            else 'non-CVE'\n",
    "        end as if_cve\n",
    "from manual_sample ms\n",
    "join fixing_releases fr on ms.advisory_id = fr.advisory_id\n",
    "join advisoryCWE a on fr.advisory_id = a.advisory_id\n",
    "where version != 'manual checkup needed';'''\n",
    "df = pd.DataFrame(sql.execute(q))\n",
    "manualsample_sql = df\n",
    "total_types= df['type'].nunique()\n",
    "total = ['Total', \n",
    "            str(df['advisory_id'].nunique()) +' (' +str(df[df['if_cve']=='non-CVE']['advisory_id'].nunique()) + ')', \n",
    "            df['package_id'].nunique(), \n",
    "            str(len(df.groupby(['package_id','version']))) +' (' + str(len(df.groupby(['advisory_id','package_id','version']))) +')', \n",
    "            len(df.groupby(['advisory_id','package_id','version'])), df['cwe'].nunique()]\n",
    "total"
   ]
  },
  {
   "cell_type": "code",
   "execution_count": 48,
   "metadata": {},
   "outputs": [
    {
     "output_type": "execute_result",
     "data": {
      "text/plain": [
       "  ecosystem advisory  package distinct releases  releases\n",
       "0  Composer  50 (25)       30           72 (98)        98\n",
       "1        Go  50 (25)       49           65 (66)        66\n",
       "2     Maven  50 (25)       49           76 (76)        76\n",
       "3     NuGet  50 (25)       28           56 (60)        60\n",
       "4  RubyGems  50 (25)       40           65 (65)        65\n",
       "5       npm  50 (25)       44           70 (70)        70\n",
       "6       pip  50 (25)       45           61 (64)        64"
      ],
      "text/html": "<div>\n<style scoped>\n    .dataframe tbody tr th:only-of-type {\n        vertical-align: middle;\n    }\n\n    .dataframe tbody tr th {\n        vertical-align: top;\n    }\n\n    .dataframe thead th {\n        text-align: right;\n    }\n</style>\n<table border=\"1\" class=\"dataframe\">\n  <thead>\n    <tr style=\"text-align: right;\">\n      <th></th>\n      <th>ecosystem</th>\n      <th>advisory</th>\n      <th>package</th>\n      <th>distinct releases</th>\n      <th>releases</th>\n    </tr>\n  </thead>\n  <tbody>\n    <tr>\n      <th>0</th>\n      <td>Composer</td>\n      <td>50 (25)</td>\n      <td>30</td>\n      <td>72 (98)</td>\n      <td>98</td>\n    </tr>\n    <tr>\n      <th>1</th>\n      <td>Go</td>\n      <td>50 (25)</td>\n      <td>49</td>\n      <td>65 (66)</td>\n      <td>66</td>\n    </tr>\n    <tr>\n      <th>2</th>\n      <td>Maven</td>\n      <td>50 (25)</td>\n      <td>49</td>\n      <td>76 (76)</td>\n      <td>76</td>\n    </tr>\n    <tr>\n      <th>3</th>\n      <td>NuGet</td>\n      <td>50 (25)</td>\n      <td>28</td>\n      <td>56 (60)</td>\n      <td>60</td>\n    </tr>\n    <tr>\n      <th>4</th>\n      <td>RubyGems</td>\n      <td>50 (25)</td>\n      <td>40</td>\n      <td>65 (65)</td>\n      <td>65</td>\n    </tr>\n    <tr>\n      <th>5</th>\n      <td>npm</td>\n      <td>50 (25)</td>\n      <td>44</td>\n      <td>70 (70)</td>\n      <td>70</td>\n    </tr>\n    <tr>\n      <th>6</th>\n      <td>pip</td>\n      <td>50 (25)</td>\n      <td>45</td>\n      <td>61 (64)</td>\n      <td>64</td>\n    </tr>\n  </tbody>\n</table>\n</div>"
     },
     "metadata": {},
     "execution_count": 48
    }
   ],
   "source": [
    "advisory = df.groupby('ecosystem')[['advisory_id']].nunique()\n",
    "package = df.groupby('ecosystem')[['package_id']].nunique()\n",
    "noncve = (df.loc[df['if_cve']=='non-CVE']).groupby('ecosystem')[['advisory_id']].nunique()\n",
    "releases = df.groupby(['ecosystem','package_id','version']).size().groupby(level=0).size()\n",
    "releases = releases.reset_index()\n",
    "total_rel = df.groupby(['ecosystem','advisory_id','package_id','version']).size().groupby(level=0).size()\n",
    "total_rel = total_rel.reset_index()\n",
    "df=reduce(lambda x,y : pd.merge(x,y,on='ecosystem'),[advisory,package,noncve,releases, total_rel])\n",
    "df.columns = ['ecosystem','advisory', 'package', 'non-cve','distinct releases', 'releases']\n",
    "df['advisory'] = df['advisory'].map(str) + ' (' + df['non-cve'].map(str) + ')'\n",
    "df['distinct releases'] = df['distinct releases'].map(str) + ' (' + df['releases'].map(str) + ')'\n",
    "df = df.drop(['non-cve'], axis =1)\n",
    "df"
   ]
  },
  {
   "cell_type": "code",
   "execution_count": 49,
   "metadata": {},
   "outputs": [],
   "source": [
    "q = '''select p.ecosystem, ac.cwe as cwe\n",
    "from manual_sample ms\n",
    "join advisoryCWE aC on ms.advisory_id = aC.advisory_id\n",
    "join advisory a on aC.advisory_id = a.id\n",
    "join package p on a.package_id = p.id;'''\n",
    "cwe = pd.DataFrame(sql.execute(q))\n",
    "total_cwes = cwe['cwe'].nunique()\n",
    "cwe = cwe.groupby('ecosystem')[['cwe']].nunique()"
   ]
  },
  {
   "cell_type": "code",
   "execution_count": 50,
   "metadata": {},
   "outputs": [
    {
     "output_type": "execute_result",
     "data": {
      "text/plain": [
       "  ecosystem advisory  package distinct releases  releases  cwe\n",
       "0  Composer  50 (25)       30           72 (98)        98   18\n",
       "1        Go  50 (25)       49           65 (66)        66   25\n",
       "2     Maven  50 (25)       49           76 (76)        76   25\n",
       "3     NuGet  50 (25)       28           56 (60)        60   14\n",
       "4  RubyGems  50 (25)       40           65 (65)        65   20\n",
       "5       npm  50 (25)       44           70 (70)        70   18\n",
       "6       pip  50 (25)       45           61 (64)        64   31"
      ],
      "text/html": "<div>\n<style scoped>\n    .dataframe tbody tr th:only-of-type {\n        vertical-align: middle;\n    }\n\n    .dataframe tbody tr th {\n        vertical-align: top;\n    }\n\n    .dataframe thead th {\n        text-align: right;\n    }\n</style>\n<table border=\"1\" class=\"dataframe\">\n  <thead>\n    <tr style=\"text-align: right;\">\n      <th></th>\n      <th>ecosystem</th>\n      <th>advisory</th>\n      <th>package</th>\n      <th>distinct releases</th>\n      <th>releases</th>\n      <th>cwe</th>\n    </tr>\n  </thead>\n  <tbody>\n    <tr>\n      <th>0</th>\n      <td>Composer</td>\n      <td>50 (25)</td>\n      <td>30</td>\n      <td>72 (98)</td>\n      <td>98</td>\n      <td>18</td>\n    </tr>\n    <tr>\n      <th>1</th>\n      <td>Go</td>\n      <td>50 (25)</td>\n      <td>49</td>\n      <td>65 (66)</td>\n      <td>66</td>\n      <td>25</td>\n    </tr>\n    <tr>\n      <th>2</th>\n      <td>Maven</td>\n      <td>50 (25)</td>\n      <td>49</td>\n      <td>76 (76)</td>\n      <td>76</td>\n      <td>25</td>\n    </tr>\n    <tr>\n      <th>3</th>\n      <td>NuGet</td>\n      <td>50 (25)</td>\n      <td>28</td>\n      <td>56 (60)</td>\n      <td>60</td>\n      <td>14</td>\n    </tr>\n    <tr>\n      <th>4</th>\n      <td>RubyGems</td>\n      <td>50 (25)</td>\n      <td>40</td>\n      <td>65 (65)</td>\n      <td>65</td>\n      <td>20</td>\n    </tr>\n    <tr>\n      <th>5</th>\n      <td>npm</td>\n      <td>50 (25)</td>\n      <td>44</td>\n      <td>70 (70)</td>\n      <td>70</td>\n      <td>18</td>\n    </tr>\n    <tr>\n      <th>6</th>\n      <td>pip</td>\n      <td>50 (25)</td>\n      <td>45</td>\n      <td>61 (64)</td>\n      <td>64</td>\n      <td>31</td>\n    </tr>\n  </tbody>\n</table>\n</div>"
     },
     "metadata": {},
     "execution_count": 50
    }
   ],
   "source": [
    "df=reduce(lambda x,y : pd.merge(x,y,on='ecosystem'),[df, cwe])\n",
    "df"
   ]
  },
  {
   "cell_type": "code",
   "execution_count": 51,
   "metadata": {},
   "outputs": [
    {
     "output_type": "execute_result",
     "data": {
      "text/plain": [
       "  ecosystem   advisory  package distinct releases  releases  cwe\n",
       "0  Composer    50 (25)       30           72 (98)        98   18\n",
       "1        Go    50 (25)       49           65 (66)        66   25\n",
       "2     Maven    50 (25)       49           76 (76)        76   25\n",
       "3     NuGet    50 (25)       28           56 (60)        60   14\n",
       "4  RubyGems    50 (25)       40           65 (65)        65   20\n",
       "5       npm    50 (25)       44           70 (70)        70   18\n",
       "6       pip    50 (25)       45           61 (64)        64   31\n",
       "7     Total  350 (175)      285         465 (499)       499   68"
      ],
      "text/html": "<div>\n<style scoped>\n    .dataframe tbody tr th:only-of-type {\n        vertical-align: middle;\n    }\n\n    .dataframe tbody tr th {\n        vertical-align: top;\n    }\n\n    .dataframe thead th {\n        text-align: right;\n    }\n</style>\n<table border=\"1\" class=\"dataframe\">\n  <thead>\n    <tr style=\"text-align: right;\">\n      <th></th>\n      <th>ecosystem</th>\n      <th>advisory</th>\n      <th>package</th>\n      <th>distinct releases</th>\n      <th>releases</th>\n      <th>cwe</th>\n    </tr>\n  </thead>\n  <tbody>\n    <tr>\n      <th>0</th>\n      <td>Composer</td>\n      <td>50 (25)</td>\n      <td>30</td>\n      <td>72 (98)</td>\n      <td>98</td>\n      <td>18</td>\n    </tr>\n    <tr>\n      <th>1</th>\n      <td>Go</td>\n      <td>50 (25)</td>\n      <td>49</td>\n      <td>65 (66)</td>\n      <td>66</td>\n      <td>25</td>\n    </tr>\n    <tr>\n      <th>2</th>\n      <td>Maven</td>\n      <td>50 (25)</td>\n      <td>49</td>\n      <td>76 (76)</td>\n      <td>76</td>\n      <td>25</td>\n    </tr>\n    <tr>\n      <th>3</th>\n      <td>NuGet</td>\n      <td>50 (25)</td>\n      <td>28</td>\n      <td>56 (60)</td>\n      <td>60</td>\n      <td>14</td>\n    </tr>\n    <tr>\n      <th>4</th>\n      <td>RubyGems</td>\n      <td>50 (25)</td>\n      <td>40</td>\n      <td>65 (65)</td>\n      <td>65</td>\n      <td>20</td>\n    </tr>\n    <tr>\n      <th>5</th>\n      <td>npm</td>\n      <td>50 (25)</td>\n      <td>44</td>\n      <td>70 (70)</td>\n      <td>70</td>\n      <td>18</td>\n    </tr>\n    <tr>\n      <th>6</th>\n      <td>pip</td>\n      <td>50 (25)</td>\n      <td>45</td>\n      <td>61 (64)</td>\n      <td>64</td>\n      <td>31</td>\n    </tr>\n    <tr>\n      <th>7</th>\n      <td>Total</td>\n      <td>350 (175)</td>\n      <td>285</td>\n      <td>465 (499)</td>\n      <td>499</td>\n      <td>68</td>\n    </tr>\n  </tbody>\n</table>\n</div>"
     },
     "metadata": {},
     "execution_count": 51
    }
   ],
   "source": [
    "df.loc[len(df)] = total\n",
    "df"
   ]
  },
  {
   "cell_type": "code",
   "execution_count": 52,
   "metadata": {},
   "outputs": [
    {
     "output_type": "stream",
     "name": "stdout",
     "text": [
      "\\begin{tabular}{llrlrr}\n\\hline\n ecosystem   & advisory   &   package & distinct releases   &   releases &   cwe \\\\\n\\hline\n Composer    & 50 (25)    &        30 & 72 (98)             &         98 &    18 \\\\\n Go          & 50 (25)    &        49 & 65 (66)             &         66 &    25 \\\\\n Maven       & 50 (25)    &        49 & 76 (76)             &         76 &    25 \\\\\n NuGet       & 50 (25)    &        28 & 56 (60)             &         60 &    14 \\\\\n RubyGems    & 50 (25)    &        40 & 65 (65)             &         65 &    20 \\\\\n npm         & 50 (25)    &        44 & 70 (70)             &         70 &    18 \\\\\n pip         & 50 (25)    &        45 & 61 (64)             &         64 &    31 \\\\\n Total       & 350 (175)  &       285 & 465 (499)           &        499 &    68 \\\\\n\\hline\n\\end{tabular}\n"
     ]
    }
   ],
   "source": [
    "print(tabulate(df, tablefmt='latex', headers='keys',showindex=False))"
   ]
  },
  {
   "cell_type": "code",
   "execution_count": 53,
   "metadata": {},
   "outputs": [
    {
     "output_type": "execute_result",
     "data": {
      "text/plain": [
       "499"
      ]
     },
     "metadata": {},
     "execution_count": 53
    }
   ],
   "source": [
    "csv = pd.read_csv('process-frozen-aniqa.csv')\n",
    "csv = csv.rename(columns = {'Is there a documentation source?': 'is_doc','is the fix mentioned?':'is_fix', 'is there unrelated change mentioned?': 'is_uc', 'is breaking change mentioned?':'is_br' , 'main source' :'doc_source', 'How is the fix mentioned? (final codes); separated by semicolon':'fix_pattern',\n",
    "'how the breaking change is mentioned? (final codes); separated by semicolon':'breaking_pattern'})\n",
    "len(csv)"
   ]
  },
  {
   "cell_type": "code",
   "execution_count": 54,
   "metadata": {},
   "outputs": [],
   "source": [
    "assert df.iloc[7,4] == len(csv)"
   ]
  },
  {
   "cell_type": "code",
   "execution_count": 55,
   "metadata": {},
   "outputs": [
    {
     "output_type": "execute_result",
     "data": {
      "text/plain": [
       "(           is_doc\n",
       " ecosystem        \n",
       " Composer       57\n",
       " Go             50\n",
       " Maven          44\n",
       " NuGet          52\n",
       " RubyGems       43\n",
       " npm            38\n",
       " pip            53,)"
      ]
     },
     "metadata": {},
     "execution_count": 55
    }
   ],
   "source": [
    "doc = csv\n",
    "doc['is_doc'] = doc['is_doc'].mask(doc['is_doc'].ne('Y'))\n",
    "temp_count = doc['is_doc'].count()\n",
    "temp_rate = round(temp_count/total[4]*100,1)\n",
    "temp = str(temp_count) + ' (' + str(temp_rate) + '%)'\n",
    "total.append(temp)\n",
    "doc = doc.groupby('ecosystem')[['is_doc']].count()\n",
    "doc, "
   ]
  },
  {
   "cell_type": "code",
   "execution_count": 56,
   "metadata": {},
   "outputs": [
    {
     "output_type": "execute_result",
     "data": {
      "text/plain": [
       "           is_fix\n",
       "ecosystem        \n",
       "Composer       60\n",
       "Go             43\n",
       "Maven          37\n",
       "NuGet          38\n",
       "RubyGems       40\n",
       "npm            31\n",
       "pip            49"
      ],
      "text/html": "<div>\n<style scoped>\n    .dataframe tbody tr th:only-of-type {\n        vertical-align: middle;\n    }\n\n    .dataframe tbody tr th {\n        vertical-align: top;\n    }\n\n    .dataframe thead th {\n        text-align: right;\n    }\n</style>\n<table border=\"1\" class=\"dataframe\">\n  <thead>\n    <tr style=\"text-align: right;\">\n      <th></th>\n      <th>is_fix</th>\n    </tr>\n    <tr>\n      <th>ecosystem</th>\n      <th></th>\n    </tr>\n  </thead>\n  <tbody>\n    <tr>\n      <th>Composer</th>\n      <td>60</td>\n    </tr>\n    <tr>\n      <th>Go</th>\n      <td>43</td>\n    </tr>\n    <tr>\n      <th>Maven</th>\n      <td>37</td>\n    </tr>\n    <tr>\n      <th>NuGet</th>\n      <td>38</td>\n    </tr>\n    <tr>\n      <th>RubyGems</th>\n      <td>40</td>\n    </tr>\n    <tr>\n      <th>npm</th>\n      <td>31</td>\n    </tr>\n    <tr>\n      <th>pip</th>\n      <td>49</td>\n    </tr>\n  </tbody>\n</table>\n</div>"
     },
     "metadata": {},
     "execution_count": 56
    }
   ],
   "source": [
    "fix = csv\n",
    "fix['is_fix'] = fix['is_fix'].mask(fix['is_fix'].ne('Y'))\n",
    "temp_count = fix['is_fix'].count()\n",
    "temp_rate = round(temp_count/total[4]*100,1)\n",
    "temp = str(temp_count) + ' (' + str(temp_rate) + '%)'\n",
    "total.append(temp)\n",
    "fix = fix.groupby('ecosystem')[['is_fix']].count()\n",
    "fix"
   ]
  },
  {
   "cell_type": "code",
   "execution_count": 57,
   "metadata": {},
   "outputs": [
    {
     "output_type": "execute_result",
     "data": {
      "text/plain": [
       "           is_uc\n",
       "ecosystem       \n",
       "Composer      58\n",
       "Go            37\n",
       "Maven         33\n",
       "NuGet         44\n",
       "RubyGems      23\n",
       "npm           21\n",
       "pip           43"
      ],
      "text/html": "<div>\n<style scoped>\n    .dataframe tbody tr th:only-of-type {\n        vertical-align: middle;\n    }\n\n    .dataframe tbody tr th {\n        vertical-align: top;\n    }\n\n    .dataframe thead th {\n        text-align: right;\n    }\n</style>\n<table border=\"1\" class=\"dataframe\">\n  <thead>\n    <tr style=\"text-align: right;\">\n      <th></th>\n      <th>is_uc</th>\n    </tr>\n    <tr>\n      <th>ecosystem</th>\n      <th></th>\n    </tr>\n  </thead>\n  <tbody>\n    <tr>\n      <th>Composer</th>\n      <td>58</td>\n    </tr>\n    <tr>\n      <th>Go</th>\n      <td>37</td>\n    </tr>\n    <tr>\n      <th>Maven</th>\n      <td>33</td>\n    </tr>\n    <tr>\n      <th>NuGet</th>\n      <td>44</td>\n    </tr>\n    <tr>\n      <th>RubyGems</th>\n      <td>23</td>\n    </tr>\n    <tr>\n      <th>npm</th>\n      <td>21</td>\n    </tr>\n    <tr>\n      <th>pip</th>\n      <td>43</td>\n    </tr>\n  </tbody>\n</table>\n</div>"
     },
     "metadata": {},
     "execution_count": 57
    }
   ],
   "source": [
    "uc = csv\n",
    "uc['is_uc'] = uc['is_uc'].mask(uc['is_uc'].ne('Y'))\n",
    "temp_count = uc['is_uc'].count()\n",
    "temp_rate = round(temp_count/total[4]*100,1)\n",
    "temp = str(temp_count) + ' (' + str(temp_rate) + '%)'\n",
    "total.append(temp)\n",
    "uc = uc.groupby('ecosystem')[['is_uc']].count()\n",
    "uc\n"
   ]
  },
  {
   "cell_type": "code",
   "execution_count": 58,
   "metadata": {},
   "outputs": [
    {
     "output_type": "execute_result",
     "data": {
      "text/plain": [
       "           is_br\n",
       "ecosystem       \n",
       "Composer       2\n",
       "Go             7\n",
       "Maven          2\n",
       "NuGet          0\n",
       "RubyGems       1\n",
       "npm            7\n",
       "pip            9"
      ],
      "text/html": "<div>\n<style scoped>\n    .dataframe tbody tr th:only-of-type {\n        vertical-align: middle;\n    }\n\n    .dataframe tbody tr th {\n        vertical-align: top;\n    }\n\n    .dataframe thead th {\n        text-align: right;\n    }\n</style>\n<table border=\"1\" class=\"dataframe\">\n  <thead>\n    <tr style=\"text-align: right;\">\n      <th></th>\n      <th>is_br</th>\n    </tr>\n    <tr>\n      <th>ecosystem</th>\n      <th></th>\n    </tr>\n  </thead>\n  <tbody>\n    <tr>\n      <th>Composer</th>\n      <td>2</td>\n    </tr>\n    <tr>\n      <th>Go</th>\n      <td>7</td>\n    </tr>\n    <tr>\n      <th>Maven</th>\n      <td>2</td>\n    </tr>\n    <tr>\n      <th>NuGet</th>\n      <td>0</td>\n    </tr>\n    <tr>\n      <th>RubyGems</th>\n      <td>1</td>\n    </tr>\n    <tr>\n      <th>npm</th>\n      <td>7</td>\n    </tr>\n    <tr>\n      <th>pip</th>\n      <td>9</td>\n    </tr>\n  </tbody>\n</table>\n</div>"
     },
     "metadata": {},
     "execution_count": 58
    }
   ],
   "source": [
    "br = csv\n",
    "br['is_br'] = br['is_br'].mask(br['is_br'].ne('Y'))\n",
    "temp_count =br['is_br'].count()\n",
    "temp_rate = round(temp_count/total[4]*100,1)\n",
    "temp = str(temp_count) + ' (' + str(temp_rate) + '%)'\n",
    "total.append(temp)\n",
    "br = br.groupby('ecosystem')[['is_br']].count()\n",
    "br"
   ]
  },
  {
   "cell_type": "code",
   "execution_count": 59,
   "metadata": {},
   "outputs": [
    {
     "output_type": "execute_result",
     "data": {
      "text/plain": [
       "  ecosystem advisory  package distinct releases  releases  cwe  is_doc  \\\n",
       "0  Composer  50 (25)       30           72 (98)        98   18      57   \n",
       "1        Go  50 (25)       49           65 (66)        66   25      50   \n",
       "2     Maven  50 (25)       49           76 (76)        76   25      44   \n",
       "3     NuGet  50 (25)       28           56 (60)        60   14      52   \n",
       "4  RubyGems  50 (25)       40           65 (65)        65   20      43   \n",
       "5       npm  50 (25)       44           70 (70)        70   18      38   \n",
       "6       pip  50 (25)       45           61 (64)        64   31      53   \n",
       "\n",
       "   is_fix  is_uc  is_br  \n",
       "0      60     58      2  \n",
       "1      43     37      7  \n",
       "2      37     33      2  \n",
       "3      38     44      0  \n",
       "4      40     23      1  \n",
       "5      31     21      7  \n",
       "6      49     43      9  "
      ],
      "text/html": "<div>\n<style scoped>\n    .dataframe tbody tr th:only-of-type {\n        vertical-align: middle;\n    }\n\n    .dataframe tbody tr th {\n        vertical-align: top;\n    }\n\n    .dataframe thead th {\n        text-align: right;\n    }\n</style>\n<table border=\"1\" class=\"dataframe\">\n  <thead>\n    <tr style=\"text-align: right;\">\n      <th></th>\n      <th>ecosystem</th>\n      <th>advisory</th>\n      <th>package</th>\n      <th>distinct releases</th>\n      <th>releases</th>\n      <th>cwe</th>\n      <th>is_doc</th>\n      <th>is_fix</th>\n      <th>is_uc</th>\n      <th>is_br</th>\n    </tr>\n  </thead>\n  <tbody>\n    <tr>\n      <th>0</th>\n      <td>Composer</td>\n      <td>50 (25)</td>\n      <td>30</td>\n      <td>72 (98)</td>\n      <td>98</td>\n      <td>18</td>\n      <td>57</td>\n      <td>60</td>\n      <td>58</td>\n      <td>2</td>\n    </tr>\n    <tr>\n      <th>1</th>\n      <td>Go</td>\n      <td>50 (25)</td>\n      <td>49</td>\n      <td>65 (66)</td>\n      <td>66</td>\n      <td>25</td>\n      <td>50</td>\n      <td>43</td>\n      <td>37</td>\n      <td>7</td>\n    </tr>\n    <tr>\n      <th>2</th>\n      <td>Maven</td>\n      <td>50 (25)</td>\n      <td>49</td>\n      <td>76 (76)</td>\n      <td>76</td>\n      <td>25</td>\n      <td>44</td>\n      <td>37</td>\n      <td>33</td>\n      <td>2</td>\n    </tr>\n    <tr>\n      <th>3</th>\n      <td>NuGet</td>\n      <td>50 (25)</td>\n      <td>28</td>\n      <td>56 (60)</td>\n      <td>60</td>\n      <td>14</td>\n      <td>52</td>\n      <td>38</td>\n      <td>44</td>\n      <td>0</td>\n    </tr>\n    <tr>\n      <th>4</th>\n      <td>RubyGems</td>\n      <td>50 (25)</td>\n      <td>40</td>\n      <td>65 (65)</td>\n      <td>65</td>\n      <td>20</td>\n      <td>43</td>\n      <td>40</td>\n      <td>23</td>\n      <td>1</td>\n    </tr>\n    <tr>\n      <th>5</th>\n      <td>npm</td>\n      <td>50 (25)</td>\n      <td>44</td>\n      <td>70 (70)</td>\n      <td>70</td>\n      <td>18</td>\n      <td>38</td>\n      <td>31</td>\n      <td>21</td>\n      <td>7</td>\n    </tr>\n    <tr>\n      <th>6</th>\n      <td>pip</td>\n      <td>50 (25)</td>\n      <td>45</td>\n      <td>61 (64)</td>\n      <td>64</td>\n      <td>31</td>\n      <td>53</td>\n      <td>49</td>\n      <td>43</td>\n      <td>9</td>\n    </tr>\n  </tbody>\n</table>\n</div>"
     },
     "metadata": {},
     "execution_count": 59
    }
   ],
   "source": [
    "df=reduce(lambda x,y : pd.merge(x,y,on='ecosystem'),[df, doc, fix, uc, br])\n",
    "df"
   ]
  },
  {
   "cell_type": "code",
   "execution_count": 60,
   "metadata": {},
   "outputs": [
    {
     "output_type": "execute_result",
     "data": {
      "text/plain": [
       "  ecosystem advisory  package distinct releases  releases  cwe      is_doc  \\\n",
       "0  Composer  50 (25)       30           72 (98)        98   18  57 (58.2%)   \n",
       "1        Go  50 (25)       49           65 (66)        66   25  50 (75.8%)   \n",
       "2     Maven  50 (25)       49           76 (76)        76   25  44 (57.9%)   \n",
       "3     NuGet  50 (25)       28           56 (60)        60   14  52 (86.7%)   \n",
       "4  RubyGems  50 (25)       40           65 (65)        65   20  43 (66.2%)   \n",
       "5       npm  50 (25)       44           70 (70)        70   18  38 (54.3%)   \n",
       "6       pip  50 (25)       45           61 (64)        64   31  53 (82.8%)   \n",
       "\n",
       "       is_fix       is_uc      is_br  \n",
       "0  60 (61.2%)  58 (59.2%)   2 (2.0%)  \n",
       "1  43 (65.2%)  37 (56.1%)  7 (10.6%)  \n",
       "2  37 (48.7%)  33 (43.4%)   2 (2.6%)  \n",
       "3  38 (63.3%)  44 (73.3%)   0 (0.0%)  \n",
       "4  40 (61.5%)  23 (35.4%)   1 (1.5%)  \n",
       "5  31 (44.3%)  21 (30.0%)  7 (10.0%)  \n",
       "6  49 (76.6%)  43 (67.2%)  9 (14.1%)  "
      ],
      "text/html": "<div>\n<style scoped>\n    .dataframe tbody tr th:only-of-type {\n        vertical-align: middle;\n    }\n\n    .dataframe tbody tr th {\n        vertical-align: top;\n    }\n\n    .dataframe thead th {\n        text-align: right;\n    }\n</style>\n<table border=\"1\" class=\"dataframe\">\n  <thead>\n    <tr style=\"text-align: right;\">\n      <th></th>\n      <th>ecosystem</th>\n      <th>advisory</th>\n      <th>package</th>\n      <th>distinct releases</th>\n      <th>releases</th>\n      <th>cwe</th>\n      <th>is_doc</th>\n      <th>is_fix</th>\n      <th>is_uc</th>\n      <th>is_br</th>\n    </tr>\n  </thead>\n  <tbody>\n    <tr>\n      <th>0</th>\n      <td>Composer</td>\n      <td>50 (25)</td>\n      <td>30</td>\n      <td>72 (98)</td>\n      <td>98</td>\n      <td>18</td>\n      <td>57 (58.2%)</td>\n      <td>60 (61.2%)</td>\n      <td>58 (59.2%)</td>\n      <td>2 (2.0%)</td>\n    </tr>\n    <tr>\n      <th>1</th>\n      <td>Go</td>\n      <td>50 (25)</td>\n      <td>49</td>\n      <td>65 (66)</td>\n      <td>66</td>\n      <td>25</td>\n      <td>50 (75.8%)</td>\n      <td>43 (65.2%)</td>\n      <td>37 (56.1%)</td>\n      <td>7 (10.6%)</td>\n    </tr>\n    <tr>\n      <th>2</th>\n      <td>Maven</td>\n      <td>50 (25)</td>\n      <td>49</td>\n      <td>76 (76)</td>\n      <td>76</td>\n      <td>25</td>\n      <td>44 (57.9%)</td>\n      <td>37 (48.7%)</td>\n      <td>33 (43.4%)</td>\n      <td>2 (2.6%)</td>\n    </tr>\n    <tr>\n      <th>3</th>\n      <td>NuGet</td>\n      <td>50 (25)</td>\n      <td>28</td>\n      <td>56 (60)</td>\n      <td>60</td>\n      <td>14</td>\n      <td>52 (86.7%)</td>\n      <td>38 (63.3%)</td>\n      <td>44 (73.3%)</td>\n      <td>0 (0.0%)</td>\n    </tr>\n    <tr>\n      <th>4</th>\n      <td>RubyGems</td>\n      <td>50 (25)</td>\n      <td>40</td>\n      <td>65 (65)</td>\n      <td>65</td>\n      <td>20</td>\n      <td>43 (66.2%)</td>\n      <td>40 (61.5%)</td>\n      <td>23 (35.4%)</td>\n      <td>1 (1.5%)</td>\n    </tr>\n    <tr>\n      <th>5</th>\n      <td>npm</td>\n      <td>50 (25)</td>\n      <td>44</td>\n      <td>70 (70)</td>\n      <td>70</td>\n      <td>18</td>\n      <td>38 (54.3%)</td>\n      <td>31 (44.3%)</td>\n      <td>21 (30.0%)</td>\n      <td>7 (10.0%)</td>\n    </tr>\n    <tr>\n      <th>6</th>\n      <td>pip</td>\n      <td>50 (25)</td>\n      <td>45</td>\n      <td>61 (64)</td>\n      <td>64</td>\n      <td>31</td>\n      <td>53 (82.8%)</td>\n      <td>49 (76.6%)</td>\n      <td>43 (67.2%)</td>\n      <td>9 (14.1%)</td>\n    </tr>\n  </tbody>\n</table>\n</div>"
     },
     "metadata": {},
     "execution_count": 60
    }
   ],
   "source": [
    "df['is_doc_rate'] = round(df['is_doc']/df['releases']* 100,1) \n",
    "df['is_doc'] = df['is_doc'].astype(str)\n",
    "df['is_doc_rate'] = df['is_doc_rate'].astype(str)\n",
    "df['is_doc'] = df['is_doc'] + ' (' + df['is_doc_rate'] +'%)'\n",
    "df = df.drop('is_doc_rate', axis=1)\n",
    "df['is_fix_rate'] = round(df['is_fix']/df['releases'] * 100 ,1)\n",
    "df['is_fix'] = df['is_fix'].astype(str)\n",
    "df['is_fix_rate'] = df['is_fix_rate'].astype(str)\n",
    "df['is_fix'] = df['is_fix'] + ' (' + df['is_fix_rate'] +'%)'\n",
    "df = df.drop('is_fix_rate', axis=1)\n",
    "df['is_uc_rate'] = round(df['is_uc']/df['releases'] * 100,1)\n",
    "df['is_uc'] = df['is_uc'].astype(str)\n",
    "df['is_uc_rate'] = df['is_uc_rate'].astype(str)\n",
    "df['is_uc'] = df['is_uc'] + ' (' + df['is_uc_rate'] +'%)'\n",
    "df = df.drop('is_uc_rate', axis=1)\n",
    "df['is_br_rate'] = round(df['is_br']/df['releases']* 100,1)\n",
    "df['is_br'] = df['is_br'].astype(str)\n",
    "df['is_br_rate'] = df['is_br_rate'].astype(str)\n",
    "df['is_br'] = df['is_br'] + ' (' + df['is_br_rate'] +'%)'\n",
    "df = df.drop('is_br_rate', axis=1)\n",
    "df"
   ]
  },
  {
   "cell_type": "code",
   "execution_count": 61,
   "metadata": {},
   "outputs": [
    {
     "output_type": "execute_result",
     "data": {
      "text/plain": [
       "['Total',\n",
       " '350 (175)',\n",
       " 285,\n",
       " '465 (499)',\n",
       " 499,\n",
       " 68,\n",
       " '337 (67.5%)',\n",
       " '298 (59.7%)',\n",
       " '259 (51.9%)',\n",
       " '28 (5.6%)']"
      ]
     },
     "metadata": {},
     "execution_count": 61
    }
   ],
   "source": [
    "total"
   ]
  },
  {
   "cell_type": "code",
   "execution_count": 62,
   "metadata": {},
   "outputs": [
    {
     "output_type": "stream",
     "name": "stdout",
     "text": [
      "\\begin{tabular}{llrlrllll}\n\\hline\n ecosystem   & advisory   &   package & distinct releases   &   cwe & is\\_doc      & is\\_fix      & is\\_uc       & is\\_br     \\\\\n\\hline\n Composer    & 50 (25)    &        30 & 72 (98)             &    18 & 57 (58.2\\%)  & 60 (61.2\\%)  & 58 (59.2\\%)  & 2 (2.0\\%)  \\\\\n Go          & 50 (25)    &        49 & 65 (66)             &    25 & 50 (75.8\\%)  & 43 (65.2\\%)  & 37 (56.1\\%)  & 7 (10.6\\%) \\\\\n Maven       & 50 (25)    &        49 & 76 (76)             &    25 & 44 (57.9\\%)  & 37 (48.7\\%)  & 33 (43.4\\%)  & 2 (2.6\\%)  \\\\\n NuGet       & 50 (25)    &        28 & 56 (60)             &    14 & 52 (86.7\\%)  & 38 (63.3\\%)  & 44 (73.3\\%)  & 0 (0.0\\%)  \\\\\n RubyGems    & 50 (25)    &        40 & 65 (65)             &    20 & 43 (66.2\\%)  & 40 (61.5\\%)  & 23 (35.4\\%)  & 1 (1.5\\%)  \\\\\n npm         & 50 (25)    &        44 & 70 (70)             &    18 & 38 (54.3\\%)  & 31 (44.3\\%)  & 21 (30.0\\%)  & 7 (10.0\\%) \\\\\n pip         & 50 (25)    &        45 & 61 (64)             &    31 & 53 (82.8\\%)  & 49 (76.6\\%)  & 43 (67.2\\%)  & 9 (14.1\\%) \\\\\n Total       & 350 (175)  &       285 & 465 (499)           &    68 & 337 (67.5\\%) & 298 (59.7\\%) & 259 (51.9\\%) & 28 (5.6\\%) \\\\\n\\hline\n\\end{tabular}\n"
     ]
    }
   ],
   "source": [
    "df.loc[len(df)]=total\n",
    "df = df.drop('releases', axis= 1)\n",
    "print(tabulate(df, tablefmt='latex', headers='keys',showindex=False))"
   ]
  },
  {
   "cell_type": "code",
   "execution_count": 63,
   "metadata": {},
   "outputs": [
    {
     "output_type": "execute_result",
     "data": {
      "text/plain": [
       "changelog                        151\n",
       "n                                149\n",
       "github release note              132\n",
       "homepage announcement             60\n",
       "mailing list                       2\n",
       "homepage release announcement      1\n",
       "Name: doc_source, dtype: int64"
      ]
     },
     "metadata": {},
     "execution_count": 63
    }
   ],
   "source": [
    "csv['doc_source'] = csv['doc_source'].str.strip()\n",
    "csv['doc_source'] = csv['doc_source'].str.lower()\n",
    "csv['doc_source'].value_counts()"
   ]
  },
  {
   "cell_type": "code",
   "execution_count": 64,
   "metadata": {},
   "outputs": [
    {
     "output_type": "execute_result",
     "data": {
      "text/plain": [
       "fix reference                                                                                                                                 57\n",
       "fix reference; advisory reference                                                                                                             23\n",
       "fix reference; vulnerability description; affected version listed                                                                             21\n",
       "fix reference; security notice                                                                                                                19\n",
       "fix reference; security notice; vulnerability description; advisory reference; affected version listed                                        18\n",
       "fix reference; vulnerability description                                                                                                      15\n",
       "fix reference; security notice; vulnerability description                                                                                     11\n",
       "vulnerability description; advisory reference                                                                                                 10\n",
       "fix reference; vulnerability description; advisory reference; affected version listed                                                         10\n",
       "advisory reference; affected component listed; security notice                                                                                 8\n",
       "vulnerability description                                                                                                                      8\n",
       "fix reference; security notice; advisory reference                                                                                             8\n",
       "fix reference; security notice; vulnerability description; advisory reference                                                                  6\n",
       "fix reference; affected component listed                                                                                                       6\n",
       "fix reference; security notice; vulnerability description; advisory reference; affected component listed; affected version listed              5\n",
       "fix reference; security notice; vulnerability description; affected version listed                                                             5\n",
       "fix reference; vulnerability description; advisory reference                                                                                   4\n",
       "Security notice; advisory reference; fix reference                                                                                             4\n",
       "fix reference                                                                                                                                  4\n",
       "security notice; vulnerability description                                                                                                     4\n",
       "security notice; vulnerability description;  advisory reference; affected version listed; exploit                                              3\n",
       "fix reference; security notice; vulnerability description; affected component listed; affected version listed                                  3\n",
       "fix reference; security notice; vulnerability description; advisory reference; affected component listed                                       3\n",
       "fix reference; security notice; advisory reference; affected component listed                                                                  3\n",
       "security notice; vulnerability description; fix reference                                                                                      3\n",
       "vulnerability description; fix reference                                                                                                       3\n",
       "vulnerability description; advisory reference; affected component listed; security notice                                                      2\n",
       "advisory reference                                                                                                                             2\n",
       "fix reference; vulnerability description; security notice                                                                                      2\n",
       "vulnerability description; advisory reference; affected version listed                                                                         2\n",
       "vulnerability description; affected version listed                                                                                             2\n",
       "security notice; vulnerability description; advisory reference                                                                                 2\n",
       "Security notice; advisory reference; vulnerability description; fix reference                                                                  2\n",
       "security notice; vulnerability description; advisory reference; affected version listed                                                        2\n",
       "security notice; fix reference; vulnerability description; affected component listed                                                           2\n",
       "fix reference; security notice; affected component listed                                                                                      2\n",
       "fix reference; vulnerability description; exploit                                                                                              2\n",
       "fix reference; advisory reference; security notice                                                                                             1\n",
       "fix reference; security notice; advisory reference; affected component listed; affected version listed                                         1\n",
       "fix reference; security notice; vulnerability description; affected component listed                                                           1\n",
       "fix reference; security notice; affected configuration                                                                                         1\n",
       "security notice; affected component listed; fix reference                                                                                      1\n",
       "security notice; advisory reference; fix reference; affected component listed                                                                  1\n",
       "fix reference; security notice; vulnerability description; advisory reference; affected component listed; exploit; affected version listed     1\n",
       "security notice; fix reference; affected component listed                                                                                      1\n",
       "vulnerability description; affected component listed                                                                                           1\n",
       "security notice; advisory reference; vulnerability description; affected version listed                                                        1\n",
       "security notice                                                                                                                                1\n",
       "security notice; advisory reference; fix reference                                                                                             1\n",
       "advisory reference; vulnerability description; fix reference                                                                                   1\n",
       "security notice; fix reference                                                                                                                 1\n",
       "vulnerability description; exploit                                                                                                             1\n",
       "security notice; affected component listed; vulnerability description; advisory reference                                                      1\n",
       "fix reference; vulnerability description; advisory reference; exploit                                                                          1\n",
       "security notice; affected component listed                                                                                                     1\n",
       "security notice; fix reference; affected component listed; vulnerability description; exploit                                                  1\n",
       "Name: fix_pattern, dtype: int64"
      ]
     },
     "metadata": {},
     "execution_count": 64
    }
   ],
   "source": [
    "csv['fix_pattern'].value_counts()"
   ]
  },
  {
   "cell_type": "code",
   "execution_count": 65,
   "metadata": {},
   "outputs": [
    {
     "output_type": "execute_result",
     "data": {
      "text/plain": [
       "fix reference                254\n",
       "vulnerability description    159\n",
       "security notice              132\n",
       "advisory reference           126\n",
       "affected version listed       74\n",
       "affected component listed     44\n",
       "exploit                        9\n",
       "affected configuration         1\n",
       "Name: fix_pattern, dtype: int64"
      ]
     },
     "metadata": {},
     "execution_count": 65
    }
   ],
   "source": [
    "fp  = csv[['ecosystem', 'snyk_id','fix_pattern']]\n",
    "fp = fp.values.tolist()\n",
    "final = []\n",
    "for row in fp:\n",
    "    eco = row[0]\n",
    "    aid = row[1]\n",
    "    if row[-1] != 'nan' and isinstance(row[-1],str):\n",
    "        l = row[-1].split(';')\n",
    "        for elem in l:\n",
    "            final.append([eco,aid,elem.lower().strip()])\n",
    "fp = pd.DataFrame(final, columns=['ecosystem','advisory_id','fix_pattern'])\n",
    "fp['fix_pattern'].value_counts()"
   ]
  },
  {
   "cell_type": "code",
   "execution_count": 66,
   "metadata": {},
   "outputs": [
    {
     "output_type": "execute_result",
     "data": {
      "text/plain": [
       "affected api listed       19\n",
       "breaking change notice    17\n",
       "code change reference      9\n",
       "action required            7\n",
       "affected configuration     5\n",
       "Name: breaking_pattern, dtype: int64"
      ]
     },
     "metadata": {},
     "execution_count": 66
    }
   ],
   "source": [
    "bp  = csv[['ecosystem', 'snyk_id','breaking_pattern']]\n",
    "bp = bp.values.tolist()\n",
    "final = []\n",
    "for row in bp:\n",
    "    eco = row[0]\n",
    "    aid = row[1]\n",
    "    if row[-1] != 'nan' and isinstance(row[-1],str):\n",
    "        l = row[-1].split(';')\n",
    "        for elem in l:\n",
    "            if elem.strip():\n",
    "                final.append([eco,aid,elem.lower().strip()])\n",
    "bp = pd.DataFrame(final, columns=['ecosystem','advisory_id','breaking_pattern'])\n",
    "bp['breaking_pattern'].value_counts()"
   ]
  }
 ]
}