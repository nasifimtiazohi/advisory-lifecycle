{
 "metadata": {
  "language_info": {
   "codemirror_mode": {
    "name": "ipython",
    "version": 3
   },
   "file_extension": ".py",
   "mimetype": "text/x-python",
   "name": "python",
   "nbconvert_exporter": "python",
   "pygments_lexer": "ipython3",
   "version": "3.9.2-final"
  },
  "orig_nbformat": 2,
  "kernelspec": {
   "name": "python3",
   "display_name": "Python 3.9.2 64-bit ('advisory-lifecycle': pipenv)",
   "metadata": {
    "interpreter": {
     "hash": "45e6bb90db539892217150e51eb80500a9bf028439c0d739bd24c7b8d42327c6"
    }
   }
  }
 },
 "nbformat": 4,
 "nbformat_minor": 2,
 "cells": [
  {
   "cell_type": "code",
   "execution_count": null,
   "metadata": {},
   "outputs": [],
   "source": [
    "import sql\n",
    "import pandas as pd\n",
    "from functools import reduce\n",
    "import datetime"
   ]
  },
  {
   "cell_type": "code",
   "execution_count": null,
   "metadata": {},
   "outputs": [],
   "source": [
    "q='''select t1.ecosystem as ecosystem, advisories, advisory_with_CVEs, packages\n",
    "from\n",
    "(select ecosystem, count(distinct a.id) as advisories, count(distinct p.id) as packages\n",
    "from advisory a\n",
    "join package p on a.package_id = p.id\n",
    "where type != 'Malicious Package'\n",
    "group by ecosystem) as t1\n",
    "join\n",
    "(select ecosystem, count(distinct a.id) as advisory_with_CVEs\n",
    "from advisoryCVE aC\n",
    "join advisory a on aC.advisory_id = a.id\n",
    "join package p on a.package_id = p.id\n",
    "where type != 'Malicious Package'\n",
    "group by ecosystem) as t2\n",
    "on t1.ecosystem = t2.ecosystem\n",
    "order by advisories desc;'''\n",
    "df = pd.DataFrame(sql.execute(q))"
   ]
  },
  {
   "cell_type": "code",
   "execution_count": null,
   "metadata": {},
   "outputs": [],
   "source": [
    "df['non-CVEs (%)'] = df['advisories'] - df['advisory_with_CVEs']\n",
    "df['non-CVEs (%)'] = round (df['non-CVEs (%)'] / df['advisories'] * 100 , 2)\n",
    "df['non-CVEs (%)'].median()"
   ]
  },
  {
   "cell_type": "code",
   "execution_count": null,
   "metadata": {},
   "outputs": [],
   "source": [
    "df"
   ]
  },
  {
   "cell_type": "code",
   "execution_count": null,
   "metadata": {},
   "outputs": [],
   "source": [
    "q='''select *\n",
    "from advisory a\n",
    "join package p on a.package_id = p.id\n",
    "where a.type != 'Malicious Package'\n",
    "and a.id not in\n",
    "(select distinct advisory_id\n",
    "    from advisoryCVE)'''\n",
    "df = pd.DataFrame(sql.execute(q))\n",
    "df['since_disclose'] = (datetime.date.today() - df['disclose_date']).dt.days\n",
    "df['since_publish'] = (datetime.date.today() - df['publish_date']).dt.days\n",
    "df['since_disclose'].median(), df['since_publish'].median()\n",
    "p = df.groupby('ecosystem')[['since_publish']].median()\n",
    "d = df.groupby('ecosystem')[['since_disclose']].median()\n",
    "pd.merge(p,d,on='ecosystem')"
   ]
  },
  {
   "cell_type": "code",
   "execution_count": null,
   "metadata": {},
   "outputs": [],
   "source": [
    "q = '''select * from\n",
    "( select * from\n",
    "    (select id, publish_date as snyk_publish, disclose_date, package_id\n",
    "    from advisory\n",
    "    where type != 'Malicious Package') as adv\n",
    "    join\n",
    "    (select advisory_id, min(publish_date) as cve_publish\n",
    "    from advisoryCVE\n",
    "    group by advisory_id) as cve\n",
    "    on adv.id = cve.advisory_id\n",
    "        where cve_publish > snyk_publish) as sub\n",
    "join package p\n",
    "    on p.id = sub.package_id;\n",
    "'''\n",
    "df = pd.DataFrame(sql.execute(q))\n",
    "df['cve_delay'] = (df['cve_publish'] - df['snyk_publish']).dt.days\n",
    "df['delay_from_disclose'] = (df['cve_publish'] - df['disclose_date']).dt.days\n",
    "delay = df.groupby('ecosystem')[['cve_delay']].median()\n",
    "count = df.groupby('ecosystem')[['id']].count()\n",
    "disclose = df.groupby('ecosystem')[['delay_from_disclose']].median()\n",
    "df=reduce(lambda x,y : pd.merge(x,y,on='ecosystem'),[count, delay, disclose])\n",
    "df.columns = ['published by snyk before cve', 'median delay from snyk to cve', 'from disclose to cve']\n",
    "df"
   ]
  },
  {
   "cell_type": "code",
   "execution_count": null,
   "metadata": {},
   "outputs": [],
   "source": [
    "q='''select *\n",
    "from advisory a\n",
    "join package p on a.package_id = p.id\n",
    "where type != 'Malicious Package' and ecosystem!='cocoapods';'''\n",
    "df = pd.DataFrame(sql.execute(q))\n",
    "df['delay'] = (df['publish_date'] - df['disclose_date']).dt.days\n",
    "df = df.groupby('ecosystem')[['delay']].median()\n",
    "df"
   ]
  }
 ]
}