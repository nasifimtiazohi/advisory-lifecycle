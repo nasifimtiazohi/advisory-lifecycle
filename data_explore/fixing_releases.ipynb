{
 "metadata": {
  "language_info": {
   "codemirror_mode": {
    "name": "ipython",
    "version": 3
   },
   "file_extension": ".py",
   "mimetype": "text/x-python",
   "name": "python",
   "nbconvert_exporter": "python",
   "pygments_lexer": "ipython3",
   "version": "3.9.2-final"
  },
  "orig_nbformat": 2,
  "kernelspec": {
   "name": "python392jvsc74a57bd045e6bb90db539892217150e51eb80500a9bf028439c0d739bd24c7b8d42327c6",
   "display_name": "Python 3.9.2 64-bit ('advisory-lifecycle-RDwwAgfI': venv)",
   "language": "python"
  }
 },
 "nbformat": 4,
 "nbformat_minor": 2,
 "cells": [
  {
   "cell_type": "code",
   "execution_count": 14,
   "metadata": {},
   "outputs": [],
   "source": [
    "import sys\n",
    "import sql\n",
    "import pandas as pd\n",
    "from functools import reduce\n",
    "from tabulate import tabulate\n",
    "import datetime\n",
    "import matplotlib.pyplot as plt"
   ]
  },
  {
   "cell_type": "code",
   "execution_count": 15,
   "metadata": {},
   "outputs": [],
   "source": [
    "q='''select t1.ecosystem as ecosystem, advisories, advisory_with_CVEs, packages, fixing_releases\n",
    "from\n",
    "(select ecosystem, count(distinct a.id) as advisories, count(distinct p.id) as packages, count(distinct advisory_id, version) as fixing_releases\n",
    "from advisory a\n",
    "join package p on a.package_id = p.id\n",
    "join fixing_releases fr on a.id = fr.advisory_id\n",
    "where type != 'Malicious Package'\n",
    "and version != 'manual checkup needed'\n",
    "and ecosystem != 'cocoapods'\n",
    "group by ecosystem) as t1\n",
    "join\n",
    "(select ecosystem, count(distinct a.id) as advisory_with_CVEs\n",
    "from advisoryCVE aC\n",
    "join advisory a on aC.advisory_id = a.id\n",
    "join fixing_releases fr on a.id = fr.advisory_id\n",
    "join package p on a.package_id = p.id\n",
    "where type != 'Malicious Package'\n",
    "and version != 'manual checkup needed'\n",
    "and ecosystem != 'cocoapods'\n",
    "group by ecosystem) as t2\n",
    "on t1.ecosystem = t2.ecosystem\n",
    "order by advisories desc;'''\n",
    "df = pd.DataFrame(sql.execute(q))"
   ]
  },
  {
   "cell_type": "code",
   "execution_count": 18,
   "metadata": {},
   "outputs": [
    {
     "output_type": "execute_result",
     "data": {
      "text/plain": [
       "  ecosystem  advisories  advisory_with_CVEs  packages  fixing_releases\n",
       "0     Maven        1663                1406       916             2300\n",
       "1  Composer         857                 601       230             1735\n",
       "2       npm         792                 474       540              949\n",
       "3       pip         624                 450       313              906\n",
       "4     NuGet         378                 315       120              491\n",
       "5        Go         236                 191       184              326\n",
       "6  RubyGems         226                 173       124              376"
      ],
      "text/html": "<div>\n<style scoped>\n    .dataframe tbody tr th:only-of-type {\n        vertical-align: middle;\n    }\n\n    .dataframe tbody tr th {\n        vertical-align: top;\n    }\n\n    .dataframe thead th {\n        text-align: right;\n    }\n</style>\n<table border=\"1\" class=\"dataframe\">\n  <thead>\n    <tr style=\"text-align: right;\">\n      <th></th>\n      <th>ecosystem</th>\n      <th>advisories</th>\n      <th>advisory_with_CVEs</th>\n      <th>packages</th>\n      <th>fixing_releases</th>\n    </tr>\n  </thead>\n  <tbody>\n    <tr>\n      <th>0</th>\n      <td>Maven</td>\n      <td>1663</td>\n      <td>1406</td>\n      <td>916</td>\n      <td>2300</td>\n    </tr>\n    <tr>\n      <th>1</th>\n      <td>Composer</td>\n      <td>857</td>\n      <td>601</td>\n      <td>230</td>\n      <td>1735</td>\n    </tr>\n    <tr>\n      <th>2</th>\n      <td>npm</td>\n      <td>792</td>\n      <td>474</td>\n      <td>540</td>\n      <td>949</td>\n    </tr>\n    <tr>\n      <th>3</th>\n      <td>pip</td>\n      <td>624</td>\n      <td>450</td>\n      <td>313</td>\n      <td>906</td>\n    </tr>\n    <tr>\n      <th>4</th>\n      <td>NuGet</td>\n      <td>378</td>\n      <td>315</td>\n      <td>120</td>\n      <td>491</td>\n    </tr>\n    <tr>\n      <th>5</th>\n      <td>Go</td>\n      <td>236</td>\n      <td>191</td>\n      <td>184</td>\n      <td>326</td>\n    </tr>\n    <tr>\n      <th>6</th>\n      <td>RubyGems</td>\n      <td>226</td>\n      <td>173</td>\n      <td>124</td>\n      <td>376</td>\n    </tr>\n  </tbody>\n</table>\n</div>"
     },
     "metadata": {},
     "execution_count": 18
    }
   ],
   "source": [
    "df"
   ]
  },
  {
   "cell_type": "code",
   "execution_count": 19,
   "metadata": {},
   "outputs": [
    {
     "output_type": "execute_result",
     "data": {
      "text/plain": [
       "  ecosystem  advisories  advisory_with_CVEs  packages  fixing_releases\n",
       "0     Maven        1663                1406       916             2300\n",
       "1  Composer         857                 601       230             1735\n",
       "2       npm         792                 474       540              949\n",
       "3       pip         624                 450       313              906\n",
       "4     NuGet         378                 315       120              491\n",
       "5        Go         236                 191       184              326\n",
       "6  RubyGems         226                 173       124              376\n",
       "7     Total        4776                3610      2427             7083"
      ],
      "text/html": "<div>\n<style scoped>\n    .dataframe tbody tr th:only-of-type {\n        vertical-align: middle;\n    }\n\n    .dataframe tbody tr th {\n        vertical-align: top;\n    }\n\n    .dataframe thead th {\n        text-align: right;\n    }\n</style>\n<table border=\"1\" class=\"dataframe\">\n  <thead>\n    <tr style=\"text-align: right;\">\n      <th></th>\n      <th>ecosystem</th>\n      <th>advisories</th>\n      <th>advisory_with_CVEs</th>\n      <th>packages</th>\n      <th>fixing_releases</th>\n    </tr>\n  </thead>\n  <tbody>\n    <tr>\n      <th>0</th>\n      <td>Maven</td>\n      <td>1663</td>\n      <td>1406</td>\n      <td>916</td>\n      <td>2300</td>\n    </tr>\n    <tr>\n      <th>1</th>\n      <td>Composer</td>\n      <td>857</td>\n      <td>601</td>\n      <td>230</td>\n      <td>1735</td>\n    </tr>\n    <tr>\n      <th>2</th>\n      <td>npm</td>\n      <td>792</td>\n      <td>474</td>\n      <td>540</td>\n      <td>949</td>\n    </tr>\n    <tr>\n      <th>3</th>\n      <td>pip</td>\n      <td>624</td>\n      <td>450</td>\n      <td>313</td>\n      <td>906</td>\n    </tr>\n    <tr>\n      <th>4</th>\n      <td>NuGet</td>\n      <td>378</td>\n      <td>315</td>\n      <td>120</td>\n      <td>491</td>\n    </tr>\n    <tr>\n      <th>5</th>\n      <td>Go</td>\n      <td>236</td>\n      <td>191</td>\n      <td>184</td>\n      <td>326</td>\n    </tr>\n    <tr>\n      <th>6</th>\n      <td>RubyGems</td>\n      <td>226</td>\n      <td>173</td>\n      <td>124</td>\n      <td>376</td>\n    </tr>\n    <tr>\n      <th>7</th>\n      <td>Total</td>\n      <td>4776</td>\n      <td>3610</td>\n      <td>2427</td>\n      <td>7083</td>\n    </tr>\n  </tbody>\n</table>\n</div>"
     },
     "metadata": {},
     "execution_count": 19
    }
   ],
   "source": [
    "df.loc[len(df)]=['Total',df['advisories'].sum(),df['advisory_with_CVEs'].sum(),df['packages'].sum(), df['fixing_releases'].sum()] \n",
    "df"
   ]
  },
  {
   "cell_type": "code",
   "execution_count": 20,
   "metadata": {},
   "outputs": [
    {
     "output_type": "execute_result",
     "data": {
      "text/plain": [
       "  ecosystem  advisories  advisory_with_CVEs  packages  fixing_releases  \\\n",
       "0     Maven        1663                1406       916             2300   \n",
       "1  Composer         857                 601       230             1735   \n",
       "2       npm         792                 474       540              949   \n",
       "3       pip         624                 450       313              906   \n",
       "4     NuGet         378                 315       120              491   \n",
       "5        Go         236                 191       184              326   \n",
       "6  RubyGems         226                 173       124              376   \n",
       "7     Total        4776                3610      2427             7083   \n",
       "\n",
       "   non-CVEs (%)  \n",
       "0         15.45  \n",
       "1         29.87  \n",
       "2         40.15  \n",
       "3         27.88  \n",
       "4         16.67  \n",
       "5         19.07  \n",
       "6         23.45  \n",
       "7         24.41  "
      ],
      "text/html": "<div>\n<style scoped>\n    .dataframe tbody tr th:only-of-type {\n        vertical-align: middle;\n    }\n\n    .dataframe tbody tr th {\n        vertical-align: top;\n    }\n\n    .dataframe thead th {\n        text-align: right;\n    }\n</style>\n<table border=\"1\" class=\"dataframe\">\n  <thead>\n    <tr style=\"text-align: right;\">\n      <th></th>\n      <th>ecosystem</th>\n      <th>advisories</th>\n      <th>advisory_with_CVEs</th>\n      <th>packages</th>\n      <th>fixing_releases</th>\n      <th>non-CVEs (%)</th>\n    </tr>\n  </thead>\n  <tbody>\n    <tr>\n      <th>0</th>\n      <td>Maven</td>\n      <td>1663</td>\n      <td>1406</td>\n      <td>916</td>\n      <td>2300</td>\n      <td>15.45</td>\n    </tr>\n    <tr>\n      <th>1</th>\n      <td>Composer</td>\n      <td>857</td>\n      <td>601</td>\n      <td>230</td>\n      <td>1735</td>\n      <td>29.87</td>\n    </tr>\n    <tr>\n      <th>2</th>\n      <td>npm</td>\n      <td>792</td>\n      <td>474</td>\n      <td>540</td>\n      <td>949</td>\n      <td>40.15</td>\n    </tr>\n    <tr>\n      <th>3</th>\n      <td>pip</td>\n      <td>624</td>\n      <td>450</td>\n      <td>313</td>\n      <td>906</td>\n      <td>27.88</td>\n    </tr>\n    <tr>\n      <th>4</th>\n      <td>NuGet</td>\n      <td>378</td>\n      <td>315</td>\n      <td>120</td>\n      <td>491</td>\n      <td>16.67</td>\n    </tr>\n    <tr>\n      <th>5</th>\n      <td>Go</td>\n      <td>236</td>\n      <td>191</td>\n      <td>184</td>\n      <td>326</td>\n      <td>19.07</td>\n    </tr>\n    <tr>\n      <th>6</th>\n      <td>RubyGems</td>\n      <td>226</td>\n      <td>173</td>\n      <td>124</td>\n      <td>376</td>\n      <td>23.45</td>\n    </tr>\n    <tr>\n      <th>7</th>\n      <td>Total</td>\n      <td>4776</td>\n      <td>3610</td>\n      <td>2427</td>\n      <td>7083</td>\n      <td>24.41</td>\n    </tr>\n  </tbody>\n</table>\n</div>"
     },
     "metadata": {},
     "execution_count": 20
    }
   ],
   "source": [
    "df['non-CVEs (%)'] = df['advisories'] - df['advisory_with_CVEs']\n",
    "df['non-CVEs (%)'] = round (df['non-CVEs (%)'] / df['advisories'] * 100 , 2)\n",
    "df"
   ]
  },
  {
   "cell_type": "code",
   "execution_count": 21,
   "metadata": {},
   "outputs": [
    {
     "output_type": "stream",
     "name": "stdout",
     "text": [
      "\\begin{tabular}{lrrrrr}\n\\hline\n ecosystem   &   advisories &   advisory\\_with\\_CVEs &   packages &   fixing\\_releases &   non-CVEs (\\%) \\\\\n\\hline\n Maven       &         1663 &                 1406 &        916 &              2300 &          15.45 \\\\\n Composer    &          857 &                  601 &        230 &              1735 &          29.87 \\\\\n npm         &          792 &                  474 &        540 &               949 &          40.15 \\\\\n pip         &          624 &                  450 &        313 &               906 &          27.88 \\\\\n NuGet       &          378 &                  315 &        120 &               491 &          16.67 \\\\\n Go          &          236 &                  191 &        184 &               326 &          19.07 \\\\\n RubyGems    &          226 &                  173 &        124 &               376 &          23.45 \\\\\n Total       &         4776 &                 3610 &       2427 &              7083 &          24.41 \\\\\n\\hline\n\\end{tabular}\n"
     ]
    }
   ],
   "source": [
    "print(tabulate(df, tablefmt='latex', headers='keys',showindex=False))"
   ]
  },
  {
   "cell_type": "code",
   "execution_count": null,
   "metadata": {},
   "outputs": [],
   "source": []
  }
 ]
}