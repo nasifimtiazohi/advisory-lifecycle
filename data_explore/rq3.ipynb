{
 "metadata": {
  "language_info": {
   "codemirror_mode": {
    "name": "ipython",
    "version": 3
   },
   "file_extension": ".py",
   "mimetype": "text/x-python",
   "name": "python",
   "nbconvert_exporter": "python",
   "pygments_lexer": "ipython3",
   "version": "3.9.2-final"
  },
  "orig_nbformat": 2,
  "kernelspec": {
   "name": "python392jvsc74a57bd045e6bb90db539892217150e51eb80500a9bf028439c0d739bd24c7b8d42327c6",
   "display_name": "Python 3.9.2 64-bit ('advisory-lifecycle': pipenv)"
  }
 },
 "nbformat": 4,
 "nbformat_minor": 2,
 "cells": [
  {
   "cell_type": "code",
   "execution_count": 1,
   "metadata": {},
   "outputs": [],
   "source": [
    "import sys\n",
    "sys.path.append('..')\n",
    "import sql\n",
    "import pandas as pd\n",
    "from functools import reduce\n",
    "from tabulate import tabulate\n",
    "import datetime\n",
    "import matplotlib.pyplot as plt"
   ]
  },
  {
   "cell_type": "code",
   "execution_count": 2,
   "metadata": {},
   "outputs": [
    {
     "output_type": "execute_result",
     "data": {
      "text/plain": [
       "           advisory  package  non-cve\n",
       "ecosystem                            \n",
       "Composer         50       33       10\n",
       "Go               50       40        6\n",
       "Maven            50       42        6\n",
       "RubyGems         50       32        7\n",
       "npm              50       43       15\n",
       "pip              50       34        9"
      ],
      "text/html": "<div>\n<style scoped>\n    .dataframe tbody tr th:only-of-type {\n        vertical-align: middle;\n    }\n\n    .dataframe tbody tr th {\n        vertical-align: top;\n    }\n\n    .dataframe thead th {\n        text-align: right;\n    }\n</style>\n<table border=\"1\" class=\"dataframe\">\n  <thead>\n    <tr style=\"text-align: right;\">\n      <th></th>\n      <th>advisory</th>\n      <th>package</th>\n      <th>non-cve</th>\n    </tr>\n    <tr>\n      <th>ecosystem</th>\n      <th></th>\n      <th></th>\n      <th></th>\n    </tr>\n  </thead>\n  <tbody>\n    <tr>\n      <th>Composer</th>\n      <td>50</td>\n      <td>33</td>\n      <td>10</td>\n    </tr>\n    <tr>\n      <th>Go</th>\n      <td>50</td>\n      <td>40</td>\n      <td>6</td>\n    </tr>\n    <tr>\n      <th>Maven</th>\n      <td>50</td>\n      <td>42</td>\n      <td>6</td>\n    </tr>\n    <tr>\n      <th>RubyGems</th>\n      <td>50</td>\n      <td>32</td>\n      <td>7</td>\n    </tr>\n    <tr>\n      <th>npm</th>\n      <td>50</td>\n      <td>43</td>\n      <td>15</td>\n    </tr>\n    <tr>\n      <th>pip</th>\n      <td>50</td>\n      <td>34</td>\n      <td>9</td>\n    </tr>\n  </tbody>\n</table>\n</div>"
     },
     "metadata": {},
     "execution_count": 2
    }
   ],
   "source": [
    "q= '''with rand_advisory as (\n",
    "    select distinct ecosystem, a.id as advisory_id,\n",
    "                row_number() over (partition by ecosystem order by rand()) as rand_sort\n",
    "    from fixing_releases fr\n",
    "    join advisory a on fr.advisory_id = a.id\n",
    "    join snykvuln.package p on a.package_id = p.id\n",
    "    left join advisoryCVE aC on a.id = aC.advisory_id\n",
    "    where year(publish_date) >= 2018\n",
    "        and ecosystem != 'cocoapods'\n",
    ")\n",
    "    select ecosystem, advisory_id, a.package_id,\n",
    "       case\n",
    "            when exists(select * from advisoryCVE aC where aC.advisory_id = ra.advisory_id)\n",
    "            then 'CVE'\n",
    "            else 'non-CVE'\n",
    "        end as if_cve\n",
    "    from rand_advisory ra\n",
    "    join snykvuln.advisory a on a.id = ra.advisory_id\n",
    "    where rand_sort <= 50;'''\n",
    "df = pd.DataFrame(sql.execute(q))\n",
    "advisory = df.groupby('ecosystem')[['advisory_id']].count()\n",
    "package = df.groupby('ecosystem')[['package_id']].nunique()\n",
    "noncve = (df.loc[df['if_cve']=='non-CVE']).groupby('ecosystem')[['advisory_id']].count()\n",
    "df=reduce(lambda x,y : pd.merge(x,y,on='ecosystem'),[advisory,package,noncve])\n",
    "df.columns = ['advisory', 'package', 'non-cve']\n",
    "df"
   ]
  },
  {
   "cell_type": "code",
   "execution_count": 3,
   "metadata": {},
   "outputs": [
    {
     "output_type": "execute_result",
     "data": {
      "text/plain": [
       "\" insert into manual_sample\\n    with rand_cves as (\\n    select ecosystem, a.id as advisory_id, p.id as package_id, a.type,\\n           row_number() over (partition by ecosystem order by rand()) as rand_sample\\n    from snykvuln.advisory a\\n    join package p on a.package_id = p.id\\n    where a.id in (select advisory_id from fixing_releases)\\n    and year(publish_date) >= 2018\\n            and ecosystem != 'cocoapods'\\n        and a.id in (select distinct advisory_id from advisoryCVE)\\n    ),\\n    rand_noncves as (\\n    select ecosystem, a.id as advisory_id, p.id as package_id, a.type,\\n           row_number() over (partition by ecosystem order by rand()) as rand_sample\\n    from snykvuln.advisory a\\n    join package p on a.package_id = p.id\\n    where a.id in (select advisory_id from fixing_releases)\\n    and year(publish_date) >= 2018\\n            and ecosystem != 'cocoapods'\\n        and a.id not in (select distinct advisory_id from advisoryCVE)\\n    )\\n        select * from\\n    (select ecosystem, advisory_id, package_id, type\\n    from rand_cves\\n    where rand_sample <=25\\n    union\\n    select ecosystem, advisory_id, package_id, type\\n    from rand_noncves\\n    where rand_sample <=25) as sub; \""
      ]
     },
     "metadata": {},
     "execution_count": 3
    }
   ],
   "source": [
    "# query used to extract random samples\n",
    "''' insert into manual_sample\n",
    "    with rand_cves as (\n",
    "    select ecosystem, a.id as advisory_id, p.id as package_id, a.type,\n",
    "           row_number() over (partition by ecosystem order by rand()) as rand_sample\n",
    "    from snykvuln.advisory a\n",
    "    join package p on a.package_id = p.id\n",
    "    where a.id in (select advisory_id from fixing_releases)\n",
    "    and year(publish_date) >= 2018\n",
    "            and ecosystem != 'cocoapods'\n",
    "        and a.id in (select distinct advisory_id from advisoryCVE)\n",
    "    ),\n",
    "    rand_noncves as (\n",
    "    select ecosystem, a.id as advisory_id, p.id as package_id, a.type,\n",
    "           row_number() over (partition by ecosystem order by rand()) as rand_sample\n",
    "    from snykvuln.advisory a\n",
    "    join package p on a.package_id = p.id\n",
    "    where a.id in (select advisory_id from fixing_releases)\n",
    "    and year(publish_date) >= 2018\n",
    "            and ecosystem != 'cocoapods'\n",
    "        and a.id not in (select distinct advisory_id from advisoryCVE)\n",
    "    )\n",
    "        select * from\n",
    "    (select ecosystem, advisory_id, package_id, type\n",
    "    from rand_cves\n",
    "    where rand_sample <=25\n",
    "    union\n",
    "    select ecosystem, advisory_id, package_id, type\n",
    "    from rand_noncves\n",
    "    where rand_sample <=25) as sub; '''"
   ]
  },
  {
   "cell_type": "code",
   "execution_count": 4,
   "metadata": {},
   "outputs": [
    {
     "output_type": "execute_result",
     "data": {
      "text/plain": [
       "           advisory  package  non-cve  type  releases\n",
       "ecosystem                                            \n",
       "Composer         50       30       25    22        98\n",
       "Go               50       49       25    25        67\n",
       "Maven            50       49       25    28        76\n",
       "NuGet            40       18       15    13        50\n",
       "RubyGems         39       32       14    21        54\n",
       "npm              50       44       25    20        70\n",
       "pip              50       45       25    33        64"
      ],
      "text/html": "<div>\n<style scoped>\n    .dataframe tbody tr th:only-of-type {\n        vertical-align: middle;\n    }\n\n    .dataframe tbody tr th {\n        vertical-align: top;\n    }\n\n    .dataframe thead th {\n        text-align: right;\n    }\n</style>\n<table border=\"1\" class=\"dataframe\">\n  <thead>\n    <tr style=\"text-align: right;\">\n      <th></th>\n      <th>advisory</th>\n      <th>package</th>\n      <th>non-cve</th>\n      <th>type</th>\n      <th>releases</th>\n    </tr>\n    <tr>\n      <th>ecosystem</th>\n      <th></th>\n      <th></th>\n      <th></th>\n      <th></th>\n      <th></th>\n    </tr>\n  </thead>\n  <tbody>\n    <tr>\n      <th>Composer</th>\n      <td>50</td>\n      <td>30</td>\n      <td>25</td>\n      <td>22</td>\n      <td>98</td>\n    </tr>\n    <tr>\n      <th>Go</th>\n      <td>50</td>\n      <td>49</td>\n      <td>25</td>\n      <td>25</td>\n      <td>67</td>\n    </tr>\n    <tr>\n      <th>Maven</th>\n      <td>50</td>\n      <td>49</td>\n      <td>25</td>\n      <td>28</td>\n      <td>76</td>\n    </tr>\n    <tr>\n      <th>NuGet</th>\n      <td>40</td>\n      <td>18</td>\n      <td>15</td>\n      <td>13</td>\n      <td>50</td>\n    </tr>\n    <tr>\n      <th>RubyGems</th>\n      <td>39</td>\n      <td>32</td>\n      <td>14</td>\n      <td>21</td>\n      <td>54</td>\n    </tr>\n    <tr>\n      <th>npm</th>\n      <td>50</td>\n      <td>44</td>\n      <td>25</td>\n      <td>20</td>\n      <td>70</td>\n    </tr>\n    <tr>\n      <th>pip</th>\n      <td>50</td>\n      <td>45</td>\n      <td>25</td>\n      <td>33</td>\n      <td>64</td>\n    </tr>\n  </tbody>\n</table>\n</div>"
     },
     "metadata": {},
     "execution_count": 4
    }
   ],
   "source": [
    "q='''select *,\n",
    "       case\n",
    "            when exists(select * from advisoryCVE aC where aC.advisory_id = ms.advisory_id)\n",
    "            then 'CVE'\n",
    "            else 'non-CVE'\n",
    "        end as if_cve\n",
    "from manual_sample ms\n",
    "join fixing_releases fr on ms.advisory_id = fr.advisory_id;'''\n",
    "df = pd.DataFrame(sql.execute(q))\n",
    "total_types= df['type'].nunique()\n",
    "advisory = df.groupby('ecosystem')[['advisory_id']].nunique()\n",
    "package = df.groupby('ecosystem')[['package_id']].nunique()\n",
    "type = df.groupby('ecosystem')[['type']].nunique()\n",
    "noncve = (df.loc[df['if_cve']=='non-CVE']).groupby('ecosystem')[['advisory_id']].nunique()\n",
    "releases = df.groupby('ecosystem')[['advisory_id']].count()\n",
    "df=reduce(lambda x,y : pd.merge(x,y,on='ecosystem'),[advisory,package,noncve,type,releases])\n",
    "df.columns = ['advisory', 'package', 'non-cve','type','releases']\n",
    "df"
   ]
  },
  {
   "cell_type": "code",
   "execution_count": 5,
   "metadata": {},
   "outputs": [],
   "source": [
    "df = df.reset_index()\n",
    "df =df.drop(['type'],axis=1)"
   ]
  },
  {
   "cell_type": "code",
   "execution_count": 6,
   "metadata": {},
   "outputs": [
    {
     "output_type": "execute_result",
     "data": {
      "text/plain": [
       "           cwe\n",
       "ecosystem     \n",
       "Composer    18\n",
       "Go          25\n",
       "Maven       25\n",
       "NuGet       13\n",
       "RubyGems    16\n",
       "npm         18\n",
       "pip         31"
      ],
      "text/html": "<div>\n<style scoped>\n    .dataframe tbody tr th:only-of-type {\n        vertical-align: middle;\n    }\n\n    .dataframe tbody tr th {\n        vertical-align: top;\n    }\n\n    .dataframe thead th {\n        text-align: right;\n    }\n</style>\n<table border=\"1\" class=\"dataframe\">\n  <thead>\n    <tr style=\"text-align: right;\">\n      <th></th>\n      <th>cwe</th>\n    </tr>\n    <tr>\n      <th>ecosystem</th>\n      <th></th>\n    </tr>\n  </thead>\n  <tbody>\n    <tr>\n      <th>Composer</th>\n      <td>18</td>\n    </tr>\n    <tr>\n      <th>Go</th>\n      <td>25</td>\n    </tr>\n    <tr>\n      <th>Maven</th>\n      <td>25</td>\n    </tr>\n    <tr>\n      <th>NuGet</th>\n      <td>13</td>\n    </tr>\n    <tr>\n      <th>RubyGems</th>\n      <td>16</td>\n    </tr>\n    <tr>\n      <th>npm</th>\n      <td>18</td>\n    </tr>\n    <tr>\n      <th>pip</th>\n      <td>31</td>\n    </tr>\n  </tbody>\n</table>\n</div>"
     },
     "metadata": {},
     "execution_count": 6
    }
   ],
   "source": [
    "q = '''select p.ecosystem, ac.cwe as cwe\n",
    "from manual_sample ms\n",
    "join advisoryCWE aC on ms.advisory_id = aC.advisory_id\n",
    "join advisory a on aC.advisory_id = a.id\n",
    "join package p on a.package_id = p.id;'''\n",
    "cwe = pd.DataFrame(sql.execute(q))\n",
    "total_cwes = cwe['cwe'].nunique()\n",
    "cwe = cwe.groupby('ecosystem')[['cwe']].nunique()\n",
    "cwe"
   ]
  },
  {
   "cell_type": "code",
   "execution_count": 7,
   "metadata": {},
   "outputs": [
    {
     "output_type": "execute_result",
     "data": {
      "text/plain": [
       "  ecosystem  advisory  package  non-cve  releases  cwe\n",
       "0  Composer        50       30       25        98   18\n",
       "1        Go        50       49       25        67   25\n",
       "2     Maven        50       49       25        76   25\n",
       "3     NuGet        40       18       15        50   13\n",
       "4  RubyGems        39       32       14        54   16\n",
       "5       npm        50       44       25        70   18\n",
       "6       pip        50       45       25        64   31"
      ],
      "text/html": "<div>\n<style scoped>\n    .dataframe tbody tr th:only-of-type {\n        vertical-align: middle;\n    }\n\n    .dataframe tbody tr th {\n        vertical-align: top;\n    }\n\n    .dataframe thead th {\n        text-align: right;\n    }\n</style>\n<table border=\"1\" class=\"dataframe\">\n  <thead>\n    <tr style=\"text-align: right;\">\n      <th></th>\n      <th>ecosystem</th>\n      <th>advisory</th>\n      <th>package</th>\n      <th>non-cve</th>\n      <th>releases</th>\n      <th>cwe</th>\n    </tr>\n  </thead>\n  <tbody>\n    <tr>\n      <th>0</th>\n      <td>Composer</td>\n      <td>50</td>\n      <td>30</td>\n      <td>25</td>\n      <td>98</td>\n      <td>18</td>\n    </tr>\n    <tr>\n      <th>1</th>\n      <td>Go</td>\n      <td>50</td>\n      <td>49</td>\n      <td>25</td>\n      <td>67</td>\n      <td>25</td>\n    </tr>\n    <tr>\n      <th>2</th>\n      <td>Maven</td>\n      <td>50</td>\n      <td>49</td>\n      <td>25</td>\n      <td>76</td>\n      <td>25</td>\n    </tr>\n    <tr>\n      <th>3</th>\n      <td>NuGet</td>\n      <td>40</td>\n      <td>18</td>\n      <td>15</td>\n      <td>50</td>\n      <td>13</td>\n    </tr>\n    <tr>\n      <th>4</th>\n      <td>RubyGems</td>\n      <td>39</td>\n      <td>32</td>\n      <td>14</td>\n      <td>54</td>\n      <td>16</td>\n    </tr>\n    <tr>\n      <th>5</th>\n      <td>npm</td>\n      <td>50</td>\n      <td>44</td>\n      <td>25</td>\n      <td>70</td>\n      <td>18</td>\n    </tr>\n    <tr>\n      <th>6</th>\n      <td>pip</td>\n      <td>50</td>\n      <td>45</td>\n      <td>25</td>\n      <td>64</td>\n      <td>31</td>\n    </tr>\n  </tbody>\n</table>\n</div>"
     },
     "metadata": {},
     "execution_count": 7
    }
   ],
   "source": [
    "df=reduce(lambda x,y : pd.merge(x,y,on='ecosystem'),[df, cwe])\n",
    "df"
   ]
  },
  {
   "cell_type": "code",
   "execution_count": 8,
   "metadata": {},
   "outputs": [
    {
     "output_type": "execute_result",
     "data": {
      "text/plain": [
       "  ecosystem  advisory  package  non-cve  releases  cwe\n",
       "0  Composer        50       30       25        98   18\n",
       "1        Go        50       49       25        67   25\n",
       "2     Maven        50       49       25        76   25\n",
       "3     NuGet        40       18       15        50   13\n",
       "4  RubyGems        39       32       14        54   16\n",
       "5       npm        50       44       25        70   18\n",
       "6       pip        50       45       25        64   31\n",
       "7     Total       329      267        7       479   67"
      ],
      "text/html": "<div>\n<style scoped>\n    .dataframe tbody tr th:only-of-type {\n        vertical-align: middle;\n    }\n\n    .dataframe tbody tr th {\n        vertical-align: top;\n    }\n\n    .dataframe thead th {\n        text-align: right;\n    }\n</style>\n<table border=\"1\" class=\"dataframe\">\n  <thead>\n    <tr style=\"text-align: right;\">\n      <th></th>\n      <th>ecosystem</th>\n      <th>advisory</th>\n      <th>package</th>\n      <th>non-cve</th>\n      <th>releases</th>\n      <th>cwe</th>\n    </tr>\n  </thead>\n  <tbody>\n    <tr>\n      <th>0</th>\n      <td>Composer</td>\n      <td>50</td>\n      <td>30</td>\n      <td>25</td>\n      <td>98</td>\n      <td>18</td>\n    </tr>\n    <tr>\n      <th>1</th>\n      <td>Go</td>\n      <td>50</td>\n      <td>49</td>\n      <td>25</td>\n      <td>67</td>\n      <td>25</td>\n    </tr>\n    <tr>\n      <th>2</th>\n      <td>Maven</td>\n      <td>50</td>\n      <td>49</td>\n      <td>25</td>\n      <td>76</td>\n      <td>25</td>\n    </tr>\n    <tr>\n      <th>3</th>\n      <td>NuGet</td>\n      <td>40</td>\n      <td>18</td>\n      <td>15</td>\n      <td>50</td>\n      <td>13</td>\n    </tr>\n    <tr>\n      <th>4</th>\n      <td>RubyGems</td>\n      <td>39</td>\n      <td>32</td>\n      <td>14</td>\n      <td>54</td>\n      <td>16</td>\n    </tr>\n    <tr>\n      <th>5</th>\n      <td>npm</td>\n      <td>50</td>\n      <td>44</td>\n      <td>25</td>\n      <td>70</td>\n      <td>18</td>\n    </tr>\n    <tr>\n      <th>6</th>\n      <td>pip</td>\n      <td>50</td>\n      <td>45</td>\n      <td>25</td>\n      <td>64</td>\n      <td>31</td>\n    </tr>\n    <tr>\n      <th>7</th>\n      <td>Total</td>\n      <td>329</td>\n      <td>267</td>\n      <td>7</td>\n      <td>479</td>\n      <td>67</td>\n    </tr>\n  </tbody>\n</table>\n</div>"
     },
     "metadata": {},
     "execution_count": 8
    }
   ],
   "source": [
    "df.loc[len(df)] = ['Total', df['advisory'].sum(), df['package'].sum(), df['non-cve'].count(),  df['releases'].sum(), total_cwes]\n",
    "df"
   ]
  },
  {
   "cell_type": "code",
   "execution_count": 9,
   "metadata": {},
   "outputs": [
    {
     "output_type": "execute_result",
     "data": {
      "text/plain": [
       "(           id  L\n",
       " ecosystem       \n",
       " Go          4  4\n",
       " Maven       8  8\n",
       " NuGet       2  2\n",
       " npm         6  6\n",
       " pip         4  4,\n",
       "            id   M\n",
       " ecosystem        \n",
       " Composer   29  29\n",
       " Go         28  28\n",
       " Maven      23  23\n",
       " NuGet      15  15\n",
       " RubyGems   24  24\n",
       " npm        17  17\n",
       " pip        32  32,\n",
       "            id   H\n",
       " ecosystem        \n",
       " Composer   21  21\n",
       " Go         18  18\n",
       " Maven      19  19\n",
       " NuGet      23  23\n",
       " RubyGems   15  15\n",
       " npm        27  27\n",
       " pip        14  14)"
      ]
     },
     "metadata": {},
     "execution_count": 9
    }
   ],
   "source": [
    "q = '''select distinct a.id, p.ecosystem, a.severity\n",
    "from manual_sample ms\n",
    "join advisoryCWE aC on ms.advisory_id = aC.advisory_id\n",
    "join advisory a on aC.advisory_id = a.id\n",
    "join package p on a.package_id = p.id;;'''\n",
    "sev = pd.DataFrame(sql.execute(q))\n",
    "#TODO this code is wrong. Replace this style with categorical count\n",
    "l, m, h = sev[sev['severity']=='L'],sev[sev['severity']=='M'],sev[sev['severity']=='H']\n",
    "eco_l = l.groupby('ecosystem').agg(lambda x: x.ne(0).sum())\n",
    "eco_l = eco_l.rename(columns={'severity':'L'})\n",
    "eco_m = m.groupby('ecosystem').agg(lambda x: x.ne(0).sum())\n",
    "eco_m = eco_m.rename(columns={'severity':'M'})\n",
    "eco_h = h.groupby('ecosystem').agg(lambda x: x.ne(0).sum())\n",
    "eco_h = eco_h.rename(columns={'severity':'H'})\n",
    "eco_l, eco_m, eco_h\n",
    "# sf=reduce(lambda x,y : pd.merge(x,y,on='ecosystem'),[eco_l, eco_m, eco_h])\n",
    "# sf = sf.reset_index()\n",
    "# l,m,h = len(l), len(m), len(h)\n",
    "# sf.loc[len(df)] = ['Total',l,m,h]\n",
    "# sf['T'] = sf.L + sf.M + sf.H\n",
    "# sf['L'] = round(sf['L'] / sf['T'],2)\n",
    "# sf['M'] = round(sf['M'] / sf['T'],2)\n",
    "# sf['H'] = round(sf['H'] / sf['T'],2)\n",
    "# sf['severity'] = sf[['L','M','H']].apply(tuple, axis=1)\n",
    "# sf = sf.drop(['L','M','H','T'], axis=1)\n",
    "# sf"
   ]
  },
  {
   "cell_type": "code",
   "execution_count": 10,
   "metadata": {},
   "outputs": [
    {
     "output_type": "stream",
     "name": "stdout",
     "text": [
      "\\begin{tabular}{lrrrrr}\n\\hline\n ecosystem   &   advisory &   package &   non-cve &   releases &   cwe \\\\\n\\hline\n Composer    &         50 &        30 &        25 &         98 &    18 \\\\\n Go          &         50 &        49 &        25 &         67 &    25 \\\\\n Maven       &         50 &        49 &        25 &         76 &    25 \\\\\n NuGet       &         40 &        18 &        15 &         50 &    13 \\\\\n RubyGems    &         39 &        32 &        14 &         54 &    16 \\\\\n npm         &         50 &        44 &        25 &         70 &    18 \\\\\n pip         &         50 &        45 &        25 &         64 &    31 \\\\\n Total       &        329 &       267 &         7 &        479 &    67 \\\\\n\\hline\n\\end{tabular}\n"
     ]
    }
   ],
   "source": [
    "print(tabulate(df, tablefmt='latex', headers='keys',showindex=False))"
   ]
  },
  {
   "cell_type": "code",
   "execution_count": 11,
   "metadata": {},
   "outputs": [
    {
     "output_type": "execute_result",
     "data": {
      "text/plain": [
       "                                  snyk_id  \\\n",
       "0            npm:address-rfc2822:20180225   \n",
       "1                npm:angular-jwt:20180605   \n",
       "2                     npm:braces:20180219   \n",
       "3                    npm:fastify:20180107   \n",
       "4           npm:is-my-json-valid:20180214   \n",
       "..                                    ...   \n",
       "474          SNYK-RUBY-SPREEBACKEND-20476   \n",
       "475         SNYK-RUBY-SPREEFRONTEND-20477   \n",
       "476          SNYK-RUBY-SQLITE3RUBY-536098   \n",
       "477      SNYK-RUBY-USERAGENTPARSER-559792   \n",
       "478  SNYK-RUBY-WEBSOCKETEXTENSIONS-570830   \n",
       "\n",
       "                               vulnerability type ecosystem  \\\n",
       "0    Regular Expression Denial of Service (ReDoS)       npm   \n",
       "1                       Access Restriction Bypass       npm   \n",
       "2    Regular Expression Denial of Service (ReDoS)       npm   \n",
       "3                         Denial of Service (DoS)       npm   \n",
       "4    Regular Expression Denial of Service (ReDoS)       npm   \n",
       "..                                            ...       ...   \n",
       "474                    Cross-site Scripting (XSS)  RubyGems   \n",
       "475                                Json Hijacking  RubyGems   \n",
       "476                     Access Restriction Bypass  RubyGems   \n",
       "477  Regular Expression Denial of Service (ReDoS)  RubyGems   \n",
       "478  Regular Expression Denial of Service (ReDoS)  RubyGems   \n",
       "\n",
       "                  package security release  \\\n",
       "0         address-rfc2822            2.0.2   \n",
       "1             angular-jwt           0.1.10   \n",
       "2                  braces            2.3.1   \n",
       "3                 fastify           0.38.0   \n",
       "4        is-my-json-valid            1.4.1   \n",
       "..                    ...              ...   \n",
       "474         spree_backend            1.2.1   \n",
       "475        spree_frontend            3.0.7   \n",
       "476          sqlite3-ruby            1.2.4   \n",
       "477     user_agent_parser            2.6.0   \n",
       "478  websocket-extensions            0.1.5   \n",
       "\n",
       "                                            repository  \\\n",
       "0       https://github.com/haraka/node-address-rfc2822   \n",
       "1                 https://github.com/auth0/angular-jwt   \n",
       "2                 https://github.com/micromatch/braces   \n",
       "3                   https://github.com/fastify/fastify   \n",
       "4        https://github.com/mafintosh/is-my-json-valid   \n",
       "..                                                 ...   \n",
       "474                     https://github.com/spree/spree   \n",
       "475                     https://github.com/spree/spree   \n",
       "476         https://github.com/luislavena/sqlite3-ruby   \n",
       "477              https://github.com/ua-parser/uap-core   \n",
       "478  https://github.com/faye/websocket-extensions-ruby   \n",
       "\n",
       "                                                  link is_doc  \\\n",
       "0    https://snyk.io/vuln/npm:address-rfc2822:20180225      Y   \n",
       "1        https://snyk.io/vuln/npm:angular-jwt:20180605      Y   \n",
       "2             https://snyk.io/vuln/npm:braces:20180219      Y   \n",
       "3            https://snyk.io/vuln/npm:fastify:20180107      Y   \n",
       "4    https://snyk.io/vuln/npm:is-my-json-valid:2018...      N   \n",
       "..                                                 ...    ...   \n",
       "474                                                NaN    NaN   \n",
       "475                                                NaN    NaN   \n",
       "476                                                NaN    NaN   \n",
       "477                                                NaN    NaN   \n",
       "478                                                NaN    NaN   \n",
       "\n",
       "     list of sources (separated by semicolon)           doc_source is_fix  \\\n",
       "0                                  changes.md            changelog      Y   \n",
       "1    github release note; Security-notices.md      security notice      Y   \n",
       "2                                changelog.MD            changelog      Y   \n",
       "3                         github release note  github release note      Y   \n",
       "4                                           N                    N    NaN   \n",
       "..                                        ...                  ...    ...   \n",
       "474                                       NaN                  NaN    NaN   \n",
       "475                                       NaN                  NaN    NaN   \n",
       "476                                       NaN                  NaN    NaN   \n",
       "477                                       NaN                  NaN    NaN   \n",
       "478                                       NaN                  NaN    NaN   \n",
       "\n",
       "    How is the fix mentioned? (initial codes); separated by semicolon  \\\n",
       "0         vulnerability type mentioned; PR referenced                   \n",
       "1    release note: summary of fix; security-notices...                  \n",
       "2                                          summary fix                  \n",
       "3                                      CVE mentioned;                   \n",
       "4                                                  NaN                  \n",
       "..                                                 ...                  \n",
       "474                                                NaN                  \n",
       "475                                                NaN                  \n",
       "476                                                NaN                  \n",
       "477                                                NaN                  \n",
       "478                                                NaN                  \n",
       "\n",
       "                                           fix_pattern is_uc is_br  \\\n",
       "0            vulnerability description; fix referenced     N     N   \n",
       "1    fix referenced; security notice; vulnerability...     N     N   \n",
       "2                                       fix referenced     N     N   \n",
       "3                                   advisory reference     Y     Y   \n",
       "4                                                  NaN   NaN   NaN   \n",
       "..                                                 ...   ...   ...   \n",
       "474                                                NaN   NaN   NaN   \n",
       "475                                                NaN   NaN   NaN   \n",
       "476                                                NaN   NaN   NaN   \n",
       "477                                                NaN   NaN   NaN   \n",
       "478                                                NaN   NaN   NaN   \n",
       "\n",
       "    how the breaking change is mentioned? (initial codes); separated by semicolon  \\\n",
       "0                                                  NaN                              \n",
       "1                                                  NaN                              \n",
       "2                                                  NaN                              \n",
       "3                                     breaking changes                              \n",
       "4                                                  NaN                              \n",
       "..                                                 ...                              \n",
       "474                                                NaN                              \n",
       "475                                                NaN                              \n",
       "476                                                NaN                              \n",
       "477                                                NaN                              \n",
       "478                                                NaN                              \n",
       "\n",
       "    how the breaking change is mentioned? (final codes); separated by semicolon  \\\n",
       "0                                                  NaN                            \n",
       "1                                                  NaN                            \n",
       "2                                                  NaN                            \n",
       "3                               breaking change notice                            \n",
       "4                                                  NaN                            \n",
       "..                                                 ...                            \n",
       "474                                                NaN                            \n",
       "475                                                NaN                            \n",
       "476                                                NaN                            \n",
       "477                                                NaN                            \n",
       "478                                                NaN                            \n",
       "\n",
       "                                   Additional Comments  \n",
       "0                                                  NaN  \n",
       "1                                                  NaN  \n",
       "2                                                  NaN  \n",
       "3                                                  NaN  \n",
       "4    the package that does not have a release note,...  \n",
       "..                                                 ...  \n",
       "474                                                NaN  \n",
       "475                                                NaN  \n",
       "476                                                NaN  \n",
       "477                                                NaN  \n",
       "478                                                NaN  \n",
       "\n",
       "[479 rows x 18 columns]"
      ],
      "text/html": "<div>\n<style scoped>\n    .dataframe tbody tr th:only-of-type {\n        vertical-align: middle;\n    }\n\n    .dataframe tbody tr th {\n        vertical-align: top;\n    }\n\n    .dataframe thead th {\n        text-align: right;\n    }\n</style>\n<table border=\"1\" class=\"dataframe\">\n  <thead>\n    <tr style=\"text-align: right;\">\n      <th></th>\n      <th>snyk_id</th>\n      <th>vulnerability type</th>\n      <th>ecosystem</th>\n      <th>package</th>\n      <th>security release</th>\n      <th>repository</th>\n      <th>link</th>\n      <th>is_doc</th>\n      <th>list of sources (separated by semicolon)</th>\n      <th>doc_source</th>\n      <th>is_fix</th>\n      <th>How is the fix mentioned? (initial codes); separated by semicolon</th>\n      <th>fix_pattern</th>\n      <th>is_uc</th>\n      <th>is_br</th>\n      <th>how the breaking change is mentioned? (initial codes); separated by semicolon</th>\n      <th>how the breaking change is mentioned? (final codes); separated by semicolon</th>\n      <th>Additional Comments</th>\n    </tr>\n  </thead>\n  <tbody>\n    <tr>\n      <th>0</th>\n      <td>npm:address-rfc2822:20180225</td>\n      <td>Regular Expression Denial of Service (ReDoS)</td>\n      <td>npm</td>\n      <td>address-rfc2822</td>\n      <td>2.0.2</td>\n      <td>https://github.com/haraka/node-address-rfc2822</td>\n      <td>https://snyk.io/vuln/npm:address-rfc2822:20180225</td>\n      <td>Y</td>\n      <td>changes.md</td>\n      <td>changelog</td>\n      <td>Y</td>\n      <td>vulnerability type mentioned; PR referenced</td>\n      <td>vulnerability description; fix referenced</td>\n      <td>N</td>\n      <td>N</td>\n      <td>NaN</td>\n      <td>NaN</td>\n      <td>NaN</td>\n    </tr>\n    <tr>\n      <th>1</th>\n      <td>npm:angular-jwt:20180605</td>\n      <td>Access Restriction Bypass</td>\n      <td>npm</td>\n      <td>angular-jwt</td>\n      <td>0.1.10</td>\n      <td>https://github.com/auth0/angular-jwt</td>\n      <td>https://snyk.io/vuln/npm:angular-jwt:20180605</td>\n      <td>Y</td>\n      <td>github release note; Security-notices.md</td>\n      <td>security notice</td>\n      <td>Y</td>\n      <td>release note: summary of fix; security-notices...</td>\n      <td>fix referenced; security notice; vulnerability...</td>\n      <td>N</td>\n      <td>N</td>\n      <td>NaN</td>\n      <td>NaN</td>\n      <td>NaN</td>\n    </tr>\n    <tr>\n      <th>2</th>\n      <td>npm:braces:20180219</td>\n      <td>Regular Expression Denial of Service (ReDoS)</td>\n      <td>npm</td>\n      <td>braces</td>\n      <td>2.3.1</td>\n      <td>https://github.com/micromatch/braces</td>\n      <td>https://snyk.io/vuln/npm:braces:20180219</td>\n      <td>Y</td>\n      <td>changelog.MD</td>\n      <td>changelog</td>\n      <td>Y</td>\n      <td>summary fix</td>\n      <td>fix referenced</td>\n      <td>N</td>\n      <td>N</td>\n      <td>NaN</td>\n      <td>NaN</td>\n      <td>NaN</td>\n    </tr>\n    <tr>\n      <th>3</th>\n      <td>npm:fastify:20180107</td>\n      <td>Denial of Service (DoS)</td>\n      <td>npm</td>\n      <td>fastify</td>\n      <td>0.38.0</td>\n      <td>https://github.com/fastify/fastify</td>\n      <td>https://snyk.io/vuln/npm:fastify:20180107</td>\n      <td>Y</td>\n      <td>github release note</td>\n      <td>github release note</td>\n      <td>Y</td>\n      <td>CVE mentioned;</td>\n      <td>advisory reference</td>\n      <td>Y</td>\n      <td>Y</td>\n      <td>breaking changes</td>\n      <td>breaking change notice</td>\n      <td>NaN</td>\n    </tr>\n    <tr>\n      <th>4</th>\n      <td>npm:is-my-json-valid:20180214</td>\n      <td>Regular Expression Denial of Service (ReDoS)</td>\n      <td>npm</td>\n      <td>is-my-json-valid</td>\n      <td>1.4.1</td>\n      <td>https://github.com/mafintosh/is-my-json-valid</td>\n      <td>https://snyk.io/vuln/npm:is-my-json-valid:2018...</td>\n      <td>N</td>\n      <td>N</td>\n      <td>N</td>\n      <td>NaN</td>\n      <td>NaN</td>\n      <td>NaN</td>\n      <td>NaN</td>\n      <td>NaN</td>\n      <td>NaN</td>\n      <td>NaN</td>\n      <td>the package that does not have a release note,...</td>\n    </tr>\n    <tr>\n      <th>...</th>\n      <td>...</td>\n      <td>...</td>\n      <td>...</td>\n      <td>...</td>\n      <td>...</td>\n      <td>...</td>\n      <td>...</td>\n      <td>...</td>\n      <td>...</td>\n      <td>...</td>\n      <td>...</td>\n      <td>...</td>\n      <td>...</td>\n      <td>...</td>\n      <td>...</td>\n      <td>...</td>\n      <td>...</td>\n      <td>...</td>\n    </tr>\n    <tr>\n      <th>474</th>\n      <td>SNYK-RUBY-SPREEBACKEND-20476</td>\n      <td>Cross-site Scripting (XSS)</td>\n      <td>RubyGems</td>\n      <td>spree_backend</td>\n      <td>1.2.1</td>\n      <td>https://github.com/spree/spree</td>\n      <td>NaN</td>\n      <td>NaN</td>\n      <td>NaN</td>\n      <td>NaN</td>\n      <td>NaN</td>\n      <td>NaN</td>\n      <td>NaN</td>\n      <td>NaN</td>\n      <td>NaN</td>\n      <td>NaN</td>\n      <td>NaN</td>\n      <td>NaN</td>\n    </tr>\n    <tr>\n      <th>475</th>\n      <td>SNYK-RUBY-SPREEFRONTEND-20477</td>\n      <td>Json Hijacking</td>\n      <td>RubyGems</td>\n      <td>spree_frontend</td>\n      <td>3.0.7</td>\n      <td>https://github.com/spree/spree</td>\n      <td>NaN</td>\n      <td>NaN</td>\n      <td>NaN</td>\n      <td>NaN</td>\n      <td>NaN</td>\n      <td>NaN</td>\n      <td>NaN</td>\n      <td>NaN</td>\n      <td>NaN</td>\n      <td>NaN</td>\n      <td>NaN</td>\n      <td>NaN</td>\n    </tr>\n    <tr>\n      <th>476</th>\n      <td>SNYK-RUBY-SQLITE3RUBY-536098</td>\n      <td>Access Restriction Bypass</td>\n      <td>RubyGems</td>\n      <td>sqlite3-ruby</td>\n      <td>1.2.4</td>\n      <td>https://github.com/luislavena/sqlite3-ruby</td>\n      <td>NaN</td>\n      <td>NaN</td>\n      <td>NaN</td>\n      <td>NaN</td>\n      <td>NaN</td>\n      <td>NaN</td>\n      <td>NaN</td>\n      <td>NaN</td>\n      <td>NaN</td>\n      <td>NaN</td>\n      <td>NaN</td>\n      <td>NaN</td>\n    </tr>\n    <tr>\n      <th>477</th>\n      <td>SNYK-RUBY-USERAGENTPARSER-559792</td>\n      <td>Regular Expression Denial of Service (ReDoS)</td>\n      <td>RubyGems</td>\n      <td>user_agent_parser</td>\n      <td>2.6.0</td>\n      <td>https://github.com/ua-parser/uap-core</td>\n      <td>NaN</td>\n      <td>NaN</td>\n      <td>NaN</td>\n      <td>NaN</td>\n      <td>NaN</td>\n      <td>NaN</td>\n      <td>NaN</td>\n      <td>NaN</td>\n      <td>NaN</td>\n      <td>NaN</td>\n      <td>NaN</td>\n      <td>NaN</td>\n    </tr>\n    <tr>\n      <th>478</th>\n      <td>SNYK-RUBY-WEBSOCKETEXTENSIONS-570830</td>\n      <td>Regular Expression Denial of Service (ReDoS)</td>\n      <td>RubyGems</td>\n      <td>websocket-extensions</td>\n      <td>0.1.5</td>\n      <td>https://github.com/faye/websocket-extensions-ruby</td>\n      <td>NaN</td>\n      <td>NaN</td>\n      <td>NaN</td>\n      <td>NaN</td>\n      <td>NaN</td>\n      <td>NaN</td>\n      <td>NaN</td>\n      <td>NaN</td>\n      <td>NaN</td>\n      <td>NaN</td>\n      <td>NaN</td>\n      <td>NaN</td>\n    </tr>\n  </tbody>\n</table>\n<p>479 rows × 18 columns</p>\n</div>"
     },
     "metadata": {},
     "execution_count": 11
    }
   ],
   "source": [
    "csv = pd.read_csv('qual.csv')\n",
    "csv = csv.rename(columns = {'Is there a documentation source?': 'is_doc','is the fix mentioned?':'is_fix', 'is there unrelated change mentioned?': 'is_uc', 'is breaking change mentioned?':'is_br' , 'main source' :'doc_source', 'How is the fix mentioned? (final codes); separated by semicolon':'fix_pattern'})\n",
    "csv"
   ]
  },
  {
   "cell_type": "code",
   "execution_count": 12,
   "metadata": {},
   "outputs": [
    {
     "output_type": "execute_result",
     "data": {
      "text/plain": [
       "           is_doc\n",
       "ecosystem        \n",
       "Composer        0\n",
       "Go              0\n",
       "Maven           0\n",
       "NuGet           0\n",
       "RubyGems        0\n",
       "npm            43\n",
       "pip             0"
      ],
      "text/html": "<div>\n<style scoped>\n    .dataframe tbody tr th:only-of-type {\n        vertical-align: middle;\n    }\n\n    .dataframe tbody tr th {\n        vertical-align: top;\n    }\n\n    .dataframe thead th {\n        text-align: right;\n    }\n</style>\n<table border=\"1\" class=\"dataframe\">\n  <thead>\n    <tr style=\"text-align: right;\">\n      <th></th>\n      <th>is_doc</th>\n    </tr>\n    <tr>\n      <th>ecosystem</th>\n      <th></th>\n    </tr>\n  </thead>\n  <tbody>\n    <tr>\n      <th>Composer</th>\n      <td>0</td>\n    </tr>\n    <tr>\n      <th>Go</th>\n      <td>0</td>\n    </tr>\n    <tr>\n      <th>Maven</th>\n      <td>0</td>\n    </tr>\n    <tr>\n      <th>NuGet</th>\n      <td>0</td>\n    </tr>\n    <tr>\n      <th>RubyGems</th>\n      <td>0</td>\n    </tr>\n    <tr>\n      <th>npm</th>\n      <td>43</td>\n    </tr>\n    <tr>\n      <th>pip</th>\n      <td>0</td>\n    </tr>\n  </tbody>\n</table>\n</div>"
     },
     "metadata": {},
     "execution_count": 12
    }
   ],
   "source": [
    "doc = csv\n",
    "doc['is_doc'] = doc['is_doc'].mask(doc['is_doc'].ne('Y'))\n",
    "doc = doc.groupby('ecosystem')[['is_doc']].count()\n",
    "doc"
   ]
  },
  {
   "cell_type": "code",
   "execution_count": 13,
   "metadata": {},
   "outputs": [
    {
     "output_type": "execute_result",
     "data": {
      "text/plain": [
       "           is_fix\n",
       "ecosystem        \n",
       "Composer        0\n",
       "Go              0\n",
       "Maven           0\n",
       "NuGet           0\n",
       "RubyGems        0\n",
       "npm            31\n",
       "pip             0"
      ],
      "text/html": "<div>\n<style scoped>\n    .dataframe tbody tr th:only-of-type {\n        vertical-align: middle;\n    }\n\n    .dataframe tbody tr th {\n        vertical-align: top;\n    }\n\n    .dataframe thead th {\n        text-align: right;\n    }\n</style>\n<table border=\"1\" class=\"dataframe\">\n  <thead>\n    <tr style=\"text-align: right;\">\n      <th></th>\n      <th>is_fix</th>\n    </tr>\n    <tr>\n      <th>ecosystem</th>\n      <th></th>\n    </tr>\n  </thead>\n  <tbody>\n    <tr>\n      <th>Composer</th>\n      <td>0</td>\n    </tr>\n    <tr>\n      <th>Go</th>\n      <td>0</td>\n    </tr>\n    <tr>\n      <th>Maven</th>\n      <td>0</td>\n    </tr>\n    <tr>\n      <th>NuGet</th>\n      <td>0</td>\n    </tr>\n    <tr>\n      <th>RubyGems</th>\n      <td>0</td>\n    </tr>\n    <tr>\n      <th>npm</th>\n      <td>31</td>\n    </tr>\n    <tr>\n      <th>pip</th>\n      <td>0</td>\n    </tr>\n  </tbody>\n</table>\n</div>"
     },
     "metadata": {},
     "execution_count": 13
    }
   ],
   "source": [
    "fix = csv\n",
    "fix['is_fix'] = fix['is_fix'].mask(fix['is_fix'].ne('Y'))\n",
    "fix = fix.groupby('ecosystem')[['is_fix']].count()\n",
    "fix"
   ]
  },
  {
   "cell_type": "code",
   "execution_count": 14,
   "metadata": {},
   "outputs": [
    {
     "output_type": "execute_result",
     "data": {
      "text/plain": [
       "           is_uc\n",
       "ecosystem       \n",
       "Composer       0\n",
       "Go             0\n",
       "Maven          0\n",
       "NuGet          0\n",
       "RubyGems       0\n",
       "npm           21\n",
       "pip            0"
      ],
      "text/html": "<div>\n<style scoped>\n    .dataframe tbody tr th:only-of-type {\n        vertical-align: middle;\n    }\n\n    .dataframe tbody tr th {\n        vertical-align: top;\n    }\n\n    .dataframe thead th {\n        text-align: right;\n    }\n</style>\n<table border=\"1\" class=\"dataframe\">\n  <thead>\n    <tr style=\"text-align: right;\">\n      <th></th>\n      <th>is_uc</th>\n    </tr>\n    <tr>\n      <th>ecosystem</th>\n      <th></th>\n    </tr>\n  </thead>\n  <tbody>\n    <tr>\n      <th>Composer</th>\n      <td>0</td>\n    </tr>\n    <tr>\n      <th>Go</th>\n      <td>0</td>\n    </tr>\n    <tr>\n      <th>Maven</th>\n      <td>0</td>\n    </tr>\n    <tr>\n      <th>NuGet</th>\n      <td>0</td>\n    </tr>\n    <tr>\n      <th>RubyGems</th>\n      <td>0</td>\n    </tr>\n    <tr>\n      <th>npm</th>\n      <td>21</td>\n    </tr>\n    <tr>\n      <th>pip</th>\n      <td>0</td>\n    </tr>\n  </tbody>\n</table>\n</div>"
     },
     "metadata": {},
     "execution_count": 14
    }
   ],
   "source": [
    "uc = csv\n",
    "uc['is_uc'] = uc['is_uc'].mask(uc['is_uc'].ne('Y'))\n",
    "uc = uc.groupby('ecosystem')[['is_uc']].count()\n",
    "uc\n"
   ]
  },
  {
   "cell_type": "code",
   "execution_count": 15,
   "metadata": {},
   "outputs": [
    {
     "output_type": "execute_result",
     "data": {
      "text/plain": [
       "           is_br\n",
       "ecosystem       \n",
       "Composer       0\n",
       "Go             0\n",
       "Maven          0\n",
       "NuGet          0\n",
       "RubyGems       0\n",
       "npm            8\n",
       "pip            0"
      ],
      "text/html": "<div>\n<style scoped>\n    .dataframe tbody tr th:only-of-type {\n        vertical-align: middle;\n    }\n\n    .dataframe tbody tr th {\n        vertical-align: top;\n    }\n\n    .dataframe thead th {\n        text-align: right;\n    }\n</style>\n<table border=\"1\" class=\"dataframe\">\n  <thead>\n    <tr style=\"text-align: right;\">\n      <th></th>\n      <th>is_br</th>\n    </tr>\n    <tr>\n      <th>ecosystem</th>\n      <th></th>\n    </tr>\n  </thead>\n  <tbody>\n    <tr>\n      <th>Composer</th>\n      <td>0</td>\n    </tr>\n    <tr>\n      <th>Go</th>\n      <td>0</td>\n    </tr>\n    <tr>\n      <th>Maven</th>\n      <td>0</td>\n    </tr>\n    <tr>\n      <th>NuGet</th>\n      <td>0</td>\n    </tr>\n    <tr>\n      <th>RubyGems</th>\n      <td>0</td>\n    </tr>\n    <tr>\n      <th>npm</th>\n      <td>8</td>\n    </tr>\n    <tr>\n      <th>pip</th>\n      <td>0</td>\n    </tr>\n  </tbody>\n</table>\n</div>"
     },
     "metadata": {},
     "execution_count": 15
    }
   ],
   "source": [
    "br = csv\n",
    "br['is_br'] = br['is_br'].mask(br['is_br'].ne('Y'))\n",
    "br = br.groupby('ecosystem')[['is_br']].count()\n",
    "br"
   ]
  },
  {
   "cell_type": "code",
   "execution_count": 16,
   "metadata": {},
   "outputs": [
    {
     "output_type": "execute_result",
     "data": {
      "text/plain": [
       "  ecosystem  advisory  package  non-cve  releases  cwe  is_doc  is_fix  is_uc  \\\n",
       "0  Composer        50       30       25        98   18       0       0      0   \n",
       "1        Go        50       49       25        67   25       0       0      0   \n",
       "2     Maven        50       49       25        76   25       0       0      0   \n",
       "3     NuGet        40       18       15        50   13       0       0      0   \n",
       "4  RubyGems        39       32       14        54   16       0       0      0   \n",
       "5       npm        50       44       25        70   18      43      31     21   \n",
       "6       pip        50       45       25        64   31       0       0      0   \n",
       "\n",
       "   is_br  \n",
       "0      0  \n",
       "1      0  \n",
       "2      0  \n",
       "3      0  \n",
       "4      0  \n",
       "5      8  \n",
       "6      0  "
      ],
      "text/html": "<div>\n<style scoped>\n    .dataframe tbody tr th:only-of-type {\n        vertical-align: middle;\n    }\n\n    .dataframe tbody tr th {\n        vertical-align: top;\n    }\n\n    .dataframe thead th {\n        text-align: right;\n    }\n</style>\n<table border=\"1\" class=\"dataframe\">\n  <thead>\n    <tr style=\"text-align: right;\">\n      <th></th>\n      <th>ecosystem</th>\n      <th>advisory</th>\n      <th>package</th>\n      <th>non-cve</th>\n      <th>releases</th>\n      <th>cwe</th>\n      <th>is_doc</th>\n      <th>is_fix</th>\n      <th>is_uc</th>\n      <th>is_br</th>\n    </tr>\n  </thead>\n  <tbody>\n    <tr>\n      <th>0</th>\n      <td>Composer</td>\n      <td>50</td>\n      <td>30</td>\n      <td>25</td>\n      <td>98</td>\n      <td>18</td>\n      <td>0</td>\n      <td>0</td>\n      <td>0</td>\n      <td>0</td>\n    </tr>\n    <tr>\n      <th>1</th>\n      <td>Go</td>\n      <td>50</td>\n      <td>49</td>\n      <td>25</td>\n      <td>67</td>\n      <td>25</td>\n      <td>0</td>\n      <td>0</td>\n      <td>0</td>\n      <td>0</td>\n    </tr>\n    <tr>\n      <th>2</th>\n      <td>Maven</td>\n      <td>50</td>\n      <td>49</td>\n      <td>25</td>\n      <td>76</td>\n      <td>25</td>\n      <td>0</td>\n      <td>0</td>\n      <td>0</td>\n      <td>0</td>\n    </tr>\n    <tr>\n      <th>3</th>\n      <td>NuGet</td>\n      <td>40</td>\n      <td>18</td>\n      <td>15</td>\n      <td>50</td>\n      <td>13</td>\n      <td>0</td>\n      <td>0</td>\n      <td>0</td>\n      <td>0</td>\n    </tr>\n    <tr>\n      <th>4</th>\n      <td>RubyGems</td>\n      <td>39</td>\n      <td>32</td>\n      <td>14</td>\n      <td>54</td>\n      <td>16</td>\n      <td>0</td>\n      <td>0</td>\n      <td>0</td>\n      <td>0</td>\n    </tr>\n    <tr>\n      <th>5</th>\n      <td>npm</td>\n      <td>50</td>\n      <td>44</td>\n      <td>25</td>\n      <td>70</td>\n      <td>18</td>\n      <td>43</td>\n      <td>31</td>\n      <td>21</td>\n      <td>8</td>\n    </tr>\n    <tr>\n      <th>6</th>\n      <td>pip</td>\n      <td>50</td>\n      <td>45</td>\n      <td>25</td>\n      <td>64</td>\n      <td>31</td>\n      <td>0</td>\n      <td>0</td>\n      <td>0</td>\n      <td>0</td>\n    </tr>\n  </tbody>\n</table>\n</div>"
     },
     "metadata": {},
     "execution_count": 16
    }
   ],
   "source": [
    "df=reduce(lambda x,y : pd.merge(x,y,on='ecosystem'),[df, doc, fix, uc, br])\n",
    "df"
   ]
  },
  {
   "cell_type": "code",
   "execution_count": 17,
   "metadata": {},
   "outputs": [
    {
     "output_type": "execute_result",
     "data": {
      "text/plain": [
       "  ecosystem  advisory  package  non-cve  releases  cwe      is_doc  \\\n",
       "0  Composer        50       30       25        98   18    0 (0.0%)   \n",
       "1        Go        50       49       25        67   25    0 (0.0%)   \n",
       "2     Maven        50       49       25        76   25    0 (0.0%)   \n",
       "3     NuGet        40       18       15        50   13    0 (0.0%)   \n",
       "4  RubyGems        39       32       14        54   16    0 (0.0%)   \n",
       "5       npm        50       44       25        70   18  43 (61.4%)   \n",
       "6       pip        50       45       25        64   31    0 (0.0%)   \n",
       "\n",
       "       is_fix       is_uc      is_br  \n",
       "0    0 (0.0%)    0 (0.0%)   0 (0.0%)  \n",
       "1    0 (0.0%)    0 (0.0%)   0 (0.0%)  \n",
       "2    0 (0.0%)    0 (0.0%)   0 (0.0%)  \n",
       "3    0 (0.0%)    0 (0.0%)   0 (0.0%)  \n",
       "4    0 (0.0%)    0 (0.0%)   0 (0.0%)  \n",
       "5  31 (44.3%)  21 (30.0%)  8 (11.4%)  \n",
       "6    0 (0.0%)    0 (0.0%)   0 (0.0%)  "
      ],
      "text/html": "<div>\n<style scoped>\n    .dataframe tbody tr th:only-of-type {\n        vertical-align: middle;\n    }\n\n    .dataframe tbody tr th {\n        vertical-align: top;\n    }\n\n    .dataframe thead th {\n        text-align: right;\n    }\n</style>\n<table border=\"1\" class=\"dataframe\">\n  <thead>\n    <tr style=\"text-align: right;\">\n      <th></th>\n      <th>ecosystem</th>\n      <th>advisory</th>\n      <th>package</th>\n      <th>non-cve</th>\n      <th>releases</th>\n      <th>cwe</th>\n      <th>is_doc</th>\n      <th>is_fix</th>\n      <th>is_uc</th>\n      <th>is_br</th>\n    </tr>\n  </thead>\n  <tbody>\n    <tr>\n      <th>0</th>\n      <td>Composer</td>\n      <td>50</td>\n      <td>30</td>\n      <td>25</td>\n      <td>98</td>\n      <td>18</td>\n      <td>0 (0.0%)</td>\n      <td>0 (0.0%)</td>\n      <td>0 (0.0%)</td>\n      <td>0 (0.0%)</td>\n    </tr>\n    <tr>\n      <th>1</th>\n      <td>Go</td>\n      <td>50</td>\n      <td>49</td>\n      <td>25</td>\n      <td>67</td>\n      <td>25</td>\n      <td>0 (0.0%)</td>\n      <td>0 (0.0%)</td>\n      <td>0 (0.0%)</td>\n      <td>0 (0.0%)</td>\n    </tr>\n    <tr>\n      <th>2</th>\n      <td>Maven</td>\n      <td>50</td>\n      <td>49</td>\n      <td>25</td>\n      <td>76</td>\n      <td>25</td>\n      <td>0 (0.0%)</td>\n      <td>0 (0.0%)</td>\n      <td>0 (0.0%)</td>\n      <td>0 (0.0%)</td>\n    </tr>\n    <tr>\n      <th>3</th>\n      <td>NuGet</td>\n      <td>40</td>\n      <td>18</td>\n      <td>15</td>\n      <td>50</td>\n      <td>13</td>\n      <td>0 (0.0%)</td>\n      <td>0 (0.0%)</td>\n      <td>0 (0.0%)</td>\n      <td>0 (0.0%)</td>\n    </tr>\n    <tr>\n      <th>4</th>\n      <td>RubyGems</td>\n      <td>39</td>\n      <td>32</td>\n      <td>14</td>\n      <td>54</td>\n      <td>16</td>\n      <td>0 (0.0%)</td>\n      <td>0 (0.0%)</td>\n      <td>0 (0.0%)</td>\n      <td>0 (0.0%)</td>\n    </tr>\n    <tr>\n      <th>5</th>\n      <td>npm</td>\n      <td>50</td>\n      <td>44</td>\n      <td>25</td>\n      <td>70</td>\n      <td>18</td>\n      <td>43 (61.4%)</td>\n      <td>31 (44.3%)</td>\n      <td>21 (30.0%)</td>\n      <td>8 (11.4%)</td>\n    </tr>\n    <tr>\n      <th>6</th>\n      <td>pip</td>\n      <td>50</td>\n      <td>45</td>\n      <td>25</td>\n      <td>64</td>\n      <td>31</td>\n      <td>0 (0.0%)</td>\n      <td>0 (0.0%)</td>\n      <td>0 (0.0%)</td>\n      <td>0 (0.0%)</td>\n    </tr>\n  </tbody>\n</table>\n</div>"
     },
     "metadata": {},
     "execution_count": 17
    }
   ],
   "source": [
    "df['is_doc_rate'] = round(df['is_doc']/df['releases']* 100,1) \n",
    "df['is_doc'] = df['is_doc'].astype(str)\n",
    "df['is_doc_rate'] = df['is_doc_rate'].astype(str)\n",
    "df['is_doc'] = df['is_doc'] + ' (' + df['is_doc_rate'] +'%)'\n",
    "df = df.drop('is_doc_rate', axis=1)\n",
    "df['is_fix_rate'] = round(df['is_fix']/df['releases'] * 100 ,1)\n",
    "df['is_fix'] = df['is_fix'].astype(str)\n",
    "df['is_fix_rate'] = df['is_fix_rate'].astype(str)\n",
    "df['is_fix'] = df['is_fix'] + ' (' + df['is_fix_rate'] +'%)'\n",
    "df = df.drop('is_fix_rate', axis=1)\n",
    "df['is_uc_rate'] = round(df['is_uc']/df['releases'] * 100,1)\n",
    "df['is_uc'] = df['is_uc'].astype(str)\n",
    "df['is_uc_rate'] = df['is_uc_rate'].astype(str)\n",
    "df['is_uc'] = df['is_uc'] + ' (' + df['is_uc_rate'] +'%)'\n",
    "df = df.drop('is_uc_rate', axis=1)\n",
    "df['is_br_rate'] = round(df['is_br']/df['releases']* 100,1)\n",
    "df['is_br'] = df['is_br'].astype(str)\n",
    "df['is_br_rate'] = df['is_br_rate'].astype(str)\n",
    "df['is_br'] = df['is_br'] + ' (' + df['is_br_rate'] +'%)'\n",
    "df = df.drop('is_br_rate', axis=1)\n",
    "df"
   ]
  },
  {
   "cell_type": "code",
   "execution_count": 18,
   "metadata": {},
   "outputs": [
    {
     "output_type": "stream",
     "name": "stdout",
     "text": [
      "\\begin{tabular}{lrrrrrllll}\n\\hline\n ecosystem   &   advisory &   package &   non-cve &   releases &   cwe & is\\_doc     & is\\_fix     & is\\_uc      & is\\_br     \\\\\n\\hline\n Composer    &         50 &        30 &        25 &         98 &    18 & 0 (0.0\\%)   & 0 (0.0\\%)   & 0 (0.0\\%)   & 0 (0.0\\%)  \\\\\n Go          &         50 &        49 &        25 &         67 &    25 & 0 (0.0\\%)   & 0 (0.0\\%)   & 0 (0.0\\%)   & 0 (0.0\\%)  \\\\\n Maven       &         50 &        49 &        25 &         76 &    25 & 0 (0.0\\%)   & 0 (0.0\\%)   & 0 (0.0\\%)   & 0 (0.0\\%)  \\\\\n NuGet       &         40 &        18 &        15 &         50 &    13 & 0 (0.0\\%)   & 0 (0.0\\%)   & 0 (0.0\\%)   & 0 (0.0\\%)  \\\\\n RubyGems    &         39 &        32 &        14 &         54 &    16 & 0 (0.0\\%)   & 0 (0.0\\%)   & 0 (0.0\\%)   & 0 (0.0\\%)  \\\\\n npm         &         50 &        44 &        25 &         70 &    18 & 43 (61.4\\%) & 31 (44.3\\%) & 21 (30.0\\%) & 8 (11.4\\%) \\\\\n pip         &         50 &        45 &        25 &         64 &    31 & 0 (0.0\\%)   & 0 (0.0\\%)   & 0 (0.0\\%)   & 0 (0.0\\%)  \\\\\n\\hline\n\\end{tabular}\n"
     ]
    }
   ],
   "source": [
    "print(tabulate(df, tablefmt='latex', headers='keys',showindex=False))"
   ]
  },
  {
   "cell_type": "code",
   "execution_count": 19,
   "metadata": {},
   "outputs": [
    {
     "output_type": "execute_result",
     "data": {
      "text/plain": [
       "N                               27\n",
       "github release note             27\n",
       "changelog                       11\n",
       "readme                           2\n",
       "security notice                  1\n",
       "mailing list                     1\n",
       "package homepage releasenote     1\n",
       "Name: doc_source, dtype: int64"
      ]
     },
     "metadata": {},
     "execution_count": 19
    }
   ],
   "source": [
    "csv['doc_source'].value_counts()"
   ]
  },
  {
   "cell_type": "code",
   "execution_count": 20,
   "metadata": {},
   "outputs": [
    {
     "output_type": "execute_result",
     "data": {
      "text/plain": [
       "fix referenced                                                                           5\n",
       "Fix referenced; vulnerability description                                                4\n",
       "Security notice; advisory referenced; fix referenced                                     4\n",
       "security notice; vulnerability description; fix referenced                               3\n",
       "vulnerability description; fix referenced                                                3\n",
       "security notice; fix referenced; vulnerability description; affected component listed    2\n",
       "Security notice; advisory referenced; vulnerability description; Fix referenced          2\n",
       "advisory referenced; vulnerability description; fix referenced                           1\n",
       "advisory reference                                                                       1\n",
       "affected component listed                                                                1\n",
       "security notice; advisory referenced; vulnerability description                          1\n",
       "affected component listed; security notice                                               1\n",
       "security notice; advisory referenced; fix referenced                                     1\n",
       "security notice; advisory reference; vulnerability description                           1\n",
       "fix referenced; security notice; vulnerability description; advisory reference           1\n",
       "security notice; advisory reference; fix referenced; affected component listed           1\n",
       "vulnerability description                                                                1\n",
       "security notice; fix referenced; affected component listed                               1\n",
       "security notice; affected component listed; vulnerability description                    1\n",
       "security notice; fix referenced; affected component listed; vulnerability description    1\n",
       "security notice; fix referenced                                                          1\n",
       "security notice; affected component listed; fix referenced                               1\n",
       "Fix referenced                                                                           1\n",
       "Name: fix_pattern, dtype: int64"
      ]
     },
     "metadata": {},
     "execution_count": 20
    }
   ],
   "source": [
    "csv['fix_pattern'].value_counts()"
   ]
  },
  {
   "cell_type": "code",
   "execution_count": 21,
   "metadata": {},
   "outputs": [
    {
     "output_type": "execute_result",
     "data": {
      "text/plain": [
       "fix referenced               32\n",
       "security notice              22\n",
       "vulnerability description    21\n",
       "advisory referenced           9\n",
       "affected component listed     9\n",
       "advisory reference            4\n",
       "Name: fix_pattern, dtype: int64"
      ]
     },
     "metadata": {},
     "execution_count": 21
    }
   ],
   "source": [
    "fp  = csv[['ecosystem', 'snyk_id','fix_pattern']]\n",
    "fp = fp.values.tolist()\n",
    "final = []\n",
    "for row in fp:\n",
    "    eco = row[0]\n",
    "    aid = row[1]\n",
    "    if row[-1] != 'nan' and isinstance(row[-1],str):\n",
    "        l = row[-1].split(';')\n",
    "        for elem in l:\n",
    "            if elem.strip() == 'fix reference':\n",
    "                print(row[1])\n",
    "            final.append([eco,aid,elem.lower().strip()])\n",
    "df = pd.DataFrame(final, columns=['ecosystem','advisory_id','fix_pattern'])\n",
    "df['fix_pattern'].value_counts()"
   ]
  },
  {
   "cell_type": "code",
   "execution_count": null,
   "metadata": {},
   "outputs": [],
   "source": []
  }
 ]
}