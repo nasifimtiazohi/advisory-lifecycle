{
 "cells": [
  {
   "cell_type": "code",
   "execution_count": 1,
   "metadata": {},
   "outputs": [],
   "source": [
    "import sys\n",
    "import sql\n",
    "import pandas as pd\n",
    "from functools import reduce\n",
    "from tabulate import tabulate \n",
    "import datetime\n",
    "import matplotlib.pyplot as plt\n",
    "import seaborn as sns"
   ]
  },
  {
   "cell_type": "code",
   "execution_count": 2,
   "metadata": {},
   "outputs": [],
   "source": [
    "q = '''select * from package_usage pu\n",
    "join package p on pu.package_id = p.id'''\n",
    "usage = pd.DataFrame(sql.execute(q))"
   ]
  },
  {
   "cell_type": "code",
   "execution_count": 3,
   "metadata": {},
   "outputs": [
    {
     "data": {
      "text/plain": [
       "(3520, 1725, 3856)"
      ]
     },
     "execution_count": 3,
     "metadata": {},
     "output_type": "execute_result"
    }
   ],
   "source": [
    "q ='''select distinct a.id as advisory_id, a.severity, a.disclose_date, a.publish_date,\n",
    "        CWE, p.id as package_id, p.name, p.ecosystem, p.repository_url,\n",
    "        ri.id as release_id, ri.version, ri.prior_release, ri.publish_date as release_date\n",
    "from advisory a\n",
    "join package p on a.package_id = p.id\n",
    "join advisoryCWE aC on a.id = aC.advisory_id\n",
    "join fixing_releases fr on a.id = fr.advisory_id\n",
    "join release_info ri on ri.package_id = p.id\n",
    "    and ri.version = fr.version\n",
    "where ri.prior_release is not null\n",
    "and ri.prior_release != 'manual checkup needed'\n",
    "    and ri.prior_release != 'branch does not match'\n",
    "    and ri.prior_release != 'not valid semver formatting'\n",
    "    and repository_url != 'no repository listed' '''\n",
    "df = pd.DataFrame(sql.execute(q))\n",
    "df['advisory_id'].nunique(), df['package_id'].nunique(), df['release_id'].nunique()"
   ]
  },
  {
   "cell_type": "code",
   "execution_count": 4,
   "metadata": {},
   "outputs": [
    {
     "data": {
      "text/plain": [
       "(3082, 1542, 3355)"
      ]
     },
     "execution_count": 4,
     "metadata": {},
     "output_type": "execute_result"
    }
   ],
   "source": [
    "q ='''select distinct a.id as advisory_id, a.severity, a.disclose_date, a.publish_date,\n",
    "        CWE, p.id as package_id, p.name, p.ecosystem, p.repository_url,\n",
    "        ri.id as release_id, ri.version, ri.prior_release, ri.publish_date as release_date\n",
    "from advisory a\n",
    "join package p on a.package_id = p.id\n",
    "join advisoryCWE aC on a.id = aC.advisory_id\n",
    "join fixing_releases fr on a.id = fr.advisory_id\n",
    "join release_info ri on ri.package_id = p.id\n",
    "    and ri.version = fr.version\n",
    "where ri.prior_release is not null\n",
    "and ri.prior_release != 'manual checkup needed'\n",
    "    and ri.prior_release != 'branch does not match'\n",
    "    and ri.prior_release != 'not valid semver formatting'\n",
    "    and repository_url != 'no repository listed'\n",
    "and (ri.id in (select distinct release_id from version_diff)\n",
    "or (ri.id in (select release_id from version_diff_with_no_package_file ))\n",
    ") '''\n",
    "df = pd.DataFrame(sql.execute(q))\n",
    "df['advisory_id'].nunique(), df['package_id'].nunique(), df['release_id'].nunique()"
   ]
  },
  {
   "cell_type": "code",
   "execution_count": 5,
   "metadata": {},
   "outputs": [
    {
     "data": {
      "text/plain": [
       "(2940, 1460, 3151)"
      ]
     },
     "execution_count": 5,
     "metadata": {},
     "output_type": "execute_result"
    }
   ],
   "source": [
    "q ='''select *\n",
    "from advisory a\n",
    "join package p on a.package_id = p.id\n",
    "join advisoryCWE aC on a.id = aC.advisory_id\n",
    "join fixing_releases fr on a.id = fr.advisory_id\n",
    "join release_info ri on ri.package_id = p.id\n",
    "    and ri.version = fr.version\n",
    "join rq3 on rq3.release_id = ri.id\n",
    "join release_type rt on rt.release_info_id = rq3.release_id\n",
    "where ri.prior_release is not null\n",
    "and ri.prior_release != 'manual checkup needed'\n",
    "    and ri.prior_release != 'branch does not match'\n",
    "    and ri.prior_release != 'not valid semver formatting'\n",
    "    and repository_url != 'no repository listed'\n",
    "    and files_changed > 0 '''\n",
    "df = pd.DataFrame(sql.execute(q))\n",
    "df['advisory_id'].nunique(), df['package_id'].nunique(), df['release_id'].nunique()"
   ]
  },
  {
   "cell_type": "code",
   "execution_count": 6,
   "metadata": {},
   "outputs": [
    {
     "data": {
      "text/plain": [
       "(456, 158)"
      ]
     },
     "execution_count": 6,
     "metadata": {},
     "output_type": "execute_result"
    }
   ],
   "source": [
    "q ='''select distinct ecosystem, release_id, rt.type, ri.version\n",
    "from advisory a\n",
    "join package p on a.package_id = p.id\n",
    "join advisoryCWE aC on a.id = aC.advisory_id\n",
    "join fixing_releases fr on a.id = fr.advisory_id\n",
    "join release_info ri on ri.package_id = p.id\n",
    "    and ri.version = fr.version\n",
    "join rq3 on rq3.release_id = ri.id\n",
    "join release_type rt on rt.release_info_id = rq3.release_id\n",
    "where ri.prior_release is not null\n",
    "and ri.prior_release != 'manual checkup needed'\n",
    "    and ri.prior_release != 'branch does not match'\n",
    "    and ri.prior_release != 'not valid semver formatting'\n",
    "    and repository_url != 'no repository listed'\n",
    "    and files_changed > 0 '''\n",
    "rt = pd.DataFrame(sql.execute(q))\n",
    "total_count = len(rt)\n",
    "total = rt.groupby('ecosystem')[['release_id']].count()\n",
    "\n",
    "# patch release\n",
    "p = rt[(rt['type']=='patch') & (~rt['version'].str.startswith('0'))]\n",
    "all_p = round((len(p)/total_count) * 100 , 1)\n",
    "all_p = str(all_p) + '%'\n",
    "p = p.groupby('ecosystem')[['release_id']].count()\n",
    "p = reduce(lambda x,y : pd.merge(x,y,on='ecosystem'),[total, p])\n",
    "p['patch'] = round(p['release_id_y']/p['release_id_x']*100, 1)\n",
    "p['patch'] = p['patch'].map(str) + '%'\n",
    "\n",
    "\n",
    "b = rt[(rt['type']=='major') & (~rt['version'].str.startswith('0'))]\n",
    "all_b = round((len(b)/total_count) * 100 , 1)\n",
    "all_b = str(all_b) + '%'\n",
    "b = b.groupby('ecosystem')[['release_id']].count()\n",
    "b = reduce(lambda x,y : pd.merge(x,y,on='ecosystem'),[total, b])\n",
    "b['breaking'] = round(b['release_id_y']/b['release_id_x']*100, 1)\n",
    "b['breaking'] = b['breaking'].map(str) + '%'\n",
    "\n",
    "u = rt[rt['version'].str.startswith('0')]\n",
    "all_u = round((len(u)/total_count) * 100 , 1)\n",
    "all_u = str(all_u) + '%'\n",
    "u = u.groupby('ecosystem')[['release_id']].count()\n",
    "u = reduce(lambda x,y : pd.merge(x,y,on='ecosystem'),[total, u])\n",
    "u['unstable'] = round(u['release_id_y']/u['release_id_x']*100, 1)\n",
    "u['unstable'] = u['unstable'].map(str) + '%'\n",
    "\n",
    "\n",
    "\n",
    "p = p.drop(['release_id_y', 'release_id_x'], axis=1)\n",
    "b = b.drop(['release_id_y', 'release_id_x'], axis=1)\n",
    "u = u.drop(['release_id_y', 'release_id_x'], axis=1)\n",
    "\n",
    "len(rt[rt['type']=='minor']), len(rt[rt['type']=='prerelease'])"
   ]
  },
  {
   "cell_type": "code",
   "execution_count": 7,
   "metadata": {},
   "outputs": [
    {
     "data": {
      "text/plain": [
       "['All', 2940, 1460, 152, 3151, '66.5%', '2.5%', '10.9%']"
      ]
     },
     "execution_count": 7,
     "metadata": {},
     "output_type": "execute_result"
    }
   ],
   "source": [
    "All = ['All', df['advisory_id'].nunique(), df['package_id'].nunique(), df['cwe'].nunique(), df['release_id'].nunique(), all_p, all_b, all_u]\n",
    "All"
   ]
  },
  {
   "cell_type": "code",
   "execution_count": 8,
   "metadata": {},
   "outputs": [],
   "source": [
    "adv = df.groupby('ecosystem')[['advisory_id']].nunique()\n",
    "pkg = df.groupby('ecosystem')[['package_id']].nunique()\n",
    "rel = df.groupby('ecosystem')[['release_id']].nunique()\n",
    "cwe = df.groupby('ecosystem')[['cwe']].nunique()"
   ]
  },
  {
   "cell_type": "code",
   "execution_count": 9,
   "metadata": {},
   "outputs": [],
   "source": [
    "q = '''select *\n",
    "from rq3\n",
    "join release_info ri on rq3.release_id = ri.id\n",
    "join package p on ri.package_id = p.id\n",
    "where files_changed > 0;'''\n",
    "df = pd.DataFrame(sql.execute(q))"
   ]
  },
  {
   "cell_type": "code",
   "execution_count": 10,
   "metadata": {},
   "outputs": [],
   "source": [
    "All.append(df['files_changed'].median())\n",
    "All.append(df['loc_changed'].median())"
   ]
  },
  {
   "cell_type": "code",
   "execution_count": 11,
   "metadata": {},
   "outputs": [
    {
     "data": {
      "text/html": [
       "<div>\n",
       "<style scoped>\n",
       "    .dataframe tbody tr th:only-of-type {\n",
       "        vertical-align: middle;\n",
       "    }\n",
       "\n",
       "    .dataframe tbody tr th {\n",
       "        vertical-align: top;\n",
       "    }\n",
       "\n",
       "    .dataframe thead th {\n",
       "        text-align: right;\n",
       "    }\n",
       "</style>\n",
       "<table border=\"1\" class=\"dataframe\">\n",
       "  <thead>\n",
       "    <tr style=\"text-align: right;\">\n",
       "      <th></th>\n",
       "      <th>ecosystem</th>\n",
       "      <th>advisory_id</th>\n",
       "      <th>package_id</th>\n",
       "      <th>cwe</th>\n",
       "      <th>release_id</th>\n",
       "      <th>patch</th>\n",
       "      <th>breaking</th>\n",
       "      <th>unstable</th>\n",
       "      <th>files_changed</th>\n",
       "      <th>loc_changed</th>\n",
       "    </tr>\n",
       "  </thead>\n",
       "  <tbody>\n",
       "    <tr>\n",
       "      <th>0</th>\n",
       "      <td>Composer</td>\n",
       "      <td>742</td>\n",
       "      <td>198</td>\n",
       "      <td>63</td>\n",
       "      <td>784</td>\n",
       "      <td>85.3%</td>\n",
       "      <td>0.4%</td>\n",
       "      <td>1.8%</td>\n",
       "      <td>11.0</td>\n",
       "      <td>212.0</td>\n",
       "    </tr>\n",
       "    <tr>\n",
       "      <th>1</th>\n",
       "      <td>Go</td>\n",
       "      <td>145</td>\n",
       "      <td>109</td>\n",
       "      <td>42</td>\n",
       "      <td>164</td>\n",
       "      <td>62.2%</td>\n",
       "      <td>1.8%</td>\n",
       "      <td>23.8%</td>\n",
       "      <td>3.0</td>\n",
       "      <td>59.0</td>\n",
       "    </tr>\n",
       "    <tr>\n",
       "      <th>2</th>\n",
       "      <td>Maven</td>\n",
       "      <td>589</td>\n",
       "      <td>293</td>\n",
       "      <td>77</td>\n",
       "      <td>754</td>\n",
       "      <td>66.8%</td>\n",
       "      <td>1.2%</td>\n",
       "      <td>3.1%</td>\n",
       "      <td>13.0</td>\n",
       "      <td>326.5</td>\n",
       "    </tr>\n",
       "    <tr>\n",
       "      <th>5</th>\n",
       "      <td>npm</td>\n",
       "      <td>690</td>\n",
       "      <td>486</td>\n",
       "      <td>79</td>\n",
       "      <td>734</td>\n",
       "      <td>54.6%</td>\n",
       "      <td>6.9%</td>\n",
       "      <td>19.1%</td>\n",
       "      <td>3.0</td>\n",
       "      <td>58.0</td>\n",
       "    </tr>\n",
       "    <tr>\n",
       "      <th>3</th>\n",
       "      <td>NuGet</td>\n",
       "      <td>190</td>\n",
       "      <td>44</td>\n",
       "      <td>20</td>\n",
       "      <td>110</td>\n",
       "      <td>87.3%</td>\n",
       "      <td>0.9%</td>\n",
       "      <td>2.7%</td>\n",
       "      <td>17.0</td>\n",
       "      <td>447.0</td>\n",
       "    </tr>\n",
       "    <tr>\n",
       "      <th>6</th>\n",
       "      <td>pip</td>\n",
       "      <td>381</td>\n",
       "      <td>218</td>\n",
       "      <td>68</td>\n",
       "      <td>340</td>\n",
       "      <td>44.7%</td>\n",
       "      <td>1.2%</td>\n",
       "      <td>25.9%</td>\n",
       "      <td>7.0</td>\n",
       "      <td>146.0</td>\n",
       "    </tr>\n",
       "    <tr>\n",
       "      <th>4</th>\n",
       "      <td>RubyGems</td>\n",
       "      <td>203</td>\n",
       "      <td>112</td>\n",
       "      <td>46</td>\n",
       "      <td>265</td>\n",
       "      <td>64.5%</td>\n",
       "      <td>3.0%</td>\n",
       "      <td>13.6%</td>\n",
       "      <td>3.0</td>\n",
       "      <td>34.0</td>\n",
       "    </tr>\n",
       "    <tr>\n",
       "      <th>7</th>\n",
       "      <td>All</td>\n",
       "      <td>2940</td>\n",
       "      <td>1460</td>\n",
       "      <td>152</td>\n",
       "      <td>3151</td>\n",
       "      <td>66.5%</td>\n",
       "      <td>2.5%</td>\n",
       "      <td>10.9%</td>\n",
       "      <td>6.0</td>\n",
       "      <td>134.0</td>\n",
       "    </tr>\n",
       "  </tbody>\n",
       "</table>\n",
       "</div>"
      ],
      "text/plain": [
       "  ecosystem  advisory_id  package_id  cwe  release_id  patch breaking  \\\n",
       "0  Composer          742         198   63         784  85.3%     0.4%   \n",
       "1        Go          145         109   42         164  62.2%     1.8%   \n",
       "2     Maven          589         293   77         754  66.8%     1.2%   \n",
       "5       npm          690         486   79         734  54.6%     6.9%   \n",
       "3     NuGet          190          44   20         110  87.3%     0.9%   \n",
       "6       pip          381         218   68         340  44.7%     1.2%   \n",
       "4  RubyGems          203         112   46         265  64.5%     3.0%   \n",
       "7       All         2940        1460  152        3151  66.5%     2.5%   \n",
       "\n",
       "  unstable  files_changed  loc_changed  \n",
       "0     1.8%           11.0        212.0  \n",
       "1    23.8%            3.0         59.0  \n",
       "2     3.1%           13.0        326.5  \n",
       "5    19.1%            3.0         58.0  \n",
       "3     2.7%           17.0        447.0  \n",
       "6    25.9%            7.0        146.0  \n",
       "4    13.6%            3.0         34.0  \n",
       "7    10.9%            6.0        134.0  "
      ]
     },
     "execution_count": 11,
     "metadata": {},
     "output_type": "execute_result"
    }
   ],
   "source": [
    "\n",
    "file = df.groupby('ecosystem')[['files_changed']].median()\n",
    "loc = df.groupby('ecosystem')[['loc_changed']].median()\n",
    "final = reduce(lambda x,y : pd.merge(x,y,on='ecosystem'),[adv, pkg, cwe, rel, p, b, u, file, loc])\n",
    "\n",
    "final = final.reset_index()\n",
    "final['temp'] = final['ecosystem'].str.lower()\n",
    "final = final.sort_values(by = 'temp', ascending=True)\n",
    "final = final.drop(['temp'], axis=1)\n",
    "final.loc[len(final)] = All\n",
    "final\n"
   ]
  },
  {
   "cell_type": "code",
   "execution_count": 12,
   "metadata": {},
   "outputs": [
    {
     "name": "stdout",
     "output_type": "stream",
     "text": [
      "\\begin{tabular}{lrrrrlllrr}\n",
      "\\hline\n",
      " ecosystem   &   advisory\\_id &   package\\_id &   cwe &   release\\_id & patch   & breaking   & unstable   &   files\\_changed &   loc\\_changed \\\\\n",
      "\\hline\n",
      " Composer    &           742 &          198 &    63 &          784 & 85.3\\%   & 0.4\\%       & 1.8\\%       &              11 &         212   \\\\\n",
      " Go          &           145 &          109 &    42 &          164 & 62.2\\%   & 1.8\\%       & 23.8\\%      &               3 &          59   \\\\\n",
      " Maven       &           589 &          293 &    77 &          754 & 66.8\\%   & 1.2\\%       & 3.1\\%       &              13 &         326.5 \\\\\n",
      " npm         &           690 &          486 &    79 &          734 & 54.6\\%   & 6.9\\%       & 19.1\\%      &               3 &          58   \\\\\n",
      " NuGet       &           190 &           44 &    20 &          110 & 87.3\\%   & 0.9\\%       & 2.7\\%       &              17 &         447   \\\\\n",
      " pip         &           381 &          218 &    68 &          340 & 44.7\\%   & 1.2\\%       & 25.9\\%      &               7 &         146   \\\\\n",
      " RubyGems    &           203 &          112 &    46 &          265 & 64.5\\%   & 3.0\\%       & 13.6\\%      &               3 &          34   \\\\\n",
      " All         &          2940 &         1460 &   152 &         3151 & 66.5\\%   & 2.5\\%       & 10.9\\%      &               6 &         134   \\\\\n",
      "\\hline\n",
      "\\end{tabular}\n"
     ]
    }
   ],
   "source": [
    "print(tabulate(final, tablefmt='latex', headers='keys',showindex=False))"
   ]
  },
  {
   "cell_type": "code",
   "execution_count": 13,
   "metadata": {},
   "outputs": [
    {
     "data": {
      "text/plain": [
       "[['Composer',\n",
       "  SpearmanrResult(correlation=-0.08694596560271879, pvalue=0.014882916275405136),\n",
       "  SpearmanrResult(correlation=-0.15165071676992686, pvalue=2.0068198434656007e-05)],\n",
       " ['Go',\n",
       "  SpearmanrResult(correlation=0.009493874138997051, pvalue=0.9542572756401946),\n",
       "  SpearmanrResult(correlation=0.06837483531957764, pvalue=0.6791724394865579)],\n",
       " ['Maven',\n",
       "  SpearmanrResult(correlation=0.12771247136830427, pvalue=0.0004390072269949952),\n",
       "  SpearmanrResult(correlation=0.07185147075355425, pvalue=0.0485810558614503)],\n",
       " ['npm',\n",
       "  SpearmanrResult(correlation=0.04807241460957095, pvalue=0.19328200264525455),\n",
       "  SpearmanrResult(correlation=-0.0002754043537874706, pvalue=0.9940568858572636)],\n",
       " ['NuGet',\n",
       "  SpearmanrResult(correlation=-0.06585997878238982, pvalue=0.4942295002074737),\n",
       "  SpearmanrResult(correlation=-0.004263285838138396, pvalue=0.9647424883587852)],\n",
       " ['pip',\n",
       "  SpearmanrResult(correlation=0.03622675714322836, pvalue=0.5074705146136597),\n",
       "  SpearmanrResult(correlation=0.039064754241265646, pvalue=0.4747685481443319)],\n",
       " ['RubyGems',\n",
       "  SpearmanrResult(correlation=-0.10931838684108593, pvalue=0.0756522378675749),\n",
       "  SpearmanrResult(correlation=-0.17723060264282786, pvalue=0.003798663209901372)],\n",
       " ['All',\n",
       "  SpearmanrResult(correlation=-0.02182309328431438, pvalue=0.2303258576227173),\n",
       "  SpearmanrResult(correlation=-0.08655624715088724, pvalue=1.8792121849415789e-06)]]"
      ]
     },
     "execution_count": 13,
     "metadata": {},
     "output_type": "execute_result"
    }
   ],
   "source": [
    "usage = pd.merge(df, usage, on=['package_id', 'ecosystem'])\n",
    "from scipy.stats import spearmanr\n",
    "from scipy.stats import pearsonr\n",
    "ecosystems = ['Composer','Go','Maven','npm','NuGet','pip','RubyGems']\n",
    "l=[]\n",
    "newl = []\n",
    "for ecosystem in ecosystems:\n",
    "    temp = usage[usage['ecosystem'] ==  ecosystem ]\n",
    "    a = spearmanr(temp['loc_changed'], temp['dependent'])\n",
    "    b = spearmanr(temp['loc_changed'], temp['dependent_repos'])\n",
    "    l.append([ecosystem, a ,b])\n",
    "    newl.append([ecosystem, round(a[0],2), round(b[0],2)])\n",
    "\n",
    "l.append(['All', spearmanr(usage['loc_changed'], usage['dependent']), spearmanr(usage['loc_changed'], usage['dependent_repos'])])\n",
    "newl.append(['All', round(spearmanr(usage['loc_changed'], usage['dependent'])[0],2), round(spearmanr(usage['loc_changed'], usage['dependent_repos'])[0],2)])\n",
    "l"
   ]
  },
  {
   "cell_type": "code",
   "execution_count": 14,
   "metadata": {},
   "outputs": [
    {
     "name": "stdout",
     "output_type": "stream",
     "text": [
      "\\begin{tabular}{lrr}\n",
      "\\hline\n",
      " Ecosytem   &   Dependent Packages &   Dependent Repositories \\\\\n",
      "\\hline\n",
      " Composer   &                -0.09 &                    -0.15 \\\\\n",
      " Go         &                 0.01 &                     0.07 \\\\\n",
      " Maven      &                 0.13 &                     0.07 \\\\\n",
      " npm        &                 0.05 &                    -0    \\\\\n",
      " NuGet      &                -0.07 &                    -0    \\\\\n",
      " pip        &                 0.04 &                     0.04 \\\\\n",
      " RubyGems   &                -0.11 &                    -0.18 \\\\\n",
      " All        &                -0.02 &                    -0.09 \\\\\n",
      "\\hline\n",
      "\\end{tabular}\n"
     ]
    }
   ],
   "source": [
    "newl =  pd.DataFrame(newl, columns=['Ecosytem', 'Dependent Packages', 'Dependent Repositories'])\n",
    "print(tabulate(newl, tablefmt='latex', headers='keys',showindex=False))"
   ]
  },
  {
   "cell_type": "code",
   "execution_count": 15,
   "metadata": {},
   "outputs": [
    {
     "data": {
      "text/plain": [
       "(4.0, 77.0)"
      ]
     },
     "execution_count": 15,
     "metadata": {},
     "output_type": "execute_result"
    }
   ],
   "source": [
    "unstable = df[df['version'].str.startswith('0')]\n",
    "unstable['files_changed'].median(), unstable['loc_changed'].median()"
   ]
  },
  {
   "cell_type": "code",
   "execution_count": 16,
   "metadata": {},
   "outputs": [],
   "source": [
    "temp = df.copy()\n",
    "temp['ecosystem'] = \"All\"\n",
    "temp = pd.concat([temp, df], axis=0)"
   ]
  },
  {
   "cell_type": "code",
   "execution_count": 17,
   "metadata": {},
   "outputs": [
    {
     "data": {
      "image/png": "[encoded data removed]",
      "text/plain": [
       "<Figure size 432x288 with 1 Axes>"
      ]
     },
     "metadata": {
      "needs_background": "light"
     },
     "output_type": "display_data"
    }
   ],
   "source": [
    "ax = sns.boxplot(y='loc_changed', x='ecosystem', data = temp, order =['Composer','Go','Maven','npm','NuGet','pip','RubyGems', 'All'])\n",
    "ax.set(ylim=(0,3000), xlabel='Ecosystem', ylabel='LOC changed')\n",
    "plt.savefig('loc_change.png',bbox_inches='tight')"
   ]
  },
  {
   "cell_type": "code",
   "execution_count": 18,
   "metadata": {},
   "outputs": [
    {
     "data": {
      "image/png": "[encoded data removed]",
      "text/plain": [
       "<Figure size 432x288 with 1 Axes>"
      ]
     },
     "metadata": {
      "needs_background": "light"
     },
     "output_type": "display_data"
    }
   ],
   "source": [
    "ax = sns.boxplot(y='files_changed', x='ecosystem', data = temp, order =['Composer','Go','Maven','npm','NuGet','pip','RubyGems', 'All'])\n",
    "ax.set(ylim=(0,150), xlabel='Ecosystem', ylabel='Files modified')\n",
    "plt.savefig('files_change.png',bbox_inches='tight')"
   ]
  },
  {
   "cell_type": "code",
   "execution_count": 19,
   "metadata": {},
   "outputs": [
    {
     "data": {
      "text/plain": [
       "3151"
      ]
     },
     "execution_count": 19,
     "metadata": {},
     "output_type": "execute_result"
    }
   ],
   "source": [
    "q ='''\n",
    "select *\n",
    "from rq3\n",
    "join\n",
    "(select  release_id, max(severity) as severity\n",
    "from\n",
    "    (select a.id as advisory_id, ri.id as release_id,\n",
    "       case\n",
    "            when severity='H' then 3\n",
    "           when severity='M' then 2\n",
    "           when severity='L' then 1\n",
    "        end as severity\n",
    "from advisory a\n",
    "join package p on a.package_id = p.id\n",
    "join fixing_releases fr on a.id = fr.advisory_id\n",
    "join release_info ri on p.id = ri.package_id and ri.version=fr.version) sub\n",
    "group by release_id) sub2\n",
    "on rq3.release_id=sub2.release_id\n",
    "where files_changed > 0;\n",
    "'''\n",
    "df = pd.DataFrame(sql.execute(q))\n",
    "df['release_id'].nunique()"
   ]
  },
  {
   "cell_type": "code",
   "execution_count": 20,
   "metadata": {},
   "outputs": [
    {
     "data": {
      "text/plain": [
       "(count    1.498000e+03\n",
       " mean     5.654734e+03\n",
       " std      6.600301e+04\n",
       " min      2.000000e+00\n",
       " 25%      2.800000e+01\n",
       " 50%      1.385000e+02\n",
       " 75%      7.557500e+02\n",
       " max      2.376380e+06\n",
       " Name: loc_changed, dtype: float64,\n",
       " count    1.529000e+03\n",
       " mean     4.292723e+03\n",
       " std      5.298426e+04\n",
       " min      1.000000e+00\n",
       " 25%      2.400000e+01\n",
       " 50%      1.280000e+02\n",
       " 75%      7.810000e+02\n",
       " max      1.977516e+06\n",
       " Name: loc_changed, dtype: float64,\n",
       " count      124.000000\n",
       " mean      3619.024194\n",
       " std      10692.306838\n",
       " min          2.000000\n",
       " 25%         40.250000\n",
       " 50%        121.000000\n",
       " 75%       1209.250000\n",
       " max      70946.000000\n",
       " Name: loc_changed, dtype: float64)"
      ]
     },
     "execution_count": 20,
     "metadata": {},
     "output_type": "execute_result"
    }
   ],
   "source": [
    "# TODO take the highest severity for a security release\n",
    "high, medium, low = df[df['severity']==3], df[df['severity']==2], df[df['severity']==1]\n",
    "high['loc_changed'].describe(), medium['loc_changed'].describe(), low['loc_changed'].describe()"
   ]
  },
  {
   "cell_type": "code",
   "execution_count": 21,
   "metadata": {},
   "outputs": [
    {
     "data": {
      "text/plain": [
       "(MannwhitneyuResult(statistic=1138268.5, pvalue=0.38621942444769825),\n",
       " MannwhitneyuResult(statistic=87721.0, pvalue=0.1518757485082316),\n",
       " MannwhitneyuResult(statistic=88715.5, pvalue=0.11706563188872388))"
      ]
     },
     "execution_count": 21,
     "metadata": {},
     "output_type": "execute_result"
    }
   ],
   "source": [
    "from scipy.stats import mannwhitneyu\n",
    "mannwhitneyu(high['loc_changed'],medium['loc_changed']), mannwhitneyu(high['loc_changed'],low['loc_changed']), mannwhitneyu(medium['loc_changed'],low['loc_changed'])"
   ]
  },
  {
   "cell_type": "code",
   "execution_count": 22,
   "metadata": {},
   "outputs": [
    {
     "data": {
      "text/plain": [
       "(count     1498.000000\n",
       " mean        81.025367\n",
       " std        489.168160\n",
       " min          1.000000\n",
       " 25%          2.000000\n",
       " 50%          6.000000\n",
       " 75%         26.750000\n",
       " max      12490.000000\n",
       " Name: files_changed, dtype: float64,\n",
       " count    1529.000000\n",
       " mean       47.869196\n",
       " std       161.567445\n",
       " min         1.000000\n",
       " 25%         2.000000\n",
       " 50%         6.000000\n",
       " 75%        25.000000\n",
       " max      2707.000000\n",
       " Name: files_changed, dtype: float64,\n",
       " count    124.000000\n",
       " mean      65.830645\n",
       " std      161.042625\n",
       " min        1.000000\n",
       " 25%        3.000000\n",
       " 50%        7.000000\n",
       " 75%       26.500000\n",
       " max      835.000000\n",
       " Name: files_changed, dtype: float64)"
      ]
     },
     "execution_count": 22,
     "metadata": {},
     "output_type": "execute_result"
    }
   ],
   "source": [
    "high, medium, low = df[df['severity']==3], df[df['severity']==2], df[df['severity']==1]\n",
    "high['files_changed'].describe(), medium['files_changed'].describe(), low['files_changed'].describe()"
   ]
  },
  {
   "cell_type": "code",
   "execution_count": 23,
   "metadata": {},
   "outputs": [
    {
     "data": {
      "text/plain": [
       "(MannwhitneyuResult(statistic=1139807.0, pvalue=0.4106150222513168),\n",
       " MannwhitneyuResult(statistic=29217.5, pvalue=1.8264375065533552e-37),\n",
       " MannwhitneyuResult(statistic=88715.5, pvalue=0.11706563188872388))"
      ]
     },
     "execution_count": 23,
     "metadata": {},
     "output_type": "execute_result"
    }
   ],
   "source": [
    "from scipy.stats import mannwhitneyu\n",
    "mannwhitneyu(high['files_changed'],medium['files_changed']), mannwhitneyu(high['files_changed'],low['loc_changed']), mannwhitneyu(medium['loc_changed'],low['loc_changed'])"
   ]
  },
  {
   "cell_type": "code",
   "execution_count": 24,
   "metadata": {},
   "outputs": [
    {
     "data": {
      "text/plain": [
       "3151"
      ]
     },
     "execution_count": 24,
     "metadata": {},
     "output_type": "execute_result"
    }
   ],
   "source": [
    "q='''select *\n",
    "from rq3\n",
    "join\n",
    "(select  release_id, max(ifcve) as ifcve\n",
    "from\n",
    "    (select a.id as advisory_id, ri.id as release_id,\n",
    "       case\n",
    "            when a.id in (select advisory_id from advisoryCVE) then 1\n",
    "           else 0\n",
    "        end as ifcve\n",
    "from advisory a\n",
    "join package p on a.package_id = p.id\n",
    "join fixing_releases fr on a.id = fr.advisory_id\n",
    "join release_info ri on p.id = ri.package_id and ri.version=fr.version) sub\n",
    "group by release_id) sub2\n",
    "on rq3.release_id=sub2.release_id\n",
    "where files_changed > 0;'''\n",
    "df = pd.DataFrame(sql.execute(q))\n",
    "df['release_id'].nunique()"
   ]
  },
  {
   "cell_type": "code",
   "execution_count": 25,
   "metadata": {},
   "outputs": [
    {
     "data": {
      "text/plain": [
       "3151"
      ]
     },
     "execution_count": 25,
     "metadata": {},
     "output_type": "execute_result"
    }
   ],
   "source": [
    "df = pd.DataFrame(sql.execute(q))\n",
    "df['release_id'].nunique()"
   ]
  },
  {
   "cell_type": "code",
   "execution_count": 26,
   "metadata": {},
   "outputs": [
    {
     "data": {
      "text/plain": [
       "(count    2.384000e+03\n",
       " mean     4.282615e+03\n",
       " std      5.237606e+04\n",
       " min      1.000000e+00\n",
       " 25%      2.675000e+01\n",
       " 50%      1.330000e+02\n",
       " 75%      7.930000e+02\n",
       " max      2.376380e+06\n",
       " Name: loc_changed, dtype: float64,\n",
       " count    7.670000e+02\n",
       " mean     6.875319e+03\n",
       " std      7.479949e+04\n",
       " min      2.000000e+00\n",
       " 25%      2.700000e+01\n",
       " 50%      1.380000e+02\n",
       " 75%      7.900000e+02\n",
       " max      1.977516e+06\n",
       " Name: loc_changed, dtype: float64)"
      ]
     },
     "execution_count": 26,
     "metadata": {},
     "output_type": "execute_result"
    }
   ],
   "source": [
    "cve, noncve = df[df['ifcve']==1], df[df['ifcve']==0]\n",
    "cve['loc_changed'].describe(), noncve['loc_changed'].describe()"
   ]
  },
  {
   "cell_type": "code",
   "execution_count": 27,
   "metadata": {},
   "outputs": [
    {
     "data": {
      "text/plain": [
       "MannwhitneyuResult(statistic=907348.5, pvalue=0.3761760159139267)"
      ]
     },
     "execution_count": 27,
     "metadata": {},
     "output_type": "execute_result"
    }
   ],
   "source": [
    "mannwhitneyu(cve['loc_changed'],noncve['loc_changed'])"
   ]
  },
  {
   "cell_type": "code",
   "execution_count": 28,
   "metadata": {},
   "outputs": [
    {
     "data": {
      "text/plain": [
       "(count     2384.000000\n",
       " mean        64.207634\n",
       " std        356.037205\n",
       " min          1.000000\n",
       " 25%          2.000000\n",
       " 50%          6.000000\n",
       " 75%         26.000000\n",
       " max      12490.000000\n",
       " Name: files_changed, dtype: float64,\n",
       " count     767.000000\n",
       " mean       64.745763\n",
       " std       361.394629\n",
       " min         1.000000\n",
       " 25%         2.000000\n",
       " 50%         6.000000\n",
       " 75%        23.500000\n",
       " max      6993.000000\n",
       " Name: files_changed, dtype: float64)"
      ]
     },
     "execution_count": 28,
     "metadata": {},
     "output_type": "execute_result"
    }
   ],
   "source": [
    "cve, noncve = df[df['ifcve']==1], df[df['ifcve']==0]\n",
    "cve['files_changed'].describe(), noncve['files_changed'].describe()"
   ]
  },
  {
   "cell_type": "code",
   "execution_count": 29,
   "metadata": {},
   "outputs": [
    {
     "data": {
      "text/plain": [
       "MannwhitneyuResult(statistic=895142.5, pvalue=0.19066848377059292)"
      ]
     },
     "execution_count": 29,
     "metadata": {},
     "output_type": "execute_result"
    }
   ],
   "source": [
    "mannwhitneyu(cve['files_changed'],noncve['files_changed'])"
   ]
  }
 ],
 "metadata": {
  "interpreter": {
   "hash": "b5b045ef2dc674ca02eaab463e42a9a2cccb440081b5467d741335af27393422"
  },
  "kernelspec": {
   "display_name": "Python 3.9.7 64-bit ('advisory-lifecycle-RDwwAgfI': venv)",
   "name": "python3"
  },
  "language_info": {
   "codemirror_mode": {
    "name": "ipython",
    "version": 3
   },
   "file_extension": ".py",
   "mimetype": "text/x-python",
   "name": "python",
   "nbconvert_exporter": "python",
   "pygments_lexer": "ipython3",
   "version": "3.9.7"
  },
  "orig_nbformat": 4
 },
 "nbformat": 4,
 "nbformat_minor": 2
}
