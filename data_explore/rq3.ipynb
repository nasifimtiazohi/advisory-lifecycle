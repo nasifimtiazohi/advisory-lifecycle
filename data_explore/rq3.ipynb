{
 "cells": [
  {
   "cell_type": "code",
   "execution_count": 1,
   "source": [
    "import sys\n",
    "import sql\n",
    "import pandas as pd\n",
    "from functools import reduce\n",
    "from tabulate import tabulate \n",
    "import datetime\n",
    "import matplotlib.pyplot as plt\n",
    "import seaborn as sns"
   ],
   "outputs": [],
   "metadata": {}
  },
  {
   "cell_type": "code",
   "execution_count": 44,
   "source": [
    "q ='''select distinct a.id as advisory_id, a.severity, a.disclose_date, a.publish_date,\n",
    "        CWE, p.id as package_id, p.name, p.ecosystem, p.repository_url,\n",
    "        ri.id as release_id, ri.version, ri.prior_release, ri.publish_date as release_date\n",
    "from advisory a\n",
    "join package p on a.package_id = p.id\n",
    "join advisoryCWE aC on a.id = aC.advisory_id\n",
    "join fixing_releases fr on a.id = fr.advisory_id\n",
    "join release_info ri on ri.package_id = p.id\n",
    "    and ri.version = fr.version\n",
    "where ri.prior_release is not null\n",
    "and ri.prior_release != 'manual checkup needed'\n",
    "    and ri.prior_release != 'branch does not match'\n",
    "    and ri.prior_release != 'not valid semver formatting'\n",
    "    and repository_url != 'no repository listed' '''\n",
    "df = pd.DataFrame(sql.execute(q))\n",
    "df['advisory_id'].nunique(), df['package_id'].nunique(), df['release_id'].nunique()"
   ],
   "outputs": [
    {
     "output_type": "execute_result",
     "data": {
      "text/plain": [
       "(3520, 1725, 3856)"
      ]
     },
     "metadata": {},
     "execution_count": 44
    }
   ],
   "metadata": {}
  },
  {
   "cell_type": "code",
   "execution_count": 45,
   "source": [
    "q ='''select distinct a.id as advisory_id, a.severity, a.disclose_date, a.publish_date,\n",
    "        CWE, p.id as package_id, p.name, p.ecosystem, p.repository_url,\n",
    "        ri.id as release_id, ri.version, ri.prior_release, ri.publish_date as release_date\n",
    "from advisory a\n",
    "join package p on a.package_id = p.id\n",
    "join advisoryCWE aC on a.id = aC.advisory_id\n",
    "join fixing_releases fr on a.id = fr.advisory_id\n",
    "join release_info ri on ri.package_id = p.id\n",
    "    and ri.version = fr.version\n",
    "where ri.prior_release is not null\n",
    "and ri.prior_release != 'manual checkup needed'\n",
    "    and ri.prior_release != 'branch does not match'\n",
    "    and ri.prior_release != 'not valid semver formatting'\n",
    "    and repository_url != 'no repository listed'\n",
    "and (ri.id in (select distinct release_id from version_diff)\n",
    "or (ri.id in (select release_id from version_diff_with_no_package_file ))\n",
    ") '''\n",
    "df = pd.DataFrame(sql.execute(q))\n",
    "df['advisory_id'].nunique(), df['package_id'].nunique(), df['release_id'].nunique()"
   ],
   "outputs": [
    {
     "output_type": "execute_result",
     "data": {
      "text/plain": [
       "(3082, 1542, 3355)"
      ]
     },
     "metadata": {},
     "execution_count": 45
    }
   ],
   "metadata": {}
  },
  {
   "cell_type": "code",
   "execution_count": 51,
   "source": [
    "q ='''select *\n",
    "from advisory a\n",
    "join package p on a.package_id = p.id\n",
    "join advisoryCWE aC on a.id = aC.advisory_id\n",
    "join fixing_releases fr on a.id = fr.advisory_id\n",
    "join release_info ri on ri.package_id = p.id\n",
    "    and ri.version = fr.version\n",
    "join rq3 on rq3.release_id = ri.id\n",
    "join release_type rt on rt.release_info_id = rq3.release_id\n",
    "where ri.prior_release is not null\n",
    "and ri.prior_release != 'manual checkup needed'\n",
    "    and ri.prior_release != 'branch does not match'\n",
    "    and ri.prior_release != 'not valid semver formatting'\n",
    "    and repository_url != 'no repository listed'\n",
    "    and files_changed > 0 '''\n",
    "df = pd.DataFrame(sql.execute(q))\n",
    "df['advisory_id'].nunique(), df['package_id'].nunique(), df['release_id'].nunique()"
   ],
   "outputs": [
    {
     "output_type": "execute_result",
     "data": {
      "text/plain": [
       "(2942, 1462, 3153)"
      ]
     },
     "metadata": {},
     "execution_count": 51
    }
   ],
   "metadata": {}
  },
  {
   "cell_type": "code",
   "execution_count": 131,
   "source": [
    "q ='''select distinct ecosystem, release_id, rt.type, ri.version\n",
    "from advisory a\n",
    "join package p on a.package_id = p.id\n",
    "join advisoryCWE aC on a.id = aC.advisory_id\n",
    "join fixing_releases fr on a.id = fr.advisory_id\n",
    "join release_info ri on ri.package_id = p.id\n",
    "    and ri.version = fr.version\n",
    "join rq3 on rq3.release_id = ri.id\n",
    "join release_type rt on rt.release_info_id = rq3.release_id\n",
    "where ri.prior_release is not null\n",
    "and ri.prior_release != 'manual checkup needed'\n",
    "    and ri.prior_release != 'branch does not match'\n",
    "    and ri.prior_release != 'not valid semver formatting'\n",
    "    and repository_url != 'no repository listed'\n",
    "    and files_changed > 0 '''\n",
    "rt = pd.DataFrame(sql.execute(q))\n",
    "total_count = len(rt)\n",
    "total = rt.groupby('ecosystem')[['release_id']].count()\n",
    "\n",
    "# patch release\n",
    "p = rt[(rt['type']=='patch') & (~rt['version'].str.startswith('0'))]\n",
    "all_p = round((len(p)/total_count) * 100 , 1)\n",
    "all_p = str(all_p) + '%'\n",
    "p = p.groupby('ecosystem')[['release_id']].count()\n",
    "p = reduce(lambda x,y : pd.merge(x,y,on='ecosystem'),[total, p])\n",
    "p['patch'] = round(p['release_id_y']/p['release_id_x']*100, 1)\n",
    "p['patch'] = p['patch'].map(str) + '%'\n",
    "\n",
    "\n",
    "b = rt[(rt['type']=='major') & (~rt['version'].str.startswith('0'))]\n",
    "all_b = round((len(b)/total_count) * 100 , 1)\n",
    "all_b = str(all_b) + '%'\n",
    "b = b.groupby('ecosystem')[['release_id']].count()\n",
    "b = reduce(lambda x,y : pd.merge(x,y,on='ecosystem'),[total, b])\n",
    "b['breaking'] = round(b['release_id_y']/b['release_id_x']*100, 1)\n",
    "b['breaking'] = b['breaking'].map(str) + '%'\n",
    "\n",
    "\n",
    "\n",
    "p = p.drop(['release_id_y', 'release_id_x'], axis=1)\n",
    "b = b.drop(['release_id_y', 'release_id_x'], axis=1)\n",
    "\n",
    "u = rt[rt['version'].str.startswith('0.')]\n",
    "len(u)"
   ],
   "outputs": [
    {
     "output_type": "execute_result",
     "data": {
      "text/plain": [
       "343"
      ]
     },
     "metadata": {},
     "execution_count": 131
    }
   ],
   "metadata": {}
  },
  {
   "cell_type": "code",
   "execution_count": 124,
   "source": [
    "All = ['All', df['advisory_id'].nunique(), df['package_id'].nunique(), df['cwe'].nunique(), df['release_id'].nunique(), all_patch  , all_b, df['files_changed'].median(), df['loc_changed'].median()]\n",
    "All"
   ],
   "outputs": [
    {
     "output_type": "execute_result",
     "data": {
      "text/plain": [
       "['All', 2942, 1462, 152, 3153, '66.4%', '13.4%', 10.0, 195.0]"
      ]
     },
     "metadata": {},
     "execution_count": 124
    }
   ],
   "metadata": {}
  },
  {
   "cell_type": "code",
   "execution_count": 128,
   "source": [
    "adv = df.groupby('ecosystem')[['advisory_id']].nunique()\n",
    "pkg = df.groupby('ecosystem')[['package_id']].nunique()\n",
    "rel = df.groupby('ecosystem')[['release_id']].nunique()\n",
    "cwe = df.groupby('ecosystem')[['cwe']].nunique()\n",
    "file = df.groupby('ecosystem')[['files_changed']].median()\n",
    "loc = df.groupby('ecosystem')[['loc_changed']].median()\n",
    "final = reduce(lambda x,y : pd.merge(x,y,on='ecosystem'),[adv, pkg, cwe, rel, p, b, file, loc])\n",
    "\n",
    "final = final.reset_index()\n",
    "final.loc[len(final)] = All\n",
    "final\n"
   ],
   "outputs": [
    {
     "output_type": "execute_result",
     "data": {
      "text/html": [
       "<div>\n",
       "<style scoped>\n",
       "    .dataframe tbody tr th:only-of-type {\n",
       "        vertical-align: middle;\n",
       "    }\n",
       "\n",
       "    .dataframe tbody tr th {\n",
       "        vertical-align: top;\n",
       "    }\n",
       "\n",
       "    .dataframe thead th {\n",
       "        text-align: right;\n",
       "    }\n",
       "</style>\n",
       "<table border=\"1\" class=\"dataframe\">\n",
       "  <thead>\n",
       "    <tr style=\"text-align: right;\">\n",
       "      <th></th>\n",
       "      <th>ecosystem</th>\n",
       "      <th>advisory_id</th>\n",
       "      <th>package_id</th>\n",
       "      <th>cwe</th>\n",
       "      <th>release_id</th>\n",
       "      <th>patch</th>\n",
       "      <th>breaking</th>\n",
       "      <th>files_changed</th>\n",
       "      <th>loc_changed</th>\n",
       "    </tr>\n",
       "  </thead>\n",
       "  <tbody>\n",
       "    <tr>\n",
       "      <th>0</th>\n",
       "      <td>Composer</td>\n",
       "      <td>742</td>\n",
       "      <td>198</td>\n",
       "      <td>63</td>\n",
       "      <td>784</td>\n",
       "      <td>85.3%</td>\n",
       "      <td>2.2%</td>\n",
       "      <td>25.0</td>\n",
       "      <td>429.5</td>\n",
       "    </tr>\n",
       "    <tr>\n",
       "      <th>1</th>\n",
       "      <td>Go</td>\n",
       "      <td>147</td>\n",
       "      <td>111</td>\n",
       "      <td>42</td>\n",
       "      <td>166</td>\n",
       "      <td>61.4%</td>\n",
       "      <td>25.3%</td>\n",
       "      <td>3.0</td>\n",
       "      <td>69.5</td>\n",
       "    </tr>\n",
       "    <tr>\n",
       "      <th>2</th>\n",
       "      <td>Maven</td>\n",
       "      <td>589</td>\n",
       "      <td>293</td>\n",
       "      <td>77</td>\n",
       "      <td>754</td>\n",
       "      <td>66.8%</td>\n",
       "      <td>4.2%</td>\n",
       "      <td>13.0</td>\n",
       "      <td>310.0</td>\n",
       "    </tr>\n",
       "    <tr>\n",
       "      <th>3</th>\n",
       "      <td>NuGet</td>\n",
       "      <td>190</td>\n",
       "      <td>44</td>\n",
       "      <td>20</td>\n",
       "      <td>110</td>\n",
       "      <td>87.3%</td>\n",
       "      <td>3.6%</td>\n",
       "      <td>25.0</td>\n",
       "      <td>507.0</td>\n",
       "    </tr>\n",
       "    <tr>\n",
       "      <th>4</th>\n",
       "      <td>RubyGems</td>\n",
       "      <td>203</td>\n",
       "      <td>112</td>\n",
       "      <td>46</td>\n",
       "      <td>265</td>\n",
       "      <td>64.5%</td>\n",
       "      <td>16.6%</td>\n",
       "      <td>4.0</td>\n",
       "      <td>40.0</td>\n",
       "    </tr>\n",
       "    <tr>\n",
       "      <th>5</th>\n",
       "      <td>npm</td>\n",
       "      <td>690</td>\n",
       "      <td>486</td>\n",
       "      <td>79</td>\n",
       "      <td>734</td>\n",
       "      <td>54.6%</td>\n",
       "      <td>26.0%</td>\n",
       "      <td>3.0</td>\n",
       "      <td>50.0</td>\n",
       "    </tr>\n",
       "    <tr>\n",
       "      <th>6</th>\n",
       "      <td>pip</td>\n",
       "      <td>381</td>\n",
       "      <td>218</td>\n",
       "      <td>68</td>\n",
       "      <td>340</td>\n",
       "      <td>44.7%</td>\n",
       "      <td>27.1%</td>\n",
       "      <td>7.0</td>\n",
       "      <td>120.0</td>\n",
       "    </tr>\n",
       "    <tr>\n",
       "      <th>7</th>\n",
       "      <td>All</td>\n",
       "      <td>2942</td>\n",
       "      <td>1462</td>\n",
       "      <td>152</td>\n",
       "      <td>3153</td>\n",
       "      <td>66.4%</td>\n",
       "      <td>13.4%</td>\n",
       "      <td>10.0</td>\n",
       "      <td>195.0</td>\n",
       "    </tr>\n",
       "  </tbody>\n",
       "</table>\n",
       "</div>"
      ],
      "text/plain": [
       "  ecosystem  advisory_id  package_id  cwe  release_id  patch breaking  \\\n",
       "0  Composer          742         198   63         784  85.3%     2.2%   \n",
       "1        Go          147         111   42         166  61.4%    25.3%   \n",
       "2     Maven          589         293   77         754  66.8%     4.2%   \n",
       "3     NuGet          190          44   20         110  87.3%     3.6%   \n",
       "4  RubyGems          203         112   46         265  64.5%    16.6%   \n",
       "5       npm          690         486   79         734  54.6%    26.0%   \n",
       "6       pip          381         218   68         340  44.7%    27.1%   \n",
       "7       All         2942        1462  152        3153  66.4%    13.4%   \n",
       "\n",
       "   files_changed  loc_changed  \n",
       "0           25.0        429.5  \n",
       "1            3.0         69.5  \n",
       "2           13.0        310.0  \n",
       "3           25.0        507.0  \n",
       "4            4.0         40.0  \n",
       "5            3.0         50.0  \n",
       "6            7.0        120.0  \n",
       "7           10.0        195.0  "
      ]
     },
     "metadata": {},
     "execution_count": 128
    }
   ],
   "metadata": {}
  },
  {
   "cell_type": "code",
   "execution_count": 129,
   "source": [
    "print(tabulate(final, tablefmt='latex', headers='keys',showindex=False))"
   ],
   "outputs": [
    {
     "output_type": "stream",
     "name": "stdout",
     "text": [
      "\\begin{tabular}{lrrrrllrr}\n",
      "\\hline\n",
      " ecosystem   &   advisory\\_id &   package\\_id &   cwe &   release\\_id & patch   & breaking   &   files\\_changed &   loc\\_changed \\\\\n",
      "\\hline\n",
      " Composer    &           742 &          198 &    63 &          784 & 85.3\\%   & 2.2\\%       &              25 &         429.5 \\\\\n",
      " Go          &           147 &          111 &    42 &          166 & 61.4\\%   & 25.3\\%      &               3 &          69.5 \\\\\n",
      " Maven       &           589 &          293 &    77 &          754 & 66.8\\%   & 4.2\\%       &              13 &         310   \\\\\n",
      " NuGet       &           190 &           44 &    20 &          110 & 87.3\\%   & 3.6\\%       &              25 &         507   \\\\\n",
      " RubyGems    &           203 &          112 &    46 &          265 & 64.5\\%   & 16.6\\%      &               4 &          40   \\\\\n",
      " npm         &           690 &          486 &    79 &          734 & 54.6\\%   & 26.0\\%      &               3 &          50   \\\\\n",
      " pip         &           381 &          218 &    68 &          340 & 44.7\\%   & 27.1\\%      &               7 &         120   \\\\\n",
      " All         &          2942 &         1462 &   152 &         3153 & 66.4\\%   & 13.4\\%      &              10 &         195   \\\\\n",
      "\\hline\n",
      "\\end{tabular}\n"
     ]
    }
   ],
   "metadata": {}
  },
  {
   "cell_type": "code",
   "execution_count": 42,
   "source": [
    "q ='''select  p.ecosystem, \n",
    "        ri.id as release_id, rq3.*\n",
    "from advisory a\n",
    "join package p on a.package_id = p.id\n",
    "join advisoryCWE aC on a.id = aC.advisory_id\n",
    "join fixing_releases fr on a.id = fr.advisory_id\n",
    "join release_info ri on ri.package_id = p.id\n",
    "    and ri.version = fr.version\n",
    "join rq3 on rq3.release_id = ri.id\n",
    "where ri.prior_release is not null\n",
    "and ri.prior_release != 'manual checkup needed'\n",
    "    and ri.prior_release != 'branch does not match'\n",
    "    and ri.prior_release != 'not valid semver formatting'\n",
    "    and repository_url != 'no repository listed'\n",
    "    and files_changed > 0 '''\n",
    "df = pd.DataFrame(sql.execute(q))"
   ],
   "outputs": [],
   "metadata": {}
  },
  {
   "cell_type": "code",
   "execution_count": 41,
   "source": [
    "df['loc_changed'].median()"
   ],
   "outputs": [
    {
     "output_type": "execute_result",
     "data": {
      "text/plain": [
       "176.0"
      ]
     },
     "metadata": {},
     "execution_count": 41
    }
   ],
   "metadata": {}
  },
  {
   "cell_type": "code",
   "execution_count": 52,
   "source": [
    "df.groupby('ecosystem')[['loc_changed']].median()"
   ],
   "outputs": [
    {
     "output_type": "execute_result",
     "data": {
      "text/html": [
       "<div>\n",
       "<style scoped>\n",
       "    .dataframe tbody tr th:only-of-type {\n",
       "        vertical-align: middle;\n",
       "    }\n",
       "\n",
       "    .dataframe tbody tr th {\n",
       "        vertical-align: top;\n",
       "    }\n",
       "\n",
       "    .dataframe thead th {\n",
       "        text-align: right;\n",
       "    }\n",
       "</style>\n",
       "<table border=\"1\" class=\"dataframe\">\n",
       "  <thead>\n",
       "    <tr style=\"text-align: right;\">\n",
       "      <th></th>\n",
       "      <th>loc_changed</th>\n",
       "    </tr>\n",
       "    <tr>\n",
       "      <th>ecosystem</th>\n",
       "      <th></th>\n",
       "    </tr>\n",
       "  </thead>\n",
       "  <tbody>\n",
       "    <tr>\n",
       "      <th>Composer</th>\n",
       "      <td>429.5</td>\n",
       "    </tr>\n",
       "    <tr>\n",
       "      <th>Go</th>\n",
       "      <td>69.5</td>\n",
       "    </tr>\n",
       "    <tr>\n",
       "      <th>Maven</th>\n",
       "      <td>310.0</td>\n",
       "    </tr>\n",
       "    <tr>\n",
       "      <th>NuGet</th>\n",
       "      <td>507.0</td>\n",
       "    </tr>\n",
       "    <tr>\n",
       "      <th>RubyGems</th>\n",
       "      <td>40.0</td>\n",
       "    </tr>\n",
       "    <tr>\n",
       "      <th>npm</th>\n",
       "      <td>50.0</td>\n",
       "    </tr>\n",
       "    <tr>\n",
       "      <th>pip</th>\n",
       "      <td>120.0</td>\n",
       "    </tr>\n",
       "  </tbody>\n",
       "</table>\n",
       "</div>"
      ],
      "text/plain": [
       "           loc_changed\n",
       "ecosystem             \n",
       "Composer         429.5\n",
       "Go                69.5\n",
       "Maven            310.0\n",
       "NuGet            507.0\n",
       "RubyGems          40.0\n",
       "npm               50.0\n",
       "pip              120.0"
      ]
     },
     "metadata": {},
     "execution_count": 52
    }
   ],
   "metadata": {}
  },
  {
   "cell_type": "code",
   "execution_count": 53,
   "source": [
    "df.groupby('ecosystem')[['files_changed']].median()"
   ],
   "outputs": [
    {
     "output_type": "execute_result",
     "data": {
      "text/html": [
       "<div>\n",
       "<style scoped>\n",
       "    .dataframe tbody tr th:only-of-type {\n",
       "        vertical-align: middle;\n",
       "    }\n",
       "\n",
       "    .dataframe tbody tr th {\n",
       "        vertical-align: top;\n",
       "    }\n",
       "\n",
       "    .dataframe thead th {\n",
       "        text-align: right;\n",
       "    }\n",
       "</style>\n",
       "<table border=\"1\" class=\"dataframe\">\n",
       "  <thead>\n",
       "    <tr style=\"text-align: right;\">\n",
       "      <th></th>\n",
       "      <th>files_changed</th>\n",
       "    </tr>\n",
       "    <tr>\n",
       "      <th>ecosystem</th>\n",
       "      <th></th>\n",
       "    </tr>\n",
       "  </thead>\n",
       "  <tbody>\n",
       "    <tr>\n",
       "      <th>Composer</th>\n",
       "      <td>25</td>\n",
       "    </tr>\n",
       "    <tr>\n",
       "      <th>Go</th>\n",
       "      <td>3</td>\n",
       "    </tr>\n",
       "    <tr>\n",
       "      <th>Maven</th>\n",
       "      <td>13</td>\n",
       "    </tr>\n",
       "    <tr>\n",
       "      <th>NuGet</th>\n",
       "      <td>25</td>\n",
       "    </tr>\n",
       "    <tr>\n",
       "      <th>RubyGems</th>\n",
       "      <td>4</td>\n",
       "    </tr>\n",
       "    <tr>\n",
       "      <th>npm</th>\n",
       "      <td>3</td>\n",
       "    </tr>\n",
       "    <tr>\n",
       "      <th>pip</th>\n",
       "      <td>7</td>\n",
       "    </tr>\n",
       "  </tbody>\n",
       "</table>\n",
       "</div>"
      ],
      "text/plain": [
       "           files_changed\n",
       "ecosystem               \n",
       "Composer              25\n",
       "Go                     3\n",
       "Maven                 13\n",
       "NuGet                 25\n",
       "RubyGems               4\n",
       "npm                    3\n",
       "pip                    7"
      ]
     },
     "metadata": {},
     "execution_count": 53
    }
   ],
   "metadata": {}
  },
  {
   "cell_type": "code",
   "execution_count": 28,
   "source": [
    "random = df.sample(frac=1).reset_index(drop=True)\n",
    "random.to_csv('rq3_random.csv', index=False)"
   ],
   "outputs": [],
   "metadata": {}
  },
  {
   "cell_type": "code",
   "execution_count": 18,
   "source": [
    "len(random)"
   ],
   "outputs": [
    {
     "output_type": "execute_result",
     "data": {
      "text/plain": [
       "4582"
      ]
     },
     "metadata": {},
     "execution_count": 18
    }
   ],
   "metadata": {}
  },
  {
   "cell_type": "code",
   "execution_count": null,
   "source": [
    "q ='''select distinct a.id as advisory_id, a.severity, a.disclose_date, a.publish_date,\n",
    "        CWE, p.id as package_id, p.name, p.ecosystem, p.repository_url,\n",
    "        ri.id as release_id, ri.version, ri.prior_release, ri.publish_date as release_date\n",
    "from advisory a\n",
    "join package p on a.package_id = p.id\n",
    "join advisoryCWE aC on a.id = aC.advisory_id\n",
    "join fixing_releases fr on a.id = fr.advisory_id\n",
    "join release_info ri on ri.package_id = p.id\n",
    "    and ri.version = fr.version\n",
    "join version_diff vd on vd.release_id = ri.id\n",
    "where ri.prior_release is not null\n",
    "and ri.prior_release != 'manual checkup needed'\n",
    "    and ri.prior_release != 'branch does not match'\n",
    "    and ri.prior_release != 'not valid semver formatting'\n",
    "    and repository_url != 'no repository listed' '''\n",
    "df = pd.DataFrame(sql.execute(q))\n",
    "df['advisory_id'].nunique(), df['package_id'].nunique(), df['release_id'].nunique()"
   ],
   "outputs": [
    {
     "output_type": "execute_result",
     "data": {
      "text/plain": [
       "83173.0"
      ]
     },
     "metadata": {},
     "execution_count": 23
    }
   ],
   "metadata": {}
  }
 ],
 "metadata": {
  "orig_nbformat": 4,
  "language_info": {
   "name": "python",
   "version": "3.9.7",
   "mimetype": "text/x-python",
   "codemirror_mode": {
    "name": "ipython",
    "version": 3
   },
   "pygments_lexer": "ipython3",
   "nbconvert_exporter": "python",
   "file_extension": ".py"
  },
  "kernelspec": {
   "name": "python3",
   "display_name": "Python 3.9.7 64-bit ('advisory-lifecycle-RDwwAgfI': venv)"
  },
  "interpreter": {
   "hash": "45e6bb90db539892217150e51eb80500a9bf028439c0d739bd24c7b8d42327c6"
  }
 },
 "nbformat": 4,
 "nbformat_minor": 2
}