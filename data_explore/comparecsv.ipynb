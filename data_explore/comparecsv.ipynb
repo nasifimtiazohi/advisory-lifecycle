{
 "metadata": {
  "language_info": {
   "codemirror_mode": {
    "name": "ipython",
    "version": 3
   },
   "file_extension": ".py",
   "mimetype": "text/x-python",
   "name": "python",
   "nbconvert_exporter": "python",
   "pygments_lexer": "ipython3",
   "version": "3.9.4"
  },
  "orig_nbformat": 2,
  "kernelspec": {
   "name": "python394jvsc74a57bd045e6bb90db539892217150e51eb80500a9bf028439c0d739bd24c7b8d42327c6",
   "display_name": "Python 3.9.4 64-bit ('advisory-lifecycle': pipenv)"
  }
 },
 "nbformat": 4,
 "nbformat_minor": 2,
 "cells": [
  {
   "cell_type": "code",
   "execution_count": 45,
   "metadata": {},
   "outputs": [],
   "source": [
    "import sys\n",
    "sys.path.append('..')\n",
    "import sql\n",
    "import pandas as pd\n",
    "from functools import reduce\n",
    "from tabulate import tabulate\n",
    "import datetime\n",
    "import matplotlib.pyplot as plt\n",
    "import numpy as np"
   ]
  },
  {
   "cell_type": "code",
   "execution_count": 46,
   "metadata": {},
   "outputs": [],
   "source": [
    "d= {'Is there a documentation source?': 'is_doc','is the fix mentioned?':'is_fix', 'is there unrelated change mentioned?': 'is_uc', 'is breaking change mentioned?':'is_br' , 'main source' :'doc_source', 'How is the fix mentioned? (final codes); separated by semicolon':'fix_pattern',\n",
    "'how the breaking change is mentioned? (final codes); separated by semicolon':'breaking_pattern', 'main source':'source'}\n",
    "aniqa = pd.read_csv('process-frozen-aniqa.csv')\n",
    "aniqa = aniqa.rename(columns = d)\n",
    "nasif = pd.read_csv('process-frozen-nasif.csv')\n",
    "nasif = nasif.rename(columns = d)"
   ]
  },
  {
   "cell_type": "code",
   "execution_count": 47,
   "metadata": {},
   "outputs": [
    {
     "output_type": "execute_result",
     "data": {
      "text/plain": [
       "137"
      ]
     },
     "metadata": {},
     "execution_count": 47
    }
   ],
   "source": [
    "aniqa['is_doc'] = aniqa['is_doc'].fillna('N')\n",
    "nasif['is_doc'] = nasif['is_doc'].fillna('N')\n",
    "aniqa['is_doc'] = aniqa['is_doc'].str.lower()\n",
    "nasif['is_doc'] = nasif['is_doc'].str.lower()\n",
    "a = np.where(aniqa['is_doc'] != nasif['is_doc'])\n",
    "d = set(list(a[0]))\n",
    "aniqa['is_fix'] = aniqa['is_fix'].fillna('N')\n",
    "nasif['is_fix'] = nasif['is_fix'].fillna('N')\n",
    "aniqa['is_fix'] = aniqa['is_fix'].str.lower()\n",
    "nasif['is_fix'] = nasif['is_fix'].str.lower()\n",
    "a = np.where(aniqa['is_fix'] != nasif['is_fix'])\n",
    "f = set(list(a[0]))\n",
    "aniqa['is_uc'] = aniqa['is_uc'].fillna('N')\n",
    "nasif['is_uc'] = nasif['is_uc'].fillna('N')\n",
    "aniqa['is_uc'] = aniqa['is_uc'].str.lower()\n",
    "nasif['is_uc'] = nasif['is_uc'].str.lower()\n",
    "a = np.where(aniqa['is_uc'] != nasif['is_uc'])\n",
    "u = set(list(a[0]))\n",
    "aniqa['is_br'] = aniqa['is_br'].fillna('N')\n",
    "nasif['is_br'] = nasif['is_br'].fillna('N')\n",
    "aniqa['is_br'] = aniqa['is_br'].str.lower()\n",
    "nasif['is_br'] = nasif['is_br'].str.lower()\n",
    "a = np.where(aniqa['is_br'] != nasif['is_br'])\n",
    "b = set(list(a[0]))\n",
    "s=d.union(f).union(u).union(b)\n",
    "len(s)"
   ]
  },
  {
   "cell_type": "code",
   "execution_count": 48,
   "metadata": {},
   "outputs": [],
   "source": [
    "nasif['fix_pattern'] = nasif['fix_pattern'].fillna('')\n",
    "aniqa['fix_pattern'] = aniqa['fix_pattern'].fillna('')\n",
    "nasif['breaking_pattern'] = nasif['breaking_pattern'].fillna('')\n",
    "aniqa['breaking_pattern'] = aniqa['breaking_pattern'].fillna('')\n",
    "nasif['source'] = nasif['source'].fillna('')\n",
    "nasif['source'] = nasif['source'].str.lower()\n",
    "nasif['source'] = nasif['source'].str.strip()\n",
    "aniqa['source'] = aniqa['source'].fillna('')\n",
    "aniqa['source'] = aniqa['source'].str.lower()\n",
    "aniqa['source'] = aniqa['source'].str.strip()\n",
    "n = nasif.to_dict('records')\n",
    "a= aniqa.to_dict('records')"
   ]
  },
  {
   "cell_type": "code",
   "execution_count": 49,
   "metadata": {},
   "outputs": [],
   "source": [
    "assert len(n) == len(a)"
   ]
  },
  {
   "cell_type": "code",
   "execution_count": 50,
   "metadata": {
    "tags": []
   },
   "outputs": [
    {
     "output_type": "execute_result",
     "data": {
      "text/plain": [
       "49"
      ]
     },
     "metadata": {},
     "execution_count": 50
    }
   ],
   "source": [
    "l = []\n",
    "c=0\n",
    "for i in range(0, len(n)):\n",
    "    if n[i]['source'] != a[i]['source']:\n",
    "        if n[i]['source'] !='n' and a[i]['source'] !='n':\n",
    "            if not(n[i]['source']=='changelog' and a[i]['source']=='github release note'):\n",
    "                #print(n[i]['source'],a[i]['source'])\n",
    "                c+=1\n",
    "                l.append(i)\n",
    "s = s.union(set(l))\n",
    "c"
   ]
  },
  {
   "cell_type": "code",
   "execution_count": 51,
   "metadata": {
    "tags": []
   },
   "outputs": [],
   "source": [
    "fp ={}\n",
    "l = []\n",
    "for i in range(0, len(n)):\n",
    "    t = n[i]['fix_pattern']\n",
    "    t = t.split(';')\n",
    "    x = set()\n",
    "    for e in t:\n",
    "        if e:\n",
    "            x.add(e.lower().strip()) \n",
    "    t = a[i]['fix_pattern']\n",
    "    t = t.split(';')\n",
    "    y = set()\n",
    "    for e in t:\n",
    "        if e:\n",
    "            y.add(e.lower().strip())\n",
    "    if x!= y:\n",
    "        l.append(i)\n",
    "    fp[i]= x.union(y)\n",
    "s = s.union(set(l))"
   ]
  },
  {
   "cell_type": "code",
   "execution_count": 52,
   "metadata": {},
   "outputs": [],
   "source": [
    "bp = {}\n",
    "l = []\n",
    "for i in range(0, len(n)):\n",
    "    t = n[i]['breaking_pattern']\n",
    "    t = t.split(';')\n",
    "    x = set()\n",
    "    for e in t:\n",
    "        if e:\n",
    "            x.add(e.lower().strip()) \n",
    "    t = a[i]['breaking_pattern']\n",
    "    t = t.split(';')\n",
    "    y = set()\n",
    "    for e in t:\n",
    "        if e:\n",
    "            y.add(e.lower().strip())\n",
    "    if x!= y:\n",
    "        l.append(i)\n",
    "    bp[i]=x.union(y)\n",
    "s = s.union(set(l))"
   ]
  },
  {
   "cell_type": "code",
   "execution_count": 53,
   "metadata": {},
   "outputs": [
    {
     "output_type": "execute_result",
     "data": {
      "text/plain": [
       "282"
      ]
     },
     "metadata": {},
     "execution_count": 53
    }
   ],
   "source": [
    "len(s)"
   ]
  },
  {
   "cell_type": "code",
   "execution_count": 54,
   "metadata": {
    "tags": []
   },
   "outputs": [],
   "source": [
    "common = []\n",
    "disagreed = []\n",
    "for i in range(0,len(n)):\n",
    "    r = n[i]\n",
    "    r['row']= i+2\n",
    "    if i not in s:\n",
    "        common.append(r)\n",
    "    else:\n",
    "        if n[i]['is_doc'] == a[i]['is_doc']:\n",
    "            r['is_doc'] = n[i]['is_doc']\n",
    "        else:\n",
    "            r['is_doc'] =''\n",
    "        if n[i]['is_fix'] == a[i]['is_fix']:\n",
    "            r['is_fix'] = n[i]['is_fix']\n",
    "        else:\n",
    "            r['is_fix'] =''\n",
    "        if n[i]['is_uc'] == a[i]['is_uc']:\n",
    "            r['is_uc'] = n[i]['is_uc']\n",
    "        else:\n",
    "            r['is_uc'] =''\n",
    "        if n[i]['is_br'] == a[i]['is_br']:\n",
    "            r['is_br'] = n[i]['is_br']\n",
    "        else:\n",
    "            r['is_br'] =''\n",
    "        r['fix_pattern'] = ';'.join(list(fp[i]))\n",
    "        r['breaking_pattern'] = ';'.join(list(bp[i]))\n",
    "        disagreed.append(r)\n"
   ]
  },
  {
   "cell_type": "code",
   "execution_count": 55,
   "metadata": {},
   "outputs": [],
   "source": [
    "common = pd.DataFrame(common)\n",
    "disagreed = pd.DataFrame(disagreed)"
   ]
  },
  {
   "cell_type": "code",
   "execution_count": 56,
   "metadata": {},
   "outputs": [],
   "source": [
    "common.to_csv('common.csv', index=False, header =True)\n",
    "disagreed.to_csv('disagreed.csv',index=False, header =True)"
   ]
  }
 ]
}