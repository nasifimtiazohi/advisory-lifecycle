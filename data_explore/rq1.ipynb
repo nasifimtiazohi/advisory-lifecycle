{
 "metadata": {
  "language_info": {
   "codemirror_mode": {
    "name": "ipython",
    "version": 3
   },
   "file_extension": ".py",
   "mimetype": "text/x-python",
   "name": "python",
   "nbconvert_exporter": "python",
   "pygments_lexer": "ipython3",
   "version": "3.9.4"
  },
  "orig_nbformat": 2,
  "kernelspec": {
   "name": "python394jvsc74a57bd045e6bb90db539892217150e51eb80500a9bf028439c0d739bd24c7b8d42327c6",
   "display_name": "Python 3.9.4 64-bit ('advisory-lifecycle': pipenv)"
  },
  "metadata": {
   "interpreter": {
    "hash": "aee8b7b246df8f9039afb4144a1f6fd8d2ca17a180786b69acc140d282b71a49"
   }
  }
 },
 "nbformat": 4,
 "nbformat_minor": 2,
 "cells": [
  {
   "cell_type": "code",
   "execution_count": 327,
   "metadata": {},
   "outputs": [],
   "source": [
    "import sys\n",
    "import sql\n",
    "import pandas as pd\n",
    "from functools import reduce\n",
    "from tabulate import tabulate\n",
    "import datetime\n",
    "import matplotlib.pyplot as plt\n",
    "import seaborn as sns\n",
    "import common\n",
    "import numpy as np"
   ]
  },
  {
   "cell_type": "code",
   "execution_count": 328,
   "metadata": {},
   "outputs": [
    {
     "output_type": "execute_result",
     "data": {
      "text/plain": [
       "2497"
      ]
     },
     "metadata": {},
     "execution_count": 328
    }
   ],
   "source": [
    "q = '''select *\n",
    "from fix_commits fc\n",
    "join fixing_releases fr on fc.advisory_id = fr.advisory_id\n",
    "where commit_date is not null\n",
    "and version!=%s;'''\n",
    "df = pd.DataFrame(sql.execute(q,(common.manualcheckup)))\n",
    "df['advisory_id'].nunique()"
   ]
  },
  {
   "cell_type": "code",
   "execution_count": 329,
   "metadata": {},
   "outputs": [
    {
     "output_type": "execute_result",
     "data": {
      "text/plain": [
       "(75, 145)"
      ]
     },
     "metadata": {},
     "execution_count": 329
    }
   ],
   "source": [
    "#not present in Maven central repository\n",
    "q='''select *\n",
    "from fix_commits fc\n",
    "join fixing_releases fr on fc.advisory_id = fr.advisory_id\n",
    "join package p on fc.package_id = p.id\n",
    "where commit_date is not null\n",
    "and version!=%s\n",
    "and fc.advisory_id not in\n",
    "(select advisory_id\n",
    "from fixing_releases fr\n",
    "join advisory a on fr.advisory_id = a.id\n",
    "join release_info ri on fr.version = ri.version and ri.package_id=a.package_id);'''\n",
    "df = pd.DataFrame(sql.execute(q,(common.manualcheckup)))\n",
    "df['package_id'].nunique(), df['advisory_id'].nunique()"
   ]
  },
  {
   "cell_type": "code",
   "execution_count": 330,
   "metadata": {},
   "outputs": [
    {
     "output_type": "execute_result",
     "data": {
      "text/plain": [
       "(272, 341, 357)"
      ]
     },
     "metadata": {},
     "execution_count": 330
    }
   ],
   "source": [
    "q='''select *\n",
    "from fix_commits fc\n",
    "join fixing_releases fr on fc.advisory_id = fr.advisory_id\n",
    "join package p on fc.package_id = p.id\n",
    "join release_info ri on p.id = ri.package_id and ri.version=fr.version\n",
    "where commit_date is not null\n",
    "and fr.version!='manual checkup needed'\n",
    "and ri.publish_date is null;'''\n",
    "df = pd.DataFrame(sql.execute(q))\n",
    "df['package_id'].nunique(), df['advisory_id'].nunique(), df['ri.id'].nunique()"
   ]
  },
  {
   "cell_type": "code",
   "execution_count": 331,
   "metadata": {},
   "outputs": [
    {
     "output_type": "execute_result",
     "data": {
      "text/plain": [
       "                            advisory_id  package_id ecosystem  \\\n",
       "0               SNYK-PYTHON-SALT-174927           1       pip   \n",
       "1                SNYK-PYTHON-SALT-40687           1       pip   \n",
       "2                SNYK-PYTHON-SALT-40687           1       pip   \n",
       "3                SNYK-PYTHON-SALT-40687           1       pip   \n",
       "4                SNYK-PYTHON-SALT-40688           1       pip   \n",
       "...                                 ...         ...       ...   \n",
       "2784       SNYK-JS-APOLLOGATEWAY-174915        1852       npm   \n",
       "2785  SNYK-PHP-LIGHTSAMLLIGHTSAML-72139        2335  Composer   \n",
       "2786            SNYK-PHP-TYPO3CMS-73594         272  Composer   \n",
       "2787            SNYK-PHP-TYPO3CMS-73594         272  Composer   \n",
       "2788      SNYK-JAVA-ORGAPACHEQPID-30714        3006     Maven   \n",
       "\n",
       "                           type severity disclose_date publish_date  \\\n",
       "0      Arbitrary Code Execution        H    2013-05-11   2019-06-06   \n",
       "1       Denial of Service (DoS)        H    2017-08-24   2017-11-05   \n",
       "2       Denial of Service (DoS)        H    2017-08-24   2017-11-05   \n",
       "3       Denial of Service (DoS)        H    2017-08-24   2017-11-05   \n",
       "4           Directory Traversal        H    2017-08-23   2017-11-05   \n",
       "...                         ...      ...           ...          ...   \n",
       "2784        Prototype Pollution        H    2019-06-04   2019-06-05   \n",
       "2785  Access Restriction Bypass        H    2018-04-18   2018-04-26   \n",
       "2786  Security Misconfiguration        H    2019-01-22   2019-01-22   \n",
       "2787  Security Misconfiguration        H    2019-01-22   2019-01-22   \n",
       "2788  Improper Input Validation        H    2016-07-04   2016-07-04   \n",
       "\n",
       "         fix_commit_date        release_date    version  \\\n",
       "0    2013-09-19 18:27:38 2013-10-17 18:17:40     0.17.1   \n",
       "1    2017-08-31 17:07:42 2017-10-09 16:33:50  2016.11.8   \n",
       "2    2017-08-31 17:07:42 2017-10-09 16:30:36   2016.3.8   \n",
       "3    2017-08-31 17:07:42 2017-10-09 16:39:22   2017.7.2   \n",
       "4    2017-08-31 17:06:33 2017-10-09 16:33:50  2016.11.8   \n",
       "...                  ...                 ...        ...   \n",
       "2784 2019-06-04 23:23:04 2019-06-04 23:25:34      0.6.2   \n",
       "2785 2018-03-05 16:26:57 2018-03-05 16:29:08      1.3.5   \n",
       "2786 2019-01-22 08:42:56 2019-01-22 10:10:02     8.7.23   \n",
       "2787 2019-01-22 08:42:56 2019-01-22 10:12:04      9.5.4   \n",
       "2788 2016-06-27 15:31:44 2016-06-27 15:53:00     0.10.0   \n",
       "\n",
       "                fixing_release  fix_to_release_delay  disclose_to_fix_delay  \\\n",
       "0        package1version0.17.1                  28.0                    131   \n",
       "1     package1version2016.11.8                  39.0                      7   \n",
       "2      package1version2016.3.8                  39.0                      7   \n",
       "3      package1version2017.7.2                  39.0                      7   \n",
       "4     package1version2016.11.8                  39.0                      8   \n",
       "...                        ...                   ...                    ...   \n",
       "2784   package1852version0.6.2                   0.0                      0   \n",
       "2785   package2335version1.3.5                   0.0                    -44   \n",
       "2786   package272version8.7.23                   0.0                      0   \n",
       "2787    package272version9.5.4                   0.0                      0   \n",
       "2788  package3006version0.10.0                   0.0                     -7   \n",
       "\n",
       "      release_to_publish_delay  fix_to_publish_delay  \n",
       "0                         2058                  2086  \n",
       "1                           27                    66  \n",
       "2                           27                    66  \n",
       "3                           27                    66  \n",
       "4                           27                    66  \n",
       "...                        ...                   ...  \n",
       "2784                         1                     1  \n",
       "2785                        52                    52  \n",
       "2786                         0                     0  \n",
       "2787                         0                     0  \n",
       "2788                         7                     7  \n",
       "\n",
       "[2789 rows x 15 columns]"
      ],
      "text/html": "<div>\n<style scoped>\n    .dataframe tbody tr th:only-of-type {\n        vertical-align: middle;\n    }\n\n    .dataframe tbody tr th {\n        vertical-align: top;\n    }\n\n    .dataframe thead th {\n        text-align: right;\n    }\n</style>\n<table border=\"1\" class=\"dataframe\">\n  <thead>\n    <tr style=\"text-align: right;\">\n      <th></th>\n      <th>advisory_id</th>\n      <th>package_id</th>\n      <th>ecosystem</th>\n      <th>type</th>\n      <th>severity</th>\n      <th>disclose_date</th>\n      <th>publish_date</th>\n      <th>fix_commit_date</th>\n      <th>release_date</th>\n      <th>version</th>\n      <th>fixing_release</th>\n      <th>fix_to_release_delay</th>\n      <th>disclose_to_fix_delay</th>\n      <th>release_to_publish_delay</th>\n      <th>fix_to_publish_delay</th>\n    </tr>\n  </thead>\n  <tbody>\n    <tr>\n      <th>0</th>\n      <td>SNYK-PYTHON-SALT-174927</td>\n      <td>1</td>\n      <td>pip</td>\n      <td>Arbitrary Code Execution</td>\n      <td>H</td>\n      <td>2013-05-11</td>\n      <td>2019-06-06</td>\n      <td>2013-09-19 18:27:38</td>\n      <td>2013-10-17 18:17:40</td>\n      <td>0.17.1</td>\n      <td>package1version0.17.1</td>\n      <td>28.0</td>\n      <td>131</td>\n      <td>2058</td>\n      <td>2086</td>\n    </tr>\n    <tr>\n      <th>1</th>\n      <td>SNYK-PYTHON-SALT-40687</td>\n      <td>1</td>\n      <td>pip</td>\n      <td>Denial of Service (DoS)</td>\n      <td>H</td>\n      <td>2017-08-24</td>\n      <td>2017-11-05</td>\n      <td>2017-08-31 17:07:42</td>\n      <td>2017-10-09 16:33:50</td>\n      <td>2016.11.8</td>\n      <td>package1version2016.11.8</td>\n      <td>39.0</td>\n      <td>7</td>\n      <td>27</td>\n      <td>66</td>\n    </tr>\n    <tr>\n      <th>2</th>\n      <td>SNYK-PYTHON-SALT-40687</td>\n      <td>1</td>\n      <td>pip</td>\n      <td>Denial of Service (DoS)</td>\n      <td>H</td>\n      <td>2017-08-24</td>\n      <td>2017-11-05</td>\n      <td>2017-08-31 17:07:42</td>\n      <td>2017-10-09 16:30:36</td>\n      <td>2016.3.8</td>\n      <td>package1version2016.3.8</td>\n      <td>39.0</td>\n      <td>7</td>\n      <td>27</td>\n      <td>66</td>\n    </tr>\n    <tr>\n      <th>3</th>\n      <td>SNYK-PYTHON-SALT-40687</td>\n      <td>1</td>\n      <td>pip</td>\n      <td>Denial of Service (DoS)</td>\n      <td>H</td>\n      <td>2017-08-24</td>\n      <td>2017-11-05</td>\n      <td>2017-08-31 17:07:42</td>\n      <td>2017-10-09 16:39:22</td>\n      <td>2017.7.2</td>\n      <td>package1version2017.7.2</td>\n      <td>39.0</td>\n      <td>7</td>\n      <td>27</td>\n      <td>66</td>\n    </tr>\n    <tr>\n      <th>4</th>\n      <td>SNYK-PYTHON-SALT-40688</td>\n      <td>1</td>\n      <td>pip</td>\n      <td>Directory Traversal</td>\n      <td>H</td>\n      <td>2017-08-23</td>\n      <td>2017-11-05</td>\n      <td>2017-08-31 17:06:33</td>\n      <td>2017-10-09 16:33:50</td>\n      <td>2016.11.8</td>\n      <td>package1version2016.11.8</td>\n      <td>39.0</td>\n      <td>8</td>\n      <td>27</td>\n      <td>66</td>\n    </tr>\n    <tr>\n      <th>...</th>\n      <td>...</td>\n      <td>...</td>\n      <td>...</td>\n      <td>...</td>\n      <td>...</td>\n      <td>...</td>\n      <td>...</td>\n      <td>...</td>\n      <td>...</td>\n      <td>...</td>\n      <td>...</td>\n      <td>...</td>\n      <td>...</td>\n      <td>...</td>\n      <td>...</td>\n    </tr>\n    <tr>\n      <th>2784</th>\n      <td>SNYK-JS-APOLLOGATEWAY-174915</td>\n      <td>1852</td>\n      <td>npm</td>\n      <td>Prototype Pollution</td>\n      <td>H</td>\n      <td>2019-06-04</td>\n      <td>2019-06-05</td>\n      <td>2019-06-04 23:23:04</td>\n      <td>2019-06-04 23:25:34</td>\n      <td>0.6.2</td>\n      <td>package1852version0.6.2</td>\n      <td>0.0</td>\n      <td>0</td>\n      <td>1</td>\n      <td>1</td>\n    </tr>\n    <tr>\n      <th>2785</th>\n      <td>SNYK-PHP-LIGHTSAMLLIGHTSAML-72139</td>\n      <td>2335</td>\n      <td>Composer</td>\n      <td>Access Restriction Bypass</td>\n      <td>H</td>\n      <td>2018-04-18</td>\n      <td>2018-04-26</td>\n      <td>2018-03-05 16:26:57</td>\n      <td>2018-03-05 16:29:08</td>\n      <td>1.3.5</td>\n      <td>package2335version1.3.5</td>\n      <td>0.0</td>\n      <td>-44</td>\n      <td>52</td>\n      <td>52</td>\n    </tr>\n    <tr>\n      <th>2786</th>\n      <td>SNYK-PHP-TYPO3CMS-73594</td>\n      <td>272</td>\n      <td>Composer</td>\n      <td>Security Misconfiguration</td>\n      <td>H</td>\n      <td>2019-01-22</td>\n      <td>2019-01-22</td>\n      <td>2019-01-22 08:42:56</td>\n      <td>2019-01-22 10:10:02</td>\n      <td>8.7.23</td>\n      <td>package272version8.7.23</td>\n      <td>0.0</td>\n      <td>0</td>\n      <td>0</td>\n      <td>0</td>\n    </tr>\n    <tr>\n      <th>2787</th>\n      <td>SNYK-PHP-TYPO3CMS-73594</td>\n      <td>272</td>\n      <td>Composer</td>\n      <td>Security Misconfiguration</td>\n      <td>H</td>\n      <td>2019-01-22</td>\n      <td>2019-01-22</td>\n      <td>2019-01-22 08:42:56</td>\n      <td>2019-01-22 10:12:04</td>\n      <td>9.5.4</td>\n      <td>package272version9.5.4</td>\n      <td>0.0</td>\n      <td>0</td>\n      <td>0</td>\n      <td>0</td>\n    </tr>\n    <tr>\n      <th>2788</th>\n      <td>SNYK-JAVA-ORGAPACHEQPID-30714</td>\n      <td>3006</td>\n      <td>Maven</td>\n      <td>Improper Input Validation</td>\n      <td>H</td>\n      <td>2016-07-04</td>\n      <td>2016-07-04</td>\n      <td>2016-06-27 15:31:44</td>\n      <td>2016-06-27 15:53:00</td>\n      <td>0.10.0</td>\n      <td>package3006version0.10.0</td>\n      <td>0.0</td>\n      <td>-7</td>\n      <td>7</td>\n      <td>7</td>\n    </tr>\n  </tbody>\n</table>\n<p>2789 rows × 15 columns</p>\n</div>"
     },
     "metadata": {},
     "execution_count": 331
    }
   ],
   "source": [
    "q = '''select advisory_id, package_id, ecosystem, type, severity, disclose_date, publish_date,\n",
    "        fix_commit_date, release_date, version, concat('package', package_id, 'version', version) as fixing_release\n",
    "        from\n",
    "        (select advisory_id, min(commit_date) as fix_commit_date\n",
    "        from fix_commits fc\n",
    "        join package p on fc.package_id = p.id\n",
    "        where commit_date is not null\n",
    "        group by advisory_id) as fcd\n",
    "        join\n",
    "        (select a.*, p.ecosystem, ri.version, ri.publish_date as release_date\n",
    "        from advisory a\n",
    "        join package p on a.package_id = p.id\n",
    "        join fixing_releases fr on a.id = fr.advisory_id\n",
    "        join release_info ri on p.id = ri.package_id and ri.version=fr.version\n",
    "        where type != 'Malicious Package'\n",
    "        and fr.version!= 'manual checkup needed'\n",
    "            and ri.publish_date is not null) as frd\n",
    "        on fcd.advisory_id=frd.id;'''\n",
    "df = pd.DataFrame(sql.execute(q))\n",
    "df['fix_to_release_delay'] = (df['release_date'] - df['fix_commit_date']).dt.total_seconds()\n",
    "df['fix_to_release_delay'] = round ( df['fix_to_release_delay'] / (3600 * 24))\n",
    "df['disclose_to_fix_delay'] = (df['fix_commit_date'].dt.date - df['disclose_date']).dt.days\n",
    "df['release_to_publish_delay'] = (df['publish_date'] - df['release_date'].dt.date).dt.days\n",
    "df['fix_to_publish_delay'] = (df['publish_date'] - df['fix_commit_date'].dt.date).dt.days\n",
    "df"
   ]
  },
  {
   "cell_type": "code",
   "execution_count": 332,
   "metadata": {},
   "outputs": [
    {
     "output_type": "execute_result",
     "data": {
      "text/plain": [
       "2068"
      ]
     },
     "metadata": {},
     "execution_count": 332
    }
   ],
   "source": [
    "df['advisory_id'].nunique()"
   ]
  },
  {
   "cell_type": "code",
   "execution_count": 333,
   "metadata": {},
   "outputs": [
    {
     "output_type": "execute_result",
     "data": {
      "text/plain": [
       "(count     708.000000\n",
       " mean       70.515537\n",
       " std       184.361411\n",
       " min         1.000000\n",
       " 25%         1.000000\n",
       " 50%         7.000000\n",
       " 75%        38.000000\n",
       " max      1849.000000\n",
       " Name: disclose_to_fix_delay, dtype: float64,\n",
       " 0.25385442811043385)"
      ]
     },
     "metadata": {},
     "execution_count": 333
    }
   ],
   "source": [
    "total = len(df)\n",
    "d2f = df[df['disclose_to_fix_delay'] > 0]\n",
    "before = len(d2f)\n",
    "d2f['disclose_to_fix_delay'].describe(), before/total\n"
   ]
  },
  {
   "cell_type": "code",
   "execution_count": 334,
   "metadata": {},
   "outputs": [
    {
     "output_type": "execute_result",
     "data": {
      "text/plain": [
       "count    2789.000000\n",
       "mean      178.426318\n",
       "std       464.064366\n",
       "min     -1756.000000\n",
       "25%         1.000000\n",
       "50%        11.000000\n",
       "75%       132.000000\n",
       "max      4918.000000\n",
       "Name: release_to_publish_delay, dtype: float64"
      ]
     },
     "metadata": {},
     "execution_count": 334
    }
   ],
   "source": [
    "df['release_to_publish_delay'].describe()"
   ]
  },
  {
   "cell_type": "code",
   "execution_count": 335,
   "metadata": {},
   "outputs": [],
   "source": [
    "wrong = df[df['fix_to_release_delay'] < 0]\n",
    "wrong = wrong.sample(frac=1).reset_index(drop=True)\n",
    "wrong.to_csv('delaylessthanzero.csv', index=False)"
   ]
  },
  {
   "cell_type": "code",
   "execution_count": 336,
   "metadata": {},
   "outputs": [
    {
     "output_type": "display_data",
     "data": {
      "text/plain": "<Figure size 432x288 with 1 Axes>",
      "image/svg+xml": "<?xml version=\"1.0\" encoding=\"utf-8\" standalone=\"no\"?>\n<!DOCTYPE svg PUBLIC \"-//W3C//DTD SVG 1.1//EN\"\n  \"http://www.w3.org/Graphics/SVG/1.1/DTD/svg11.dtd\">\n<!-- Created with matplotlib (https://matplotlib.org/) -->\n<svg height=\"262.19625pt\" version=\"1.1\" viewBox=\"0 0 395.60625 262.19625\" width=\"395.60625pt\" xmlns=\"http://www.w3.org/2000/svg\" xmlns:xlink=\"http://www.w3.org/1999/xlink\">\n <metadata>\n  <rdf:RDF xmlns:cc=\"http://creativecommons.org/ns#\" xmlns:dc=\"http://purl.org/dc/elements/1.1/\" xmlns:rdf=\"http://www.w3.org/1999/02/22-rdf-syntax-ns#\">\n   <cc:Work>\n    <dc:type rdf:resource=\"http://purl.org/dc/dcmitype/StillImage\"/>\n    <dc:date>2021-05-02T17:59:47.801567</dc:date>\n    <dc:format>image/svg+xml</dc:format>\n    <dc:creator>\n     <cc:Agent>\n      <dc:title>Matplotlib v3.3.4, https://matplotlib.org/</dc:title>\n     </cc:Agent>\n    </dc:creator>\n   </cc:Work>\n  </rdf:RDF>\n </metadata>\n <defs>\n  <style type=\"text/css\">*{stroke-linecap:butt;stroke-linejoin:round;}</style>\n </defs>\n <g id=\"figure_1\">\n  <g id=\"patch_1\">\n   <path d=\"M 0 262.19625 \nL 395.60625 262.19625 \nL 395.60625 0 \nL 0 0 \nz\n\" style=\"fill:none;\"/>\n  </g>\n  <g id=\"axes_1\">\n   <g id=\"patch_2\">\n    <path d=\"M 53.60625 224.64 \nL 388.40625 224.64 \nL 388.40625 7.2 \nL 53.60625 7.2 \nz\n\" style=\"fill:#ffffff;\"/>\n   </g>\n   <g id=\"patch_3\">\n    <path clip-path=\"url(#p671b01a188)\" d=\"M 58.389107 214.756364 \nL 96.651964 214.756364 \nL 96.651964 213.836177 \nL 58.389107 213.836177 \nL 58.389107 214.756364 \nz\n\" style=\"fill:#3274a1;stroke:#3d3d3d;stroke-linejoin:miter;stroke-width:1.5;\"/>\n   </g>\n   <g id=\"patch_4\">\n    <path clip-path=\"url(#p671b01a188)\" d=\"M 106.217679 214.589057 \nL 144.480536 214.589057 \nL 144.480536 210.741006 \nL 106.217679 210.741006 \nL 106.217679 214.589057 \nz\n\" style=\"fill:#e1812c;stroke:#3d3d3d;stroke-linejoin:miter;stroke-width:1.5;\"/>\n   </g>\n   <g id=\"patch_5\">\n    <path clip-path=\"url(#p671b01a188)\" d=\"M 154.04625 214.756364 \nL 192.309107 214.756364 \nL 192.309107 213.668871 \nL 154.04625 213.668871 \nL 154.04625 214.756364 \nz\n\" style=\"fill:#3a923a;stroke:#3d3d3d;stroke-linejoin:miter;stroke-width:1.5;\"/>\n   </g>\n   <g id=\"patch_6\">\n    <path clip-path=\"url(#p671b01a188)\" d=\"M 201.874821 214.67271 \nL 240.137679 214.67271 \nL 240.137679 213.083298 \nL 201.874821 213.083298 \nL 201.874821 214.67271 \nz\n\" style=\"fill:#c03d3e;stroke:#3d3d3d;stroke-linejoin:miter;stroke-width:1.5;\"/>\n   </g>\n   <g id=\"patch_7\">\n    <path clip-path=\"url(#p671b01a188)\" d=\"M 249.703393 214.756364 \nL 287.96625 214.756364 \nL 287.96625 214.128964 \nL 249.703393 214.128964 \nL 249.703393 214.756364 \nz\n\" style=\"fill:#9372b2;stroke:#3d3d3d;stroke-linejoin:miter;stroke-width:1.5;\"/>\n   </g>\n   <g id=\"patch_8\">\n    <path clip-path=\"url(#p671b01a188)\" d=\"M 297.531964 214.756364 \nL 335.794821 214.756364 \nL 335.794821 213.292431 \nL 297.531964 213.292431 \nL 297.531964 214.756364 \nz\n\" style=\"fill:#845b53;stroke:#3d3d3d;stroke-linejoin:miter;stroke-width:1.5;\"/>\n   </g>\n   <g id=\"patch_9\">\n    <path clip-path=\"url(#p671b01a188)\" d=\"M 345.360536 214.67271 \nL 383.623393 214.67271 \nL 383.623393 213.668871 \nL 345.360536 213.668871 \nL 345.360536 214.67271 \nz\n\" style=\"fill:#d684bd;stroke:#3d3d3d;stroke-linejoin:miter;stroke-width:1.5;\"/>\n   </g>\n   <g id=\"matplotlib.axis_1\">\n    <g id=\"xtick_1\">\n     <g id=\"line2d_1\">\n      <defs>\n       <path d=\"M 0 0 \nL 0 3.5 \n\" id=\"m063d26f792\" style=\"stroke:#000000;stroke-width:0.8;\"/>\n      </defs>\n      <g>\n       <use style=\"stroke:#000000;stroke-width:0.8;\" x=\"77.520536\" xlink:href=\"#m063d26f792\" y=\"224.64\"/>\n      </g>\n     </g>\n     <g id=\"text_1\">\n      <!-- pip -->\n      <g transform=\"translate(69.783036 239.238437)scale(0.1 -0.1)\">\n       <defs>\n        <path d=\"M 18.109375 8.203125 \nL 18.109375 -20.796875 \nL 9.078125 -20.796875 \nL 9.078125 54.6875 \nL 18.109375 54.6875 \nL 18.109375 46.390625 \nQ 20.953125 51.265625 25.265625 53.625 \nQ 29.59375 56 35.59375 56 \nQ 45.5625 56 51.78125 48.09375 \nQ 58.015625 40.1875 58.015625 27.296875 \nQ 58.015625 14.40625 51.78125 6.484375 \nQ 45.5625 -1.421875 35.59375 -1.421875 \nQ 29.59375 -1.421875 25.265625 0.953125 \nQ 20.953125 3.328125 18.109375 8.203125 \nz\nM 48.6875 27.296875 \nQ 48.6875 37.203125 44.609375 42.84375 \nQ 40.53125 48.484375 33.40625 48.484375 \nQ 26.265625 48.484375 22.1875 42.84375 \nQ 18.109375 37.203125 18.109375 27.296875 \nQ 18.109375 17.390625 22.1875 11.75 \nQ 26.265625 6.109375 33.40625 6.109375 \nQ 40.53125 6.109375 44.609375 11.75 \nQ 48.6875 17.390625 48.6875 27.296875 \nz\n\" id=\"DejaVuSans-112\"/>\n        <path d=\"M 9.421875 54.6875 \nL 18.40625 54.6875 \nL 18.40625 0 \nL 9.421875 0 \nz\nM 9.421875 75.984375 \nL 18.40625 75.984375 \nL 18.40625 64.59375 \nL 9.421875 64.59375 \nz\n\" id=\"DejaVuSans-105\"/>\n       </defs>\n       <use xlink:href=\"#DejaVuSans-112\"/>\n       <use x=\"63.476562\" xlink:href=\"#DejaVuSans-105\"/>\n       <use x=\"91.259766\" xlink:href=\"#DejaVuSans-112\"/>\n      </g>\n     </g>\n    </g>\n    <g id=\"xtick_2\">\n     <g id=\"line2d_2\">\n      <g>\n       <use style=\"stroke:#000000;stroke-width:0.8;\" x=\"125.349107\" xlink:href=\"#m063d26f792\" y=\"224.64\"/>\n      </g>\n     </g>\n     <g id=\"text_2\">\n      <!-- Maven -->\n      <g transform=\"translate(108.766295 239.238437)scale(0.1 -0.1)\">\n       <defs>\n        <path d=\"M 9.8125 72.90625 \nL 24.515625 72.90625 \nL 43.109375 23.296875 \nL 61.8125 72.90625 \nL 76.515625 72.90625 \nL 76.515625 0 \nL 66.890625 0 \nL 66.890625 64.015625 \nL 48.09375 14.015625 \nL 38.1875 14.015625 \nL 19.390625 64.015625 \nL 19.390625 0 \nL 9.8125 0 \nz\n\" id=\"DejaVuSans-77\"/>\n        <path d=\"M 34.28125 27.484375 \nQ 23.390625 27.484375 19.1875 25 \nQ 14.984375 22.515625 14.984375 16.5 \nQ 14.984375 11.71875 18.140625 8.90625 \nQ 21.296875 6.109375 26.703125 6.109375 \nQ 34.1875 6.109375 38.703125 11.40625 \nQ 43.21875 16.703125 43.21875 25.484375 \nL 43.21875 27.484375 \nz\nM 52.203125 31.203125 \nL 52.203125 0 \nL 43.21875 0 \nL 43.21875 8.296875 \nQ 40.140625 3.328125 35.546875 0.953125 \nQ 30.953125 -1.421875 24.3125 -1.421875 \nQ 15.921875 -1.421875 10.953125 3.296875 \nQ 6 8.015625 6 15.921875 \nQ 6 25.140625 12.171875 29.828125 \nQ 18.359375 34.515625 30.609375 34.515625 \nL 43.21875 34.515625 \nL 43.21875 35.40625 \nQ 43.21875 41.609375 39.140625 45 \nQ 35.0625 48.390625 27.6875 48.390625 \nQ 23 48.390625 18.546875 47.265625 \nQ 14.109375 46.140625 10.015625 43.890625 \nL 10.015625 52.203125 \nQ 14.9375 54.109375 19.578125 55.046875 \nQ 24.21875 56 28.609375 56 \nQ 40.484375 56 46.34375 49.84375 \nQ 52.203125 43.703125 52.203125 31.203125 \nz\n\" id=\"DejaVuSans-97\"/>\n        <path d=\"M 2.984375 54.6875 \nL 12.5 54.6875 \nL 29.59375 8.796875 \nL 46.6875 54.6875 \nL 56.203125 54.6875 \nL 35.6875 0 \nL 23.484375 0 \nz\n\" id=\"DejaVuSans-118\"/>\n        <path d=\"M 56.203125 29.59375 \nL 56.203125 25.203125 \nL 14.890625 25.203125 \nQ 15.484375 15.921875 20.484375 11.0625 \nQ 25.484375 6.203125 34.421875 6.203125 \nQ 39.59375 6.203125 44.453125 7.46875 \nQ 49.3125 8.734375 54.109375 11.28125 \nL 54.109375 2.78125 \nQ 49.265625 0.734375 44.1875 -0.34375 \nQ 39.109375 -1.421875 33.890625 -1.421875 \nQ 20.796875 -1.421875 13.15625 6.1875 \nQ 5.515625 13.8125 5.515625 26.8125 \nQ 5.515625 40.234375 12.765625 48.109375 \nQ 20.015625 56 32.328125 56 \nQ 43.359375 56 49.78125 48.890625 \nQ 56.203125 41.796875 56.203125 29.59375 \nz\nM 47.21875 32.234375 \nQ 47.125 39.59375 43.09375 43.984375 \nQ 39.0625 48.390625 32.421875 48.390625 \nQ 24.90625 48.390625 20.390625 44.140625 \nQ 15.875 39.890625 15.1875 32.171875 \nz\n\" id=\"DejaVuSans-101\"/>\n        <path d=\"M 54.890625 33.015625 \nL 54.890625 0 \nL 45.90625 0 \nL 45.90625 32.71875 \nQ 45.90625 40.484375 42.875 44.328125 \nQ 39.84375 48.1875 33.796875 48.1875 \nQ 26.515625 48.1875 22.3125 43.546875 \nQ 18.109375 38.921875 18.109375 30.90625 \nL 18.109375 0 \nL 9.078125 0 \nL 9.078125 54.6875 \nL 18.109375 54.6875 \nL 18.109375 46.1875 \nQ 21.34375 51.125 25.703125 53.5625 \nQ 30.078125 56 35.796875 56 \nQ 45.21875 56 50.046875 50.171875 \nQ 54.890625 44.34375 54.890625 33.015625 \nz\n\" id=\"DejaVuSans-110\"/>\n       </defs>\n       <use xlink:href=\"#DejaVuSans-77\"/>\n       <use x=\"86.279297\" xlink:href=\"#DejaVuSans-97\"/>\n       <use x=\"147.558594\" xlink:href=\"#DejaVuSans-118\"/>\n       <use x=\"206.738281\" xlink:href=\"#DejaVuSans-101\"/>\n       <use x=\"268.261719\" xlink:href=\"#DejaVuSans-110\"/>\n      </g>\n     </g>\n    </g>\n    <g id=\"xtick_3\">\n     <g id=\"line2d_3\">\n      <g>\n       <use style=\"stroke:#000000;stroke-width:0.8;\" x=\"173.177679\" xlink:href=\"#m063d26f792\" y=\"224.64\"/>\n      </g>\n     </g>\n     <g id=\"text_3\">\n      <!-- npm -->\n      <g transform=\"translate(161.964397 239.238437)scale(0.1 -0.1)\">\n       <defs>\n        <path d=\"M 52 44.1875 \nQ 55.375 50.25 60.0625 53.125 \nQ 64.75 56 71.09375 56 \nQ 79.640625 56 84.28125 50.015625 \nQ 88.921875 44.046875 88.921875 33.015625 \nL 88.921875 0 \nL 79.890625 0 \nL 79.890625 32.71875 \nQ 79.890625 40.578125 77.09375 44.375 \nQ 74.3125 48.1875 68.609375 48.1875 \nQ 61.625 48.1875 57.5625 43.546875 \nQ 53.515625 38.921875 53.515625 30.90625 \nL 53.515625 0 \nL 44.484375 0 \nL 44.484375 32.71875 \nQ 44.484375 40.625 41.703125 44.40625 \nQ 38.921875 48.1875 33.109375 48.1875 \nQ 26.21875 48.1875 22.15625 43.53125 \nQ 18.109375 38.875 18.109375 30.90625 \nL 18.109375 0 \nL 9.078125 0 \nL 9.078125 54.6875 \nL 18.109375 54.6875 \nL 18.109375 46.1875 \nQ 21.1875 51.21875 25.484375 53.609375 \nQ 29.78125 56 35.6875 56 \nQ 41.65625 56 45.828125 52.96875 \nQ 50 49.953125 52 44.1875 \nz\n\" id=\"DejaVuSans-109\"/>\n       </defs>\n       <use xlink:href=\"#DejaVuSans-110\"/>\n       <use x=\"63.378906\" xlink:href=\"#DejaVuSans-112\"/>\n       <use x=\"126.855469\" xlink:href=\"#DejaVuSans-109\"/>\n      </g>\n     </g>\n    </g>\n    <g id=\"xtick_4\">\n     <g id=\"line2d_4\">\n      <g>\n       <use style=\"stroke:#000000;stroke-width:0.8;\" x=\"221.00625\" xlink:href=\"#m063d26f792\" y=\"224.64\"/>\n      </g>\n     </g>\n     <g id=\"text_4\">\n      <!-- Go -->\n      <g transform=\"translate(214.072656 239.238437)scale(0.1 -0.1)\">\n       <defs>\n        <path d=\"M 59.515625 10.40625 \nL 59.515625 29.984375 \nL 43.40625 29.984375 \nL 43.40625 38.09375 \nL 69.28125 38.09375 \nL 69.28125 6.78125 \nQ 63.578125 2.734375 56.6875 0.65625 \nQ 49.8125 -1.421875 42 -1.421875 \nQ 24.90625 -1.421875 15.25 8.5625 \nQ 5.609375 18.5625 5.609375 36.375 \nQ 5.609375 54.25 15.25 64.234375 \nQ 24.90625 74.21875 42 74.21875 \nQ 49.125 74.21875 55.546875 72.453125 \nQ 61.96875 70.703125 67.390625 67.28125 \nL 67.390625 56.78125 \nQ 61.921875 61.421875 55.765625 63.765625 \nQ 49.609375 66.109375 42.828125 66.109375 \nQ 29.4375 66.109375 22.71875 58.640625 \nQ 16.015625 51.171875 16.015625 36.375 \nQ 16.015625 21.625 22.71875 14.15625 \nQ 29.4375 6.6875 42.828125 6.6875 \nQ 48.046875 6.6875 52.140625 7.59375 \nQ 56.25 8.5 59.515625 10.40625 \nz\n\" id=\"DejaVuSans-71\"/>\n        <path d=\"M 30.609375 48.390625 \nQ 23.390625 48.390625 19.1875 42.75 \nQ 14.984375 37.109375 14.984375 27.296875 \nQ 14.984375 17.484375 19.15625 11.84375 \nQ 23.34375 6.203125 30.609375 6.203125 \nQ 37.796875 6.203125 41.984375 11.859375 \nQ 46.1875 17.53125 46.1875 27.296875 \nQ 46.1875 37.015625 41.984375 42.703125 \nQ 37.796875 48.390625 30.609375 48.390625 \nz\nM 30.609375 56 \nQ 42.328125 56 49.015625 48.375 \nQ 55.71875 40.765625 55.71875 27.296875 \nQ 55.71875 13.875 49.015625 6.21875 \nQ 42.328125 -1.421875 30.609375 -1.421875 \nQ 18.84375 -1.421875 12.171875 6.21875 \nQ 5.515625 13.875 5.515625 27.296875 \nQ 5.515625 40.765625 12.171875 48.375 \nQ 18.84375 56 30.609375 56 \nz\n\" id=\"DejaVuSans-111\"/>\n       </defs>\n       <use xlink:href=\"#DejaVuSans-71\"/>\n       <use x=\"77.490234\" xlink:href=\"#DejaVuSans-111\"/>\n      </g>\n     </g>\n    </g>\n    <g id=\"xtick_5\">\n     <g id=\"line2d_5\">\n      <g>\n       <use style=\"stroke:#000000;stroke-width:0.8;\" x=\"268.834821\" xlink:href=\"#m063d26f792\" y=\"224.64\"/>\n      </g>\n     </g>\n     <g id=\"text_5\">\n      <!-- Composer -->\n      <g transform=\"translate(243.443415 239.238437)scale(0.1 -0.1)\">\n       <defs>\n        <path d=\"M 64.40625 67.28125 \nL 64.40625 56.890625 \nQ 59.421875 61.53125 53.78125 63.8125 \nQ 48.140625 66.109375 41.796875 66.109375 \nQ 29.296875 66.109375 22.65625 58.46875 \nQ 16.015625 50.828125 16.015625 36.375 \nQ 16.015625 21.96875 22.65625 14.328125 \nQ 29.296875 6.6875 41.796875 6.6875 \nQ 48.140625 6.6875 53.78125 8.984375 \nQ 59.421875 11.28125 64.40625 15.921875 \nL 64.40625 5.609375 \nQ 59.234375 2.09375 53.4375 0.328125 \nQ 47.65625 -1.421875 41.21875 -1.421875 \nQ 24.65625 -1.421875 15.125 8.703125 \nQ 5.609375 18.84375 5.609375 36.375 \nQ 5.609375 53.953125 15.125 64.078125 \nQ 24.65625 74.21875 41.21875 74.21875 \nQ 47.75 74.21875 53.53125 72.484375 \nQ 59.328125 70.75 64.40625 67.28125 \nz\n\" id=\"DejaVuSans-67\"/>\n        <path d=\"M 44.28125 53.078125 \nL 44.28125 44.578125 \nQ 40.484375 46.53125 36.375 47.5 \nQ 32.28125 48.484375 27.875 48.484375 \nQ 21.1875 48.484375 17.84375 46.4375 \nQ 14.5 44.390625 14.5 40.28125 \nQ 14.5 37.15625 16.890625 35.375 \nQ 19.28125 33.59375 26.515625 31.984375 \nL 29.59375 31.296875 \nQ 39.15625 29.25 43.1875 25.515625 \nQ 47.21875 21.78125 47.21875 15.09375 \nQ 47.21875 7.46875 41.1875 3.015625 \nQ 35.15625 -1.421875 24.609375 -1.421875 \nQ 20.21875 -1.421875 15.453125 -0.5625 \nQ 10.6875 0.296875 5.421875 2 \nL 5.421875 11.28125 \nQ 10.40625 8.6875 15.234375 7.390625 \nQ 20.0625 6.109375 24.8125 6.109375 \nQ 31.15625 6.109375 34.5625 8.28125 \nQ 37.984375 10.453125 37.984375 14.40625 \nQ 37.984375 18.0625 35.515625 20.015625 \nQ 33.0625 21.96875 24.703125 23.78125 \nL 21.578125 24.515625 \nQ 13.234375 26.265625 9.515625 29.90625 \nQ 5.8125 33.546875 5.8125 39.890625 \nQ 5.8125 47.609375 11.28125 51.796875 \nQ 16.75 56 26.8125 56 \nQ 31.78125 56 36.171875 55.265625 \nQ 40.578125 54.546875 44.28125 53.078125 \nz\n\" id=\"DejaVuSans-115\"/>\n        <path d=\"M 41.109375 46.296875 \nQ 39.59375 47.171875 37.8125 47.578125 \nQ 36.03125 48 33.890625 48 \nQ 26.265625 48 22.1875 43.046875 \nQ 18.109375 38.09375 18.109375 28.8125 \nL 18.109375 0 \nL 9.078125 0 \nL 9.078125 54.6875 \nL 18.109375 54.6875 \nL 18.109375 46.1875 \nQ 20.953125 51.171875 25.484375 53.578125 \nQ 30.03125 56 36.53125 56 \nQ 37.453125 56 38.578125 55.875 \nQ 39.703125 55.765625 41.0625 55.515625 \nz\n\" id=\"DejaVuSans-114\"/>\n       </defs>\n       <use xlink:href=\"#DejaVuSans-67\"/>\n       <use x=\"69.824219\" xlink:href=\"#DejaVuSans-111\"/>\n       <use x=\"131.005859\" xlink:href=\"#DejaVuSans-109\"/>\n       <use x=\"228.417969\" xlink:href=\"#DejaVuSans-112\"/>\n       <use x=\"291.894531\" xlink:href=\"#DejaVuSans-111\"/>\n       <use x=\"353.076172\" xlink:href=\"#DejaVuSans-115\"/>\n       <use x=\"405.175781\" xlink:href=\"#DejaVuSans-101\"/>\n       <use x=\"466.699219\" xlink:href=\"#DejaVuSans-114\"/>\n      </g>\n     </g>\n    </g>\n    <g id=\"xtick_6\">\n     <g id=\"line2d_6\">\n      <g>\n       <use style=\"stroke:#000000;stroke-width:0.8;\" x=\"316.663393\" xlink:href=\"#m063d26f792\" y=\"224.64\"/>\n      </g>\n     </g>\n     <g id=\"text_6\">\n      <!-- RubyGems -->\n      <g transform=\"translate(289.686049 239.238437)scale(0.1 -0.1)\">\n       <defs>\n        <path d=\"M 44.390625 34.1875 \nQ 47.5625 33.109375 50.5625 29.59375 \nQ 53.5625 26.078125 56.59375 19.921875 \nL 66.609375 0 \nL 56 0 \nL 46.6875 18.703125 \nQ 43.0625 26.03125 39.671875 28.421875 \nQ 36.28125 30.8125 30.421875 30.8125 \nL 19.671875 30.8125 \nL 19.671875 0 \nL 9.8125 0 \nL 9.8125 72.90625 \nL 32.078125 72.90625 \nQ 44.578125 72.90625 50.734375 67.671875 \nQ 56.890625 62.453125 56.890625 51.90625 \nQ 56.890625 45.015625 53.6875 40.46875 \nQ 50.484375 35.9375 44.390625 34.1875 \nz\nM 19.671875 64.796875 \nL 19.671875 38.921875 \nL 32.078125 38.921875 \nQ 39.203125 38.921875 42.84375 42.21875 \nQ 46.484375 45.515625 46.484375 51.90625 \nQ 46.484375 58.296875 42.84375 61.546875 \nQ 39.203125 64.796875 32.078125 64.796875 \nz\n\" id=\"DejaVuSans-82\"/>\n        <path d=\"M 8.5 21.578125 \nL 8.5 54.6875 \nL 17.484375 54.6875 \nL 17.484375 21.921875 \nQ 17.484375 14.15625 20.5 10.265625 \nQ 23.53125 6.390625 29.59375 6.390625 \nQ 36.859375 6.390625 41.078125 11.03125 \nQ 45.3125 15.671875 45.3125 23.6875 \nL 45.3125 54.6875 \nL 54.296875 54.6875 \nL 54.296875 0 \nL 45.3125 0 \nL 45.3125 8.40625 \nQ 42.046875 3.421875 37.71875 1 \nQ 33.40625 -1.421875 27.6875 -1.421875 \nQ 18.265625 -1.421875 13.375 4.4375 \nQ 8.5 10.296875 8.5 21.578125 \nz\nM 31.109375 56 \nz\n\" id=\"DejaVuSans-117\"/>\n        <path d=\"M 48.6875 27.296875 \nQ 48.6875 37.203125 44.609375 42.84375 \nQ 40.53125 48.484375 33.40625 48.484375 \nQ 26.265625 48.484375 22.1875 42.84375 \nQ 18.109375 37.203125 18.109375 27.296875 \nQ 18.109375 17.390625 22.1875 11.75 \nQ 26.265625 6.109375 33.40625 6.109375 \nQ 40.53125 6.109375 44.609375 11.75 \nQ 48.6875 17.390625 48.6875 27.296875 \nz\nM 18.109375 46.390625 \nQ 20.953125 51.265625 25.265625 53.625 \nQ 29.59375 56 35.59375 56 \nQ 45.5625 56 51.78125 48.09375 \nQ 58.015625 40.1875 58.015625 27.296875 \nQ 58.015625 14.40625 51.78125 6.484375 \nQ 45.5625 -1.421875 35.59375 -1.421875 \nQ 29.59375 -1.421875 25.265625 0.953125 \nQ 20.953125 3.328125 18.109375 8.203125 \nL 18.109375 0 \nL 9.078125 0 \nL 9.078125 75.984375 \nL 18.109375 75.984375 \nz\n\" id=\"DejaVuSans-98\"/>\n        <path d=\"M 32.171875 -5.078125 \nQ 28.375 -14.84375 24.75 -17.8125 \nQ 21.140625 -20.796875 15.09375 -20.796875 \nL 7.90625 -20.796875 \nL 7.90625 -13.28125 \nL 13.1875 -13.28125 \nQ 16.890625 -13.28125 18.9375 -11.515625 \nQ 21 -9.765625 23.484375 -3.21875 \nL 25.09375 0.875 \nL 2.984375 54.6875 \nL 12.5 54.6875 \nL 29.59375 11.921875 \nL 46.6875 54.6875 \nL 56.203125 54.6875 \nz\n\" id=\"DejaVuSans-121\"/>\n       </defs>\n       <use xlink:href=\"#DejaVuSans-82\"/>\n       <use x=\"64.982422\" xlink:href=\"#DejaVuSans-117\"/>\n       <use x=\"128.361328\" xlink:href=\"#DejaVuSans-98\"/>\n       <use x=\"191.837891\" xlink:href=\"#DejaVuSans-121\"/>\n       <use x=\"251.017578\" xlink:href=\"#DejaVuSans-71\"/>\n       <use x=\"328.507812\" xlink:href=\"#DejaVuSans-101\"/>\n       <use x=\"390.03125\" xlink:href=\"#DejaVuSans-109\"/>\n       <use x=\"487.443359\" xlink:href=\"#DejaVuSans-115\"/>\n      </g>\n     </g>\n    </g>\n    <g id=\"xtick_7\">\n     <g id=\"line2d_7\">\n      <g>\n       <use style=\"stroke:#000000;stroke-width:0.8;\" x=\"364.491964\" xlink:href=\"#m063d26f792\" y=\"224.64\"/>\n      </g>\n     </g>\n     <g id=\"text_7\">\n      <!-- NuGet -->\n      <g transform=\"translate(348.671652 239.238437)scale(0.1 -0.1)\">\n       <defs>\n        <path d=\"M 9.8125 72.90625 \nL 23.09375 72.90625 \nL 55.421875 11.921875 \nL 55.421875 72.90625 \nL 64.984375 72.90625 \nL 64.984375 0 \nL 51.703125 0 \nL 19.390625 60.984375 \nL 19.390625 0 \nL 9.8125 0 \nz\n\" id=\"DejaVuSans-78\"/>\n        <path d=\"M 18.3125 70.21875 \nL 18.3125 54.6875 \nL 36.8125 54.6875 \nL 36.8125 47.703125 \nL 18.3125 47.703125 \nL 18.3125 18.015625 \nQ 18.3125 11.328125 20.140625 9.421875 \nQ 21.96875 7.515625 27.59375 7.515625 \nL 36.8125 7.515625 \nL 36.8125 0 \nL 27.59375 0 \nQ 17.1875 0 13.234375 3.875 \nQ 9.28125 7.765625 9.28125 18.015625 \nL 9.28125 47.703125 \nL 2.6875 47.703125 \nL 2.6875 54.6875 \nL 9.28125 54.6875 \nL 9.28125 70.21875 \nz\n\" id=\"DejaVuSans-116\"/>\n       </defs>\n       <use xlink:href=\"#DejaVuSans-78\"/>\n       <use x=\"74.804688\" xlink:href=\"#DejaVuSans-117\"/>\n       <use x=\"138.183594\" xlink:href=\"#DejaVuSans-71\"/>\n       <use x=\"215.673828\" xlink:href=\"#DejaVuSans-101\"/>\n       <use x=\"277.197266\" xlink:href=\"#DejaVuSans-116\"/>\n      </g>\n     </g>\n    </g>\n    <g id=\"text_8\">\n     <!-- ecosystem -->\n     <g transform=\"translate(194.045313 252.916562)scale(0.1 -0.1)\">\n      <defs>\n       <path d=\"M 48.78125 52.59375 \nL 48.78125 44.1875 \nQ 44.96875 46.296875 41.140625 47.34375 \nQ 37.3125 48.390625 33.40625 48.390625 \nQ 24.65625 48.390625 19.8125 42.84375 \nQ 14.984375 37.3125 14.984375 27.296875 \nQ 14.984375 17.28125 19.8125 11.734375 \nQ 24.65625 6.203125 33.40625 6.203125 \nQ 37.3125 6.203125 41.140625 7.25 \nQ 44.96875 8.296875 48.78125 10.40625 \nL 48.78125 2.09375 \nQ 45.015625 0.34375 40.984375 -0.53125 \nQ 36.96875 -1.421875 32.421875 -1.421875 \nQ 20.0625 -1.421875 12.78125 6.34375 \nQ 5.515625 14.109375 5.515625 27.296875 \nQ 5.515625 40.671875 12.859375 48.328125 \nQ 20.21875 56 33.015625 56 \nQ 37.15625 56 41.109375 55.140625 \nQ 45.0625 54.296875 48.78125 52.59375 \nz\n\" id=\"DejaVuSans-99\"/>\n      </defs>\n      <use xlink:href=\"#DejaVuSans-101\"/>\n      <use x=\"61.523438\" xlink:href=\"#DejaVuSans-99\"/>\n      <use x=\"116.503906\" xlink:href=\"#DejaVuSans-111\"/>\n      <use x=\"177.685547\" xlink:href=\"#DejaVuSans-115\"/>\n      <use x=\"229.785156\" xlink:href=\"#DejaVuSans-121\"/>\n      <use x=\"288.964844\" xlink:href=\"#DejaVuSans-115\"/>\n      <use x=\"341.064453\" xlink:href=\"#DejaVuSans-116\"/>\n      <use x=\"380.273438\" xlink:href=\"#DejaVuSans-101\"/>\n      <use x=\"441.796875\" xlink:href=\"#DejaVuSans-109\"/>\n     </g>\n    </g>\n   </g>\n   <g id=\"matplotlib.axis_2\">\n    <g id=\"ytick_1\">\n     <g id=\"line2d_8\">\n      <defs>\n       <path d=\"M 0 0 \nL -3.5 0 \n\" id=\"m456712721e\" style=\"stroke:#000000;stroke-width:0.8;\"/>\n      </defs>\n      <g>\n       <use style=\"stroke:#000000;stroke-width:0.8;\" x=\"53.60625\" xlink:href=\"#m456712721e\" y=\"214.756364\"/>\n      </g>\n     </g>\n     <g id=\"text_9\">\n      <!-- 0 -->\n      <g transform=\"translate(40.24375 218.555582)scale(0.1 -0.1)\">\n       <defs>\n        <path d=\"M 31.78125 66.40625 \nQ 24.171875 66.40625 20.328125 58.90625 \nQ 16.5 51.421875 16.5 36.375 \nQ 16.5 21.390625 20.328125 13.890625 \nQ 24.171875 6.390625 31.78125 6.390625 \nQ 39.453125 6.390625 43.28125 13.890625 \nQ 47.125 21.390625 47.125 36.375 \nQ 47.125 51.421875 43.28125 58.90625 \nQ 39.453125 66.40625 31.78125 66.40625 \nz\nM 31.78125 74.21875 \nQ 44.046875 74.21875 50.515625 64.515625 \nQ 56.984375 54.828125 56.984375 36.375 \nQ 56.984375 17.96875 50.515625 8.265625 \nQ 44.046875 -1.421875 31.78125 -1.421875 \nQ 19.53125 -1.421875 13.0625 8.265625 \nQ 6.59375 17.96875 6.59375 36.375 \nQ 6.59375 54.828125 13.0625 64.515625 \nQ 19.53125 74.21875 31.78125 74.21875 \nz\n\" id=\"DejaVuSans-48\"/>\n       </defs>\n       <use xlink:href=\"#DejaVuSans-48\"/>\n      </g>\n     </g>\n    </g>\n    <g id=\"ytick_2\">\n     <g id=\"line2d_9\">\n      <g>\n       <use style=\"stroke:#000000;stroke-width:0.8;\" x=\"53.60625\" xlink:href=\"#m456712721e\" y=\"172.929718\"/>\n      </g>\n     </g>\n     <g id=\"text_10\">\n      <!-- 500 -->\n      <g transform=\"translate(27.51875 176.728937)scale(0.1 -0.1)\">\n       <defs>\n        <path d=\"M 10.796875 72.90625 \nL 49.515625 72.90625 \nL 49.515625 64.59375 \nL 19.828125 64.59375 \nL 19.828125 46.734375 \nQ 21.96875 47.46875 24.109375 47.828125 \nQ 26.265625 48.1875 28.421875 48.1875 \nQ 40.625 48.1875 47.75 41.5 \nQ 54.890625 34.8125 54.890625 23.390625 \nQ 54.890625 11.625 47.5625 5.09375 \nQ 40.234375 -1.421875 26.90625 -1.421875 \nQ 22.3125 -1.421875 17.546875 -0.640625 \nQ 12.796875 0.140625 7.71875 1.703125 \nL 7.71875 11.625 \nQ 12.109375 9.234375 16.796875 8.0625 \nQ 21.484375 6.890625 26.703125 6.890625 \nQ 35.15625 6.890625 40.078125 11.328125 \nQ 45.015625 15.765625 45.015625 23.390625 \nQ 45.015625 31 40.078125 35.4375 \nQ 35.15625 39.890625 26.703125 39.890625 \nQ 22.75 39.890625 18.8125 39.015625 \nQ 14.890625 38.140625 10.796875 36.28125 \nz\n\" id=\"DejaVuSans-53\"/>\n       </defs>\n       <use xlink:href=\"#DejaVuSans-53\"/>\n       <use x=\"63.623047\" xlink:href=\"#DejaVuSans-48\"/>\n       <use x=\"127.246094\" xlink:href=\"#DejaVuSans-48\"/>\n      </g>\n     </g>\n    </g>\n    <g id=\"ytick_3\">\n     <g id=\"line2d_10\">\n      <g>\n       <use style=\"stroke:#000000;stroke-width:0.8;\" x=\"53.60625\" xlink:href=\"#m456712721e\" y=\"131.103072\"/>\n      </g>\n     </g>\n     <g id=\"text_11\">\n      <!-- 1000 -->\n      <g transform=\"translate(21.15625 134.902291)scale(0.1 -0.1)\">\n       <defs>\n        <path d=\"M 12.40625 8.296875 \nL 28.515625 8.296875 \nL 28.515625 63.921875 \nL 10.984375 60.40625 \nL 10.984375 69.390625 \nL 28.421875 72.90625 \nL 38.28125 72.90625 \nL 38.28125 8.296875 \nL 54.390625 8.296875 \nL 54.390625 0 \nL 12.40625 0 \nz\n\" id=\"DejaVuSans-49\"/>\n       </defs>\n       <use xlink:href=\"#DejaVuSans-49\"/>\n       <use x=\"63.623047\" xlink:href=\"#DejaVuSans-48\"/>\n       <use x=\"127.246094\" xlink:href=\"#DejaVuSans-48\"/>\n       <use x=\"190.869141\" xlink:href=\"#DejaVuSans-48\"/>\n      </g>\n     </g>\n    </g>\n    <g id=\"ytick_4\">\n     <g id=\"line2d_11\">\n      <g>\n       <use style=\"stroke:#000000;stroke-width:0.8;\" x=\"53.60625\" xlink:href=\"#m456712721e\" y=\"89.276427\"/>\n      </g>\n     </g>\n     <g id=\"text_12\">\n      <!-- 1500 -->\n      <g transform=\"translate(21.15625 93.075645)scale(0.1 -0.1)\">\n       <use xlink:href=\"#DejaVuSans-49\"/>\n       <use x=\"63.623047\" xlink:href=\"#DejaVuSans-53\"/>\n       <use x=\"127.246094\" xlink:href=\"#DejaVuSans-48\"/>\n       <use x=\"190.869141\" xlink:href=\"#DejaVuSans-48\"/>\n      </g>\n     </g>\n    </g>\n    <g id=\"ytick_5\">\n     <g id=\"line2d_12\">\n      <g>\n       <use style=\"stroke:#000000;stroke-width:0.8;\" x=\"53.60625\" xlink:href=\"#m456712721e\" y=\"47.449781\"/>\n      </g>\n     </g>\n     <g id=\"text_13\">\n      <!-- 2000 -->\n      <g transform=\"translate(21.15625 51.249)scale(0.1 -0.1)\">\n       <defs>\n        <path d=\"M 19.1875 8.296875 \nL 53.609375 8.296875 \nL 53.609375 0 \nL 7.328125 0 \nL 7.328125 8.296875 \nQ 12.9375 14.109375 22.625 23.890625 \nQ 32.328125 33.6875 34.8125 36.53125 \nQ 39.546875 41.84375 41.421875 45.53125 \nQ 43.3125 49.21875 43.3125 52.78125 \nQ 43.3125 58.59375 39.234375 62.25 \nQ 35.15625 65.921875 28.609375 65.921875 \nQ 23.96875 65.921875 18.8125 64.3125 \nQ 13.671875 62.703125 7.8125 59.421875 \nL 7.8125 69.390625 \nQ 13.765625 71.78125 18.9375 73 \nQ 24.125 74.21875 28.421875 74.21875 \nQ 39.75 74.21875 46.484375 68.546875 \nQ 53.21875 62.890625 53.21875 53.421875 \nQ 53.21875 48.921875 51.53125 44.890625 \nQ 49.859375 40.875 45.40625 35.40625 \nQ 44.1875 33.984375 37.640625 27.21875 \nQ 31.109375 20.453125 19.1875 8.296875 \nz\n\" id=\"DejaVuSans-50\"/>\n       </defs>\n       <use xlink:href=\"#DejaVuSans-50\"/>\n       <use x=\"63.623047\" xlink:href=\"#DejaVuSans-48\"/>\n       <use x=\"127.246094\" xlink:href=\"#DejaVuSans-48\"/>\n       <use x=\"190.869141\" xlink:href=\"#DejaVuSans-48\"/>\n      </g>\n     </g>\n    </g>\n    <g id=\"text_14\">\n     <!-- fix_to_release_delay -->\n     <g transform=\"translate(14.798438 166.441875)rotate(-90)scale(0.1 -0.1)\">\n      <defs>\n       <path d=\"M 37.109375 75.984375 \nL 37.109375 68.5 \nL 28.515625 68.5 \nQ 23.6875 68.5 21.796875 66.546875 \nQ 19.921875 64.59375 19.921875 59.515625 \nL 19.921875 54.6875 \nL 34.71875 54.6875 \nL 34.71875 47.703125 \nL 19.921875 47.703125 \nL 19.921875 0 \nL 10.890625 0 \nL 10.890625 47.703125 \nL 2.296875 47.703125 \nL 2.296875 54.6875 \nL 10.890625 54.6875 \nL 10.890625 58.5 \nQ 10.890625 67.625 15.140625 71.796875 \nQ 19.390625 75.984375 28.609375 75.984375 \nz\n\" id=\"DejaVuSans-102\"/>\n       <path d=\"M 54.890625 54.6875 \nL 35.109375 28.078125 \nL 55.90625 0 \nL 45.3125 0 \nL 29.390625 21.484375 \nL 13.484375 0 \nL 2.875 0 \nL 24.125 28.609375 \nL 4.6875 54.6875 \nL 15.28125 54.6875 \nL 29.78125 35.203125 \nL 44.28125 54.6875 \nz\n\" id=\"DejaVuSans-120\"/>\n       <path d=\"M 50.984375 -16.609375 \nL 50.984375 -23.578125 \nL -0.984375 -23.578125 \nL -0.984375 -16.609375 \nz\n\" id=\"DejaVuSans-95\"/>\n       <path d=\"M 9.421875 75.984375 \nL 18.40625 75.984375 \nL 18.40625 0 \nL 9.421875 0 \nz\n\" id=\"DejaVuSans-108\"/>\n       <path d=\"M 45.40625 46.390625 \nL 45.40625 75.984375 \nL 54.390625 75.984375 \nL 54.390625 0 \nL 45.40625 0 \nL 45.40625 8.203125 \nQ 42.578125 3.328125 38.25 0.953125 \nQ 33.9375 -1.421875 27.875 -1.421875 \nQ 17.96875 -1.421875 11.734375 6.484375 \nQ 5.515625 14.40625 5.515625 27.296875 \nQ 5.515625 40.1875 11.734375 48.09375 \nQ 17.96875 56 27.875 56 \nQ 33.9375 56 38.25 53.625 \nQ 42.578125 51.265625 45.40625 46.390625 \nz\nM 14.796875 27.296875 \nQ 14.796875 17.390625 18.875 11.75 \nQ 22.953125 6.109375 30.078125 6.109375 \nQ 37.203125 6.109375 41.296875 11.75 \nQ 45.40625 17.390625 45.40625 27.296875 \nQ 45.40625 37.203125 41.296875 42.84375 \nQ 37.203125 48.484375 30.078125 48.484375 \nQ 22.953125 48.484375 18.875 42.84375 \nQ 14.796875 37.203125 14.796875 27.296875 \nz\n\" id=\"DejaVuSans-100\"/>\n      </defs>\n      <use xlink:href=\"#DejaVuSans-102\"/>\n      <use x=\"35.205078\" xlink:href=\"#DejaVuSans-105\"/>\n      <use x=\"62.988281\" xlink:href=\"#DejaVuSans-120\"/>\n      <use x=\"122.167969\" xlink:href=\"#DejaVuSans-95\"/>\n      <use x=\"172.167969\" xlink:href=\"#DejaVuSans-116\"/>\n      <use x=\"211.376953\" xlink:href=\"#DejaVuSans-111\"/>\n      <use x=\"272.558594\" xlink:href=\"#DejaVuSans-95\"/>\n      <use x=\"322.558594\" xlink:href=\"#DejaVuSans-114\"/>\n      <use x=\"361.421875\" xlink:href=\"#DejaVuSans-101\"/>\n      <use x=\"422.945312\" xlink:href=\"#DejaVuSans-108\"/>\n      <use x=\"450.728516\" xlink:href=\"#DejaVuSans-101\"/>\n      <use x=\"512.251953\" xlink:href=\"#DejaVuSans-97\"/>\n      <use x=\"573.53125\" xlink:href=\"#DejaVuSans-115\"/>\n      <use x=\"625.630859\" xlink:href=\"#DejaVuSans-101\"/>\n      <use x=\"687.154297\" xlink:href=\"#DejaVuSans-95\"/>\n      <use x=\"737.154297\" xlink:href=\"#DejaVuSans-100\"/>\n      <use x=\"800.630859\" xlink:href=\"#DejaVuSans-101\"/>\n      <use x=\"862.154297\" xlink:href=\"#DejaVuSans-108\"/>\n      <use x=\"889.9375\" xlink:href=\"#DejaVuSans-97\"/>\n      <use x=\"951.216797\" xlink:href=\"#DejaVuSans-121\"/>\n     </g>\n    </g>\n   </g>\n   <g id=\"line2d_13\">\n    <path clip-path=\"url(#p671b01a188)\" d=\"M 77.520536 214.756364 \nL 77.520536 214.756364 \n\" style=\"fill:none;stroke:#3d3d3d;stroke-linecap:square;stroke-width:1.5;\"/>\n   </g>\n   <g id=\"line2d_14\">\n    <path clip-path=\"url(#p671b01a188)\" d=\"M 77.520536 213.836177 \nL 77.520536 212.497725 \n\" style=\"fill:none;stroke:#3d3d3d;stroke-linecap:square;stroke-width:1.5;\"/>\n   </g>\n   <g id=\"line2d_15\">\n    <path clip-path=\"url(#p671b01a188)\" d=\"M 67.954821 214.756364 \nL 87.08625 214.756364 \n\" style=\"fill:none;stroke:#3d3d3d;stroke-linecap:square;stroke-width:1.5;\"/>\n   </g>\n   <g id=\"line2d_16\">\n    <path clip-path=\"url(#p671b01a188)\" d=\"M 67.954821 212.497725 \nL 87.08625 212.497725 \n\" style=\"fill:none;stroke:#3d3d3d;stroke-linecap:square;stroke-width:1.5;\"/>\n   </g>\n   <g id=\"line2d_17\">\n    <defs>\n     <path d=\"M -0 3.535534 \nL 2.12132 0 \nL -0 -3.535534 \nL -2.12132 -0 \nz\n\" id=\"m8e3e1926ef\" style=\"stroke:#3d3d3d;stroke-linejoin:miter;\"/>\n    </defs>\n    <g clip-path=\"url(#p671b01a188)\">\n     <use style=\"fill:#3d3d3d;stroke:#3d3d3d;stroke-linejoin:miter;\" x=\"77.520536\" xlink:href=\"#m8e3e1926ef\" y=\"212.414071\"/>\n     <use style=\"fill:#3d3d3d;stroke:#3d3d3d;stroke-linejoin:miter;\" x=\"77.520536\" xlink:href=\"#m8e3e1926ef\" y=\"211.493885\"/>\n     <use style=\"fill:#3d3d3d;stroke:#3d3d3d;stroke-linejoin:miter;\" x=\"77.520536\" xlink:href=\"#m8e3e1926ef\" y=\"211.493885\"/>\n     <use style=\"fill:#3d3d3d;stroke:#3d3d3d;stroke-linejoin:miter;\" x=\"77.520536\" xlink:href=\"#m8e3e1926ef\" y=\"211.493885\"/>\n     <use style=\"fill:#3d3d3d;stroke:#3d3d3d;stroke-linejoin:miter;\" x=\"77.520536\" xlink:href=\"#m8e3e1926ef\" y=\"211.493885\"/>\n     <use style=\"fill:#3d3d3d;stroke:#3d3d3d;stroke-linejoin:miter;\" x=\"77.520536\" xlink:href=\"#m8e3e1926ef\" y=\"211.493885\"/>\n     <use style=\"fill:#3d3d3d;stroke:#3d3d3d;stroke-linejoin:miter;\" x=\"77.520536\" xlink:href=\"#m8e3e1926ef\" y=\"211.493885\"/>\n     <use style=\"fill:#3d3d3d;stroke:#3d3d3d;stroke-linejoin:miter;\" x=\"77.520536\" xlink:href=\"#m8e3e1926ef\" y=\"212.414071\"/>\n     <use style=\"fill:#3d3d3d;stroke:#3d3d3d;stroke-linejoin:miter;\" x=\"77.520536\" xlink:href=\"#m8e3e1926ef\" y=\"194.763227\"/>\n     <use style=\"fill:#3d3d3d;stroke:#3d3d3d;stroke-linejoin:miter;\" x=\"77.520536\" xlink:href=\"#m8e3e1926ef\" y=\"206.474688\"/>\n     <use style=\"fill:#3d3d3d;stroke:#3d3d3d;stroke-linejoin:miter;\" x=\"77.520536\" xlink:href=\"#m8e3e1926ef\" y=\"211.577539\"/>\n     <use style=\"fill:#3d3d3d;stroke:#3d3d3d;stroke-linejoin:miter;\" x=\"77.520536\" xlink:href=\"#m8e3e1926ef\" y=\"208.81698\"/>\n     <use style=\"fill:#3d3d3d;stroke:#3d3d3d;stroke-linejoin:miter;\" x=\"77.520536\" xlink:href=\"#m8e3e1926ef\" y=\"204.467009\"/>\n     <use style=\"fill:#3d3d3d;stroke:#3d3d3d;stroke-linejoin:miter;\" x=\"77.520536\" xlink:href=\"#m8e3e1926ef\" y=\"208.398713\"/>\n     <use style=\"fill:#3d3d3d;stroke:#3d3d3d;stroke-linejoin:miter;\" x=\"77.520536\" xlink:href=\"#m8e3e1926ef\" y=\"211.744845\"/>\n     <use style=\"fill:#3d3d3d;stroke:#3d3d3d;stroke-linejoin:miter;\" x=\"77.520536\" xlink:href=\"#m8e3e1926ef\" y=\"165.902842\"/>\n     <use style=\"fill:#3d3d3d;stroke:#3d3d3d;stroke-linejoin:miter;\" x=\"77.520536\" xlink:href=\"#m8e3e1926ef\" y=\"209.904473\"/>\n     <use style=\"fill:#3d3d3d;stroke:#3d3d3d;stroke-linejoin:miter;\" x=\"77.520536\" xlink:href=\"#m8e3e1926ef\" y=\"210.155433\"/>\n     <use style=\"fill:#3d3d3d;stroke:#3d3d3d;stroke-linejoin:miter;\" x=\"77.520536\" xlink:href=\"#m8e3e1926ef\" y=\"210.908312\"/>\n     <use style=\"fill:#3d3d3d;stroke:#3d3d3d;stroke-linejoin:miter;\" x=\"77.520536\" xlink:href=\"#m8e3e1926ef\" y=\"200.200691\"/>\n     <use style=\"fill:#3d3d3d;stroke:#3d3d3d;stroke-linejoin:miter;\" x=\"77.520536\" xlink:href=\"#m8e3e1926ef\" y=\"212.079458\"/>\n     <use style=\"fill:#3d3d3d;stroke:#3d3d3d;stroke-linejoin:miter;\" x=\"77.520536\" xlink:href=\"#m8e3e1926ef\" y=\"191.417095\"/>\n     <use style=\"fill:#3d3d3d;stroke:#3d3d3d;stroke-linejoin:miter;\" x=\"77.520536\" xlink:href=\"#m8e3e1926ef\" y=\"150.510636\"/>\n     <use style=\"fill:#3d3d3d;stroke:#3d3d3d;stroke-linejoin:miter;\" x=\"77.520536\" xlink:href=\"#m8e3e1926ef\" y=\"165.819188\"/>\n     <use style=\"fill:#3d3d3d;stroke:#3d3d3d;stroke-linejoin:miter;\" x=\"77.520536\" xlink:href=\"#m8e3e1926ef\" y=\"165.819188\"/>\n     <use style=\"fill:#3d3d3d;stroke:#3d3d3d;stroke-linejoin:miter;\" x=\"77.520536\" xlink:href=\"#m8e3e1926ef\" y=\"201.120877\"/>\n     <use style=\"fill:#3d3d3d;stroke:#3d3d3d;stroke-linejoin:miter;\" x=\"77.520536\" xlink:href=\"#m8e3e1926ef\" y=\"211.577539\"/>\n     <use style=\"fill:#3d3d3d;stroke:#3d3d3d;stroke-linejoin:miter;\" x=\"77.520536\" xlink:href=\"#m8e3e1926ef\" y=\"204.634315\"/>\n     <use style=\"fill:#3d3d3d;stroke:#3d3d3d;stroke-linejoin:miter;\" x=\"77.520536\" xlink:href=\"#m8e3e1926ef\" y=\"211.995805\"/>\n     <use style=\"fill:#3d3d3d;stroke:#3d3d3d;stroke-linejoin:miter;\" x=\"77.520536\" xlink:href=\"#m8e3e1926ef\" y=\"201.371837\"/>\n     <use style=\"fill:#3d3d3d;stroke:#3d3d3d;stroke-linejoin:miter;\" x=\"77.520536\" xlink:href=\"#m8e3e1926ef\" y=\"184.473872\"/>\n     <use style=\"fill:#3d3d3d;stroke:#3d3d3d;stroke-linejoin:miter;\" x=\"77.520536\" xlink:href=\"#m8e3e1926ef\" y=\"189.074803\"/>\n     <use style=\"fill:#3d3d3d;stroke:#3d3d3d;stroke-linejoin:miter;\" x=\"77.520536\" xlink:href=\"#m8e3e1926ef\" y=\"208.649673\"/>\n     <use style=\"fill:#3d3d3d;stroke:#3d3d3d;stroke-linejoin:miter;\" x=\"77.520536\" xlink:href=\"#m8e3e1926ef\" y=\"210.908312\"/>\n     <use style=\"fill:#3d3d3d;stroke:#3d3d3d;stroke-linejoin:miter;\" x=\"77.520536\" xlink:href=\"#m8e3e1926ef\" y=\"207.060261\"/>\n     <use style=\"fill:#3d3d3d;stroke:#3d3d3d;stroke-linejoin:miter;\" x=\"77.520536\" xlink:href=\"#m8e3e1926ef\" y=\"209.486206\"/>\n     <use style=\"fill:#3d3d3d;stroke:#3d3d3d;stroke-linejoin:miter;\" x=\"77.520536\" xlink:href=\"#m8e3e1926ef\" y=\"211.995805\"/>\n     <use style=\"fill:#3d3d3d;stroke:#3d3d3d;stroke-linejoin:miter;\" x=\"77.520536\" xlink:href=\"#m8e3e1926ef\" y=\"194.344961\"/>\n     <use style=\"fill:#3d3d3d;stroke:#3d3d3d;stroke-linejoin:miter;\" x=\"77.520536\" xlink:href=\"#m8e3e1926ef\" y=\"207.562181\"/>\n     <use style=\"fill:#3d3d3d;stroke:#3d3d3d;stroke-linejoin:miter;\" x=\"77.520536\" xlink:href=\"#m8e3e1926ef\" y=\"210.741006\"/>\n     <use style=\"fill:#3d3d3d;stroke:#3d3d3d;stroke-linejoin:miter;\" x=\"77.520536\" xlink:href=\"#m8e3e1926ef\" y=\"199.280505\"/>\n     <use style=\"fill:#3d3d3d;stroke:#3d3d3d;stroke-linejoin:miter;\" x=\"77.520536\" xlink:href=\"#m8e3e1926ef\" y=\"207.81314\"/>\n     <use style=\"fill:#3d3d3d;stroke:#3d3d3d;stroke-linejoin:miter;\" x=\"77.520536\" xlink:href=\"#m8e3e1926ef\" y=\"179.287368\"/>\n     <use style=\"fill:#3d3d3d;stroke:#3d3d3d;stroke-linejoin:miter;\" x=\"77.520536\" xlink:href=\"#m8e3e1926ef\" y=\"212.414071\"/>\n     <use style=\"fill:#3d3d3d;stroke:#3d3d3d;stroke-linejoin:miter;\" x=\"77.520536\" xlink:href=\"#m8e3e1926ef\" y=\"211.744845\"/>\n     <use style=\"fill:#3d3d3d;stroke:#3d3d3d;stroke-linejoin:miter;\" x=\"77.520536\" xlink:href=\"#m8e3e1926ef\" y=\"208.31506\"/>\n     <use style=\"fill:#3d3d3d;stroke:#3d3d3d;stroke-linejoin:miter;\" x=\"77.520536\" xlink:href=\"#m8e3e1926ef\" y=\"169.332626\"/>\n     <use style=\"fill:#3d3d3d;stroke:#3d3d3d;stroke-linejoin:miter;\" x=\"77.520536\" xlink:href=\"#m8e3e1926ef\" y=\"199.029545\"/>\n     <use style=\"fill:#3d3d3d;stroke:#3d3d3d;stroke-linejoin:miter;\" x=\"77.520536\" xlink:href=\"#m8e3e1926ef\" y=\"204.968929\"/>\n     <use style=\"fill:#3d3d3d;stroke:#3d3d3d;stroke-linejoin:miter;\" x=\"77.520536\" xlink:href=\"#m8e3e1926ef\" y=\"208.56602\"/>\n     <use style=\"fill:#3d3d3d;stroke:#3d3d3d;stroke-linejoin:miter;\" x=\"77.520536\" xlink:href=\"#m8e3e1926ef\" y=\"211.159272\"/>\n     <use style=\"fill:#3d3d3d;stroke:#3d3d3d;stroke-linejoin:miter;\" x=\"77.520536\" xlink:href=\"#m8e3e1926ef\" y=\"191.417095\"/>\n     <use style=\"fill:#3d3d3d;stroke:#3d3d3d;stroke-linejoin:miter;\" x=\"77.520536\" xlink:href=\"#m8e3e1926ef\" y=\"202.124717\"/>\n     <use style=\"fill:#3d3d3d;stroke:#3d3d3d;stroke-linejoin:miter;\" x=\"77.520536\" xlink:href=\"#m8e3e1926ef\" y=\"209.402553\"/>\n     <use style=\"fill:#3d3d3d;stroke:#3d3d3d;stroke-linejoin:miter;\" x=\"77.520536\" xlink:href=\"#m8e3e1926ef\" y=\"209.402553\"/>\n     <use style=\"fill:#3d3d3d;stroke:#3d3d3d;stroke-linejoin:miter;\" x=\"77.520536\" xlink:href=\"#m8e3e1926ef\" y=\"210.490046\"/>\n     <use style=\"fill:#3d3d3d;stroke:#3d3d3d;stroke-linejoin:miter;\" x=\"77.520536\" xlink:href=\"#m8e3e1926ef\" y=\"204.299702\"/>\n     <use style=\"fill:#3d3d3d;stroke:#3d3d3d;stroke-linejoin:miter;\" x=\"77.520536\" xlink:href=\"#m8e3e1926ef\" y=\"212.163112\"/>\n     <use style=\"fill:#3d3d3d;stroke:#3d3d3d;stroke-linejoin:miter;\" x=\"77.520536\" xlink:href=\"#m8e3e1926ef\" y=\"211.326579\"/>\n     <use style=\"fill:#3d3d3d;stroke:#3d3d3d;stroke-linejoin:miter;\" x=\"77.520536\" xlink:href=\"#m8e3e1926ef\" y=\"201.622797\"/>\n     <use style=\"fill:#3d3d3d;stroke:#3d3d3d;stroke-linejoin:miter;\" x=\"77.520536\" xlink:href=\"#m8e3e1926ef\" y=\"91.033146\"/>\n     <use style=\"fill:#3d3d3d;stroke:#3d3d3d;stroke-linejoin:miter;\" x=\"77.520536\" xlink:href=\"#m8e3e1926ef\" y=\"196.770906\"/>\n     <use style=\"fill:#3d3d3d;stroke:#3d3d3d;stroke-linejoin:miter;\" x=\"77.520536\" xlink:href=\"#m8e3e1926ef\" y=\"211.493885\"/>\n     <use style=\"fill:#3d3d3d;stroke:#3d3d3d;stroke-linejoin:miter;\" x=\"77.520536\" xlink:href=\"#m8e3e1926ef\" y=\"210.741006\"/>\n     <use style=\"fill:#3d3d3d;stroke:#3d3d3d;stroke-linejoin:miter;\" x=\"77.520536\" xlink:href=\"#m8e3e1926ef\" y=\"211.326579\"/>\n     <use style=\"fill:#3d3d3d;stroke:#3d3d3d;stroke-linejoin:miter;\" x=\"77.520536\" xlink:href=\"#m8e3e1926ef\" y=\"202.292023\"/>\n     <use style=\"fill:#3d3d3d;stroke:#3d3d3d;stroke-linejoin:miter;\" x=\"77.520536\" xlink:href=\"#m8e3e1926ef\" y=\"210.071779\"/>\n     <use style=\"fill:#3d3d3d;stroke:#3d3d3d;stroke-linejoin:miter;\" x=\"77.520536\" xlink:href=\"#m8e3e1926ef\" y=\"186.648858\"/>\n    </g>\n   </g>\n   <g id=\"line2d_18\">\n    <path clip-path=\"url(#p671b01a188)\" d=\"M 125.349107 214.589057 \nL 125.349107 214.756364 \n\" style=\"fill:none;stroke:#3d3d3d;stroke-linecap:square;stroke-width:1.5;\"/>\n   </g>\n   <g id=\"line2d_19\">\n    <path clip-path=\"url(#p671b01a188)\" d=\"M 125.349107 210.741006 \nL 125.349107 205.052582 \n\" style=\"fill:none;stroke:#3d3d3d;stroke-linecap:square;stroke-width:1.5;\"/>\n   </g>\n   <g id=\"line2d_20\">\n    <path clip-path=\"url(#p671b01a188)\" d=\"M 115.783393 214.756364 \nL 134.914821 214.756364 \n\" style=\"fill:none;stroke:#3d3d3d;stroke-linecap:square;stroke-width:1.5;\"/>\n   </g>\n   <g id=\"line2d_21\">\n    <path clip-path=\"url(#p671b01a188)\" d=\"M 115.783393 205.052582 \nL 134.914821 205.052582 \n\" style=\"fill:none;stroke:#3d3d3d;stroke-linecap:square;stroke-width:1.5;\"/>\n   </g>\n   <g id=\"line2d_22\">\n    <g clip-path=\"url(#p671b01a188)\">\n     <use style=\"fill:#3d3d3d;stroke:#3d3d3d;stroke-linejoin:miter;\" x=\"125.349107\" xlink:href=\"#m8e3e1926ef\" y=\"200.284344\"/>\n     <use style=\"fill:#3d3d3d;stroke:#3d3d3d;stroke-linejoin:miter;\" x=\"125.349107\" xlink:href=\"#m8e3e1926ef\" y=\"204.885275\"/>\n     <use style=\"fill:#3d3d3d;stroke:#3d3d3d;stroke-linejoin:miter;\" x=\"125.349107\" xlink:href=\"#m8e3e1926ef\" y=\"204.885275\"/>\n     <use style=\"fill:#3d3d3d;stroke:#3d3d3d;stroke-linejoin:miter;\" x=\"125.349107\" xlink:href=\"#m8e3e1926ef\" y=\"155.19522\"/>\n     <use style=\"fill:#3d3d3d;stroke:#3d3d3d;stroke-linejoin:miter;\" x=\"125.349107\" xlink:href=\"#m8e3e1926ef\" y=\"197.691092\"/>\n     <use style=\"fill:#3d3d3d;stroke:#3d3d3d;stroke-linejoin:miter;\" x=\"125.349107\" xlink:href=\"#m8e3e1926ef\" y=\"203.379516\"/>\n     <use style=\"fill:#3d3d3d;stroke:#3d3d3d;stroke-linejoin:miter;\" x=\"125.349107\" xlink:href=\"#m8e3e1926ef\" y=\"201.20453\"/>\n     <use style=\"fill:#3d3d3d;stroke:#3d3d3d;stroke-linejoin:miter;\" x=\"125.349107\" xlink:href=\"#m8e3e1926ef\" y=\"165.735535\"/>\n     <use style=\"fill:#3d3d3d;stroke:#3d3d3d;stroke-linejoin:miter;\" x=\"125.349107\" xlink:href=\"#m8e3e1926ef\" y=\"200.117038\"/>\n     <use style=\"fill:#3d3d3d;stroke:#3d3d3d;stroke-linejoin:miter;\" x=\"125.349107\" xlink:href=\"#m8e3e1926ef\" y=\"200.535304\"/>\n     <use style=\"fill:#3d3d3d;stroke:#3d3d3d;stroke-linejoin:miter;\" x=\"125.349107\" xlink:href=\"#m8e3e1926ef\" y=\"202.041063\"/>\n     <use style=\"fill:#3d3d3d;stroke:#3d3d3d;stroke-linejoin:miter;\" x=\"125.349107\" xlink:href=\"#m8e3e1926ef\" y=\"171.172999\"/>\n     <use style=\"fill:#3d3d3d;stroke:#3d3d3d;stroke-linejoin:miter;\" x=\"125.349107\" xlink:href=\"#m8e3e1926ef\" y=\"202.292023\"/>\n     <use style=\"fill:#3d3d3d;stroke:#3d3d3d;stroke-linejoin:miter;\" x=\"125.349107\" xlink:href=\"#m8e3e1926ef\" y=\"175.857583\"/>\n     <use style=\"fill:#3d3d3d;stroke:#3d3d3d;stroke-linejoin:miter;\" x=\"125.349107\" xlink:href=\"#m8e3e1926ef\" y=\"177.865262\"/>\n     <use style=\"fill:#3d3d3d;stroke:#3d3d3d;stroke-linejoin:miter;\" x=\"125.349107\" xlink:href=\"#m8e3e1926ef\" y=\"198.276665\"/>\n     <use style=\"fill:#3d3d3d;stroke:#3d3d3d;stroke-linejoin:miter;\" x=\"125.349107\" xlink:href=\"#m8e3e1926ef\" y=\"174.937397\"/>\n     <use style=\"fill:#3d3d3d;stroke:#3d3d3d;stroke-linejoin:miter;\" x=\"125.349107\" xlink:href=\"#m8e3e1926ef\" y=\"203.128556\"/>\n     <use style=\"fill:#3d3d3d;stroke:#3d3d3d;stroke-linejoin:miter;\" x=\"125.349107\" xlink:href=\"#m8e3e1926ef\" y=\"201.539144\"/>\n     <use style=\"fill:#3d3d3d;stroke:#3d3d3d;stroke-linejoin:miter;\" x=\"125.349107\" xlink:href=\"#m8e3e1926ef\" y=\"187.98731\"/>\n     <use style=\"fill:#3d3d3d;stroke:#3d3d3d;stroke-linejoin:miter;\" x=\"125.349107\" xlink:href=\"#m8e3e1926ef\" y=\"201.95741\"/>\n     <use style=\"fill:#3d3d3d;stroke:#3d3d3d;stroke-linejoin:miter;\" x=\"125.349107\" xlink:href=\"#m8e3e1926ef\" y=\"201.95741\"/>\n     <use style=\"fill:#3d3d3d;stroke:#3d3d3d;stroke-linejoin:miter;\" x=\"125.349107\" xlink:href=\"#m8e3e1926ef\" y=\"201.95741\"/>\n     <use style=\"fill:#3d3d3d;stroke:#3d3d3d;stroke-linejoin:miter;\" x=\"125.349107\" xlink:href=\"#m8e3e1926ef\" y=\"203.044903\"/>\n     <use style=\"fill:#3d3d3d;stroke:#3d3d3d;stroke-linejoin:miter;\" x=\"125.349107\" xlink:href=\"#m8e3e1926ef\" y=\"199.447811\"/>\n     <use style=\"fill:#3d3d3d;stroke:#3d3d3d;stroke-linejoin:miter;\" x=\"125.349107\" xlink:href=\"#m8e3e1926ef\" y=\"203.212209\"/>\n     <use style=\"fill:#3d3d3d;stroke:#3d3d3d;stroke-linejoin:miter;\" x=\"125.349107\" xlink:href=\"#m8e3e1926ef\" y=\"203.212209\"/>\n     <use style=\"fill:#3d3d3d;stroke:#3d3d3d;stroke-linejoin:miter;\" x=\"125.349107\" xlink:href=\"#m8e3e1926ef\" y=\"67.693878\"/>\n     <use style=\"fill:#3d3d3d;stroke:#3d3d3d;stroke-linejoin:miter;\" x=\"125.349107\" xlink:href=\"#m8e3e1926ef\" y=\"190.747869\"/>\n     <use style=\"fill:#3d3d3d;stroke:#3d3d3d;stroke-linejoin:miter;\" x=\"125.349107\" xlink:href=\"#m8e3e1926ef\" y=\"204.383356\"/>\n     <use style=\"fill:#3d3d3d;stroke:#3d3d3d;stroke-linejoin:miter;\" x=\"125.349107\" xlink:href=\"#m8e3e1926ef\" y=\"197.440132\"/>\n     <use style=\"fill:#3d3d3d;stroke:#3d3d3d;stroke-linejoin:miter;\" x=\"125.349107\" xlink:href=\"#m8e3e1926ef\" y=\"17.083636\"/>\n     <use style=\"fill:#3d3d3d;stroke:#3d3d3d;stroke-linejoin:miter;\" x=\"125.349107\" xlink:href=\"#m8e3e1926ef\" y=\"186.146938\"/>\n     <use style=\"fill:#3d3d3d;stroke:#3d3d3d;stroke-linejoin:miter;\" x=\"125.349107\" xlink:href=\"#m8e3e1926ef\" y=\"202.626636\"/>\n     <use style=\"fill:#3d3d3d;stroke:#3d3d3d;stroke-linejoin:miter;\" x=\"125.349107\" xlink:href=\"#m8e3e1926ef\" y=\"133.361711\"/>\n     <use style=\"fill:#3d3d3d;stroke:#3d3d3d;stroke-linejoin:miter;\" x=\"125.349107\" xlink:href=\"#m8e3e1926ef\" y=\"135.536697\"/>\n     <use style=\"fill:#3d3d3d;stroke:#3d3d3d;stroke-linejoin:miter;\" x=\"125.349107\" xlink:href=\"#m8e3e1926ef\" y=\"118.471425\"/>\n     <use style=\"fill:#3d3d3d;stroke:#3d3d3d;stroke-linejoin:miter;\" x=\"125.349107\" xlink:href=\"#m8e3e1926ef\" y=\"124.076196\"/>\n     <use style=\"fill:#3d3d3d;stroke:#3d3d3d;stroke-linejoin:miter;\" x=\"125.349107\" xlink:href=\"#m8e3e1926ef\" y=\"201.873757\"/>\n     <use style=\"fill:#3d3d3d;stroke:#3d3d3d;stroke-linejoin:miter;\" x=\"125.349107\" xlink:href=\"#m8e3e1926ef\" y=\"133.361711\"/>\n     <use style=\"fill:#3d3d3d;stroke:#3d3d3d;stroke-linejoin:miter;\" x=\"125.349107\" xlink:href=\"#m8e3e1926ef\" y=\"150.845249\"/>\n     <use style=\"fill:#3d3d3d;stroke:#3d3d3d;stroke-linejoin:miter;\" x=\"125.349107\" xlink:href=\"#m8e3e1926ef\" y=\"180.040248\"/>\n     <use style=\"fill:#3d3d3d;stroke:#3d3d3d;stroke-linejoin:miter;\" x=\"125.349107\" xlink:href=\"#m8e3e1926ef\" y=\"178.116222\"/>\n     <use style=\"fill:#3d3d3d;stroke:#3d3d3d;stroke-linejoin:miter;\" x=\"125.349107\" xlink:href=\"#m8e3e1926ef\" y=\"204.717969\"/>\n     <use style=\"fill:#3d3d3d;stroke:#3d3d3d;stroke-linejoin:miter;\" x=\"125.349107\" xlink:href=\"#m8e3e1926ef\" y=\"202.292023\"/>\n     <use style=\"fill:#3d3d3d;stroke:#3d3d3d;stroke-linejoin:miter;\" x=\"125.349107\" xlink:href=\"#m8e3e1926ef\" y=\"199.866078\"/>\n     <use style=\"fill:#3d3d3d;stroke:#3d3d3d;stroke-linejoin:miter;\" x=\"125.349107\" xlink:href=\"#m8e3e1926ef\" y=\"199.866078\"/>\n     <use style=\"fill:#3d3d3d;stroke:#3d3d3d;stroke-linejoin:miter;\" x=\"125.349107\" xlink:href=\"#m8e3e1926ef\" y=\"204.216049\"/>\n     <use style=\"fill:#3d3d3d;stroke:#3d3d3d;stroke-linejoin:miter;\" x=\"125.349107\" xlink:href=\"#m8e3e1926ef\" y=\"204.216049\"/>\n     <use style=\"fill:#3d3d3d;stroke:#3d3d3d;stroke-linejoin:miter;\" x=\"125.349107\" xlink:href=\"#m8e3e1926ef\" y=\"203.212209\"/>\n     <use style=\"fill:#3d3d3d;stroke:#3d3d3d;stroke-linejoin:miter;\" x=\"125.349107\" xlink:href=\"#m8e3e1926ef\" y=\"203.212209\"/>\n     <use style=\"fill:#3d3d3d;stroke:#3d3d3d;stroke-linejoin:miter;\" x=\"125.349107\" xlink:href=\"#m8e3e1926ef\" y=\"187.401737\"/>\n     <use style=\"fill:#3d3d3d;stroke:#3d3d3d;stroke-linejoin:miter;\" x=\"125.349107\" xlink:href=\"#m8e3e1926ef\" y=\"185.812325\"/>\n     <use style=\"fill:#3d3d3d;stroke:#3d3d3d;stroke-linejoin:miter;\" x=\"125.349107\" xlink:href=\"#m8e3e1926ef\" y=\"185.561365\"/>\n     <use style=\"fill:#3d3d3d;stroke:#3d3d3d;stroke-linejoin:miter;\" x=\"125.349107\" xlink:href=\"#m8e3e1926ef\" y=\"201.120877\"/>\n     <use style=\"fill:#3d3d3d;stroke:#3d3d3d;stroke-linejoin:miter;\" x=\"125.349107\" xlink:href=\"#m8e3e1926ef\" y=\"202.96125\"/>\n     <use style=\"fill:#3d3d3d;stroke:#3d3d3d;stroke-linejoin:miter;\" x=\"125.349107\" xlink:href=\"#m8e3e1926ef\" y=\"184.306566\"/>\n     <use style=\"fill:#3d3d3d;stroke:#3d3d3d;stroke-linejoin:miter;\" x=\"125.349107\" xlink:href=\"#m8e3e1926ef\" y=\"204.132396\"/>\n     <use style=\"fill:#3d3d3d;stroke:#3d3d3d;stroke-linejoin:miter;\" x=\"125.349107\" xlink:href=\"#m8e3e1926ef\" y=\"203.044903\"/>\n     <use style=\"fill:#3d3d3d;stroke:#3d3d3d;stroke-linejoin:miter;\" x=\"125.349107\" xlink:href=\"#m8e3e1926ef\" y=\"202.20837\"/>\n     <use style=\"fill:#3d3d3d;stroke:#3d3d3d;stroke-linejoin:miter;\" x=\"125.349107\" xlink:href=\"#m8e3e1926ef\" y=\"201.037224\"/>\n     <use style=\"fill:#3d3d3d;stroke:#3d3d3d;stroke-linejoin:miter;\" x=\"125.349107\" xlink:href=\"#m8e3e1926ef\" y=\"192.922855\"/>\n     <use style=\"fill:#3d3d3d;stroke:#3d3d3d;stroke-linejoin:miter;\" x=\"125.349107\" xlink:href=\"#m8e3e1926ef\" y=\"188.405577\"/>\n     <use style=\"fill:#3d3d3d;stroke:#3d3d3d;stroke-linejoin:miter;\" x=\"125.349107\" xlink:href=\"#m8e3e1926ef\" y=\"199.615118\"/>\n     <use style=\"fill:#3d3d3d;stroke:#3d3d3d;stroke-linejoin:miter;\" x=\"125.349107\" xlink:href=\"#m8e3e1926ef\" y=\"199.364158\"/>\n     <use style=\"fill:#3d3d3d;stroke:#3d3d3d;stroke-linejoin:miter;\" x=\"125.349107\" xlink:href=\"#m8e3e1926ef\" y=\"195.683413\"/>\n     <use style=\"fill:#3d3d3d;stroke:#3d3d3d;stroke-linejoin:miter;\" x=\"125.349107\" xlink:href=\"#m8e3e1926ef\" y=\"204.467009\"/>\n     <use style=\"fill:#3d3d3d;stroke:#3d3d3d;stroke-linejoin:miter;\" x=\"125.349107\" xlink:href=\"#m8e3e1926ef\" y=\"186.648858\"/>\n     <use style=\"fill:#3d3d3d;stroke:#3d3d3d;stroke-linejoin:miter;\" x=\"125.349107\" xlink:href=\"#m8e3e1926ef\" y=\"186.648858\"/>\n     <use style=\"fill:#3d3d3d;stroke:#3d3d3d;stroke-linejoin:miter;\" x=\"125.349107\" xlink:href=\"#m8e3e1926ef\" y=\"202.71029\"/>\n     <use style=\"fill:#3d3d3d;stroke:#3d3d3d;stroke-linejoin:miter;\" x=\"125.349107\" xlink:href=\"#m8e3e1926ef\" y=\"193.675734\"/>\n     <use style=\"fill:#3d3d3d;stroke:#3d3d3d;stroke-linejoin:miter;\" x=\"125.349107\" xlink:href=\"#m8e3e1926ef\" y=\"200.033384\"/>\n     <use style=\"fill:#3d3d3d;stroke:#3d3d3d;stroke-linejoin:miter;\" x=\"125.349107\" xlink:href=\"#m8e3e1926ef\" y=\"199.531465\"/>\n     <use style=\"fill:#3d3d3d;stroke:#3d3d3d;stroke-linejoin:miter;\" x=\"125.349107\" xlink:href=\"#m8e3e1926ef\" y=\"198.109359\"/>\n     <use style=\"fill:#3d3d3d;stroke:#3d3d3d;stroke-linejoin:miter;\" x=\"125.349107\" xlink:href=\"#m8e3e1926ef\" y=\"198.611278\"/>\n     <use style=\"fill:#3d3d3d;stroke:#3d3d3d;stroke-linejoin:miter;\" x=\"125.349107\" xlink:href=\"#m8e3e1926ef\" y=\"69.701557\"/>\n     <use style=\"fill:#3d3d3d;stroke:#3d3d3d;stroke-linejoin:miter;\" x=\"125.349107\" xlink:href=\"#m8e3e1926ef\" y=\"204.550662\"/>\n     <use style=\"fill:#3d3d3d;stroke:#3d3d3d;stroke-linejoin:miter;\" x=\"125.349107\" xlink:href=\"#m8e3e1926ef\" y=\"203.295863\"/>\n     <use style=\"fill:#3d3d3d;stroke:#3d3d3d;stroke-linejoin:miter;\" x=\"125.349107\" xlink:href=\"#m8e3e1926ef\" y=\"106.174392\"/>\n     <use style=\"fill:#3d3d3d;stroke:#3d3d3d;stroke-linejoin:miter;\" x=\"125.349107\" xlink:href=\"#m8e3e1926ef\" y=\"199.364158\"/>\n     <use style=\"fill:#3d3d3d;stroke:#3d3d3d;stroke-linejoin:miter;\" x=\"125.349107\" xlink:href=\"#m8e3e1926ef\" y=\"202.45933\"/>\n     <use style=\"fill:#3d3d3d;stroke:#3d3d3d;stroke-linejoin:miter;\" x=\"125.349107\" xlink:href=\"#m8e3e1926ef\" y=\"200.702611\"/>\n     <use style=\"fill:#3d3d3d;stroke:#3d3d3d;stroke-linejoin:miter;\" x=\"125.349107\" xlink:href=\"#m8e3e1926ef\" y=\"202.71029\"/>\n     <use style=\"fill:#3d3d3d;stroke:#3d3d3d;stroke-linejoin:miter;\" x=\"125.349107\" xlink:href=\"#m8e3e1926ef\" y=\"202.292023\"/>\n     <use style=\"fill:#3d3d3d;stroke:#3d3d3d;stroke-linejoin:miter;\" x=\"125.349107\" xlink:href=\"#m8e3e1926ef\" y=\"76.310167\"/>\n     <use style=\"fill:#3d3d3d;stroke:#3d3d3d;stroke-linejoin:miter;\" x=\"125.349107\" xlink:href=\"#m8e3e1926ef\" y=\"200.535304\"/>\n     <use style=\"fill:#3d3d3d;stroke:#3d3d3d;stroke-linejoin:miter;\" x=\"125.349107\" xlink:href=\"#m8e3e1926ef\" y=\"202.542983\"/>\n     <use style=\"fill:#3d3d3d;stroke:#3d3d3d;stroke-linejoin:miter;\" x=\"125.349107\" xlink:href=\"#m8e3e1926ef\" y=\"197.440132\"/>\n     <use style=\"fill:#3d3d3d;stroke:#3d3d3d;stroke-linejoin:miter;\" x=\"125.349107\" xlink:href=\"#m8e3e1926ef\" y=\"204.467009\"/>\n     <use style=\"fill:#3d3d3d;stroke:#3d3d3d;stroke-linejoin:miter;\" x=\"125.349107\" xlink:href=\"#m8e3e1926ef\" y=\"204.467009\"/>\n     <use style=\"fill:#3d3d3d;stroke:#3d3d3d;stroke-linejoin:miter;\" x=\"125.349107\" xlink:href=\"#m8e3e1926ef\" y=\"204.467009\"/>\n     <use style=\"fill:#3d3d3d;stroke:#3d3d3d;stroke-linejoin:miter;\" x=\"125.349107\" xlink:href=\"#m8e3e1926ef\" y=\"204.467009\"/>\n     <use style=\"fill:#3d3d3d;stroke:#3d3d3d;stroke-linejoin:miter;\" x=\"125.349107\" xlink:href=\"#m8e3e1926ef\" y=\"204.467009\"/>\n     <use style=\"fill:#3d3d3d;stroke:#3d3d3d;stroke-linejoin:miter;\" x=\"125.349107\" xlink:href=\"#m8e3e1926ef\" y=\"204.467009\"/>\n     <use style=\"fill:#3d3d3d;stroke:#3d3d3d;stroke-linejoin:miter;\" x=\"125.349107\" xlink:href=\"#m8e3e1926ef\" y=\"128.25886\"/>\n     <use style=\"fill:#3d3d3d;stroke:#3d3d3d;stroke-linejoin:miter;\" x=\"125.349107\" xlink:href=\"#m8e3e1926ef\" y=\"160.381724\"/>\n     <use style=\"fill:#3d3d3d;stroke:#3d3d3d;stroke-linejoin:miter;\" x=\"125.349107\" xlink:href=\"#m8e3e1926ef\" y=\"168.579747\"/>\n     <use style=\"fill:#3d3d3d;stroke:#3d3d3d;stroke-linejoin:miter;\" x=\"125.349107\" xlink:href=\"#m8e3e1926ef\" y=\"182.298887\"/>\n     <use style=\"fill:#3d3d3d;stroke:#3d3d3d;stroke-linejoin:miter;\" x=\"125.349107\" xlink:href=\"#m8e3e1926ef\" y=\"200.953571\"/>\n     <use style=\"fill:#3d3d3d;stroke:#3d3d3d;stroke-linejoin:miter;\" x=\"125.349107\" xlink:href=\"#m8e3e1926ef\" y=\"196.687253\"/>\n     <use style=\"fill:#3d3d3d;stroke:#3d3d3d;stroke-linejoin:miter;\" x=\"125.349107\" xlink:href=\"#m8e3e1926ef\" y=\"196.018026\"/>\n    </g>\n   </g>\n   <g id=\"line2d_23\">\n    <path clip-path=\"url(#p671b01a188)\" d=\"M 173.177679 214.756364 \nL 173.177679 214.756364 \n\" style=\"fill:none;stroke:#3d3d3d;stroke-linecap:square;stroke-width:1.5;\"/>\n   </g>\n   <g id=\"line2d_24\">\n    <path clip-path=\"url(#p671b01a188)\" d=\"M 173.177679 213.668871 \nL 173.177679 212.079458 \n\" style=\"fill:none;stroke:#3d3d3d;stroke-linecap:square;stroke-width:1.5;\"/>\n   </g>\n   <g id=\"line2d_25\">\n    <path clip-path=\"url(#p671b01a188)\" d=\"M 163.611964 214.756364 \nL 182.743393 214.756364 \n\" style=\"fill:none;stroke:#3d3d3d;stroke-linecap:square;stroke-width:1.5;\"/>\n   </g>\n   <g id=\"line2d_26\">\n    <path clip-path=\"url(#p671b01a188)\" d=\"M 163.611964 212.079458 \nL 182.743393 212.079458 \n\" style=\"fill:none;stroke:#3d3d3d;stroke-linecap:square;stroke-width:1.5;\"/>\n   </g>\n   <g id=\"line2d_27\">\n    <g clip-path=\"url(#p671b01a188)\">\n     <use style=\"fill:#3d3d3d;stroke:#3d3d3d;stroke-linejoin:miter;\" x=\"173.177679\" xlink:href=\"#m8e3e1926ef\" y=\"207.81314\"/>\n     <use style=\"fill:#3d3d3d;stroke:#3d3d3d;stroke-linejoin:miter;\" x=\"173.177679\" xlink:href=\"#m8e3e1926ef\" y=\"203.630476\"/>\n     <use style=\"fill:#3d3d3d;stroke:#3d3d3d;stroke-linejoin:miter;\" x=\"173.177679\" xlink:href=\"#m8e3e1926ef\" y=\"207.980447\"/>\n     <use style=\"fill:#3d3d3d;stroke:#3d3d3d;stroke-linejoin:miter;\" x=\"173.177679\" xlink:href=\"#m8e3e1926ef\" y=\"211.075619\"/>\n     <use style=\"fill:#3d3d3d;stroke:#3d3d3d;stroke-linejoin:miter;\" x=\"173.177679\" xlink:href=\"#m8e3e1926ef\" y=\"209.737166\"/>\n     <use style=\"fill:#3d3d3d;stroke:#3d3d3d;stroke-linejoin:miter;\" x=\"173.177679\" xlink:href=\"#m8e3e1926ef\" y=\"205.387195\"/>\n     <use style=\"fill:#3d3d3d;stroke:#3d3d3d;stroke-linejoin:miter;\" x=\"173.177679\" xlink:href=\"#m8e3e1926ef\" y=\"207.81314\"/>\n     <use style=\"fill:#3d3d3d;stroke:#3d3d3d;stroke-linejoin:miter;\" x=\"173.177679\" xlink:href=\"#m8e3e1926ef\" y=\"210.322739\"/>\n     <use style=\"fill:#3d3d3d;stroke:#3d3d3d;stroke-linejoin:miter;\" x=\"173.177679\" xlink:href=\"#m8e3e1926ef\" y=\"210.322739\"/>\n     <use style=\"fill:#3d3d3d;stroke:#3d3d3d;stroke-linejoin:miter;\" x=\"173.177679\" xlink:href=\"#m8e3e1926ef\" y=\"211.326579\"/>\n     <use style=\"fill:#3d3d3d;stroke:#3d3d3d;stroke-linejoin:miter;\" x=\"173.177679\" xlink:href=\"#m8e3e1926ef\" y=\"211.744845\"/>\n     <use style=\"fill:#3d3d3d;stroke:#3d3d3d;stroke-linejoin:miter;\" x=\"173.177679\" xlink:href=\"#m8e3e1926ef\" y=\"208.56602\"/>\n     <use style=\"fill:#3d3d3d;stroke:#3d3d3d;stroke-linejoin:miter;\" x=\"173.177679\" xlink:href=\"#m8e3e1926ef\" y=\"201.873757\"/>\n     <use style=\"fill:#3d3d3d;stroke:#3d3d3d;stroke-linejoin:miter;\" x=\"173.177679\" xlink:href=\"#m8e3e1926ef\" y=\"208.984287\"/>\n     <use style=\"fill:#3d3d3d;stroke:#3d3d3d;stroke-linejoin:miter;\" x=\"173.177679\" xlink:href=\"#m8e3e1926ef\" y=\"209.486206\"/>\n     <use style=\"fill:#3d3d3d;stroke:#3d3d3d;stroke-linejoin:miter;\" x=\"173.177679\" xlink:href=\"#m8e3e1926ef\" y=\"178.199875\"/>\n     <use style=\"fill:#3d3d3d;stroke:#3d3d3d;stroke-linejoin:miter;\" x=\"173.177679\" xlink:href=\"#m8e3e1926ef\" y=\"195.432453\"/>\n     <use style=\"fill:#3d3d3d;stroke:#3d3d3d;stroke-linejoin:miter;\" x=\"173.177679\" xlink:href=\"#m8e3e1926ef\" y=\"196.603599\"/>\n     <use style=\"fill:#3d3d3d;stroke:#3d3d3d;stroke-linejoin:miter;\" x=\"173.177679\" xlink:href=\"#m8e3e1926ef\" y=\"174.686437\"/>\n     <use style=\"fill:#3d3d3d;stroke:#3d3d3d;stroke-linejoin:miter;\" x=\"173.177679\" xlink:href=\"#m8e3e1926ef\" y=\"211.661192\"/>\n     <use style=\"fill:#3d3d3d;stroke:#3d3d3d;stroke-linejoin:miter;\" x=\"173.177679\" xlink:href=\"#m8e3e1926ef\" y=\"211.995805\"/>\n     <use style=\"fill:#3d3d3d;stroke:#3d3d3d;stroke-linejoin:miter;\" x=\"173.177679\" xlink:href=\"#m8e3e1926ef\" y=\"209.904473\"/>\n     <use style=\"fill:#3d3d3d;stroke:#3d3d3d;stroke-linejoin:miter;\" x=\"173.177679\" xlink:href=\"#m8e3e1926ef\" y=\"206.809301\"/>\n     <use style=\"fill:#3d3d3d;stroke:#3d3d3d;stroke-linejoin:miter;\" x=\"173.177679\" xlink:href=\"#m8e3e1926ef\" y=\"206.558341\"/>\n     <use style=\"fill:#3d3d3d;stroke:#3d3d3d;stroke-linejoin:miter;\" x=\"173.177679\" xlink:href=\"#m8e3e1926ef\" y=\"209.151593\"/>\n     <use style=\"fill:#3d3d3d;stroke:#3d3d3d;stroke-linejoin:miter;\" x=\"173.177679\" xlink:href=\"#m8e3e1926ef\" y=\"205.805461\"/>\n     <use style=\"fill:#3d3d3d;stroke:#3d3d3d;stroke-linejoin:miter;\" x=\"173.177679\" xlink:href=\"#m8e3e1926ef\" y=\"210.155433\"/>\n     <use style=\"fill:#3d3d3d;stroke:#3d3d3d;stroke-linejoin:miter;\" x=\"173.177679\" xlink:href=\"#m8e3e1926ef\" y=\"166.739374\"/>\n     <use style=\"fill:#3d3d3d;stroke:#3d3d3d;stroke-linejoin:miter;\" x=\"173.177679\" xlink:href=\"#m8e3e1926ef\" y=\"209.988126\"/>\n     <use style=\"fill:#3d3d3d;stroke:#3d3d3d;stroke-linejoin:miter;\" x=\"173.177679\" xlink:href=\"#m8e3e1926ef\" y=\"198.025705\"/>\n     <use style=\"fill:#3d3d3d;stroke:#3d3d3d;stroke-linejoin:miter;\" x=\"173.177679\" xlink:href=\"#m8e3e1926ef\" y=\"211.912152\"/>\n     <use style=\"fill:#3d3d3d;stroke:#3d3d3d;stroke-linejoin:miter;\" x=\"173.177679\" xlink:href=\"#m8e3e1926ef\" y=\"207.645834\"/>\n     <use style=\"fill:#3d3d3d;stroke:#3d3d3d;stroke-linejoin:miter;\" x=\"173.177679\" xlink:href=\"#m8e3e1926ef\" y=\"200.786264\"/>\n     <use style=\"fill:#3d3d3d;stroke:#3d3d3d;stroke-linejoin:miter;\" x=\"173.177679\" xlink:href=\"#m8e3e1926ef\" y=\"209.151593\"/>\n     <use style=\"fill:#3d3d3d;stroke:#3d3d3d;stroke-linejoin:miter;\" x=\"173.177679\" xlink:href=\"#m8e3e1926ef\" y=\"179.705635\"/>\n     <use style=\"fill:#3d3d3d;stroke:#3d3d3d;stroke-linejoin:miter;\" x=\"173.177679\" xlink:href=\"#m8e3e1926ef\" y=\"209.3189\"/>\n     <use style=\"fill:#3d3d3d;stroke:#3d3d3d;stroke-linejoin:miter;\" x=\"173.177679\" xlink:href=\"#m8e3e1926ef\" y=\"209.3189\"/>\n     <use style=\"fill:#3d3d3d;stroke:#3d3d3d;stroke-linejoin:miter;\" x=\"173.177679\" xlink:href=\"#m8e3e1926ef\" y=\"208.147754\"/>\n     <use style=\"fill:#3d3d3d;stroke:#3d3d3d;stroke-linejoin:miter;\" x=\"173.177679\" xlink:href=\"#m8e3e1926ef\" y=\"206.641994\"/>\n     <use style=\"fill:#3d3d3d;stroke:#3d3d3d;stroke-linejoin:miter;\" x=\"173.177679\" xlink:href=\"#m8e3e1926ef\" y=\"208.398713\"/>\n     <use style=\"fill:#3d3d3d;stroke:#3d3d3d;stroke-linejoin:miter;\" x=\"173.177679\" xlink:href=\"#m8e3e1926ef\" y=\"207.394874\"/>\n     <use style=\"fill:#3d3d3d;stroke:#3d3d3d;stroke-linejoin:miter;\" x=\"173.177679\" xlink:href=\"#m8e3e1926ef\" y=\"200.451651\"/>\n     <use style=\"fill:#3d3d3d;stroke:#3d3d3d;stroke-linejoin:miter;\" x=\"173.177679\" xlink:href=\"#m8e3e1926ef\" y=\"209.486206\"/>\n     <use style=\"fill:#3d3d3d;stroke:#3d3d3d;stroke-linejoin:miter;\" x=\"173.177679\" xlink:href=\"#m8e3e1926ef\" y=\"209.3189\"/>\n     <use style=\"fill:#3d3d3d;stroke:#3d3d3d;stroke-linejoin:miter;\" x=\"173.177679\" xlink:href=\"#m8e3e1926ef\" y=\"192.839201\"/>\n     <use style=\"fill:#3d3d3d;stroke:#3d3d3d;stroke-linejoin:miter;\" x=\"173.177679\" xlink:href=\"#m8e3e1926ef\" y=\"205.136235\"/>\n     <use style=\"fill:#3d3d3d;stroke:#3d3d3d;stroke-linejoin:miter;\" x=\"173.177679\" xlink:href=\"#m8e3e1926ef\" y=\"211.661192\"/>\n     <use style=\"fill:#3d3d3d;stroke:#3d3d3d;stroke-linejoin:miter;\" x=\"173.177679\" xlink:href=\"#m8e3e1926ef\" y=\"209.904473\"/>\n     <use style=\"fill:#3d3d3d;stroke:#3d3d3d;stroke-linejoin:miter;\" x=\"173.177679\" xlink:href=\"#m8e3e1926ef\" y=\"209.904473\"/>\n     <use style=\"fill:#3d3d3d;stroke:#3d3d3d;stroke-linejoin:miter;\" x=\"173.177679\" xlink:href=\"#m8e3e1926ef\" y=\"209.988126\"/>\n     <use style=\"fill:#3d3d3d;stroke:#3d3d3d;stroke-linejoin:miter;\" x=\"173.177679\" xlink:href=\"#m8e3e1926ef\" y=\"209.820819\"/>\n     <use style=\"fill:#3d3d3d;stroke:#3d3d3d;stroke-linejoin:miter;\" x=\"173.177679\" xlink:href=\"#m8e3e1926ef\" y=\"211.410232\"/>\n     <use style=\"fill:#3d3d3d;stroke:#3d3d3d;stroke-linejoin:miter;\" x=\"173.177679\" xlink:href=\"#m8e3e1926ef\" y=\"209.988126\"/>\n     <use style=\"fill:#3d3d3d;stroke:#3d3d3d;stroke-linejoin:miter;\" x=\"173.177679\" xlink:href=\"#m8e3e1926ef\" y=\"207.394874\"/>\n     <use style=\"fill:#3d3d3d;stroke:#3d3d3d;stroke-linejoin:miter;\" x=\"173.177679\" xlink:href=\"#m8e3e1926ef\" y=\"211.577539\"/>\n     <use style=\"fill:#3d3d3d;stroke:#3d3d3d;stroke-linejoin:miter;\" x=\"173.177679\" xlink:href=\"#m8e3e1926ef\" y=\"208.398713\"/>\n     <use style=\"fill:#3d3d3d;stroke:#3d3d3d;stroke-linejoin:miter;\" x=\"173.177679\" xlink:href=\"#m8e3e1926ef\" y=\"209.904473\"/>\n     <use style=\"fill:#3d3d3d;stroke:#3d3d3d;stroke-linejoin:miter;\" x=\"173.177679\" xlink:href=\"#m8e3e1926ef\" y=\"198.945892\"/>\n     <use style=\"fill:#3d3d3d;stroke:#3d3d3d;stroke-linejoin:miter;\" x=\"173.177679\" xlink:href=\"#m8e3e1926ef\" y=\"183.051766\"/>\n     <use style=\"fill:#3d3d3d;stroke:#3d3d3d;stroke-linejoin:miter;\" x=\"173.177679\" xlink:href=\"#m8e3e1926ef\" y=\"188.572883\"/>\n     <use style=\"fill:#3d3d3d;stroke:#3d3d3d;stroke-linejoin:miter;\" x=\"173.177679\" xlink:href=\"#m8e3e1926ef\" y=\"170.838386\"/>\n     <use style=\"fill:#3d3d3d;stroke:#3d3d3d;stroke-linejoin:miter;\" x=\"173.177679\" xlink:href=\"#m8e3e1926ef\" y=\"188.572883\"/>\n     <use style=\"fill:#3d3d3d;stroke:#3d3d3d;stroke-linejoin:miter;\" x=\"173.177679\" xlink:href=\"#m8e3e1926ef\" y=\"170.838386\"/>\n     <use style=\"fill:#3d3d3d;stroke:#3d3d3d;stroke-linejoin:miter;\" x=\"173.177679\" xlink:href=\"#m8e3e1926ef\" y=\"188.572883\"/>\n     <use style=\"fill:#3d3d3d;stroke:#3d3d3d;stroke-linejoin:miter;\" x=\"173.177679\" xlink:href=\"#m8e3e1926ef\" y=\"208.733327\"/>\n     <use style=\"fill:#3d3d3d;stroke:#3d3d3d;stroke-linejoin:miter;\" x=\"173.177679\" xlink:href=\"#m8e3e1926ef\" y=\"207.060261\"/>\n     <use style=\"fill:#3d3d3d;stroke:#3d3d3d;stroke-linejoin:miter;\" x=\"173.177679\" xlink:href=\"#m8e3e1926ef\" y=\"209.653513\"/>\n     <use style=\"fill:#3d3d3d;stroke:#3d3d3d;stroke-linejoin:miter;\" x=\"173.177679\" xlink:href=\"#m8e3e1926ef\" y=\"208.147754\"/>\n     <use style=\"fill:#3d3d3d;stroke:#3d3d3d;stroke-linejoin:miter;\" x=\"173.177679\" xlink:href=\"#m8e3e1926ef\" y=\"209.486206\"/>\n     <use style=\"fill:#3d3d3d;stroke:#3d3d3d;stroke-linejoin:miter;\" x=\"173.177679\" xlink:href=\"#m8e3e1926ef\" y=\"211.242925\"/>\n     <use style=\"fill:#3d3d3d;stroke:#3d3d3d;stroke-linejoin:miter;\" x=\"173.177679\" xlink:href=\"#m8e3e1926ef\" y=\"203.128556\"/>\n     <use style=\"fill:#3d3d3d;stroke:#3d3d3d;stroke-linejoin:miter;\" x=\"173.177679\" xlink:href=\"#m8e3e1926ef\" y=\"192.671895\"/>\n     <use style=\"fill:#3d3d3d;stroke:#3d3d3d;stroke-linejoin:miter;\" x=\"173.177679\" xlink:href=\"#m8e3e1926ef\" y=\"180.374861\"/>\n     <use style=\"fill:#3d3d3d;stroke:#3d3d3d;stroke-linejoin:miter;\" x=\"173.177679\" xlink:href=\"#m8e3e1926ef\" y=\"211.912152\"/>\n     <use style=\"fill:#3d3d3d;stroke:#3d3d3d;stroke-linejoin:miter;\" x=\"173.177679\" xlink:href=\"#m8e3e1926ef\" y=\"197.105519\"/>\n     <use style=\"fill:#3d3d3d;stroke:#3d3d3d;stroke-linejoin:miter;\" x=\"173.177679\" xlink:href=\"#m8e3e1926ef\" y=\"208.900633\"/>\n     <use style=\"fill:#3d3d3d;stroke:#3d3d3d;stroke-linejoin:miter;\" x=\"173.177679\" xlink:href=\"#m8e3e1926ef\" y=\"194.930534\"/>\n     <use style=\"fill:#3d3d3d;stroke:#3d3d3d;stroke-linejoin:miter;\" x=\"173.177679\" xlink:href=\"#m8e3e1926ef\" y=\"210.406392\"/>\n     <use style=\"fill:#3d3d3d;stroke:#3d3d3d;stroke-linejoin:miter;\" x=\"173.177679\" xlink:href=\"#m8e3e1926ef\" y=\"207.311221\"/>\n     <use style=\"fill:#3d3d3d;stroke:#3d3d3d;stroke-linejoin:miter;\" x=\"173.177679\" xlink:href=\"#m8e3e1926ef\" y=\"201.790103\"/>\n     <use style=\"fill:#3d3d3d;stroke:#3d3d3d;stroke-linejoin:miter;\" x=\"173.177679\" xlink:href=\"#m8e3e1926ef\" y=\"210.573699\"/>\n     <use style=\"fill:#3d3d3d;stroke:#3d3d3d;stroke-linejoin:miter;\" x=\"173.177679\" xlink:href=\"#m8e3e1926ef\" y=\"211.912152\"/>\n     <use style=\"fill:#3d3d3d;stroke:#3d3d3d;stroke-linejoin:miter;\" x=\"173.177679\" xlink:href=\"#m8e3e1926ef\" y=\"205.554502\"/>\n     <use style=\"fill:#3d3d3d;stroke:#3d3d3d;stroke-linejoin:miter;\" x=\"173.177679\" xlink:href=\"#m8e3e1926ef\" y=\"198.193012\"/>\n     <use style=\"fill:#3d3d3d;stroke:#3d3d3d;stroke-linejoin:miter;\" x=\"173.177679\" xlink:href=\"#m8e3e1926ef\" y=\"210.406392\"/>\n     <use style=\"fill:#3d3d3d;stroke:#3d3d3d;stroke-linejoin:miter;\" x=\"173.177679\" xlink:href=\"#m8e3e1926ef\" y=\"192.588241\"/>\n     <use style=\"fill:#3d3d3d;stroke:#3d3d3d;stroke-linejoin:miter;\" x=\"173.177679\" xlink:href=\"#m8e3e1926ef\" y=\"209.06794\"/>\n     <use style=\"fill:#3d3d3d;stroke:#3d3d3d;stroke-linejoin:miter;\" x=\"173.177679\" xlink:href=\"#m8e3e1926ef\" y=\"180.374861\"/>\n     <use style=\"fill:#3d3d3d;stroke:#3d3d3d;stroke-linejoin:miter;\" x=\"173.177679\" xlink:href=\"#m8e3e1926ef\" y=\"203.797782\"/>\n     <use style=\"fill:#3d3d3d;stroke:#3d3d3d;stroke-linejoin:miter;\" x=\"173.177679\" xlink:href=\"#m8e3e1926ef\" y=\"200.367998\"/>\n     <use style=\"fill:#3d3d3d;stroke:#3d3d3d;stroke-linejoin:miter;\" x=\"173.177679\" xlink:href=\"#m8e3e1926ef\" y=\"211.242925\"/>\n     <use style=\"fill:#3d3d3d;stroke:#3d3d3d;stroke-linejoin:miter;\" x=\"173.177679\" xlink:href=\"#m8e3e1926ef\" y=\"211.242925\"/>\n    </g>\n   </g>\n   <g id=\"line2d_28\">\n    <path clip-path=\"url(#p671b01a188)\" d=\"M 221.00625 214.67271 \nL 221.00625 214.756364 \n\" style=\"fill:none;stroke:#3d3d3d;stroke-linecap:square;stroke-width:1.5;\"/>\n   </g>\n   <g id=\"line2d_29\">\n    <path clip-path=\"url(#p671b01a188)\" d=\"M 221.00625 213.083298 \nL 221.00625 210.824659 \n\" style=\"fill:none;stroke:#3d3d3d;stroke-linecap:square;stroke-width:1.5;\"/>\n   </g>\n   <g id=\"line2d_30\">\n    <path clip-path=\"url(#p671b01a188)\" d=\"M 211.440536 214.756364 \nL 230.571964 214.756364 \n\" style=\"fill:none;stroke:#3d3d3d;stroke-linecap:square;stroke-width:1.5;\"/>\n   </g>\n   <g id=\"line2d_31\">\n    <path clip-path=\"url(#p671b01a188)\" d=\"M 211.440536 210.824659 \nL 230.571964 210.824659 \n\" style=\"fill:none;stroke:#3d3d3d;stroke-linecap:square;stroke-width:1.5;\"/>\n   </g>\n   <g id=\"line2d_32\">\n    <g clip-path=\"url(#p671b01a188)\">\n     <use style=\"fill:#3d3d3d;stroke:#3d3d3d;stroke-linejoin:miter;\" x=\"221.00625\" xlink:href=\"#m8e3e1926ef\" y=\"210.322739\"/>\n     <use style=\"fill:#3d3d3d;stroke:#3d3d3d;stroke-linejoin:miter;\" x=\"221.00625\" xlink:href=\"#m8e3e1926ef\" y=\"210.406392\"/>\n     <use style=\"fill:#3d3d3d;stroke:#3d3d3d;stroke-linejoin:miter;\" x=\"221.00625\" xlink:href=\"#m8e3e1926ef\" y=\"208.231407\"/>\n     <use style=\"fill:#3d3d3d;stroke:#3d3d3d;stroke-linejoin:miter;\" x=\"221.00625\" xlink:href=\"#m8e3e1926ef\" y=\"208.231407\"/>\n     <use style=\"fill:#3d3d3d;stroke:#3d3d3d;stroke-linejoin:miter;\" x=\"221.00625\" xlink:href=\"#m8e3e1926ef\" y=\"210.071779\"/>\n     <use style=\"fill:#3d3d3d;stroke:#3d3d3d;stroke-linejoin:miter;\" x=\"221.00625\" xlink:href=\"#m8e3e1926ef\" y=\"210.071779\"/>\n     <use style=\"fill:#3d3d3d;stroke:#3d3d3d;stroke-linejoin:miter;\" x=\"221.00625\" xlink:href=\"#m8e3e1926ef\" y=\"209.3189\"/>\n     <use style=\"fill:#3d3d3d;stroke:#3d3d3d;stroke-linejoin:miter;\" x=\"221.00625\" xlink:href=\"#m8e3e1926ef\" y=\"192.504588\"/>\n     <use style=\"fill:#3d3d3d;stroke:#3d3d3d;stroke-linejoin:miter;\" x=\"221.00625\" xlink:href=\"#m8e3e1926ef\" y=\"207.81314\"/>\n     <use style=\"fill:#3d3d3d;stroke:#3d3d3d;stroke-linejoin:miter;\" x=\"221.00625\" xlink:href=\"#m8e3e1926ef\" y=\"208.984287\"/>\n     <use style=\"fill:#3d3d3d;stroke:#3d3d3d;stroke-linejoin:miter;\" x=\"221.00625\" xlink:href=\"#m8e3e1926ef\" y=\"202.041063\"/>\n     <use style=\"fill:#3d3d3d;stroke:#3d3d3d;stroke-linejoin:miter;\" x=\"221.00625\" xlink:href=\"#m8e3e1926ef\" y=\"210.071779\"/>\n     <use style=\"fill:#3d3d3d;stroke:#3d3d3d;stroke-linejoin:miter;\" x=\"221.00625\" xlink:href=\"#m8e3e1926ef\" y=\"210.071779\"/>\n     <use style=\"fill:#3d3d3d;stroke:#3d3d3d;stroke-linejoin:miter;\" x=\"221.00625\" xlink:href=\"#m8e3e1926ef\" y=\"172.427798\"/>\n     <use style=\"fill:#3d3d3d;stroke:#3d3d3d;stroke-linejoin:miter;\" x=\"221.00625\" xlink:href=\"#m8e3e1926ef\" y=\"155.362527\"/>\n     <use style=\"fill:#3d3d3d;stroke:#3d3d3d;stroke-linejoin:miter;\" x=\"221.00625\" xlink:href=\"#m8e3e1926ef\" y=\"155.362527\"/>\n     <use style=\"fill:#3d3d3d;stroke:#3d3d3d;stroke-linejoin:miter;\" x=\"221.00625\" xlink:href=\"#m8e3e1926ef\" y=\"179.956594\"/>\n     <use style=\"fill:#3d3d3d;stroke:#3d3d3d;stroke-linejoin:miter;\" x=\"221.00625\" xlink:href=\"#m8e3e1926ef\" y=\"202.542983\"/>\n     <use style=\"fill:#3d3d3d;stroke:#3d3d3d;stroke-linejoin:miter;\" x=\"221.00625\" xlink:href=\"#m8e3e1926ef\" y=\"198.862238\"/>\n     <use style=\"fill:#3d3d3d;stroke:#3d3d3d;stroke-linejoin:miter;\" x=\"221.00625\" xlink:href=\"#m8e3e1926ef\" y=\"194.177654\"/>\n     <use style=\"fill:#3d3d3d;stroke:#3d3d3d;stroke-linejoin:miter;\" x=\"221.00625\" xlink:href=\"#m8e3e1926ef\" y=\"209.151593\"/>\n     <use style=\"fill:#3d3d3d;stroke:#3d3d3d;stroke-linejoin:miter;\" x=\"221.00625\" xlink:href=\"#m8e3e1926ef\" y=\"208.649673\"/>\n     <use style=\"fill:#3d3d3d;stroke:#3d3d3d;stroke-linejoin:miter;\" x=\"221.00625\" xlink:href=\"#m8e3e1926ef\" y=\"209.904473\"/>\n     <use style=\"fill:#3d3d3d;stroke:#3d3d3d;stroke-linejoin:miter;\" x=\"221.00625\" xlink:href=\"#m8e3e1926ef\" y=\"210.322739\"/>\n    </g>\n   </g>\n   <g id=\"line2d_33\">\n    <path clip-path=\"url(#p671b01a188)\" d=\"M 268.834821 214.756364 \nL 268.834821 214.756364 \n\" style=\"fill:none;stroke:#3d3d3d;stroke-linecap:square;stroke-width:1.5;\"/>\n   </g>\n   <g id=\"line2d_34\">\n    <path clip-path=\"url(#p671b01a188)\" d=\"M 268.834821 214.128964 \nL 268.834821 213.334258 \n\" style=\"fill:none;stroke:#3d3d3d;stroke-linecap:square;stroke-width:1.5;\"/>\n   </g>\n   <g id=\"line2d_35\">\n    <path clip-path=\"url(#p671b01a188)\" d=\"M 259.269107 214.756364 \nL 278.400536 214.756364 \n\" style=\"fill:none;stroke:#3d3d3d;stroke-linecap:square;stroke-width:1.5;\"/>\n   </g>\n   <g id=\"line2d_36\">\n    <path clip-path=\"url(#p671b01a188)\" d=\"M 259.269107 213.334258 \nL 278.400536 213.334258 \n\" style=\"fill:none;stroke:#3d3d3d;stroke-linecap:square;stroke-width:1.5;\"/>\n   </g>\n   <g id=\"line2d_37\">\n    <g clip-path=\"url(#p671b01a188)\">\n     <use style=\"fill:#3d3d3d;stroke:#3d3d3d;stroke-linejoin:miter;\" x=\"268.834821\" xlink:href=\"#m8e3e1926ef\" y=\"203.128556\"/>\n     <use style=\"fill:#3d3d3d;stroke:#3d3d3d;stroke-linejoin:miter;\" x=\"268.834821\" xlink:href=\"#m8e3e1926ef\" y=\"212.581378\"/>\n     <use style=\"fill:#3d3d3d;stroke:#3d3d3d;stroke-linejoin:miter;\" x=\"268.834821\" xlink:href=\"#m8e3e1926ef\" y=\"211.995805\"/>\n     <use style=\"fill:#3d3d3d;stroke:#3d3d3d;stroke-linejoin:miter;\" x=\"268.834821\" xlink:href=\"#m8e3e1926ef\" y=\"212.079458\"/>\n     <use style=\"fill:#3d3d3d;stroke:#3d3d3d;stroke-linejoin:miter;\" x=\"268.834821\" xlink:href=\"#m8e3e1926ef\" y=\"208.0641\"/>\n     <use style=\"fill:#3d3d3d;stroke:#3d3d3d;stroke-linejoin:miter;\" x=\"268.834821\" xlink:href=\"#m8e3e1926ef\" y=\"211.493885\"/>\n     <use style=\"fill:#3d3d3d;stroke:#3d3d3d;stroke-linejoin:miter;\" x=\"268.834821\" xlink:href=\"#m8e3e1926ef\" y=\"211.828498\"/>\n     <use style=\"fill:#3d3d3d;stroke:#3d3d3d;stroke-linejoin:miter;\" x=\"268.834821\" xlink:href=\"#m8e3e1926ef\" y=\"210.155433\"/>\n     <use style=\"fill:#3d3d3d;stroke:#3d3d3d;stroke-linejoin:miter;\" x=\"268.834821\" xlink:href=\"#m8e3e1926ef\" y=\"211.242925\"/>\n     <use style=\"fill:#3d3d3d;stroke:#3d3d3d;stroke-linejoin:miter;\" x=\"268.834821\" xlink:href=\"#m8e3e1926ef\" y=\"209.486206\"/>\n     <use style=\"fill:#3d3d3d;stroke:#3d3d3d;stroke-linejoin:miter;\" x=\"268.834821\" xlink:href=\"#m8e3e1926ef\" y=\"206.056421\"/>\n     <use style=\"fill:#3d3d3d;stroke:#3d3d3d;stroke-linejoin:miter;\" x=\"268.834821\" xlink:href=\"#m8e3e1926ef\" y=\"206.056421\"/>\n     <use style=\"fill:#3d3d3d;stroke:#3d3d3d;stroke-linejoin:miter;\" x=\"268.834821\" xlink:href=\"#m8e3e1926ef\" y=\"202.041063\"/>\n     <use style=\"fill:#3d3d3d;stroke:#3d3d3d;stroke-linejoin:miter;\" x=\"268.834821\" xlink:href=\"#m8e3e1926ef\" y=\"202.041063\"/>\n     <use style=\"fill:#3d3d3d;stroke:#3d3d3d;stroke-linejoin:miter;\" x=\"268.834821\" xlink:href=\"#m8e3e1926ef\" y=\"209.235246\"/>\n     <use style=\"fill:#3d3d3d;stroke:#3d3d3d;stroke-linejoin:miter;\" x=\"268.834821\" xlink:href=\"#m8e3e1926ef\" y=\"210.991966\"/>\n     <use style=\"fill:#3d3d3d;stroke:#3d3d3d;stroke-linejoin:miter;\" x=\"268.834821\" xlink:href=\"#m8e3e1926ef\" y=\"203.546823\"/>\n     <use style=\"fill:#3d3d3d;stroke:#3d3d3d;stroke-linejoin:miter;\" x=\"268.834821\" xlink:href=\"#m8e3e1926ef\" y=\"210.991966\"/>\n     <use style=\"fill:#3d3d3d;stroke:#3d3d3d;stroke-linejoin:miter;\" x=\"268.834821\" xlink:href=\"#m8e3e1926ef\" y=\"212.665031\"/>\n     <use style=\"fill:#3d3d3d;stroke:#3d3d3d;stroke-linejoin:miter;\" x=\"268.834821\" xlink:href=\"#m8e3e1926ef\" y=\"212.414071\"/>\n     <use style=\"fill:#3d3d3d;stroke:#3d3d3d;stroke-linejoin:miter;\" x=\"268.834821\" xlink:href=\"#m8e3e1926ef\" y=\"213.083298\"/>\n     <use style=\"fill:#3d3d3d;stroke:#3d3d3d;stroke-linejoin:miter;\" x=\"268.834821\" xlink:href=\"#m8e3e1926ef\" y=\"212.915991\"/>\n     <use style=\"fill:#3d3d3d;stroke:#3d3d3d;stroke-linejoin:miter;\" x=\"268.834821\" xlink:href=\"#m8e3e1926ef\" y=\"212.915991\"/>\n     <use style=\"fill:#3d3d3d;stroke:#3d3d3d;stroke-linejoin:miter;\" x=\"268.834821\" xlink:href=\"#m8e3e1926ef\" y=\"211.326579\"/>\n     <use style=\"fill:#3d3d3d;stroke:#3d3d3d;stroke-linejoin:miter;\" x=\"268.834821\" xlink:href=\"#m8e3e1926ef\" y=\"211.326579\"/>\n     <use style=\"fill:#3d3d3d;stroke:#3d3d3d;stroke-linejoin:miter;\" x=\"268.834821\" xlink:href=\"#m8e3e1926ef\" y=\"211.828498\"/>\n     <use style=\"fill:#3d3d3d;stroke:#3d3d3d;stroke-linejoin:miter;\" x=\"268.834821\" xlink:href=\"#m8e3e1926ef\" y=\"197.356479\"/>\n     <use style=\"fill:#3d3d3d;stroke:#3d3d3d;stroke-linejoin:miter;\" x=\"268.834821\" xlink:href=\"#m8e3e1926ef\" y=\"197.356479\"/>\n     <use style=\"fill:#3d3d3d;stroke:#3d3d3d;stroke-linejoin:miter;\" x=\"268.834821\" xlink:href=\"#m8e3e1926ef\" y=\"208.147754\"/>\n     <use style=\"fill:#3d3d3d;stroke:#3d3d3d;stroke-linejoin:miter;\" x=\"268.834821\" xlink:href=\"#m8e3e1926ef\" y=\"210.573699\"/>\n     <use style=\"fill:#3d3d3d;stroke:#3d3d3d;stroke-linejoin:miter;\" x=\"268.834821\" xlink:href=\"#m8e3e1926ef\" y=\"210.573699\"/>\n     <use style=\"fill:#3d3d3d;stroke:#3d3d3d;stroke-linejoin:miter;\" x=\"268.834821\" xlink:href=\"#m8e3e1926ef\" y=\"210.573699\"/>\n     <use style=\"fill:#3d3d3d;stroke:#3d3d3d;stroke-linejoin:miter;\" x=\"268.834821\" xlink:href=\"#m8e3e1926ef\" y=\"208.398713\"/>\n     <use style=\"fill:#3d3d3d;stroke:#3d3d3d;stroke-linejoin:miter;\" x=\"268.834821\" xlink:href=\"#m8e3e1926ef\" y=\"208.398713\"/>\n     <use style=\"fill:#3d3d3d;stroke:#3d3d3d;stroke-linejoin:miter;\" x=\"268.834821\" xlink:href=\"#m8e3e1926ef\" y=\"208.398713\"/>\n     <use style=\"fill:#3d3d3d;stroke:#3d3d3d;stroke-linejoin:miter;\" x=\"268.834821\" xlink:href=\"#m8e3e1926ef\" y=\"208.398713\"/>\n     <use style=\"fill:#3d3d3d;stroke:#3d3d3d;stroke-linejoin:miter;\" x=\"268.834821\" xlink:href=\"#m8e3e1926ef\" y=\"206.809301\"/>\n     <use style=\"fill:#3d3d3d;stroke:#3d3d3d;stroke-linejoin:miter;\" x=\"268.834821\" xlink:href=\"#m8e3e1926ef\" y=\"172.176838\"/>\n     <use style=\"fill:#3d3d3d;stroke:#3d3d3d;stroke-linejoin:miter;\" x=\"268.834821\" xlink:href=\"#m8e3e1926ef\" y=\"154.693301\"/>\n     <use style=\"fill:#3d3d3d;stroke:#3d3d3d;stroke-linejoin:miter;\" x=\"268.834821\" xlink:href=\"#m8e3e1926ef\" y=\"206.809301\"/>\n     <use style=\"fill:#3d3d3d;stroke:#3d3d3d;stroke-linejoin:miter;\" x=\"268.834821\" xlink:href=\"#m8e3e1926ef\" y=\"178.283529\"/>\n     <use style=\"fill:#3d3d3d;stroke:#3d3d3d;stroke-linejoin:miter;\" x=\"268.834821\" xlink:href=\"#m8e3e1926ef\" y=\"205.554502\"/>\n     <use style=\"fill:#3d3d3d;stroke:#3d3d3d;stroke-linejoin:miter;\" x=\"268.834821\" xlink:href=\"#m8e3e1926ef\" y=\"212.414071\"/>\n     <use style=\"fill:#3d3d3d;stroke:#3d3d3d;stroke-linejoin:miter;\" x=\"268.834821\" xlink:href=\"#m8e3e1926ef\" y=\"131.270379\"/>\n     <use style=\"fill:#3d3d3d;stroke:#3d3d3d;stroke-linejoin:miter;\" x=\"268.834821\" xlink:href=\"#m8e3e1926ef\" y=\"212.748685\"/>\n    </g>\n   </g>\n   <g id=\"line2d_38\">\n    <path clip-path=\"url(#p671b01a188)\" d=\"M 316.663393 214.756364 \nL 316.663393 214.756364 \n\" style=\"fill:none;stroke:#3d3d3d;stroke-linecap:square;stroke-width:1.5;\"/>\n   </g>\n   <g id=\"line2d_39\">\n    <path clip-path=\"url(#p671b01a188)\" d=\"M 316.663393 213.292431 \nL 316.663393 211.159272 \n\" style=\"fill:none;stroke:#3d3d3d;stroke-linecap:square;stroke-width:1.5;\"/>\n   </g>\n   <g id=\"line2d_40\">\n    <path clip-path=\"url(#p671b01a188)\" d=\"M 307.097679 214.756364 \nL 326.229107 214.756364 \n\" style=\"fill:none;stroke:#3d3d3d;stroke-linecap:square;stroke-width:1.5;\"/>\n   </g>\n   <g id=\"line2d_41\">\n    <path clip-path=\"url(#p671b01a188)\" d=\"M 307.097679 211.159272 \nL 326.229107 211.159272 \n\" style=\"fill:none;stroke:#3d3d3d;stroke-linecap:square;stroke-width:1.5;\"/>\n   </g>\n   <g id=\"line2d_42\">\n    <g clip-path=\"url(#p671b01a188)\">\n     <use style=\"fill:#3d3d3d;stroke:#3d3d3d;stroke-linejoin:miter;\" x=\"316.663393\" xlink:href=\"#m8e3e1926ef\" y=\"179.621981\"/>\n     <use style=\"fill:#3d3d3d;stroke:#3d3d3d;stroke-linejoin:miter;\" x=\"316.663393\" xlink:href=\"#m8e3e1926ef\" y=\"140.723201\"/>\n     <use style=\"fill:#3d3d3d;stroke:#3d3d3d;stroke-linejoin:miter;\" x=\"316.663393\" xlink:href=\"#m8e3e1926ef\" y=\"200.786264\"/>\n     <use style=\"fill:#3d3d3d;stroke:#3d3d3d;stroke-linejoin:miter;\" x=\"316.663393\" xlink:href=\"#m8e3e1926ef\" y=\"210.908312\"/>\n     <use style=\"fill:#3d3d3d;stroke:#3d3d3d;stroke-linejoin:miter;\" x=\"316.663393\" xlink:href=\"#m8e3e1926ef\" y=\"193.675734\"/>\n     <use style=\"fill:#3d3d3d;stroke:#3d3d3d;stroke-linejoin:miter;\" x=\"316.663393\" xlink:href=\"#m8e3e1926ef\" y=\"209.486206\"/>\n     <use style=\"fill:#3d3d3d;stroke:#3d3d3d;stroke-linejoin:miter;\" x=\"316.663393\" xlink:href=\"#m8e3e1926ef\" y=\"197.942052\"/>\n     <use style=\"fill:#3d3d3d;stroke:#3d3d3d;stroke-linejoin:miter;\" x=\"316.663393\" xlink:href=\"#m8e3e1926ef\" y=\"208.81698\"/>\n     <use style=\"fill:#3d3d3d;stroke:#3d3d3d;stroke-linejoin:miter;\" x=\"316.663393\" xlink:href=\"#m8e3e1926ef\" y=\"210.406392\"/>\n     <use style=\"fill:#3d3d3d;stroke:#3d3d3d;stroke-linejoin:miter;\" x=\"316.663393\" xlink:href=\"#m8e3e1926ef\" y=\"190.915176\"/>\n     <use style=\"fill:#3d3d3d;stroke:#3d3d3d;stroke-linejoin:miter;\" x=\"316.663393\" xlink:href=\"#m8e3e1926ef\" y=\"190.915176\"/>\n     <use style=\"fill:#3d3d3d;stroke:#3d3d3d;stroke-linejoin:miter;\" x=\"316.663393\" xlink:href=\"#m8e3e1926ef\" y=\"210.322739\"/>\n     <use style=\"fill:#3d3d3d;stroke:#3d3d3d;stroke-linejoin:miter;\" x=\"316.663393\" xlink:href=\"#m8e3e1926ef\" y=\"170.922039\"/>\n     <use style=\"fill:#3d3d3d;stroke:#3d3d3d;stroke-linejoin:miter;\" x=\"316.663393\" xlink:href=\"#m8e3e1926ef\" y=\"199.698771\"/>\n     <use style=\"fill:#3d3d3d;stroke:#3d3d3d;stroke-linejoin:miter;\" x=\"316.663393\" xlink:href=\"#m8e3e1926ef\" y=\"102.5773\"/>\n     <use style=\"fill:#3d3d3d;stroke:#3d3d3d;stroke-linejoin:miter;\" x=\"316.663393\" xlink:href=\"#m8e3e1926ef\" y=\"208.231407\"/>\n     <use style=\"fill:#3d3d3d;stroke:#3d3d3d;stroke-linejoin:miter;\" x=\"316.663393\" xlink:href=\"#m8e3e1926ef\" y=\"185.979631\"/>\n     <use style=\"fill:#3d3d3d;stroke:#3d3d3d;stroke-linejoin:miter;\" x=\"316.663393\" xlink:href=\"#m8e3e1926ef\" y=\"151.932742\"/>\n     <use style=\"fill:#3d3d3d;stroke:#3d3d3d;stroke-linejoin:miter;\" x=\"316.663393\" xlink:href=\"#m8e3e1926ef\" y=\"211.075619\"/>\n     <use style=\"fill:#3d3d3d;stroke:#3d3d3d;stroke-linejoin:miter;\" x=\"316.663393\" xlink:href=\"#m8e3e1926ef\" y=\"210.908312\"/>\n    </g>\n   </g>\n   <g id=\"line2d_43\">\n    <path clip-path=\"url(#p671b01a188)\" d=\"M 364.491964 214.67271 \nL 364.491964 214.756364 \n\" style=\"fill:none;stroke:#3d3d3d;stroke-linecap:square;stroke-width:1.5;\"/>\n   </g>\n   <g id=\"line2d_44\">\n    <path clip-path=\"url(#p671b01a188)\" d=\"M 364.491964 213.668871 \nL 364.491964 212.163112 \n\" style=\"fill:none;stroke:#3d3d3d;stroke-linecap:square;stroke-width:1.5;\"/>\n   </g>\n   <g id=\"line2d_45\">\n    <path clip-path=\"url(#p671b01a188)\" d=\"M 354.92625 214.756364 \nL 374.057679 214.756364 \n\" style=\"fill:none;stroke:#3d3d3d;stroke-linecap:square;stroke-width:1.5;\"/>\n   </g>\n   <g id=\"line2d_46\">\n    <path clip-path=\"url(#p671b01a188)\" d=\"M 354.92625 212.163112 \nL 374.057679 212.163112 \n\" style=\"fill:none;stroke:#3d3d3d;stroke-linecap:square;stroke-width:1.5;\"/>\n   </g>\n   <g id=\"line2d_47\">\n    <g clip-path=\"url(#p671b01a188)\">\n     <use style=\"fill:#3d3d3d;stroke:#3d3d3d;stroke-linejoin:miter;\" x=\"364.491964\" xlink:href=\"#m8e3e1926ef\" y=\"210.490046\"/>\n     <use style=\"fill:#3d3d3d;stroke:#3d3d3d;stroke-linejoin:miter;\" x=\"364.491964\" xlink:href=\"#m8e3e1926ef\" y=\"211.995805\"/>\n     <use style=\"fill:#3d3d3d;stroke:#3d3d3d;stroke-linejoin:miter;\" x=\"364.491964\" xlink:href=\"#m8e3e1926ef\" y=\"206.725648\"/>\n     <use style=\"fill:#3d3d3d;stroke:#3d3d3d;stroke-linejoin:miter;\" x=\"364.491964\" xlink:href=\"#m8e3e1926ef\" y=\"210.657352\"/>\n     <use style=\"fill:#3d3d3d;stroke:#3d3d3d;stroke-linejoin:miter;\" x=\"364.491964\" xlink:href=\"#m8e3e1926ef\" y=\"206.307381\"/>\n     <use style=\"fill:#3d3d3d;stroke:#3d3d3d;stroke-linejoin:miter;\" x=\"364.491964\" xlink:href=\"#m8e3e1926ef\" y=\"210.239086\"/>\n     <use style=\"fill:#3d3d3d;stroke:#3d3d3d;stroke-linejoin:miter;\" x=\"364.491964\" xlink:href=\"#m8e3e1926ef\" y=\"201.95741\"/>\n     <use style=\"fill:#3d3d3d;stroke:#3d3d3d;stroke-linejoin:miter;\" x=\"364.491964\" xlink:href=\"#m8e3e1926ef\" y=\"132.859791\"/>\n    </g>\n   </g>\n   <g id=\"line2d_48\">\n    <path clip-path=\"url(#p671b01a188)\" d=\"M 58.389107 214.254444 \nL 96.651964 214.254444 \n\" style=\"fill:none;stroke:#3d3d3d;stroke-linecap:square;stroke-width:1.5;\"/>\n   </g>\n   <g id=\"line2d_49\">\n    <path clip-path=\"url(#p671b01a188)\" d=\"M 106.217679 213.417911 \nL 144.480536 213.417911 \n\" style=\"fill:none;stroke:#3d3d3d;stroke-linecap:square;stroke-width:1.5;\"/>\n   </g>\n   <g id=\"line2d_50\">\n    <path clip-path=\"url(#p671b01a188)\" d=\"M 154.04625 214.67271 \nL 192.309107 214.67271 \n\" style=\"fill:none;stroke:#3d3d3d;stroke-linecap:square;stroke-width:1.5;\"/>\n   </g>\n   <g id=\"line2d_51\">\n    <path clip-path=\"url(#p671b01a188)\" d=\"M 201.874821 214.170791 \nL 240.137679 214.170791 \n\" style=\"fill:none;stroke:#3d3d3d;stroke-linecap:square;stroke-width:1.5;\"/>\n   </g>\n   <g id=\"line2d_52\">\n    <path clip-path=\"url(#p671b01a188)\" d=\"M 249.703393 214.67271 \nL 287.96625 214.67271 \n\" style=\"fill:none;stroke:#3d3d3d;stroke-linecap:square;stroke-width:1.5;\"/>\n   </g>\n   <g id=\"line2d_53\">\n    <path clip-path=\"url(#p671b01a188)\" d=\"M 297.531964 214.170791 \nL 335.794821 214.170791 \n\" style=\"fill:none;stroke:#3d3d3d;stroke-linecap:square;stroke-width:1.5;\"/>\n   </g>\n   <g id=\"line2d_54\">\n    <path clip-path=\"url(#p671b01a188)\" d=\"M 345.360536 214.42175 \nL 383.623393 214.42175 \n\" style=\"fill:none;stroke:#3d3d3d;stroke-linecap:square;stroke-width:1.5;\"/>\n   </g>\n   <g id=\"patch_10\">\n    <path d=\"M 53.60625 224.64 \nL 53.60625 7.2 \n\" style=\"fill:none;stroke:#000000;stroke-linecap:square;stroke-linejoin:miter;stroke-width:0.8;\"/>\n   </g>\n   <g id=\"patch_11\">\n    <path d=\"M 388.40625 224.64 \nL 388.40625 7.2 \n\" style=\"fill:none;stroke:#000000;stroke-linecap:square;stroke-linejoin:miter;stroke-width:0.8;\"/>\n   </g>\n   <g id=\"patch_12\">\n    <path d=\"M 53.60625 224.64 \nL 388.40625 224.64 \n\" style=\"fill:none;stroke:#000000;stroke-linecap:square;stroke-linejoin:miter;stroke-width:0.8;\"/>\n   </g>\n   <g id=\"patch_13\">\n    <path d=\"M 53.60625 7.2 \nL 388.40625 7.2 \n\" style=\"fill:none;stroke:#000000;stroke-linecap:square;stroke-linejoin:miter;stroke-width:0.8;\"/>\n   </g>\n  </g>\n </g>\n <defs>\n  <clipPath id=\"p671b01a188\">\n   <rect height=\"217.44\" width=\"334.8\" x=\"53.60625\" y=\"7.2\"/>\n  </clipPath>\n </defs>\n</svg>\n",
      "image/png": "[encoded data removed]"
     },
     "metadata": {
      "needs_background": "light"
     }
    }
   ],
   "source": [
    "df= df[df['fix_to_release_delay'] >= 0]\n",
    "ax = sns.boxplot(y='fix_to_release_delay', x='ecosystem', data = df)\n",
    "plt.savefig('fix_to_release_delay.png')"
   ]
  },
  {
   "cell_type": "code",
   "execution_count": 337,
   "metadata": {},
   "outputs": [
    {
     "output_type": "execute_result",
     "data": {
      "text/plain": [
       "ecosystem\n",
       "Composer    204\n",
       "Go          224\n",
       "Maven       745\n",
       "NuGet        52\n",
       "RubyGems    121\n",
       "npm         586\n",
       "pip         308\n",
       "Name: fixing_release, dtype: int64"
      ]
     },
     "metadata": {},
     "execution_count": 337
    }
   ],
   "source": [
    "gb = df.groupby('ecosystem')\n",
    "eco_dfs = [(x,gb.get_group(x)) for x in gb.groups]\n",
    "adv = df.groupby('ecosystem')[['advisory_id']].nunique()\n",
    "pkg = df.groupby('ecosystem')[['package_id']].nunique()\n",
    "rel = df.groupby('ecosystem')['fixing_release'].nunique()\n",
    "fixrel = df.groupby('ecosystem')[['fix_to_release_delay']].median()\n",
    "pub_before_release = df[df['release_to_publish_delay']<0]\n",
    "pub_before_release = pub_before_release.groupby('ecosystem')[['advisory_id']].count()\n",
    "pub_before_fix = df[df['fix_to_publish_delay']<0]\n",
    "pub_before_fix = pub_before_fix.groupby('ecosystem')[['advisory_id']].count()\n",
    "rel"
   ]
  },
  {
   "cell_type": "code",
   "execution_count": 338,
   "metadata": {},
   "outputs": [
    {
     "output_type": "execute_result",
     "data": {
      "text/plain": [
       "  ecosystem  advisory  package  releases  fix_to_release  \\\n",
       "0  Composer       183       93       204             1.0   \n",
       "1        Go       184      150       224             7.0   \n",
       "2     Maven       574      385       745            16.0   \n",
       "5       npm       553      412       586             1.0   \n",
       "3     NuGet        70       22        52             4.0   \n",
       "6       pip       324      200       308             6.0   \n",
       "4  RubyGems       113       80       121             7.0   \n",
       "\n",
       "   publish_before_release  publish_before_fix  \n",
       "0                    12.3                 5.4  \n",
       "1                    21.4                 8.9  \n",
       "2                    21.1                 4.0  \n",
       "5                    25.1                 9.7  \n",
       "3                     9.6                 7.7  \n",
       "6                    27.6                14.0  \n",
       "4                     8.3                 3.3  "
      ],
      "text/html": "<div>\n<style scoped>\n    .dataframe tbody tr th:only-of-type {\n        vertical-align: middle;\n    }\n\n    .dataframe tbody tr th {\n        vertical-align: top;\n    }\n\n    .dataframe thead th {\n        text-align: right;\n    }\n</style>\n<table border=\"1\" class=\"dataframe\">\n  <thead>\n    <tr style=\"text-align: right;\">\n      <th></th>\n      <th>ecosystem</th>\n      <th>advisory</th>\n      <th>package</th>\n      <th>releases</th>\n      <th>fix_to_release</th>\n      <th>publish_before_release</th>\n      <th>publish_before_fix</th>\n    </tr>\n  </thead>\n  <tbody>\n    <tr>\n      <th>0</th>\n      <td>Composer</td>\n      <td>183</td>\n      <td>93</td>\n      <td>204</td>\n      <td>1.0</td>\n      <td>12.3</td>\n      <td>5.4</td>\n    </tr>\n    <tr>\n      <th>1</th>\n      <td>Go</td>\n      <td>184</td>\n      <td>150</td>\n      <td>224</td>\n      <td>7.0</td>\n      <td>21.4</td>\n      <td>8.9</td>\n    </tr>\n    <tr>\n      <th>2</th>\n      <td>Maven</td>\n      <td>574</td>\n      <td>385</td>\n      <td>745</td>\n      <td>16.0</td>\n      <td>21.1</td>\n      <td>4.0</td>\n    </tr>\n    <tr>\n      <th>5</th>\n      <td>npm</td>\n      <td>553</td>\n      <td>412</td>\n      <td>586</td>\n      <td>1.0</td>\n      <td>25.1</td>\n      <td>9.7</td>\n    </tr>\n    <tr>\n      <th>3</th>\n      <td>NuGet</td>\n      <td>70</td>\n      <td>22</td>\n      <td>52</td>\n      <td>4.0</td>\n      <td>9.6</td>\n      <td>7.7</td>\n    </tr>\n    <tr>\n      <th>6</th>\n      <td>pip</td>\n      <td>324</td>\n      <td>200</td>\n      <td>308</td>\n      <td>6.0</td>\n      <td>27.6</td>\n      <td>14.0</td>\n    </tr>\n    <tr>\n      <th>4</th>\n      <td>RubyGems</td>\n      <td>113</td>\n      <td>80</td>\n      <td>121</td>\n      <td>7.0</td>\n      <td>8.3</td>\n      <td>3.3</td>\n    </tr>\n  </tbody>\n</table>\n</div>"
     },
     "metadata": {},
     "execution_count": 338
    }
   ],
   "source": [
    "final =reduce(lambda x,y : pd.merge(x,y,on='ecosystem'),[adv, pkg, rel, fixrel,pub_before_release, pub_before_fix])\n",
    "final = final.reset_index()\n",
    "final.columns = ['ecosystem','advisory','package','releases','fix_to_release', 'publish_before_release','publish_before_fix']\n",
    "final['publish_before_release'] =  round(final['publish_before_release'] / final['releases'] * 100, 1)\n",
    "final['publish_before_fix'] =  round(final['publish_before_fix'] / final['releases'] * 100, 1)\n",
    "final['temp'] = final['ecosystem'].str.lower()\n",
    "final = final.sort_values(by = 'temp', ascending=True)\n",
    "final = final.drop('temp', axis=1)\n",
    "final"
   ]
  },
  {
   "cell_type": "code",
   "execution_count": 339,
   "metadata": {},
   "outputs": [
    {
     "output_type": "stream",
     "name": "stdout",
     "text": [
      "\\begin{tabular}{lrrrrrr}\n\\hline\n ecosystem   &   advisory &   package &   releases &   fix\\_to\\_release &   publish\\_before\\_release &   publish\\_before\\_fix \\\\\n\\hline\n Composer    &        183 &        93 &        204 &                1 &                     12.3 &                  5.4 \\\\\n Go          &        184 &       150 &        224 &                7 &                     21.4 &                  8.9 \\\\\n Maven       &        574 &       385 &        745 &               16 &                     21.1 &                  4   \\\\\n npm         &        553 &       412 &        586 &                1 &                     25.1 &                  9.7 \\\\\n NuGet       &         70 &        22 &         52 &                4 &                      9.6 &                  7.7 \\\\\n pip         &        324 &       200 &        308 &                6 &                     27.6 &                 14   \\\\\n RubyGems    &        113 &        80 &        121 &                7 &                      8.3 &                  3.3 \\\\\n\\hline\n\\end{tabular}\n"
     ]
    }
   ],
   "source": [
    "print(tabulate(final, tablefmt='latex', headers='keys',showindex=False))"
   ]
  },
  {
   "cell_type": "code",
   "execution_count": 340,
   "metadata": {},
   "outputs": [],
   "source": [
    "# q='select * from fix_commits where commit_date is not null'\n",
    "# df = pd.DataFrame(sql.execute(q))\n",
    "# df['auth_commit_delay'] = (df['commit_date'].dt.date - df['author_date'].dt.date).dt.days\n",
    "# df['auth_commit_delay'].describe()\n",
    "# print(len(df))\n",
    "# df = df[df['auth_commit_delay'] > 0]\n",
    "# len(df)"
   ]
  },
  {
   "cell_type": "code",
   "execution_count": 341,
   "metadata": {},
   "outputs": [
    {
     "output_type": "execute_result",
     "data": {
      "text/plain": [
       "(count    1163.000000\n",
       " mean       34.128977\n",
       " std       109.367414\n",
       " min         0.000000\n",
       " 25%         0.000000\n",
       " 50%         6.000000\n",
       " 75%        22.000000\n",
       " max      1758.000000\n",
       " Name: fix_to_release_delay, dtype: float64,\n",
       " count    1348.000000\n",
       " mean       39.817507\n",
       " std       127.074796\n",
       " min         0.000000\n",
       " 25%         0.000000\n",
       " 50%         6.000000\n",
       " 75%        28.250000\n",
       " max      1734.000000\n",
       " Name: fix_to_release_delay, dtype: float64,\n",
       " count     129.000000\n",
       " mean       51.635659\n",
       " std       250.196733\n",
       " min         0.000000\n",
       " 25%         0.000000\n",
       " 50%         3.000000\n",
       " 75%        14.000000\n",
       " max      2363.000000\n",
       " Name: fix_to_release_delay, dtype: float64)"
      ]
     },
     "metadata": {},
     "execution_count": 341
    }
   ],
   "source": [
    "high, medium, low = df[df['severity']=='H'], df[df['severity']=='M'], df[df['severity']=='L']\n",
    "high['fix_to_release_delay'].describe(), medium['fix_to_release_delay'].describe(), low['fix_to_release_delay'].describe()"
   ]
  },
  {
   "cell_type": "code",
   "execution_count": 342,
   "metadata": {},
   "outputs": [
    {
     "output_type": "execute_result",
     "data": {
      "text/plain": [
       "(MannwhitneyuResult(statistic=760928.0, pvalue=0.10010332931359212),\n",
       " MannwhitneyuResult(statistic=72403.0, pvalue=0.2555501270427748),\n",
       " MannwhitneyuResult(statistic=81135.0, pvalue=0.10212063588618164))"
      ]
     },
     "metadata": {},
     "execution_count": 342
    }
   ],
   "source": [
    "\n",
    "from scipy.stats import mannwhitneyu\n",
    "mannwhitneyu(high['fix_to_release_delay'],medium['fix_to_release_delay']), mannwhitneyu(high['fix_to_release_delay'],low['fix_to_release_delay']), mannwhitneyu(medium['fix_to_release_delay'],low['fix_to_release_delay'])"
   ]
  },
  {
   "cell_type": "code",
   "execution_count": 343,
   "metadata": {},
   "outputs": [
    {
     "output_type": "execute_result",
     "data": {
      "text/plain": [
       "count      57.000000\n",
       "mean       41.508772\n",
       "std       156.849350\n",
       "min         0.000000\n",
       "25%         0.000000\n",
       "50%         4.000000\n",
       "75%         9.000000\n",
       "max      1130.000000\n",
       "Name: range, dtype: float64"
      ]
     },
     "metadata": {},
     "execution_count": 343
    }
   ],
   "source": [
    "q = '''select advisory_id, package_id, ecosystem, min(release_date) as first,\n",
    "       max(release_date) as last\n",
    "        from\n",
    "        (select advisory_id, min(commit_date) as fix_commit_date\n",
    "        from fix_commits fc\n",
    "        join package p on fc.package_id = p.id\n",
    "        where ecosystem = 'npm'\n",
    "        and commit_date is not null\n",
    "        group by advisory_id) as fcd\n",
    "        join\n",
    "        (select a.*, p.ecosystem, ri.version, ri.publish_date as release_date\n",
    "        from advisory a\n",
    "        join package p on a.package_id = p.id\n",
    "        join fixing_releases fr on a.id = fr.advisory_id\n",
    "        join release_info ri on p.id = ri.package_id and ri.version=fr.version\n",
    "        where ecosystem = 'npm'\n",
    "        and type != 'Malicious Package'\n",
    "        and fr.version!= 'manual checkup needed'\n",
    "            and ri.publish_date is not null) as frd\n",
    "        on fcd.advisory_id=frd.id\n",
    "            and fcd.advisory_id in\n",
    "    (select advisory_id from\n",
    "(select advisory_id, count(*)\n",
    "from\n",
    "(select advisory_id, min(commit_date) as fix_commit_date\n",
    "from fix_commits fc\n",
    "join package p on fc.package_id = p.id\n",
    "where ecosystem = 'npm'\n",
    "and commit_date is not null\n",
    "group by advisory_id) as fcd\n",
    "join\n",
    "(select a.*, p.ecosystem, ri.version, ri.publish_date as release_date\n",
    "from advisory a\n",
    "join package p on a.package_id = p.id\n",
    "join fixing_releases fr on a.id = fr.advisory_id\n",
    "join release_info ri on p.id = ri.package_id and ri.version=fr.version\n",
    "where ecosystem = 'npm'\n",
    "and type != 'Malicious Package'\n",
    "and fr.version!= 'manual checkup needed'\n",
    "    and ri.publish_date is not null) as frd\n",
    "on fcd.advisory_id=frd.id\n",
    "group by advisory_id\n",
    "having count(*) > 1) as sub) \n",
    "group by advisory_id, package_id, ecosystem;'''\n",
    "multiple_rel = pd.DataFrame(sql.execute(q))\n",
    "multiple_rel['range'] = (multiple_rel['last'].dt.date - multiple_rel['first'].dt.date).dt.days\n",
    "multiple_rel['range'].describe()"
   ]
  },
  {
   "cell_type": "code",
   "execution_count": 344,
   "metadata": {},
   "outputs": [
    {
     "output_type": "stream",
     "name": "stdout",
     "text": [
      "2640 6956\n"
     ]
    },
    {
     "output_type": "execute_result",
     "data": {
      "text/plain": [
       "2640"
      ]
     },
     "metadata": {},
     "execution_count": 344
    }
   ],
   "source": [
    "q='''select id as advisory_id,\n",
    "       case\n",
    "        when id in (select advisory_id from advisoryCVE) then 'cve'\n",
    "        else 'noncve'\n",
    "end as ifcve\n",
    "from advisory;'''\n",
    "ifcve = pd.DataFrame(sql.execute(q))\n",
    "print(len(df), len(ifcve))\n",
    "df= pd.merge(df, ifcve, on='advisory_id')\n",
    "len(df)"
   ]
  },
  {
   "cell_type": "code",
   "execution_count": 345,
   "metadata": {},
   "outputs": [
    {
     "output_type": "stream",
     "name": "stdout",
     "text": [
      "2005 635\n"
     ]
    }
   ],
   "source": [
    "cve = df[df['ifcve']=='cve']\n",
    "noncve = df[df['ifcve']=='noncve']\n",
    "print(len(cve), len(noncve))"
   ]
  },
  {
   "cell_type": "code",
   "execution_count": 346,
   "metadata": {},
   "outputs": [
    {
     "output_type": "execute_result",
     "data": {
      "text/plain": [
       "(count    2005.000000\n",
       " mean       31.808479\n",
       " std       117.267072\n",
       " min         0.000000\n",
       " 25%         0.000000\n",
       " 50%         6.000000\n",
       " 75%        23.000000\n",
       " max      2363.000000\n",
       " Name: fix_to_release_delay, dtype: float64,\n",
       " count     635.000000\n",
       " mean       57.088189\n",
       " std       158.075996\n",
       " min         0.000000\n",
       " 25%         0.000000\n",
       " 50%         6.000000\n",
       " 75%        36.000000\n",
       " max      1341.000000\n",
       " Name: fix_to_release_delay, dtype: float64)"
      ]
     },
     "metadata": {},
     "execution_count": 346
    }
   ],
   "source": [
    "cve['fix_to_release_delay'].describe(), noncve['fix_to_release_delay'].describe()"
   ]
  },
  {
   "cell_type": "code",
   "execution_count": 347,
   "metadata": {},
   "outputs": [
    {
     "output_type": "execute_result",
     "data": {
      "text/plain": [
       "MannwhitneyuResult(statistic=5073.0, pvalue=0.03477827223692795)"
      ]
     },
     "metadata": {},
     "execution_count": 347
    }
   ],
   "source": [
    "mannwhitneyu(cve['fix_to_release_delay'],noncve['fix_to_release_delay'].describe())"
   ]
  },
  {
   "cell_type": "code",
   "execution_count": null,
   "metadata": {},
   "outputs": [],
   "source": []
  }
 ]
}