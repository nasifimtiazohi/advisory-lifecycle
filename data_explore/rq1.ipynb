{
 "metadata": {
  "language_info": {
   "codemirror_mode": {
    "name": "ipython",
    "version": 3
   },
   "file_extension": ".py",
   "mimetype": "text/x-python",
   "name": "python",
   "nbconvert_exporter": "python",
   "pygments_lexer": "ipython3",
   "version": "3.9.4"
  },
  "orig_nbformat": 2,
  "kernelspec": {
   "name": "python394jvsc74a57bd045e6bb90db539892217150e51eb80500a9bf028439c0d739bd24c7b8d42327c6",
   "display_name": "Python 3.9.4 64-bit ('advisory-lifecycle': pipenv)"
  },
  "metadata": {
   "interpreter": {
    "hash": "aee8b7b246df8f9039afb4144a1f6fd8d2ca17a180786b69acc140d282b71a49"
   }
  }
 },
 "nbformat": 4,
 "nbformat_minor": 2,
 "cells": [
  {
   "cell_type": "code",
   "execution_count": 2087,
   "metadata": {},
   "outputs": [],
   "source": [
    "import sys\n",
    "import sql\n",
    "import pandas as pd\n",
    "from functools import reduce\n",
    "from tabulate import tabulate\n",
    "import datetime\n",
    "import matplotlib.pyplot as plt\n",
    "import seaborn as sns\n",
    "import common\n",
    "import numpy as np"
   ]
  },
  {
   "cell_type": "code",
   "execution_count": 2088,
   "metadata": {},
   "outputs": [
    {
     "output_type": "execute_result",
     "data": {
      "text/plain": [
       "2497"
      ]
     },
     "metadata": {},
     "execution_count": 2088
    }
   ],
   "source": [
    "q = '''select *\n",
    "from fix_commits fc\n",
    "join fixing_releases fr on fc.advisory_id = fr.advisory_id\n",
    "where commit_date is not null\n",
    "and version!=%s;'''\n",
    "df = pd.DataFrame(sql.execute(q,(common.manualcheckup)))\n",
    "df['advisory_id'].nunique()"
   ]
  },
  {
   "cell_type": "code",
   "execution_count": 2089,
   "metadata": {},
   "outputs": [
    {
     "output_type": "execute_result",
     "data": {
      "text/plain": [
       "(75, 145)"
      ]
     },
     "metadata": {},
     "execution_count": 2089
    }
   ],
   "source": [
    "#not present in Maven central repository\n",
    "q='''select *\n",
    "from fix_commits fc\n",
    "join fixing_releases fr on fc.advisory_id = fr.advisory_id\n",
    "join package p on fc.package_id = p.id\n",
    "where commit_date is not null\n",
    "and version!=%s\n",
    "and fc.advisory_id not in\n",
    "(select advisory_id\n",
    "from fixing_releases fr\n",
    "join advisory a on fr.advisory_id = a.id\n",
    "join release_info ri on fr.version = ri.version and ri.package_id=a.package_id);'''\n",
    "df = pd.DataFrame(sql.execute(q,(common.manualcheckup)))\n",
    "df['package_id'].nunique(), df['advisory_id'].nunique()"
   ]
  },
  {
   "cell_type": "code",
   "execution_count": 2090,
   "metadata": {},
   "outputs": [
    {
     "output_type": "execute_result",
     "data": {
      "text/plain": [
       "(357, 272, 341)"
      ]
     },
     "metadata": {},
     "execution_count": 2090
    }
   ],
   "source": [
    "q='''select *\n",
    "from fix_commits fc\n",
    "join fixing_releases fr on fc.advisory_id = fr.advisory_id\n",
    "join package p on fc.package_id = p.id\n",
    "join release_info ri on p.id = ri.package_id and ri.version=fr.version\n",
    "where commit_date is not null\n",
    "and fr.version!='manual checkup needed'\n",
    "and ri.publish_date is null;'''\n",
    "df = pd.DataFrame(sql.execute(q))\n",
    "df['ri.id'].nunique(), df['package_id'].nunique(), df['advisory_id'].nunique()"
   ]
  },
  {
   "cell_type": "code",
   "execution_count": 2091,
   "metadata": {},
   "outputs": [
    {
     "output_type": "execute_result",
     "data": {
      "text/plain": [
       "806"
      ]
     },
     "metadata": {},
     "execution_count": 2091
    }
   ],
   "source": [
    "q = '''select advisory_id, count(distinct commit_sha)\n",
    "from fix_commits\n",
    "where commit_date is not null\n",
    "group by advisory_id\n",
    "having count(distinct commit_sha) > 1'''\n",
    "df = pd.DataFrame(sql.execute(q))\n",
    "len(df)"
   ]
  },
  {
   "cell_type": "code",
   "execution_count": 2092,
   "metadata": {},
   "outputs": [
    {
     "output_type": "execute_result",
     "data": {
      "text/plain": [
       "                            advisory_id  package_id ecosystem  \\\n",
       "0               SNYK-PYTHON-SALT-174927           1       pip   \n",
       "1                SNYK-PYTHON-SALT-40687           1       pip   \n",
       "2                SNYK-PYTHON-SALT-40687           1       pip   \n",
       "3                SNYK-PYTHON-SALT-40687           1       pip   \n",
       "4                SNYK-PYTHON-SALT-40688           1       pip   \n",
       "...                                 ...         ...       ...   \n",
       "2784       SNYK-JS-APOLLOGATEWAY-174915        1852       npm   \n",
       "2785  SNYK-PHP-LIGHTSAMLLIGHTSAML-72139        2335  Composer   \n",
       "2786            SNYK-PHP-TYPO3CMS-73594         272  Composer   \n",
       "2787            SNYK-PHP-TYPO3CMS-73594         272  Composer   \n",
       "2788      SNYK-JAVA-ORGAPACHEQPID-30714        3006     Maven   \n",
       "\n",
       "                           type severity disclose_date publish_date  \\\n",
       "0      Arbitrary Code Execution        H    2013-05-11   2019-06-06   \n",
       "1       Denial of Service (DoS)        H    2017-08-24   2017-11-05   \n",
       "2       Denial of Service (DoS)        H    2017-08-24   2017-11-05   \n",
       "3       Denial of Service (DoS)        H    2017-08-24   2017-11-05   \n",
       "4           Directory Traversal        H    2017-08-23   2017-11-05   \n",
       "...                         ...      ...           ...          ...   \n",
       "2784        Prototype Pollution        H    2019-06-04   2019-06-05   \n",
       "2785  Access Restriction Bypass        H    2018-04-18   2018-04-26   \n",
       "2786  Security Misconfiguration        H    2019-01-22   2019-01-22   \n",
       "2787  Security Misconfiguration        H    2019-01-22   2019-01-22   \n",
       "2788  Improper Input Validation        H    2016-07-04   2016-07-04   \n",
       "\n",
       "     earliest_fix_commit_date latest_fix_commit_date        release_date  \\\n",
       "0         2013-09-19 18:27:38    2013-09-19 20:28:04 2013-10-17 18:17:40   \n",
       "1         2017-08-31 17:07:42    2017-10-03 22:17:19 2017-10-09 16:33:50   \n",
       "2         2017-08-31 17:07:42    2017-10-03 22:17:19 2017-10-09 16:30:36   \n",
       "3         2017-08-31 17:07:42    2017-10-03 22:17:19 2017-10-09 16:39:22   \n",
       "4         2017-08-31 17:06:33    2017-10-03 22:19:25 2017-10-09 16:33:50   \n",
       "...                       ...                    ...                 ...   \n",
       "2784      2019-06-04 23:23:04    2019-06-04 23:23:04 2019-06-04 23:25:34   \n",
       "2785      2018-03-05 16:26:57    2018-03-05 16:26:57 2018-03-05 16:29:08   \n",
       "2786      2019-01-22 08:42:56    2019-01-22 08:42:56 2019-01-22 10:10:02   \n",
       "2787      2019-01-22 08:42:56    2019-01-22 08:42:56 2019-01-22 10:12:04   \n",
       "2788      2016-06-27 15:31:44    2016-06-27 15:31:44 2016-06-27 15:53:00   \n",
       "\n",
       "        version            fixing_release  \\\n",
       "0        0.17.1     package1version0.17.1   \n",
       "1     2016.11.8  package1version2016.11.8   \n",
       "2      2016.3.8   package1version2016.3.8   \n",
       "3      2017.7.2   package1version2017.7.2   \n",
       "4     2016.11.8  package1version2016.11.8   \n",
       "...         ...                       ...   \n",
       "2784      0.6.2   package1852version0.6.2   \n",
       "2785      1.3.5   package2335version1.3.5   \n",
       "2786     8.7.23   package272version8.7.23   \n",
       "2787      9.5.4    package272version9.5.4   \n",
       "2788     0.10.0  package3006version0.10.0   \n",
       "\n",
       "                                   total_release  \n",
       "0                 SNYK-PYTHON-SALT-17492710.17.1  \n",
       "1               SNYK-PYTHON-SALT-4068712016.11.8  \n",
       "2                SNYK-PYTHON-SALT-4068712016.3.8  \n",
       "3                SNYK-PYTHON-SALT-4068712017.7.2  \n",
       "4               SNYK-PYTHON-SALT-4068812016.11.8  \n",
       "...                                          ...  \n",
       "2784       SNYK-JS-APOLLOGATEWAY-17491518520.6.2  \n",
       "2785  SNYK-PHP-LIGHTSAMLLIGHTSAML-7213923351.3.5  \n",
       "2786            SNYK-PHP-TYPO3CMS-735942728.7.23  \n",
       "2787             SNYK-PHP-TYPO3CMS-735942729.5.4  \n",
       "2788     SNYK-JAVA-ORGAPACHEQPID-3071430060.10.0  \n",
       "\n",
       "[2789 rows x 13 columns]"
      ],
      "text/html": "<div>\n<style scoped>\n    .dataframe tbody tr th:only-of-type {\n        vertical-align: middle;\n    }\n\n    .dataframe tbody tr th {\n        vertical-align: top;\n    }\n\n    .dataframe thead th {\n        text-align: right;\n    }\n</style>\n<table border=\"1\" class=\"dataframe\">\n  <thead>\n    <tr style=\"text-align: right;\">\n      <th></th>\n      <th>advisory_id</th>\n      <th>package_id</th>\n      <th>ecosystem</th>\n      <th>type</th>\n      <th>severity</th>\n      <th>disclose_date</th>\n      <th>publish_date</th>\n      <th>earliest_fix_commit_date</th>\n      <th>latest_fix_commit_date</th>\n      <th>release_date</th>\n      <th>version</th>\n      <th>fixing_release</th>\n      <th>total_release</th>\n    </tr>\n  </thead>\n  <tbody>\n    <tr>\n      <th>0</th>\n      <td>SNYK-PYTHON-SALT-174927</td>\n      <td>1</td>\n      <td>pip</td>\n      <td>Arbitrary Code Execution</td>\n      <td>H</td>\n      <td>2013-05-11</td>\n      <td>2019-06-06</td>\n      <td>2013-09-19 18:27:38</td>\n      <td>2013-09-19 20:28:04</td>\n      <td>2013-10-17 18:17:40</td>\n      <td>0.17.1</td>\n      <td>package1version0.17.1</td>\n      <td>SNYK-PYTHON-SALT-17492710.17.1</td>\n    </tr>\n    <tr>\n      <th>1</th>\n      <td>SNYK-PYTHON-SALT-40687</td>\n      <td>1</td>\n      <td>pip</td>\n      <td>Denial of Service (DoS)</td>\n      <td>H</td>\n      <td>2017-08-24</td>\n      <td>2017-11-05</td>\n      <td>2017-08-31 17:07:42</td>\n      <td>2017-10-03 22:17:19</td>\n      <td>2017-10-09 16:33:50</td>\n      <td>2016.11.8</td>\n      <td>package1version2016.11.8</td>\n      <td>SNYK-PYTHON-SALT-4068712016.11.8</td>\n    </tr>\n    <tr>\n      <th>2</th>\n      <td>SNYK-PYTHON-SALT-40687</td>\n      <td>1</td>\n      <td>pip</td>\n      <td>Denial of Service (DoS)</td>\n      <td>H</td>\n      <td>2017-08-24</td>\n      <td>2017-11-05</td>\n      <td>2017-08-31 17:07:42</td>\n      <td>2017-10-03 22:17:19</td>\n      <td>2017-10-09 16:30:36</td>\n      <td>2016.3.8</td>\n      <td>package1version2016.3.8</td>\n      <td>SNYK-PYTHON-SALT-4068712016.3.8</td>\n    </tr>\n    <tr>\n      <th>3</th>\n      <td>SNYK-PYTHON-SALT-40687</td>\n      <td>1</td>\n      <td>pip</td>\n      <td>Denial of Service (DoS)</td>\n      <td>H</td>\n      <td>2017-08-24</td>\n      <td>2017-11-05</td>\n      <td>2017-08-31 17:07:42</td>\n      <td>2017-10-03 22:17:19</td>\n      <td>2017-10-09 16:39:22</td>\n      <td>2017.7.2</td>\n      <td>package1version2017.7.2</td>\n      <td>SNYK-PYTHON-SALT-4068712017.7.2</td>\n    </tr>\n    <tr>\n      <th>4</th>\n      <td>SNYK-PYTHON-SALT-40688</td>\n      <td>1</td>\n      <td>pip</td>\n      <td>Directory Traversal</td>\n      <td>H</td>\n      <td>2017-08-23</td>\n      <td>2017-11-05</td>\n      <td>2017-08-31 17:06:33</td>\n      <td>2017-10-03 22:19:25</td>\n      <td>2017-10-09 16:33:50</td>\n      <td>2016.11.8</td>\n      <td>package1version2016.11.8</td>\n      <td>SNYK-PYTHON-SALT-4068812016.11.8</td>\n    </tr>\n    <tr>\n      <th>...</th>\n      <td>...</td>\n      <td>...</td>\n      <td>...</td>\n      <td>...</td>\n      <td>...</td>\n      <td>...</td>\n      <td>...</td>\n      <td>...</td>\n      <td>...</td>\n      <td>...</td>\n      <td>...</td>\n      <td>...</td>\n      <td>...</td>\n    </tr>\n    <tr>\n      <th>2784</th>\n      <td>SNYK-JS-APOLLOGATEWAY-174915</td>\n      <td>1852</td>\n      <td>npm</td>\n      <td>Prototype Pollution</td>\n      <td>H</td>\n      <td>2019-06-04</td>\n      <td>2019-06-05</td>\n      <td>2019-06-04 23:23:04</td>\n      <td>2019-06-04 23:23:04</td>\n      <td>2019-06-04 23:25:34</td>\n      <td>0.6.2</td>\n      <td>package1852version0.6.2</td>\n      <td>SNYK-JS-APOLLOGATEWAY-17491518520.6.2</td>\n    </tr>\n    <tr>\n      <th>2785</th>\n      <td>SNYK-PHP-LIGHTSAMLLIGHTSAML-72139</td>\n      <td>2335</td>\n      <td>Composer</td>\n      <td>Access Restriction Bypass</td>\n      <td>H</td>\n      <td>2018-04-18</td>\n      <td>2018-04-26</td>\n      <td>2018-03-05 16:26:57</td>\n      <td>2018-03-05 16:26:57</td>\n      <td>2018-03-05 16:29:08</td>\n      <td>1.3.5</td>\n      <td>package2335version1.3.5</td>\n      <td>SNYK-PHP-LIGHTSAMLLIGHTSAML-7213923351.3.5</td>\n    </tr>\n    <tr>\n      <th>2786</th>\n      <td>SNYK-PHP-TYPO3CMS-73594</td>\n      <td>272</td>\n      <td>Composer</td>\n      <td>Security Misconfiguration</td>\n      <td>H</td>\n      <td>2019-01-22</td>\n      <td>2019-01-22</td>\n      <td>2019-01-22 08:42:56</td>\n      <td>2019-01-22 08:42:56</td>\n      <td>2019-01-22 10:10:02</td>\n      <td>8.7.23</td>\n      <td>package272version8.7.23</td>\n      <td>SNYK-PHP-TYPO3CMS-735942728.7.23</td>\n    </tr>\n    <tr>\n      <th>2787</th>\n      <td>SNYK-PHP-TYPO3CMS-73594</td>\n      <td>272</td>\n      <td>Composer</td>\n      <td>Security Misconfiguration</td>\n      <td>H</td>\n      <td>2019-01-22</td>\n      <td>2019-01-22</td>\n      <td>2019-01-22 08:42:56</td>\n      <td>2019-01-22 08:42:56</td>\n      <td>2019-01-22 10:12:04</td>\n      <td>9.5.4</td>\n      <td>package272version9.5.4</td>\n      <td>SNYK-PHP-TYPO3CMS-735942729.5.4</td>\n    </tr>\n    <tr>\n      <th>2788</th>\n      <td>SNYK-JAVA-ORGAPACHEQPID-30714</td>\n      <td>3006</td>\n      <td>Maven</td>\n      <td>Improper Input Validation</td>\n      <td>H</td>\n      <td>2016-07-04</td>\n      <td>2016-07-04</td>\n      <td>2016-06-27 15:31:44</td>\n      <td>2016-06-27 15:31:44</td>\n      <td>2016-06-27 15:53:00</td>\n      <td>0.10.0</td>\n      <td>package3006version0.10.0</td>\n      <td>SNYK-JAVA-ORGAPACHEQPID-3071430060.10.0</td>\n    </tr>\n  </tbody>\n</table>\n<p>2789 rows × 13 columns</p>\n</div>"
     },
     "metadata": {},
     "execution_count": 2092
    }
   ],
   "source": [
    "q = '''select advisory_id, package_id, ecosystem, type, severity, disclose_date, publish_date,\n",
    "        earliest_fix_commit_date, latest_fix_commit_date, release_date, version, concat('package', package_id, 'version', version) as fixing_release,\n",
    "       concat(advisory_id, package_id, version) as total_release\n",
    "        from\n",
    "        (select advisory_id, min(commit_date) as earliest_fix_commit_date, max(commit_date) as latest_fix_commit_date\n",
    "        from fix_commits fc\n",
    "        join package p on fc.package_id = p.id\n",
    "        where commit_date is not null\n",
    "        group by advisory_id) as fcd\n",
    "        join\n",
    "        (select a.*, p.ecosystem, ri.version, ri.publish_date as release_date\n",
    "        from advisory a\n",
    "        join package p on a.package_id = p.id\n",
    "        join fixing_releases fr on a.id = fr.advisory_id\n",
    "        join release_info ri on p.id = ri.package_id and ri.version=fr.version\n",
    "        where type != 'Malicious Package'\n",
    "        and fr.version!= 'manual checkup needed'\n",
    "            and ri.publish_date is not null) as frd\n",
    "        on fcd.advisory_id=frd.id;'''\n",
    "df = pd.DataFrame(sql.execute(q))\n",
    "df"
   ]
  },
  {
   "cell_type": "code",
   "execution_count": 2093,
   "metadata": {},
   "outputs": [
    {
     "output_type": "execute_result",
     "data": {
      "text/plain": [
       "                            advisory_id  package_id ecosystem  \\\n",
       "0               SNYK-PYTHON-SALT-174927           1       pip   \n",
       "1                SNYK-PYTHON-SALT-40687           1       pip   \n",
       "2                SNYK-PYTHON-SALT-40687           1       pip   \n",
       "3                SNYK-PYTHON-SALT-40687           1       pip   \n",
       "4                SNYK-PYTHON-SALT-40688           1       pip   \n",
       "...                                 ...         ...       ...   \n",
       "2784       SNYK-JS-APOLLOGATEWAY-174915        1852       npm   \n",
       "2785  SNYK-PHP-LIGHTSAMLLIGHTSAML-72139        2335  Composer   \n",
       "2786            SNYK-PHP-TYPO3CMS-73594         272  Composer   \n",
       "2787            SNYK-PHP-TYPO3CMS-73594         272  Composer   \n",
       "2788      SNYK-JAVA-ORGAPACHEQPID-30714        3006     Maven   \n",
       "\n",
       "                           type severity disclose_date publish_date  \\\n",
       "0      Arbitrary Code Execution        H    2013-05-11   2019-06-06   \n",
       "1       Denial of Service (DoS)        H    2017-08-24   2017-11-05   \n",
       "2       Denial of Service (DoS)        H    2017-08-24   2017-11-05   \n",
       "3       Denial of Service (DoS)        H    2017-08-24   2017-11-05   \n",
       "4           Directory Traversal        H    2017-08-23   2017-11-05   \n",
       "...                         ...      ...           ...          ...   \n",
       "2784        Prototype Pollution        H    2019-06-04   2019-06-05   \n",
       "2785  Access Restriction Bypass        H    2018-04-18   2018-04-26   \n",
       "2786  Security Misconfiguration        H    2019-01-22   2019-01-22   \n",
       "2787  Security Misconfiguration        H    2019-01-22   2019-01-22   \n",
       "2788  Improper Input Validation        H    2016-07-04   2016-07-04   \n",
       "\n",
       "     earliest_fix_commit_date latest_fix_commit_date        release_date  \\\n",
       "0         2013-09-19 18:27:38    2013-09-19 20:28:04 2013-10-17 18:17:40   \n",
       "1         2017-08-31 17:07:42    2017-10-03 22:17:19 2017-10-09 16:33:50   \n",
       "2         2017-08-31 17:07:42    2017-10-03 22:17:19 2017-10-09 16:30:36   \n",
       "3         2017-08-31 17:07:42    2017-10-03 22:17:19 2017-10-09 16:39:22   \n",
       "4         2017-08-31 17:06:33    2017-10-03 22:19:25 2017-10-09 16:33:50   \n",
       "...                       ...                    ...                 ...   \n",
       "2784      2019-06-04 23:23:04    2019-06-04 23:23:04 2019-06-04 23:25:34   \n",
       "2785      2018-03-05 16:26:57    2018-03-05 16:26:57 2018-03-05 16:29:08   \n",
       "2786      2019-01-22 08:42:56    2019-01-22 08:42:56 2019-01-22 10:10:02   \n",
       "2787      2019-01-22 08:42:56    2019-01-22 08:42:56 2019-01-22 10:12:04   \n",
       "2788      2016-06-27 15:31:44    2016-06-27 15:31:44 2016-06-27 15:53:00   \n",
       "\n",
       "        version            fixing_release  \\\n",
       "0        0.17.1     package1version0.17.1   \n",
       "1     2016.11.8  package1version2016.11.8   \n",
       "2      2016.3.8   package1version2016.3.8   \n",
       "3      2017.7.2   package1version2017.7.2   \n",
       "4     2016.11.8  package1version2016.11.8   \n",
       "...         ...                       ...   \n",
       "2784      0.6.2   package1852version0.6.2   \n",
       "2785      1.3.5   package2335version1.3.5   \n",
       "2786     8.7.23   package272version8.7.23   \n",
       "2787      9.5.4    package272version9.5.4   \n",
       "2788     0.10.0  package3006version0.10.0   \n",
       "\n",
       "                                   total_release     fix_commit_date  \n",
       "0                 SNYK-PYTHON-SALT-17492710.17.1 2013-09-19 20:28:04  \n",
       "1               SNYK-PYTHON-SALT-4068712016.11.8 2017-10-03 22:17:19  \n",
       "2                SNYK-PYTHON-SALT-4068712016.3.8 2017-10-03 22:17:19  \n",
       "3                SNYK-PYTHON-SALT-4068712017.7.2 2017-10-03 22:17:19  \n",
       "4               SNYK-PYTHON-SALT-4068812016.11.8 2017-10-03 22:19:25  \n",
       "...                                          ...                 ...  \n",
       "2784       SNYK-JS-APOLLOGATEWAY-17491518520.6.2 2019-06-04 23:23:04  \n",
       "2785  SNYK-PHP-LIGHTSAMLLIGHTSAML-7213923351.3.5 2018-03-05 16:26:57  \n",
       "2786            SNYK-PHP-TYPO3CMS-735942728.7.23 2019-01-22 08:42:56  \n",
       "2787             SNYK-PHP-TYPO3CMS-735942729.5.4 2019-01-22 08:42:56  \n",
       "2788     SNYK-JAVA-ORGAPACHEQPID-3071430060.10.0 2016-06-27 15:31:44  \n",
       "\n",
       "[2789 rows x 14 columns]"
      ],
      "text/html": "<div>\n<style scoped>\n    .dataframe tbody tr th:only-of-type {\n        vertical-align: middle;\n    }\n\n    .dataframe tbody tr th {\n        vertical-align: top;\n    }\n\n    .dataframe thead th {\n        text-align: right;\n    }\n</style>\n<table border=\"1\" class=\"dataframe\">\n  <thead>\n    <tr style=\"text-align: right;\">\n      <th></th>\n      <th>advisory_id</th>\n      <th>package_id</th>\n      <th>ecosystem</th>\n      <th>type</th>\n      <th>severity</th>\n      <th>disclose_date</th>\n      <th>publish_date</th>\n      <th>earliest_fix_commit_date</th>\n      <th>latest_fix_commit_date</th>\n      <th>release_date</th>\n      <th>version</th>\n      <th>fixing_release</th>\n      <th>total_release</th>\n      <th>fix_commit_date</th>\n    </tr>\n  </thead>\n  <tbody>\n    <tr>\n      <th>0</th>\n      <td>SNYK-PYTHON-SALT-174927</td>\n      <td>1</td>\n      <td>pip</td>\n      <td>Arbitrary Code Execution</td>\n      <td>H</td>\n      <td>2013-05-11</td>\n      <td>2019-06-06</td>\n      <td>2013-09-19 18:27:38</td>\n      <td>2013-09-19 20:28:04</td>\n      <td>2013-10-17 18:17:40</td>\n      <td>0.17.1</td>\n      <td>package1version0.17.1</td>\n      <td>SNYK-PYTHON-SALT-17492710.17.1</td>\n      <td>2013-09-19 20:28:04</td>\n    </tr>\n    <tr>\n      <th>1</th>\n      <td>SNYK-PYTHON-SALT-40687</td>\n      <td>1</td>\n      <td>pip</td>\n      <td>Denial of Service (DoS)</td>\n      <td>H</td>\n      <td>2017-08-24</td>\n      <td>2017-11-05</td>\n      <td>2017-08-31 17:07:42</td>\n      <td>2017-10-03 22:17:19</td>\n      <td>2017-10-09 16:33:50</td>\n      <td>2016.11.8</td>\n      <td>package1version2016.11.8</td>\n      <td>SNYK-PYTHON-SALT-4068712016.11.8</td>\n      <td>2017-10-03 22:17:19</td>\n    </tr>\n    <tr>\n      <th>2</th>\n      <td>SNYK-PYTHON-SALT-40687</td>\n      <td>1</td>\n      <td>pip</td>\n      <td>Denial of Service (DoS)</td>\n      <td>H</td>\n      <td>2017-08-24</td>\n      <td>2017-11-05</td>\n      <td>2017-08-31 17:07:42</td>\n      <td>2017-10-03 22:17:19</td>\n      <td>2017-10-09 16:30:36</td>\n      <td>2016.3.8</td>\n      <td>package1version2016.3.8</td>\n      <td>SNYK-PYTHON-SALT-4068712016.3.8</td>\n      <td>2017-10-03 22:17:19</td>\n    </tr>\n    <tr>\n      <th>3</th>\n      <td>SNYK-PYTHON-SALT-40687</td>\n      <td>1</td>\n      <td>pip</td>\n      <td>Denial of Service (DoS)</td>\n      <td>H</td>\n      <td>2017-08-24</td>\n      <td>2017-11-05</td>\n      <td>2017-08-31 17:07:42</td>\n      <td>2017-10-03 22:17:19</td>\n      <td>2017-10-09 16:39:22</td>\n      <td>2017.7.2</td>\n      <td>package1version2017.7.2</td>\n      <td>SNYK-PYTHON-SALT-4068712017.7.2</td>\n      <td>2017-10-03 22:17:19</td>\n    </tr>\n    <tr>\n      <th>4</th>\n      <td>SNYK-PYTHON-SALT-40688</td>\n      <td>1</td>\n      <td>pip</td>\n      <td>Directory Traversal</td>\n      <td>H</td>\n      <td>2017-08-23</td>\n      <td>2017-11-05</td>\n      <td>2017-08-31 17:06:33</td>\n      <td>2017-10-03 22:19:25</td>\n      <td>2017-10-09 16:33:50</td>\n      <td>2016.11.8</td>\n      <td>package1version2016.11.8</td>\n      <td>SNYK-PYTHON-SALT-4068812016.11.8</td>\n      <td>2017-10-03 22:19:25</td>\n    </tr>\n    <tr>\n      <th>...</th>\n      <td>...</td>\n      <td>...</td>\n      <td>...</td>\n      <td>...</td>\n      <td>...</td>\n      <td>...</td>\n      <td>...</td>\n      <td>...</td>\n      <td>...</td>\n      <td>...</td>\n      <td>...</td>\n      <td>...</td>\n      <td>...</td>\n      <td>...</td>\n    </tr>\n    <tr>\n      <th>2784</th>\n      <td>SNYK-JS-APOLLOGATEWAY-174915</td>\n      <td>1852</td>\n      <td>npm</td>\n      <td>Prototype Pollution</td>\n      <td>H</td>\n      <td>2019-06-04</td>\n      <td>2019-06-05</td>\n      <td>2019-06-04 23:23:04</td>\n      <td>2019-06-04 23:23:04</td>\n      <td>2019-06-04 23:25:34</td>\n      <td>0.6.2</td>\n      <td>package1852version0.6.2</td>\n      <td>SNYK-JS-APOLLOGATEWAY-17491518520.6.2</td>\n      <td>2019-06-04 23:23:04</td>\n    </tr>\n    <tr>\n      <th>2785</th>\n      <td>SNYK-PHP-LIGHTSAMLLIGHTSAML-72139</td>\n      <td>2335</td>\n      <td>Composer</td>\n      <td>Access Restriction Bypass</td>\n      <td>H</td>\n      <td>2018-04-18</td>\n      <td>2018-04-26</td>\n      <td>2018-03-05 16:26:57</td>\n      <td>2018-03-05 16:26:57</td>\n      <td>2018-03-05 16:29:08</td>\n      <td>1.3.5</td>\n      <td>package2335version1.3.5</td>\n      <td>SNYK-PHP-LIGHTSAMLLIGHTSAML-7213923351.3.5</td>\n      <td>2018-03-05 16:26:57</td>\n    </tr>\n    <tr>\n      <th>2786</th>\n      <td>SNYK-PHP-TYPO3CMS-73594</td>\n      <td>272</td>\n      <td>Composer</td>\n      <td>Security Misconfiguration</td>\n      <td>H</td>\n      <td>2019-01-22</td>\n      <td>2019-01-22</td>\n      <td>2019-01-22 08:42:56</td>\n      <td>2019-01-22 08:42:56</td>\n      <td>2019-01-22 10:10:02</td>\n      <td>8.7.23</td>\n      <td>package272version8.7.23</td>\n      <td>SNYK-PHP-TYPO3CMS-735942728.7.23</td>\n      <td>2019-01-22 08:42:56</td>\n    </tr>\n    <tr>\n      <th>2787</th>\n      <td>SNYK-PHP-TYPO3CMS-73594</td>\n      <td>272</td>\n      <td>Composer</td>\n      <td>Security Misconfiguration</td>\n      <td>H</td>\n      <td>2019-01-22</td>\n      <td>2019-01-22</td>\n      <td>2019-01-22 08:42:56</td>\n      <td>2019-01-22 08:42:56</td>\n      <td>2019-01-22 10:12:04</td>\n      <td>9.5.4</td>\n      <td>package272version9.5.4</td>\n      <td>SNYK-PHP-TYPO3CMS-735942729.5.4</td>\n      <td>2019-01-22 08:42:56</td>\n    </tr>\n    <tr>\n      <th>2788</th>\n      <td>SNYK-JAVA-ORGAPACHEQPID-30714</td>\n      <td>3006</td>\n      <td>Maven</td>\n      <td>Improper Input Validation</td>\n      <td>H</td>\n      <td>2016-07-04</td>\n      <td>2016-07-04</td>\n      <td>2016-06-27 15:31:44</td>\n      <td>2016-06-27 15:31:44</td>\n      <td>2016-06-27 15:53:00</td>\n      <td>0.10.0</td>\n      <td>package3006version0.10.0</td>\n      <td>SNYK-JAVA-ORGAPACHEQPID-3071430060.10.0</td>\n      <td>2016-06-27 15:31:44</td>\n    </tr>\n  </tbody>\n</table>\n<p>2789 rows × 14 columns</p>\n</div>"
     },
     "metadata": {},
     "execution_count": 2093
    }
   ],
   "source": [
    "def get_fix_commit_date(row):\n",
    "    if row['earliest_fix_commit_date'] == row['latest_fix_commit_date']:\n",
    "        return row['earliest_fix_commit_date']\n",
    "    else:\n",
    "        if row['latest_fix_commit_date'] <= row['release_date']:\n",
    "            return row['latest_fix_commit_date']\n",
    "        else:\n",
    "            return row['earliest_fix_commit_date']\n",
    "\n",
    "df['fix_commit_date'] = df.apply(get_fix_commit_date, axis=1)\n",
    "df"
   ]
  },
  {
   "cell_type": "code",
   "execution_count": 2094,
   "metadata": {},
   "outputs": [
    {
     "output_type": "execute_result",
     "data": {
      "text/plain": [
       "                            advisory_id  package_id ecosystem  \\\n",
       "0               SNYK-PYTHON-SALT-174927           1       pip   \n",
       "1                SNYK-PYTHON-SALT-40687           1       pip   \n",
       "2                SNYK-PYTHON-SALT-40687           1       pip   \n",
       "3                SNYK-PYTHON-SALT-40687           1       pip   \n",
       "4                SNYK-PYTHON-SALT-40688           1       pip   \n",
       "...                                 ...         ...       ...   \n",
       "2784       SNYK-JS-APOLLOGATEWAY-174915        1852       npm   \n",
       "2785  SNYK-PHP-LIGHTSAMLLIGHTSAML-72139        2335  Composer   \n",
       "2786            SNYK-PHP-TYPO3CMS-73594         272  Composer   \n",
       "2787            SNYK-PHP-TYPO3CMS-73594         272  Composer   \n",
       "2788      SNYK-JAVA-ORGAPACHEQPID-30714        3006     Maven   \n",
       "\n",
       "                           type severity disclose_date publish_date  \\\n",
       "0      Arbitrary Code Execution        H    2013-05-11   2019-06-06   \n",
       "1       Denial of Service (DoS)        H    2017-08-24   2017-11-05   \n",
       "2       Denial of Service (DoS)        H    2017-08-24   2017-11-05   \n",
       "3       Denial of Service (DoS)        H    2017-08-24   2017-11-05   \n",
       "4           Directory Traversal        H    2017-08-23   2017-11-05   \n",
       "...                         ...      ...           ...          ...   \n",
       "2784        Prototype Pollution        H    2019-06-04   2019-06-05   \n",
       "2785  Access Restriction Bypass        H    2018-04-18   2018-04-26   \n",
       "2786  Security Misconfiguration        H    2019-01-22   2019-01-22   \n",
       "2787  Security Misconfiguration        H    2019-01-22   2019-01-22   \n",
       "2788  Improper Input Validation        H    2016-07-04   2016-07-04   \n",
       "\n",
       "     earliest_fix_commit_date latest_fix_commit_date        release_date  \\\n",
       "0         2013-09-19 18:27:38    2013-09-19 20:28:04 2013-10-17 18:17:40   \n",
       "1         2017-08-31 17:07:42    2017-10-03 22:17:19 2017-10-09 16:33:50   \n",
       "2         2017-08-31 17:07:42    2017-10-03 22:17:19 2017-10-09 16:30:36   \n",
       "3         2017-08-31 17:07:42    2017-10-03 22:17:19 2017-10-09 16:39:22   \n",
       "4         2017-08-31 17:06:33    2017-10-03 22:19:25 2017-10-09 16:33:50   \n",
       "...                       ...                    ...                 ...   \n",
       "2784      2019-06-04 23:23:04    2019-06-04 23:23:04 2019-06-04 23:25:34   \n",
       "2785      2018-03-05 16:26:57    2018-03-05 16:26:57 2018-03-05 16:29:08   \n",
       "2786      2019-01-22 08:42:56    2019-01-22 08:42:56 2019-01-22 10:10:02   \n",
       "2787      2019-01-22 08:42:56    2019-01-22 08:42:56 2019-01-22 10:12:04   \n",
       "2788      2016-06-27 15:31:44    2016-06-27 15:31:44 2016-06-27 15:53:00   \n",
       "\n",
       "        version            fixing_release  \\\n",
       "0        0.17.1     package1version0.17.1   \n",
       "1     2016.11.8  package1version2016.11.8   \n",
       "2      2016.3.8   package1version2016.3.8   \n",
       "3      2017.7.2   package1version2017.7.2   \n",
       "4     2016.11.8  package1version2016.11.8   \n",
       "...         ...                       ...   \n",
       "2784      0.6.2   package1852version0.6.2   \n",
       "2785      1.3.5   package2335version1.3.5   \n",
       "2786     8.7.23   package272version8.7.23   \n",
       "2787      9.5.4    package272version9.5.4   \n",
       "2788     0.10.0  package3006version0.10.0   \n",
       "\n",
       "                                   total_release     fix_commit_date  \\\n",
       "0                 SNYK-PYTHON-SALT-17492710.17.1 2013-09-19 20:28:04   \n",
       "1               SNYK-PYTHON-SALT-4068712016.11.8 2017-10-03 22:17:19   \n",
       "2                SNYK-PYTHON-SALT-4068712016.3.8 2017-10-03 22:17:19   \n",
       "3                SNYK-PYTHON-SALT-4068712017.7.2 2017-10-03 22:17:19   \n",
       "4               SNYK-PYTHON-SALT-4068812016.11.8 2017-10-03 22:19:25   \n",
       "...                                          ...                 ...   \n",
       "2784       SNYK-JS-APOLLOGATEWAY-17491518520.6.2 2019-06-04 23:23:04   \n",
       "2785  SNYK-PHP-LIGHTSAMLLIGHTSAML-7213923351.3.5 2018-03-05 16:26:57   \n",
       "2786            SNYK-PHP-TYPO3CMS-735942728.7.23 2019-01-22 08:42:56   \n",
       "2787             SNYK-PHP-TYPO3CMS-735942729.5.4 2019-01-22 08:42:56   \n",
       "2788     SNYK-JAVA-ORGAPACHEQPID-3071430060.10.0 2016-06-27 15:31:44   \n",
       "\n",
       "      fix_to_release_delay  disclose_to_fix_delay  release_to_publish_delay  \\\n",
       "0                     28.0                    131                      2058   \n",
       "1                      6.0                     40                        27   \n",
       "2                      6.0                     40                        27   \n",
       "3                      6.0                     40                        27   \n",
       "4                      6.0                     41                        27   \n",
       "...                    ...                    ...                       ...   \n",
       "2784                   0.0                      0                         1   \n",
       "2785                   0.0                    -44                        52   \n",
       "2786                   0.0                      0                         0   \n",
       "2787                   0.0                      0                         0   \n",
       "2788                   0.0                     -7                         7   \n",
       "\n",
       "      fix_to_publish_delay  \n",
       "0                     2086  \n",
       "1                       33  \n",
       "2                       33  \n",
       "3                       33  \n",
       "4                       33  \n",
       "...                    ...  \n",
       "2784                     1  \n",
       "2785                    52  \n",
       "2786                     0  \n",
       "2787                     0  \n",
       "2788                     7  \n",
       "\n",
       "[2789 rows x 18 columns]"
      ],
      "text/html": "<div>\n<style scoped>\n    .dataframe tbody tr th:only-of-type {\n        vertical-align: middle;\n    }\n\n    .dataframe tbody tr th {\n        vertical-align: top;\n    }\n\n    .dataframe thead th {\n        text-align: right;\n    }\n</style>\n<table border=\"1\" class=\"dataframe\">\n  <thead>\n    <tr style=\"text-align: right;\">\n      <th></th>\n      <th>advisory_id</th>\n      <th>package_id</th>\n      <th>ecosystem</th>\n      <th>type</th>\n      <th>severity</th>\n      <th>disclose_date</th>\n      <th>publish_date</th>\n      <th>earliest_fix_commit_date</th>\n      <th>latest_fix_commit_date</th>\n      <th>release_date</th>\n      <th>version</th>\n      <th>fixing_release</th>\n      <th>total_release</th>\n      <th>fix_commit_date</th>\n      <th>fix_to_release_delay</th>\n      <th>disclose_to_fix_delay</th>\n      <th>release_to_publish_delay</th>\n      <th>fix_to_publish_delay</th>\n    </tr>\n  </thead>\n  <tbody>\n    <tr>\n      <th>0</th>\n      <td>SNYK-PYTHON-SALT-174927</td>\n      <td>1</td>\n      <td>pip</td>\n      <td>Arbitrary Code Execution</td>\n      <td>H</td>\n      <td>2013-05-11</td>\n      <td>2019-06-06</td>\n      <td>2013-09-19 18:27:38</td>\n      <td>2013-09-19 20:28:04</td>\n      <td>2013-10-17 18:17:40</td>\n      <td>0.17.1</td>\n      <td>package1version0.17.1</td>\n      <td>SNYK-PYTHON-SALT-17492710.17.1</td>\n      <td>2013-09-19 20:28:04</td>\n      <td>28.0</td>\n      <td>131</td>\n      <td>2058</td>\n      <td>2086</td>\n    </tr>\n    <tr>\n      <th>1</th>\n      <td>SNYK-PYTHON-SALT-40687</td>\n      <td>1</td>\n      <td>pip</td>\n      <td>Denial of Service (DoS)</td>\n      <td>H</td>\n      <td>2017-08-24</td>\n      <td>2017-11-05</td>\n      <td>2017-08-31 17:07:42</td>\n      <td>2017-10-03 22:17:19</td>\n      <td>2017-10-09 16:33:50</td>\n      <td>2016.11.8</td>\n      <td>package1version2016.11.8</td>\n      <td>SNYK-PYTHON-SALT-4068712016.11.8</td>\n      <td>2017-10-03 22:17:19</td>\n      <td>6.0</td>\n      <td>40</td>\n      <td>27</td>\n      <td>33</td>\n    </tr>\n    <tr>\n      <th>2</th>\n      <td>SNYK-PYTHON-SALT-40687</td>\n      <td>1</td>\n      <td>pip</td>\n      <td>Denial of Service (DoS)</td>\n      <td>H</td>\n      <td>2017-08-24</td>\n      <td>2017-11-05</td>\n      <td>2017-08-31 17:07:42</td>\n      <td>2017-10-03 22:17:19</td>\n      <td>2017-10-09 16:30:36</td>\n      <td>2016.3.8</td>\n      <td>package1version2016.3.8</td>\n      <td>SNYK-PYTHON-SALT-4068712016.3.8</td>\n      <td>2017-10-03 22:17:19</td>\n      <td>6.0</td>\n      <td>40</td>\n      <td>27</td>\n      <td>33</td>\n    </tr>\n    <tr>\n      <th>3</th>\n      <td>SNYK-PYTHON-SALT-40687</td>\n      <td>1</td>\n      <td>pip</td>\n      <td>Denial of Service (DoS)</td>\n      <td>H</td>\n      <td>2017-08-24</td>\n      <td>2017-11-05</td>\n      <td>2017-08-31 17:07:42</td>\n      <td>2017-10-03 22:17:19</td>\n      <td>2017-10-09 16:39:22</td>\n      <td>2017.7.2</td>\n      <td>package1version2017.7.2</td>\n      <td>SNYK-PYTHON-SALT-4068712017.7.2</td>\n      <td>2017-10-03 22:17:19</td>\n      <td>6.0</td>\n      <td>40</td>\n      <td>27</td>\n      <td>33</td>\n    </tr>\n    <tr>\n      <th>4</th>\n      <td>SNYK-PYTHON-SALT-40688</td>\n      <td>1</td>\n      <td>pip</td>\n      <td>Directory Traversal</td>\n      <td>H</td>\n      <td>2017-08-23</td>\n      <td>2017-11-05</td>\n      <td>2017-08-31 17:06:33</td>\n      <td>2017-10-03 22:19:25</td>\n      <td>2017-10-09 16:33:50</td>\n      <td>2016.11.8</td>\n      <td>package1version2016.11.8</td>\n      <td>SNYK-PYTHON-SALT-4068812016.11.8</td>\n      <td>2017-10-03 22:19:25</td>\n      <td>6.0</td>\n      <td>41</td>\n      <td>27</td>\n      <td>33</td>\n    </tr>\n    <tr>\n      <th>...</th>\n      <td>...</td>\n      <td>...</td>\n      <td>...</td>\n      <td>...</td>\n      <td>...</td>\n      <td>...</td>\n      <td>...</td>\n      <td>...</td>\n      <td>...</td>\n      <td>...</td>\n      <td>...</td>\n      <td>...</td>\n      <td>...</td>\n      <td>...</td>\n      <td>...</td>\n      <td>...</td>\n      <td>...</td>\n      <td>...</td>\n    </tr>\n    <tr>\n      <th>2784</th>\n      <td>SNYK-JS-APOLLOGATEWAY-174915</td>\n      <td>1852</td>\n      <td>npm</td>\n      <td>Prototype Pollution</td>\n      <td>H</td>\n      <td>2019-06-04</td>\n      <td>2019-06-05</td>\n      <td>2019-06-04 23:23:04</td>\n      <td>2019-06-04 23:23:04</td>\n      <td>2019-06-04 23:25:34</td>\n      <td>0.6.2</td>\n      <td>package1852version0.6.2</td>\n      <td>SNYK-JS-APOLLOGATEWAY-17491518520.6.2</td>\n      <td>2019-06-04 23:23:04</td>\n      <td>0.0</td>\n      <td>0</td>\n      <td>1</td>\n      <td>1</td>\n    </tr>\n    <tr>\n      <th>2785</th>\n      <td>SNYK-PHP-LIGHTSAMLLIGHTSAML-72139</td>\n      <td>2335</td>\n      <td>Composer</td>\n      <td>Access Restriction Bypass</td>\n      <td>H</td>\n      <td>2018-04-18</td>\n      <td>2018-04-26</td>\n      <td>2018-03-05 16:26:57</td>\n      <td>2018-03-05 16:26:57</td>\n      <td>2018-03-05 16:29:08</td>\n      <td>1.3.5</td>\n      <td>package2335version1.3.5</td>\n      <td>SNYK-PHP-LIGHTSAMLLIGHTSAML-7213923351.3.5</td>\n      <td>2018-03-05 16:26:57</td>\n      <td>0.0</td>\n      <td>-44</td>\n      <td>52</td>\n      <td>52</td>\n    </tr>\n    <tr>\n      <th>2786</th>\n      <td>SNYK-PHP-TYPO3CMS-73594</td>\n      <td>272</td>\n      <td>Composer</td>\n      <td>Security Misconfiguration</td>\n      <td>H</td>\n      <td>2019-01-22</td>\n      <td>2019-01-22</td>\n      <td>2019-01-22 08:42:56</td>\n      <td>2019-01-22 08:42:56</td>\n      <td>2019-01-22 10:10:02</td>\n      <td>8.7.23</td>\n      <td>package272version8.7.23</td>\n      <td>SNYK-PHP-TYPO3CMS-735942728.7.23</td>\n      <td>2019-01-22 08:42:56</td>\n      <td>0.0</td>\n      <td>0</td>\n      <td>0</td>\n      <td>0</td>\n    </tr>\n    <tr>\n      <th>2787</th>\n      <td>SNYK-PHP-TYPO3CMS-73594</td>\n      <td>272</td>\n      <td>Composer</td>\n      <td>Security Misconfiguration</td>\n      <td>H</td>\n      <td>2019-01-22</td>\n      <td>2019-01-22</td>\n      <td>2019-01-22 08:42:56</td>\n      <td>2019-01-22 08:42:56</td>\n      <td>2019-01-22 10:12:04</td>\n      <td>9.5.4</td>\n      <td>package272version9.5.4</td>\n      <td>SNYK-PHP-TYPO3CMS-735942729.5.4</td>\n      <td>2019-01-22 08:42:56</td>\n      <td>0.0</td>\n      <td>0</td>\n      <td>0</td>\n      <td>0</td>\n    </tr>\n    <tr>\n      <th>2788</th>\n      <td>SNYK-JAVA-ORGAPACHEQPID-30714</td>\n      <td>3006</td>\n      <td>Maven</td>\n      <td>Improper Input Validation</td>\n      <td>H</td>\n      <td>2016-07-04</td>\n      <td>2016-07-04</td>\n      <td>2016-06-27 15:31:44</td>\n      <td>2016-06-27 15:31:44</td>\n      <td>2016-06-27 15:53:00</td>\n      <td>0.10.0</td>\n      <td>package3006version0.10.0</td>\n      <td>SNYK-JAVA-ORGAPACHEQPID-3071430060.10.0</td>\n      <td>2016-06-27 15:31:44</td>\n      <td>0.0</td>\n      <td>-7</td>\n      <td>7</td>\n      <td>7</td>\n    </tr>\n  </tbody>\n</table>\n<p>2789 rows × 18 columns</p>\n</div>"
     },
     "metadata": {},
     "execution_count": 2094
    }
   ],
   "source": [
    "df['fix_to_release_delay'] = (df['release_date'] - df['fix_commit_date']).dt.total_seconds()\n",
    "df['fix_to_release_delay'] = round ( df['fix_to_release_delay'] / (3600 * 24))\n",
    "df['disclose_to_fix_delay'] = (df['fix_commit_date'].dt.date - df['disclose_date']).dt.days\n",
    "df['release_to_publish_delay'] = (df['publish_date'] - df['release_date'].dt.date).dt.days\n",
    "df['fix_to_publish_delay'] = (df['publish_date'] - df['fix_commit_date'].dt.date).dt.days\n",
    "df"
   ]
  },
  {
   "cell_type": "code",
   "execution_count": 2095,
   "metadata": {},
   "outputs": [
    {
     "output_type": "execute_result",
     "data": {
      "text/plain": [
       "(2068, 2355, 2789)"
      ]
     },
     "metadata": {},
     "execution_count": 2095
    }
   ],
   "source": [
    "df['advisory_id'].nunique(), df['fixing_release'].nunique(),  df['total_release'].nunique()"
   ]
  },
  {
   "cell_type": "code",
   "execution_count": 2096,
   "metadata": {},
   "outputs": [
    {
     "output_type": "execute_result",
     "data": {
      "text/plain": [
       "(count     781.000000\n",
       " mean       79.177977\n",
       " std       193.344665\n",
       " min         1.000000\n",
       " 25%         2.000000\n",
       " 50%         8.000000\n",
       " 75%        42.000000\n",
       " max      1849.000000\n",
       " Name: disclose_to_fix_delay, dtype: float64,\n",
       " 0.28002868411617066)"
      ]
     },
     "metadata": {},
     "execution_count": 2096
    }
   ],
   "source": [
    "total = len(df)\n",
    "d2f = df[df['disclose_to_fix_delay'] > 0]\n",
    "before = len(d2f)\n",
    "d2f['disclose_to_fix_delay'].describe(), before/total\n"
   ]
  },
  {
   "cell_type": "code",
   "execution_count": 2097,
   "metadata": {},
   "outputs": [
    {
     "output_type": "execute_result",
     "data": {
      "text/plain": [
       "count    2789.000000\n",
       "mean      178.426318\n",
       "std       464.064366\n",
       "min     -1756.000000\n",
       "25%         1.000000\n",
       "50%        11.000000\n",
       "75%       132.000000\n",
       "max      4918.000000\n",
       "Name: release_to_publish_delay, dtype: float64"
      ]
     },
     "metadata": {},
     "execution_count": 2097
    }
   ],
   "source": [
    "df['release_to_publish_delay'].describe()"
   ]
  },
  {
   "cell_type": "code",
   "execution_count": 2098,
   "metadata": {},
   "outputs": [
    {
     "output_type": "execute_result",
     "data": {
      "text/plain": [
       "149"
      ]
     },
     "metadata": {},
     "execution_count": 2098
    }
   ],
   "source": [
    "wrong = df[df['fix_to_release_delay'] < 0]\n",
    "wrong = wrong.sample(frac=1).reset_index(drop=True)\n",
    "wrong.to_csv('delaylessthanzero.csv', index=False)\n",
    "len(wrong)"
   ]
  },
  {
   "cell_type": "code",
   "execution_count": 2099,
   "metadata": {},
   "outputs": [
    {
     "output_type": "display_data",
     "data": {
      "text/plain": "<Figure size 432x288 with 1 Axes>",
      "image/svg+xml": "<?xml version=\"1.0\" encoding=\"utf-8\" standalone=\"no\"?>\n<!DOCTYPE svg PUBLIC \"-//W3C//DTD SVG 1.1//EN\"\n  \"http://www.w3.org/Graphics/SVG/1.1/DTD/svg11.dtd\">\n<!-- Created with matplotlib (https://matplotlib.org/) -->\n<svg height=\"262.19625pt\" version=\"1.1\" viewBox=\"0 0 392.028683 262.19625\" width=\"392.028683pt\" xmlns=\"http://www.w3.org/2000/svg\" xmlns:xlink=\"http://www.w3.org/1999/xlink\">\n <metadata>\n  <rdf:RDF xmlns:cc=\"http://creativecommons.org/ns#\" xmlns:dc=\"http://purl.org/dc/elements/1.1/\" xmlns:rdf=\"http://www.w3.org/1999/02/22-rdf-syntax-ns#\">\n   <cc:Work>\n    <dc:type rdf:resource=\"http://purl.org/dc/dcmitype/StillImage\"/>\n    <dc:date>2021-05-03T13:32:55.838389</dc:date>\n    <dc:format>image/svg+xml</dc:format>\n    <dc:creator>\n     <cc:Agent>\n      <dc:title>Matplotlib v3.3.4, https://matplotlib.org/</dc:title>\n     </cc:Agent>\n    </dc:creator>\n   </cc:Work>\n  </rdf:RDF>\n </metadata>\n <defs>\n  <style type=\"text/css\">*{stroke-linecap:butt;stroke-linejoin:round;}</style>\n </defs>\n <g id=\"figure_1\">\n  <g id=\"patch_1\">\n   <path d=\"M 0 262.19625 \nL 392.028683 262.19625 \nL 392.028683 0 \nL 0 0 \nz\n\" style=\"fill:none;\"/>\n  </g>\n  <g id=\"axes_1\">\n   <g id=\"patch_2\">\n    <path d=\"M 46.965625 224.64 \nL 381.765625 224.64 \nL 381.765625 7.2 \nL 46.965625 7.2 \nz\n\" style=\"fill:#ffffff;\"/>\n   </g>\n   <g id=\"patch_3\">\n    <path clip-path=\"url(#p41d82ef24c)\" d=\"M 51.748482 211.381463 \nL 90.011339 211.381463 \nL 90.011339 205.746585 \nL 51.748482 205.746585 \nL 51.748482 211.381463 \nz\n\" style=\"fill:#3274a1;stroke:#3d3d3d;stroke-linejoin:miter;stroke-width:1.5;\"/>\n   </g>\n   <g id=\"patch_4\">\n    <path clip-path=\"url(#p41d82ef24c)\" d=\"M 99.577054 210.05561 \nL 137.839911 210.05561 \nL 137.839911 191.493659 \nL 99.577054 191.493659 \nL 99.577054 210.05561 \nz\n\" style=\"fill:#e1812c;stroke:#3d3d3d;stroke-linejoin:miter;stroke-width:1.5;\"/>\n   </g>\n   <g id=\"patch_5\">\n    <path clip-path=\"url(#p41d82ef24c)\" d=\"M 147.405625 210.05561 \nL 185.668482 210.05561 \nL 185.668482 167.296829 \nL 147.405625 167.296829 \nL 147.405625 210.05561 \nz\n\" style=\"fill:#3a923a;stroke:#3d3d3d;stroke-linejoin:miter;stroke-width:1.5;\"/>\n   </g>\n   <g id=\"patch_6\">\n    <path clip-path=\"url(#p41d82ef24c)\" d=\"M 195.234196 211.381463 \nL 233.497054 211.381463 \nL 233.497054 202.100488 \nL 195.234196 202.100488 \nL 195.234196 211.381463 \nz\n\" style=\"fill:#c03d3e;stroke:#3d3d3d;stroke-linejoin:miter;stroke-width:1.5;\"/>\n   </g>\n   <g id=\"patch_7\">\n    <path clip-path=\"url(#p41d82ef24c)\" d=\"M 243.062768 210.05561 \nL 281.325625 210.05561 \nL 281.325625 195.47122 \nL 243.062768 195.47122 \nL 243.062768 210.05561 \nz\n\" style=\"fill:#9372b2;stroke:#3d3d3d;stroke-linejoin:miter;stroke-width:1.5;\"/>\n   </g>\n   <g id=\"patch_8\">\n    <path clip-path=\"url(#p41d82ef24c)\" d=\"M 290.891339 211.381463 \nL 329.154196 211.381463 \nL 329.154196 203.426341 \nL 290.891339 203.426341 \nL 290.891339 211.381463 \nz\n\" style=\"fill:#845b53;stroke:#3d3d3d;stroke-linejoin:miter;stroke-width:1.5;\"/>\n   </g>\n   <g id=\"patch_9\">\n    <path clip-path=\"url(#p41d82ef24c)\" d=\"M 338.719911 211.381463 \nL 376.982768 211.381463 \nL 376.982768 196.134146 \nL 338.719911 196.134146 \nL 338.719911 211.381463 \nz\n\" style=\"fill:#d684bd;stroke:#3d3d3d;stroke-linejoin:miter;stroke-width:1.5;\"/>\n   </g>\n   <g id=\"matplotlib.axis_1\">\n    <g id=\"xtick_1\">\n     <g id=\"line2d_1\">\n      <defs>\n       <path d=\"M 0 0 \nL 0 3.5 \n\" id=\"m592d7e08ac\" style=\"stroke:#000000;stroke-width:0.8;\"/>\n      </defs>\n      <g>\n       <use style=\"stroke:#000000;stroke-width:0.8;\" x=\"70.879911\" xlink:href=\"#m592d7e08ac\" y=\"224.64\"/>\n      </g>\n     </g>\n     <g id=\"text_1\">\n      <!-- Composer -->\n      <g transform=\"translate(45.488504 239.238437)scale(0.1 -0.1)\">\n       <defs>\n        <path d=\"M 64.40625 67.28125 \nL 64.40625 56.890625 \nQ 59.421875 61.53125 53.78125 63.8125 \nQ 48.140625 66.109375 41.796875 66.109375 \nQ 29.296875 66.109375 22.65625 58.46875 \nQ 16.015625 50.828125 16.015625 36.375 \nQ 16.015625 21.96875 22.65625 14.328125 \nQ 29.296875 6.6875 41.796875 6.6875 \nQ 48.140625 6.6875 53.78125 8.984375 \nQ 59.421875 11.28125 64.40625 15.921875 \nL 64.40625 5.609375 \nQ 59.234375 2.09375 53.4375 0.328125 \nQ 47.65625 -1.421875 41.21875 -1.421875 \nQ 24.65625 -1.421875 15.125 8.703125 \nQ 5.609375 18.84375 5.609375 36.375 \nQ 5.609375 53.953125 15.125 64.078125 \nQ 24.65625 74.21875 41.21875 74.21875 \nQ 47.75 74.21875 53.53125 72.484375 \nQ 59.328125 70.75 64.40625 67.28125 \nz\n\" id=\"DejaVuSans-67\"/>\n        <path d=\"M 30.609375 48.390625 \nQ 23.390625 48.390625 19.1875 42.75 \nQ 14.984375 37.109375 14.984375 27.296875 \nQ 14.984375 17.484375 19.15625 11.84375 \nQ 23.34375 6.203125 30.609375 6.203125 \nQ 37.796875 6.203125 41.984375 11.859375 \nQ 46.1875 17.53125 46.1875 27.296875 \nQ 46.1875 37.015625 41.984375 42.703125 \nQ 37.796875 48.390625 30.609375 48.390625 \nz\nM 30.609375 56 \nQ 42.328125 56 49.015625 48.375 \nQ 55.71875 40.765625 55.71875 27.296875 \nQ 55.71875 13.875 49.015625 6.21875 \nQ 42.328125 -1.421875 30.609375 -1.421875 \nQ 18.84375 -1.421875 12.171875 6.21875 \nQ 5.515625 13.875 5.515625 27.296875 \nQ 5.515625 40.765625 12.171875 48.375 \nQ 18.84375 56 30.609375 56 \nz\n\" id=\"DejaVuSans-111\"/>\n        <path d=\"M 52 44.1875 \nQ 55.375 50.25 60.0625 53.125 \nQ 64.75 56 71.09375 56 \nQ 79.640625 56 84.28125 50.015625 \nQ 88.921875 44.046875 88.921875 33.015625 \nL 88.921875 0 \nL 79.890625 0 \nL 79.890625 32.71875 \nQ 79.890625 40.578125 77.09375 44.375 \nQ 74.3125 48.1875 68.609375 48.1875 \nQ 61.625 48.1875 57.5625 43.546875 \nQ 53.515625 38.921875 53.515625 30.90625 \nL 53.515625 0 \nL 44.484375 0 \nL 44.484375 32.71875 \nQ 44.484375 40.625 41.703125 44.40625 \nQ 38.921875 48.1875 33.109375 48.1875 \nQ 26.21875 48.1875 22.15625 43.53125 \nQ 18.109375 38.875 18.109375 30.90625 \nL 18.109375 0 \nL 9.078125 0 \nL 9.078125 54.6875 \nL 18.109375 54.6875 \nL 18.109375 46.1875 \nQ 21.1875 51.21875 25.484375 53.609375 \nQ 29.78125 56 35.6875 56 \nQ 41.65625 56 45.828125 52.96875 \nQ 50 49.953125 52 44.1875 \nz\n\" id=\"DejaVuSans-109\"/>\n        <path d=\"M 18.109375 8.203125 \nL 18.109375 -20.796875 \nL 9.078125 -20.796875 \nL 9.078125 54.6875 \nL 18.109375 54.6875 \nL 18.109375 46.390625 \nQ 20.953125 51.265625 25.265625 53.625 \nQ 29.59375 56 35.59375 56 \nQ 45.5625 56 51.78125 48.09375 \nQ 58.015625 40.1875 58.015625 27.296875 \nQ 58.015625 14.40625 51.78125 6.484375 \nQ 45.5625 -1.421875 35.59375 -1.421875 \nQ 29.59375 -1.421875 25.265625 0.953125 \nQ 20.953125 3.328125 18.109375 8.203125 \nz\nM 48.6875 27.296875 \nQ 48.6875 37.203125 44.609375 42.84375 \nQ 40.53125 48.484375 33.40625 48.484375 \nQ 26.265625 48.484375 22.1875 42.84375 \nQ 18.109375 37.203125 18.109375 27.296875 \nQ 18.109375 17.390625 22.1875 11.75 \nQ 26.265625 6.109375 33.40625 6.109375 \nQ 40.53125 6.109375 44.609375 11.75 \nQ 48.6875 17.390625 48.6875 27.296875 \nz\n\" id=\"DejaVuSans-112\"/>\n        <path d=\"M 44.28125 53.078125 \nL 44.28125 44.578125 \nQ 40.484375 46.53125 36.375 47.5 \nQ 32.28125 48.484375 27.875 48.484375 \nQ 21.1875 48.484375 17.84375 46.4375 \nQ 14.5 44.390625 14.5 40.28125 \nQ 14.5 37.15625 16.890625 35.375 \nQ 19.28125 33.59375 26.515625 31.984375 \nL 29.59375 31.296875 \nQ 39.15625 29.25 43.1875 25.515625 \nQ 47.21875 21.78125 47.21875 15.09375 \nQ 47.21875 7.46875 41.1875 3.015625 \nQ 35.15625 -1.421875 24.609375 -1.421875 \nQ 20.21875 -1.421875 15.453125 -0.5625 \nQ 10.6875 0.296875 5.421875 2 \nL 5.421875 11.28125 \nQ 10.40625 8.6875 15.234375 7.390625 \nQ 20.0625 6.109375 24.8125 6.109375 \nQ 31.15625 6.109375 34.5625 8.28125 \nQ 37.984375 10.453125 37.984375 14.40625 \nQ 37.984375 18.0625 35.515625 20.015625 \nQ 33.0625 21.96875 24.703125 23.78125 \nL 21.578125 24.515625 \nQ 13.234375 26.265625 9.515625 29.90625 \nQ 5.8125 33.546875 5.8125 39.890625 \nQ 5.8125 47.609375 11.28125 51.796875 \nQ 16.75 56 26.8125 56 \nQ 31.78125 56 36.171875 55.265625 \nQ 40.578125 54.546875 44.28125 53.078125 \nz\n\" id=\"DejaVuSans-115\"/>\n        <path d=\"M 56.203125 29.59375 \nL 56.203125 25.203125 \nL 14.890625 25.203125 \nQ 15.484375 15.921875 20.484375 11.0625 \nQ 25.484375 6.203125 34.421875 6.203125 \nQ 39.59375 6.203125 44.453125 7.46875 \nQ 49.3125 8.734375 54.109375 11.28125 \nL 54.109375 2.78125 \nQ 49.265625 0.734375 44.1875 -0.34375 \nQ 39.109375 -1.421875 33.890625 -1.421875 \nQ 20.796875 -1.421875 13.15625 6.1875 \nQ 5.515625 13.8125 5.515625 26.8125 \nQ 5.515625 40.234375 12.765625 48.109375 \nQ 20.015625 56 32.328125 56 \nQ 43.359375 56 49.78125 48.890625 \nQ 56.203125 41.796875 56.203125 29.59375 \nz\nM 47.21875 32.234375 \nQ 47.125 39.59375 43.09375 43.984375 \nQ 39.0625 48.390625 32.421875 48.390625 \nQ 24.90625 48.390625 20.390625 44.140625 \nQ 15.875 39.890625 15.1875 32.171875 \nz\n\" id=\"DejaVuSans-101\"/>\n        <path d=\"M 41.109375 46.296875 \nQ 39.59375 47.171875 37.8125 47.578125 \nQ 36.03125 48 33.890625 48 \nQ 26.265625 48 22.1875 43.046875 \nQ 18.109375 38.09375 18.109375 28.8125 \nL 18.109375 0 \nL 9.078125 0 \nL 9.078125 54.6875 \nL 18.109375 54.6875 \nL 18.109375 46.1875 \nQ 20.953125 51.171875 25.484375 53.578125 \nQ 30.03125 56 36.53125 56 \nQ 37.453125 56 38.578125 55.875 \nQ 39.703125 55.765625 41.0625 55.515625 \nz\n\" id=\"DejaVuSans-114\"/>\n       </defs>\n       <use xlink:href=\"#DejaVuSans-67\"/>\n       <use x=\"69.824219\" xlink:href=\"#DejaVuSans-111\"/>\n       <use x=\"131.005859\" xlink:href=\"#DejaVuSans-109\"/>\n       <use x=\"228.417969\" xlink:href=\"#DejaVuSans-112\"/>\n       <use x=\"291.894531\" xlink:href=\"#DejaVuSans-111\"/>\n       <use x=\"353.076172\" xlink:href=\"#DejaVuSans-115\"/>\n       <use x=\"405.175781\" xlink:href=\"#DejaVuSans-101\"/>\n       <use x=\"466.699219\" xlink:href=\"#DejaVuSans-114\"/>\n      </g>\n     </g>\n    </g>\n    <g id=\"xtick_2\">\n     <g id=\"line2d_2\">\n      <g>\n       <use style=\"stroke:#000000;stroke-width:0.8;\" x=\"118.708482\" xlink:href=\"#m592d7e08ac\" y=\"224.64\"/>\n      </g>\n     </g>\n     <g id=\"text_2\">\n      <!-- Go -->\n      <g transform=\"translate(111.774888 239.238437)scale(0.1 -0.1)\">\n       <defs>\n        <path d=\"M 59.515625 10.40625 \nL 59.515625 29.984375 \nL 43.40625 29.984375 \nL 43.40625 38.09375 \nL 69.28125 38.09375 \nL 69.28125 6.78125 \nQ 63.578125 2.734375 56.6875 0.65625 \nQ 49.8125 -1.421875 42 -1.421875 \nQ 24.90625 -1.421875 15.25 8.5625 \nQ 5.609375 18.5625 5.609375 36.375 \nQ 5.609375 54.25 15.25 64.234375 \nQ 24.90625 74.21875 42 74.21875 \nQ 49.125 74.21875 55.546875 72.453125 \nQ 61.96875 70.703125 67.390625 67.28125 \nL 67.390625 56.78125 \nQ 61.921875 61.421875 55.765625 63.765625 \nQ 49.609375 66.109375 42.828125 66.109375 \nQ 29.4375 66.109375 22.71875 58.640625 \nQ 16.015625 51.171875 16.015625 36.375 \nQ 16.015625 21.625 22.71875 14.15625 \nQ 29.4375 6.6875 42.828125 6.6875 \nQ 48.046875 6.6875 52.140625 7.59375 \nQ 56.25 8.5 59.515625 10.40625 \nz\n\" id=\"DejaVuSans-71\"/>\n       </defs>\n       <use xlink:href=\"#DejaVuSans-71\"/>\n       <use x=\"77.490234\" xlink:href=\"#DejaVuSans-111\"/>\n      </g>\n     </g>\n    </g>\n    <g id=\"xtick_3\">\n     <g id=\"line2d_3\">\n      <g>\n       <use style=\"stroke:#000000;stroke-width:0.8;\" x=\"166.537054\" xlink:href=\"#m592d7e08ac\" y=\"224.64\"/>\n      </g>\n     </g>\n     <g id=\"text_3\">\n      <!-- Maven -->\n      <g transform=\"translate(149.954241 239.238437)scale(0.1 -0.1)\">\n       <defs>\n        <path d=\"M 9.8125 72.90625 \nL 24.515625 72.90625 \nL 43.109375 23.296875 \nL 61.8125 72.90625 \nL 76.515625 72.90625 \nL 76.515625 0 \nL 66.890625 0 \nL 66.890625 64.015625 \nL 48.09375 14.015625 \nL 38.1875 14.015625 \nL 19.390625 64.015625 \nL 19.390625 0 \nL 9.8125 0 \nz\n\" id=\"DejaVuSans-77\"/>\n        <path d=\"M 34.28125 27.484375 \nQ 23.390625 27.484375 19.1875 25 \nQ 14.984375 22.515625 14.984375 16.5 \nQ 14.984375 11.71875 18.140625 8.90625 \nQ 21.296875 6.109375 26.703125 6.109375 \nQ 34.1875 6.109375 38.703125 11.40625 \nQ 43.21875 16.703125 43.21875 25.484375 \nL 43.21875 27.484375 \nz\nM 52.203125 31.203125 \nL 52.203125 0 \nL 43.21875 0 \nL 43.21875 8.296875 \nQ 40.140625 3.328125 35.546875 0.953125 \nQ 30.953125 -1.421875 24.3125 -1.421875 \nQ 15.921875 -1.421875 10.953125 3.296875 \nQ 6 8.015625 6 15.921875 \nQ 6 25.140625 12.171875 29.828125 \nQ 18.359375 34.515625 30.609375 34.515625 \nL 43.21875 34.515625 \nL 43.21875 35.40625 \nQ 43.21875 41.609375 39.140625 45 \nQ 35.0625 48.390625 27.6875 48.390625 \nQ 23 48.390625 18.546875 47.265625 \nQ 14.109375 46.140625 10.015625 43.890625 \nL 10.015625 52.203125 \nQ 14.9375 54.109375 19.578125 55.046875 \nQ 24.21875 56 28.609375 56 \nQ 40.484375 56 46.34375 49.84375 \nQ 52.203125 43.703125 52.203125 31.203125 \nz\n\" id=\"DejaVuSans-97\"/>\n        <path d=\"M 2.984375 54.6875 \nL 12.5 54.6875 \nL 29.59375 8.796875 \nL 46.6875 54.6875 \nL 56.203125 54.6875 \nL 35.6875 0 \nL 23.484375 0 \nz\n\" id=\"DejaVuSans-118\"/>\n        <path d=\"M 54.890625 33.015625 \nL 54.890625 0 \nL 45.90625 0 \nL 45.90625 32.71875 \nQ 45.90625 40.484375 42.875 44.328125 \nQ 39.84375 48.1875 33.796875 48.1875 \nQ 26.515625 48.1875 22.3125 43.546875 \nQ 18.109375 38.921875 18.109375 30.90625 \nL 18.109375 0 \nL 9.078125 0 \nL 9.078125 54.6875 \nL 18.109375 54.6875 \nL 18.109375 46.1875 \nQ 21.34375 51.125 25.703125 53.5625 \nQ 30.078125 56 35.796875 56 \nQ 45.21875 56 50.046875 50.171875 \nQ 54.890625 44.34375 54.890625 33.015625 \nz\n\" id=\"DejaVuSans-110\"/>\n       </defs>\n       <use xlink:href=\"#DejaVuSans-77\"/>\n       <use x=\"86.279297\" xlink:href=\"#DejaVuSans-97\"/>\n       <use x=\"147.558594\" xlink:href=\"#DejaVuSans-118\"/>\n       <use x=\"206.738281\" xlink:href=\"#DejaVuSans-101\"/>\n       <use x=\"268.261719\" xlink:href=\"#DejaVuSans-110\"/>\n      </g>\n     </g>\n    </g>\n    <g id=\"xtick_4\">\n     <g id=\"line2d_4\">\n      <g>\n       <use style=\"stroke:#000000;stroke-width:0.8;\" x=\"214.365625\" xlink:href=\"#m592d7e08ac\" y=\"224.64\"/>\n      </g>\n     </g>\n     <g id=\"text_4\">\n      <!-- npm -->\n      <g transform=\"translate(203.152344 239.238437)scale(0.1 -0.1)\">\n       <use xlink:href=\"#DejaVuSans-110\"/>\n       <use x=\"63.378906\" xlink:href=\"#DejaVuSans-112\"/>\n       <use x=\"126.855469\" xlink:href=\"#DejaVuSans-109\"/>\n      </g>\n     </g>\n    </g>\n    <g id=\"xtick_5\">\n     <g id=\"line2d_5\">\n      <g>\n       <use style=\"stroke:#000000;stroke-width:0.8;\" x=\"262.194196\" xlink:href=\"#m592d7e08ac\" y=\"224.64\"/>\n      </g>\n     </g>\n     <g id=\"text_5\">\n      <!-- NuGet -->\n      <g transform=\"translate(246.373884 239.238437)scale(0.1 -0.1)\">\n       <defs>\n        <path d=\"M 9.8125 72.90625 \nL 23.09375 72.90625 \nL 55.421875 11.921875 \nL 55.421875 72.90625 \nL 64.984375 72.90625 \nL 64.984375 0 \nL 51.703125 0 \nL 19.390625 60.984375 \nL 19.390625 0 \nL 9.8125 0 \nz\n\" id=\"DejaVuSans-78\"/>\n        <path d=\"M 8.5 21.578125 \nL 8.5 54.6875 \nL 17.484375 54.6875 \nL 17.484375 21.921875 \nQ 17.484375 14.15625 20.5 10.265625 \nQ 23.53125 6.390625 29.59375 6.390625 \nQ 36.859375 6.390625 41.078125 11.03125 \nQ 45.3125 15.671875 45.3125 23.6875 \nL 45.3125 54.6875 \nL 54.296875 54.6875 \nL 54.296875 0 \nL 45.3125 0 \nL 45.3125 8.40625 \nQ 42.046875 3.421875 37.71875 1 \nQ 33.40625 -1.421875 27.6875 -1.421875 \nQ 18.265625 -1.421875 13.375 4.4375 \nQ 8.5 10.296875 8.5 21.578125 \nz\nM 31.109375 56 \nz\n\" id=\"DejaVuSans-117\"/>\n        <path d=\"M 18.3125 70.21875 \nL 18.3125 54.6875 \nL 36.8125 54.6875 \nL 36.8125 47.703125 \nL 18.3125 47.703125 \nL 18.3125 18.015625 \nQ 18.3125 11.328125 20.140625 9.421875 \nQ 21.96875 7.515625 27.59375 7.515625 \nL 36.8125 7.515625 \nL 36.8125 0 \nL 27.59375 0 \nQ 17.1875 0 13.234375 3.875 \nQ 9.28125 7.765625 9.28125 18.015625 \nL 9.28125 47.703125 \nL 2.6875 47.703125 \nL 2.6875 54.6875 \nL 9.28125 54.6875 \nL 9.28125 70.21875 \nz\n\" id=\"DejaVuSans-116\"/>\n       </defs>\n       <use xlink:href=\"#DejaVuSans-78\"/>\n       <use x=\"74.804688\" xlink:href=\"#DejaVuSans-117\"/>\n       <use x=\"138.183594\" xlink:href=\"#DejaVuSans-71\"/>\n       <use x=\"215.673828\" xlink:href=\"#DejaVuSans-101\"/>\n       <use x=\"277.197266\" xlink:href=\"#DejaVuSans-116\"/>\n      </g>\n     </g>\n    </g>\n    <g id=\"xtick_6\">\n     <g id=\"line2d_6\">\n      <g>\n       <use style=\"stroke:#000000;stroke-width:0.8;\" x=\"310.022768\" xlink:href=\"#m592d7e08ac\" y=\"224.64\"/>\n      </g>\n     </g>\n     <g id=\"text_6\">\n      <!-- pip -->\n      <g transform=\"translate(302.285268 239.238437)scale(0.1 -0.1)\">\n       <defs>\n        <path d=\"M 9.421875 54.6875 \nL 18.40625 54.6875 \nL 18.40625 0 \nL 9.421875 0 \nz\nM 9.421875 75.984375 \nL 18.40625 75.984375 \nL 18.40625 64.59375 \nL 9.421875 64.59375 \nz\n\" id=\"DejaVuSans-105\"/>\n       </defs>\n       <use xlink:href=\"#DejaVuSans-112\"/>\n       <use x=\"63.476562\" xlink:href=\"#DejaVuSans-105\"/>\n       <use x=\"91.259766\" xlink:href=\"#DejaVuSans-112\"/>\n      </g>\n     </g>\n    </g>\n    <g id=\"xtick_7\">\n     <g id=\"line2d_7\">\n      <g>\n       <use style=\"stroke:#000000;stroke-width:0.8;\" x=\"357.851339\" xlink:href=\"#m592d7e08ac\" y=\"224.64\"/>\n      </g>\n     </g>\n     <g id=\"text_7\">\n      <!-- RubyGems -->\n      <g transform=\"translate(330.873996 239.238437)scale(0.1 -0.1)\">\n       <defs>\n        <path d=\"M 44.390625 34.1875 \nQ 47.5625 33.109375 50.5625 29.59375 \nQ 53.5625 26.078125 56.59375 19.921875 \nL 66.609375 0 \nL 56 0 \nL 46.6875 18.703125 \nQ 43.0625 26.03125 39.671875 28.421875 \nQ 36.28125 30.8125 30.421875 30.8125 \nL 19.671875 30.8125 \nL 19.671875 0 \nL 9.8125 0 \nL 9.8125 72.90625 \nL 32.078125 72.90625 \nQ 44.578125 72.90625 50.734375 67.671875 \nQ 56.890625 62.453125 56.890625 51.90625 \nQ 56.890625 45.015625 53.6875 40.46875 \nQ 50.484375 35.9375 44.390625 34.1875 \nz\nM 19.671875 64.796875 \nL 19.671875 38.921875 \nL 32.078125 38.921875 \nQ 39.203125 38.921875 42.84375 42.21875 \nQ 46.484375 45.515625 46.484375 51.90625 \nQ 46.484375 58.296875 42.84375 61.546875 \nQ 39.203125 64.796875 32.078125 64.796875 \nz\n\" id=\"DejaVuSans-82\"/>\n        <path d=\"M 48.6875 27.296875 \nQ 48.6875 37.203125 44.609375 42.84375 \nQ 40.53125 48.484375 33.40625 48.484375 \nQ 26.265625 48.484375 22.1875 42.84375 \nQ 18.109375 37.203125 18.109375 27.296875 \nQ 18.109375 17.390625 22.1875 11.75 \nQ 26.265625 6.109375 33.40625 6.109375 \nQ 40.53125 6.109375 44.609375 11.75 \nQ 48.6875 17.390625 48.6875 27.296875 \nz\nM 18.109375 46.390625 \nQ 20.953125 51.265625 25.265625 53.625 \nQ 29.59375 56 35.59375 56 \nQ 45.5625 56 51.78125 48.09375 \nQ 58.015625 40.1875 58.015625 27.296875 \nQ 58.015625 14.40625 51.78125 6.484375 \nQ 45.5625 -1.421875 35.59375 -1.421875 \nQ 29.59375 -1.421875 25.265625 0.953125 \nQ 20.953125 3.328125 18.109375 8.203125 \nL 18.109375 0 \nL 9.078125 0 \nL 9.078125 75.984375 \nL 18.109375 75.984375 \nz\n\" id=\"DejaVuSans-98\"/>\n        <path d=\"M 32.171875 -5.078125 \nQ 28.375 -14.84375 24.75 -17.8125 \nQ 21.140625 -20.796875 15.09375 -20.796875 \nL 7.90625 -20.796875 \nL 7.90625 -13.28125 \nL 13.1875 -13.28125 \nQ 16.890625 -13.28125 18.9375 -11.515625 \nQ 21 -9.765625 23.484375 -3.21875 \nL 25.09375 0.875 \nL 2.984375 54.6875 \nL 12.5 54.6875 \nL 29.59375 11.921875 \nL 46.6875 54.6875 \nL 56.203125 54.6875 \nz\n\" id=\"DejaVuSans-121\"/>\n       </defs>\n       <use xlink:href=\"#DejaVuSans-82\"/>\n       <use x=\"64.982422\" xlink:href=\"#DejaVuSans-117\"/>\n       <use x=\"128.361328\" xlink:href=\"#DejaVuSans-98\"/>\n       <use x=\"191.837891\" xlink:href=\"#DejaVuSans-121\"/>\n       <use x=\"251.017578\" xlink:href=\"#DejaVuSans-71\"/>\n       <use x=\"328.507812\" xlink:href=\"#DejaVuSans-101\"/>\n       <use x=\"390.03125\" xlink:href=\"#DejaVuSans-109\"/>\n       <use x=\"487.443359\" xlink:href=\"#DejaVuSans-115\"/>\n      </g>\n     </g>\n    </g>\n    <g id=\"text_8\">\n     <!-- Ecosystem -->\n     <g transform=\"translate(187.321875 252.916562)scale(0.1 -0.1)\">\n      <defs>\n       <path d=\"M 9.8125 72.90625 \nL 55.90625 72.90625 \nL 55.90625 64.59375 \nL 19.671875 64.59375 \nL 19.671875 43.015625 \nL 54.390625 43.015625 \nL 54.390625 34.71875 \nL 19.671875 34.71875 \nL 19.671875 8.296875 \nL 56.78125 8.296875 \nL 56.78125 0 \nL 9.8125 0 \nz\n\" id=\"DejaVuSans-69\"/>\n       <path d=\"M 48.78125 52.59375 \nL 48.78125 44.1875 \nQ 44.96875 46.296875 41.140625 47.34375 \nQ 37.3125 48.390625 33.40625 48.390625 \nQ 24.65625 48.390625 19.8125 42.84375 \nQ 14.984375 37.3125 14.984375 27.296875 \nQ 14.984375 17.28125 19.8125 11.734375 \nQ 24.65625 6.203125 33.40625 6.203125 \nQ 37.3125 6.203125 41.140625 7.25 \nQ 44.96875 8.296875 48.78125 10.40625 \nL 48.78125 2.09375 \nQ 45.015625 0.34375 40.984375 -0.53125 \nQ 36.96875 -1.421875 32.421875 -1.421875 \nQ 20.0625 -1.421875 12.78125 6.34375 \nQ 5.515625 14.109375 5.515625 27.296875 \nQ 5.515625 40.671875 12.859375 48.328125 \nQ 20.21875 56 33.015625 56 \nQ 37.15625 56 41.109375 55.140625 \nQ 45.0625 54.296875 48.78125 52.59375 \nz\n\" id=\"DejaVuSans-99\"/>\n      </defs>\n      <use xlink:href=\"#DejaVuSans-69\"/>\n      <use x=\"63.183594\" xlink:href=\"#DejaVuSans-99\"/>\n      <use x=\"118.164062\" xlink:href=\"#DejaVuSans-111\"/>\n      <use x=\"179.345703\" xlink:href=\"#DejaVuSans-115\"/>\n      <use x=\"231.445312\" xlink:href=\"#DejaVuSans-121\"/>\n      <use x=\"290.625\" xlink:href=\"#DejaVuSans-115\"/>\n      <use x=\"342.724609\" xlink:href=\"#DejaVuSans-116\"/>\n      <use x=\"381.933594\" xlink:href=\"#DejaVuSans-101\"/>\n      <use x=\"443.457031\" xlink:href=\"#DejaVuSans-109\"/>\n     </g>\n    </g>\n   </g>\n   <g id=\"matplotlib.axis_2\">\n    <g id=\"ytick_1\">\n     <g id=\"line2d_8\">\n      <defs>\n       <path d=\"M 0 0 \nL -3.5 0 \n\" id=\"mecaee68086\" style=\"stroke:#000000;stroke-width:0.8;\"/>\n      </defs>\n      <g>\n       <use style=\"stroke:#000000;stroke-width:0.8;\" x=\"46.965625\" xlink:href=\"#mecaee68086\" y=\"211.381463\"/>\n      </g>\n     </g>\n     <g id=\"text_9\">\n      <!-- 0 -->\n      <g transform=\"translate(33.603125 215.180682)scale(0.1 -0.1)\">\n       <defs>\n        <path d=\"M 31.78125 66.40625 \nQ 24.171875 66.40625 20.328125 58.90625 \nQ 16.5 51.421875 16.5 36.375 \nQ 16.5 21.390625 20.328125 13.890625 \nQ 24.171875 6.390625 31.78125 6.390625 \nQ 39.453125 6.390625 43.28125 13.890625 \nQ 47.125 21.390625 47.125 36.375 \nQ 47.125 51.421875 43.28125 58.90625 \nQ 39.453125 66.40625 31.78125 66.40625 \nz\nM 31.78125 74.21875 \nQ 44.046875 74.21875 50.515625 64.515625 \nQ 56.984375 54.828125 56.984375 36.375 \nQ 56.984375 17.96875 50.515625 8.265625 \nQ 44.046875 -1.421875 31.78125 -1.421875 \nQ 19.53125 -1.421875 13.0625 8.265625 \nQ 6.59375 17.96875 6.59375 36.375 \nQ 6.59375 54.828125 13.0625 64.515625 \nQ 19.53125 74.21875 31.78125 74.21875 \nz\n\" id=\"DejaVuSans-48\"/>\n       </defs>\n       <use xlink:href=\"#DejaVuSans-48\"/>\n      </g>\n     </g>\n    </g>\n    <g id=\"ytick_2\">\n     <g id=\"line2d_9\">\n      <g>\n       <use style=\"stroke:#000000;stroke-width:0.8;\" x=\"46.965625\" xlink:href=\"#mecaee68086\" y=\"184.86439\"/>\n      </g>\n     </g>\n     <g id=\"text_10\">\n      <!-- 20 -->\n      <g transform=\"translate(27.240625 188.663609)scale(0.1 -0.1)\">\n       <defs>\n        <path d=\"M 19.1875 8.296875 \nL 53.609375 8.296875 \nL 53.609375 0 \nL 7.328125 0 \nL 7.328125 8.296875 \nQ 12.9375 14.109375 22.625 23.890625 \nQ 32.328125 33.6875 34.8125 36.53125 \nQ 39.546875 41.84375 41.421875 45.53125 \nQ 43.3125 49.21875 43.3125 52.78125 \nQ 43.3125 58.59375 39.234375 62.25 \nQ 35.15625 65.921875 28.609375 65.921875 \nQ 23.96875 65.921875 18.8125 64.3125 \nQ 13.671875 62.703125 7.8125 59.421875 \nL 7.8125 69.390625 \nQ 13.765625 71.78125 18.9375 73 \nQ 24.125 74.21875 28.421875 74.21875 \nQ 39.75 74.21875 46.484375 68.546875 \nQ 53.21875 62.890625 53.21875 53.421875 \nQ 53.21875 48.921875 51.53125 44.890625 \nQ 49.859375 40.875 45.40625 35.40625 \nQ 44.1875 33.984375 37.640625 27.21875 \nQ 31.109375 20.453125 19.1875 8.296875 \nz\n\" id=\"DejaVuSans-50\"/>\n       </defs>\n       <use xlink:href=\"#DejaVuSans-50\"/>\n       <use x=\"63.623047\" xlink:href=\"#DejaVuSans-48\"/>\n      </g>\n     </g>\n    </g>\n    <g id=\"ytick_3\">\n     <g id=\"line2d_10\">\n      <g>\n       <use style=\"stroke:#000000;stroke-width:0.8;\" x=\"46.965625\" xlink:href=\"#mecaee68086\" y=\"158.347317\"/>\n      </g>\n     </g>\n     <g id=\"text_11\">\n      <!-- 40 -->\n      <g transform=\"translate(27.240625 162.146536)scale(0.1 -0.1)\">\n       <defs>\n        <path d=\"M 37.796875 64.3125 \nL 12.890625 25.390625 \nL 37.796875 25.390625 \nz\nM 35.203125 72.90625 \nL 47.609375 72.90625 \nL 47.609375 25.390625 \nL 58.015625 25.390625 \nL 58.015625 17.1875 \nL 47.609375 17.1875 \nL 47.609375 0 \nL 37.796875 0 \nL 37.796875 17.1875 \nL 4.890625 17.1875 \nL 4.890625 26.703125 \nz\n\" id=\"DejaVuSans-52\"/>\n       </defs>\n       <use xlink:href=\"#DejaVuSans-52\"/>\n       <use x=\"63.623047\" xlink:href=\"#DejaVuSans-48\"/>\n      </g>\n     </g>\n    </g>\n    <g id=\"ytick_4\">\n     <g id=\"line2d_11\">\n      <g>\n       <use style=\"stroke:#000000;stroke-width:0.8;\" x=\"46.965625\" xlink:href=\"#mecaee68086\" y=\"131.830244\"/>\n      </g>\n     </g>\n     <g id=\"text_12\">\n      <!-- 60 -->\n      <g transform=\"translate(27.240625 135.629463)scale(0.1 -0.1)\">\n       <defs>\n        <path d=\"M 33.015625 40.375 \nQ 26.375 40.375 22.484375 35.828125 \nQ 18.609375 31.296875 18.609375 23.390625 \nQ 18.609375 15.53125 22.484375 10.953125 \nQ 26.375 6.390625 33.015625 6.390625 \nQ 39.65625 6.390625 43.53125 10.953125 \nQ 47.40625 15.53125 47.40625 23.390625 \nQ 47.40625 31.296875 43.53125 35.828125 \nQ 39.65625 40.375 33.015625 40.375 \nz\nM 52.59375 71.296875 \nL 52.59375 62.3125 \nQ 48.875 64.0625 45.09375 64.984375 \nQ 41.3125 65.921875 37.59375 65.921875 \nQ 27.828125 65.921875 22.671875 59.328125 \nQ 17.53125 52.734375 16.796875 39.40625 \nQ 19.671875 43.65625 24.015625 45.921875 \nQ 28.375 48.1875 33.59375 48.1875 \nQ 44.578125 48.1875 50.953125 41.515625 \nQ 57.328125 34.859375 57.328125 23.390625 \nQ 57.328125 12.15625 50.6875 5.359375 \nQ 44.046875 -1.421875 33.015625 -1.421875 \nQ 20.359375 -1.421875 13.671875 8.265625 \nQ 6.984375 17.96875 6.984375 36.375 \nQ 6.984375 53.65625 15.1875 63.9375 \nQ 23.390625 74.21875 37.203125 74.21875 \nQ 40.921875 74.21875 44.703125 73.484375 \nQ 48.484375 72.75 52.59375 71.296875 \nz\n\" id=\"DejaVuSans-54\"/>\n       </defs>\n       <use xlink:href=\"#DejaVuSans-54\"/>\n       <use x=\"63.623047\" xlink:href=\"#DejaVuSans-48\"/>\n      </g>\n     </g>\n    </g>\n    <g id=\"ytick_5\">\n     <g id=\"line2d_12\">\n      <g>\n       <use style=\"stroke:#000000;stroke-width:0.8;\" x=\"46.965625\" xlink:href=\"#mecaee68086\" y=\"105.313171\"/>\n      </g>\n     </g>\n     <g id=\"text_13\">\n      <!-- 80 -->\n      <g transform=\"translate(27.240625 109.112389)scale(0.1 -0.1)\">\n       <defs>\n        <path d=\"M 31.78125 34.625 \nQ 24.75 34.625 20.71875 30.859375 \nQ 16.703125 27.09375 16.703125 20.515625 \nQ 16.703125 13.921875 20.71875 10.15625 \nQ 24.75 6.390625 31.78125 6.390625 \nQ 38.8125 6.390625 42.859375 10.171875 \nQ 46.921875 13.96875 46.921875 20.515625 \nQ 46.921875 27.09375 42.890625 30.859375 \nQ 38.875 34.625 31.78125 34.625 \nz\nM 21.921875 38.8125 \nQ 15.578125 40.375 12.03125 44.71875 \nQ 8.5 49.078125 8.5 55.328125 \nQ 8.5 64.0625 14.71875 69.140625 \nQ 20.953125 74.21875 31.78125 74.21875 \nQ 42.671875 74.21875 48.875 69.140625 \nQ 55.078125 64.0625 55.078125 55.328125 \nQ 55.078125 49.078125 51.53125 44.71875 \nQ 48 40.375 41.703125 38.8125 \nQ 48.828125 37.15625 52.796875 32.3125 \nQ 56.78125 27.484375 56.78125 20.515625 \nQ 56.78125 9.90625 50.3125 4.234375 \nQ 43.84375 -1.421875 31.78125 -1.421875 \nQ 19.734375 -1.421875 13.25 4.234375 \nQ 6.78125 9.90625 6.78125 20.515625 \nQ 6.78125 27.484375 10.78125 32.3125 \nQ 14.796875 37.15625 21.921875 38.8125 \nz\nM 18.3125 54.390625 \nQ 18.3125 48.734375 21.84375 45.5625 \nQ 25.390625 42.390625 31.78125 42.390625 \nQ 38.140625 42.390625 41.71875 45.5625 \nQ 45.3125 48.734375 45.3125 54.390625 \nQ 45.3125 60.0625 41.71875 63.234375 \nQ 38.140625 66.40625 31.78125 66.40625 \nQ 25.390625 66.40625 21.84375 63.234375 \nQ 18.3125 60.0625 18.3125 54.390625 \nz\n\" id=\"DejaVuSans-56\"/>\n       </defs>\n       <use xlink:href=\"#DejaVuSans-56\"/>\n       <use x=\"63.623047\" xlink:href=\"#DejaVuSans-48\"/>\n      </g>\n     </g>\n    </g>\n    <g id=\"ytick_6\">\n     <g id=\"line2d_13\">\n      <g>\n       <use style=\"stroke:#000000;stroke-width:0.8;\" x=\"46.965625\" xlink:href=\"#mecaee68086\" y=\"78.796098\"/>\n      </g>\n     </g>\n     <g id=\"text_14\">\n      <!-- 100 -->\n      <g transform=\"translate(20.878125 82.595316)scale(0.1 -0.1)\">\n       <defs>\n        <path d=\"M 12.40625 8.296875 \nL 28.515625 8.296875 \nL 28.515625 63.921875 \nL 10.984375 60.40625 \nL 10.984375 69.390625 \nL 28.421875 72.90625 \nL 38.28125 72.90625 \nL 38.28125 8.296875 \nL 54.390625 8.296875 \nL 54.390625 0 \nL 12.40625 0 \nz\n\" id=\"DejaVuSans-49\"/>\n       </defs>\n       <use xlink:href=\"#DejaVuSans-49\"/>\n       <use x=\"63.623047\" xlink:href=\"#DejaVuSans-48\"/>\n       <use x=\"127.246094\" xlink:href=\"#DejaVuSans-48\"/>\n      </g>\n     </g>\n    </g>\n    <g id=\"ytick_7\">\n     <g id=\"line2d_14\">\n      <g>\n       <use style=\"stroke:#000000;stroke-width:0.8;\" x=\"46.965625\" xlink:href=\"#mecaee68086\" y=\"52.279024\"/>\n      </g>\n     </g>\n     <g id=\"text_15\">\n      <!-- 120 -->\n      <g transform=\"translate(20.878125 56.078243)scale(0.1 -0.1)\">\n       <use xlink:href=\"#DejaVuSans-49\"/>\n       <use x=\"63.623047\" xlink:href=\"#DejaVuSans-50\"/>\n       <use x=\"127.246094\" xlink:href=\"#DejaVuSans-48\"/>\n      </g>\n     </g>\n    </g>\n    <g id=\"ytick_8\">\n     <g id=\"line2d_15\">\n      <g>\n       <use style=\"stroke:#000000;stroke-width:0.8;\" x=\"46.965625\" xlink:href=\"#mecaee68086\" y=\"25.761951\"/>\n      </g>\n     </g>\n     <g id=\"text_16\">\n      <!-- 140 -->\n      <g transform=\"translate(20.878125 29.56117)scale(0.1 -0.1)\">\n       <use xlink:href=\"#DejaVuSans-49\"/>\n       <use x=\"63.623047\" xlink:href=\"#DejaVuSans-52\"/>\n       <use x=\"127.246094\" xlink:href=\"#DejaVuSans-48\"/>\n      </g>\n     </g>\n    </g>\n    <g id=\"text_17\">\n     <!-- Fix to Release Delay (days) -->\n     <g transform=\"translate(14.798438 183.737187)rotate(-90)scale(0.1 -0.1)\">\n      <defs>\n       <path d=\"M 9.8125 72.90625 \nL 51.703125 72.90625 \nL 51.703125 64.59375 \nL 19.671875 64.59375 \nL 19.671875 43.109375 \nL 48.578125 43.109375 \nL 48.578125 34.8125 \nL 19.671875 34.8125 \nL 19.671875 0 \nL 9.8125 0 \nz\n\" id=\"DejaVuSans-70\"/>\n       <path d=\"M 54.890625 54.6875 \nL 35.109375 28.078125 \nL 55.90625 0 \nL 45.3125 0 \nL 29.390625 21.484375 \nL 13.484375 0 \nL 2.875 0 \nL 24.125 28.609375 \nL 4.6875 54.6875 \nL 15.28125 54.6875 \nL 29.78125 35.203125 \nL 44.28125 54.6875 \nz\n\" id=\"DejaVuSans-120\"/>\n       <path id=\"DejaVuSans-32\"/>\n       <path d=\"M 9.421875 75.984375 \nL 18.40625 75.984375 \nL 18.40625 0 \nL 9.421875 0 \nz\n\" id=\"DejaVuSans-108\"/>\n       <path d=\"M 19.671875 64.796875 \nL 19.671875 8.109375 \nL 31.59375 8.109375 \nQ 46.6875 8.109375 53.6875 14.9375 \nQ 60.6875 21.78125 60.6875 36.53125 \nQ 60.6875 51.171875 53.6875 57.984375 \nQ 46.6875 64.796875 31.59375 64.796875 \nz\nM 9.8125 72.90625 \nL 30.078125 72.90625 \nQ 51.265625 72.90625 61.171875 64.09375 \nQ 71.09375 55.28125 71.09375 36.53125 \nQ 71.09375 17.671875 61.125 8.828125 \nQ 51.171875 0 30.078125 0 \nL 9.8125 0 \nz\n\" id=\"DejaVuSans-68\"/>\n       <path d=\"M 31 75.875 \nQ 24.46875 64.65625 21.28125 53.65625 \nQ 18.109375 42.671875 18.109375 31.390625 \nQ 18.109375 20.125 21.3125 9.0625 \nQ 24.515625 -2 31 -13.1875 \nL 23.1875 -13.1875 \nQ 15.875 -1.703125 12.234375 9.375 \nQ 8.59375 20.453125 8.59375 31.390625 \nQ 8.59375 42.28125 12.203125 53.3125 \nQ 15.828125 64.359375 23.1875 75.875 \nz\n\" id=\"DejaVuSans-40\"/>\n       <path d=\"M 45.40625 46.390625 \nL 45.40625 75.984375 \nL 54.390625 75.984375 \nL 54.390625 0 \nL 45.40625 0 \nL 45.40625 8.203125 \nQ 42.578125 3.328125 38.25 0.953125 \nQ 33.9375 -1.421875 27.875 -1.421875 \nQ 17.96875 -1.421875 11.734375 6.484375 \nQ 5.515625 14.40625 5.515625 27.296875 \nQ 5.515625 40.1875 11.734375 48.09375 \nQ 17.96875 56 27.875 56 \nQ 33.9375 56 38.25 53.625 \nQ 42.578125 51.265625 45.40625 46.390625 \nz\nM 14.796875 27.296875 \nQ 14.796875 17.390625 18.875 11.75 \nQ 22.953125 6.109375 30.078125 6.109375 \nQ 37.203125 6.109375 41.296875 11.75 \nQ 45.40625 17.390625 45.40625 27.296875 \nQ 45.40625 37.203125 41.296875 42.84375 \nQ 37.203125 48.484375 30.078125 48.484375 \nQ 22.953125 48.484375 18.875 42.84375 \nQ 14.796875 37.203125 14.796875 27.296875 \nz\n\" id=\"DejaVuSans-100\"/>\n       <path d=\"M 8.015625 75.875 \nL 15.828125 75.875 \nQ 23.140625 64.359375 26.78125 53.3125 \nQ 30.421875 42.28125 30.421875 31.390625 \nQ 30.421875 20.453125 26.78125 9.375 \nQ 23.140625 -1.703125 15.828125 -13.1875 \nL 8.015625 -13.1875 \nQ 14.5 -2 17.703125 9.0625 \nQ 20.90625 20.125 20.90625 31.390625 \nQ 20.90625 42.671875 17.703125 53.65625 \nQ 14.5 64.65625 8.015625 75.875 \nz\n\" id=\"DejaVuSans-41\"/>\n      </defs>\n      <use xlink:href=\"#DejaVuSans-70\"/>\n      <use x=\"50.269531\" xlink:href=\"#DejaVuSans-105\"/>\n      <use x=\"78.052734\" xlink:href=\"#DejaVuSans-120\"/>\n      <use x=\"137.232422\" xlink:href=\"#DejaVuSans-32\"/>\n      <use x=\"169.019531\" xlink:href=\"#DejaVuSans-116\"/>\n      <use x=\"208.228516\" xlink:href=\"#DejaVuSans-111\"/>\n      <use x=\"269.410156\" xlink:href=\"#DejaVuSans-32\"/>\n      <use x=\"301.197266\" xlink:href=\"#DejaVuSans-82\"/>\n      <use x=\"366.179688\" xlink:href=\"#DejaVuSans-101\"/>\n      <use x=\"427.703125\" xlink:href=\"#DejaVuSans-108\"/>\n      <use x=\"455.486328\" xlink:href=\"#DejaVuSans-101\"/>\n      <use x=\"517.009766\" xlink:href=\"#DejaVuSans-97\"/>\n      <use x=\"578.289062\" xlink:href=\"#DejaVuSans-115\"/>\n      <use x=\"630.388672\" xlink:href=\"#DejaVuSans-101\"/>\n      <use x=\"691.912109\" xlink:href=\"#DejaVuSans-32\"/>\n      <use x=\"723.699219\" xlink:href=\"#DejaVuSans-68\"/>\n      <use x=\"800.701172\" xlink:href=\"#DejaVuSans-101\"/>\n      <use x=\"862.224609\" xlink:href=\"#DejaVuSans-108\"/>\n      <use x=\"890.007812\" xlink:href=\"#DejaVuSans-97\"/>\n      <use x=\"951.287109\" xlink:href=\"#DejaVuSans-121\"/>\n      <use x=\"1010.466797\" xlink:href=\"#DejaVuSans-32\"/>\n      <use x=\"1042.253906\" xlink:href=\"#DejaVuSans-40\"/>\n      <use x=\"1081.267578\" xlink:href=\"#DejaVuSans-100\"/>\n      <use x=\"1144.744141\" xlink:href=\"#DejaVuSans-97\"/>\n      <use x=\"1206.023438\" xlink:href=\"#DejaVuSans-121\"/>\n      <use x=\"1265.203125\" xlink:href=\"#DejaVuSans-115\"/>\n      <use x=\"1317.302734\" xlink:href=\"#DejaVuSans-41\"/>\n     </g>\n    </g>\n   </g>\n   <g id=\"line2d_16\">\n    <path clip-path=\"url(#p41d82ef24c)\" d=\"M 70.879911 211.381463 \nL 70.879911 211.381463 \n\" style=\"fill:none;stroke:#3d3d3d;stroke-linecap:square;stroke-width:1.5;\"/>\n   </g>\n   <g id=\"line2d_17\">\n    <path clip-path=\"url(#p41d82ef24c)\" d=\"M 70.879911 205.746585 \nL 70.879911 198.122927 \n\" style=\"fill:none;stroke:#3d3d3d;stroke-linecap:square;stroke-width:1.5;\"/>\n   </g>\n   <g id=\"line2d_18\">\n    <path clip-path=\"url(#p41d82ef24c)\" d=\"M 61.314196 211.381463 \nL 80.445625 211.381463 \n\" style=\"fill:none;stroke:#3d3d3d;stroke-linecap:square;stroke-width:1.5;\"/>\n   </g>\n   <g id=\"line2d_19\">\n    <path clip-path=\"url(#p41d82ef24c)\" d=\"M 61.314196 198.122927 \nL 80.445625 198.122927 \n\" style=\"fill:none;stroke:#3d3d3d;stroke-linecap:square;stroke-width:1.5;\"/>\n   </g>\n   <g id=\"line2d_20\">\n    <defs>\n     <path d=\"M -0 3.535534 \nL 2.12132 0 \nL -0 -3.535534 \nL -2.12132 -0 \nz\n\" id=\"m216bac47f2\" style=\"stroke:#3d3d3d;stroke-linejoin:miter;\"/>\n    </defs>\n    <g clip-path=\"url(#p41d82ef24c)\">\n     <use style=\"fill:#3d3d3d;stroke:#3d3d3d;stroke-linejoin:miter;\" x=\"70.879911\" xlink:href=\"#m216bac47f2\" y=\"27.087805\"/>\n     <use style=\"fill:#3d3d3d;stroke:#3d3d3d;stroke-linejoin:miter;\" x=\"70.879911\" xlink:href=\"#m216bac47f2\" y=\"192.819512\"/>\n     <use style=\"fill:#3d3d3d;stroke:#3d3d3d;stroke-linejoin:miter;\" x=\"70.879911\" xlink:href=\"#m216bac47f2\" y=\"176.909268\"/>\n     <use style=\"fill:#3d3d3d;stroke:#3d3d3d;stroke-linejoin:miter;\" x=\"70.879911\" xlink:href=\"#m216bac47f2\" y=\"167.628293\"/>\n     <use style=\"fill:#3d3d3d;stroke:#3d3d3d;stroke-linejoin:miter;\" x=\"70.879911\" xlink:href=\"#m216bac47f2\" y=\"168.954146\"/>\n     <use style=\"fill:#3d3d3d;stroke:#3d3d3d;stroke-linejoin:miter;\" x=\"70.879911\" xlink:href=\"#m216bac47f2\" y=\"168.954146\"/>\n     <use style=\"fill:#3d3d3d;stroke:#3d3d3d;stroke-linejoin:miter;\" x=\"70.879911\" xlink:href=\"#m216bac47f2\" y=\"159.673171\"/>\n     <use style=\"fill:#3d3d3d;stroke:#3d3d3d;stroke-linejoin:miter;\" x=\"70.879911\" xlink:href=\"#m216bac47f2\" y=\"164.976585\"/>\n     <use style=\"fill:#3d3d3d;stroke:#3d3d3d;stroke-linejoin:miter;\" x=\"70.879911\" xlink:href=\"#m216bac47f2\" y=\"158.347317\"/>\n     <use style=\"fill:#3d3d3d;stroke:#3d3d3d;stroke-linejoin:miter;\" x=\"70.879911\" xlink:href=\"#m216bac47f2\" y=\"155.69561\"/>\n     <use style=\"fill:#3d3d3d;stroke:#3d3d3d;stroke-linejoin:miter;\" x=\"70.879911\" xlink:href=\"#m216bac47f2\" y=\"127.852683\"/>\n     <use style=\"fill:#3d3d3d;stroke:#3d3d3d;stroke-linejoin:miter;\" x=\"70.879911\" xlink:href=\"#m216bac47f2\" y=\"73.492683\"/>\n     <use style=\"fill:#3d3d3d;stroke:#3d3d3d;stroke-linejoin:miter;\" x=\"70.879911\" xlink:href=\"#m216bac47f2\" y=\"73.492683\"/>\n     <use style=\"fill:#3d3d3d;stroke:#3d3d3d;stroke-linejoin:miter;\" x=\"70.879911\" xlink:href=\"#m216bac47f2\" y=\"123.875122\"/>\n     <use style=\"fill:#3d3d3d;stroke:#3d3d3d;stroke-linejoin:miter;\" x=\"70.879911\" xlink:href=\"#m216bac47f2\" y=\"195.47122\"/>\n     <use style=\"fill:#3d3d3d;stroke:#3d3d3d;stroke-linejoin:miter;\" x=\"70.879911\" xlink:href=\"#m216bac47f2\" y=\"151.718049\"/>\n     <use style=\"fill:#3d3d3d;stroke:#3d3d3d;stroke-linejoin:miter;\" x=\"70.879911\" xlink:href=\"#m216bac47f2\" y=\"33.717073\"/>\n     <use style=\"fill:#3d3d3d;stroke:#3d3d3d;stroke-linejoin:miter;\" x=\"70.879911\" xlink:href=\"#m216bac47f2\" y=\"178.235122\"/>\n     <use style=\"fill:#3d3d3d;stroke:#3d3d3d;stroke-linejoin:miter;\" x=\"70.879911\" xlink:href=\"#m216bac47f2\" y=\"196.797073\"/>\n     <use style=\"fill:#3d3d3d;stroke:#3d3d3d;stroke-linejoin:miter;\" x=\"70.879911\" xlink:href=\"#m216bac47f2\" y=\"196.797073\"/>\n     <use style=\"fill:#3d3d3d;stroke:#3d3d3d;stroke-linejoin:miter;\" x=\"70.879911\" xlink:href=\"#m216bac47f2\" y=\"174.257561\"/>\n     <use style=\"fill:#3d3d3d;stroke:#3d3d3d;stroke-linejoin:miter;\" x=\"70.879911\" xlink:href=\"#m216bac47f2\" y=\"186.190244\"/>\n     <use style=\"fill:#3d3d3d;stroke:#3d3d3d;stroke-linejoin:miter;\" x=\"70.879911\" xlink:href=\"#m216bac47f2\" y=\"183.538537\"/>\n     <use style=\"fill:#3d3d3d;stroke:#3d3d3d;stroke-linejoin:miter;\" x=\"70.879911\" xlink:href=\"#m216bac47f2\" y=\"183.538537\"/>\n     <use style=\"fill:#3d3d3d;stroke:#3d3d3d;stroke-linejoin:miter;\" x=\"70.879911\" xlink:href=\"#m216bac47f2\" y=\"157.021463\"/>\n     <use style=\"fill:#3d3d3d;stroke:#3d3d3d;stroke-linejoin:miter;\" x=\"70.879911\" xlink:href=\"#m216bac47f2\" y=\"157.021463\"/>\n     <use style=\"fill:#3d3d3d;stroke:#3d3d3d;stroke-linejoin:miter;\" x=\"70.879911\" xlink:href=\"#m216bac47f2\" y=\"164.976585\"/>\n     <use style=\"fill:#3d3d3d;stroke:#3d3d3d;stroke-linejoin:miter;\" x=\"70.879911\" xlink:href=\"#m216bac47f2\" y=\"191.493659\"/>\n     <use style=\"fill:#3d3d3d;stroke:#3d3d3d;stroke-linejoin:miter;\" x=\"70.879911\" xlink:href=\"#m216bac47f2\" y=\"192.819512\"/>\n     <use style=\"fill:#3d3d3d;stroke:#3d3d3d;stroke-linejoin:miter;\" x=\"70.879911\" xlink:href=\"#m216bac47f2\" y=\"191.493659\"/>\n     <use style=\"fill:#3d3d3d;stroke:#3d3d3d;stroke-linejoin:miter;\" x=\"70.879911\" xlink:href=\"#m216bac47f2\" y=\"190.167805\"/>\n     <use style=\"fill:#3d3d3d;stroke:#3d3d3d;stroke-linejoin:miter;\" x=\"70.879911\" xlink:href=\"#m216bac47f2\" y=\"196.797073\"/>\n     <use style=\"fill:#3d3d3d;stroke:#3d3d3d;stroke-linejoin:miter;\" x=\"70.879911\" xlink:href=\"#m216bac47f2\" y=\"196.797073\"/>\n     <use style=\"fill:#3d3d3d;stroke:#3d3d3d;stroke-linejoin:miter;\" x=\"70.879911\" xlink:href=\"#m216bac47f2\" y=\"196.797073\"/>\n     <use style=\"fill:#3d3d3d;stroke:#3d3d3d;stroke-linejoin:miter;\" x=\"70.879911\" xlink:href=\"#m216bac47f2\" y=\"196.797073\"/>\n     <use style=\"fill:#3d3d3d;stroke:#3d3d3d;stroke-linejoin:miter;\" x=\"70.879911\" xlink:href=\"#m216bac47f2\" y=\"196.797073\"/>\n     <use style=\"fill:#3d3d3d;stroke:#3d3d3d;stroke-linejoin:miter;\" x=\"70.879911\" xlink:href=\"#m216bac47f2\" y=\"196.797073\"/>\n     <use style=\"fill:#3d3d3d;stroke:#3d3d3d;stroke-linejoin:miter;\" x=\"70.879911\" xlink:href=\"#m216bac47f2\" y=\"196.797073\"/>\n     <use style=\"fill:#3d3d3d;stroke:#3d3d3d;stroke-linejoin:miter;\" x=\"70.879911\" xlink:href=\"#m216bac47f2\" y=\"196.797073\"/>\n     <use style=\"fill:#3d3d3d;stroke:#3d3d3d;stroke-linejoin:miter;\" x=\"70.879911\" xlink:href=\"#m216bac47f2\" y=\"145.08878\"/>\n     <use style=\"fill:#3d3d3d;stroke:#3d3d3d;stroke-linejoin:miter;\" x=\"70.879911\" xlink:href=\"#m216bac47f2\" y=\"145.08878\"/>\n     <use style=\"fill:#3d3d3d;stroke:#3d3d3d;stroke-linejoin:miter;\" x=\"70.879911\" xlink:href=\"#m216bac47f2\" y=\"145.08878\"/>\n     <use style=\"fill:#3d3d3d;stroke:#3d3d3d;stroke-linejoin:miter;\" x=\"70.879911\" xlink:href=\"#m216bac47f2\" y=\"110.616585\"/>\n     <use style=\"fill:#3d3d3d;stroke:#3d3d3d;stroke-linejoin:miter;\" x=\"70.879911\" xlink:href=\"#m216bac47f2\" y=\"110.616585\"/>\n     <use style=\"fill:#3d3d3d;stroke:#3d3d3d;stroke-linejoin:miter;\" x=\"70.879911\" xlink:href=\"#m216bac47f2\" y=\"110.616585\"/>\n     <use style=\"fill:#3d3d3d;stroke:#3d3d3d;stroke-linejoin:miter;\" x=\"70.879911\" xlink:href=\"#m216bac47f2\" y=\"110.616585\"/>\n     <use style=\"fill:#3d3d3d;stroke:#3d3d3d;stroke-linejoin:miter;\" x=\"70.879911\" xlink:href=\"#m216bac47f2\" y=\"94.706341\"/>\n     <use style=\"fill:#3d3d3d;stroke:#3d3d3d;stroke-linejoin:miter;\" x=\"70.879911\" xlink:href=\"#m216bac47f2\" y=\"85.425366\"/>\n     <use style=\"fill:#3d3d3d;stroke:#3d3d3d;stroke-linejoin:miter;\" x=\"70.879911\" xlink:href=\"#m216bac47f2\" y=\"65.537561\"/>\n     <use style=\"fill:#3d3d3d;stroke:#3d3d3d;stroke-linejoin:miter;\" x=\"70.879911\" xlink:href=\"#m216bac47f2\" y=\"174.257561\"/>\n     <use style=\"fill:#3d3d3d;stroke:#3d3d3d;stroke-linejoin:miter;\" x=\"70.879911\" xlink:href=\"#m216bac47f2\" y=\"179.560976\"/>\n     <use style=\"fill:#3d3d3d;stroke:#3d3d3d;stroke-linejoin:miter;\" x=\"70.879911\" xlink:href=\"#m216bac47f2\" y=\"188.841951\"/>\n    </g>\n   </g>\n   <g id=\"line2d_21\">\n    <path clip-path=\"url(#p41d82ef24c)\" d=\"M 118.708482 210.05561 \nL 118.708482 211.381463 \n\" style=\"fill:none;stroke:#3d3d3d;stroke-linecap:square;stroke-width:1.5;\"/>\n   </g>\n   <g id=\"line2d_22\">\n    <path clip-path=\"url(#p41d82ef24c)\" d=\"M 118.708482 191.493659 \nL 118.708482 163.650732 \n\" style=\"fill:none;stroke:#3d3d3d;stroke-linecap:square;stroke-width:1.5;\"/>\n   </g>\n   <g id=\"line2d_23\">\n    <path clip-path=\"url(#p41d82ef24c)\" d=\"M 109.142768 211.381463 \nL 128.274196 211.381463 \n\" style=\"fill:none;stroke:#3d3d3d;stroke-linecap:square;stroke-width:1.5;\"/>\n   </g>\n   <g id=\"line2d_24\">\n    <path clip-path=\"url(#p41d82ef24c)\" d=\"M 109.142768 163.650732 \nL 128.274196 163.650732 \n\" style=\"fill:none;stroke:#3d3d3d;stroke-linecap:square;stroke-width:1.5;\"/>\n   </g>\n   <g id=\"line2d_25\">\n    <g clip-path=\"url(#p41d82ef24c)\">\n     <use style=\"fill:#3d3d3d;stroke:#3d3d3d;stroke-linejoin:miter;\" x=\"118.708482\" xlink:href=\"#m216bac47f2\" y=\"153.043902\"/>\n     <use style=\"fill:#3d3d3d;stroke:#3d3d3d;stroke-linejoin:miter;\" x=\"118.708482\" xlink:href=\"#m216bac47f2\" y=\"142.437073\"/>\n     <use style=\"fill:#3d3d3d;stroke:#3d3d3d;stroke-linejoin:miter;\" x=\"118.708482\" xlink:href=\"#m216bac47f2\" y=\"142.437073\"/>\n     <use style=\"fill:#3d3d3d;stroke:#3d3d3d;stroke-linejoin:miter;\" x=\"118.708482\" xlink:href=\"#m216bac47f2\" y=\"151.718049\"/>\n     <use style=\"fill:#3d3d3d;stroke:#3d3d3d;stroke-linejoin:miter;\" x=\"118.708482\" xlink:href=\"#m216bac47f2\" y=\"151.718049\"/>\n     <use style=\"fill:#3d3d3d;stroke:#3d3d3d;stroke-linejoin:miter;\" x=\"118.708482\" xlink:href=\"#m216bac47f2\" y=\"107.964878\"/>\n     <use style=\"fill:#3d3d3d;stroke:#3d3d3d;stroke-linejoin:miter;\" x=\"118.708482\" xlink:href=\"#m216bac47f2\" y=\"107.964878\"/>\n     <use style=\"fill:#3d3d3d;stroke:#3d3d3d;stroke-linejoin:miter;\" x=\"118.708482\" xlink:href=\"#m216bac47f2\" y=\"137.133659\"/>\n     <use style=\"fill:#3d3d3d;stroke:#3d3d3d;stroke-linejoin:miter;\" x=\"118.708482\" xlink:href=\"#m216bac47f2\" y=\"137.133659\"/>\n     <use style=\"fill:#3d3d3d;stroke:#3d3d3d;stroke-linejoin:miter;\" x=\"118.708482\" xlink:href=\"#m216bac47f2\" y=\"125.200976\"/>\n     <use style=\"fill:#3d3d3d;stroke:#3d3d3d;stroke-linejoin:miter;\" x=\"118.708482\" xlink:href=\"#m216bac47f2\" y=\"160.999024\"/>\n     <use style=\"fill:#3d3d3d;stroke:#3d3d3d;stroke-linejoin:miter;\" x=\"118.708482\" xlink:href=\"#m216bac47f2\" y=\"157.021463\"/>\n     <use style=\"fill:#3d3d3d;stroke:#3d3d3d;stroke-linejoin:miter;\" x=\"118.708482\" xlink:href=\"#m216bac47f2\" y=\"157.021463\"/>\n     <use style=\"fill:#3d3d3d;stroke:#3d3d3d;stroke-linejoin:miter;\" x=\"118.708482\" xlink:href=\"#m216bac47f2\" y=\"158.347317\"/>\n     <use style=\"fill:#3d3d3d;stroke:#3d3d3d;stroke-linejoin:miter;\" x=\"118.708482\" xlink:href=\"#m216bac47f2\" y=\"157.021463\"/>\n     <use style=\"fill:#3d3d3d;stroke:#3d3d3d;stroke-linejoin:miter;\" x=\"118.708482\" xlink:href=\"#m216bac47f2\" y=\"157.021463\"/>\n     <use style=\"fill:#3d3d3d;stroke:#3d3d3d;stroke-linejoin:miter;\" x=\"118.708482\" xlink:href=\"#m216bac47f2\" y=\"157.021463\"/>\n     <use style=\"fill:#3d3d3d;stroke:#3d3d3d;stroke-linejoin:miter;\" x=\"118.708482\" xlink:href=\"#m216bac47f2\" y=\"119.897561\"/>\n     <use style=\"fill:#3d3d3d;stroke:#3d3d3d;stroke-linejoin:miter;\" x=\"118.708482\" xlink:href=\"#m216bac47f2\" y=\"158.347317\"/>\n     <use style=\"fill:#3d3d3d;stroke:#3d3d3d;stroke-linejoin:miter;\" x=\"118.708482\" xlink:href=\"#m216bac47f2\" y=\"137.133659\"/>\n     <use style=\"fill:#3d3d3d;stroke:#3d3d3d;stroke-linejoin:miter;\" x=\"118.708482\" xlink:href=\"#m216bac47f2\" y=\"137.133659\"/>\n     <use style=\"fill:#3d3d3d;stroke:#3d3d3d;stroke-linejoin:miter;\" x=\"118.708482\" xlink:href=\"#m216bac47f2\" y=\"17.806829\"/>\n     <use style=\"fill:#3d3d3d;stroke:#3d3d3d;stroke-linejoin:miter;\" x=\"118.708482\" xlink:href=\"#m216bac47f2\" y=\"160.999024\"/>\n     <use style=\"fill:#3d3d3d;stroke:#3d3d3d;stroke-linejoin:miter;\" x=\"118.708482\" xlink:href=\"#m216bac47f2\" y=\"122.549268\"/>\n     <use style=\"fill:#3d3d3d;stroke:#3d3d3d;stroke-linejoin:miter;\" x=\"118.708482\" xlink:href=\"#m216bac47f2\" y=\"131.830244\"/>\n     <use style=\"fill:#3d3d3d;stroke:#3d3d3d;stroke-linejoin:miter;\" x=\"118.708482\" xlink:href=\"#m216bac47f2\" y=\"149.066341\"/>\n     <use style=\"fill:#3d3d3d;stroke:#3d3d3d;stroke-linejoin:miter;\" x=\"118.708482\" xlink:href=\"#m216bac47f2\" y=\"134.481951\"/>\n     <use style=\"fill:#3d3d3d;stroke:#3d3d3d;stroke-linejoin:miter;\" x=\"118.708482\" xlink:href=\"#m216bac47f2\" y=\"141.11122\"/>\n    </g>\n   </g>\n   <g id=\"line2d_26\">\n    <path clip-path=\"url(#p41d82ef24c)\" d=\"M 166.537054 210.05561 \nL 166.537054 211.381463 \n\" style=\"fill:none;stroke:#3d3d3d;stroke-linecap:square;stroke-width:1.5;\"/>\n   </g>\n   <g id=\"line2d_27\">\n    <path clip-path=\"url(#p41d82ef24c)\" d=\"M 166.537054 167.296829 \nL 166.537054 105.313171 \n\" style=\"fill:none;stroke:#3d3d3d;stroke-linecap:square;stroke-width:1.5;\"/>\n   </g>\n   <g id=\"line2d_28\">\n    <path clip-path=\"url(#p41d82ef24c)\" d=\"M 156.971339 211.381463 \nL 176.102768 211.381463 \n\" style=\"fill:none;stroke:#3d3d3d;stroke-linecap:square;stroke-width:1.5;\"/>\n   </g>\n   <g id=\"line2d_29\">\n    <path clip-path=\"url(#p41d82ef24c)\" d=\"M 156.971339 105.313171 \nL 176.102768 105.313171 \n\" style=\"fill:none;stroke:#3d3d3d;stroke-linecap:square;stroke-width:1.5;\"/>\n   </g>\n   <g id=\"line2d_30\">\n    <g clip-path=\"url(#p41d82ef24c)\">\n     <use style=\"fill:#3d3d3d;stroke:#3d3d3d;stroke-linejoin:miter;\" x=\"166.537054\" xlink:href=\"#m216bac47f2\" y=\"54.930732\"/>\n     <use style=\"fill:#3d3d3d;stroke:#3d3d3d;stroke-linejoin:miter;\" x=\"166.537054\" xlink:href=\"#m216bac47f2\" y=\"54.930732\"/>\n     <use style=\"fill:#3d3d3d;stroke:#3d3d3d;stroke-linejoin:miter;\" x=\"166.537054\" xlink:href=\"#m216bac47f2\" y=\"31.065366\"/>\n     <use style=\"fill:#3d3d3d;stroke:#3d3d3d;stroke-linejoin:miter;\" x=\"166.537054\" xlink:href=\"#m216bac47f2\" y=\"73.492683\"/>\n     <use style=\"fill:#3d3d3d;stroke:#3d3d3d;stroke-linejoin:miter;\" x=\"166.537054\" xlink:href=\"#m216bac47f2\" y=\"97.358049\"/>\n     <use style=\"fill:#3d3d3d;stroke:#3d3d3d;stroke-linejoin:miter;\" x=\"166.537054\" xlink:href=\"#m216bac47f2\" y=\"17.806829\"/>\n     <use style=\"fill:#3d3d3d;stroke:#3d3d3d;stroke-linejoin:miter;\" x=\"166.537054\" xlink:href=\"#m216bac47f2\" y=\"81.447805\"/>\n     <use style=\"fill:#3d3d3d;stroke:#3d3d3d;stroke-linejoin:miter;\" x=\"166.537054\" xlink:href=\"#m216bac47f2\" y=\"13.829268\"/>\n     <use style=\"fill:#3d3d3d;stroke:#3d3d3d;stroke-linejoin:miter;\" x=\"166.537054\" xlink:href=\"#m216bac47f2\" y=\"27.087805\"/>\n     <use style=\"fill:#3d3d3d;stroke:#3d3d3d;stroke-linejoin:miter;\" x=\"166.537054\" xlink:href=\"#m216bac47f2\" y=\"68.189268\"/>\n     <use style=\"fill:#3d3d3d;stroke:#3d3d3d;stroke-linejoin:miter;\" x=\"166.537054\" xlink:href=\"#m216bac47f2\" y=\"93.380488\"/>\n     <use style=\"fill:#3d3d3d;stroke:#3d3d3d;stroke-linejoin:miter;\" x=\"166.537054\" xlink:href=\"#m216bac47f2\" y=\"88.077073\"/>\n     <use style=\"fill:#3d3d3d;stroke:#3d3d3d;stroke-linejoin:miter;\" x=\"166.537054\" xlink:href=\"#m216bac47f2\" y=\"19.132683\"/>\n     <use style=\"fill:#3d3d3d;stroke:#3d3d3d;stroke-linejoin:miter;\" x=\"166.537054\" xlink:href=\"#m216bac47f2\" y=\"19.132683\"/>\n     <use style=\"fill:#3d3d3d;stroke:#3d3d3d;stroke-linejoin:miter;\" x=\"166.537054\" xlink:href=\"#m216bac47f2\" y=\"25.761951\"/>\n     <use style=\"fill:#3d3d3d;stroke:#3d3d3d;stroke-linejoin:miter;\" x=\"166.537054\" xlink:href=\"#m216bac47f2\" y=\"28.413659\"/>\n     <use style=\"fill:#3d3d3d;stroke:#3d3d3d;stroke-linejoin:miter;\" x=\"166.537054\" xlink:href=\"#m216bac47f2\" y=\"81.447805\"/>\n     <use style=\"fill:#3d3d3d;stroke:#3d3d3d;stroke-linejoin:miter;\" x=\"166.537054\" xlink:href=\"#m216bac47f2\" y=\"65.537561\"/>\n     <use style=\"fill:#3d3d3d;stroke:#3d3d3d;stroke-linejoin:miter;\" x=\"166.537054\" xlink:href=\"#m216bac47f2\" y=\"46.97561\"/>\n     <use style=\"fill:#3d3d3d;stroke:#3d3d3d;stroke-linejoin:miter;\" x=\"166.537054\" xlink:href=\"#m216bac47f2\" y=\"96.032195\"/>\n     <use style=\"fill:#3d3d3d;stroke:#3d3d3d;stroke-linejoin:miter;\" x=\"166.537054\" xlink:href=\"#m216bac47f2\" y=\"19.132683\"/>\n     <use style=\"fill:#3d3d3d;stroke:#3d3d3d;stroke-linejoin:miter;\" x=\"166.537054\" xlink:href=\"#m216bac47f2\" y=\"29.739512\"/>\n     <use style=\"fill:#3d3d3d;stroke:#3d3d3d;stroke-linejoin:miter;\" x=\"166.537054\" xlink:href=\"#m216bac47f2\" y=\"62.885854\"/>\n     <use style=\"fill:#3d3d3d;stroke:#3d3d3d;stroke-linejoin:miter;\" x=\"166.537054\" xlink:href=\"#m216bac47f2\" y=\"97.358049\"/>\n     <use style=\"fill:#3d3d3d;stroke:#3d3d3d;stroke-linejoin:miter;\" x=\"166.537054\" xlink:href=\"#m216bac47f2\" y=\"52.279024\"/>\n     <use style=\"fill:#3d3d3d;stroke:#3d3d3d;stroke-linejoin:miter;\" x=\"166.537054\" xlink:href=\"#m216bac47f2\" y=\"101.33561\"/>\n     <use style=\"fill:#3d3d3d;stroke:#3d3d3d;stroke-linejoin:miter;\" x=\"166.537054\" xlink:href=\"#m216bac47f2\" y=\"13.829268\"/>\n     <use style=\"fill:#3d3d3d;stroke:#3d3d3d;stroke-linejoin:miter;\" x=\"166.537054\" xlink:href=\"#m216bac47f2\" y=\"48.301463\"/>\n     <use style=\"fill:#3d3d3d;stroke:#3d3d3d;stroke-linejoin:miter;\" x=\"166.537054\" xlink:href=\"#m216bac47f2\" y=\"49.627317\"/>\n     <use style=\"fill:#3d3d3d;stroke:#3d3d3d;stroke-linejoin:miter;\" x=\"166.537054\" xlink:href=\"#m216bac47f2\" y=\"32.39122\"/>\n     <use style=\"fill:#3d3d3d;stroke:#3d3d3d;stroke-linejoin:miter;\" x=\"166.537054\" xlink:href=\"#m216bac47f2\" y=\"32.39122\"/>\n     <use style=\"fill:#3d3d3d;stroke:#3d3d3d;stroke-linejoin:miter;\" x=\"166.537054\" xlink:href=\"#m216bac47f2\" y=\"24.436098\"/>\n     <use style=\"fill:#3d3d3d;stroke:#3d3d3d;stroke-linejoin:miter;\" x=\"166.537054\" xlink:href=\"#m216bac47f2\" y=\"82.773659\"/>\n     <use style=\"fill:#3d3d3d;stroke:#3d3d3d;stroke-linejoin:miter;\" x=\"166.537054\" xlink:href=\"#m216bac47f2\" y=\"64.211707\"/>\n     <use style=\"fill:#3d3d3d;stroke:#3d3d3d;stroke-linejoin:miter;\" x=\"166.537054\" xlink:href=\"#m216bac47f2\" y=\"42.998049\"/>\n     <use style=\"fill:#3d3d3d;stroke:#3d3d3d;stroke-linejoin:miter;\" x=\"166.537054\" xlink:href=\"#m216bac47f2\" y=\"25.761951\"/>\n     <use style=\"fill:#3d3d3d;stroke:#3d3d3d;stroke-linejoin:miter;\" x=\"166.537054\" xlink:href=\"#m216bac47f2\" y=\"62.885854\"/>\n     <use style=\"fill:#3d3d3d;stroke:#3d3d3d;stroke-linejoin:miter;\" x=\"166.537054\" xlink:href=\"#m216bac47f2\" y=\"69.515122\"/>\n     <use style=\"fill:#3d3d3d;stroke:#3d3d3d;stroke-linejoin:miter;\" x=\"166.537054\" xlink:href=\"#m216bac47f2\" y=\"70.840976\"/>\n     <use style=\"fill:#3d3d3d;stroke:#3d3d3d;stroke-linejoin:miter;\" x=\"166.537054\" xlink:href=\"#m216bac47f2\" y=\"82.773659\"/>\n     <use style=\"fill:#3d3d3d;stroke:#3d3d3d;stroke-linejoin:miter;\" x=\"166.537054\" xlink:href=\"#m216bac47f2\" y=\"20.458537\"/>\n     <use style=\"fill:#3d3d3d;stroke:#3d3d3d;stroke-linejoin:miter;\" x=\"166.537054\" xlink:href=\"#m216bac47f2\" y=\"20.458537\"/>\n     <use style=\"fill:#3d3d3d;stroke:#3d3d3d;stroke-linejoin:miter;\" x=\"166.537054\" xlink:href=\"#m216bac47f2\" y=\"52.279024\"/>\n     <use style=\"fill:#3d3d3d;stroke:#3d3d3d;stroke-linejoin:miter;\" x=\"166.537054\" xlink:href=\"#m216bac47f2\" y=\"32.39122\"/>\n     <use style=\"fill:#3d3d3d;stroke:#3d3d3d;stroke-linejoin:miter;\" x=\"166.537054\" xlink:href=\"#m216bac47f2\" y=\"57.582439\"/>\n     <use style=\"fill:#3d3d3d;stroke:#3d3d3d;stroke-linejoin:miter;\" x=\"166.537054\" xlink:href=\"#m216bac47f2\" y=\"16.480976\"/>\n     <use style=\"fill:#3d3d3d;stroke:#3d3d3d;stroke-linejoin:miter;\" x=\"166.537054\" xlink:href=\"#m216bac47f2\" y=\"20.458537\"/>\n     <use style=\"fill:#3d3d3d;stroke:#3d3d3d;stroke-linejoin:miter;\" x=\"166.537054\" xlink:href=\"#m216bac47f2\" y=\"13.829268\"/>\n     <use style=\"fill:#3d3d3d;stroke:#3d3d3d;stroke-linejoin:miter;\" x=\"166.537054\" xlink:href=\"#m216bac47f2\" y=\"17.806829\"/>\n     <use style=\"fill:#3d3d3d;stroke:#3d3d3d;stroke-linejoin:miter;\" x=\"166.537054\" xlink:href=\"#m216bac47f2\" y=\"82.773659\"/>\n    </g>\n   </g>\n   <g id=\"line2d_31\">\n    <path clip-path=\"url(#p41d82ef24c)\" d=\"M 214.365625 211.381463 \nL 214.365625 211.381463 \n\" style=\"fill:none;stroke:#3d3d3d;stroke-linecap:square;stroke-width:1.5;\"/>\n   </g>\n   <g id=\"line2d_32\">\n    <path clip-path=\"url(#p41d82ef24c)\" d=\"M 214.365625 202.100488 \nL 214.365625 188.841951 \n\" style=\"fill:none;stroke:#3d3d3d;stroke-linecap:square;stroke-width:1.5;\"/>\n   </g>\n   <g id=\"line2d_33\">\n    <path clip-path=\"url(#p41d82ef24c)\" d=\"M 204.799911 211.381463 \nL 223.931339 211.381463 \n\" style=\"fill:none;stroke:#3d3d3d;stroke-linecap:square;stroke-width:1.5;\"/>\n   </g>\n   <g id=\"line2d_34\">\n    <path clip-path=\"url(#p41d82ef24c)\" d=\"M 204.799911 188.841951 \nL 223.931339 188.841951 \n\" style=\"fill:none;stroke:#3d3d3d;stroke-linecap:square;stroke-width:1.5;\"/>\n   </g>\n   <g id=\"line2d_35\">\n    <g clip-path=\"url(#p41d82ef24c)\">\n     <use style=\"fill:#3d3d3d;stroke:#3d3d3d;stroke-linejoin:miter;\" x=\"214.365625\" xlink:href=\"#m216bac47f2\" y=\"101.33561\"/>\n     <use style=\"fill:#3d3d3d;stroke:#3d3d3d;stroke-linejoin:miter;\" x=\"214.365625\" xlink:href=\"#m216bac47f2\" y=\"174.257561\"/>\n     <use style=\"fill:#3d3d3d;stroke:#3d3d3d;stroke-linejoin:miter;\" x=\"214.365625\" xlink:href=\"#m216bac47f2\" y=\"174.257561\"/>\n     <use style=\"fill:#3d3d3d;stroke:#3d3d3d;stroke-linejoin:miter;\" x=\"214.365625\" xlink:href=\"#m216bac47f2\" y=\"35.042927\"/>\n     <use style=\"fill:#3d3d3d;stroke:#3d3d3d;stroke-linejoin:miter;\" x=\"214.365625\" xlink:href=\"#m216bac47f2\" y=\"122.549268\"/>\n     <use style=\"fill:#3d3d3d;stroke:#3d3d3d;stroke-linejoin:miter;\" x=\"214.365625\" xlink:href=\"#m216bac47f2\" y=\"153.043902\"/>\n     <use style=\"fill:#3d3d3d;stroke:#3d3d3d;stroke-linejoin:miter;\" x=\"214.365625\" xlink:href=\"#m216bac47f2\" y=\"174.257561\"/>\n     <use style=\"fill:#3d3d3d;stroke:#3d3d3d;stroke-linejoin:miter;\" x=\"214.365625\" xlink:href=\"#m216bac47f2\" y=\"131.830244\"/>\n     <use style=\"fill:#3d3d3d;stroke:#3d3d3d;stroke-linejoin:miter;\" x=\"214.365625\" xlink:href=\"#m216bac47f2\" y=\"176.909268\"/>\n     <use style=\"fill:#3d3d3d;stroke:#3d3d3d;stroke-linejoin:miter;\" x=\"214.365625\" xlink:href=\"#m216bac47f2\" y=\"62.885854\"/>\n     <use style=\"fill:#3d3d3d;stroke:#3d3d3d;stroke-linejoin:miter;\" x=\"214.365625\" xlink:href=\"#m216bac47f2\" y=\"101.33561\"/>\n     <use style=\"fill:#3d3d3d;stroke:#3d3d3d;stroke-linejoin:miter;\" x=\"214.365625\" xlink:href=\"#m216bac47f2\" y=\"171.605854\"/>\n     <use style=\"fill:#3d3d3d;stroke:#3d3d3d;stroke-linejoin:miter;\" x=\"214.365625\" xlink:href=\"#m216bac47f2\" y=\"171.605854\"/>\n     <use style=\"fill:#3d3d3d;stroke:#3d3d3d;stroke-linejoin:miter;\" x=\"214.365625\" xlink:href=\"#m216bac47f2\" y=\"157.021463\"/>\n     <use style=\"fill:#3d3d3d;stroke:#3d3d3d;stroke-linejoin:miter;\" x=\"214.365625\" xlink:href=\"#m216bac47f2\" y=\"172.931707\"/>\n     <use style=\"fill:#3d3d3d;stroke:#3d3d3d;stroke-linejoin:miter;\" x=\"214.365625\" xlink:href=\"#m216bac47f2\" y=\"163.650732\"/>\n     <use style=\"fill:#3d3d3d;stroke:#3d3d3d;stroke-linejoin:miter;\" x=\"214.365625\" xlink:href=\"#m216bac47f2\" y=\"113.268293\"/>\n     <use style=\"fill:#3d3d3d;stroke:#3d3d3d;stroke-linejoin:miter;\" x=\"214.365625\" xlink:href=\"#m216bac47f2\" y=\"183.538537\"/>\n     <use style=\"fill:#3d3d3d;stroke:#3d3d3d;stroke-linejoin:miter;\" x=\"214.365625\" xlink:href=\"#m216bac47f2\" y=\"183.538537\"/>\n     <use style=\"fill:#3d3d3d;stroke:#3d3d3d;stroke-linejoin:miter;\" x=\"214.365625\" xlink:href=\"#m216bac47f2\" y=\"119.897561\"/>\n     <use style=\"fill:#3d3d3d;stroke:#3d3d3d;stroke-linejoin:miter;\" x=\"214.365625\" xlink:href=\"#m216bac47f2\" y=\"168.954146\"/>\n     <use style=\"fill:#3d3d3d;stroke:#3d3d3d;stroke-linejoin:miter;\" x=\"214.365625\" xlink:href=\"#m216bac47f2\" y=\"168.954146\"/>\n     <use style=\"fill:#3d3d3d;stroke:#3d3d3d;stroke-linejoin:miter;\" x=\"214.365625\" xlink:href=\"#m216bac47f2\" y=\"179.560976\"/>\n     <use style=\"fill:#3d3d3d;stroke:#3d3d3d;stroke-linejoin:miter;\" x=\"214.365625\" xlink:href=\"#m216bac47f2\" y=\"162.324878\"/>\n     <use style=\"fill:#3d3d3d;stroke:#3d3d3d;stroke-linejoin:miter;\" x=\"214.365625\" xlink:href=\"#m216bac47f2\" y=\"32.39122\"/>\n     <use style=\"fill:#3d3d3d;stroke:#3d3d3d;stroke-linejoin:miter;\" x=\"214.365625\" xlink:href=\"#m216bac47f2\" y=\"162.324878\"/>\n     <use style=\"fill:#3d3d3d;stroke:#3d3d3d;stroke-linejoin:miter;\" x=\"214.365625\" xlink:href=\"#m216bac47f2\" y=\"167.628293\"/>\n     <use style=\"fill:#3d3d3d;stroke:#3d3d3d;stroke-linejoin:miter;\" x=\"214.365625\" xlink:href=\"#m216bac47f2\" y=\"85.425366\"/>\n     <use style=\"fill:#3d3d3d;stroke:#3d3d3d;stroke-linejoin:miter;\" x=\"214.365625\" xlink:href=\"#m216bac47f2\" y=\"106.639024\"/>\n     <use style=\"fill:#3d3d3d;stroke:#3d3d3d;stroke-linejoin:miter;\" x=\"214.365625\" xlink:href=\"#m216bac47f2\" y=\"131.830244\"/>\n     <use style=\"fill:#3d3d3d;stroke:#3d3d3d;stroke-linejoin:miter;\" x=\"214.365625\" xlink:href=\"#m216bac47f2\" y=\"77.470244\"/>\n     <use style=\"fill:#3d3d3d;stroke:#3d3d3d;stroke-linejoin:miter;\" x=\"214.365625\" xlink:href=\"#m216bac47f2\" y=\"182.212683\"/>\n     <use style=\"fill:#3d3d3d;stroke:#3d3d3d;stroke-linejoin:miter;\" x=\"214.365625\" xlink:href=\"#m216bac47f2\" y=\"183.538537\"/>\n     <use style=\"fill:#3d3d3d;stroke:#3d3d3d;stroke-linejoin:miter;\" x=\"214.365625\" xlink:href=\"#m216bac47f2\" y=\"166.302439\"/>\n     <use style=\"fill:#3d3d3d;stroke:#3d3d3d;stroke-linejoin:miter;\" x=\"214.365625\" xlink:href=\"#m216bac47f2\" y=\"178.235122\"/>\n     <use style=\"fill:#3d3d3d;stroke:#3d3d3d;stroke-linejoin:miter;\" x=\"214.365625\" xlink:href=\"#m216bac47f2\" y=\"178.235122\"/>\n     <use style=\"fill:#3d3d3d;stroke:#3d3d3d;stroke-linejoin:miter;\" x=\"214.365625\" xlink:href=\"#m216bac47f2\" y=\"168.954146\"/>\n     <use style=\"fill:#3d3d3d;stroke:#3d3d3d;stroke-linejoin:miter;\" x=\"214.365625\" xlink:href=\"#m216bac47f2\" y=\"98.683902\"/>\n     <use style=\"fill:#3d3d3d;stroke:#3d3d3d;stroke-linejoin:miter;\" x=\"214.365625\" xlink:href=\"#m216bac47f2\" y=\"175.583415\"/>\n     <use style=\"fill:#3d3d3d;stroke:#3d3d3d;stroke-linejoin:miter;\" x=\"214.365625\" xlink:href=\"#m216bac47f2\" y=\"122.549268\"/>\n     <use style=\"fill:#3d3d3d;stroke:#3d3d3d;stroke-linejoin:miter;\" x=\"214.365625\" xlink:href=\"#m216bac47f2\" y=\"125.200976\"/>\n     <use style=\"fill:#3d3d3d;stroke:#3d3d3d;stroke-linejoin:miter;\" x=\"214.365625\" xlink:href=\"#m216bac47f2\" y=\"125.200976\"/>\n     <use style=\"fill:#3d3d3d;stroke:#3d3d3d;stroke-linejoin:miter;\" x=\"214.365625\" xlink:href=\"#m216bac47f2\" y=\"106.639024\"/>\n     <use style=\"fill:#3d3d3d;stroke:#3d3d3d;stroke-linejoin:miter;\" x=\"214.365625\" xlink:href=\"#m216bac47f2\" y=\"82.773659\"/>\n     <use style=\"fill:#3d3d3d;stroke:#3d3d3d;stroke-linejoin:miter;\" x=\"214.365625\" xlink:href=\"#m216bac47f2\" y=\"110.616585\"/>\n     <use style=\"fill:#3d3d3d;stroke:#3d3d3d;stroke-linejoin:miter;\" x=\"214.365625\" xlink:href=\"#m216bac47f2\" y=\"111.942439\"/>\n     <use style=\"fill:#3d3d3d;stroke:#3d3d3d;stroke-linejoin:miter;\" x=\"214.365625\" xlink:href=\"#m216bac47f2\" y=\"174.257561\"/>\n     <use style=\"fill:#3d3d3d;stroke:#3d3d3d;stroke-linejoin:miter;\" x=\"214.365625\" xlink:href=\"#m216bac47f2\" y=\"125.200976\"/>\n     <use style=\"fill:#3d3d3d;stroke:#3d3d3d;stroke-linejoin:miter;\" x=\"214.365625\" xlink:href=\"#m216bac47f2\" y=\"178.235122\"/>\n     <use style=\"fill:#3d3d3d;stroke:#3d3d3d;stroke-linejoin:miter;\" x=\"214.365625\" xlink:href=\"#m216bac47f2\" y=\"171.605854\"/>\n     <use style=\"fill:#3d3d3d;stroke:#3d3d3d;stroke-linejoin:miter;\" x=\"214.365625\" xlink:href=\"#m216bac47f2\" y=\"134.481951\"/>\n     <use style=\"fill:#3d3d3d;stroke:#3d3d3d;stroke-linejoin:miter;\" x=\"214.365625\" xlink:href=\"#m216bac47f2\" y=\"134.481951\"/>\n     <use style=\"fill:#3d3d3d;stroke:#3d3d3d;stroke-linejoin:miter;\" x=\"214.365625\" xlink:href=\"#m216bac47f2\" y=\"184.86439\"/>\n     <use style=\"fill:#3d3d3d;stroke:#3d3d3d;stroke-linejoin:miter;\" x=\"214.365625\" xlink:href=\"#m216bac47f2\" y=\"134.481951\"/>\n     <use style=\"fill:#3d3d3d;stroke:#3d3d3d;stroke-linejoin:miter;\" x=\"214.365625\" xlink:href=\"#m216bac47f2\" y=\"158.347317\"/>\n     <use style=\"fill:#3d3d3d;stroke:#3d3d3d;stroke-linejoin:miter;\" x=\"214.365625\" xlink:href=\"#m216bac47f2\" y=\"135.807805\"/>\n     <use style=\"fill:#3d3d3d;stroke:#3d3d3d;stroke-linejoin:miter;\" x=\"214.365625\" xlink:href=\"#m216bac47f2\" y=\"94.706341\"/>\n     <use style=\"fill:#3d3d3d;stroke:#3d3d3d;stroke-linejoin:miter;\" x=\"214.365625\" xlink:href=\"#m216bac47f2\" y=\"170.28\"/>\n     <use style=\"fill:#3d3d3d;stroke:#3d3d3d;stroke-linejoin:miter;\" x=\"214.365625\" xlink:href=\"#m216bac47f2\" y=\"160.999024\"/>\n     <use style=\"fill:#3d3d3d;stroke:#3d3d3d;stroke-linejoin:miter;\" x=\"214.365625\" xlink:href=\"#m216bac47f2\" y=\"134.481951\"/>\n     <use style=\"fill:#3d3d3d;stroke:#3d3d3d;stroke-linejoin:miter;\" x=\"214.365625\" xlink:href=\"#m216bac47f2\" y=\"162.324878\"/>\n     <use style=\"fill:#3d3d3d;stroke:#3d3d3d;stroke-linejoin:miter;\" x=\"214.365625\" xlink:href=\"#m216bac47f2\" y=\"186.190244\"/>\n     <use style=\"fill:#3d3d3d;stroke:#3d3d3d;stroke-linejoin:miter;\" x=\"214.365625\" xlink:href=\"#m216bac47f2\" y=\"183.538537\"/>\n     <use style=\"fill:#3d3d3d;stroke:#3d3d3d;stroke-linejoin:miter;\" x=\"214.365625\" xlink:href=\"#m216bac47f2\" y=\"183.538537\"/>\n     <use style=\"fill:#3d3d3d;stroke:#3d3d3d;stroke-linejoin:miter;\" x=\"214.365625\" xlink:href=\"#m216bac47f2\" y=\"183.538537\"/>\n     <use style=\"fill:#3d3d3d;stroke:#3d3d3d;stroke-linejoin:miter;\" x=\"214.365625\" xlink:href=\"#m216bac47f2\" y=\"183.538537\"/>\n     <use style=\"fill:#3d3d3d;stroke:#3d3d3d;stroke-linejoin:miter;\" x=\"214.365625\" xlink:href=\"#m216bac47f2\" y=\"183.538537\"/>\n     <use style=\"fill:#3d3d3d;stroke:#3d3d3d;stroke-linejoin:miter;\" x=\"214.365625\" xlink:href=\"#m216bac47f2\" y=\"178.235122\"/>\n     <use style=\"fill:#3d3d3d;stroke:#3d3d3d;stroke-linejoin:miter;\" x=\"214.365625\" xlink:href=\"#m216bac47f2\" y=\"162.324878\"/>\n     <use style=\"fill:#3d3d3d;stroke:#3d3d3d;stroke-linejoin:miter;\" x=\"214.365625\" xlink:href=\"#m216bac47f2\" y=\"102.661463\"/>\n     <use style=\"fill:#3d3d3d;stroke:#3d3d3d;stroke-linejoin:miter;\" x=\"214.365625\" xlink:href=\"#m216bac47f2\" y=\"168.954146\"/>\n     <use style=\"fill:#3d3d3d;stroke:#3d3d3d;stroke-linejoin:miter;\" x=\"214.365625\" xlink:href=\"#m216bac47f2\" y=\"168.954146\"/>\n     <use style=\"fill:#3d3d3d;stroke:#3d3d3d;stroke-linejoin:miter;\" x=\"214.365625\" xlink:href=\"#m216bac47f2\" y=\"168.954146\"/>\n     <use style=\"fill:#3d3d3d;stroke:#3d3d3d;stroke-linejoin:miter;\" x=\"214.365625\" xlink:href=\"#m216bac47f2\" y=\"168.954146\"/>\n     <use style=\"fill:#3d3d3d;stroke:#3d3d3d;stroke-linejoin:miter;\" x=\"214.365625\" xlink:href=\"#m216bac47f2\" y=\"130.50439\"/>\n     <use style=\"fill:#3d3d3d;stroke:#3d3d3d;stroke-linejoin:miter;\" x=\"214.365625\" xlink:href=\"#m216bac47f2\" y=\"106.639024\"/>\n     <use style=\"fill:#3d3d3d;stroke:#3d3d3d;stroke-linejoin:miter;\" x=\"214.365625\" xlink:href=\"#m216bac47f2\" y=\"178.235122\"/>\n     <use style=\"fill:#3d3d3d;stroke:#3d3d3d;stroke-linejoin:miter;\" x=\"214.365625\" xlink:href=\"#m216bac47f2\" y=\"127.852683\"/>\n     <use style=\"fill:#3d3d3d;stroke:#3d3d3d;stroke-linejoin:miter;\" x=\"214.365625\" xlink:href=\"#m216bac47f2\" y=\"155.69561\"/>\n     <use style=\"fill:#3d3d3d;stroke:#3d3d3d;stroke-linejoin:miter;\" x=\"214.365625\" xlink:href=\"#m216bac47f2\" y=\"27.087805\"/>\n     <use style=\"fill:#3d3d3d;stroke:#3d3d3d;stroke-linejoin:miter;\" x=\"214.365625\" xlink:href=\"#m216bac47f2\" y=\"176.909268\"/>\n     <use style=\"fill:#3d3d3d;stroke:#3d3d3d;stroke-linejoin:miter;\" x=\"214.365625\" xlink:href=\"#m216bac47f2\" y=\"166.302439\"/>\n     <use style=\"fill:#3d3d3d;stroke:#3d3d3d;stroke-linejoin:miter;\" x=\"214.365625\" xlink:href=\"#m216bac47f2\" y=\"118.571707\"/>\n     <use style=\"fill:#3d3d3d;stroke:#3d3d3d;stroke-linejoin:miter;\" x=\"214.365625\" xlink:href=\"#m216bac47f2\" y=\"142.437073\"/>\n     <use style=\"fill:#3d3d3d;stroke:#3d3d3d;stroke-linejoin:miter;\" x=\"214.365625\" xlink:href=\"#m216bac47f2\" y=\"93.380488\"/>\n     <use style=\"fill:#3d3d3d;stroke:#3d3d3d;stroke-linejoin:miter;\" x=\"214.365625\" xlink:href=\"#m216bac47f2\" y=\"145.08878\"/>\n     <use style=\"fill:#3d3d3d;stroke:#3d3d3d;stroke-linejoin:miter;\" x=\"214.365625\" xlink:href=\"#m216bac47f2\" y=\"174.257561\"/>\n     <use style=\"fill:#3d3d3d;stroke:#3d3d3d;stroke-linejoin:miter;\" x=\"214.365625\" xlink:href=\"#m216bac47f2\" y=\"174.257561\"/>\n     <use style=\"fill:#3d3d3d;stroke:#3d3d3d;stroke-linejoin:miter;\" x=\"214.365625\" xlink:href=\"#m216bac47f2\" y=\"166.302439\"/>\n     <use style=\"fill:#3d3d3d;stroke:#3d3d3d;stroke-linejoin:miter;\" x=\"214.365625\" xlink:href=\"#m216bac47f2\" y=\"182.212683\"/>\n     <use style=\"fill:#3d3d3d;stroke:#3d3d3d;stroke-linejoin:miter;\" x=\"214.365625\" xlink:href=\"#m216bac47f2\" y=\"175.583415\"/>\n     <use style=\"fill:#3d3d3d;stroke:#3d3d3d;stroke-linejoin:miter;\" x=\"214.365625\" xlink:href=\"#m216bac47f2\" y=\"142.437073\"/>\n     <use style=\"fill:#3d3d3d;stroke:#3d3d3d;stroke-linejoin:miter;\" x=\"214.365625\" xlink:href=\"#m216bac47f2\" y=\"180.886829\"/>\n     <use style=\"fill:#3d3d3d;stroke:#3d3d3d;stroke-linejoin:miter;\" x=\"214.365625\" xlink:href=\"#m216bac47f2\" y=\"179.560976\"/>\n     <use style=\"fill:#3d3d3d;stroke:#3d3d3d;stroke-linejoin:miter;\" x=\"214.365625\" xlink:href=\"#m216bac47f2\" y=\"183.538537\"/>\n     <use style=\"fill:#3d3d3d;stroke:#3d3d3d;stroke-linejoin:miter;\" x=\"214.365625\" xlink:href=\"#m216bac47f2\" y=\"183.538537\"/>\n     <use style=\"fill:#3d3d3d;stroke:#3d3d3d;stroke-linejoin:miter;\" x=\"214.365625\" xlink:href=\"#m216bac47f2\" y=\"175.583415\"/>\n     <use style=\"fill:#3d3d3d;stroke:#3d3d3d;stroke-linejoin:miter;\" x=\"214.365625\" xlink:href=\"#m216bac47f2\" y=\"102.661463\"/>\n     <use style=\"fill:#3d3d3d;stroke:#3d3d3d;stroke-linejoin:miter;\" x=\"214.365625\" xlink:href=\"#m216bac47f2\" y=\"37.694634\"/>\n     <use style=\"fill:#3d3d3d;stroke:#3d3d3d;stroke-linejoin:miter;\" x=\"214.365625\" xlink:href=\"#m216bac47f2\" y=\"172.931707\"/>\n     <use style=\"fill:#3d3d3d;stroke:#3d3d3d;stroke-linejoin:miter;\" x=\"214.365625\" xlink:href=\"#m216bac47f2\" y=\"155.69561\"/>\n     <use style=\"fill:#3d3d3d;stroke:#3d3d3d;stroke-linejoin:miter;\" x=\"214.365625\" xlink:href=\"#m216bac47f2\" y=\"186.190244\"/>\n    </g>\n   </g>\n   <g id=\"line2d_36\">\n    <path clip-path=\"url(#p41d82ef24c)\" d=\"M 262.194196 210.05561 \nL 262.194196 211.381463 \n\" style=\"fill:none;stroke:#3d3d3d;stroke-linecap:square;stroke-width:1.5;\"/>\n   </g>\n   <g id=\"line2d_37\">\n    <path clip-path=\"url(#p41d82ef24c)\" d=\"M 262.194196 195.47122 \nL 262.194196 174.257561 \n\" style=\"fill:none;stroke:#3d3d3d;stroke-linecap:square;stroke-width:1.5;\"/>\n   </g>\n   <g id=\"line2d_38\">\n    <path clip-path=\"url(#p41d82ef24c)\" d=\"M 252.628482 211.381463 \nL 271.759911 211.381463 \n\" style=\"fill:none;stroke:#3d3d3d;stroke-linecap:square;stroke-width:1.5;\"/>\n   </g>\n   <g id=\"line2d_39\">\n    <path clip-path=\"url(#p41d82ef24c)\" d=\"M 252.628482 174.257561 \nL 271.759911 174.257561 \n\" style=\"fill:none;stroke:#3d3d3d;stroke-linecap:square;stroke-width:1.5;\"/>\n   </g>\n   <g id=\"line2d_40\">\n    <g clip-path=\"url(#p41d82ef24c)\">\n     <use style=\"fill:#3d3d3d;stroke:#3d3d3d;stroke-linejoin:miter;\" x=\"262.194196\" xlink:href=\"#m216bac47f2\" y=\"143.762927\"/>\n     <use style=\"fill:#3d3d3d;stroke:#3d3d3d;stroke-linejoin:miter;\" x=\"262.194196\" xlink:href=\"#m216bac47f2\" y=\"170.28\"/>\n     <use style=\"fill:#3d3d3d;stroke:#3d3d3d;stroke-linejoin:miter;\" x=\"262.194196\" xlink:href=\"#m216bac47f2\" y=\"170.28\"/>\n     <use style=\"fill:#3d3d3d;stroke:#3d3d3d;stroke-linejoin:miter;\" x=\"262.194196\" xlink:href=\"#m216bac47f2\" y=\"167.628293\"/>\n     <use style=\"fill:#3d3d3d;stroke:#3d3d3d;stroke-linejoin:miter;\" x=\"262.194196\" xlink:href=\"#m216bac47f2\" y=\"170.28\"/>\n     <use style=\"fill:#3d3d3d;stroke:#3d3d3d;stroke-linejoin:miter;\" x=\"262.194196\" xlink:href=\"#m216bac47f2\" y=\"170.28\"/>\n     <use style=\"fill:#3d3d3d;stroke:#3d3d3d;stroke-linejoin:miter;\" x=\"262.194196\" xlink:href=\"#m216bac47f2\" y=\"84.099512\"/>\n     <use style=\"fill:#3d3d3d;stroke:#3d3d3d;stroke-linejoin:miter;\" x=\"262.194196\" xlink:href=\"#m216bac47f2\" y=\"170.28\"/>\n     <use style=\"fill:#3d3d3d;stroke:#3d3d3d;stroke-linejoin:miter;\" x=\"262.194196\" xlink:href=\"#m216bac47f2\" y=\"170.28\"/>\n     <use style=\"fill:#3d3d3d;stroke:#3d3d3d;stroke-linejoin:miter;\" x=\"262.194196\" xlink:href=\"#m216bac47f2\" y=\"146.414634\"/>\n     <use style=\"fill:#3d3d3d;stroke:#3d3d3d;stroke-linejoin:miter;\" x=\"262.194196\" xlink:href=\"#m216bac47f2\" y=\"77.470244\"/>\n     <use style=\"fill:#3d3d3d;stroke:#3d3d3d;stroke-linejoin:miter;\" x=\"262.194196\" xlink:href=\"#m216bac47f2\" y=\"139.785366\"/>\n     <use style=\"fill:#3d3d3d;stroke:#3d3d3d;stroke-linejoin:miter;\" x=\"262.194196\" xlink:href=\"#m216bac47f2\" y=\"170.28\"/>\n    </g>\n   </g>\n   <g id=\"line2d_41\">\n    <path clip-path=\"url(#p41d82ef24c)\" d=\"M 310.022768 211.381463 \nL 310.022768 211.381463 \n\" style=\"fill:none;stroke:#3d3d3d;stroke-linecap:square;stroke-width:1.5;\"/>\n   </g>\n   <g id=\"line2d_42\">\n    <path clip-path=\"url(#p41d82ef24c)\" d=\"M 310.022768 203.426341 \nL 310.022768 192.819512 \n\" style=\"fill:none;stroke:#3d3d3d;stroke-linecap:square;stroke-width:1.5;\"/>\n   </g>\n   <g id=\"line2d_43\">\n    <path clip-path=\"url(#p41d82ef24c)\" d=\"M 300.457054 211.381463 \nL 319.588482 211.381463 \n\" style=\"fill:none;stroke:#3d3d3d;stroke-linecap:square;stroke-width:1.5;\"/>\n   </g>\n   <g id=\"line2d_44\">\n    <path clip-path=\"url(#p41d82ef24c)\" d=\"M 300.457054 192.819512 \nL 319.588482 192.819512 \n\" style=\"fill:none;stroke:#3d3d3d;stroke-linecap:square;stroke-width:1.5;\"/>\n   </g>\n   <g id=\"line2d_45\">\n    <g clip-path=\"url(#p41d82ef24c)\">\n     <use style=\"fill:#3d3d3d;stroke:#3d3d3d;stroke-linejoin:miter;\" x=\"310.022768\" xlink:href=\"#m216bac47f2\" y=\"174.257561\"/>\n     <use style=\"fill:#3d3d3d;stroke:#3d3d3d;stroke-linejoin:miter;\" x=\"310.022768\" xlink:href=\"#m216bac47f2\" y=\"187.516098\"/>\n     <use style=\"fill:#3d3d3d;stroke:#3d3d3d;stroke-linejoin:miter;\" x=\"310.022768\" xlink:href=\"#m216bac47f2\" y=\"174.257561\"/>\n     <use style=\"fill:#3d3d3d;stroke:#3d3d3d;stroke-linejoin:miter;\" x=\"310.022768\" xlink:href=\"#m216bac47f2\" y=\"190.167805\"/>\n     <use style=\"fill:#3d3d3d;stroke:#3d3d3d;stroke-linejoin:miter;\" x=\"310.022768\" xlink:href=\"#m216bac47f2\" y=\"190.167805\"/>\n     <use style=\"fill:#3d3d3d;stroke:#3d3d3d;stroke-linejoin:miter;\" x=\"310.022768\" xlink:href=\"#m216bac47f2\" y=\"186.190244\"/>\n     <use style=\"fill:#3d3d3d;stroke:#3d3d3d;stroke-linejoin:miter;\" x=\"310.022768\" xlink:href=\"#m216bac47f2\" y=\"186.190244\"/>\n     <use style=\"fill:#3d3d3d;stroke:#3d3d3d;stroke-linejoin:miter;\" x=\"310.022768\" xlink:href=\"#m216bac47f2\" y=\"175.583415\"/>\n     <use style=\"fill:#3d3d3d;stroke:#3d3d3d;stroke-linejoin:miter;\" x=\"310.022768\" xlink:href=\"#m216bac47f2\" y=\"190.167805\"/>\n     <use style=\"fill:#3d3d3d;stroke:#3d3d3d;stroke-linejoin:miter;\" x=\"310.022768\" xlink:href=\"#m216bac47f2\" y=\"80.121951\"/>\n     <use style=\"fill:#3d3d3d;stroke:#3d3d3d;stroke-linejoin:miter;\" x=\"310.022768\" xlink:href=\"#m216bac47f2\" y=\"160.999024\"/>\n     <use style=\"fill:#3d3d3d;stroke:#3d3d3d;stroke-linejoin:miter;\" x=\"310.022768\" xlink:href=\"#m216bac47f2\" y=\"121.223415\"/>\n     <use style=\"fill:#3d3d3d;stroke:#3d3d3d;stroke-linejoin:miter;\" x=\"310.022768\" xlink:href=\"#m216bac47f2\" y=\"48.301463\"/>\n     <use style=\"fill:#3d3d3d;stroke:#3d3d3d;stroke-linejoin:miter;\" x=\"310.022768\" xlink:href=\"#m216bac47f2\" y=\"111.942439\"/>\n     <use style=\"fill:#3d3d3d;stroke:#3d3d3d;stroke-linejoin:miter;\" x=\"310.022768\" xlink:href=\"#m216bac47f2\" y=\"175.583415\"/>\n     <use style=\"fill:#3d3d3d;stroke:#3d3d3d;stroke-linejoin:miter;\" x=\"310.022768\" xlink:href=\"#m216bac47f2\" y=\"134.481951\"/>\n     <use style=\"fill:#3d3d3d;stroke:#3d3d3d;stroke-linejoin:miter;\" x=\"310.022768\" xlink:href=\"#m216bac47f2\" y=\"138.459512\"/>\n     <use style=\"fill:#3d3d3d;stroke:#3d3d3d;stroke-linejoin:miter;\" x=\"310.022768\" xlink:href=\"#m216bac47f2\" y=\"153.043902\"/>\n     <use style=\"fill:#3d3d3d;stroke:#3d3d3d;stroke-linejoin:miter;\" x=\"310.022768\" xlink:href=\"#m216bac47f2\" y=\"168.954146\"/>\n     <use style=\"fill:#3d3d3d;stroke:#3d3d3d;stroke-linejoin:miter;\" x=\"310.022768\" xlink:href=\"#m216bac47f2\" y=\"184.86439\"/>\n     <use style=\"fill:#3d3d3d;stroke:#3d3d3d;stroke-linejoin:miter;\" x=\"310.022768\" xlink:href=\"#m216bac47f2\" y=\"175.583415\"/>\n     <use style=\"fill:#3d3d3d;stroke:#3d3d3d;stroke-linejoin:miter;\" x=\"310.022768\" xlink:href=\"#m216bac47f2\" y=\"160.999024\"/>\n     <use style=\"fill:#3d3d3d;stroke:#3d3d3d;stroke-linejoin:miter;\" x=\"310.022768\" xlink:href=\"#m216bac47f2\" y=\"188.841951\"/>\n     <use style=\"fill:#3d3d3d;stroke:#3d3d3d;stroke-linejoin:miter;\" x=\"310.022768\" xlink:href=\"#m216bac47f2\" y=\"50.953171\"/>\n     <use style=\"fill:#3d3d3d;stroke:#3d3d3d;stroke-linejoin:miter;\" x=\"310.022768\" xlink:href=\"#m216bac47f2\" y=\"167.628293\"/>\n     <use style=\"fill:#3d3d3d;stroke:#3d3d3d;stroke-linejoin:miter;\" x=\"310.022768\" xlink:href=\"#m216bac47f2\" y=\"186.190244\"/>\n     <use style=\"fill:#3d3d3d;stroke:#3d3d3d;stroke-linejoin:miter;\" x=\"310.022768\" xlink:href=\"#m216bac47f2\" y=\"190.167805\"/>\n     <use style=\"fill:#3d3d3d;stroke:#3d3d3d;stroke-linejoin:miter;\" x=\"310.022768\" xlink:href=\"#m216bac47f2\" y=\"114.594146\"/>\n     <use style=\"fill:#3d3d3d;stroke:#3d3d3d;stroke-linejoin:miter;\" x=\"310.022768\" xlink:href=\"#m216bac47f2\" y=\"182.212683\"/>\n     <use style=\"fill:#3d3d3d;stroke:#3d3d3d;stroke-linejoin:miter;\" x=\"310.022768\" xlink:href=\"#m216bac47f2\" y=\"150.392195\"/>\n     <use style=\"fill:#3d3d3d;stroke:#3d3d3d;stroke-linejoin:miter;\" x=\"310.022768\" xlink:href=\"#m216bac47f2\" y=\"89.402927\"/>\n     <use style=\"fill:#3d3d3d;stroke:#3d3d3d;stroke-linejoin:miter;\" x=\"310.022768\" xlink:href=\"#m216bac47f2\" y=\"127.852683\"/>\n     <use style=\"fill:#3d3d3d;stroke:#3d3d3d;stroke-linejoin:miter;\" x=\"310.022768\" xlink:href=\"#m216bac47f2\" y=\"190.167805\"/>\n     <use style=\"fill:#3d3d3d;stroke:#3d3d3d;stroke-linejoin:miter;\" x=\"310.022768\" xlink:href=\"#m216bac47f2\" y=\"190.167805\"/>\n     <use style=\"fill:#3d3d3d;stroke:#3d3d3d;stroke-linejoin:miter;\" x=\"310.022768\" xlink:href=\"#m216bac47f2\" y=\"167.628293\"/>\n     <use style=\"fill:#3d3d3d;stroke:#3d3d3d;stroke-linejoin:miter;\" x=\"310.022768\" xlink:href=\"#m216bac47f2\" y=\"101.33561\"/>\n     <use style=\"fill:#3d3d3d;stroke:#3d3d3d;stroke-linejoin:miter;\" x=\"310.022768\" xlink:href=\"#m216bac47f2\" y=\"184.86439\"/>\n     <use style=\"fill:#3d3d3d;stroke:#3d3d3d;stroke-linejoin:miter;\" x=\"310.022768\" xlink:href=\"#m216bac47f2\" y=\"147.740488\"/>\n     <use style=\"fill:#3d3d3d;stroke:#3d3d3d;stroke-linejoin:miter;\" x=\"310.022768\" xlink:href=\"#m216bac47f2\" y=\"129.178537\"/>\n     <use style=\"fill:#3d3d3d;stroke:#3d3d3d;stroke-linejoin:miter;\" x=\"310.022768\" xlink:href=\"#m216bac47f2\" y=\"178.235122\"/>\n     <use style=\"fill:#3d3d3d;stroke:#3d3d3d;stroke-linejoin:miter;\" x=\"310.022768\" xlink:href=\"#m216bac47f2\" y=\"174.257561\"/>\n     <use style=\"fill:#3d3d3d;stroke:#3d3d3d;stroke-linejoin:miter;\" x=\"310.022768\" xlink:href=\"#m216bac47f2\" y=\"186.190244\"/>\n     <use style=\"fill:#3d3d3d;stroke:#3d3d3d;stroke-linejoin:miter;\" x=\"310.022768\" xlink:href=\"#m216bac47f2\" y=\"163.650732\"/>\n     <use style=\"fill:#3d3d3d;stroke:#3d3d3d;stroke-linejoin:miter;\" x=\"310.022768\" xlink:href=\"#m216bac47f2\" y=\"109.290732\"/>\n     <use style=\"fill:#3d3d3d;stroke:#3d3d3d;stroke-linejoin:miter;\" x=\"310.022768\" xlink:href=\"#m216bac47f2\" y=\"175.583415\"/>\n     <use style=\"fill:#3d3d3d;stroke:#3d3d3d;stroke-linejoin:miter;\" x=\"310.022768\" xlink:href=\"#m216bac47f2\" y=\"190.167805\"/>\n     <use style=\"fill:#3d3d3d;stroke:#3d3d3d;stroke-linejoin:miter;\" x=\"310.022768\" xlink:href=\"#m216bac47f2\" y=\"187.516098\"/>\n     <use style=\"fill:#3d3d3d;stroke:#3d3d3d;stroke-linejoin:miter;\" x=\"310.022768\" xlink:href=\"#m216bac47f2\" y=\"56.256585\"/>\n     <use style=\"fill:#3d3d3d;stroke:#3d3d3d;stroke-linejoin:miter;\" x=\"310.022768\" xlink:href=\"#m216bac47f2\" y=\"113.268293\"/>\n     <use style=\"fill:#3d3d3d;stroke:#3d3d3d;stroke-linejoin:miter;\" x=\"310.022768\" xlink:href=\"#m216bac47f2\" y=\"154.369756\"/>\n     <use style=\"fill:#3d3d3d;stroke:#3d3d3d;stroke-linejoin:miter;\" x=\"310.022768\" xlink:href=\"#m216bac47f2\" y=\"126.526829\"/>\n     <use style=\"fill:#3d3d3d;stroke:#3d3d3d;stroke-linejoin:miter;\" x=\"310.022768\" xlink:href=\"#m216bac47f2\" y=\"126.526829\"/>\n     <use style=\"fill:#3d3d3d;stroke:#3d3d3d;stroke-linejoin:miter;\" x=\"310.022768\" xlink:href=\"#m216bac47f2\" y=\"176.909268\"/>\n     <use style=\"fill:#3d3d3d;stroke:#3d3d3d;stroke-linejoin:miter;\" x=\"310.022768\" xlink:href=\"#m216bac47f2\" y=\"143.762927\"/>\n     <use style=\"fill:#3d3d3d;stroke:#3d3d3d;stroke-linejoin:miter;\" x=\"310.022768\" xlink:href=\"#m216bac47f2\" y=\"45.649756\"/>\n     <use style=\"fill:#3d3d3d;stroke:#3d3d3d;stroke-linejoin:miter;\" x=\"310.022768\" xlink:href=\"#m216bac47f2\" y=\"175.583415\"/>\n     <use style=\"fill:#3d3d3d;stroke:#3d3d3d;stroke-linejoin:miter;\" x=\"310.022768\" xlink:href=\"#m216bac47f2\" y=\"157.021463\"/>\n     <use style=\"fill:#3d3d3d;stroke:#3d3d3d;stroke-linejoin:miter;\" x=\"310.022768\" xlink:href=\"#m216bac47f2\" y=\"159.673171\"/>\n     <use style=\"fill:#3d3d3d;stroke:#3d3d3d;stroke-linejoin:miter;\" x=\"310.022768\" xlink:href=\"#m216bac47f2\" y=\"182.212683\"/>\n     <use style=\"fill:#3d3d3d;stroke:#3d3d3d;stroke-linejoin:miter;\" x=\"310.022768\" xlink:href=\"#m216bac47f2\" y=\"147.740488\"/>\n     <use style=\"fill:#3d3d3d;stroke:#3d3d3d;stroke-linejoin:miter;\" x=\"310.022768\" xlink:href=\"#m216bac47f2\" y=\"157.021463\"/>\n     <use style=\"fill:#3d3d3d;stroke:#3d3d3d;stroke-linejoin:miter;\" x=\"310.022768\" xlink:href=\"#m216bac47f2\" y=\"180.886829\"/>\n     <use style=\"fill:#3d3d3d;stroke:#3d3d3d;stroke-linejoin:miter;\" x=\"310.022768\" xlink:href=\"#m216bac47f2\" y=\"127.852683\"/>\n     <use style=\"fill:#3d3d3d;stroke:#3d3d3d;stroke-linejoin:miter;\" x=\"310.022768\" xlink:href=\"#m216bac47f2\" y=\"137.133659\"/>\n    </g>\n   </g>\n   <g id=\"line2d_46\">\n    <path clip-path=\"url(#p41d82ef24c)\" d=\"M 357.851339 211.381463 \nL 357.851339 211.381463 \n\" style=\"fill:none;stroke:#3d3d3d;stroke-linecap:square;stroke-width:1.5;\"/>\n   </g>\n   <g id=\"line2d_47\">\n    <path clip-path=\"url(#p41d82ef24c)\" d=\"M 357.851339 196.134146 \nL 357.851339 176.909268 \n\" style=\"fill:none;stroke:#3d3d3d;stroke-linecap:square;stroke-width:1.5;\"/>\n   </g>\n   <g id=\"line2d_48\">\n    <path clip-path=\"url(#p41d82ef24c)\" d=\"M 348.285625 211.381463 \nL 367.417054 211.381463 \n\" style=\"fill:none;stroke:#3d3d3d;stroke-linecap:square;stroke-width:1.5;\"/>\n   </g>\n   <g id=\"line2d_49\">\n    <path clip-path=\"url(#p41d82ef24c)\" d=\"M 348.285625 176.909268 \nL 367.417054 176.909268 \n\" style=\"fill:none;stroke:#3d3d3d;stroke-linecap:square;stroke-width:1.5;\"/>\n   </g>\n   <g id=\"line2d_50\">\n    <g clip-path=\"url(#p41d82ef24c)\">\n     <use style=\"fill:#3d3d3d;stroke:#3d3d3d;stroke-linejoin:miter;\" x=\"357.851339\" xlink:href=\"#m216bac47f2\" y=\"163.650732\"/>\n     <use style=\"fill:#3d3d3d;stroke:#3d3d3d;stroke-linejoin:miter;\" x=\"357.851339\" xlink:href=\"#m216bac47f2\" y=\"150.392195\"/>\n     <use style=\"fill:#3d3d3d;stroke:#3d3d3d;stroke-linejoin:miter;\" x=\"357.851339\" xlink:href=\"#m216bac47f2\" y=\"127.852683\"/>\n     <use style=\"fill:#3d3d3d;stroke:#3d3d3d;stroke-linejoin:miter;\" x=\"357.851339\" xlink:href=\"#m216bac47f2\" y=\"154.369756\"/>\n     <use style=\"fill:#3d3d3d;stroke:#3d3d3d;stroke-linejoin:miter;\" x=\"357.851339\" xlink:href=\"#m216bac47f2\" y=\"117.245854\"/>\n     <use style=\"fill:#3d3d3d;stroke:#3d3d3d;stroke-linejoin:miter;\" x=\"357.851339\" xlink:href=\"#m216bac47f2\" y=\"142.437073\"/>\n     <use style=\"fill:#3d3d3d;stroke:#3d3d3d;stroke-linejoin:miter;\" x=\"357.851339\" xlink:href=\"#m216bac47f2\" y=\"141.11122\"/>\n     <use style=\"fill:#3d3d3d;stroke:#3d3d3d;stroke-linejoin:miter;\" x=\"357.851339\" xlink:href=\"#m216bac47f2\" y=\"107.964878\"/>\n     <use style=\"fill:#3d3d3d;stroke:#3d3d3d;stroke-linejoin:miter;\" x=\"357.851339\" xlink:href=\"#m216bac47f2\" y=\"153.043902\"/>\n     <use style=\"fill:#3d3d3d;stroke:#3d3d3d;stroke-linejoin:miter;\" x=\"357.851339\" xlink:href=\"#m216bac47f2\" y=\"150.392195\"/>\n    </g>\n   </g>\n   <g id=\"line2d_51\">\n    <path clip-path=\"url(#p41d82ef24c)\" d=\"M 51.748482 210.05561 \nL 90.011339 210.05561 \n\" style=\"fill:none;stroke:#3d3d3d;stroke-linecap:square;stroke-width:1.5;\"/>\n   </g>\n   <g id=\"line2d_52\">\n    <path clip-path=\"url(#p41d82ef24c)\" d=\"M 99.577054 203.426341 \nL 137.839911 203.426341 \n\" style=\"fill:none;stroke:#3d3d3d;stroke-linecap:square;stroke-width:1.5;\"/>\n   </g>\n   <g id=\"line2d_53\">\n    <path clip-path=\"url(#p41d82ef24c)\" d=\"M 147.405625 195.47122 \nL 185.668482 195.47122 \n\" style=\"fill:none;stroke:#3d3d3d;stroke-linecap:square;stroke-width:1.5;\"/>\n   </g>\n   <g id=\"line2d_54\">\n    <path clip-path=\"url(#p41d82ef24c)\" d=\"M 195.234196 211.381463 \nL 233.497054 211.381463 \n\" style=\"fill:none;stroke:#3d3d3d;stroke-linecap:square;stroke-width:1.5;\"/>\n   </g>\n   <g id=\"line2d_55\">\n    <path clip-path=\"url(#p41d82ef24c)\" d=\"M 243.062768 207.403902 \nL 281.325625 207.403902 \n\" style=\"fill:none;stroke:#3d3d3d;stroke-linecap:square;stroke-width:1.5;\"/>\n   </g>\n   <g id=\"line2d_56\">\n    <path clip-path=\"url(#p41d82ef24c)\" d=\"M 290.891339 203.426341 \nL 329.154196 203.426341 \n\" style=\"fill:none;stroke:#3d3d3d;stroke-linecap:square;stroke-width:1.5;\"/>\n   </g>\n   <g id=\"line2d_57\">\n    <path clip-path=\"url(#p41d82ef24c)\" d=\"M 338.719911 208.729756 \nL 376.982768 208.729756 \n\" style=\"fill:none;stroke:#3d3d3d;stroke-linecap:square;stroke-width:1.5;\"/>\n   </g>\n   <g id=\"patch_10\">\n    <path d=\"M 46.965625 224.64 \nL 46.965625 7.2 \n\" style=\"fill:none;stroke:#000000;stroke-linecap:square;stroke-linejoin:miter;stroke-width:0.8;\"/>\n   </g>\n   <g id=\"patch_11\">\n    <path d=\"M 381.765625 224.64 \nL 381.765625 7.2 \n\" style=\"fill:none;stroke:#000000;stroke-linecap:square;stroke-linejoin:miter;stroke-width:0.8;\"/>\n   </g>\n   <g id=\"patch_12\">\n    <path d=\"M 46.965625 224.64 \nL 381.765625 224.64 \n\" style=\"fill:none;stroke:#000000;stroke-linecap:square;stroke-linejoin:miter;stroke-width:0.8;\"/>\n   </g>\n   <g id=\"patch_13\">\n    <path d=\"M 46.965625 7.2 \nL 381.765625 7.2 \n\" style=\"fill:none;stroke:#000000;stroke-linecap:square;stroke-linejoin:miter;stroke-width:0.8;\"/>\n   </g>\n  </g>\n </g>\n <defs>\n  <clipPath id=\"p41d82ef24c\">\n   <rect height=\"217.44\" width=\"334.8\" x=\"46.965625\" y=\"7.2\"/>\n  </clipPath>\n </defs>\n</svg>\n",
      "image/png": "[encoded data removed]"
     },
     "metadata": {
      "needs_background": "light"
     }
    }
   ],
   "source": [
    "df= df[df['fix_to_release_delay'] >= 0]\n",
    "ax = sns.boxplot(y='fix_to_release_delay', x='ecosystem', data = test, order =['Composer','Go','Maven','npm','NuGet','pip','RubyGems'])\n",
    "ax.set(ylim =(-10,154), xlabel='Ecosystem', ylabel = 'Fix to Release Delay (days)')\n",
    "plt.savefig('fix_to_release_delay.png',bbox_inches='tight')"
   ]
  },
  {
   "cell_type": "code",
   "execution_count": 2100,
   "metadata": {},
   "outputs": [
    {
     "output_type": "execute_result",
     "data": {
      "text/plain": [
       "count    2640.000000\n",
       "mean       30.954924\n",
       "std       115.271483\n",
       "min         0.000000\n",
       "25%         0.000000\n",
       "50%         4.000000\n",
       "75%        20.000000\n",
       "max      2363.000000\n",
       "Name: fix_to_release_delay, dtype: float64"
      ]
     },
     "metadata": {},
     "execution_count": 2100
    }
   ],
   "source": [
    "len(df[df['fix_to_release_delay']>= 500])\n",
    "df['fix_to_release_delay'].describe()"
   ]
  },
  {
   "cell_type": "code",
   "execution_count": 2101,
   "metadata": {},
   "outputs": [
    {
     "output_type": "execute_result",
     "data": {
      "text/plain": [
       "(640, 322)"
      ]
     },
     "metadata": {},
     "execution_count": 2101
    }
   ],
   "source": [
    "npm =df[df['ecosystem']=='npm']\n",
    "len(npm), len(npm[npm['fix_to_release_delay']==0])"
   ]
  },
  {
   "cell_type": "code",
   "execution_count": 2102,
   "metadata": {},
   "outputs": [
    {
     "output_type": "execute_result",
     "data": {
      "text/plain": [
       "(count     807.000000\n",
       " mean       51.630731\n",
       " std       162.032630\n",
       " min         0.000000\n",
       " 25%         2.000000\n",
       " 50%        13.000000\n",
       " 75%        41.000000\n",
       " max      2363.000000\n",
       " Name: fix_to_release_delay, dtype: float64,\n",
       " 121)"
      ]
     },
     "metadata": {},
     "execution_count": 2102
    }
   ],
   "source": [
    "maven = df[df['ecosystem']=='Maven']\n",
    "maven['fix_to_release_delay'].describe(), len(maven[maven['fix_to_release_delay']==0])"
   ]
  },
  {
   "cell_type": "code",
   "execution_count": 2103,
   "metadata": {},
   "outputs": [
    {
     "output_type": "execute_result",
     "data": {
      "text/plain": [
       "['Total', 2001, 1342, '2240 (2640)', 4.0, '165 (8.2%)', '388 (19.4%)']"
      ]
     },
     "metadata": {},
     "execution_count": 2103
    }
   ],
   "source": [
    "pub_before_release = df.groupby(['ecosystem','advisory_id'])[['release_to_publish_delay']].max()\n",
    "pub_before_release = pub_before_release.reset_index()\n",
    "pub_before_release = pub_before_release[pub_before_release['release_to_publish_delay'] < 0]\n",
    "pub_before_release = len(pub_before_release)\n",
    "\n",
    "pub_before_release = str(pub_before_release) + ' (' +  str(round(pub_before_release/df['advisory_id'].nunique()*100,1)) +'%)'\n",
    "pub_before_fix = df.groupby(['ecosystem','advisory_id'])[['fix_to_publish_delay']].max()\n",
    "pub_before_fix = pub_before_fix.reset_index()\n",
    "pub_before_fix = pub_before_fix[pub_before_fix['fix_to_publish_delay'] < 0]\n",
    "pub_before_fix = len(pub_before_fix)\n",
    "pub_before_fix = str(pub_before_fix) + ' (' + str(round(pub_before_fix/df['advisory_id'].nunique()*100,1)) +'%)'\n",
    "t = ['Total', df['advisory_id'].nunique(), df['package_id'].nunique(), df['fixing_release'].nunique(), \n",
    "df['fix_to_release_delay'].median(),\n",
    "df['total_release'].nunique(), pub_before_fix, pub_before_release ]\n",
    "t[3] = str(t[3]) + ' (' + str(t[5]) +')'\n",
    "del t[5]\n",
    "t"
   ]
  },
  {
   "cell_type": "code",
   "execution_count": 2104,
   "metadata": {},
   "outputs": [],
   "source": [
    "gb = df.groupby('ecosystem')\n",
    "eco_dfs = [(x,gb.get_group(x)) for x in gb.groups]\n",
    "adv = df.groupby('ecosystem')[['advisory_id']].nunique()\n",
    "pkg = df.groupby('ecosystem')[['package_id']].nunique()\n",
    "rel = df.groupby('ecosystem')['fixing_release'].nunique()\n",
    "total_rel = df.groupby('ecosystem')['total_release'].nunique()\n",
    "fixrel = df.groupby('ecosystem')[['fix_to_release_delay']].median()"
   ]
  },
  {
   "cell_type": "code",
   "execution_count": 2105,
   "metadata": {},
   "outputs": [
    {
     "output_type": "execute_result",
     "data": {
      "text/plain": [
       "           pub_before_release\n",
       "ecosystem                    \n",
       "Composer                   20\n",
       "Go                         47\n",
       "Maven                     131\n",
       "NuGet                       5\n",
       "RubyGems                   10\n",
       "npm                       102\n",
       "pip                        73"
      ],
      "text/html": "<div>\n<style scoped>\n    .dataframe tbody tr th:only-of-type {\n        vertical-align: middle;\n    }\n\n    .dataframe tbody tr th {\n        vertical-align: top;\n    }\n\n    .dataframe thead th {\n        text-align: right;\n    }\n</style>\n<table border=\"1\" class=\"dataframe\">\n  <thead>\n    <tr style=\"text-align: right;\">\n      <th></th>\n      <th>pub_before_release</th>\n    </tr>\n    <tr>\n      <th>ecosystem</th>\n      <th></th>\n    </tr>\n  </thead>\n  <tbody>\n    <tr>\n      <th>Composer</th>\n      <td>20</td>\n    </tr>\n    <tr>\n      <th>Go</th>\n      <td>47</td>\n    </tr>\n    <tr>\n      <th>Maven</th>\n      <td>131</td>\n    </tr>\n    <tr>\n      <th>NuGet</th>\n      <td>5</td>\n    </tr>\n    <tr>\n      <th>RubyGems</th>\n      <td>10</td>\n    </tr>\n    <tr>\n      <th>npm</th>\n      <td>102</td>\n    </tr>\n    <tr>\n      <th>pip</th>\n      <td>73</td>\n    </tr>\n  </tbody>\n</table>\n</div>"
     },
     "metadata": {},
     "execution_count": 2105
    }
   ],
   "source": [
    "pub_before_release = df.groupby(['ecosystem','advisory_id'])[['release_to_publish_delay']].max()\n",
    "pub_before_release = pub_before_release.reset_index()\n",
    "pub_before_release = pub_before_release[pub_before_release['release_to_publish_delay'] < 0]\n",
    "pub_before_release = pub_before_release.groupby('ecosystem')[['advisory_id']].nunique()\n",
    "pub_before_release = pub_before_release.rename(columns={'advisory_id':'pub_before_release'})\n",
    "pub_before_release"
   ]
  },
  {
   "cell_type": "code",
   "execution_count": 2106,
   "metadata": {},
   "outputs": [
    {
     "output_type": "execute_result",
     "data": {
      "text/plain": [
       "           pub_before_fix\n",
       "ecosystem                \n",
       "Composer               10\n",
       "Go                     21\n",
       "Maven                  27\n",
       "NuGet                   4\n",
       "RubyGems                5\n",
       "npm                    62\n",
       "pip                    36"
      ],
      "text/html": "<div>\n<style scoped>\n    .dataframe tbody tr th:only-of-type {\n        vertical-align: middle;\n    }\n\n    .dataframe tbody tr th {\n        vertical-align: top;\n    }\n\n    .dataframe thead th {\n        text-align: right;\n    }\n</style>\n<table border=\"1\" class=\"dataframe\">\n  <thead>\n    <tr style=\"text-align: right;\">\n      <th></th>\n      <th>pub_before_fix</th>\n    </tr>\n    <tr>\n      <th>ecosystem</th>\n      <th></th>\n    </tr>\n  </thead>\n  <tbody>\n    <tr>\n      <th>Composer</th>\n      <td>10</td>\n    </tr>\n    <tr>\n      <th>Go</th>\n      <td>21</td>\n    </tr>\n    <tr>\n      <th>Maven</th>\n      <td>27</td>\n    </tr>\n    <tr>\n      <th>NuGet</th>\n      <td>4</td>\n    </tr>\n    <tr>\n      <th>RubyGems</th>\n      <td>5</td>\n    </tr>\n    <tr>\n      <th>npm</th>\n      <td>62</td>\n    </tr>\n    <tr>\n      <th>pip</th>\n      <td>36</td>\n    </tr>\n  </tbody>\n</table>\n</div>"
     },
     "metadata": {},
     "execution_count": 2106
    }
   ],
   "source": [
    "pub_before_fix = df.groupby(['ecosystem','advisory_id'])[['fix_to_publish_delay']].max()\n",
    "pub_before_fix = pub_before_fix.reset_index()\n",
    "pub_before_fix = pub_before_fix[pub_before_fix['fix_to_publish_delay'] < 0]\n",
    "pub_before_fix = pub_before_fix.groupby('ecosystem')[['advisory_id']].nunique()\n",
    "pub_before_fix = pub_before_fix.rename(columns={'advisory_id':'pub_before_fix'})\n",
    "pub_before_fix"
   ]
  },
  {
   "cell_type": "code",
   "execution_count": 2107,
   "metadata": {},
   "outputs": [
    {
     "output_type": "execute_result",
     "data": {
      "text/plain": [
       "  ecosystem  advisory_id  package_id fixing_release  fix_to_release_delay  \\\n",
       "0  Composer          183          93      204 (295)                   1.0   \n",
       "1        Go          184         150      224 (242)                   6.0   \n",
       "2     Maven          574         385      745 (807)                  13.0   \n",
       "3     NuGet           70          22        52 (75)                   3.0   \n",
       "4  RubyGems          113          80      121 (139)                   3.0   \n",
       "5       npm          553         412      586 (640)                   0.0   \n",
       "6       pip          324         200      308 (442)                   6.0   \n",
       "\n",
       "   pub_before_fix  pub_before_release  total_release  \n",
       "0              10                  20            295  \n",
       "1              21                  47            242  \n",
       "2              27                 131            807  \n",
       "3               4                   5             75  \n",
       "4               5                  10            139  \n",
       "5              62                 102            640  \n",
       "6              36                  73            442  "
      ],
      "text/html": "<div>\n<style scoped>\n    .dataframe tbody tr th:only-of-type {\n        vertical-align: middle;\n    }\n\n    .dataframe tbody tr th {\n        vertical-align: top;\n    }\n\n    .dataframe thead th {\n        text-align: right;\n    }\n</style>\n<table border=\"1\" class=\"dataframe\">\n  <thead>\n    <tr style=\"text-align: right;\">\n      <th></th>\n      <th>ecosystem</th>\n      <th>advisory_id</th>\n      <th>package_id</th>\n      <th>fixing_release</th>\n      <th>fix_to_release_delay</th>\n      <th>pub_before_fix</th>\n      <th>pub_before_release</th>\n      <th>total_release</th>\n    </tr>\n  </thead>\n  <tbody>\n    <tr>\n      <th>0</th>\n      <td>Composer</td>\n      <td>183</td>\n      <td>93</td>\n      <td>204 (295)</td>\n      <td>1.0</td>\n      <td>10</td>\n      <td>20</td>\n      <td>295</td>\n    </tr>\n    <tr>\n      <th>1</th>\n      <td>Go</td>\n      <td>184</td>\n      <td>150</td>\n      <td>224 (242)</td>\n      <td>6.0</td>\n      <td>21</td>\n      <td>47</td>\n      <td>242</td>\n    </tr>\n    <tr>\n      <th>2</th>\n      <td>Maven</td>\n      <td>574</td>\n      <td>385</td>\n      <td>745 (807)</td>\n      <td>13.0</td>\n      <td>27</td>\n      <td>131</td>\n      <td>807</td>\n    </tr>\n    <tr>\n      <th>3</th>\n      <td>NuGet</td>\n      <td>70</td>\n      <td>22</td>\n      <td>52 (75)</td>\n      <td>3.0</td>\n      <td>4</td>\n      <td>5</td>\n      <td>75</td>\n    </tr>\n    <tr>\n      <th>4</th>\n      <td>RubyGems</td>\n      <td>113</td>\n      <td>80</td>\n      <td>121 (139)</td>\n      <td>3.0</td>\n      <td>5</td>\n      <td>10</td>\n      <td>139</td>\n    </tr>\n    <tr>\n      <th>5</th>\n      <td>npm</td>\n      <td>553</td>\n      <td>412</td>\n      <td>586 (640)</td>\n      <td>0.0</td>\n      <td>62</td>\n      <td>102</td>\n      <td>640</td>\n    </tr>\n    <tr>\n      <th>6</th>\n      <td>pip</td>\n      <td>324</td>\n      <td>200</td>\n      <td>308 (442)</td>\n      <td>6.0</td>\n      <td>36</td>\n      <td>73</td>\n      <td>442</td>\n    </tr>\n  </tbody>\n</table>\n</div>"
     },
     "metadata": {},
     "execution_count": 2107
    }
   ],
   "source": [
    "final =reduce(lambda x,y : pd.merge(x,y,on='ecosystem'),[adv, pkg, rel, fixrel, pub_before_fix,pub_before_release, total_rel])\n",
    "final = final.reset_index()\n",
    "final['fixing_release'] = final['fixing_release'].map(str) +  ' (' + final['total_release'].map(str) +')'\n",
    "final"
   ]
  },
  {
   "cell_type": "code",
   "execution_count": 2108,
   "metadata": {},
   "outputs": [
    {
     "output_type": "execute_result",
     "data": {
      "text/plain": [
       "  ecosystem  advisory  package     releases  fix_to_release  \\\n",
       "0  Composer       183       93    204 (295)             1.0   \n",
       "1        Go       184      150    224 (242)             6.0   \n",
       "2     Maven       574      385    745 (807)            13.0   \n",
       "5       npm       553      412    586 (640)             0.0   \n",
       "3     NuGet        70       22      52 (75)             3.0   \n",
       "6       pip       324      200    308 (442)             6.0   \n",
       "4  RubyGems       113       80    121 (139)             3.0   \n",
       "7     Total      2001     1342  2240 (2640)             4.0   \n",
       "\n",
       "  publish_before_fix publish_before_release  \n",
       "0          10 (5.5%)             20 (10.9%)  \n",
       "1         21 (11.4%)             47 (25.5%)  \n",
       "2          27 (4.7%)            131 (22.8%)  \n",
       "5         62 (11.2%)            102 (18.4%)  \n",
       "3           4 (5.7%)               5 (7.1%)  \n",
       "6         36 (11.1%)             73 (22.5%)  \n",
       "4           5 (4.4%)              10 (8.8%)  \n",
       "7         165 (8.2%)            388 (19.4%)  "
      ],
      "text/html": "<div>\n<style scoped>\n    .dataframe tbody tr th:only-of-type {\n        vertical-align: middle;\n    }\n\n    .dataframe tbody tr th {\n        vertical-align: top;\n    }\n\n    .dataframe thead th {\n        text-align: right;\n    }\n</style>\n<table border=\"1\" class=\"dataframe\">\n  <thead>\n    <tr style=\"text-align: right;\">\n      <th></th>\n      <th>ecosystem</th>\n      <th>advisory</th>\n      <th>package</th>\n      <th>releases</th>\n      <th>fix_to_release</th>\n      <th>publish_before_fix</th>\n      <th>publish_before_release</th>\n    </tr>\n  </thead>\n  <tbody>\n    <tr>\n      <th>0</th>\n      <td>Composer</td>\n      <td>183</td>\n      <td>93</td>\n      <td>204 (295)</td>\n      <td>1.0</td>\n      <td>10 (5.5%)</td>\n      <td>20 (10.9%)</td>\n    </tr>\n    <tr>\n      <th>1</th>\n      <td>Go</td>\n      <td>184</td>\n      <td>150</td>\n      <td>224 (242)</td>\n      <td>6.0</td>\n      <td>21 (11.4%)</td>\n      <td>47 (25.5%)</td>\n    </tr>\n    <tr>\n      <th>2</th>\n      <td>Maven</td>\n      <td>574</td>\n      <td>385</td>\n      <td>745 (807)</td>\n      <td>13.0</td>\n      <td>27 (4.7%)</td>\n      <td>131 (22.8%)</td>\n    </tr>\n    <tr>\n      <th>5</th>\n      <td>npm</td>\n      <td>553</td>\n      <td>412</td>\n      <td>586 (640)</td>\n      <td>0.0</td>\n      <td>62 (11.2%)</td>\n      <td>102 (18.4%)</td>\n    </tr>\n    <tr>\n      <th>3</th>\n      <td>NuGet</td>\n      <td>70</td>\n      <td>22</td>\n      <td>52 (75)</td>\n      <td>3.0</td>\n      <td>4 (5.7%)</td>\n      <td>5 (7.1%)</td>\n    </tr>\n    <tr>\n      <th>6</th>\n      <td>pip</td>\n      <td>324</td>\n      <td>200</td>\n      <td>308 (442)</td>\n      <td>6.0</td>\n      <td>36 (11.1%)</td>\n      <td>73 (22.5%)</td>\n    </tr>\n    <tr>\n      <th>4</th>\n      <td>RubyGems</td>\n      <td>113</td>\n      <td>80</td>\n      <td>121 (139)</td>\n      <td>3.0</td>\n      <td>5 (4.4%)</td>\n      <td>10 (8.8%)</td>\n    </tr>\n    <tr>\n      <th>7</th>\n      <td>Total</td>\n      <td>2001</td>\n      <td>1342</td>\n      <td>2240 (2640)</td>\n      <td>4.0</td>\n      <td>165 (8.2%)</td>\n      <td>388 (19.4%)</td>\n    </tr>\n  </tbody>\n</table>\n</div>"
     },
     "metadata": {},
     "execution_count": 2108
    }
   ],
   "source": [
    "\n",
    "final.columns = ['ecosystem','advisory','package','releases','fix_to_release','publish_before_fix', 'publish_before_release', 'total_release']\n",
    "final['temp'] = final['publish_before_release'] \n",
    "final['publish_before_release'] =  round(final['publish_before_release'] / final['advisory'] * 100, 1)\n",
    "final['publish_before_release'] = final['temp'].map(str) + ' (' + final['publish_before_release'].map(str) + '%)'\n",
    "final['temp'] = final['publish_before_fix'] \n",
    "final['publish_before_fix'] =  round(final['publish_before_fix'] / final['advisory'] * 100, 1)\n",
    "final['publish_before_fix'] = final['temp'].map(str) + ' (' + final['publish_before_fix'].map(str) + '%)'\n",
    "final['temp'] = final['ecosystem'].str.lower()\n",
    "final = final.sort_values(by = 'temp', ascending=True)\n",
    "final = final.drop(['temp','total_release'], axis=1)\n",
    "final.loc[len(final)]  = t\n",
    "final"
   ]
  },
  {
   "cell_type": "code",
   "execution_count": 2109,
   "metadata": {},
   "outputs": [
    {
     "output_type": "stream",
     "name": "stdout",
     "text": [
      "\\begin{tabular}{lrrlrll}\n\\hline\n ecosystem   &   advisory &   package & releases    &   fix\\_to\\_release & publish\\_before\\_fix   & publish\\_before\\_release   \\\\\n\\hline\n Composer    &        183 &        93 & 204 (295)   &                1 & 10 (5.5\\%)            & 20 (10.9\\%)               \\\\\n Go          &        184 &       150 & 224 (242)   &                6 & 21 (11.4\\%)           & 47 (25.5\\%)               \\\\\n Maven       &        574 &       385 & 745 (807)   &               13 & 27 (4.7\\%)            & 131 (22.8\\%)              \\\\\n npm         &        553 &       412 & 586 (640)   &                0 & 62 (11.2\\%)           & 102 (18.4\\%)              \\\\\n NuGet       &         70 &        22 & 52 (75)     &                3 & 4 (5.7\\%)             & 5 (7.1\\%)                 \\\\\n pip         &        324 &       200 & 308 (442)   &                6 & 36 (11.1\\%)           & 73 (22.5\\%)               \\\\\n RubyGems    &        113 &        80 & 121 (139)   &                3 & 5 (4.4\\%)             & 10 (8.8\\%)                \\\\\n Total       &       2001 &      1342 & 2240 (2640) &                4 & 165 (8.2\\%)           & 388 (19.4\\%)              \\\\\n\\hline\n\\end{tabular}\n"
     ]
    }
   ],
   "source": [
    "print(tabulate(final, tablefmt='latex', headers='keys',showindex=False))"
   ]
  },
  {
   "cell_type": "code",
   "execution_count": 2110,
   "metadata": {},
   "outputs": [],
   "source": [
    "# q='select * from fix_commits where commit_date is not null'\n",
    "# df = pd.DataFrame(sql.execute(q))\n",
    "# df['auth_commit_delay'] = (df['commit_date'].dt.date - df['author_date'].dt.date).dt.days\n",
    "# df['auth_commit_delay'].describe()\n",
    "# print(len(df))\n",
    "# df = df[df['auth_commit_delay'] > 0]\n",
    "# len(df)"
   ]
  },
  {
   "cell_type": "code",
   "execution_count": 2111,
   "metadata": {},
   "outputs": [
    {
     "output_type": "execute_result",
     "data": {
      "text/plain": [
       "(count    1163.000000\n",
       " mean       26.743766\n",
       " std        89.175037\n",
       " min         0.000000\n",
       " 25%         0.000000\n",
       " 50%         3.000000\n",
       " 75%        16.000000\n",
       " max      1758.000000\n",
       " Name: fix_to_release_delay, dtype: float64,\n",
       " count    1348.000000\n",
       " mean       32.761128\n",
       " std       114.828930\n",
       " min         0.000000\n",
       " 25%         0.000000\n",
       " 50%         5.000000\n",
       " 75%        25.000000\n",
       " max      1734.000000\n",
       " Name: fix_to_release_delay, dtype: float64,\n",
       " count     129.000000\n",
       " mean       50.046512\n",
       " std       249.877372\n",
       " min         0.000000\n",
       " 25%         0.000000\n",
       " 50%         3.000000\n",
       " 75%        14.000000\n",
       " max      2363.000000\n",
       " Name: fix_to_release_delay, dtype: float64)"
      ]
     },
     "metadata": {},
     "execution_count": 2111
    }
   ],
   "source": [
    "high, medium, low = df[df['severity']=='H'], df[df['severity']=='M'], df[df['severity']=='L']\n",
    "high['fix_to_release_delay'].describe(), medium['fix_to_release_delay'].describe(), low['fix_to_release_delay'].describe()"
   ]
  },
  {
   "cell_type": "code",
   "execution_count": 2112,
   "metadata": {},
   "outputs": [
    {
     "output_type": "execute_result",
     "data": {
      "text/plain": [
       "(MannwhitneyuResult(statistic=739708.5, pvalue=0.0065482520451750565),\n",
       " MannwhitneyuResult(statistic=72951.0, pvalue=0.3004983938267446),\n",
       " MannwhitneyuResult(statistic=83890.0, pvalue=0.25135790074624864),\n",
       " count    1163.000000\n",
       " mean       26.743766\n",
       " std        89.175037\n",
       " min         0.000000\n",
       " 25%         0.000000\n",
       " 50%         3.000000\n",
       " 75%        16.000000\n",
       " max      1758.000000\n",
       " Name: fix_to_release_delay, dtype: float64,\n",
       " count    1348.000000\n",
       " mean       32.761128\n",
       " std       114.828930\n",
       " min         0.000000\n",
       " 25%         0.000000\n",
       " 50%         5.000000\n",
       " 75%        25.000000\n",
       " max      1734.000000\n",
       " Name: fix_to_release_delay, dtype: float64,\n",
       " count     129.000000\n",
       " mean       50.046512\n",
       " std       249.877372\n",
       " min         0.000000\n",
       " 25%         0.000000\n",
       " 50%         3.000000\n",
       " 75%        14.000000\n",
       " max      2363.000000\n",
       " Name: fix_to_release_delay, dtype: float64)"
      ]
     },
     "metadata": {},
     "execution_count": 2112
    }
   ],
   "source": [
    "\n",
    "from scipy.stats import mannwhitneyu\n",
    "mannwhitneyu(high['fix_to_release_delay'],medium['fix_to_release_delay']), mannwhitneyu(high['fix_to_release_delay'],low['fix_to_release_delay']), mannwhitneyu(medium['fix_to_release_delay'],low['fix_to_release_delay']), high['fix_to_release_delay'].describe(), medium['fix_to_release_delay'].describe(), low['fix_to_release_delay'].describe()"
   ]
  },
  {
   "cell_type": "code",
   "execution_count": null,
   "metadata": {},
   "outputs": [],
   "source": []
  },
  {
   "cell_type": "code",
   "execution_count": 2113,
   "metadata": {},
   "outputs": [
    {
     "output_type": "execute_result",
     "data": {
      "text/plain": [
       "(count     392.000000\n",
       " mean       61.946429\n",
       " std       227.415502\n",
       " min         0.000000\n",
       " 25%         0.000000\n",
       " 50%         0.000000\n",
       " 75%         8.000000\n",
       " max      1718.000000\n",
       " Name: range, dtype: float64,\n",
       " 203)"
      ]
     },
     "metadata": {},
     "execution_count": 2113
    }
   ],
   "source": [
    "q = '''select advisory_id, package_id, ecosystem, min(release_date) as first,\n",
    "       max(release_date) as last\n",
    "        from\n",
    "        (select advisory_id, min(commit_date) as fix_commit_date\n",
    "        from fix_commits fc\n",
    "        join package p on fc.package_id = p.id\n",
    "        where commit_date is not null\n",
    "        group by advisory_id) as fcd\n",
    "        join\n",
    "        (select a.*, p.ecosystem, ri.version, ri.publish_date as release_date\n",
    "        from advisory a\n",
    "        join package p on a.package_id = p.id\n",
    "        join fixing_releases fr on a.id = fr.advisory_id\n",
    "        join release_info ri on p.id = ri.package_id and ri.version=fr.version\n",
    "        where type != 'Malicious Package'\n",
    "        and fr.version!= 'manual checkup needed'\n",
    "            and ri.publish_date is not null) as frd\n",
    "        on fcd.advisory_id=frd.id\n",
    "            and fcd.advisory_id in\n",
    "    (select advisory_id from\n",
    "(select advisory_id, count(*)\n",
    "from\n",
    "(select advisory_id, min(commit_date) as fix_commit_date\n",
    "from fix_commits fc\n",
    "join package p on fc.package_id = p.id\n",
    "where commit_date is not null\n",
    "group by advisory_id) as fcd\n",
    "join\n",
    "(select a.*, p.ecosystem, ri.version, ri.publish_date as release_date\n",
    "from advisory a\n",
    "join package p on a.package_id = p.id\n",
    "join fixing_releases fr on a.id = fr.advisory_id\n",
    "join release_info ri on p.id = ri.package_id and ri.version=fr.version\n",
    "where type != 'Malicious Package'\n",
    "and fr.version!= 'manual checkup needed'\n",
    "    and ri.publish_date is not null) as frd\n",
    "on fcd.advisory_id=frd.id\n",
    "group by advisory_id\n",
    "having count(*) > 1) as sub)\n",
    "group by advisory_id, package_id, ecosystem;\n",
    "'''\n",
    "multiple_rel = pd.DataFrame(sql.execute(q))\n",
    "multiple_rel['range'] = (multiple_rel['last'].dt.date - multiple_rel['first'].dt.date).dt.days\n",
    "multiple_rel['range'].describe(), len(multiple_rel[multiple_rel['range']==0])"
   ]
  },
  {
   "cell_type": "code",
   "execution_count": 2114,
   "metadata": {},
   "outputs": [
    {
     "output_type": "stream",
     "name": "stdout",
     "text": [
      "2640 6956\n"
     ]
    },
    {
     "output_type": "execute_result",
     "data": {
      "text/plain": [
       "2640"
      ]
     },
     "metadata": {},
     "execution_count": 2114
    }
   ],
   "source": [
    "q='''select id as advisory_id,\n",
    "       case\n",
    "        when id in (select advisory_id from advisoryCVE) then 'cve'\n",
    "        else 'noncve'\n",
    "end as ifcve\n",
    "from advisory;'''\n",
    "ifcve = pd.DataFrame(sql.execute(q))\n",
    "print(len(df), len(ifcve))\n",
    "df= pd.merge(df, ifcve, on='advisory_id')\n",
    "len(df)"
   ]
  },
  {
   "cell_type": "code",
   "execution_count": 2115,
   "metadata": {},
   "outputs": [
    {
     "output_type": "stream",
     "name": "stdout",
     "text": [
      "2005 635\n"
     ]
    }
   ],
   "source": [
    "cve = df[df['ifcve']=='cve']\n",
    "noncve = df[df['ifcve']=='noncve']\n",
    "print(len(cve), len(noncve))"
   ]
  },
  {
   "cell_type": "code",
   "execution_count": 2116,
   "metadata": {},
   "outputs": [
    {
     "output_type": "execute_result",
     "data": {
      "text/plain": [
       "(count    2005.000000\n",
       " mean       26.752120\n",
       " std       109.322491\n",
       " min         0.000000\n",
       " 25%         0.000000\n",
       " 50%         4.000000\n",
       " 75%        18.000000\n",
       " max      2363.000000\n",
       " Name: fix_to_release_delay, dtype: float64,\n",
       " count     635.000000\n",
       " mean       44.225197\n",
       " std       131.527622\n",
       " min         0.000000\n",
       " 25%         0.000000\n",
       " 50%         4.000000\n",
       " 75%        27.000000\n",
       " max      1341.000000\n",
       " Name: fix_to_release_delay, dtype: float64)"
      ]
     },
     "metadata": {},
     "execution_count": 2116
    }
   ],
   "source": [
    "cve['fix_to_release_delay'].describe(), noncve['fix_to_release_delay'].describe()"
   ]
  },
  {
   "cell_type": "code",
   "execution_count": 2117,
   "metadata": {},
   "outputs": [
    {
     "output_type": "execute_result",
     "data": {
      "text/plain": [
       "MannwhitneyuResult(statistic=5148.0, pvalue=0.037741962492873204)"
      ]
     },
     "metadata": {},
     "execution_count": 2117
    }
   ],
   "source": [
    "mannwhitneyu(cve['fix_to_release_delay'],noncve['fix_to_release_delay'].describe())"
   ]
  },
  {
   "cell_type": "code",
   "execution_count": null,
   "metadata": {},
   "outputs": [],
   "source": []
  }
 ]
}