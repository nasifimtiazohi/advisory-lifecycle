{
 "metadata": {
  "language_info": {
   "codemirror_mode": {
    "name": "ipython",
    "version": 3
   },
   "file_extension": ".py",
   "mimetype": "text/x-python",
   "name": "python",
   "nbconvert_exporter": "python",
   "pygments_lexer": "ipython3",
   "version": "3.9.2-final"
  },
  "orig_nbformat": 2,
  "kernelspec": {
   "name": "python3",
   "display_name": "Python 3.9.2 64-bit ('advisory-lifecycle': pipenv)",
   "metadata": {
    "interpreter": {
     "hash": "45e6bb90db539892217150e51eb80500a9bf028439c0d739bd24c7b8d42327c6"
    }
   }
  }
 },
 "nbformat": 4,
 "nbformat_minor": 2,
 "cells": [
  {
   "cell_type": "code",
   "execution_count": 2,
   "metadata": {},
   "outputs": [],
   "source": [
    "import sys\n",
    "sys.path.append('..')\n",
    "import sql\n",
    "import pandas as pd\n",
    "from functools import reduce\n",
    "import datetime\n",
    "import matplotlib.pyplot as plt"
   ]
  },
  {
   "cell_type": "code",
   "execution_count": 13,
   "metadata": {},
   "outputs": [
    {
     "output_type": "execute_result",
     "data": {
      "text/plain": [
       "           advisory  package  non-cve\n",
       "ecosystem                            \n",
       "Composer         50       27       10\n",
       "Go               50       43       10\n",
       "Maven            50       42        7\n",
       "NuGet            50       18        4\n",
       "RubyGems         50       31        5\n",
       "npm              50       38       14\n",
       "pip              50       27        9"
      ],
      "text/html": "<div>\n<style scoped>\n    .dataframe tbody tr th:only-of-type {\n        vertical-align: middle;\n    }\n\n    .dataframe tbody tr th {\n        vertical-align: top;\n    }\n\n    .dataframe thead th {\n        text-align: right;\n    }\n</style>\n<table border=\"1\" class=\"dataframe\">\n  <thead>\n    <tr style=\"text-align: right;\">\n      <th></th>\n      <th>advisory</th>\n      <th>package</th>\n      <th>non-cve</th>\n    </tr>\n    <tr>\n      <th>ecosystem</th>\n      <th></th>\n      <th></th>\n      <th></th>\n    </tr>\n  </thead>\n  <tbody>\n    <tr>\n      <th>Composer</th>\n      <td>50</td>\n      <td>27</td>\n      <td>10</td>\n    </tr>\n    <tr>\n      <th>Go</th>\n      <td>50</td>\n      <td>43</td>\n      <td>10</td>\n    </tr>\n    <tr>\n      <th>Maven</th>\n      <td>50</td>\n      <td>42</td>\n      <td>7</td>\n    </tr>\n    <tr>\n      <th>NuGet</th>\n      <td>50</td>\n      <td>18</td>\n      <td>4</td>\n    </tr>\n    <tr>\n      <th>RubyGems</th>\n      <td>50</td>\n      <td>31</td>\n      <td>5</td>\n    </tr>\n    <tr>\n      <th>npm</th>\n      <td>50</td>\n      <td>38</td>\n      <td>14</td>\n    </tr>\n    <tr>\n      <th>pip</th>\n      <td>50</td>\n      <td>27</td>\n      <td>9</td>\n    </tr>\n  </tbody>\n</table>\n</div>"
     },
     "metadata": {},
     "execution_count": 13
    }
   ],
   "source": [
    "q= '''with rand_advisory as (\n",
    "    select distinct ecosystem, a.id as advisory_id,\n",
    "                row_number() over (partition by ecosystem order by rand()) as rand_sort\n",
    "    from fixing_releases fr\n",
    "    join advisory a on fr.advisory_id = a.id\n",
    "    join snykvuln.package p on a.package_id = p.id\n",
    "    left join advisoryCVE aC on a.id = aC.advisory_id\n",
    "    where year(publish_date) >= 2018\n",
    "        and ecosystem != 'cocoapods'\n",
    ")\n",
    "    select ecosystem, advisory_id, a.package_id,\n",
    "       case\n",
    "            when exists(select * from advisoryCVE aC where aC.advisory_id = ra.advisory_id)\n",
    "            then 'CVE'\n",
    "            else 'non-CVE'\n",
    "        end as if_cve\n",
    "    from rand_advisory ra\n",
    "    join snykvuln.advisory a on a.id = ra.advisory_id\n",
    "    where rand_sort <= 50;'''\n",
    "df = pd.DataFrame(sql.execute(q))\n",
    "advisory = df.groupby('ecosystem')[['advisory_id']].count()\n",
    "package = df.groupby('ecosystem')[['package_id']].nunique()\n",
    "noncve = (df.loc[df['if_cve']=='non-CVE']).groupby('ecosystem')[['advisory_id']].count()\n",
    "df=reduce(lambda x,y : pd.merge(x,y,on='ecosystem'),[advisory,package,noncve])\n",
    "df.columns = ['advisory', 'package', 'non-cve']\n",
    "df"
   ]
  },
  {
   "cell_type": "code",
   "execution_count": null,
   "metadata": {},
   "outputs": [],
   "source": [
    "# query used to extract random samples\n",
    "''' insert into manual_sample\n",
    "    with rand_cves as (\n",
    "    select ecosystem, a.id as advisory_id, p.id as package_id, a.type,\n",
    "           row_number() over (partition by ecosystem order by rand()) as rand_sample\n",
    "    from snykvuln.advisory a\n",
    "    join package p on a.package_id = p.id\n",
    "    where a.id in (select advisory_id from fixing_releases)\n",
    "    and year(publish_date) >= 2018\n",
    "            and ecosystem != 'cocoapods'\n",
    "        and a.id in (select distinct advisory_id from advisoryCVE)\n",
    "    ),\n",
    "    rand_noncves as (\n",
    "    select ecosystem, a.id as advisory_id, p.id as package_id, a.type,\n",
    "           row_number() over (partition by ecosystem order by rand()) as rand_sample\n",
    "    from snykvuln.advisory a\n",
    "    join package p on a.package_id = p.id\n",
    "    where a.id in (select advisory_id from fixing_releases)\n",
    "    and year(publish_date) >= 2018\n",
    "            and ecosystem != 'cocoapods'\n",
    "        and a.id not in (select distinct advisory_id from advisoryCVE)\n",
    "    )\n",
    "        select * from\n",
    "    (select ecosystem, advisory_id, package_id, type\n",
    "    from rand_cves\n",
    "    where rand_sample <=25\n",
    "    union\n",
    "    select ecosystem, advisory_id, package_id, type\n",
    "    from rand_noncves\n",
    "    where rand_sample <=25) as sub; '''"
   ]
  },
  {
   "cell_type": "code",
   "execution_count": 7,
   "metadata": {},
   "outputs": [
    {
     "output_type": "execute_result",
     "data": {
      "text/plain": [
       "           advisory  package  non-cve  type  releases\n",
       "ecosystem                                            \n",
       "Composer         50       30       54    22        98\n",
       "Go               50       49       29    25        67\n",
       "Maven            50       49       31    28        76\n",
       "NuGet            40       18       22    13        50\n",
       "RubyGems         39       32       17    21        54\n",
       "npm              50       44       28    20        70\n",
       "pip              50       45       25    33        64"
      ],
      "text/html": "<div>\n<style scoped>\n    .dataframe tbody tr th:only-of-type {\n        vertical-align: middle;\n    }\n\n    .dataframe tbody tr th {\n        vertical-align: top;\n    }\n\n    .dataframe thead th {\n        text-align: right;\n    }\n</style>\n<table border=\"1\" class=\"dataframe\">\n  <thead>\n    <tr style=\"text-align: right;\">\n      <th></th>\n      <th>advisory</th>\n      <th>package</th>\n      <th>non-cve</th>\n      <th>type</th>\n      <th>releases</th>\n    </tr>\n    <tr>\n      <th>ecosystem</th>\n      <th></th>\n      <th></th>\n      <th></th>\n      <th></th>\n      <th></th>\n    </tr>\n  </thead>\n  <tbody>\n    <tr>\n      <th>Composer</th>\n      <td>50</td>\n      <td>30</td>\n      <td>54</td>\n      <td>22</td>\n      <td>98</td>\n    </tr>\n    <tr>\n      <th>Go</th>\n      <td>50</td>\n      <td>49</td>\n      <td>29</td>\n      <td>25</td>\n      <td>67</td>\n    </tr>\n    <tr>\n      <th>Maven</th>\n      <td>50</td>\n      <td>49</td>\n      <td>31</td>\n      <td>28</td>\n      <td>76</td>\n    </tr>\n    <tr>\n      <th>NuGet</th>\n      <td>40</td>\n      <td>18</td>\n      <td>22</td>\n      <td>13</td>\n      <td>50</td>\n    </tr>\n    <tr>\n      <th>RubyGems</th>\n      <td>39</td>\n      <td>32</td>\n      <td>17</td>\n      <td>21</td>\n      <td>54</td>\n    </tr>\n    <tr>\n      <th>npm</th>\n      <td>50</td>\n      <td>44</td>\n      <td>28</td>\n      <td>20</td>\n      <td>70</td>\n    </tr>\n    <tr>\n      <th>pip</th>\n      <td>50</td>\n      <td>45</td>\n      <td>25</td>\n      <td>33</td>\n      <td>64</td>\n    </tr>\n  </tbody>\n</table>\n</div>"
     },
     "metadata": {},
     "execution_count": 7
    }
   ],
   "source": [
    "q='''select *,\n",
    "       case\n",
    "            when exists(select * from advisoryCVE aC where aC.advisory_id = ms.advisory_id)\n",
    "            then 'CVE'\n",
    "            else 'non-CVE'\n",
    "        end as if_cve\n",
    "from manual_sample ms\n",
    "join fixing_releases fr on ms.advisory_id = fr.advisory_id;'''\n",
    "df = pd.DataFrame(sql.execute(q))\n",
    "advisory = df.groupby('ecosystem')[['advisory_id']].nunique()\n",
    "package = df.groupby('ecosystem')[['package_id']].nunique()\n",
    "type = df.groupby('ecosystem')[['type']].nunique()\n",
    "noncve = (df.loc[df['if_cve']=='non-CVE']).groupby('ecosystem')[['advisory_id']].count()\n",
    "releases = df.groupby('ecosystem')[['advisory_id']].count()\n",
    "df=reduce(lambda x,y : pd.merge(x,y,on='ecosystem'),[advisory,package,noncve,type,releases])\n",
    "df.columns = ['advisory', 'package', 'non-cve','type','releases']\n",
    "df"
   ]
  },
  {
   "cell_type": "code",
   "execution_count": null,
   "metadata": {},
   "outputs": [],
   "source": []
  }
 ]
}