{
 "metadata": {
  "language_info": {
   "codemirror_mode": {
    "name": "ipython",
    "version": 3
   },
   "file_extension": ".py",
   "mimetype": "text/x-python",
   "name": "python",
   "nbconvert_exporter": "python",
   "pygments_lexer": "ipython3",
   "version": "3.9.2-final"
  },
  "orig_nbformat": 2,
  "kernelspec": {
   "name": "python392jvsc74a57bd045e6bb90db539892217150e51eb80500a9bf028439c0d739bd24c7b8d42327c6",
   "display_name": "Python 3.9.2 64-bit ('advisory-lifecycle': pipenv)"
  }
 },
 "nbformat": 4,
 "nbformat_minor": 2,
 "cells": [
  {
   "cell_type": "code",
   "execution_count": 107,
   "metadata": {},
   "outputs": [],
   "source": [
    "import sys\n",
    "sys.path.append('..')\n",
    "import sql\n",
    "import pandas as pd\n",
    "from functools import reduce\n",
    "from tabulate import tabulate\n",
    "import datetime\n",
    "import matplotlib.pyplot as plt"
   ]
  },
  {
   "cell_type": "code",
   "execution_count": 108,
   "metadata": {},
   "outputs": [
    {
     "output_type": "execute_result",
     "data": {
      "text/plain": [
       "           advisory  package  non-cve\n",
       "ecosystem                            \n",
       "Composer         50       27       14\n",
       "Go               50       43        7\n",
       "Maven            50       40        3\n",
       "NuGet            50       18        1\n",
       "RubyGems         50       30        7\n",
       "npm              50       44       21\n",
       "pip              50       27        6"
      ],
      "text/html": "<div>\n<style scoped>\n    .dataframe tbody tr th:only-of-type {\n        vertical-align: middle;\n    }\n\n    .dataframe tbody tr th {\n        vertical-align: top;\n    }\n\n    .dataframe thead th {\n        text-align: right;\n    }\n</style>\n<table border=\"1\" class=\"dataframe\">\n  <thead>\n    <tr style=\"text-align: right;\">\n      <th></th>\n      <th>advisory</th>\n      <th>package</th>\n      <th>non-cve</th>\n    </tr>\n    <tr>\n      <th>ecosystem</th>\n      <th></th>\n      <th></th>\n      <th></th>\n    </tr>\n  </thead>\n  <tbody>\n    <tr>\n      <th>Composer</th>\n      <td>50</td>\n      <td>27</td>\n      <td>14</td>\n    </tr>\n    <tr>\n      <th>Go</th>\n      <td>50</td>\n      <td>43</td>\n      <td>7</td>\n    </tr>\n    <tr>\n      <th>Maven</th>\n      <td>50</td>\n      <td>40</td>\n      <td>3</td>\n    </tr>\n    <tr>\n      <th>NuGet</th>\n      <td>50</td>\n      <td>18</td>\n      <td>1</td>\n    </tr>\n    <tr>\n      <th>RubyGems</th>\n      <td>50</td>\n      <td>30</td>\n      <td>7</td>\n    </tr>\n    <tr>\n      <th>npm</th>\n      <td>50</td>\n      <td>44</td>\n      <td>21</td>\n    </tr>\n    <tr>\n      <th>pip</th>\n      <td>50</td>\n      <td>27</td>\n      <td>6</td>\n    </tr>\n  </tbody>\n</table>\n</div>"
     },
     "metadata": {},
     "execution_count": 108
    }
   ],
   "source": [
    "q= '''with rand_advisory as (\n",
    "    select distinct ecosystem, a.id as advisory_id,\n",
    "                row_number() over (partition by ecosystem order by rand()) as rand_sort\n",
    "    from fixing_releases fr\n",
    "    join advisory a on fr.advisory_id = a.id\n",
    "    join snykvuln.package p on a.package_id = p.id\n",
    "    left join advisoryCVE aC on a.id = aC.advisory_id\n",
    "    where year(publish_date) >= 2018\n",
    "        and ecosystem != 'cocoapods'\n",
    ")\n",
    "    select ecosystem, advisory_id, a.package_id,\n",
    "       case\n",
    "            when exists(select * from advisoryCVE aC where aC.advisory_id = ra.advisory_id)\n",
    "            then 'CVE'\n",
    "            else 'non-CVE'\n",
    "        end as if_cve\n",
    "    from rand_advisory ra\n",
    "    join snykvuln.advisory a on a.id = ra.advisory_id\n",
    "    where rand_sort <= 50;'''\n",
    "df = pd.DataFrame(sql.execute(q))\n",
    "advisory = df.groupby('ecosystem')[['advisory_id']].count()\n",
    "package = df.groupby('ecosystem')[['package_id']].nunique()\n",
    "noncve = (df.loc[df['if_cve']=='non-CVE']).groupby('ecosystem')[['advisory_id']].count()\n",
    "df=reduce(lambda x,y : pd.merge(x,y,on='ecosystem'),[advisory,package,noncve])\n",
    "df.columns = ['advisory', 'package', 'non-cve']\n",
    "df"
   ]
  },
  {
   "cell_type": "code",
   "execution_count": 109,
   "metadata": {},
   "outputs": [
    {
     "output_type": "execute_result",
     "data": {
      "text/plain": [
       "\" insert into manual_sample\\n    with rand_cves as (\\n    select ecosystem, a.id as advisory_id, p.id as package_id, a.type,\\n           row_number() over (partition by ecosystem order by rand()) as rand_sample\\n    from snykvuln.advisory a\\n    join package p on a.package_id = p.id\\n    where a.id in (select advisory_id from fixing_releases)\\n    and year(publish_date) >= 2018\\n            and ecosystem != 'cocoapods'\\n        and a.id in (select distinct advisory_id from advisoryCVE)\\n    ),\\n    rand_noncves as (\\n    select ecosystem, a.id as advisory_id, p.id as package_id, a.type,\\n           row_number() over (partition by ecosystem order by rand()) as rand_sample\\n    from snykvuln.advisory a\\n    join package p on a.package_id = p.id\\n    where a.id in (select advisory_id from fixing_releases)\\n    and year(publish_date) >= 2018\\n            and ecosystem != 'cocoapods'\\n        and a.id not in (select distinct advisory_id from advisoryCVE)\\n    )\\n        select * from\\n    (select ecosystem, advisory_id, package_id, type\\n    from rand_cves\\n    where rand_sample <=25\\n    union\\n    select ecosystem, advisory_id, package_id, type\\n    from rand_noncves\\n    where rand_sample <=25) as sub; \""
      ]
     },
     "metadata": {},
     "execution_count": 109
    }
   ],
   "source": [
    "# query used to extract random samples\n",
    "''' insert into manual_sample\n",
    "    with rand_cves as (\n",
    "    select ecosystem, a.id as advisory_id, p.id as package_id, a.type,\n",
    "           row_number() over (partition by ecosystem order by rand()) as rand_sample\n",
    "    from snykvuln.advisory a\n",
    "    join package p on a.package_id = p.id\n",
    "    where a.id in (select advisory_id from fixing_releases)\n",
    "    and year(publish_date) >= 2018\n",
    "            and ecosystem != 'cocoapods'\n",
    "        and a.id in (select distinct advisory_id from advisoryCVE)\n",
    "    ),\n",
    "    rand_noncves as (\n",
    "    select ecosystem, a.id as advisory_id, p.id as package_id, a.type,\n",
    "           row_number() over (partition by ecosystem order by rand()) as rand_sample\n",
    "    from snykvuln.advisory a\n",
    "    join package p on a.package_id = p.id\n",
    "    where a.id in (select advisory_id from fixing_releases)\n",
    "    and year(publish_date) >= 2018\n",
    "            and ecosystem != 'cocoapods'\n",
    "        and a.id not in (select distinct advisory_id from advisoryCVE)\n",
    "    )\n",
    "        select * from\n",
    "    (select ecosystem, advisory_id, package_id, type\n",
    "    from rand_cves\n",
    "    where rand_sample <=25\n",
    "    union\n",
    "    select ecosystem, advisory_id, package_id, type\n",
    "    from rand_noncves\n",
    "    where rand_sample <=25) as sub; '''"
   ]
  },
  {
   "cell_type": "code",
   "execution_count": 110,
   "metadata": {},
   "outputs": [
    {
     "output_type": "execute_result",
     "data": {
      "text/plain": [
       "           advisory  package  non-cve  type  releases\n",
       "ecosystem                                            \n",
       "Composer         50       30       25    22        98\n",
       "Go               50       49       25    25        67\n",
       "Maven            50       49       25    28        76\n",
       "NuGet            40       18       15    13        50\n",
       "RubyGems         39       32       14    21        54\n",
       "npm              50       44       25    20        70\n",
       "pip              50       45       25    33        64"
      ],
      "text/html": "<div>\n<style scoped>\n    .dataframe tbody tr th:only-of-type {\n        vertical-align: middle;\n    }\n\n    .dataframe tbody tr th {\n        vertical-align: top;\n    }\n\n    .dataframe thead th {\n        text-align: right;\n    }\n</style>\n<table border=\"1\" class=\"dataframe\">\n  <thead>\n    <tr style=\"text-align: right;\">\n      <th></th>\n      <th>advisory</th>\n      <th>package</th>\n      <th>non-cve</th>\n      <th>type</th>\n      <th>releases</th>\n    </tr>\n    <tr>\n      <th>ecosystem</th>\n      <th></th>\n      <th></th>\n      <th></th>\n      <th></th>\n      <th></th>\n    </tr>\n  </thead>\n  <tbody>\n    <tr>\n      <th>Composer</th>\n      <td>50</td>\n      <td>30</td>\n      <td>25</td>\n      <td>22</td>\n      <td>98</td>\n    </tr>\n    <tr>\n      <th>Go</th>\n      <td>50</td>\n      <td>49</td>\n      <td>25</td>\n      <td>25</td>\n      <td>67</td>\n    </tr>\n    <tr>\n      <th>Maven</th>\n      <td>50</td>\n      <td>49</td>\n      <td>25</td>\n      <td>28</td>\n      <td>76</td>\n    </tr>\n    <tr>\n      <th>NuGet</th>\n      <td>40</td>\n      <td>18</td>\n      <td>15</td>\n      <td>13</td>\n      <td>50</td>\n    </tr>\n    <tr>\n      <th>RubyGems</th>\n      <td>39</td>\n      <td>32</td>\n      <td>14</td>\n      <td>21</td>\n      <td>54</td>\n    </tr>\n    <tr>\n      <th>npm</th>\n      <td>50</td>\n      <td>44</td>\n      <td>25</td>\n      <td>20</td>\n      <td>70</td>\n    </tr>\n    <tr>\n      <th>pip</th>\n      <td>50</td>\n      <td>45</td>\n      <td>25</td>\n      <td>33</td>\n      <td>64</td>\n    </tr>\n  </tbody>\n</table>\n</div>"
     },
     "metadata": {},
     "execution_count": 110
    }
   ],
   "source": [
    "q='''select *,\n",
    "       case\n",
    "            when exists(select * from advisoryCVE aC where aC.advisory_id = ms.advisory_id)\n",
    "            then 'CVE'\n",
    "            else 'non-CVE'\n",
    "        end as if_cve\n",
    "from manual_sample ms\n",
    "join fixing_releases fr on ms.advisory_id = fr.advisory_id;'''\n",
    "df = pd.DataFrame(sql.execute(q))\n",
    "total_types= df['type'].nunique()\n",
    "advisory = df.groupby('ecosystem')[['advisory_id']].nunique()\n",
    "package = df.groupby('ecosystem')[['package_id']].nunique()\n",
    "type = df.groupby('ecosystem')[['type']].nunique()\n",
    "noncve = (df.loc[df['if_cve']=='non-CVE']).groupby('ecosystem')[['advisory_id']].nunique()\n",
    "releases = df.groupby('ecosystem')[['advisory_id']].count()\n",
    "df=reduce(lambda x,y : pd.merge(x,y,on='ecosystem'),[advisory,package,noncve,type,releases])\n",
    "df.columns = ['advisory', 'package', 'non-cve','type','releases']\n",
    "df"
   ]
  },
  {
   "cell_type": "code",
   "execution_count": 111,
   "metadata": {},
   "outputs": [],
   "source": [
    "df = df.reset_index()\n",
    "df =df.drop(['type'],axis=1)"
   ]
  },
  {
   "cell_type": "code",
   "execution_count": 112,
   "metadata": {},
   "outputs": [
    {
     "output_type": "execute_result",
     "data": {
      "text/plain": [
       "           cwe\n",
       "ecosystem     \n",
       "Composer    18\n",
       "Go          25\n",
       "Maven       25\n",
       "NuGet       13\n",
       "RubyGems    16\n",
       "npm         18\n",
       "pip         31"
      ],
      "text/html": "<div>\n<style scoped>\n    .dataframe tbody tr th:only-of-type {\n        vertical-align: middle;\n    }\n\n    .dataframe tbody tr th {\n        vertical-align: top;\n    }\n\n    .dataframe thead th {\n        text-align: right;\n    }\n</style>\n<table border=\"1\" class=\"dataframe\">\n  <thead>\n    <tr style=\"text-align: right;\">\n      <th></th>\n      <th>cwe</th>\n    </tr>\n    <tr>\n      <th>ecosystem</th>\n      <th></th>\n    </tr>\n  </thead>\n  <tbody>\n    <tr>\n      <th>Composer</th>\n      <td>18</td>\n    </tr>\n    <tr>\n      <th>Go</th>\n      <td>25</td>\n    </tr>\n    <tr>\n      <th>Maven</th>\n      <td>25</td>\n    </tr>\n    <tr>\n      <th>NuGet</th>\n      <td>13</td>\n    </tr>\n    <tr>\n      <th>RubyGems</th>\n      <td>16</td>\n    </tr>\n    <tr>\n      <th>npm</th>\n      <td>18</td>\n    </tr>\n    <tr>\n      <th>pip</th>\n      <td>31</td>\n    </tr>\n  </tbody>\n</table>\n</div>"
     },
     "metadata": {},
     "execution_count": 112
    }
   ],
   "source": [
    "q = '''select p.ecosystem, ac.cwe as cwe\n",
    "from manual_sample ms\n",
    "join advisoryCWE aC on ms.advisory_id = aC.advisory_id\n",
    "join advisory a on aC.advisory_id = a.id\n",
    "join package p on a.package_id = p.id;'''\n",
    "cwe = pd.DataFrame(sql.execute(q))\n",
    "total_cwes = cwe['cwe'].nunique()\n",
    "cwe = cwe.groupby('ecosystem')[['cwe']].nunique()\n",
    "cwe"
   ]
  },
  {
   "cell_type": "code",
   "execution_count": 113,
   "metadata": {},
   "outputs": [
    {
     "output_type": "execute_result",
     "data": {
      "text/plain": [
       "  ecosystem  advisory  package  non-cve  releases  cwe\n",
       "0  Composer        50       30       25        98   18\n",
       "1        Go        50       49       25        67   25\n",
       "2     Maven        50       49       25        76   25\n",
       "3     NuGet        40       18       15        50   13\n",
       "4  RubyGems        39       32       14        54   16\n",
       "5       npm        50       44       25        70   18\n",
       "6       pip        50       45       25        64   31"
      ],
      "text/html": "<div>\n<style scoped>\n    .dataframe tbody tr th:only-of-type {\n        vertical-align: middle;\n    }\n\n    .dataframe tbody tr th {\n        vertical-align: top;\n    }\n\n    .dataframe thead th {\n        text-align: right;\n    }\n</style>\n<table border=\"1\" class=\"dataframe\">\n  <thead>\n    <tr style=\"text-align: right;\">\n      <th></th>\n      <th>ecosystem</th>\n      <th>advisory</th>\n      <th>package</th>\n      <th>non-cve</th>\n      <th>releases</th>\n      <th>cwe</th>\n    </tr>\n  </thead>\n  <tbody>\n    <tr>\n      <th>0</th>\n      <td>Composer</td>\n      <td>50</td>\n      <td>30</td>\n      <td>25</td>\n      <td>98</td>\n      <td>18</td>\n    </tr>\n    <tr>\n      <th>1</th>\n      <td>Go</td>\n      <td>50</td>\n      <td>49</td>\n      <td>25</td>\n      <td>67</td>\n      <td>25</td>\n    </tr>\n    <tr>\n      <th>2</th>\n      <td>Maven</td>\n      <td>50</td>\n      <td>49</td>\n      <td>25</td>\n      <td>76</td>\n      <td>25</td>\n    </tr>\n    <tr>\n      <th>3</th>\n      <td>NuGet</td>\n      <td>40</td>\n      <td>18</td>\n      <td>15</td>\n      <td>50</td>\n      <td>13</td>\n    </tr>\n    <tr>\n      <th>4</th>\n      <td>RubyGems</td>\n      <td>39</td>\n      <td>32</td>\n      <td>14</td>\n      <td>54</td>\n      <td>16</td>\n    </tr>\n    <tr>\n      <th>5</th>\n      <td>npm</td>\n      <td>50</td>\n      <td>44</td>\n      <td>25</td>\n      <td>70</td>\n      <td>18</td>\n    </tr>\n    <tr>\n      <th>6</th>\n      <td>pip</td>\n      <td>50</td>\n      <td>45</td>\n      <td>25</td>\n      <td>64</td>\n      <td>31</td>\n    </tr>\n  </tbody>\n</table>\n</div>"
     },
     "metadata": {},
     "execution_count": 113
    }
   ],
   "source": [
    "df=reduce(lambda x,y : pd.merge(x,y,on='ecosystem'),[df, cwe])\n",
    "df"
   ]
  },
  {
   "cell_type": "code",
   "execution_count": 114,
   "metadata": {},
   "outputs": [
    {
     "output_type": "execute_result",
     "data": {
      "text/plain": [
       "  ecosystem  advisory  package  non-cve  releases  cwe\n",
       "0  Composer        50       30       25        98   18\n",
       "1        Go        50       49       25        67   25\n",
       "2     Maven        50       49       25        76   25\n",
       "3     NuGet        40       18       15        50   13\n",
       "4  RubyGems        39       32       14        54   16\n",
       "5       npm        50       44       25        70   18\n",
       "6       pip        50       45       25        64   31\n",
       "7     Total       329      267        7       479   67"
      ],
      "text/html": "<div>\n<style scoped>\n    .dataframe tbody tr th:only-of-type {\n        vertical-align: middle;\n    }\n\n    .dataframe tbody tr th {\n        vertical-align: top;\n    }\n\n    .dataframe thead th {\n        text-align: right;\n    }\n</style>\n<table border=\"1\" class=\"dataframe\">\n  <thead>\n    <tr style=\"text-align: right;\">\n      <th></th>\n      <th>ecosystem</th>\n      <th>advisory</th>\n      <th>package</th>\n      <th>non-cve</th>\n      <th>releases</th>\n      <th>cwe</th>\n    </tr>\n  </thead>\n  <tbody>\n    <tr>\n      <th>0</th>\n      <td>Composer</td>\n      <td>50</td>\n      <td>30</td>\n      <td>25</td>\n      <td>98</td>\n      <td>18</td>\n    </tr>\n    <tr>\n      <th>1</th>\n      <td>Go</td>\n      <td>50</td>\n      <td>49</td>\n      <td>25</td>\n      <td>67</td>\n      <td>25</td>\n    </tr>\n    <tr>\n      <th>2</th>\n      <td>Maven</td>\n      <td>50</td>\n      <td>49</td>\n      <td>25</td>\n      <td>76</td>\n      <td>25</td>\n    </tr>\n    <tr>\n      <th>3</th>\n      <td>NuGet</td>\n      <td>40</td>\n      <td>18</td>\n      <td>15</td>\n      <td>50</td>\n      <td>13</td>\n    </tr>\n    <tr>\n      <th>4</th>\n      <td>RubyGems</td>\n      <td>39</td>\n      <td>32</td>\n      <td>14</td>\n      <td>54</td>\n      <td>16</td>\n    </tr>\n    <tr>\n      <th>5</th>\n      <td>npm</td>\n      <td>50</td>\n      <td>44</td>\n      <td>25</td>\n      <td>70</td>\n      <td>18</td>\n    </tr>\n    <tr>\n      <th>6</th>\n      <td>pip</td>\n      <td>50</td>\n      <td>45</td>\n      <td>25</td>\n      <td>64</td>\n      <td>31</td>\n    </tr>\n    <tr>\n      <th>7</th>\n      <td>Total</td>\n      <td>329</td>\n      <td>267</td>\n      <td>7</td>\n      <td>479</td>\n      <td>67</td>\n    </tr>\n  </tbody>\n</table>\n</div>"
     },
     "metadata": {},
     "execution_count": 114
    }
   ],
   "source": [
    "df.loc[len(df)] = ['Total', df['advisory'].sum(), df['package'].sum(), df['non-cve'].count(),  df['releases'].sum(), total_cwes]\n",
    "df"
   ]
  },
  {
   "cell_type": "code",
   "execution_count": 115,
   "metadata": {},
   "outputs": [
    {
     "output_type": "execute_result",
     "data": {
      "text/plain": [
       "(           id  L\n",
       " ecosystem       \n",
       " Go          4  4\n",
       " Maven       8  8\n",
       " NuGet       2  2\n",
       " npm         6  6\n",
       " pip         4  4,\n",
       "            id   M\n",
       " ecosystem        \n",
       " Composer   29  29\n",
       " Go         28  28\n",
       " Maven      23  23\n",
       " NuGet      15  15\n",
       " RubyGems   24  24\n",
       " npm        17  17\n",
       " pip        32  32,\n",
       "            id   H\n",
       " ecosystem        \n",
       " Composer   21  21\n",
       " Go         18  18\n",
       " Maven      19  19\n",
       " NuGet      23  23\n",
       " RubyGems   15  15\n",
       " npm        27  27\n",
       " pip        14  14)"
      ]
     },
     "metadata": {},
     "execution_count": 115
    }
   ],
   "source": [
    "q = '''select distinct a.id, p.ecosystem, a.severity\n",
    "from manual_sample ms\n",
    "join advisoryCWE aC on ms.advisory_id = aC.advisory_id\n",
    "join advisory a on aC.advisory_id = a.id\n",
    "join package p on a.package_id = p.id;;'''\n",
    "sev = pd.DataFrame(sql.execute(q))\n",
    "#this code is wrong. Replace this style with categorical count\n",
    "l, m, h = sev[sev['severity']=='L'],sev[sev['severity']=='M'],sev[sev['severity']=='H']\n",
    "eco_l = l.groupby('ecosystem').agg(lambda x: x.ne(0).sum())\n",
    "eco_l = eco_l.rename(columns={'severity':'L'})\n",
    "eco_m = m.groupby('ecosystem').agg(lambda x: x.ne(0).sum())\n",
    "eco_m = eco_m.rename(columns={'severity':'M'})\n",
    "eco_h = h.groupby('ecosystem').agg(lambda x: x.ne(0).sum())\n",
    "eco_h = eco_h.rename(columns={'severity':'H'})\n",
    "eco_l, eco_m, eco_h\n",
    "# sf=reduce(lambda x,y : pd.merge(x,y,on='ecosystem'),[eco_l, eco_m, eco_h])\n",
    "# sf = sf.reset_index()\n",
    "# l,m,h = len(l), len(m), len(h)\n",
    "# sf.loc[len(df)] = ['Total',l,m,h]\n",
    "# sf['T'] = sf.L + sf.M + sf.H\n",
    "# sf['L'] = round(sf['L'] / sf['T'],2)\n",
    "# sf['M'] = round(sf['M'] / sf['T'],2)\n",
    "# sf['H'] = round(sf['H'] / sf['T'],2)\n",
    "# sf['severity'] = sf[['L','M','H']].apply(tuple, axis=1)\n",
    "# sf = sf.drop(['L','M','H','T'], axis=1)\n",
    "# sf"
   ]
  },
  {
   "cell_type": "code",
   "execution_count": 116,
   "metadata": {},
   "outputs": [
    {
     "output_type": "stream",
     "name": "stdout",
     "text": [
      "\\begin{tabular}{lrrrrr}\n\\hline\n ecosystem   &   advisory &   package &   non-cve &   releases &   cwe \\\\\n\\hline\n Composer    &         50 &        30 &        25 &         98 &    18 \\\\\n Go          &         50 &        49 &        25 &         67 &    25 \\\\\n Maven       &         50 &        49 &        25 &         76 &    25 \\\\\n NuGet       &         40 &        18 &        15 &         50 &    13 \\\\\n RubyGems    &         39 &        32 &        14 &         54 &    16 \\\\\n npm         &         50 &        44 &        25 &         70 &    18 \\\\\n pip         &         50 &        45 &        25 &         64 &    31 \\\\\n Total       &        329 &       267 &         7 &        479 &    67 \\\\\n\\hline\n\\end{tabular}\n"
     ]
    }
   ],
   "source": [
    "print(tabulate(df, tablefmt='latex', headers='keys',showindex=False))"
   ]
  },
  {
   "cell_type": "code",
   "execution_count": null,
   "metadata": {},
   "outputs": [],
   "source": []
  }
 ]
}