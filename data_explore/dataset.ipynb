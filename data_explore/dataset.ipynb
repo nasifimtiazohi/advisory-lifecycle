{
 "metadata": {
  "language_info": {
   "codemirror_mode": {
    "name": "ipython",
    "version": 3
   },
   "file_extension": ".py",
   "mimetype": "text/x-python",
   "name": "python",
   "nbconvert_exporter": "python",
   "pygments_lexer": "ipython3",
   "version": "3.9.7"
  },
  "orig_nbformat": 2,
  "kernelspec": {
   "name": "python3",
   "display_name": "Python 3.9.7 64-bit ('advisory-lifecycle-RDwwAgfI': venv)"
  },
  "metadata": {
   "interpreter": {
    "hash": "aee8b7b246df8f9039afb4144a1f6fd8d2ca17a180786b69acc140d282b71a49"
   }
  },
  "interpreter": {
   "hash": "45e6bb90db539892217150e51eb80500a9bf028439c0d739bd24c7b8d42327c6"
  }
 },
 "nbformat": 4,
 "nbformat_minor": 2,
 "cells": [
  {
   "cell_type": "code",
   "execution_count": 257,
   "source": [
    "import sys\n",
    "import sql\n",
    "import pandas as pd\n",
    "from functools import reduce\n",
    "from tabulate import tabulate\n",
    "import datetime\n",
    "import matplotlib.pyplot as plt\n",
    "import seaborn as sns\n",
    "norepo = 'no repository listed'\n",
    "manualcheckup = 'manual checkup needed'\n",
    "notgit = 'not git'"
   ],
   "outputs": [],
   "metadata": {}
  },
  {
   "cell_type": "code",
   "execution_count": 258,
   "source": [
    "q= 'select * from advisory'\n",
    "df = pd.DataFrame(sql.execute(q))\n",
    "len(df)"
   ],
   "outputs": [
    {
     "output_type": "execute_result",
     "data": {
      "text/plain": [
       "6956"
      ]
     },
     "metadata": {},
     "execution_count": 258
    }
   ],
   "metadata": {}
  },
  {
   "cell_type": "code",
   "execution_count": 259,
   "source": [
    "q= ''' select * from advisory where type = 'Malicious Package' '''\n",
    "df = pd.DataFrame(sql.execute(q))\n",
    "len(df)"
   ],
   "outputs": [
    {
     "output_type": "execute_result",
     "data": {
      "text/plain": [
       "589"
      ]
     },
     "metadata": {},
     "execution_count": 259
    }
   ],
   "metadata": {}
  },
  {
   "cell_type": "code",
   "execution_count": 260,
   "source": [
    "q = '''select *\n",
    "from advisory a\n",
    "join package p on a.package_id = p.id\n",
    "where type != 'Malicious Package'\n",
    "and ecosystem = 'cocoapods' '''\n",
    "df = pd.DataFrame(sql.execute(q))\n",
    "len(df), df['id'].nunique(), df['p.id'].nunique()"
   ],
   "outputs": [
    {
     "output_type": "execute_result",
     "data": {
      "text/plain": [
       "(358, 358, 37)"
      ]
     },
     "metadata": {},
     "execution_count": 260
    }
   ],
   "metadata": {}
  },
  {
   "cell_type": "code",
   "execution_count": 261,
   "source": [
    "q= '''select distinct advisory_id, p.id as package_id, version\n",
    "from fixing_releases fr\n",
    "join advisory a on fr.advisory_id = a.id\n",
    "join package p on a.package_id = p.id\n",
    "where ecosystem != 'cocoapods'\n",
    "and type != 'Malicious Package'\n",
    "and version != %s;'''\n",
    "df = pd.DataFrame(sql.execute(q, (manualcheckup,)))\n",
    "len(df), df['advisory_id'].nunique()"
   ],
   "outputs": [
    {
     "output_type": "execute_result",
     "data": {
      "text/plain": [
       "(7083, 4776)"
      ]
     },
     "metadata": {},
     "execution_count": 261
    }
   ],
   "metadata": {}
  },
  {
   "cell_type": "code",
   "execution_count": 262,
   "source": [
    "q= '''select distinct advisory_id\n",
    "from advisory a\n",
    "join fixing_releases fr on a.id = fr.advisory_id\n",
    "join package p on a.package_id = p.id\n",
    "and ecosystem != 'cocoapods'\n",
    "and version = 'manual checkup needed'\n",
    "and advisory_id not in\n",
    "(select distinct advisory_id\n",
    "from advisory a\n",
    "join fixing_releases fr on a.id = fr.advisory_id\n",
    "join package p on a.package_id = p.id\n",
    "and ecosystem != 'cocoapods'\n",
    "and version != 'manual checkup needed')'''\n",
    "df = pd.DataFrame(sql.execute(q))\n",
    "df['advisory_id'].nunique()"
   ],
   "outputs": [
    {
     "output_type": "execute_result",
     "data": {
      "text/plain": [
       "102"
      ]
     },
     "metadata": {},
     "execution_count": 262
    }
   ],
   "metadata": {}
  },
  {
   "cell_type": "code",
   "execution_count": 263,
   "source": [
    "q = '''select *\n",
    "from advisory a\n",
    "join package p on a.package_id = p.id\n",
    "where type != 'Malicious Package'\n",
    "and ecosystem != 'cocoapods'\n",
    "and a.id not in\n",
    "(select advisory_id from fixing_releases)'''\n",
    "df = pd.DataFrame(sql.execute(q))\n",
    "len(df), df['id'].nunique()"
   ],
   "outputs": [
    {
     "output_type": "execute_result",
     "data": {
      "text/plain": [
       "(1131, 1131)"
      ]
     },
     "metadata": {},
     "execution_count": 263
    }
   ],
   "metadata": {}
  },
  {
   "cell_type": "code",
   "execution_count": 264,
   "source": [
    "q= '''select distinct advisory_id, p.id as package_id, version\n",
    "from fixing_releases fr\n",
    "join advisory a on fr.advisory_id = a.id\n",
    "join package p on a.package_id = p.id\n",
    "where ecosystem != 'cocoapods'\n",
    "and type != 'Malicious Package'\n",
    "and version != %s\n",
    "and repository_url = %s'''\n",
    "df = pd.DataFrame(sql.execute(q, (manualcheckup, norepo)))\n",
    "len(df), df['package_id'].nunique(), df['advisory_id'].nunique()"
   ],
   "outputs": [
    {
     "output_type": "execute_result",
     "data": {
      "text/plain": [
       "(518, 300, 399)"
      ]
     },
     "metadata": {},
     "execution_count": 264
    }
   ],
   "metadata": {}
  },
  {
   "cell_type": "code",
   "execution_count": 265,
   "source": [
    "q='''select  package_id, version, count(distinct advisory_id) as c\n",
    "from advisory a\n",
    "join package p on a.package_id = p.id\n",
    "join fixing_releases fr on a.id = fr.advisory_id\n",
    "where type != 'Malicious Package'\n",
    "and version != 'manual checkup needed'\n",
    "and ecosystem != 'cocoapods'\n",
    "and repository_url != 'no repository listed'\n",
    "group by package_id, version;'''\n",
    "df = pd.DataFrame(sql.execute(q))\n",
    "morethanone= df[df['c']>1]\n",
    "df['c'].median(), len(df), len(morethanone)"
   ],
   "outputs": [
    {
     "output_type": "execute_result",
     "data": {
      "text/plain": [
       "(1.0, 4812, 738)"
      ]
     },
     "metadata": {},
     "execution_count": 265
    }
   ],
   "metadata": {}
  },
  {
   "cell_type": "code",
   "execution_count": 266,
   "source": [
    "q='''select t1.ecosystem as ecosystem, advisories, advisory_with_CVEs, packages, fixing_releases\n",
    "from\n",
    "(select ecosystem, count(distinct a.id) as advisories, count(distinct p.id) as packages, count(distinct package_id, version) as fixing_releases\n",
    "from advisory a\n",
    "join package p on a.package_id = p.id\n",
    "join fixing_releases fr on a.id = fr.advisory_id\n",
    "where type != 'Malicious Package'\n",
    "and version != 'manual checkup needed'\n",
    "and ecosystem != 'cocoapods'\n",
    "and repository_url != 'no repository listed'\n",
    "group by ecosystem) as t1\n",
    "join\n",
    "(select ecosystem, count(distinct a.id) as advisory_with_CVEs\n",
    "from advisoryCVE aC\n",
    "join advisory a on aC.advisory_id = a.id\n",
    "join fixing_releases fr on a.id = fr.advisory_id\n",
    "join package p on a.package_id = p.id\n",
    "where type != 'Malicious Package'\n",
    "and version != 'manual checkup needed'\n",
    "and ecosystem != 'cocoapods'\n",
    "and repository_url != 'no repository listed'\n",
    "group by ecosystem) as t2\n",
    "on t1.ecosystem = t2.ecosystem\n",
    "order by ecosystem asc;'''\n",
    "df = pd.DataFrame(sql.execute(q))"
   ],
   "outputs": [],
   "metadata": {}
  },
  {
   "cell_type": "code",
   "execution_count": 267,
   "source": [
    "df"
   ],
   "outputs": [
    {
     "output_type": "execute_result",
     "data": {
      "text/html": [
       "<div>\n",
       "<style scoped>\n",
       "    .dataframe tbody tr th:only-of-type {\n",
       "        vertical-align: middle;\n",
       "    }\n",
       "\n",
       "    .dataframe tbody tr th {\n",
       "        vertical-align: top;\n",
       "    }\n",
       "\n",
       "    .dataframe thead th {\n",
       "        text-align: right;\n",
       "    }\n",
       "</style>\n",
       "<table border=\"1\" class=\"dataframe\">\n",
       "  <thead>\n",
       "    <tr style=\"text-align: right;\">\n",
       "      <th></th>\n",
       "      <th>ecosystem</th>\n",
       "      <th>advisories</th>\n",
       "      <th>advisory_with_CVEs</th>\n",
       "      <th>packages</th>\n",
       "      <th>fixing_releases</th>\n",
       "    </tr>\n",
       "  </thead>\n",
       "  <tbody>\n",
       "    <tr>\n",
       "      <th>0</th>\n",
       "      <td>Composer</td>\n",
       "      <td>855</td>\n",
       "      <td>599</td>\n",
       "      <td>228</td>\n",
       "      <td>976</td>\n",
       "    </tr>\n",
       "    <tr>\n",
       "      <th>1</th>\n",
       "      <td>Go</td>\n",
       "      <td>235</td>\n",
       "      <td>190</td>\n",
       "      <td>183</td>\n",
       "      <td>293</td>\n",
       "    </tr>\n",
       "    <tr>\n",
       "      <th>2</th>\n",
       "      <td>Maven</td>\n",
       "      <td>1374</td>\n",
       "      <td>1132</td>\n",
       "      <td>694</td>\n",
       "      <td>1607</td>\n",
       "    </tr>\n",
       "    <tr>\n",
       "      <th>3</th>\n",
       "      <td>npm</td>\n",
       "      <td>792</td>\n",
       "      <td>474</td>\n",
       "      <td>540</td>\n",
       "      <td>858</td>\n",
       "    </tr>\n",
       "    <tr>\n",
       "      <th>4</th>\n",
       "      <td>NuGet</td>\n",
       "      <td>333</td>\n",
       "      <td>277</td>\n",
       "      <td>92</td>\n",
       "      <td>233</td>\n",
       "    </tr>\n",
       "    <tr>\n",
       "      <th>5</th>\n",
       "      <td>pip</td>\n",
       "      <td>567</td>\n",
       "      <td>404</td>\n",
       "      <td>269</td>\n",
       "      <td>534</td>\n",
       "    </tr>\n",
       "    <tr>\n",
       "      <th>6</th>\n",
       "      <td>RubyGems</td>\n",
       "      <td>221</td>\n",
       "      <td>168</td>\n",
       "      <td>121</td>\n",
       "      <td>311</td>\n",
       "    </tr>\n",
       "  </tbody>\n",
       "</table>\n",
       "</div>"
      ],
      "text/plain": [
       "  ecosystem  advisories  advisory_with_CVEs  packages  fixing_releases\n",
       "0  Composer         855                 599       228              976\n",
       "1        Go         235                 190       183              293\n",
       "2     Maven        1374                1132       694             1607\n",
       "3       npm         792                 474       540              858\n",
       "4     NuGet         333                 277        92              233\n",
       "5       pip         567                 404       269              534\n",
       "6  RubyGems         221                 168       121              311"
      ]
     },
     "metadata": {},
     "execution_count": 267
    }
   ],
   "metadata": {}
  },
  {
   "cell_type": "code",
   "execution_count": 268,
   "source": [
    "q = '''select ecosystem, ac.cwe as cwe\n",
    "from advisory a\n",
    "join package p on a.package_id = p.id\n",
    "join fixing_releases fr on a.id = fr.advisory_id\n",
    "join advisoryCWE aC on a.id = aC.advisory_id\n",
    "where type != 'Malicious Package'\n",
    "and version != 'manual checkup needed'\n",
    "and ecosystem != 'cocoapods'\n",
    "and repository_url != 'no repository listed';'''\n",
    "cwe = pd.DataFrame(sql.execute(q))\n",
    "total_cwes = cwe['cwe'].nunique()\n",
    "cwe = cwe.groupby('ecosystem')[['cwe']].nunique()\n",
    "cwe\n"
   ],
   "outputs": [
    {
     "output_type": "execute_result",
     "data": {
      "text/html": [
       "<div>\n",
       "<style scoped>\n",
       "    .dataframe tbody tr th:only-of-type {\n",
       "        vertical-align: middle;\n",
       "    }\n",
       "\n",
       "    .dataframe tbody tr th {\n",
       "        vertical-align: top;\n",
       "    }\n",
       "\n",
       "    .dataframe thead th {\n",
       "        text-align: right;\n",
       "    }\n",
       "</style>\n",
       "<table border=\"1\" class=\"dataframe\">\n",
       "  <thead>\n",
       "    <tr style=\"text-align: right;\">\n",
       "      <th></th>\n",
       "      <th>cwe</th>\n",
       "    </tr>\n",
       "    <tr>\n",
       "      <th>ecosystem</th>\n",
       "      <th></th>\n",
       "    </tr>\n",
       "  </thead>\n",
       "  <tbody>\n",
       "    <tr>\n",
       "      <th>Composer</th>\n",
       "      <td>68</td>\n",
       "    </tr>\n",
       "    <tr>\n",
       "      <th>Go</th>\n",
       "      <td>50</td>\n",
       "    </tr>\n",
       "    <tr>\n",
       "      <th>Maven</th>\n",
       "      <td>112</td>\n",
       "    </tr>\n",
       "    <tr>\n",
       "      <th>NuGet</th>\n",
       "      <td>34</td>\n",
       "    </tr>\n",
       "    <tr>\n",
       "      <th>RubyGems</th>\n",
       "      <td>47</td>\n",
       "    </tr>\n",
       "    <tr>\n",
       "      <th>npm</th>\n",
       "      <td>82</td>\n",
       "    </tr>\n",
       "    <tr>\n",
       "      <th>pip</th>\n",
       "      <td>84</td>\n",
       "    </tr>\n",
       "  </tbody>\n",
       "</table>\n",
       "</div>"
      ],
      "text/plain": [
       "           cwe\n",
       "ecosystem     \n",
       "Composer    68\n",
       "Go          50\n",
       "Maven      112\n",
       "NuGet       34\n",
       "RubyGems    47\n",
       "npm         82\n",
       "pip         84"
      ]
     },
     "metadata": {},
     "execution_count": 268
    }
   ],
   "metadata": {}
  },
  {
   "cell_type": "code",
   "execution_count": 269,
   "source": [
    "df=reduce(lambda x,y : pd.merge(x,y,on='ecosystem'),[df, cwe])\n",
    "df.reset_index()\n",
    "df"
   ],
   "outputs": [
    {
     "output_type": "execute_result",
     "data": {
      "text/html": [
       "<div>\n",
       "<style scoped>\n",
       "    .dataframe tbody tr th:only-of-type {\n",
       "        vertical-align: middle;\n",
       "    }\n",
       "\n",
       "    .dataframe tbody tr th {\n",
       "        vertical-align: top;\n",
       "    }\n",
       "\n",
       "    .dataframe thead th {\n",
       "        text-align: right;\n",
       "    }\n",
       "</style>\n",
       "<table border=\"1\" class=\"dataframe\">\n",
       "  <thead>\n",
       "    <tr style=\"text-align: right;\">\n",
       "      <th></th>\n",
       "      <th>ecosystem</th>\n",
       "      <th>advisories</th>\n",
       "      <th>advisory_with_CVEs</th>\n",
       "      <th>packages</th>\n",
       "      <th>fixing_releases</th>\n",
       "      <th>cwe</th>\n",
       "    </tr>\n",
       "  </thead>\n",
       "  <tbody>\n",
       "    <tr>\n",
       "      <th>0</th>\n",
       "      <td>Composer</td>\n",
       "      <td>855</td>\n",
       "      <td>599</td>\n",
       "      <td>228</td>\n",
       "      <td>976</td>\n",
       "      <td>68</td>\n",
       "    </tr>\n",
       "    <tr>\n",
       "      <th>1</th>\n",
       "      <td>Go</td>\n",
       "      <td>235</td>\n",
       "      <td>190</td>\n",
       "      <td>183</td>\n",
       "      <td>293</td>\n",
       "      <td>50</td>\n",
       "    </tr>\n",
       "    <tr>\n",
       "      <th>2</th>\n",
       "      <td>Maven</td>\n",
       "      <td>1374</td>\n",
       "      <td>1132</td>\n",
       "      <td>694</td>\n",
       "      <td>1607</td>\n",
       "      <td>112</td>\n",
       "    </tr>\n",
       "    <tr>\n",
       "      <th>3</th>\n",
       "      <td>npm</td>\n",
       "      <td>792</td>\n",
       "      <td>474</td>\n",
       "      <td>540</td>\n",
       "      <td>858</td>\n",
       "      <td>82</td>\n",
       "    </tr>\n",
       "    <tr>\n",
       "      <th>4</th>\n",
       "      <td>NuGet</td>\n",
       "      <td>333</td>\n",
       "      <td>277</td>\n",
       "      <td>92</td>\n",
       "      <td>233</td>\n",
       "      <td>34</td>\n",
       "    </tr>\n",
       "    <tr>\n",
       "      <th>5</th>\n",
       "      <td>pip</td>\n",
       "      <td>567</td>\n",
       "      <td>404</td>\n",
       "      <td>269</td>\n",
       "      <td>534</td>\n",
       "      <td>84</td>\n",
       "    </tr>\n",
       "    <tr>\n",
       "      <th>6</th>\n",
       "      <td>RubyGems</td>\n",
       "      <td>221</td>\n",
       "      <td>168</td>\n",
       "      <td>121</td>\n",
       "      <td>311</td>\n",
       "      <td>47</td>\n",
       "    </tr>\n",
       "  </tbody>\n",
       "</table>\n",
       "</div>"
      ],
      "text/plain": [
       "  ecosystem  advisories  advisory_with_CVEs  packages  fixing_releases  cwe\n",
       "0  Composer         855                 599       228              976   68\n",
       "1        Go         235                 190       183              293   50\n",
       "2     Maven        1374                1132       694             1607  112\n",
       "3       npm         792                 474       540              858   82\n",
       "4     NuGet         333                 277        92              233   34\n",
       "5       pip         567                 404       269              534   84\n",
       "6  RubyGems         221                 168       121              311   47"
      ]
     },
     "metadata": {},
     "execution_count": 269
    }
   ],
   "metadata": {}
  },
  {
   "cell_type": "code",
   "execution_count": 283,
   "source": [
    "q= '''select count(*) from\n",
    "(select a.id, count(distinct fr.version)\n",
    "from advisory a\n",
    "join package p on a.package_id = p.id\n",
    "join fixing_releases fr on a.id = fr.advisory_id\n",
    "join advisoryCWE aC on a.id = aC.advisory_id\n",
    "where type != 'Malicious Package'\n",
    "and version != 'manual checkup needed'\n",
    "and ecosystem != 'cocoapods'\n",
    "and repository_url != 'no repository listed'\n",
    "group by a.id\n",
    "having count(distinct fr.version) > 1) as sub;'''\n",
    "df = pd.DataFrame(sql.execute(q))\n",
    "df"
   ],
   "outputs": [
    {
     "output_type": "execute_result",
     "data": {
      "text/html": [
       "<div>\n",
       "<style scoped>\n",
       "    .dataframe tbody tr th:only-of-type {\n",
       "        vertical-align: middle;\n",
       "    }\n",
       "\n",
       "    .dataframe tbody tr th {\n",
       "        vertical-align: top;\n",
       "    }\n",
       "\n",
       "    .dataframe thead th {\n",
       "        text-align: right;\n",
       "    }\n",
       "</style>\n",
       "<table border=\"1\" class=\"dataframe\">\n",
       "  <thead>\n",
       "    <tr style=\"text-align: right;\">\n",
       "      <th></th>\n",
       "      <th>count(*)</th>\n",
       "    </tr>\n",
       "  </thead>\n",
       "  <tbody>\n",
       "    <tr>\n",
       "      <th>0</th>\n",
       "      <td>1231</td>\n",
       "    </tr>\n",
       "  </tbody>\n",
       "</table>\n",
       "</div>"
      ],
      "text/plain": [
       "   count(*)\n",
       "0      1231"
      ]
     },
     "metadata": {},
     "execution_count": 283
    }
   ],
   "metadata": {}
  },
  {
   "cell_type": "code",
   "execution_count": 270,
   "source": [
    "df.loc[len(df)]=['Total',df['advisories'].sum(),df['advisory_with_CVEs'].sum(),df['packages'].sum(), df['fixing_releases'].sum(), total_cwes] \n",
    "table = df"
   ],
   "outputs": [],
   "metadata": {}
  },
  {
   "cell_type": "code",
   "execution_count": 271,
   "source": [
    "q = '''select distinct a.id, p.ecosystem, a.severity\n",
    "from advisory a\n",
    "join package p on a.package_id = p.id\n",
    "join fixing_releases fr on a.id = fr.advisory_id\n",
    "join advisoryCWE aC on a.id = aC.advisory_id\n",
    "where type != 'Malicious Package'\n",
    "and version != 'manual checkup needed'\n",
    "and ecosystem != 'cocoapods'\n",
    "and repository_url != 'no repository listed';'''\n",
    "sev = pd.DataFrame(sql.execute(q))\n",
    "l, m, h = sev[sev['severity']=='L'],sev[sev['severity']=='M'],sev[sev['severity']=='H']\n",
    "eco_l = l.groupby('ecosystem')[['severity']].count()\n",
    "eco_l = eco_l.rename(columns={'severity':'L'})\n",
    "eco_m = m.groupby('ecosystem')[['severity']].count()\n",
    "eco_m = eco_m.rename(columns={'severity':'M'})\n",
    "eco_h = h.groupby('ecosystem')[['severity']].count()\n",
    "eco_h = eco_h.rename(columns={'severity':'H'})\n",
    "sf=reduce(lambda x,y : pd.merge(x,y,on='ecosystem'),[eco_l, eco_m, eco_h])\n",
    "sf = sf.reset_index()\n",
    "l,m,h = len(l), len(m), len(h)\n",
    "sf.loc[len(df)] = ['Total',l,m,h]\n",
    "sf['T'] = sf.L + sf.M + sf.H\n",
    "sf['L'] = round(sf['L'] / sf['T'],2)\n",
    "sf['M'] = round(sf['M'] / sf['T'],2)\n",
    "sf['H'] = round(sf['H'] / sf['T'],2)\n",
    "sf['severity'] = sf[['L','M','H']].apply(tuple, axis=1)\n",
    "sf = sf.drop(['L','M','H','T'], axis=1)\n",
    "sf"
   ],
   "outputs": [
    {
     "output_type": "execute_result",
     "data": {
      "text/html": [
       "<div>\n",
       "<style scoped>\n",
       "    .dataframe tbody tr th:only-of-type {\n",
       "        vertical-align: middle;\n",
       "    }\n",
       "\n",
       "    .dataframe tbody tr th {\n",
       "        vertical-align: top;\n",
       "    }\n",
       "\n",
       "    .dataframe thead th {\n",
       "        text-align: right;\n",
       "    }\n",
       "</style>\n",
       "<table border=\"1\" class=\"dataframe\">\n",
       "  <thead>\n",
       "    <tr style=\"text-align: right;\">\n",
       "      <th></th>\n",
       "      <th>ecosystem</th>\n",
       "      <th>severity</th>\n",
       "    </tr>\n",
       "  </thead>\n",
       "  <tbody>\n",
       "    <tr>\n",
       "      <th>0</th>\n",
       "      <td>Composer</td>\n",
       "      <td>(0.04, 0.53, 0.43)</td>\n",
       "    </tr>\n",
       "    <tr>\n",
       "      <th>1</th>\n",
       "      <td>Go</td>\n",
       "      <td>(0.06, 0.54, 0.4)</td>\n",
       "    </tr>\n",
       "    <tr>\n",
       "      <th>2</th>\n",
       "      <td>Maven</td>\n",
       "      <td>(0.05, 0.54, 0.41)</td>\n",
       "    </tr>\n",
       "    <tr>\n",
       "      <th>3</th>\n",
       "      <td>NuGet</td>\n",
       "      <td>(0.02, 0.33, 0.66)</td>\n",
       "    </tr>\n",
       "    <tr>\n",
       "      <th>4</th>\n",
       "      <td>RubyGems</td>\n",
       "      <td>(0.03, 0.59, 0.38)</td>\n",
       "    </tr>\n",
       "    <tr>\n",
       "      <th>5</th>\n",
       "      <td>npm</td>\n",
       "      <td>(0.05, 0.47, 0.48)</td>\n",
       "    </tr>\n",
       "    <tr>\n",
       "      <th>6</th>\n",
       "      <td>pip</td>\n",
       "      <td>(0.06, 0.62, 0.32)</td>\n",
       "    </tr>\n",
       "    <tr>\n",
       "      <th>8</th>\n",
       "      <td>Total</td>\n",
       "      <td>(0.05, 0.52, 0.43)</td>\n",
       "    </tr>\n",
       "  </tbody>\n",
       "</table>\n",
       "</div>"
      ],
      "text/plain": [
       "  ecosystem            severity\n",
       "0  Composer  (0.04, 0.53, 0.43)\n",
       "1        Go   (0.06, 0.54, 0.4)\n",
       "2     Maven  (0.05, 0.54, 0.41)\n",
       "3     NuGet  (0.02, 0.33, 0.66)\n",
       "4  RubyGems  (0.03, 0.59, 0.38)\n",
       "5       npm  (0.05, 0.47, 0.48)\n",
       "6       pip  (0.06, 0.62, 0.32)\n",
       "8     Total  (0.05, 0.52, 0.43)"
      ]
     },
     "metadata": {},
     "execution_count": 271
    }
   ],
   "metadata": {}
  },
  {
   "cell_type": "code",
   "execution_count": 272,
   "source": [
    "df = reduce(lambda x,y : pd.merge(x,y,on='ecosystem'),[table, sf])\n",
    "df"
   ],
   "outputs": [
    {
     "output_type": "execute_result",
     "data": {
      "text/html": [
       "<div>\n",
       "<style scoped>\n",
       "    .dataframe tbody tr th:only-of-type {\n",
       "        vertical-align: middle;\n",
       "    }\n",
       "\n",
       "    .dataframe tbody tr th {\n",
       "        vertical-align: top;\n",
       "    }\n",
       "\n",
       "    .dataframe thead th {\n",
       "        text-align: right;\n",
       "    }\n",
       "</style>\n",
       "<table border=\"1\" class=\"dataframe\">\n",
       "  <thead>\n",
       "    <tr style=\"text-align: right;\">\n",
       "      <th></th>\n",
       "      <th>ecosystem</th>\n",
       "      <th>advisories</th>\n",
       "      <th>advisory_with_CVEs</th>\n",
       "      <th>packages</th>\n",
       "      <th>fixing_releases</th>\n",
       "      <th>cwe</th>\n",
       "      <th>severity</th>\n",
       "    </tr>\n",
       "  </thead>\n",
       "  <tbody>\n",
       "    <tr>\n",
       "      <th>0</th>\n",
       "      <td>Composer</td>\n",
       "      <td>855</td>\n",
       "      <td>599</td>\n",
       "      <td>228</td>\n",
       "      <td>976</td>\n",
       "      <td>68</td>\n",
       "      <td>(0.04, 0.53, 0.43)</td>\n",
       "    </tr>\n",
       "    <tr>\n",
       "      <th>1</th>\n",
       "      <td>Go</td>\n",
       "      <td>235</td>\n",
       "      <td>190</td>\n",
       "      <td>183</td>\n",
       "      <td>293</td>\n",
       "      <td>50</td>\n",
       "      <td>(0.06, 0.54, 0.4)</td>\n",
       "    </tr>\n",
       "    <tr>\n",
       "      <th>2</th>\n",
       "      <td>Maven</td>\n",
       "      <td>1374</td>\n",
       "      <td>1132</td>\n",
       "      <td>694</td>\n",
       "      <td>1607</td>\n",
       "      <td>112</td>\n",
       "      <td>(0.05, 0.54, 0.41)</td>\n",
       "    </tr>\n",
       "    <tr>\n",
       "      <th>3</th>\n",
       "      <td>npm</td>\n",
       "      <td>792</td>\n",
       "      <td>474</td>\n",
       "      <td>540</td>\n",
       "      <td>858</td>\n",
       "      <td>82</td>\n",
       "      <td>(0.05, 0.47, 0.48)</td>\n",
       "    </tr>\n",
       "    <tr>\n",
       "      <th>4</th>\n",
       "      <td>NuGet</td>\n",
       "      <td>333</td>\n",
       "      <td>277</td>\n",
       "      <td>92</td>\n",
       "      <td>233</td>\n",
       "      <td>34</td>\n",
       "      <td>(0.02, 0.33, 0.66)</td>\n",
       "    </tr>\n",
       "    <tr>\n",
       "      <th>5</th>\n",
       "      <td>pip</td>\n",
       "      <td>567</td>\n",
       "      <td>404</td>\n",
       "      <td>269</td>\n",
       "      <td>534</td>\n",
       "      <td>84</td>\n",
       "      <td>(0.06, 0.62, 0.32)</td>\n",
       "    </tr>\n",
       "    <tr>\n",
       "      <th>6</th>\n",
       "      <td>RubyGems</td>\n",
       "      <td>221</td>\n",
       "      <td>168</td>\n",
       "      <td>121</td>\n",
       "      <td>311</td>\n",
       "      <td>47</td>\n",
       "      <td>(0.03, 0.59, 0.38)</td>\n",
       "    </tr>\n",
       "    <tr>\n",
       "      <th>7</th>\n",
       "      <td>Total</td>\n",
       "      <td>4377</td>\n",
       "      <td>3244</td>\n",
       "      <td>2127</td>\n",
       "      <td>4812</td>\n",
       "      <td>172</td>\n",
       "      <td>(0.05, 0.52, 0.43)</td>\n",
       "    </tr>\n",
       "  </tbody>\n",
       "</table>\n",
       "</div>"
      ],
      "text/plain": [
       "  ecosystem  advisories  advisory_with_CVEs  packages  fixing_releases  cwe  \\\n",
       "0  Composer         855                 599       228              976   68   \n",
       "1        Go         235                 190       183              293   50   \n",
       "2     Maven        1374                1132       694             1607  112   \n",
       "3       npm         792                 474       540              858   82   \n",
       "4     NuGet         333                 277        92              233   34   \n",
       "5       pip         567                 404       269              534   84   \n",
       "6  RubyGems         221                 168       121              311   47   \n",
       "7     Total        4377                3244      2127             4812  172   \n",
       "\n",
       "             severity  \n",
       "0  (0.04, 0.53, 0.43)  \n",
       "1   (0.06, 0.54, 0.4)  \n",
       "2  (0.05, 0.54, 0.41)  \n",
       "3  (0.05, 0.47, 0.48)  \n",
       "4  (0.02, 0.33, 0.66)  \n",
       "5  (0.06, 0.62, 0.32)  \n",
       "6  (0.03, 0.59, 0.38)  \n",
       "7  (0.05, 0.52, 0.43)  "
      ]
     },
     "metadata": {},
     "execution_count": 272
    }
   ],
   "metadata": {}
  },
  {
   "cell_type": "code",
   "execution_count": 273,
   "source": [
    "df['non-CVEs'] = df['advisories'] - df['advisory_with_CVEs']\n",
    "df['percent'] = round (df['non-CVEs'] / df['advisories'] * 100 , 1)\n",
    "df['non-CVEs'] = df['non-CVEs'].map(str) + ' (' + df['percent'].map(str) +'%)'\n",
    "df['cve_noncve'] = df['percent'].map(str) +'%' \n",
    "df.drop('percent', axis = 1)\n",
    "df['percent'] = round (df['advisory_with_CVEs'] / df['advisories'] * 100 , 1)\n",
    "df['advisory_with_CVEs'] = df['advisory_with_CVEs'].map(str) + ' (' + df['percent'].map(str) +'%)'\n",
    "df.drop('percent', axis = 1)\n",
    "df['cve_noncve'] =  df['percent'].map(str) +'%/ ' + df['cve_noncve'].map(str)"
   ],
   "outputs": [],
   "metadata": {}
  },
  {
   "cell_type": "code",
   "execution_count": 274,
   "source": [
    "df.columns\n",
    "cols = ['ecosystem',  'advisories', 'packages', 'fixing_releases',  'cwe', 'severity', 'advisory_with_CVEs', 'non-CVEs', 'cve_noncve']\n",
    "df =df[cols]\n",
    "df"
   ],
   "outputs": [
    {
     "output_type": "execute_result",
     "data": {
      "text/html": [
       "<div>\n",
       "<style scoped>\n",
       "    .dataframe tbody tr th:only-of-type {\n",
       "        vertical-align: middle;\n",
       "    }\n",
       "\n",
       "    .dataframe tbody tr th {\n",
       "        vertical-align: top;\n",
       "    }\n",
       "\n",
       "    .dataframe thead th {\n",
       "        text-align: right;\n",
       "    }\n",
       "</style>\n",
       "<table border=\"1\" class=\"dataframe\">\n",
       "  <thead>\n",
       "    <tr style=\"text-align: right;\">\n",
       "      <th></th>\n",
       "      <th>ecosystem</th>\n",
       "      <th>advisories</th>\n",
       "      <th>packages</th>\n",
       "      <th>fixing_releases</th>\n",
       "      <th>cwe</th>\n",
       "      <th>severity</th>\n",
       "      <th>advisory_with_CVEs</th>\n",
       "      <th>non-CVEs</th>\n",
       "      <th>cve_noncve</th>\n",
       "    </tr>\n",
       "  </thead>\n",
       "  <tbody>\n",
       "    <tr>\n",
       "      <th>0</th>\n",
       "      <td>Composer</td>\n",
       "      <td>855</td>\n",
       "      <td>228</td>\n",
       "      <td>976</td>\n",
       "      <td>68</td>\n",
       "      <td>(0.04, 0.53, 0.43)</td>\n",
       "      <td>599 (70.1%)</td>\n",
       "      <td>256 (29.9%)</td>\n",
       "      <td>70.1%/ 29.9%</td>\n",
       "    </tr>\n",
       "    <tr>\n",
       "      <th>1</th>\n",
       "      <td>Go</td>\n",
       "      <td>235</td>\n",
       "      <td>183</td>\n",
       "      <td>293</td>\n",
       "      <td>50</td>\n",
       "      <td>(0.06, 0.54, 0.4)</td>\n",
       "      <td>190 (80.9%)</td>\n",
       "      <td>45 (19.1%)</td>\n",
       "      <td>80.9%/ 19.1%</td>\n",
       "    </tr>\n",
       "    <tr>\n",
       "      <th>2</th>\n",
       "      <td>Maven</td>\n",
       "      <td>1374</td>\n",
       "      <td>694</td>\n",
       "      <td>1607</td>\n",
       "      <td>112</td>\n",
       "      <td>(0.05, 0.54, 0.41)</td>\n",
       "      <td>1132 (82.4%)</td>\n",
       "      <td>242 (17.6%)</td>\n",
       "      <td>82.4%/ 17.6%</td>\n",
       "    </tr>\n",
       "    <tr>\n",
       "      <th>3</th>\n",
       "      <td>npm</td>\n",
       "      <td>792</td>\n",
       "      <td>540</td>\n",
       "      <td>858</td>\n",
       "      <td>82</td>\n",
       "      <td>(0.05, 0.47, 0.48)</td>\n",
       "      <td>474 (59.8%)</td>\n",
       "      <td>318 (40.2%)</td>\n",
       "      <td>59.8%/ 40.2%</td>\n",
       "    </tr>\n",
       "    <tr>\n",
       "      <th>4</th>\n",
       "      <td>NuGet</td>\n",
       "      <td>333</td>\n",
       "      <td>92</td>\n",
       "      <td>233</td>\n",
       "      <td>34</td>\n",
       "      <td>(0.02, 0.33, 0.66)</td>\n",
       "      <td>277 (83.2%)</td>\n",
       "      <td>56 (16.8%)</td>\n",
       "      <td>83.2%/ 16.8%</td>\n",
       "    </tr>\n",
       "    <tr>\n",
       "      <th>5</th>\n",
       "      <td>pip</td>\n",
       "      <td>567</td>\n",
       "      <td>269</td>\n",
       "      <td>534</td>\n",
       "      <td>84</td>\n",
       "      <td>(0.06, 0.62, 0.32)</td>\n",
       "      <td>404 (71.3%)</td>\n",
       "      <td>163 (28.7%)</td>\n",
       "      <td>71.3%/ 28.7%</td>\n",
       "    </tr>\n",
       "    <tr>\n",
       "      <th>6</th>\n",
       "      <td>RubyGems</td>\n",
       "      <td>221</td>\n",
       "      <td>121</td>\n",
       "      <td>311</td>\n",
       "      <td>47</td>\n",
       "      <td>(0.03, 0.59, 0.38)</td>\n",
       "      <td>168 (76.0%)</td>\n",
       "      <td>53 (24.0%)</td>\n",
       "      <td>76.0%/ 24.0%</td>\n",
       "    </tr>\n",
       "    <tr>\n",
       "      <th>7</th>\n",
       "      <td>Total</td>\n",
       "      <td>4377</td>\n",
       "      <td>2127</td>\n",
       "      <td>4812</td>\n",
       "      <td>172</td>\n",
       "      <td>(0.05, 0.52, 0.43)</td>\n",
       "      <td>3244 (74.1%)</td>\n",
       "      <td>1133 (25.9%)</td>\n",
       "      <td>74.1%/ 25.9%</td>\n",
       "    </tr>\n",
       "  </tbody>\n",
       "</table>\n",
       "</div>"
      ],
      "text/plain": [
       "  ecosystem  advisories  packages  fixing_releases  cwe            severity  \\\n",
       "0  Composer         855       228              976   68  (0.04, 0.53, 0.43)   \n",
       "1        Go         235       183              293   50   (0.06, 0.54, 0.4)   \n",
       "2     Maven        1374       694             1607  112  (0.05, 0.54, 0.41)   \n",
       "3       npm         792       540              858   82  (0.05, 0.47, 0.48)   \n",
       "4     NuGet         333        92              233   34  (0.02, 0.33, 0.66)   \n",
       "5       pip         567       269              534   84  (0.06, 0.62, 0.32)   \n",
       "6  RubyGems         221       121              311   47  (0.03, 0.59, 0.38)   \n",
       "7     Total        4377      2127             4812  172  (0.05, 0.52, 0.43)   \n",
       "\n",
       "  advisory_with_CVEs      non-CVEs    cve_noncve  \n",
       "0        599 (70.1%)   256 (29.9%)  70.1%/ 29.9%  \n",
       "1        190 (80.9%)    45 (19.1%)  80.9%/ 19.1%  \n",
       "2       1132 (82.4%)   242 (17.6%)  82.4%/ 17.6%  \n",
       "3        474 (59.8%)   318 (40.2%)  59.8%/ 40.2%  \n",
       "4        277 (83.2%)    56 (16.8%)  83.2%/ 16.8%  \n",
       "5        404 (71.3%)   163 (28.7%)  71.3%/ 28.7%  \n",
       "6        168 (76.0%)    53 (24.0%)  76.0%/ 24.0%  \n",
       "7       3244 (74.1%)  1133 (25.9%)  74.1%/ 25.9%  "
      ]
     },
     "metadata": {},
     "execution_count": 274
    }
   ],
   "metadata": {}
  },
  {
   "cell_type": "code",
   "execution_count": 275,
   "source": [
    "print(tabulate(df, tablefmt='latex', headers='keys',showindex=False))"
   ],
   "outputs": [
    {
     "output_type": "stream",
     "name": "stdout",
     "text": [
      "\\begin{tabular}{lrrrrllll}\n",
      "\\hline\n",
      " ecosystem   &   advisories &   packages &   fixing\\_releases &   cwe & severity           & advisory\\_with\\_CVEs   & non-CVEs     & cve\\_noncve   \\\\\n",
      "\\hline\n",
      " Composer    &          855 &        228 &               976 &    68 & (0.04, 0.53, 0.43) & 599 (70.1\\%)          & 256 (29.9\\%)  & 70.1\\%/ 29.9\\% \\\\\n",
      " Go          &          235 &        183 &               293 &    50 & (0.06, 0.54, 0.4)  & 190 (80.9\\%)          & 45 (19.1\\%)   & 80.9\\%/ 19.1\\% \\\\\n",
      " Maven       &         1374 &        694 &              1607 &   112 & (0.05, 0.54, 0.41) & 1132 (82.4\\%)         & 242 (17.6\\%)  & 82.4\\%/ 17.6\\% \\\\\n",
      " npm         &          792 &        540 &               858 &    82 & (0.05, 0.47, 0.48) & 474 (59.8\\%)          & 318 (40.2\\%)  & 59.8\\%/ 40.2\\% \\\\\n",
      " NuGet       &          333 &         92 &               233 &    34 & (0.02, 0.33, 0.66) & 277 (83.2\\%)          & 56 (16.8\\%)   & 83.2\\%/ 16.8\\% \\\\\n",
      " pip         &          567 &        269 &               534 &    84 & (0.06, 0.62, 0.32) & 404 (71.3\\%)          & 163 (28.7\\%)  & 71.3\\%/ 28.7\\% \\\\\n",
      " RubyGems    &          221 &        121 &               311 &    47 & (0.03, 0.59, 0.38) & 168 (76.0\\%)          & 53 (24.0\\%)   & 76.0\\%/ 24.0\\% \\\\\n",
      " Total       &         4377 &       2127 &              4812 &   172 & (0.05, 0.52, 0.43) & 3244 (74.1\\%)         & 1133 (25.9\\%) & 74.1\\%/ 25.9\\% \\\\\n",
      "\\hline\n",
      "\\end{tabular}\n"
     ]
    }
   ],
   "metadata": {}
  },
  {
   "cell_type": "code",
   "execution_count": null,
   "source": [],
   "outputs": [],
   "metadata": {}
  },
  {
   "cell_type": "code",
   "execution_count": 276,
   "source": [
    "df = df[['ecosystem',  'advisories','cve_noncve',  'packages', 'fixing_releases']]"
   ],
   "outputs": [],
   "metadata": {}
  },
  {
   "cell_type": "code",
   "execution_count": 277,
   "source": [
    "print(tabulate(df, tablefmt='latex', headers='keys',showindex=False))"
   ],
   "outputs": [
    {
     "output_type": "stream",
     "name": "stdout",
     "text": [
      "\\begin{tabular}{lrlrr}\n",
      "\\hline\n",
      " ecosystem   &   advisories & cve\\_noncve   &   packages &   fixing\\_releases \\\\\n",
      "\\hline\n",
      " Composer    &          855 & 70.1\\%/ 29.9\\% &        228 &               976 \\\\\n",
      " Go          &          235 & 80.9\\%/ 19.1\\% &        183 &               293 \\\\\n",
      " Maven       &         1374 & 82.4\\%/ 17.6\\% &        694 &              1607 \\\\\n",
      " npm         &          792 & 59.8\\%/ 40.2\\% &        540 &               858 \\\\\n",
      " NuGet       &          333 & 83.2\\%/ 16.8\\% &         92 &               233 \\\\\n",
      " pip         &          567 & 71.3\\%/ 28.7\\% &        269 &               534 \\\\\n",
      " RubyGems    &          221 & 76.0\\%/ 24.0\\% &        121 &               311 \\\\\n",
      " Total       &         4377 & 74.1\\%/ 25.9\\% &       2127 &              4812 \\\\\n",
      "\\hline\n",
      "\\end{tabular}\n"
     ]
    }
   ],
   "metadata": {}
  },
  {
   "cell_type": "code",
   "execution_count": 278,
   "source": [
    "q= '''select year(a.disclose_date) as disclose_year, count(distinct a.id) as count\n",
    "from advisory a\n",
    "join package p on a.package_id = p.id\n",
    "join fixing_releases fr on a.id = fr.advisory_id\n",
    "where type != 'Malicious Package'\n",
    "and version != 'manual checkup needed'\n",
    "and ecosystem != 'cocoapods'\n",
    "and repository_url != 'no repository listed'\n",
    "group by year(a.disclose_date);'''\n",
    "df = pd.DataFrame(sql.execute(q))\n",
    "df['cdf']=df['count'].cumsum()\n",
    "df = df.rename(columns = {'disclose_year':'Disclosure year', 'cdf':'CDF'})\n",
    "fig = df.plot(x='Disclosure year',y='CDF',kind='bar', title = 'Advisory count over the year').get_figure()"
   ],
   "outputs": [
    {
     "output_type": "display_data",
     "data": {
      "image/png": "[encoded data removed]",
      "text/plain": [
       "<Figure size 432x288 with 1 Axes>"
      ]
     },
     "metadata": {
      "needs_background": "light"
     }
    }
   ],
   "metadata": {}
  },
  {
   "cell_type": "code",
   "execution_count": 279,
   "source": [
    "fig.savefig('cdf_disclose.png')\n"
   ],
   "outputs": [],
   "metadata": {}
  },
  {
   "cell_type": "code",
   "execution_count": 280,
   "source": [
    "df"
   ],
   "outputs": [
    {
     "output_type": "execute_result",
     "data": {
      "text/html": [
       "<div>\n",
       "<style scoped>\n",
       "    .dataframe tbody tr th:only-of-type {\n",
       "        vertical-align: middle;\n",
       "    }\n",
       "\n",
       "    .dataframe tbody tr th {\n",
       "        vertical-align: top;\n",
       "    }\n",
       "\n",
       "    .dataframe thead th {\n",
       "        text-align: right;\n",
       "    }\n",
       "</style>\n",
       "<table border=\"1\" class=\"dataframe\">\n",
       "  <thead>\n",
       "    <tr style=\"text-align: right;\">\n",
       "      <th></th>\n",
       "      <th>Disclosure year</th>\n",
       "      <th>count</th>\n",
       "      <th>CDF</th>\n",
       "    </tr>\n",
       "  </thead>\n",
       "  <tbody>\n",
       "    <tr>\n",
       "      <th>0</th>\n",
       "      <td>2005</td>\n",
       "      <td>2</td>\n",
       "      <td>2</td>\n",
       "    </tr>\n",
       "    <tr>\n",
       "      <th>1</th>\n",
       "      <td>2006</td>\n",
       "      <td>4</td>\n",
       "      <td>6</td>\n",
       "    </tr>\n",
       "    <tr>\n",
       "      <th>2</th>\n",
       "      <td>2007</td>\n",
       "      <td>4</td>\n",
       "      <td>10</td>\n",
       "    </tr>\n",
       "    <tr>\n",
       "      <th>3</th>\n",
       "      <td>2008</td>\n",
       "      <td>10</td>\n",
       "      <td>20</td>\n",
       "    </tr>\n",
       "    <tr>\n",
       "      <th>4</th>\n",
       "      <td>2009</td>\n",
       "      <td>6</td>\n",
       "      <td>26</td>\n",
       "    </tr>\n",
       "    <tr>\n",
       "      <th>5</th>\n",
       "      <td>2010</td>\n",
       "      <td>45</td>\n",
       "      <td>71</td>\n",
       "    </tr>\n",
       "    <tr>\n",
       "      <th>6</th>\n",
       "      <td>2011</td>\n",
       "      <td>48</td>\n",
       "      <td>119</td>\n",
       "    </tr>\n",
       "    <tr>\n",
       "      <th>7</th>\n",
       "      <td>2012</td>\n",
       "      <td>105</td>\n",
       "      <td>224</td>\n",
       "    </tr>\n",
       "    <tr>\n",
       "      <th>8</th>\n",
       "      <td>2013</td>\n",
       "      <td>169</td>\n",
       "      <td>393</td>\n",
       "    </tr>\n",
       "    <tr>\n",
       "      <th>9</th>\n",
       "      <td>2014</td>\n",
       "      <td>203</td>\n",
       "      <td>596</td>\n",
       "    </tr>\n",
       "    <tr>\n",
       "      <th>10</th>\n",
       "      <td>2015</td>\n",
       "      <td>276</td>\n",
       "      <td>872</td>\n",
       "    </tr>\n",
       "    <tr>\n",
       "      <th>11</th>\n",
       "      <td>2016</td>\n",
       "      <td>393</td>\n",
       "      <td>1265</td>\n",
       "    </tr>\n",
       "    <tr>\n",
       "      <th>12</th>\n",
       "      <td>2017</td>\n",
       "      <td>449</td>\n",
       "      <td>1714</td>\n",
       "    </tr>\n",
       "    <tr>\n",
       "      <th>13</th>\n",
       "      <td>2018</td>\n",
       "      <td>742</td>\n",
       "      <td>2456</td>\n",
       "    </tr>\n",
       "    <tr>\n",
       "      <th>14</th>\n",
       "      <td>2019</td>\n",
       "      <td>691</td>\n",
       "      <td>3147</td>\n",
       "    </tr>\n",
       "    <tr>\n",
       "      <th>15</th>\n",
       "      <td>2020</td>\n",
       "      <td>1026</td>\n",
       "      <td>4173</td>\n",
       "    </tr>\n",
       "    <tr>\n",
       "      <th>16</th>\n",
       "      <td>2021</td>\n",
       "      <td>204</td>\n",
       "      <td>4377</td>\n",
       "    </tr>\n",
       "  </tbody>\n",
       "</table>\n",
       "</div>"
      ],
      "text/plain": [
       "    Disclosure year  count   CDF\n",
       "0              2005      2     2\n",
       "1              2006      4     6\n",
       "2              2007      4    10\n",
       "3              2008     10    20\n",
       "4              2009      6    26\n",
       "5              2010     45    71\n",
       "6              2011     48   119\n",
       "7              2012    105   224\n",
       "8              2013    169   393\n",
       "9              2014    203   596\n",
       "10             2015    276   872\n",
       "11             2016    393  1265\n",
       "12             2017    449  1714\n",
       "13             2018    742  2456\n",
       "14             2019    691  3147\n",
       "15             2020   1026  4173\n",
       "16             2021    204  4377"
      ]
     },
     "metadata": {},
     "execution_count": 280
    }
   ],
   "metadata": {}
  },
  {
   "cell_type": "code",
   "execution_count": 281,
   "source": [
    "(4377 - 872) / 4377"
   ],
   "outputs": [
    {
     "output_type": "execute_result",
     "data": {
      "text/plain": [
       "0.8007767877541695"
      ]
     },
     "metadata": {},
     "execution_count": 281
    }
   ],
   "metadata": {}
  },
  {
   "cell_type": "code",
   "execution_count": 282,
   "source": [
    "(4377 - 872)"
   ],
   "outputs": [
    {
     "output_type": "execute_result",
     "data": {
      "text/plain": [
       "3505"
      ]
     },
     "metadata": {},
     "execution_count": 282
    }
   ],
   "metadata": {}
  },
  {
   "cell_type": "code",
   "execution_count": null,
   "source": [],
   "outputs": [],
   "metadata": {}
  }
 ]
}