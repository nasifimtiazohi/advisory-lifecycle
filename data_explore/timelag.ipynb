{
 "metadata": {
  "language_info": {
   "codemirror_mode": {
    "name": "ipython",
    "version": 3
   },
   "file_extension": ".py",
   "mimetype": "text/x-python",
   "name": "python",
   "nbconvert_exporter": "python",
   "pygments_lexer": "ipython3",
   "version": "3.9.2-final"
  },
  "orig_nbformat": 2,
  "kernelspec": {
   "name": "python3",
   "display_name": "Python 3.9.2 64-bit ('advisory-lifecycle': venv)",
   "metadata": {
    "interpreter": {
     "hash": "45e6bb90db539892217150e51eb80500a9bf028439c0d739bd24c7b8d42327c6"
    }
   }
  }
 },
 "nbformat": 4,
 "nbformat_minor": 2,
 "cells": [
  {
   "cell_type": "code",
   "execution_count": 1,
   "metadata": {},
   "outputs": [],
   "source": [
    "import sys\n",
    "import sql\n",
    "import pandas as pd\n",
    "from functools import reduce\n",
    "import datetime\n",
    "import matplotlib.pyplot as plt"
   ]
  },
  {
   "cell_type": "code",
   "execution_count": 2,
   "metadata": {},
   "outputs": [
    {
     "output_type": "execute_result",
     "data": {
      "text/plain": [
       "   ecosystem  fixed  packages  commits  fc2.packages\n",
       "0      Maven   1697       925      863           533\n",
       "1   Composer    870       241      218           119\n",
       "2        npm    810       555      550           418\n",
       "3        pip    657       331      332           222\n",
       "4      NuGet    381       122       93            53\n",
       "5         Go    236       184      157           129\n",
       "6   RubyGems    227       124      120            85\n",
       "7  cocoapods     76        16       63            13"
      ],
      "text/html": "<div>\n<style scoped>\n    .dataframe tbody tr th:only-of-type {\n        vertical-align: middle;\n    }\n\n    .dataframe tbody tr th {\n        vertical-align: top;\n    }\n\n    .dataframe thead th {\n        text-align: right;\n    }\n</style>\n<table border=\"1\" class=\"dataframe\">\n  <thead>\n    <tr style=\"text-align: right;\">\n      <th></th>\n      <th>ecosystem</th>\n      <th>fixed</th>\n      <th>packages</th>\n      <th>commits</th>\n      <th>fc2.packages</th>\n    </tr>\n  </thead>\n  <tbody>\n    <tr>\n      <th>0</th>\n      <td>Maven</td>\n      <td>1697</td>\n      <td>925</td>\n      <td>863</td>\n      <td>533</td>\n    </tr>\n    <tr>\n      <th>1</th>\n      <td>Composer</td>\n      <td>870</td>\n      <td>241</td>\n      <td>218</td>\n      <td>119</td>\n    </tr>\n    <tr>\n      <th>2</th>\n      <td>npm</td>\n      <td>810</td>\n      <td>555</td>\n      <td>550</td>\n      <td>418</td>\n    </tr>\n    <tr>\n      <th>3</th>\n      <td>pip</td>\n      <td>657</td>\n      <td>331</td>\n      <td>332</td>\n      <td>222</td>\n    </tr>\n    <tr>\n      <th>4</th>\n      <td>NuGet</td>\n      <td>381</td>\n      <td>122</td>\n      <td>93</td>\n      <td>53</td>\n    </tr>\n    <tr>\n      <th>5</th>\n      <td>Go</td>\n      <td>236</td>\n      <td>184</td>\n      <td>157</td>\n      <td>129</td>\n    </tr>\n    <tr>\n      <th>6</th>\n      <td>RubyGems</td>\n      <td>227</td>\n      <td>124</td>\n      <td>120</td>\n      <td>85</td>\n    </tr>\n    <tr>\n      <th>7</th>\n      <td>cocoapods</td>\n      <td>76</td>\n      <td>16</td>\n      <td>63</td>\n      <td>13</td>\n    </tr>\n  </tbody>\n</table>\n</div>"
     },
     "metadata": {},
     "execution_count": 2
    }
   ],
   "source": [
    "q = '''with fix_commits as\n",
    "    (select ecosystem, count(distinct advisory_id) as commits,\n",
    "            count(distinct p.id) as packages\n",
    "    from fix_commits fc\n",
    "    join advisory a on fc.advisory_id = a.id\n",
    "    join package p on a.package_id = p.id\n",
    "    group by ecosystem),\n",
    "  fixed_advisories as\n",
    "      (select ecosystem, count(distinct advisory_id) as fixed,\n",
    "              count(distinct p.id) as packages\n",
    "    from fixing_releases fr\n",
    "    join advisory a on fr.advisory_id = a.id\n",
    "    join package p on a.package_id = p.id\n",
    "    group by ecosystem)\n",
    "    select fa.ecosystem, fixed, fa.packages, commits, fc2.packages\n",
    "    from fix_commits fc2\n",
    "        join fixed_advisories fa\n",
    "    on fc2.ecosystem=fa.ecosystem\n",
    "    order by fixed desc;'''\n",
    "df = pd.DataFrame(sql.execute(q))\n",
    "df"
   ]
  },
  {
   "cell_type": "code",
   "execution_count": null,
   "metadata": {},
   "outputs": [],
   "source": []
  }
 ]
}